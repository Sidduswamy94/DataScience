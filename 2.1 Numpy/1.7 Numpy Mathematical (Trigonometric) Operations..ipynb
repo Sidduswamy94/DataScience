{
 "cells": [
  {
   "cell_type": "markdown",
   "id": "38a71bc9",
   "metadata": {},
   "source": [
    "# <p style='text-align: center;'> Numpy Mathematical (Trigonometric) Operations. </p>"
   ]
  },
  {
   "cell_type": "markdown",
   "id": "5295b577",
   "metadata": {},
   "source": [
    "- Numpy contains the trigonometric functions which are used to calculate the sin, cos, tan, log and exp functions."
   ]
  },
  {
   "cell_type": "code",
   "execution_count": 9,
   "id": "d1915c86",
   "metadata": {},
   "outputs": [
    {
     "name": "stdout",
     "output_type": "stream",
     "text": [
      "Containts of ndarray(a):\n",
      "[0 1 2 3 4 5]\n",
      "--------------------------------------------------\n",
      "printing the sin values of ndarray object\n",
      "[ 0.          0.84147098  0.90929743  0.14112001 -0.7568025  -0.95892427]\n",
      "--------------------------------------------------\n",
      "printing the cos values of ndarray object\n",
      "[ 1.          0.54030231 -0.41614684 -0.9899925  -0.65364362  0.28366219]\n",
      "--------------------------------------------------\n",
      "printing the tan values of ndarray object\n",
      "[ 0.          1.55740772 -2.18503986 -0.14254654  1.15782128 -3.38051501]\n",
      "--------------------------------------------------\n",
      "printing the exp() values of ndarray object\n",
      "[  1.           2.71828183   7.3890561   20.08553692  54.59815003\n",
      " 148.4131591 ]\n",
      "--------------------------------------------------\n",
      "printing the log values of ndarray object\n",
      "[      -inf 0.         0.69314718 1.09861229 1.38629436 1.60943791]\n",
      "--------------------------------------------------\n"
     ]
    },
    {
     "name": "stderr",
     "output_type": "stream",
     "text": [
      "C:\\Users\\Administrator\\AppData\\Local\\Temp\\ipykernel_14880\\4274514059.py:36: RuntimeWarning: divide by zero encountered in log\n",
      "  print(np.log(a))\n"
     ]
    }
   ],
   "source": [
    "# WAPP to demonstrate the Mathematical (Trigonometric) Operations in Numpy.\n",
    "\n",
    "# importing numpy as alias_name np\n",
    "import numpy as np\n",
    "\n",
    "# create an object of ndarray. \n",
    "a=np.array([0,1,2,3,4,5])\n",
    "\n",
    "# print the ndarray object on console.\n",
    "print(\"Containts of ndarray(a):\")\n",
    "print(a)\n",
    "print(\"-\"*50)\n",
    "\n",
    "# celculate the sin() of given ndarray object and print it.\n",
    "print(\"printing the sin values of ndarray object\") \n",
    "print(np.sin(a))\n",
    "print(\"-\"*50)\n",
    "\n",
    "# celculate the cos() of given ndarray object and print it.\n",
    "print(\"printing the cos values of ndarray object\") \n",
    "print(np.cos(a))\n",
    "print(\"-\"*50)\n",
    "\n",
    "# celculate the tan() of given ndarray object and print it.\n",
    "print(\"printing the tan values of ndarray object\") \n",
    "print(np.tan(a))\n",
    "print(\"-\"*50)\n",
    "\n",
    "# celculate the exp() of given ndarray object and print it.\n",
    "print(\"printing the exp() values of ndarray object\") \n",
    "print(np.exp(a))\n",
    "print(\"-\"*50)\n",
    "\n",
    "# celculate the log() of given ndarray object and print it.\n",
    "print(\"printing the log values of ndarray object\") \n",
    "print(np.log(a))\n",
    "print(\"-\"*50)"
   ]
  }
 ],
 "metadata": {
  "kernelspec": {
   "display_name": "Python 3 (ipykernel)",
   "language": "python",
   "name": "python3"
  },
  "language_info": {
   "codemirror_mode": {
    "name": "ipython",
    "version": 3
   },
   "file_extension": ".py",
   "mimetype": "text/x-python",
   "name": "python",
   "nbconvert_exporter": "python",
   "pygments_lexer": "ipython3",
   "version": "3.9.13"
  }
 },
 "nbformat": 4,
 "nbformat_minor": 5
}
