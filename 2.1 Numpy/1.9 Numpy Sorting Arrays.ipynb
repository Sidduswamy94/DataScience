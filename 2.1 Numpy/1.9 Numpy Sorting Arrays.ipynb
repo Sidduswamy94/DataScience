{
 "cells": [
  {
   "cell_type": "markdown",
   "id": "89978286",
   "metadata": {},
   "source": [
    "# <p style='text-align: center;'> Numpy Sorting Arrays </p>"
   ]
  },
  {
   "cell_type": "markdown",
   "id": "f288d0f7",
   "metadata": {},
   "source": [
    "- Sorting is nothing arranging the elements in an ordered sequence.\n",
    "\n",
    "\n",
    "- Ordered sequence is any sequence that has an order corresponding to elements, like numeric or alphabetical, \n",
    "  ascending or descending.\n",
    "\n",
    "\n",
    "- The Numpy ndarray object has a function called sort(), that will sort a specified array.\n",
    "\n",
    "\n",
    "- <b> Syntax : - numpy.sort(ndarrayobject)\n",
    "    \n",
    "    \n",
    "- If you use the sort() method on a 2-D array, both columns and Rows of ndarray will be sorted.\n"
   ]
  },
  {
   "cell_type": "markdown",
   "id": "95c92bcd",
   "metadata": {},
   "source": [
    "-------------------------------\n",
    "#### Examples :\n",
    "-----------------------------"
   ]
  },
  {
   "cell_type": "code",
   "execution_count": 3,
   "id": "ec46b406",
   "metadata": {},
   "outputs": [
    {
     "name": "stdout",
     "output_type": "stream",
     "text": [
      "Containts of ndarray(a):\n",
      "[70 20 80 40 90 60]\n",
      "--------------------------------------------------\n",
      "Containts of sorted array in ascending order:\n",
      "[20 40 60 70 80 90]\n"
     ]
    }
   ],
   "source": [
    "# WAPP to sort the given (1D) ndarray in ascending order by using sort() function.\n",
    "\n",
    "# importing numpy as alias_name np\n",
    "import numpy as np\n",
    "\n",
    "# create an object of ndarray. \n",
    "a=np.array([70,20,80,40,90,60])\n",
    "\n",
    "# print the ndarray object on console.\n",
    "print(\"Containts of ndarray(a):\")\n",
    "print(a)\n",
    "print(\"-\"*50)\n",
    "\n",
    "# Pass the array to the sort() method and Print the resultant array.\n",
    "print(\"Containts of sorted array in ascending order:\")\n",
    "print(np.sort(a))"
   ]
  },
  {
   "cell_type": "code",
   "execution_count": 4,
   "id": "ea829e78",
   "metadata": {},
   "outputs": [
    {
     "name": "stdout",
     "output_type": "stream",
     "text": [
      "Containts of ndarray(a):\n",
      "[70 20 80 40 90 60]\n",
      "--------------------------------------------------\n",
      "Containts of sorted array in descending order:\n",
      "[90 80 70 60 40 20]\n"
     ]
    }
   ],
   "source": [
    "# WAPP to sort the given (1D) ndarray in descending order by using sort() function.\n",
    "\n",
    "# importing numpy as alias_name np\n",
    "import numpy as np\n",
    "\n",
    "# create an object of ndarray. \n",
    "a=np.array([70,20,80,40,90,60])\n",
    "\n",
    "# print the ndarray object on console.\n",
    "print(\"Containts of ndarray(a):\")\n",
    "print(a)\n",
    "print(\"-\"*50)\n",
    "\n",
    "''' Pass the array to the sort() method and reverse the returned array using slicing \n",
    "    i.e array[::-1] and Print the resultant array.'''\n",
    "\n",
    "print(\"Containts of sorted array in descending order:\")\n",
    "print(np.sort(a)[::-1])"
   ]
  },
  {
   "cell_type": "code",
   "execution_count": 5,
   "id": "36fa0bfa",
   "metadata": {},
   "outputs": [
    {
     "name": "stdout",
     "output_type": "stream",
     "text": [
      "Containts of ndarray(b):\n",
      "['Ram' 'Kiran' 'Hari' 'Sonu' 'Mahesh']\n",
      "--------------------------------------------------\n",
      "Containts of sorted array in ascending order:\n",
      "['Hari' 'Kiran' 'Mahesh' 'Ram' 'Sonu']\n"
     ]
    }
   ],
   "source": [
    "# WAPP to sort the given (1D) ndarray in ascending order by using sort() function.\n",
    "\n",
    "# importing numpy as alias_name np\n",
    "import numpy as np\n",
    "\n",
    "# create an object of ndarray. \n",
    "b=np.array([\"Ram\",\"Kiran\",\"Hari\",\"Sonu\",\"Mahesh\"])\n",
    "\n",
    "# print the ndarray object on console.\n",
    "print(\"Containts of ndarray(b):\")\n",
    "print(b)\n",
    "print(\"-\"*50)\n",
    "\n",
    "# Pass the array to the sort() method and Print the resultant array.\n",
    "print(\"Containts of sorted array in ascending order:\")\n",
    "print(np.sort(b))"
   ]
  },
  {
   "cell_type": "code",
   "execution_count": 6,
   "id": "4b83b0f8",
   "metadata": {},
   "outputs": [
    {
     "name": "stdout",
     "output_type": "stream",
     "text": [
      "Containts of ndarray(b):\n",
      "['Ram' 'Kiran' 'Hari' 'Sonu' 'Mahesh']\n",
      "--------------------------------------------------\n",
      "Containts of sorted array in descending order:\n",
      "['Sonu' 'Ram' 'Mahesh' 'Kiran' 'Hari']\n"
     ]
    }
   ],
   "source": [
    "# WAPP to sort the given (1D) ndarray in descending order by using sort() function.\n",
    "\n",
    "# importing numpy as alias_name np\n",
    "import numpy as np\n",
    "\n",
    "# create an object of ndarray. \n",
    "b=np.array([\"Ram\",\"Kiran\",\"Hari\",\"Sonu\",\"Mahesh\"])\n",
    "\n",
    "# print the ndarray object on console.\n",
    "print(\"Containts of ndarray(b):\")\n",
    "print(b)\n",
    "print(\"-\"*50)\n",
    "\n",
    "''' Pass the array to the sort() method and reverse the returned array using slicing \n",
    "    i.e array[::-1] and Print the resultant array.'''\n",
    "\n",
    "print(\"Containts of sorted array in descending order:\")\n",
    "print(np.sort(b)[::-1])"
   ]
  },
  {
   "cell_type": "code",
   "execution_count": 7,
   "id": "a578c3ed",
   "metadata": {},
   "outputs": [
    {
     "name": "stdout",
     "output_type": "stream",
     "text": [
      "Containts of ndarray(a):\n",
      "[[80 60 90]\n",
      " [ 4  1  7]]\n",
      "--------------------------------------------------\n",
      "Containts of sorted array in ascending order:\n",
      "[[60 80 90]\n",
      " [ 1  4  7]]\n"
     ]
    }
   ],
   "source": [
    "# WAPP to sort the given (2D) ndarray in ascending order by using sort() function.\n",
    "\n",
    "# importing numpy as alias_name np\n",
    "import numpy as np\n",
    "\n",
    "# create an object of ndarray. \n",
    "a=np.array([[80,60,90],[4,1,7]])\n",
    "\n",
    "# print the ndarray object on console.\n",
    "print(\"Containts of ndarray(a):\")\n",
    "print(a)\n",
    "print(\"-\"*50)\n",
    "\n",
    "# Pass the array to the sort() method and Print the resultant array.\n",
    "print(\"Containts of sorted array in ascending order:\")\n",
    "print(np.sort(a))"
   ]
  },
  {
   "cell_type": "code",
   "execution_count": 8,
   "id": "ee419bc3",
   "metadata": {},
   "outputs": [
    {
     "name": "stdout",
     "output_type": "stream",
     "text": [
      "Containts of ndarray(x):\n",
      "[[80 60 90]\n",
      " [ 4  1  7]]\n",
      "--------------------------------------------------\n",
      "Containts of sorted array in descending order:\n",
      "[[ 1  4  7]\n",
      " [60 80 90]]\n"
     ]
    }
   ],
   "source": [
    "# WAPP to sort the given (2D) ndarray in descending order by using sort() function.\n",
    "\n",
    "# importing numpy as alias_name np\n",
    "import numpy as np\n",
    "\n",
    "# create an object of ndarray. \n",
    "x=np.array([[80,60,90],[4,1,7]])\n",
    "\n",
    "# print the ndarray object on console.\n",
    "print(\"Containts of ndarray(x):\")\n",
    "print(x)\n",
    "print(\"-\"*50)\n",
    "\n",
    "''' Pass the array to the sort() method and reverse the returned array using slicing \n",
    "    i.e array[::-1] and Print the resultant array.'''\n",
    "\n",
    "print(\"Containts of sorted array in descending order:\")\n",
    "print(np.sort(x)[::-1])"
   ]
  },
  {
   "cell_type": "code",
   "execution_count": 18,
   "id": "24b094aa",
   "metadata": {},
   "outputs": [
    {
     "name": "stdout",
     "output_type": "stream",
     "text": [
      "Containts of ndarray(a):\n",
      "[[80 60 90]\n",
      " [ 4  1  7]]\n",
      "--------------------------------------------------\n",
      "Containts of sorted array in column_wise ascending order:\n",
      "[[ 4  1  7]\n",
      " [80 60 90]]\n"
     ]
    }
   ],
   "source": [
    "# WAPP to sort the given (2D) ndarray in Column-Wise ascending order by using sort() function.\n",
    "\n",
    "# importing numpy as alias_name np\n",
    "import numpy as np\n",
    "\n",
    "# create an object of ndarray. \n",
    "a=np.array([[80,60,90],[4,1,7]])\n",
    "\n",
    "# print the ndarray object on console.\n",
    "print(\"Containts of ndarray(a):\")\n",
    "print(a)\n",
    "print(\"-\"*50)\n",
    "\n",
    "# Pass the array to the sort() method and Print the resultant array.\n",
    "print(\"Containts of sorted array in column_wise ascending order:\")\n",
    "print(np.sort(a,axis=0))         # axis=0 it will takes column-wise."
   ]
  },
  {
   "cell_type": "code",
   "execution_count": 17,
   "id": "bff68c00",
   "metadata": {},
   "outputs": [
    {
     "name": "stdout",
     "output_type": "stream",
     "text": [
      "Containts of ndarray(x):\n",
      "[[80 60 90]\n",
      " [ 4  1  7]]\n",
      "--------------------------------------------------\n",
      "Containts of sorted array in column_wise descending order:\n",
      "[[80 60 90]\n",
      " [ 4  1  7]]\n"
     ]
    }
   ],
   "source": [
    "# WAPP to sort the given (2D) ndarray in Column-Wise descending order by using sort() function.\n",
    "\n",
    "# importing numpy as alias_name np\n",
    "import numpy as np\n",
    "\n",
    "# create an object of ndarray. \n",
    "x=np.array([[80,60,90],[4,1,7]])\n",
    "\n",
    "# print the ndarray object on console.\n",
    "print(\"Containts of ndarray(x):\")\n",
    "print(x)\n",
    "print(\"-\"*50)\n",
    "\n",
    "''' Pass the array to the sort() method and reverse the returned array using slicing \n",
    "    i.e array[::-1] and Print the resultant array.'''\n",
    "\n",
    "print(\"Containts of sorted array in column_wise descending order:\")\n",
    "print(np.sort(x, axis=0)[::-1])    # axis=0 it will takes column-wise."
   ]
  },
  {
   "cell_type": "code",
   "execution_count": 16,
   "id": "e8628dca",
   "metadata": {},
   "outputs": [
    {
     "name": "stdout",
     "output_type": "stream",
     "text": [
      "Containts of ndarray(a):\n",
      "[[80 60 90]\n",
      " [ 4  1  7]]\n",
      "--------------------------------------------------\n",
      "Containts of sorted array in Row-wise ascending order:\n",
      "[[60 80 90]\n",
      " [ 1  4  7]]\n"
     ]
    }
   ],
   "source": [
    "# WAPP to sort the given (2D) ndarray in Row-Wise ascending order by using sort() function.\n",
    "\n",
    "# importing numpy as alias_name np\n",
    "import numpy as np\n",
    "\n",
    "# create an object of ndarray. \n",
    "a=np.array([[80,60,90],[4,1,7]])\n",
    "\n",
    "# print the ndarray object on console.\n",
    "print(\"Containts of ndarray(a):\")\n",
    "print(a)\n",
    "print(\"-\"*50)\n",
    "\n",
    "# Pass the array to the sort() method and Print the resultant array.\n",
    "print(\"Containts of sorted array in Row-wise ascending order:\")\n",
    "print(np.sort(a,axis=1))         # axis=1 it will takes Row-wise."
   ]
  },
  {
   "cell_type": "code",
   "execution_count": 13,
   "id": "91d9d7dd",
   "metadata": {},
   "outputs": [
    {
     "name": "stdout",
     "output_type": "stream",
     "text": [
      "Containts of ndarray(x):\n",
      "[[80 60 90]\n",
      " [ 4  1  7]]\n",
      "--------------------------------------------------\n",
      "Containts of sorted array in Row-wise descending order:\n",
      "[[ 1  4  7]\n",
      " [60 80 90]]\n"
     ]
    }
   ],
   "source": [
    "# WAPP to sort the given (2D) ndarray in Row-Wise descending order by using sort() function.\n",
    "\n",
    "# importing numpy as alias_name np\n",
    "import numpy as np\n",
    "\n",
    "# create an object of ndarray. \n",
    "x=np.array([[80,60,90],[4,1,7]])\n",
    "\n",
    "# print the ndarray object on console.\n",
    "print(\"Containts of ndarray(x):\")\n",
    "print(x)\n",
    "print(\"-\"*50)\n",
    "\n",
    "''' Pass the array to the sort() method and reverse the returned array using slicing \n",
    "    i.e array[::-1] and Print the resultant array.'''\n",
    "\n",
    "print(\"Containts of sorted array in Row-wise descending order:\")\n",
    "print(np.sort(x, axis=1)[::-1])    # axis=1 it will takes Row-wise."
   ]
  }
 ],
 "metadata": {
  "kernelspec": {
   "display_name": "Python 3 (ipykernel)",
   "language": "python",
   "name": "python3"
  },
  "language_info": {
   "codemirror_mode": {
    "name": "ipython",
    "version": 3
   },
   "file_extension": ".py",
   "mimetype": "text/x-python",
   "name": "python",
   "nbconvert_exporter": "python",
   "pygments_lexer": "ipython3",
   "version": "3.9.13"
  }
 },
 "nbformat": 4,
 "nbformat_minor": 5
}
