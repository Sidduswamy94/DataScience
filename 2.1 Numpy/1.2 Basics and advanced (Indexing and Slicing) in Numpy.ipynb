{
 "cells": [
  {
   "cell_type": "markdown",
   "id": "5a1909c1",
   "metadata": {},
   "source": [
    "# <p style='text-align: center;'> Numpy---Basic Indexing </p>"
   ]
  },
  {
   "cell_type": "markdown",
   "id": "3a3cbc46",
   "metadata": {},
   "source": [
    "- If we want to access Single element of 1D, 2D and N-D arrays we must use the concept of Basic Indexing."
   ]
  },
  {
   "cell_type": "markdown",
   "id": "14bb27e5",
   "metadata": {},
   "source": [
    "--------------------------\n",
    "### Accessing Single Element 1D-Array:\n",
    "----------------------------\n",
    "- <b> Syntax: -     ndarrayname [Index]\n",
    "    \n",
    "    \n",
    "- Here 'index' can be either +ve or -ve indexing.\n",
    "    "
   ]
  },
  {
   "cell_type": "code",
   "execution_count": 1,
   "id": "ec78a91a",
   "metadata": {},
   "outputs": [
    {
     "name": "stdout",
     "output_type": "stream",
     "text": [
      "[10 20 30 40 50 60] <class 'numpy.ndarray'>\n"
     ]
    },
    {
     "data": {
      "text/plain": [
       "20"
      ]
     },
     "execution_count": 1,
     "metadata": {},
     "output_type": "execute_result"
    }
   ],
   "source": [
    "# WAPP which will access a single elements from 1D array.\n",
    "\n",
    "# importing numpy as alias_name np\n",
    "import numpy as np\n",
    "\n",
    "# create an object of ndarray. \n",
    "a=np.array([10,20,30,40,50,60])\n",
    "\n",
    "# print the ndarray and its type.\n",
    "print(a,type(a))\n",
    "\n",
    "# Accessing the \"20\" value from \"a\" object.\n",
    "a[1]       # putting index=1 in arrayobj."
   ]
  },
  {
   "cell_type": "code",
   "execution_count": 17,
   "id": "c8da4152",
   "metadata": {},
   "outputs": [
    {
     "data": {
      "text/plain": [
       "50"
      ]
     },
     "execution_count": 17,
     "metadata": {},
     "output_type": "execute_result"
    }
   ],
   "source": [
    "# Accessing the \"50\" value from \"a\" object.\n",
    "a[4]       # putting index=4 in arrayobj."
   ]
  },
  {
   "cell_type": "code",
   "execution_count": 18,
   "id": "1da12892",
   "metadata": {},
   "outputs": [
    {
     "data": {
      "text/plain": [
       "30"
      ]
     },
     "execution_count": 18,
     "metadata": {},
     "output_type": "execute_result"
    }
   ],
   "source": [
    "# Accessing the \"30\" value from \"a\" object by (-ve) indexing.\n",
    "a[-4]       # putting index=-4 in arrayobj."
   ]
  },
  {
   "cell_type": "markdown",
   "id": "dc7cdfd3",
   "metadata": {},
   "source": [
    "--------------------------\n",
    "### Accessing single Element of 2D-Array :\n",
    "----------------------------\n",
    "- <b> Syntax: -  ndarrayobj[row index, column index] \n",
    "        "
   ]
  },
  {
   "cell_type": "code",
   "execution_count": 2,
   "id": "656af29e",
   "metadata": {},
   "outputs": [
    {
     "name": "stdout",
     "output_type": "stream",
     "text": [
      "[[1 2 3]\n",
      " [4 5 6]] <class 'numpy.ndarray'>\n"
     ]
    },
    {
     "data": {
      "text/plain": [
       "4"
      ]
     },
     "execution_count": 2,
     "metadata": {},
     "output_type": "execute_result"
    }
   ],
   "source": [
    "# WAPP which will access a single elements from 2D array.\n",
    "\n",
    "# importing numpy as alias_name np\n",
    "import numpy as np\n",
    "\n",
    "# create an object of ndarray. \n",
    "b=np.array([[1,2,3],[4,5,6]])\n",
    "\n",
    "# print the ndarray and its type.\n",
    "print(b,type(b))\n",
    "\n",
    "# Accessing the \"4\" value from \"b\" object.\n",
    "b[1,0]       # putting index=[1,0] in arrayobj.\n",
    "             # Here row-index=1 and col-index=0"
   ]
  },
  {
   "cell_type": "code",
   "execution_count": 20,
   "id": "7c6ca5fc",
   "metadata": {},
   "outputs": [
    {
     "data": {
      "text/plain": [
       "3"
      ]
     },
     "execution_count": 20,
     "metadata": {},
     "output_type": "execute_result"
    }
   ],
   "source": [
    "# Accessing the \"3\" value from \"b\" object.\n",
    "b[0,2]       # putting index=[0,2] in arrayobj.\n",
    "             # Here row-index=0 and col-index=2"
   ]
  },
  {
   "cell_type": "markdown",
   "id": "68e58635",
   "metadata": {},
   "source": [
    "------------------------------------------------------\n",
    "### Accessing single Element of 3D-Array :\n",
    "----------------------------------------------------\n",
    "- <b> Syntax: - ndarrayobj[Index of matrix, row index, column index]"
   ]
  },
  {
   "cell_type": "code",
   "execution_count": 8,
   "id": "af5226c3",
   "metadata": {},
   "outputs": [
    {
     "name": "stdout",
     "output_type": "stream",
     "text": [
      "[[[11 12 13]]\n",
      "\n",
      " [[14 15 16]]\n",
      "\n",
      " [[ 7  8  9]]] <class 'numpy.ndarray'>\n"
     ]
    },
    {
     "data": {
      "text/plain": [
       "8"
      ]
     },
     "execution_count": 8,
     "metadata": {},
     "output_type": "execute_result"
    }
   ],
   "source": [
    "# WAPP which will access a single elements from 3D array.\n",
    "\n",
    "# importing numpy as alias_name np\n",
    "import numpy as np\n",
    "\n",
    "# create an object of ndarray. \n",
    "c=np.array([[[11,12,13]],[[14,15,16]],[[7,8,9]]])\n",
    "\n",
    "# print the ndarray and its type.\n",
    "print(c,type(c))\n",
    "\n",
    "# Accessing the \"8\" value from \"c\" object.\n",
    "c[2,0,1]       # putting index=[2,0,1] in arrayobj.\n",
    "             # Here matrix-index=2, row-index=0 and col-index=1."
   ]
  },
  {
   "cell_type": "markdown",
   "id": "219750fd",
   "metadata": {},
   "source": [
    "# <p style='text-align: center;'> Numpy Slicing Operations of 1D,2D and 3D array </p>"
   ]
  },
  {
   "cell_type": "markdown",
   "id": "61cdc4dd",
   "metadata": {},
   "source": [
    "------------------------------\n",
    "### 1D Arrays Slicing :\n",
    "------------------------------\n",
    "- <b> Syntax: -   1Dndrrayobj[begin:end:step]"
   ]
  },
  {
   "cell_type": "code",
   "execution_count": 10,
   "id": "a2349ec2",
   "metadata": {},
   "outputs": [
    {
     "name": "stdout",
     "output_type": "stream",
     "text": [
      "[10 20 30 40 50 60] <class 'numpy.ndarray'>\n"
     ]
    },
    {
     "data": {
      "text/plain": [
       "array([10, 20, 30])"
      ]
     },
     "execution_count": 10,
     "metadata": {},
     "output_type": "execute_result"
    }
   ],
   "source": [
    "# WAPP which will access a multiple elements (Slicing) from 1D array.\n",
    "\n",
    "# importing numpy as alias_name np\n",
    "import numpy as np\n",
    "\n",
    "# create an object of ndarray. \n",
    "a=np.array([10,20,30,40,50,60])\n",
    "\n",
    "# print the ndarray and its type.\n",
    "print(a,type(a))\n",
    "\n",
    "# Accessing the \"10 20 30\" values only from \"a\" object.\n",
    "a[0:3]       # putting begin-index=0 and end-index=3 in arrayobj."
   ]
  },
  {
   "cell_type": "markdown",
   "id": "8cdac930",
   "metadata": {},
   "source": [
    "-------------------------------\n",
    "### 2D Arrays Slicing :\n",
    "------------------------------\n",
    "- <b> Syntax: -       2Dndrrayobj[Row Index, Column Index]\n",
    "                   (OR)\n",
    "- <b> Syntax: -       2Dndrrayobj[begin:end:step, begin:end:step]\n",
    "\n",
    " "
   ]
  },
  {
   "cell_type": "code",
   "execution_count": 12,
   "id": "99c4ac62",
   "metadata": {},
   "outputs": [
    {
     "name": "stdout",
     "output_type": "stream",
     "text": [
      "[[1 2 3]\n",
      " [4 5 6]] <class 'numpy.ndarray'>\n"
     ]
    },
    {
     "data": {
      "text/plain": [
       "array([[1, 2],\n",
       "       [4, 5]])"
      ]
     },
     "execution_count": 12,
     "metadata": {},
     "output_type": "execute_result"
    }
   ],
   "source": [
    "# WAPP which will access a multiple elements (Slicing) from 2D array.\n",
    "\n",
    "# importing numpy as alias_name np\n",
    "import numpy as np\n",
    "\n",
    "# create an object of ndarray. \n",
    "b=np.array([[1,2,3],[4,5,6]])\n",
    "\n",
    "# print the ndarray and its type.\n",
    "print(b,type(b))\n",
    "\n",
    "# Accessing the \"[[1,2],[4,5]]\" values from \"b\" object.\n",
    "b[0:2,0:2]       # putting index=[0:2,0:2] in arrayobj.\n",
    "             # Here row-index=[0:2] and col-index=[0:2]"
   ]
  },
  {
   "cell_type": "markdown",
   "id": "8e683282",
   "metadata": {},
   "source": [
    "-------------------------------------\n",
    "### 3D Arrays Slicing :\n",
    "-------------------------------------\n",
    "- <b> Syntax: -      3Dndrrayobj[Matrix Index, Row Index, Column Index]\n",
    "\t\t\t\t(OR)\n",
    "- <b> Syntax: -      3Dndrrayobj[begin:end:step, begin:end:step,begin:end:step]\n"
   ]
  },
  {
   "cell_type": "code",
   "execution_count": 16,
   "id": "75c40295",
   "metadata": {},
   "outputs": [
    {
     "name": "stdout",
     "output_type": "stream",
     "text": [
      "[[[11 12 13]]\n",
      "\n",
      " [[14 15 16]]\n",
      "\n",
      " [[ 7  8  9]]] <class 'numpy.ndarray'>\n"
     ]
    },
    {
     "data": {
      "text/plain": [
       "array([[[12, 13]],\n",
       "\n",
       "       [[15, 16]],\n",
       "\n",
       "       [[ 8,  9]]])"
      ]
     },
     "execution_count": 16,
     "metadata": {},
     "output_type": "execute_result"
    }
   ],
   "source": [
    "# WAPP which will access a multiple elements (-ve Slicing) from 3D array.\n",
    "\n",
    "# importing numpy as alias_name np\n",
    "import numpy as np\n",
    "\n",
    "# create an object of ndarray. \n",
    "c=np.array([[[11,12,13]],[[14,15,16]],[[7,8,9]]])\n",
    "\n",
    "# print the ndarray and its type.\n",
    "print(c,type(c))\n",
    "\n",
    "# Accessing the \"[[[12, 13]],[[15, 16]],[[ 8,  9]]])\" values from \"c\" object.\n",
    "c[-3:,::,-2:]       # putting index=[-3:,::,-2:] in arrayobj.\n",
    "             # Here matrix-index=[-3: ], row-index=[ :: ] and col-index=[-2: ]."
   ]
  },
  {
   "cell_type": "markdown",
   "id": "3dd7a46e",
   "metadata": {},
   "source": [
    "# <p style='text-align: center;'> Numpy---Advanced Indexing and Slicing </p>"
   ]
  },
  {
   "cell_type": "markdown",
   "id": "32cc6ba0",
   "metadata": {},
   "source": [
    "- If we want to access multiple elements, which are not in order (arbitrary elements) of 1D, 2D and N-D arrays we must \n",
    "  use the concept of Advanced Indexing.\n",
    "    \n",
    "    \n",
    "- If we want to access the elements based on some condition then we can't use basic indexing and Basic Slicing Operations. To \n",
    "  fulfill such type of requirements we must use advanced Indexing.\n"
   ]
  },
  {
   "cell_type": "markdown",
   "id": "0d5d8044",
   "metadata": {},
   "source": [
    "-----------------------------------\n",
    "### Accessing Multiple Arbitrary Elements-1D :\n",
    "-----------------------------------------------\n",
    "- <b> Syntax: -     ndarrayname [x]\n",
    "    \n",
    "    \n",
    "- Here 'x' can be either ndarray or list which represents required indexes of arbitrary elements.\n"
   ]
  },
  {
   "cell_type": "code",
   "execution_count": 22,
   "id": "4358d98a",
   "metadata": {},
   "outputs": [
    {
     "name": "stdout",
     "output_type": "stream",
     "text": [
      "[10 20 30 40 50 60] <class 'numpy.ndarray'>\n"
     ]
    },
    {
     "data": {
      "text/plain": [
       "array([20, 40, 50])"
      ]
     },
     "execution_count": 22,
     "metadata": {},
     "output_type": "execute_result"
    }
   ],
   "source": [
    "# WAPP which will access a multiple elements (which are not in order) from 1D array .\n",
    "\n",
    "# importing numpy as alias_name np\n",
    "import numpy as np\n",
    "\n",
    "# create an object of ndarray. \n",
    "a=np.array([10,20,30,40,50,60])\n",
    "\n",
    "# print the ndarray and its type.\n",
    "print(a,type(a))\n",
    "\n",
    "# Accessing the 20,40 and 50 values from \"a\" object.\n",
    "# Here indexes of 20 40 and 50 are 1 3 4.\n",
    "'''prepare the list of indexes of arbitrary \n",
    "   elements(20,40,50) of ndarray and pass to ndarray.'''\n",
    "ind=[1,3,4]\n",
    "\n",
    "# Pass the index list in ndarry object.\n",
    "a[ind]       "
   ]
  },
  {
   "cell_type": "code",
   "execution_count": 23,
   "id": "2a68b71c",
   "metadata": {},
   "outputs": [
    {
     "name": "stdout",
     "output_type": "stream",
     "text": [
      "[10 20 30 40 50 60] <class 'numpy.ndarray'>\n"
     ]
    },
    {
     "data": {
      "text/plain": [
       "array([10, 40, 60])"
      ]
     },
     "execution_count": 23,
     "metadata": {},
     "output_type": "execute_result"
    }
   ],
   "source": [
    "# WAPP which will access a multiple elements (which are not in order) from 1D array .\n",
    "\n",
    "# importing numpy as alias_name np\n",
    "import numpy as np\n",
    "\n",
    "# create an object of ndarray. \n",
    "a=np.array([10,20,30,40,50,60])\n",
    "\n",
    "# print the ndarray and its type.\n",
    "print(a,type(a))\n",
    "\n",
    "# Accessing the 10,40 and 60 values from \"a\" object.\n",
    "# Here indexes of 10 40 and 60 are 0 3 5.\n",
    "'''prepare the list of indexes of arbitrary \n",
    "   elements(10,40,60) of ndarray and pass to ndarray.'''\n",
    "\n",
    "a[[0,3,5]] "
   ]
  },
  {
   "cell_type": "code",
   "execution_count": 24,
   "id": "043c6041",
   "metadata": {},
   "outputs": [
    {
     "data": {
      "text/plain": [
       "array([10, 20, 40, 60])"
      ]
     },
     "execution_count": 24,
     "metadata": {},
     "output_type": "execute_result"
    }
   ],
   "source": [
    "# Accessing the 10,20,40 and 60 values from \"a\" object through (-ve) indexing.\n",
    "# Here indexes of 10 20 40 and 60 are -6 -5 -3 -1.\n",
    "'''prepare the list of indexes of arbitrary \n",
    "   elements(10,20,40,60) of ndarray and pass to ndarray.'''\n",
    "\n",
    "a[[-6,-5,-3,-1]] "
   ]
  },
  {
   "cell_type": "markdown",
   "id": "0b9a189b",
   "metadata": {},
   "source": [
    "--------------------------------------------------------\n",
    "# Accessing Multiple Arbitrary Elements - 2D :\n",
    "-----------------------------------------------------------\n",
    "- <b> Syntax: -  ndarrayobj[  [row indexes],[column indexes] ]"
   ]
  },
  {
   "cell_type": "code",
   "execution_count": 26,
   "id": "5ed14ea7",
   "metadata": {},
   "outputs": [
    {
     "name": "stdout",
     "output_type": "stream",
     "text": [
      "[[ 1  2  3  4]\n",
      " [ 5  6  7  8]\n",
      " [ 9 10 11 12]\n",
      " [13 14 15 16]] <class 'numpy.ndarray'>\n"
     ]
    },
    {
     "data": {
      "text/plain": [
       "array([ 2,  7, 11, 14])"
      ]
     },
     "execution_count": 26,
     "metadata": {},
     "output_type": "execute_result"
    }
   ],
   "source": [
    "# WAPP which will access a multiple elements from 2D array.\n",
    "\n",
    "# importing numpy as alias_name np\n",
    "import numpy as np\n",
    "\n",
    "# create an object of ndarray. \n",
    "m=np.array([[1,2,3,4],[5,6,7,8],[9,10,11,12],[13,14,15,16]])\n",
    "\n",
    "# print the ndarray and its type.\n",
    "print(m,type(m))\n",
    "\n",
    "# Accessing the 2, 7, 11 and 14 values from \"m\" object.\n",
    "# Here indexes of 2 7 11 and 14 are [ [0,1,2,3],[1,2,2,1] ].\n",
    "'''When the above statement is executed, The PVM takes internally as \n",
    "   mat[ (0,1), (1,2), (2,2),(3,1) ].'''\n",
    "\n",
    "m[ [0,1,2,3],[1,2,2,1] ]      "
   ]
  },
  {
   "cell_type": "code",
   "execution_count": null,
   "id": "319cd854",
   "metadata": {},
   "outputs": [],
   "source": []
  },
  {
   "cell_type": "code",
   "execution_count": 28,
   "id": "7a21ba3f",
   "metadata": {},
   "outputs": [
    {
     "name": "stdout",
     "output_type": "stream",
     "text": [
      "[[ 1  2  3  4]\n",
      " [ 5  6  7  8]\n",
      " [ 9 10 11 12]\n",
      " [13 14 15 16]] <class 'numpy.ndarray'>\n",
      "Princile diagonal of 2D array\n"
     ]
    },
    {
     "data": {
      "text/plain": [
       "array([ 1,  6, 11, 16])"
      ]
     },
     "execution_count": 28,
     "metadata": {},
     "output_type": "execute_result"
    }
   ],
   "source": [
    "# WAPP which will access a principle diagonal elements from 2D array.\n",
    "\n",
    "# importing numpy as alias_name np\n",
    "import numpy as np\n",
    "\n",
    "# create an object of ndarray. \n",
    "m=np.array([[1,2,3,4],[5,6,7,8],[9,10,11,12],[13,14,15,16]])\n",
    "\n",
    "# print the ndarray and its type.\n",
    "print(m,type(m))\n",
    "\n",
    "# Accessing the 1, 6, 11 and 16 values from \"m\" object.\n",
    "# Here indexes of 1 6 11 and 16 are [ [0,1,2,3],[0,1,2,3] ].\n",
    "'''When the above statement is executed, The PVM takes internally as \n",
    "   mat[ (0,0), (1,1), (2,2),(3,3) ].'''\n",
    "\n",
    "m[ [0,1,2,3],[0,1,2,3] ] "
   ]
  },
  {
   "cell_type": "markdown",
   "id": "b724b67a",
   "metadata": {},
   "source": [
    "---------------------------------------------------\n",
    "### Accessing Multiple Arbitrary Elements - 3D :\n",
    "--------------------------------------------------\n",
    "- <b> Syntax: -  ndarray[[Indexes of 3Dmatrix],[row indexes], [column indexes]]\n"
   ]
  },
  {
   "cell_type": "code",
   "execution_count": 32,
   "id": "d0f954b7",
   "metadata": {},
   "outputs": [
    {
     "name": "stdout",
     "output_type": "stream",
     "text": [
      "[[[ 1  2  3  4]\n",
      "  [ 5  6  7  8]\n",
      "  [ 9 10 11 12]]\n",
      "\n",
      " [[13 14 15 16]\n",
      "  [17 18 19 20]\n",
      "  [21 22 23 24]]] <class 'numpy.ndarray'>\n"
     ]
    },
    {
     "data": {
      "text/plain": [
       "array([ 1, 14, 24])"
      ]
     },
     "execution_count": 32,
     "metadata": {},
     "output_type": "execute_result"
    }
   ],
   "source": [
    "# WAPP which will access a multiple elements from 3D array.\n",
    "\n",
    "# importing numpy as alias_name np\n",
    "import numpy as np\n",
    "\n",
    "# create a list.\n",
    "l1=[ [ [1,2,3,4],[5,6,7,8],[9,10,11,12] ],[[13,14,15,16],[17,18,19,20],[21,22,23,24] ] ]\n",
    "\n",
    "# pass the list in object of ndarray. \n",
    "d=np.array(l1)\n",
    "\n",
    "# print the ndarray and its type.\n",
    "print(d,type(d))\n",
    "\n",
    "# Accessing the 1, 14 and 24 values from \"d\" object.\n",
    "# Here indexes of 1 14 and 24 are [ [0,1,1],[0,0,2],[0,1,3] ].\n",
    "'''When the above statement is executed, The PVM takes internally as \n",
    "   d[ (0,0,0),(1,0,1),(1,2,3) ].'''\n",
    "\n",
    "d[ [0,1,1],[0,0,2],[0,1,3] ]"
   ]
  },
  {
   "cell_type": "code",
   "execution_count": 34,
   "id": "22940e40",
   "metadata": {},
   "outputs": [
    {
     "name": "stdout",
     "output_type": "stream",
     "text": [
      "[[[ 1  2  3  4]\n",
      "  [ 5  6  7  8]\n",
      "  [ 9 10 11 12]]\n",
      "\n",
      " [[13 14 15 16]\n",
      "  [17 18 19 20]\n",
      "  [21 22 23 24]]] <class 'numpy.ndarray'>\n"
     ]
    },
    {
     "data": {
      "text/plain": [
       "array([10, 16])"
      ]
     },
     "execution_count": 34,
     "metadata": {},
     "output_type": "execute_result"
    }
   ],
   "source": [
    "# WAPP which will access a multiple elements from 3D array by (-ve) indexing.\n",
    "\n",
    "# importing numpy as alias_name np\n",
    "import numpy as np\n",
    "\n",
    "# create a list.\n",
    "l1=[ [ [1,2,3,4],[5,6,7,8],[9,10,11,12] ],[[13,14,15,16],[17,18,19,20],[21,22,23,24] ] ]\n",
    "\n",
    "# pass the list in object of ndarray. \n",
    "c=np.array(l1)\n",
    "\n",
    "# print the ndarray and its type.\n",
    "print(c,type(c))\n",
    "\n",
    "# Accessing the 10 and 16 values from \"c\" object.\n",
    "# Here -ve indexes of 10 and 16 are [ [-2,-1],[-1,-3],[-3,-1] ].\n",
    "'''When the above statement is executed, The PVM takes internally as \n",
    "   c[ (-2,-1,-3),(-1,-3,-1) ].'''\n",
    "\n",
    "c[ [-2,-1],[-1,-3],[-3,-1] ]"
   ]
  },
  {
   "cell_type": "code",
   "execution_count": 35,
   "id": "087e0166",
   "metadata": {},
   "outputs": [
    {
     "data": {
      "text/plain": [
       "3"
      ]
     },
     "execution_count": 35,
     "metadata": {},
     "output_type": "execute_result"
    }
   ],
   "source": [
    "# finding ndim for \"c\" object.\n",
    "c.ndim                # its 3D object."
   ]
  },
  {
   "cell_type": "code",
   "execution_count": 36,
   "id": "2c2ddbf2",
   "metadata": {},
   "outputs": [
    {
     "data": {
      "text/plain": [
       "(2, 3, 4)"
      ]
     },
     "execution_count": 36,
     "metadata": {},
     "output_type": "execute_result"
    }
   ],
   "source": [
    "# finding shape for \"c\" object.\n",
    "c.shape         # 2- matrixes with 3-rows and 4-columns. "
   ]
  }
 ],
 "metadata": {
  "kernelspec": {
   "display_name": "Python 3 (ipykernel)",
   "language": "python",
   "name": "python3"
  },
  "language_info": {
   "codemirror_mode": {
    "name": "ipython",
    "version": 3
   },
   "file_extension": ".py",
   "mimetype": "text/x-python",
   "name": "python",
   "nbconvert_exporter": "python",
   "pygments_lexer": "ipython3",
   "version": "3.9.13"
  }
 },
 "nbformat": 4,
 "nbformat_minor": 5
}
