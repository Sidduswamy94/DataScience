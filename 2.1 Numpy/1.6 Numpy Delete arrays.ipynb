{
 "cells": [
  {
   "cell_type": "markdown",
   "id": "1641bcbd",
   "metadata": {},
   "source": [
    "# <p style='text-align: center;'> Numpy delete rows and columns of ndarray </p>"
   ]
  },
  {
   "cell_type": "markdown",
   "id": "5bea3e12",
   "metadata": {},
   "source": [
    "- Python’s Numpy library provides a method to delete elements from a numpy array based on index position i.e.\n",
    "\n",
    "\n",
    "- <b> Syntax: - numpy.delete(arr, obj, axis=None)\n",
    "    \n",
    "    \n",
    "- arr : Numpy ndarray from which elements needs to be deleted.\n",
    "    \n",
    "    \n",
    "- obj : Index position or list of index positions of items to be deleted from numpy ndarray arr.\n",
    "\n",
    "    \n",
    "- axis: Axis along which we want to delete.\n",
    "    \n",
    "    \n",
    "- If 1 then delete columns.\n",
    "\n",
    "\n",
    "- If 0 then delete rows.\n"
   ]
  },
  {
   "cell_type": "markdown",
   "id": "408fec1f",
   "metadata": {},
   "source": [
    "--------------------\n",
    "### Examples:\n",
    "--------------------"
   ]
  },
  {
   "cell_type": "code",
   "execution_count": 1,
   "id": "78668641",
   "metadata": {},
   "outputs": [
    {
     "name": "stdout",
     "output_type": "stream",
     "text": [
      "Containts of ndarray(a):\n",
      "[ 4  5  6  7  8  9 10 11]\n",
      "--------------------------------------------------\n",
      "Modified Numpy Array by deleting element at index position 2\n",
      "[ 4  5  7  8  9 10 11]\n"
     ]
    }
   ],
   "source": [
    "# WAPP to delete the single values from given (1D) ndarray by using delete() function.\n",
    "\n",
    "# importing numpy as alias_name np\n",
    "import numpy as np\n",
    "\n",
    "# create an object of ndarray. \n",
    "a=np.array([4,5,6,7,8,9,10,11])\n",
    "\n",
    "# print the ndarray object on console.\n",
    "print(\"Containts of ndarray(a):\")\n",
    "print(a)\n",
    "print(\"-\"*50)\n",
    "\n",
    "# Delete element at index position 2.\n",
    "a=np.delete(a,2)      # its delete the index position 2 = 6.\n",
    "\n",
    "# print the modified ndarray object on console.\n",
    "print('Modified Numpy Array by deleting element at index position 2')\n",
    "print(a)       "
   ]
  },
  {
   "cell_type": "code",
   "execution_count": 4,
   "id": "a31fc7d8",
   "metadata": {},
   "outputs": [
    {
     "name": "stdout",
     "output_type": "stream",
     "text": [
      "Containts of ndarray(a):\n",
      "[ 4  5  6  7  8  9 10 11]\n",
      "--------------------------------------------------\n",
      "Modified Numpy Array by deleting element at index position -4\n",
      "[ 4  5  6  7  9 10 11]\n"
     ]
    }
   ],
   "source": [
    "# WAPP to delete the single values from given (1D) ndarray by using delete() function.\n",
    "\n",
    "# importing numpy as alias_name np\n",
    "import numpy as np\n",
    "\n",
    "# create an object of ndarray. \n",
    "a=np.array([4,5,6,7,8,9,10,11])\n",
    "\n",
    "# print the ndarray object on console.\n",
    "print(\"Containts of ndarray(a):\")\n",
    "print(a)\n",
    "print(\"-\"*50)\n",
    "\n",
    "# Delete element at index position -4.\n",
    "a=np.delete(a,-4)      # its delete the index position -4 = 8.\n",
    "\n",
    "# print the modified ndarray object on console.\n",
    "print('Modified Numpy Array by deleting element at index position -4')\n",
    "print(a)   "
   ]
  },
  {
   "cell_type": "code",
   "execution_count": 3,
   "id": "4ebe9d93",
   "metadata": {},
   "outputs": [
    {
     "name": "stdout",
     "output_type": "stream",
     "text": [
      "Containts of ndarray(a):\n",
      "[ 4  5  6  7  8  9 10 11]\n",
      "--------------------------------------------------\n",
      "Modified Numpy Array by deleting elements at index position 1 3 6\n",
      "[ 4  6  8  9 11]\n"
     ]
    }
   ],
   "source": [
    "# WAPP to delete the multiple values from given (1D) ndarray by using delete() function.\n",
    "\n",
    "# importing numpy as alias_name np\n",
    "import numpy as np\n",
    "\n",
    "# create an object of ndarray. \n",
    "a=np.array([4,5,6,7,8,9,10,11])\n",
    "\n",
    "# print the ndarray object on console.\n",
    "print(\"Containts of ndarray(a):\")\n",
    "print(a)\n",
    "print(\"-\"*50)\n",
    "\n",
    "# Delete element at index position 1 3 and 6.\n",
    "# place these indexes in one list and pass to delete function.\n",
    "a=np.delete(a,[1,3,6])      # its delete the index position 1=5 3=7 6=10.\n",
    "\n",
    "# print the modified ndarray object on console.\n",
    "print('Modified Numpy Array by deleting elements at index position 1 3 6')\n",
    "print(a)  "
   ]
  },
  {
   "cell_type": "markdown",
   "id": "d142f251",
   "metadata": {},
   "source": [
    "------------------------------------------------\n",
    "### Delete rows & columns from a 2D Numpy Array\n",
    "--------------------------------------------------"
   ]
  },
  {
   "cell_type": "code",
   "execution_count": 5,
   "id": "4fff5356",
   "metadata": {},
   "outputs": [
    {
     "name": "stdout",
     "output_type": "stream",
     "text": [
      "Containts of ndarray(a):\n",
      "[[11 12 13 11]\n",
      " [21 22 23 24]\n",
      " [31 32 33 34]]\n",
      "--------------------------------------------------\n",
      "Modified 2D Numpy Array by removing columns at index 1\n",
      "[[11 13 11]\n",
      " [21 23 24]\n",
      " [31 33 34]]\n"
     ]
    }
   ],
   "source": [
    "# WAPP to delete a single column from a 2D numpy array using np.delete().\n",
    "\n",
    "# importing numpy as alias_name np\n",
    "import numpy as np\n",
    "\n",
    "# create an object of ndarray. \n",
    "m=np.array([[11 ,12, 13, 11],[21, 22, 23, 24],[31, 32, 33, 34]])\n",
    "\n",
    "# print the ndarray object on console.\n",
    "print(\"Containts of ndarray(a):\")\n",
    "print(m)\n",
    "print(\"-\"*50)\n",
    "\n",
    "# Delete elements from column index 1.\n",
    "# pass the axis=1 along with numpy array for column deletion.\n",
    "m=np.delete(m, 1, axis=1)     # its delete the column index position 1.\n",
    "\n",
    "# print the modified ndarray object on console.\n",
    "print('Modified 2D Numpy Array by removing columns at index 1')\n",
    "print(m) "
   ]
  },
  {
   "cell_type": "code",
   "execution_count": 6,
   "id": "adcd5cc8",
   "metadata": {},
   "outputs": [
    {
     "name": "stdout",
     "output_type": "stream",
     "text": [
      "Containts of ndarray(a):\n",
      "[[11 12 13 11]\n",
      " [21 22 23 24]\n",
      " [31 32 33 34]]\n",
      "--------------------------------------------------\n",
      "Modified 2D Numpy Array by removing columns at index 2 and 3\n",
      "[[11 12]\n",
      " [21 22]\n",
      " [31 32]]\n"
     ]
    }
   ],
   "source": [
    "# WAPP to delete a multiple columns from a 2D numpy array using np.delete().\n",
    "\n",
    "# importing numpy as alias_name np\n",
    "import numpy as np\n",
    "\n",
    "# create an object of ndarray. \n",
    "m=np.array([[11 ,12, 13, 11],[21, 22, 23, 24],[31, 32, 33, 34]])\n",
    "\n",
    "# print the ndarray object on console.\n",
    "print(\"Containts of ndarray(a):\")\n",
    "print(m)\n",
    "print(\"-\"*50)\n",
    "\n",
    "# Delete elements from column index 2 and 3.\n",
    "# place these indexes in one list and pass to delete function.\n",
    "# pass the axis=1 along with numpy array for column deletion.\n",
    "m=np.delete(m, [2,3], axis=1)  # its delete the column index position 2 and 3.\n",
    "\n",
    "# print the modified ndarray object on console.\n",
    "print('Modified 2D Numpy Array by removing columns at index 2 and 3')\n",
    "print(m) "
   ]
  },
  {
   "cell_type": "code",
   "execution_count": 8,
   "id": "76859601",
   "metadata": {},
   "outputs": [
    {
     "name": "stdout",
     "output_type": "stream",
     "text": [
      "Containts of ndarray(a):\n",
      "[[11 12 13 11]\n",
      " [21 22 23 24]\n",
      " [31 32 33 34]]\n",
      "--------------------------------------------------\n",
      "Modified 2D Numpy Array by removing rows at index 0\n",
      "[[21 22 23 24]\n",
      " [31 32 33 34]]\n"
     ]
    }
   ],
   "source": [
    "# WAPP to delete a single row from a 2D numpy array using np.delete().\n",
    "\n",
    "# importing numpy as alias_name np\n",
    "import numpy as np\n",
    "\n",
    "# create an object of ndarray. \n",
    "m=np.array([[11 ,12, 13, 11],[21, 22, 23, 24],[31, 32, 33, 34]])\n",
    "\n",
    "# print the ndarray object on console.\n",
    "print(\"Containts of ndarray(a):\")\n",
    "print(m)\n",
    "print(\"-\"*50)\n",
    "\n",
    "# Delete elements from row index 0.\n",
    "# pass the axis=0 along with numpy array for column deletion.\n",
    "m=np.delete(m, 0, axis=0)     # its delete the 1st row.\n",
    "\n",
    "# print the modified ndarray object on console.\n",
    "print('Modified 2D Numpy Array by removing rows at index 0')\n",
    "print(m) "
   ]
  },
  {
   "cell_type": "code",
   "execution_count": 9,
   "id": "ed096baa",
   "metadata": {},
   "outputs": [
    {
     "name": "stdout",
     "output_type": "stream",
     "text": [
      "Containts of ndarray(a):\n",
      "[[11 12 13 11]\n",
      " [21 22 23 24]\n",
      " [31 32 33 34]]\n",
      "--------------------------------------------------\n",
      "Modified 2D Numpy Array by removing rows at index 1 and 2\n",
      "[[11 12 13 11]]\n"
     ]
    }
   ],
   "source": [
    "# WAPP to delete a multiple rows from a 2D numpy array using np.delete().\n",
    "\n",
    "# importing numpy as alias_name np\n",
    "import numpy as np\n",
    "\n",
    "# create an object of ndarray. \n",
    "m=np.array([[11 ,12, 13, 11],[21, 22, 23, 24],[31, 32, 33, 34]])\n",
    "\n",
    "# print the ndarray object on console.\n",
    "print(\"Containts of ndarray(a):\")\n",
    "print(m)\n",
    "print(\"-\"*50)\n",
    "\n",
    "# Delete elements from row index 1 and 2.\n",
    "# place these indexes in one list and pass to delete function.\n",
    "# pass the axis=0 along with numpy array for column deletion.\n",
    "m=np.delete(m, [1,2], axis=0)     # its delete the 2st and 3rd rows.\n",
    "\n",
    "# print the modified ndarray object on console.\n",
    "print('Modified 2D Numpy Array by removing rows at index 1 and 2')\n",
    "print(m) "
   ]
  },
  {
   "cell_type": "markdown",
   "id": "01703a1e",
   "metadata": {},
   "source": [
    "-----------------------------------------------------------------------------\n",
    "### Delete specific elements in 2D Numpy Array by index position :\n",
    "--------------------------------------------------------------------------------"
   ]
  },
  {
   "cell_type": "markdown",
   "id": "67d95b5a",
   "metadata": {},
   "source": [
    "- When we don’t pass axis argument to np.delete() then it’s default value is None, which means 2D numpy array will be \n",
    "  flattened for deleting elements at given index position.\n"
   ]
  },
  {
   "cell_type": "code",
   "execution_count": 10,
   "id": "209b42c5",
   "metadata": {},
   "outputs": [
    {
     "name": "stdout",
     "output_type": "stream",
     "text": [
      "Containts of ndarray(a):\n",
      "[[11 12 13 11]\n",
      " [21 22 23 24]\n",
      " [31 32 33 34]]\n",
      "--------------------------------------------------\n",
      "Modified 2D Numpy Array by removing element at row 0 and column 2\n",
      "[11 12 11 21 22 23 24 31 32 33 34]\n"
     ]
    }
   ],
   "source": [
    "# WAPP to delete element in row 0 and column 2 from 2D numpy array by using np.delete().\n",
    "\n",
    "# create an object of ndarray. \n",
    "m=np.array([[11 ,12, 13, 11],[21, 22, 23, 24],[31, 32, 33, 34]])\n",
    "\n",
    "# print the ndarray object on console.\n",
    "print(\"Containts of ndarray(a):\")\n",
    "print(m)\n",
    "print(\"-\"*50)\n",
    "\n",
    "# Delete element in row 0 and column 2 from 2D numpy array.\n",
    "m=np.delete(m, 2)     \n",
    "\n",
    "# print the modified ndarray object on console.\n",
    "'''When we don’t pass axis argument to np.delete() then it’s \n",
    "   default value is None, which means 2D numpy array will be \n",
    "   flattened for deleting elements at given index position.'''\n",
    "\n",
    "print('Modified 2D Numpy Array by removing element at row 0 and column 2')\n",
    "print(m)        # it returns flattened format."
   ]
  }
 ],
 "metadata": {
  "kernelspec": {
   "display_name": "Python 3 (ipykernel)",
   "language": "python",
   "name": "python3"
  },
  "language_info": {
   "codemirror_mode": {
    "name": "ipython",
    "version": 3
   },
   "file_extension": ".py",
   "mimetype": "text/x-python",
   "name": "python",
   "nbconvert_exporter": "python",
   "pygments_lexer": "ipython3",
   "version": "3.9.13"
  }
 },
 "nbformat": 4,
 "nbformat_minor": 5
}
