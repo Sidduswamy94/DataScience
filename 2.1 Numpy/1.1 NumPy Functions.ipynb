{
 "cells": [
  {
   "cell_type": "markdown",
   "id": "21ae8354",
   "metadata": {},
   "source": [
    "# <p style='text-align: center;'> Numpy Functions </p>"
   ]
  },
  {
   "cell_type": "markdown",
   "id": "a6e1f198",
   "metadata": {},
   "source": [
    "- \"ndarray\" is one of the pre-defined class of numpy module and whose object is used for storing the data in \n",
    "  numpy programming in the form of 1-D, 2-D and n-Dimensional Arrays.\n",
    "\n",
    "\n",
    "- In numpy programming, we have the following functions of an object of ndarray.\t\n",
    "\t\n",
    "            1. array()\n",
    "            2. linspace()\n",
    "            3. arange()\n",
    "            4. zeros()\n",
    "            5. ones()\n",
    "            6. full()\n",
    "            7. identity()\n",
    "            8. eye()\n",
    "            9. hstack()\n",
    "           10. vstack()\n",
    "           11. diag()\n",
    "           12. ravel()\n",
    "           13. transpose()\n",
    "           14. randint()\n"
   ]
  },
  {
   "cell_type": "markdown",
   "id": "db1e8a09",
   "metadata": {},
   "source": [
    "<b> 1) array() :\n",
    "- This Function is used for converting Traditional Python Objects into ndarray object.\n",
    "    \n",
    "    \n",
    "- <b> Syntax: -    varname=numpy.array(Object, dtype)\n",
    "    \n",
    "    \n",
    "- Here varname is an object of <class,ndarray>\n",
    "    \n",
    "    \n",
    "- Here array() is pre-defined function of numpy module, used for Converting Traditional Python Objects into ndarray object.\n",
    "\n",
    "\n",
    "- object represents any Traditional Python Objects.\n",
    "    \n",
    "    \n",
    "- dtype represents any numpy data type such as int8, int16, int32, float16, float32, float64....etc (Internal data types \n",
    "  of C lang).\n",
    "    \n",
    "    \n",
    "---------------------\n",
    "#### Examples\n",
    "--------------------"
   ]
  },
  {
   "cell_type": "code",
   "execution_count": 3,
   "id": "7147d43a",
   "metadata": {},
   "outputs": [
    {
     "name": "stdout",
     "output_type": "stream",
     "text": [
      "[10, 20, 30, 40, 50, 60] <class 'list'>\n"
     ]
    }
   ],
   "source": [
    "# Python Traditional List.\n",
    "\n",
    "# User given list.\n",
    "l1=[10,20,30,40,50,60]\n",
    "\n",
    "# print the list and its type.\n",
    "print(l1,type(l1))"
   ]
  },
  {
   "cell_type": "code",
   "execution_count": 4,
   "id": "44fd12c2",
   "metadata": {},
   "outputs": [
    {
     "name": "stdout",
     "output_type": "stream",
     "text": [
      "[10 20 30 40 50 60] <class 'numpy.ndarray'>\n"
     ]
    }
   ],
   "source": [
    "# ndarray object of Numpy Module.\n",
    "\n",
    "# importing numpy module.\n",
    "import numpy as np\n",
    "\n",
    "# create an object of ndarray. \n",
    "a=np.array(l1)\n",
    "\n",
    "# print the ndarray and its type.\n",
    "print(a,type(a))"
   ]
  },
  {
   "cell_type": "code",
   "execution_count": 5,
   "id": "3986e2f8",
   "metadata": {},
   "outputs": [
    {
     "name": "stdout",
     "output_type": "stream",
     "text": [
      "(10, 20, 30, 40, 50, 60, 70) <class 'tuple'>\n"
     ]
    }
   ],
   "source": [
    "# Python Traditional tuple.\n",
    "\n",
    "# User given tuple.\n",
    "t=(10,20,30,40,50,60,70)\n",
    "\n",
    "# print the tuple and its type.\n",
    "print(t,type(t))"
   ]
  },
  {
   "cell_type": "code",
   "execution_count": 6,
   "id": "efeff712",
   "metadata": {},
   "outputs": [
    {
     "name": "stdout",
     "output_type": "stream",
     "text": [
      "[10 20 30 40 50 60 70] <class 'numpy.ndarray'>\n"
     ]
    }
   ],
   "source": [
    "# ndarray object of Numpy Module.\n",
    "\n",
    "# importing numpy module.\n",
    "import numpy as np\n",
    "\n",
    "# create an object of ndarray. \n",
    "b=np.array(t)\n",
    "\n",
    "# print the ndarray and its type.\n",
    "print(b,type(b))"
   ]
  },
  {
   "cell_type": "code",
   "execution_count": 7,
   "id": "5e93e763",
   "metadata": {},
   "outputs": [
    {
     "name": "stdout",
     "output_type": "stream",
     "text": [
      "{10: 1.2, 20: 4.5, 30: 6.7} <class 'dict'>\n"
     ]
    }
   ],
   "source": [
    "# Python Traditional dict.\n",
    "\n",
    "# User given dict.\n",
    "d1={10:1.2,20:4.5,30:6.7}\n",
    "\n",
    "# print the dict and its type.\n",
    "print(d1,type(d1))"
   ]
  },
  {
   "cell_type": "code",
   "execution_count": 8,
   "id": "3d5f8f51",
   "metadata": {},
   "outputs": [
    {
     "name": "stdout",
     "output_type": "stream",
     "text": [
      "{10: 1.2, 20: 4.5, 30: 6.7} <class 'numpy.ndarray'>\n"
     ]
    }
   ],
   "source": [
    "# ndarray object of Numpy Module.\n",
    "\n",
    "# importing numpy module.\n",
    "import numpy as np\n",
    "\n",
    "# create an object of ndarray. \n",
    "c=np.array(d1)\n",
    "\n",
    "# print the ndarray and its type.\n",
    "print(c,type(c))"
   ]
  },
  {
   "cell_type": "code",
   "execution_count": 9,
   "id": "786c759e",
   "metadata": {},
   "outputs": [
    {
     "data": {
      "text/plain": [
       "array([10, 20, 30, 40, 50, 60])"
      ]
     },
     "execution_count": 9,
     "metadata": {},
     "output_type": "execute_result"
    }
   ],
   "source": [
    "# User given tule.\n",
    "t=(10,20,30,40,50,60)\n",
    "\n",
    "# create an object of ndarray.\n",
    "a=np.array(t)\n",
    "\n",
    "# printing \"a\" ndarray object.\n",
    "a"
   ]
  },
  {
   "cell_type": "markdown",
   "id": "961f6a8b",
   "metadata": {},
   "source": [
    "<b> ndim :\n",
    "- This array attribute returns the number of array dimensions.\n",
    "    \n",
    "    \n",
    "- <b> Syntax : - ndarrayobj.ndim"
   ]
  },
  {
   "cell_type": "code",
   "execution_count": 11,
   "id": "91da519d",
   "metadata": {},
   "outputs": [
    {
     "data": {
      "text/plain": [
       "1"
      ]
     },
     "execution_count": 11,
     "metadata": {},
     "output_type": "execute_result"
    }
   ],
   "source": [
    "# Using ndim to returns the number of array dimensions.\n",
    "a.ndim"
   ]
  },
  {
   "cell_type": "markdown",
   "id": "4b85ad7f",
   "metadata": {},
   "source": [
    "<b> shape :\n",
    "- This array attribute returns a tuple consisting of array dimensions. It can also be used to resize the array.\n",
    "\n",
    "    \n",
    "    \n",
    "- <b> Syntax : - ndarrayobj.shape"
   ]
  },
  {
   "cell_type": "code",
   "execution_count": 12,
   "id": "770a8688",
   "metadata": {},
   "outputs": [
    {
     "data": {
      "text/plain": [
       "(6,)"
      ]
     },
     "execution_count": 12,
     "metadata": {},
     "output_type": "execute_result"
    }
   ],
   "source": [
    "# Using shape returns a tuple consisting of array dimensions.\n",
    "a.shape"
   ]
  },
  {
   "cell_type": "code",
   "execution_count": 18,
   "id": "fbd83663",
   "metadata": {},
   "outputs": [
    {
     "name": "stdout",
     "output_type": "stream",
     "text": [
      "[[10 20 30]\n",
      " [40 50 60]]\n"
     ]
    }
   ],
   "source": [
    "# shape also used for resizes the ndarray.\n",
    "# resizing 1D to 2D.\n",
    "\n",
    "# User given list.\n",
    "l1=[10,20,30,40,50,60]\n",
    "\n",
    "# create an object of ndarray. \n",
    "a=np.array(l1)\n",
    "\n",
    "# reshaping \"(6,)\" to \"(2,3)\".\n",
    "a.shape=(2,3)\n",
    "\n",
    "# print reshaped object.\n",
    "print(a)"
   ]
  },
  {
   "cell_type": "markdown",
   "id": "f1cb0514",
   "metadata": {},
   "source": [
    "<b> reshape :\n",
    "- Reshaping means changing the shape of an array.\n",
    "\n",
    "    \n",
    "- By reshaping we can add or remove dimensions or change number of elements in each dimension.\n",
    "    \n",
    "    \n",
    "- <b> Syntax : - newobj=ndarrayobj.reshape(rows,columns)"
   ]
  },
  {
   "cell_type": "code",
   "execution_count": 19,
   "id": "4ce5c91d",
   "metadata": {},
   "outputs": [
    {
     "name": "stdout",
     "output_type": "stream",
     "text": [
      "[[10 20]\n",
      " [30 40]\n",
      " [50 60]]\n"
     ]
    }
   ],
   "source": [
    "# reshape the 1D to 2D by using reshape.\n",
    "\n",
    "# User given list.\n",
    "l1=[10,20,30,40,50,60]\n",
    "\n",
    "# create an object of ndarray. \n",
    "a=np.array(l1)\n",
    "\n",
    "# reshaping \"(6,)\" to \"(2,3)\".\n",
    "b=a.reshape(3,2)\n",
    "\n",
    "# print reshaped object.\n",
    "print(b)"
   ]
  },
  {
   "cell_type": "code",
   "execution_count": 24,
   "id": "7324bb96",
   "metadata": {},
   "outputs": [
    {
     "data": {
      "text/plain": [
       "2"
      ]
     },
     "execution_count": 24,
     "metadata": {},
     "output_type": "execute_result"
    }
   ],
   "source": [
    "# finding ndim for \"b\" object.\n",
    "b.ndim                # its 2D object."
   ]
  },
  {
   "cell_type": "code",
   "execution_count": 26,
   "id": "b9c7cfea",
   "metadata": {},
   "outputs": [
    {
     "data": {
      "text/plain": [
       "(3, 2)"
      ]
     },
     "execution_count": 26,
     "metadata": {},
     "output_type": "execute_result"
    }
   ],
   "source": [
    "# finding shape for \"b\" object.\n",
    "b.shape         # 3-rows and 2-columns.    "
   ]
  },
  {
   "cell_type": "code",
   "execution_count": 21,
   "id": "19236e71",
   "metadata": {},
   "outputs": [
    {
     "name": "stdout",
     "output_type": "stream",
     "text": [
      "(((10, 20, 15), (30, 40, 25)), ((50, 60, 18), (70, 80, 35))) <class 'tuple'>\n"
     ]
    }
   ],
   "source": [
    "# User given tuple.\n",
    "t1=(((10,20,15),(30,40,25)),((50,60,18),(70,80,35)))\n",
    "\n",
    "# print tuple and its type.\n",
    "print(t1,type(t1))"
   ]
  },
  {
   "cell_type": "code",
   "execution_count": 22,
   "id": "ef4a2850",
   "metadata": {},
   "outputs": [
    {
     "data": {
      "text/plain": [
       "array([[[10, 20, 15],\n",
       "        [30, 40, 25]],\n",
       "\n",
       "       [[50, 60, 18],\n",
       "        [70, 80, 35]]])"
      ]
     },
     "execution_count": 22,
     "metadata": {},
     "output_type": "execute_result"
    }
   ],
   "source": [
    "# Creating ndarray object from tuple object.\n",
    "a=np.array(t1)\n",
    "\n",
    "# print the ndarray object.\n",
    "a"
   ]
  },
  {
   "cell_type": "code",
   "execution_count": 23,
   "id": "3d73096d",
   "metadata": {},
   "outputs": [
    {
     "name": "stdout",
     "output_type": "stream",
     "text": [
      "[[[10 20 15]\n",
      "  [30 40 25]]\n",
      "\n",
      " [[50 60 18]\n",
      "  [70 80 35]]]\n"
     ]
    }
   ],
   "source": [
    "# print the ndarray object with print().\n",
    "print(a)"
   ]
  },
  {
   "cell_type": "code",
   "execution_count": 27,
   "id": "ce79c3ee",
   "metadata": {},
   "outputs": [
    {
     "data": {
      "text/plain": [
       "3"
      ]
     },
     "execution_count": 27,
     "metadata": {},
     "output_type": "execute_result"
    }
   ],
   "source": [
    "# finding ndim for \"a\" object.\n",
    "a.ndim                # its 3D object."
   ]
  },
  {
   "cell_type": "code",
   "execution_count": 28,
   "id": "13423a6e",
   "metadata": {},
   "outputs": [
    {
     "data": {
      "text/plain": [
       "(2, 2, 3)"
      ]
     },
     "execution_count": 28,
     "metadata": {},
     "output_type": "execute_result"
    }
   ],
   "source": [
    "# finding shape for \"a\" object.\n",
    "a.shape         #  3D, 2-rows and 3-columns. "
   ]
  },
  {
   "cell_type": "markdown",
   "id": "1f7b1bfc",
   "metadata": {},
   "source": [
    "<b> 2. linspace() :\n",
    "- linspace returns evenly spaced numbers over a specified interval.\n",
    "\n",
    "\n",
    "- <b> Syntax : - np.linspace(start,end,num_of_samples)\n",
    "    "
   ]
  },
  {
   "cell_type": "code",
   "execution_count": 35,
   "id": "9154a073",
   "metadata": {},
   "outputs": [
    {
     "data": {
      "text/plain": [
       "array([  0.,  10.,  20.,  30.,  40.,  50.,  60.,  70.,  80.,  90., 100.])"
      ]
     },
     "execution_count": 35,
     "metadata": {},
     "output_type": "execute_result"
    }
   ],
   "source": [
    "# Python Programming for demonstrating linspace() method.\n",
    "\n",
    "# import numpy module.\n",
    "import numpy as np\n",
    "\n",
    "# start=0\n",
    "# end=100\n",
    "# num_of_samples=11\n",
    "# Creating and displying the linspace result.\n",
    "np.linspace(0,100,11)"
   ]
  },
  {
   "cell_type": "markdown",
   "id": "75de60ce",
   "metadata": {},
   "source": [
    "<b> 3. arange() :\n",
    "- It creates an array by using the evenly spaced values over the given interval.\n",
    "\n",
    "\n",
    "- <b> Syntax3:-  varname=numpy.arange(Start,Stop,Step)\n",
    "\n",
    "\n",
    "- Here var name is an object of <class,ndarray>.\n",
    "    \n",
    "    \n",
    "- start : [optional] start of interval range. By default start = 0\n",
    "    \n",
    "    \n",
    "- stop  : end of interval range. creates an object of ndarray with the values from Start to Stop-1.\n",
    "\n",
    "    \n",
    "    \n",
    "- step  : [optional] step size of interval. By default step size = 1.\n",
    "\n",
    "\n",
    "- arange() always create an object of ndarray in 1-D array only but not Possible to create directly 2-D and Multi-Dimensional \n",
    "  Arrays.\n",
    "\n",
    "    \n",
    "- To create 2-D and Multi-Dimensional Arrays, we must use reshape() or shape attribute.\n"
   ]
  },
  {
   "cell_type": "code",
   "execution_count": 37,
   "id": "bd9cc9a8",
   "metadata": {},
   "outputs": [
    {
     "name": "stdout",
     "output_type": "stream",
     "text": [
      "[1.  1.5 2.  2.5 3.  3.5 4.  4.5]\n"
     ]
    }
   ],
   "source": [
    "# Python Programming for domenstrating arange() method.\n",
    " \n",
    "# importing the numpy module.\n",
    "import numpy as np\n",
    " \n",
    "# Printing all numbers from 1 to 5 in steps of 0.5\n",
    "print(np.arange(1, 5, 0.5))"
   ]
  },
  {
   "cell_type": "code",
   "execution_count": 41,
   "id": "7300933d",
   "metadata": {},
   "outputs": [
    {
     "name": "stdout",
     "output_type": "stream",
     "text": [
      "[10 20 30 40 50 60 70 80] <class 'numpy.ndarray'>\n"
     ]
    }
   ],
   "source": [
    "# Python Programming for domenstrating arange() method.\n",
    " \n",
    "# importing the numpy module.\n",
    "import numpy as np\n",
    "\n",
    "# creating arange object as \"a\" with,\n",
    "# start=10\n",
    "# stop=81\n",
    "# step=10\n",
    "a=np.arange(10,81,10)\n",
    "\n",
    "# Printing \"a\" object and its type.\n",
    "print(a,type(a))"
   ]
  },
  {
   "cell_type": "code",
   "execution_count": 40,
   "id": "52882bad",
   "metadata": {},
   "outputs": [
    {
     "data": {
      "text/plain": [
       "1"
      ]
     },
     "execution_count": 40,
     "metadata": {},
     "output_type": "execute_result"
    }
   ],
   "source": [
    "# printing ndim for \"a\" object.\n",
    "a.ndim         # its 1D."
   ]
  },
  {
   "cell_type": "code",
   "execution_count": 43,
   "id": "e71cd3dc",
   "metadata": {},
   "outputs": [
    {
     "name": "stdout",
     "output_type": "stream",
     "text": [
      "[[10 20 30 40]\n",
      " [50 60 70 80]]\n"
     ]
    }
   ],
   "source": [
    "# Converting 1D to 2D and storing in \"b\" object.\n",
    "b=a.reshape(2,4)\n",
    "\n",
    "# printing the \"b\" object.\n",
    "print(b)"
   ]
  },
  {
   "cell_type": "code",
   "execution_count": 44,
   "id": "6e547eb3",
   "metadata": {},
   "outputs": [
    {
     "data": {
      "text/plain": [
       "2"
      ]
     },
     "execution_count": 44,
     "metadata": {},
     "output_type": "execute_result"
    }
   ],
   "source": [
    "# printing ndim for \"b\" object.\n",
    "b.ndim         # its 2D."
   ]
  },
  {
   "cell_type": "code",
   "execution_count": 45,
   "id": "948ec722",
   "metadata": {},
   "outputs": [
    {
     "data": {
      "text/plain": [
       "(2, 4)"
      ]
     },
     "execution_count": 45,
     "metadata": {},
     "output_type": "execute_result"
    }
   ],
   "source": [
    "# printing shape for \"b\" object.\n",
    "b.shape        # its  2D, 2-rows and 4-columns."
   ]
  },
  {
   "cell_type": "code",
   "execution_count": 49,
   "id": "6e5191f9",
   "metadata": {},
   "outputs": [
    {
     "name": "stdout",
     "output_type": "stream",
     "text": [
      "[[[10 20]\n",
      "  [30 40]]\n",
      "\n",
      " [[50 60]\n",
      "  [70 80]]]\n"
     ]
    }
   ],
   "source": [
    "# Converting 1D to 3D and storing in \"c\" object.\n",
    "c=a.reshape(2,2,2)\n",
    "\n",
    "# printing the \"c\" object.\n",
    "print(c)"
   ]
  },
  {
   "cell_type": "code",
   "execution_count": 50,
   "id": "5f01f258",
   "metadata": {},
   "outputs": [
    {
     "data": {
      "text/plain": [
       "3"
      ]
     },
     "execution_count": 50,
     "metadata": {},
     "output_type": "execute_result"
    }
   ],
   "source": [
    "# printing ndim for \"c\" object.\n",
    "c.ndim         # its 3D."
   ]
  },
  {
   "cell_type": "code",
   "execution_count": 51,
   "id": "1d8455ab",
   "metadata": {},
   "outputs": [
    {
     "data": {
      "text/plain": [
       "(2, 2, 2)"
      ]
     },
     "execution_count": 51,
     "metadata": {},
     "output_type": "execute_result"
    }
   ],
   "source": [
    "# printing shape for \"c\" object.\n",
    "c.shape        # its  3D, 2-rows and 2-columns."
   ]
  },
  {
   "cell_type": "code",
   "execution_count": 52,
   "id": "f9d641c8",
   "metadata": {},
   "outputs": [
    {
     "ename": "ValueError",
     "evalue": "cannot reshape array of size 8 into shape (3,3)",
     "output_type": "error",
     "traceback": [
      "\u001b[1;31m---------------------------------------------------------------------------\u001b[0m",
      "\u001b[1;31mValueError\u001b[0m                                Traceback (most recent call last)",
      "\u001b[1;32m~\\AppData\\Local\\Temp\\ipykernel_12048\\4052583568.py\u001b[0m in \u001b[0;36m<module>\u001b[1;34m\u001b[0m\n\u001b[0;32m      1\u001b[0m \u001b[1;31m# If we are trying to convert 1D (8,) to 2D (3,3).\u001b[0m\u001b[1;33m\u001b[0m\u001b[1;33m\u001b[0m\u001b[0m\n\u001b[1;32m----> 2\u001b[1;33m \u001b[0md\u001b[0m\u001b[1;33m=\u001b[0m\u001b[0ma\u001b[0m\u001b[1;33m.\u001b[0m\u001b[0mreshape\u001b[0m\u001b[1;33m(\u001b[0m\u001b[1;36m3\u001b[0m\u001b[1;33m,\u001b[0m\u001b[1;36m3\u001b[0m\u001b[1;33m)\u001b[0m\u001b[1;33m\u001b[0m\u001b[1;33m\u001b[0m\u001b[0m\n\u001b[0m\u001b[0;32m      3\u001b[0m \u001b[1;33m\u001b[0m\u001b[0m\n\u001b[0;32m      4\u001b[0m \u001b[1;31m# printing the \"b\" object.\u001b[0m\u001b[1;33m\u001b[0m\u001b[1;33m\u001b[0m\u001b[0m\n\u001b[0;32m      5\u001b[0m \u001b[0mprint\u001b[0m\u001b[1;33m(\u001b[0m\u001b[0md\u001b[0m\u001b[1;33m)\u001b[0m\u001b[1;33m\u001b[0m\u001b[1;33m\u001b[0m\u001b[0m\n",
      "\u001b[1;31mValueError\u001b[0m: cannot reshape array of size 8 into shape (3,3)"
     ]
    }
   ],
   "source": [
    "# If we are trying to convert 1D (8,) to 2D (3,3).\n",
    "# Then we get ValueError.\n",
    "d=a.reshape(3,3)\n",
    "\n",
    "# printing the \"b\" object.\n",
    "print(d)"
   ]
  },
  {
   "cell_type": "markdown",
   "id": "470f390f",
   "metadata": {},
   "source": [
    "- In above example we got \"ValueError\" bcoz, a object contains 8 elements, we are trying to create 9 elements 2D object,\n",
    "  so its not possible."
   ]
  },
  {
   "cell_type": "markdown",
   "id": "0d220172",
   "metadata": {},
   "source": [
    "<b> 4. zeros() :\n",
    "- This Function is used for building ZERO matrix either with 1-D or 2-D or n-D.\n",
    "\n",
    "\n",
    "- <b> Syntax: -  varname=numpy.zeros(shape,dtype)\n",
    "    \n",
    "    \n",
    "- Here Shape can be 1-D (number of Zeros)  or 2-D (Rows, Cols) or n-D (Number of Matrices, Number of Rows, Number of Columns).\n"
   ]
  },
  {
   "cell_type": "code",
   "execution_count": 58,
   "id": "53145092",
   "metadata": {},
   "outputs": [
    {
     "name": "stdout",
     "output_type": "stream",
     "text": [
      "[0. 0. 0. 0. 0. 0.] <class 'numpy.ndarray'>\n"
     ]
    }
   ],
   "source": [
    "# Python Programming for domenstrating 1D zeros() method.\n",
    " \n",
    "# importing the numpy module.\n",
    "import numpy as np\n",
    "\n",
    "# creating 1D zeros object with 6 zeros.\n",
    "a=np.zeros(6,)     # dtype is optional\n",
    "\n",
    "# Printing \"a\" object and its type.\n",
    "print(a,type(a))    # by default dtype returns float."
   ]
  },
  {
   "cell_type": "code",
   "execution_count": 59,
   "id": "a5eb3fb6",
   "metadata": {},
   "outputs": [
    {
     "data": {
      "text/plain": [
       "1"
      ]
     },
     "execution_count": 59,
     "metadata": {},
     "output_type": "execute_result"
    }
   ],
   "source": [
    "# printing ndim for \"a\" object.\n",
    "a.ndim         # its 1D."
   ]
  },
  {
   "cell_type": "code",
   "execution_count": 60,
   "id": "83285572",
   "metadata": {},
   "outputs": [
    {
     "data": {
      "text/plain": [
       "(6,)"
      ]
     },
     "execution_count": 60,
     "metadata": {},
     "output_type": "execute_result"
    }
   ],
   "source": [
    "# printing shape for \"a\" object.\n",
    "a.shape        # its  (6, )."
   ]
  },
  {
   "cell_type": "code",
   "execution_count": 61,
   "id": "61b94a01",
   "metadata": {},
   "outputs": [
    {
     "name": "stdout",
     "output_type": "stream",
     "text": [
      "[0 0 0 0 0 0] <class 'numpy.ndarray'>\n"
     ]
    }
   ],
   "source": [
    "# Python Programming for domenstrating 1D zeros() method with int.\n",
    " \n",
    "# importing the numpy module.\n",
    "import numpy as np\n",
    "\n",
    "# creating 1D zeros object with 6 zeros.\n",
    "a=np.zeros(6,dtype=int)    # dtype=int\n",
    "\n",
    "# Printing \"a\" object and its type.\n",
    "print(a,type(a)) "
   ]
  },
  {
   "cell_type": "code",
   "execution_count": 62,
   "id": "392ad5bb",
   "metadata": {},
   "outputs": [
    {
     "data": {
      "text/plain": [
       "1"
      ]
     },
     "execution_count": 62,
     "metadata": {},
     "output_type": "execute_result"
    }
   ],
   "source": [
    "# printing ndim for \"a\" object.\n",
    "a.ndim         # its 1D."
   ]
  },
  {
   "cell_type": "code",
   "execution_count": 63,
   "id": "580984ed",
   "metadata": {},
   "outputs": [
    {
     "data": {
      "text/plain": [
       "(6,)"
      ]
     },
     "execution_count": 63,
     "metadata": {},
     "output_type": "execute_result"
    }
   ],
   "source": [
    "# printing shape for \"a\" object.\n",
    "a.shape        # its  (6, )."
   ]
  },
  {
   "cell_type": "code",
   "execution_count": 64,
   "id": "a8629df7",
   "metadata": {},
   "outputs": [
    {
     "name": "stdout",
     "output_type": "stream",
     "text": [
      "[[0 0]\n",
      " [0 0]\n",
      " [0 0]\n",
      " [0 0]] <class 'numpy.ndarray'>\n"
     ]
    }
   ],
   "source": [
    "# Python Programming for domenstrating 2D zeros() method.\n",
    " \n",
    "# importing the numpy module.\n",
    "import numpy as np\n",
    "\n",
    "# creating 2D zeros object with (4,2) shape.\n",
    "b=np.zeros((4,2),dtype=int)    # dtype=int\n",
    "\n",
    "# Printing \"b\" object and its type.\n",
    "print(b,type(b)) "
   ]
  },
  {
   "cell_type": "code",
   "execution_count": 65,
   "id": "14523a27",
   "metadata": {},
   "outputs": [
    {
     "data": {
      "text/plain": [
       "2"
      ]
     },
     "execution_count": 65,
     "metadata": {},
     "output_type": "execute_result"
    }
   ],
   "source": [
    "# printing ndim for \"b\" object.\n",
    "b.ndim         # its 2D."
   ]
  },
  {
   "cell_type": "code",
   "execution_count": 67,
   "id": "018eee4f",
   "metadata": {},
   "outputs": [
    {
     "data": {
      "text/plain": [
       "(4, 2)"
      ]
     },
     "execution_count": 67,
     "metadata": {},
     "output_type": "execute_result"
    }
   ],
   "source": [
    "# printing shape for \"b\" object.\n",
    "b.shape        # its 4-rows, 2-columns."
   ]
  },
  {
   "cell_type": "code",
   "execution_count": 72,
   "id": "578491ae",
   "metadata": {},
   "outputs": [
    {
     "name": "stdout",
     "output_type": "stream",
     "text": [
      "[[[0 0 0 0]\n",
      "  [0 0 0 0]\n",
      "  [0 0 0 0]]\n",
      "\n",
      " [[0 0 0 0]\n",
      "  [0 0 0 0]\n",
      "  [0 0 0 0]]\n",
      "\n",
      " [[0 0 0 0]\n",
      "  [0 0 0 0]\n",
      "  [0 0 0 0]]] <class 'numpy.ndarray'>\n"
     ]
    }
   ],
   "source": [
    "# Python Programming for domenstrating 3D zeros() method.\n",
    " \n",
    "# importing the numpy module.\n",
    "import numpy as np\n",
    "\n",
    "# creating 3D zeros object with (3,3,4) shape.\n",
    "c=np.zeros((3,3,4),dtype=int)    # dtype=int\n",
    "\n",
    "# Printing \"c\" object and its type.\n",
    "print(c,type(c)) "
   ]
  },
  {
   "cell_type": "code",
   "execution_count": 71,
   "id": "e43b8ced",
   "metadata": {},
   "outputs": [
    {
     "data": {
      "text/plain": [
       "3"
      ]
     },
     "execution_count": 71,
     "metadata": {},
     "output_type": "execute_result"
    }
   ],
   "source": [
    "# printing ndim for \"c\" object.\n",
    "c.ndim         # its 3D."
   ]
  },
  {
   "cell_type": "code",
   "execution_count": 73,
   "id": "f6717dd7",
   "metadata": {},
   "outputs": [
    {
     "data": {
      "text/plain": [
       "(3, 3, 4)"
      ]
     },
     "execution_count": 73,
     "metadata": {},
     "output_type": "execute_result"
    }
   ],
   "source": [
    "# printing shape for \"c\" object.\n",
    "c.shape        # its 3D, 3-matrix, (3-rows and 4-columns for each matrix)."
   ]
  },
  {
   "cell_type": "markdown",
   "id": "143e77f3",
   "metadata": {},
   "source": [
    "<b> 5. ones() :\n",
    "- This Function is used for building ONEs matrix either with 1-D or 2-D or n-D.\n",
    "\n",
    "\n",
    "<b> - Syntax:   varname=numpy.ones(shape,dtype)\n",
    "    \n",
    "    \n",
    "- Here Shape can be 1-D (number of ones)  or 2-D (Rows, Cols) or n-D (Number of Matrices, Number of Rows, Number of Columns).\n"
   ]
  },
  {
   "cell_type": "code",
   "execution_count": 76,
   "id": "bbf1331d",
   "metadata": {},
   "outputs": [
    {
     "name": "stdout",
     "output_type": "stream",
     "text": [
      "[1. 1. 1. 1. 1. 1. 1. 1.] <class 'numpy.ndarray'>\n"
     ]
    }
   ],
   "source": [
    "# Python Programming for domenstrating 1D ones() method.\n",
    " \n",
    "# importing the numpy module.\n",
    "import numpy as np\n",
    "\n",
    "# creating 1D ones object with 8 ones.\n",
    "a=np.ones(8,)     # dtype is optional\n",
    "\n",
    "# Printing \"a\" object and its type.\n",
    "print(a,type(a))    # by default dtype returns float."
   ]
  },
  {
   "cell_type": "code",
   "execution_count": 77,
   "id": "5a7085a0",
   "metadata": {},
   "outputs": [
    {
     "data": {
      "text/plain": [
       "1"
      ]
     },
     "execution_count": 77,
     "metadata": {},
     "output_type": "execute_result"
    }
   ],
   "source": [
    "# printing ndim for \"a\" object.\n",
    "a.ndim         # its 1D."
   ]
  },
  {
   "cell_type": "code",
   "execution_count": 78,
   "id": "c226e0f0",
   "metadata": {},
   "outputs": [
    {
     "data": {
      "text/plain": [
       "(8,)"
      ]
     },
     "execution_count": 78,
     "metadata": {},
     "output_type": "execute_result"
    }
   ],
   "source": [
    "# printing shape for \"a\" object.\n",
    "a.shape        # its number of ones=8 (8, )"
   ]
  },
  {
   "cell_type": "code",
   "execution_count": 79,
   "id": "097c4f7d",
   "metadata": {},
   "outputs": [
    {
     "name": "stdout",
     "output_type": "stream",
     "text": [
      "[[1 1 1 1]\n",
      " [1 1 1 1]\n",
      " [1 1 1 1]] <class 'numpy.ndarray'>\n"
     ]
    }
   ],
   "source": [
    "# Python Programming for domenstrating 2D ones() method with int.\n",
    " \n",
    "# importing the numpy module.\n",
    "import numpy as np\n",
    "\n",
    "# creating 2D ones object with 12 ones.\n",
    "b=np.ones((3,4,),dtype=int)     # dtype=int\n",
    "\n",
    "# Printing \"b\" object and its type.\n",
    "print(b,type(b))    "
   ]
  },
  {
   "cell_type": "code",
   "execution_count": 80,
   "id": "10ff754e",
   "metadata": {},
   "outputs": [
    {
     "data": {
      "text/plain": [
       "2"
      ]
     },
     "execution_count": 80,
     "metadata": {},
     "output_type": "execute_result"
    }
   ],
   "source": [
    "# printing ndim for \"b\" object.\n",
    "b.ndim         # its 2D."
   ]
  },
  {
   "cell_type": "code",
   "execution_count": 81,
   "id": "756f3600",
   "metadata": {},
   "outputs": [
    {
     "data": {
      "text/plain": [
       "(3, 4)"
      ]
     },
     "execution_count": 81,
     "metadata": {},
     "output_type": "execute_result"
    }
   ],
   "source": [
    "# printing shape for \"b\" object.\n",
    "b.shape        # its (3-rows, 4-columns)."
   ]
  },
  {
   "cell_type": "code",
   "execution_count": 82,
   "id": "c220c452",
   "metadata": {},
   "outputs": [
    {
     "name": "stdout",
     "output_type": "stream",
     "text": [
      "[[[1 1 1]\n",
      "  [1 1 1]]\n",
      "\n",
      " [[1 1 1]\n",
      "  [1 1 1]]] <class 'numpy.ndarray'>\n"
     ]
    }
   ],
   "source": [
    "# Python Programming for domenstrating 3D ones() method with int.\n",
    " \n",
    "# importing the numpy module.\n",
    "import numpy as np\n",
    "\n",
    "# creating 2D ones object with 12 ones.\n",
    "c=np.ones((2,2,3,),dtype=int)     # dtype=int\n",
    "\n",
    "# Printing \"c\" object and its type.\n",
    "print(c,type(c)) "
   ]
  },
  {
   "cell_type": "code",
   "execution_count": 83,
   "id": "4b9327dc",
   "metadata": {},
   "outputs": [
    {
     "data": {
      "text/plain": [
       "3"
      ]
     },
     "execution_count": 83,
     "metadata": {},
     "output_type": "execute_result"
    }
   ],
   "source": [
    "# printing ndim for \"c\" object.\n",
    "c.ndim         # its 3D."
   ]
  },
  {
   "cell_type": "code",
   "execution_count": 84,
   "id": "1048d908",
   "metadata": {},
   "outputs": [
    {
     "data": {
      "text/plain": [
       "(2, 2, 3)"
      ]
     },
     "execution_count": 84,
     "metadata": {},
     "output_type": "execute_result"
    }
   ],
   "source": [
    "# printing shape for \"c\" object.\n",
    "c.shape        # its (2-matrix, 2-rows, 3-columns)."
   ]
  },
  {
   "cell_type": "markdown",
   "id": "d98b0b8b",
   "metadata": {},
   "source": [
    "<b> 6. full() :\n",
    "- This function is used for building a matrix by specifying fill value either 1-D or 2-D or n-D.\n",
    "\n",
    "    \n",
    "- <b> Syntax:-   varname=numpy.full(shape,fill_value,dtype)\n",
    "    \n",
    "    \n",
    "- Here varname is an object of <class, numpy.ndarray>\n",
    "    \n",
    "    \n",
    "- Here Shape can be 1-D (number of values)  or 2-D (Rows, Cols) or n-D (Number of Matrices, Number of Rows, Number of Columns). \n",
    "\n",
    "    \n",
    "- fill value can be any number of programmer choice.\n",
    "    "
   ]
  },
  {
   "cell_type": "code",
   "execution_count": 85,
   "id": "d01b4bfc",
   "metadata": {},
   "outputs": [
    {
     "name": "stdout",
     "output_type": "stream",
     "text": [
      "[3 3 3 3 3] <class 'numpy.ndarray'>\n"
     ]
    }
   ],
   "source": [
    "# Python Programming for domenstrating 1D full() method.\n",
    " \n",
    "# importing the numpy module.\n",
    "import numpy as np\n",
    "\n",
    "# creating 1D ones object with 5 threes(3's).\n",
    "a=np.full(5,3)     # dtype is optional\n",
    "\n",
    "# Printing \"a\" object and its type.\n",
    "print(a,type(a))    # by default dtype returns int."
   ]
  },
  {
   "cell_type": "code",
   "execution_count": 86,
   "id": "147939cc",
   "metadata": {},
   "outputs": [
    {
     "data": {
      "text/plain": [
       "1"
      ]
     },
     "execution_count": 86,
     "metadata": {},
     "output_type": "execute_result"
    }
   ],
   "source": [
    "# printing ndim for \"a\" object.\n",
    "a.ndim         # its 1D."
   ]
  },
  {
   "cell_type": "code",
   "execution_count": 87,
   "id": "80bb45a3",
   "metadata": {},
   "outputs": [
    {
     "data": {
      "text/plain": [
       "(5,)"
      ]
     },
     "execution_count": 87,
     "metadata": {},
     "output_type": "execute_result"
    }
   ],
   "source": [
    "# printing shape for \"a\" object.\n",
    "a.shape        # its number of threes=5 (5, )"
   ]
  },
  {
   "cell_type": "code",
   "execution_count": 89,
   "id": "5f36d612",
   "metadata": {},
   "outputs": [
    {
     "name": "stdout",
     "output_type": "stream",
     "text": [
      "[[3 3 3 3]\n",
      " [3 3 3 3]\n",
      " [3 3 3 3]] <class 'numpy.ndarray'>\n"
     ]
    }
   ],
   "source": [
    "# Python Programming for domenstrating 2D full() method .\n",
    " \n",
    "# importing the numpy module.\n",
    "import numpy as np\n",
    "\n",
    "# creating 2D ones object with 12 threes(3's).\n",
    "b=np.full((3,4),3)     # dtype is optional\n",
    "\n",
    "# Printing \"b\" object and its type.\n",
    "print(b,type(b))    # by default dtype returns int."
   ]
  },
  {
   "cell_type": "code",
   "execution_count": 90,
   "id": "744344b3",
   "metadata": {},
   "outputs": [
    {
     "data": {
      "text/plain": [
       "2"
      ]
     },
     "execution_count": 90,
     "metadata": {},
     "output_type": "execute_result"
    }
   ],
   "source": [
    "# printing ndim for \"b\" object.\n",
    "b.ndim         # its 2D."
   ]
  },
  {
   "cell_type": "code",
   "execution_count": 91,
   "id": "e137a0ff",
   "metadata": {},
   "outputs": [
    {
     "data": {
      "text/plain": [
       "(3, 4)"
      ]
     },
     "execution_count": 91,
     "metadata": {},
     "output_type": "execute_result"
    }
   ],
   "source": [
    "# printing shape for \"b\" object.\n",
    "b.shape        # its 3-rows and 4-columns."
   ]
  },
  {
   "cell_type": "code",
   "execution_count": 93,
   "id": "bc049a17",
   "metadata": {},
   "outputs": [
    {
     "name": "stdout",
     "output_type": "stream",
     "text": [
      "[[[6 6]\n",
      "  [6 6]]\n",
      "\n",
      " [[6 6]\n",
      "  [6 6]]\n",
      "\n",
      " [[6 6]\n",
      "  [6 6]]] <class 'numpy.ndarray'>\n"
     ]
    }
   ],
   "source": [
    "# Python Programming for domenstrating 3D full() method .\n",
    " \n",
    "# importing the numpy module.\n",
    "import numpy as np\n",
    "\n",
    "# creating 2D ones object with 12 six's(6's).\n",
    "c=np.full((3,2,2),6)     # dtype is optional\n",
    "\n",
    "# Printing \"c\" object and its type.\n",
    "print(c,type(c))    # by default dtype returns int."
   ]
  },
  {
   "cell_type": "code",
   "execution_count": 94,
   "id": "166b05cd",
   "metadata": {},
   "outputs": [
    {
     "data": {
      "text/plain": [
       "3"
      ]
     },
     "execution_count": 94,
     "metadata": {},
     "output_type": "execute_result"
    }
   ],
   "source": [
    "# printing ndim for \"c\" object.\n",
    "c.ndim         # its 3D."
   ]
  },
  {
   "cell_type": "code",
   "execution_count": 96,
   "id": "870c350f",
   "metadata": {},
   "outputs": [
    {
     "data": {
      "text/plain": [
       "(3, 2, 2)"
      ]
     },
     "execution_count": 96,
     "metadata": {},
     "output_type": "execute_result"
    }
   ],
   "source": [
    "# printing shape for \"c\" object.\n",
    "c.shape        # its 3-matrix, 2-rows and 2-columns."
   ]
  },
  {
   "cell_type": "markdown",
   "id": "7676ef32",
   "metadata": {},
   "source": [
    "<b> 7. identity() :\n",
    "- identity returns a square matrix (special case of a 2D-array) which is an identity matrix with the main diagonal (i.e. 'k=0')\n",
    "  as 1's and the other values as 0's. you can't change the diagonal k here.\n",
    "    \n",
    "    \n",
    "- <b> Syntax: -  varname=numpy.identity(N,dtype)\n",
    "    \n",
    "    \n",
    "- Here N represents Either we can take Rows or Columns and PVM takes as NXN Matrix (Square Matrix--Unit or Identity).\n"
   ]
  },
  {
   "cell_type": "code",
   "execution_count": 97,
   "id": "f5b04d58",
   "metadata": {},
   "outputs": [
    {
     "name": "stdout",
     "output_type": "stream",
     "text": [
      "[[1 0 0]\n",
      " [0 1 0]\n",
      " [0 0 1]] <class 'numpy.ndarray'>\n"
     ]
    }
   ],
   "source": [
    "# Python Programming for domenstrating identity() method.\n",
    " \n",
    "# importing the numpy module.\n",
    "import numpy as np\n",
    "\n",
    "# creating 2D (3X3) identity() object.\n",
    "a=np.identity(3,dtype=int)   # by default dtype is float.\n",
    "\n",
    "# Printing \"a\" object and its type.\n",
    "print(a,type(a))      # it will takes diagonal's=\"1\" and other values as \"0\"\n"
   ]
  },
  {
   "cell_type": "code",
   "execution_count": 98,
   "id": "fff1124f",
   "metadata": {},
   "outputs": [
    {
     "name": "stdout",
     "output_type": "stream",
     "text": [
      "[[1. 0. 0. 0. 0. 0.]\n",
      " [0. 1. 0. 0. 0. 0.]\n",
      " [0. 0. 1. 0. 0. 0.]\n",
      " [0. 0. 0. 1. 0. 0.]\n",
      " [0. 0. 0. 0. 1. 0.]\n",
      " [0. 0. 0. 0. 0. 1.]] <class 'numpy.ndarray'>\n"
     ]
    }
   ],
   "source": [
    "# Python Programming for domenstrating identity() method.\n",
    " \n",
    "# importing the numpy module.\n",
    "import numpy as np\n",
    "\n",
    "# creating 2D (6X6) identity() object.\n",
    "a=np.identity(6,)   # by default dtype is float.\n",
    "\n",
    "# Printing \"a\" object and its type.\n",
    "print(a,type(a))      # it will takes diagonal's=\"1\" and other values as \"0\"\n"
   ]
  },
  {
   "cell_type": "markdown",
   "id": "c635cddd",
   "metadata": {},
   "source": [
    "<b> 8. eye() :\n",
    "- returns a 2D-array, which fills the diagonal, i.e. 'k' which can be set, with 1's and rest with 0's.\n",
    "    \n",
    "                      (OR)\n",
    "- Return a 2-D array with ones on the diagonal and zeros elsewhere.\n",
    "    \n",
    "    \n",
    "- <b> Syntax : - varname=numpy.eye(N, M=None, k=0, dtype=<class 'float'>)\n",
    "    \n",
    "    \n",
    "- Here N : Number of rows in the output.\n",
    "    \n",
    "    \n",
    "- Here M : Number of columns in the output. If None, defaults to N. N is Optional.\n",
    "    \n",
    "    \n",
    "- Here k : Index of the diagonal: 0 (the default) refers to the main diagonal, a positive value refers to an upper diagonal, \n",
    "  and a negative value to a lower diagonal. (Optional).\n",
    "    \n",
    "    \n",
    "- Here dtype : Data-type of the returned array, by default data type is \"float\"."
   ]
  },
  {
   "cell_type": "code",
   "execution_count": 101,
   "id": "0188a0fa",
   "metadata": {},
   "outputs": [
    {
     "name": "stdout",
     "output_type": "stream",
     "text": [
      "[[1 0]\n",
      " [0 1]] <class 'numpy.ndarray'>\n"
     ]
    }
   ],
   "source": [
    "# Python Programming for domenstrating eye() method.\n",
    " \n",
    "# importing the numpy module.\n",
    "import numpy as np\n",
    "\n",
    "# creating 2D (2X2) eye() object.\n",
    "a=np.eye(2,dtype=int)   # by default dtype is float.\n",
    "\n",
    "# Printing \"a\" object and its type.\n",
    "print(a,type(a))      # it will takes diagonal's=\"1\" and other values as \"0\""
   ]
  },
  {
   "cell_type": "code",
   "execution_count": 100,
   "id": "d0029658",
   "metadata": {},
   "outputs": [
    {
     "data": {
      "text/plain": [
       "2"
      ]
     },
     "execution_count": 100,
     "metadata": {},
     "output_type": "execute_result"
    }
   ],
   "source": [
    "# printing ndim for \"a\" object.\n",
    "a.ndim         # its 2D."
   ]
  },
  {
   "cell_type": "code",
   "execution_count": 102,
   "id": "7a932d51",
   "metadata": {},
   "outputs": [
    {
     "name": "stdout",
     "output_type": "stream",
     "text": [
      "[[1. 0. 0.]\n",
      " [0. 1. 0.]\n",
      " [0. 0. 1.]\n",
      " [0. 0. 0.]\n",
      " [0. 0. 0.]] <class 'numpy.ndarray'>\n"
     ]
    }
   ],
   "source": [
    "# Python Programming for domenstrating eye() method.\n",
    " \n",
    "# importing the numpy module.\n",
    "import numpy as np\n",
    "\n",
    "# creating 2D (5X3) eye() object.\n",
    "b=np.eye(5,3)   # by default dtype is float.\n",
    "\n",
    "# Printing \"b\" object and its type.\n",
    "print(b,type(b))      # it will takes diagonal's=\"1\" and other values as \"0\""
   ]
  },
  {
   "cell_type": "code",
   "execution_count": 104,
   "id": "6cc3841f",
   "metadata": {},
   "outputs": [
    {
     "name": "stdout",
     "output_type": "stream",
     "text": [
      "[[0. 1. 0. 0. 0.]\n",
      " [0. 0. 1. 0. 0.]\n",
      " [0. 0. 0. 1. 0.]\n",
      " [0. 0. 0. 0. 1.]\n",
      " [0. 0. 0. 0. 0.]] <class 'numpy.ndarray'>\n"
     ]
    }
   ],
   "source": [
    "# Python Programming for domenstrating eye() method.\n",
    " \n",
    "# importing the numpy module.\n",
    "import numpy as np\n",
    "\n",
    "# creating 2D (5X5) eye() object.\n",
    "c=np.eye(5,5,k=1)   # by default dtype is float.\n",
    "\n",
    "# Printing \"c\" object and its type.\n",
    "print(c,type(c))      # it will takes diagonal's=\"1\" and other values as \"0\""
   ]
  },
  {
   "cell_type": "markdown",
   "id": "c00e800b",
   "metadata": {},
   "source": [
    "- In above example I have changed the diagonal index as 1 (k=1). Thats why it takes index=1 as diagonal."
   ]
  },
  {
   "cell_type": "markdown",
   "id": "b2b25fb5",
   "metadata": {},
   "source": [
    "<b> 9. hstack() :\n",
    "- Numpy hstack() function in Python is used to stack or concatenate arrays in sequence horizontally (column-wise).\n",
    "\n",
    "\n",
    "- This process is similar to concatenate arrays along the second axis, except for 1-D arrays where it concatenates along the \n",
    "  first axis. It stacks a sequence of two or more arrays into a single Numpy array.\n",
    "\n",
    "    \n",
    "- <b> Syntax: - varname=numpy.hstack(tup)\n",
    "    \n",
    "    \n",
    "- Here varname is an object of <class, numpy.ndarray>\n",
    "\n",
    "\n",
    "- Here tup it contains a sequence of arrays of the same shape. these arrays are to be concatenated as a parameter and return \n",
    "  a single Numpy array.\n"
   ]
  },
  {
   "cell_type": "code",
   "execution_count": 109,
   "id": "cf586587",
   "metadata": {},
   "outputs": [
    {
     "name": "stdout",
     "output_type": "stream",
     "text": [
      "[2 3 4 5 6 7]\n"
     ]
    }
   ],
   "source": [
    "# WAPP to demonstrate hstack on 1-D array.\n",
    "\n",
    "# importing the numpy module.\n",
    "import numpy as np\n",
    "\n",
    "'''create two 1-dimensional arrays of length three and then \n",
    "   horizontally stacked them with the hstack() function.'''\n",
    "\n",
    "# Create two NumPy arrays. \n",
    "arr = np.array([ 2, 3, 4])\n",
    "\n",
    "arr1 = np.array([5, 6, 7])\n",
    "\n",
    "# Use NumPy.hstack() Functions for concatenation.\n",
    "arr2 = np.hstack((arr,arr1))\n",
    "\n",
    "# print the result.\n",
    "print(arr2)"
   ]
  },
  {
   "cell_type": "code",
   "execution_count": 110,
   "id": "3c39dae9",
   "metadata": {},
   "outputs": [
    {
     "data": {
      "text/plain": [
       "1"
      ]
     },
     "execution_count": 110,
     "metadata": {},
     "output_type": "execute_result"
    }
   ],
   "source": [
    "# printing ndim for \"arr2\" object.\n",
    "arr2.ndim         # its 1D."
   ]
  },
  {
   "cell_type": "code",
   "execution_count": 111,
   "id": "25b015ea",
   "metadata": {},
   "outputs": [
    {
     "name": "stdout",
     "output_type": "stream",
     "text": [
      "[[ 2  3  5  6  8 10]\n",
      " [-1 -3 -5 -7 -8 -9]]\n"
     ]
    }
   ],
   "source": [
    "# WAPP to demonstrate hstack on 2-D array.\n",
    "\n",
    "# importing the numpy module.\n",
    "import numpy as np\n",
    "\n",
    "'''Here we stacked two 2d arrays of shape (2, 3) horizontally \n",
    "   resulting in an array of shape (2, 6).'''\n",
    "\n",
    "# creating an 2D input arrays. \n",
    "arr =  np.array([[ 2, 3, 5], [ -1, -3, -5]])\n",
    "\n",
    "arr1 = np.array([[ 6, 8, 10], [ -7, -8, -9]])\n",
    "\n",
    "\n",
    "# Use NumPy.hstack() Functions for concatenation.\n",
    "arr2 = np.hstack((arr,arr1))\n",
    "\n",
    "# print the result.\n",
    "print(arr2)"
   ]
  },
  {
   "cell_type": "code",
   "execution_count": 112,
   "id": "89d3e65b",
   "metadata": {},
   "outputs": [
    {
     "data": {
      "text/plain": [
       "2"
      ]
     },
     "execution_count": 112,
     "metadata": {},
     "output_type": "execute_result"
    }
   ],
   "source": [
    "# printing ndim for \"arr2\" object.\n",
    "arr2.ndim         # its 2D."
   ]
  },
  {
   "cell_type": "code",
   "execution_count": 114,
   "id": "4ea5dac9",
   "metadata": {},
   "outputs": [
    {
     "name": "stdout",
     "output_type": "stream",
     "text": [
      "[[ 2  3  5  6  8 10]\n",
      " [-1 -3 -5 -7 -8 -9]]\n"
     ]
    }
   ],
   "source": [
    "# WAPP to demonstrate concatenate() on 2-D array.\n",
    "\n",
    "# importing the numpy module.\n",
    "import numpy as np\n",
    "\n",
    "'''Here we stacked two 2d arrays of shape (2, 3) horizontally \n",
    "   resulting in an array of shape (2, 6).'''\n",
    "\n",
    "# creating an 2D input arrays. \n",
    "arr =  np.array([[ 2, 3, 5], [ -1, -3, -5]])\n",
    "\n",
    "arr1 = np.array([[ 6, 8, 10], [ -7, -8, -9]])\n",
    "\n",
    "\n",
    "# Use NumPy.hstack() Functions for concatenation.\n",
    "arr2 = np.concatenate((arr,arr1),axis=1)\n",
    "\n",
    "# print the result.\n",
    "print(arr2)"
   ]
  },
  {
   "cell_type": "markdown",
   "id": "f58d5731",
   "metadata": {},
   "source": [
    "<b> concatenate() and (hstack, vstack) functions are same. We can use concatenate() it gives same result as hstack or vstack.\n",
    "- <b> Syntax for concatenate() : numpy.concatenate((a,b),axis=1 or axis=0)\n",
    "    \n",
    "    \n",
    "- Here \"a and b\" are individual ndarray objects.\n",
    "    \n",
    "    \n",
    "- axis=1 means hstack or column_wise.\n",
    "    \n",
    "    \n",
    "- axis=0 means vstack or row_wise."
   ]
  },
  {
   "cell_type": "markdown",
   "id": "2d4d5549",
   "metadata": {},
   "source": [
    "<b> 10. vstack() :\n",
    "- Numpy vstack() function in Python is used to stack or concate the sequence of given arrays vertically(row-wise).\n",
    "\n",
    "\n",
    "- This process is similar to concatenate arrays along the second axis, except for 1-D arrays where it concatenates along the \n",
    "  first axis. It stacks a sequence of two or more arrays into a single Numpy array.\n",
    "\n",
    "    \n",
    "    \n",
    "- <b> Syntax: - varname=numpy.hstack(tup)\n",
    "    \n",
    "    \n",
    "- Here varname is an object of <class, numpy.ndarray>\n",
    "\n",
    "\n",
    "- Here tup it contains a sequence of arrays of the same shape. these arrays are to be concatenated as a parameter and return \n",
    "  a single Numpy array.\n",
    "    "
   ]
  },
  {
   "cell_type": "code",
   "execution_count": 116,
   "id": "530b755e",
   "metadata": {},
   "outputs": [
    {
     "name": "stdout",
     "output_type": "stream",
     "text": [
      "[[2 3 4]\n",
      " [5 6 7]]\n"
     ]
    }
   ],
   "source": [
    "# WAPP to demonstrate vstack on 1-D array.\n",
    "\n",
    "# importing the numpy module.\n",
    "import numpy as np\n",
    "\n",
    "'''create two 1-dimensional arrays of length three and then \n",
    "   vertically stacked them with the vstack() function.'''\n",
    "\n",
    "# Create two NumPy arrays. \n",
    "arr = np.array([ 2, 3, 4])\n",
    "\n",
    "arr1 = np.array([5, 6, 7])\n",
    "\n",
    "# Use NumPy.vstack() Functionss for concatenation.\n",
    "arr2 = np.vstack((arr,arr1))\n",
    "\n",
    "# print the result.\n",
    "print(arr2)"
   ]
  },
  {
   "cell_type": "code",
   "execution_count": 117,
   "id": "a06ad2ba",
   "metadata": {},
   "outputs": [
    {
     "data": {
      "text/plain": [
       "2"
      ]
     },
     "execution_count": 117,
     "metadata": {},
     "output_type": "execute_result"
    }
   ],
   "source": [
    "# printing ndim for \"arr2\" object.\n",
    "arr2.ndim         # its 2D."
   ]
  },
  {
   "cell_type": "code",
   "execution_count": 118,
   "id": "bcd0f449",
   "metadata": {},
   "outputs": [
    {
     "name": "stdout",
     "output_type": "stream",
     "text": [
      "[[ 2  3  5]\n",
      " [-1 -3 -5]\n",
      " [ 6  8 10]\n",
      " [-7 -8 -9]]\n"
     ]
    }
   ],
   "source": [
    "# WAPP to demonstrate vstack on 2-D array.\n",
    "\n",
    "# importing the numpy module.\n",
    "import numpy as np\n",
    "\n",
    "'''Take 2-D Numpy arrays and pass them into this function as a \n",
    "   parameter, it will return the single 2-D array.'''\n",
    "\n",
    "# creating an 2D input arrays. \n",
    "arr =  np.array([[ 2, 3, 5], [ -1, -3, -5]])\n",
    "\n",
    "arr1 = np.array([[ 6, 8, 10], [ -7, -8, -9]])\n",
    "\n",
    "\n",
    "# Use NumPy.vstack() Functions for concatenation.\n",
    "arr2 = np.vstack((arr,arr1))\n",
    "\n",
    "# print the result.\n",
    "print(arr2)"
   ]
  },
  {
   "cell_type": "code",
   "execution_count": 119,
   "id": "9314fa8b",
   "metadata": {},
   "outputs": [
    {
     "data": {
      "text/plain": [
       "2"
      ]
     },
     "execution_count": 119,
     "metadata": {},
     "output_type": "execute_result"
    }
   ],
   "source": [
    "# printing ndim for \"arr2\" object.\n",
    "arr2.ndim         # its 2D."
   ]
  },
  {
   "cell_type": "code",
   "execution_count": 120,
   "id": "0872da22",
   "metadata": {},
   "outputs": [
    {
     "name": "stdout",
     "output_type": "stream",
     "text": [
      "[[[1 3]\n",
      "  [2 4]]\n",
      "\n",
      " [[3 5]\n",
      "  [5 7]]\n",
      "\n",
      " [[4 1]\n",
      "  [5 7]]\n",
      "\n",
      " [[6 8]\n",
      "  [3 5]]]\n"
     ]
    }
   ],
   "source": [
    "# WAPP to demonstrate vstack on 3-D array.\n",
    "\n",
    "# importing the numpy module.\n",
    "import numpy as np\n",
    "\n",
    "'''take two 3-D arrays of shapes (2, 2, 2) and apply this \n",
    "   function, it will return a single 3-D array of shapes (4, 2, 2).'''\n",
    "\n",
    "# creating an 3D input arrays. \n",
    "arr = np.array([[[1, 3], [2, 4]], [[3, 5], [5, 7]]])\n",
    "\n",
    "arr1 = np.array([[[4, 1], [5, 7]], [[6, 8],[3, 5]]])\n",
    "\n",
    "\n",
    "\n",
    "# Use NumPy.vstack() Functions for concatenation.\n",
    "arr2 = np.vstack((arr,arr1))\n",
    "\n",
    "# print the result.\n",
    "print(arr2)"
   ]
  },
  {
   "cell_type": "code",
   "execution_count": 121,
   "id": "1f014318",
   "metadata": {},
   "outputs": [
    {
     "data": {
      "text/plain": [
       "3"
      ]
     },
     "execution_count": 121,
     "metadata": {},
     "output_type": "execute_result"
    }
   ],
   "source": [
    "# printing ndim for \"arr2\" object.\n",
    "arr2.ndim         # its 2D."
   ]
  },
  {
   "cell_type": "markdown",
   "id": "fa8d50e7",
   "metadata": {},
   "source": [
    "<b> 11. diag() :\n",
    "- The diag() function is used to extract a diagonal or construct a diagonal array.\n",
    "\n",
    "\n",
    "- <b> Syntax : - varname=numpy.diag(v, k=0)\n",
    "    \n",
    "    \n",
    "- Here v : If v is a 2-D array, return a copy of its k-th diagonal. If v is a 1-D array, return a 2-D array with v on \n",
    "  the k-th diagonal.\n",
    "\n",
    "\n",
    "- Here k : Diagonal in question. The default is 0. Use k>0 for diagonals above the main diagonal,\n",
    "  and k<0 for diagonals below the main diagonal."
   ]
  },
  {
   "cell_type": "code",
   "execution_count": 122,
   "id": "5da76556",
   "metadata": {},
   "outputs": [
    {
     "name": "stdout",
     "output_type": "stream",
     "text": [
      "[[1 0 0]\n",
      " [0 2 0]\n",
      " [0 0 3]]\n"
     ]
    }
   ],
   "source": [
    "# WAPP to demonstrate diag() on 2-D array.\n",
    "\n",
    "# importing the numpy module.\n",
    "import numpy as np\n",
    "\n",
    "# Create 2D NumPy array with diagonals as (1,2,3). \n",
    "a=np.diag([1,2,3])\n",
    "\n",
    "# print the result.\n",
    "print(a)"
   ]
  },
  {
   "cell_type": "code",
   "execution_count": 123,
   "id": "7a279546",
   "metadata": {},
   "outputs": [
    {
     "data": {
      "text/plain": [
       "array([1, 2, 3])"
      ]
     },
     "execution_count": 123,
     "metadata": {},
     "output_type": "execute_result"
    }
   ],
   "source": [
    "# WAPP to extract the diagonals from 2-D array.\n",
    "\n",
    "# importing the numpy module.\n",
    "import numpy as np\n",
    "\n",
    "# etracting diagonals from \"a\" object.\n",
    "np.diag(a)"
   ]
  },
  {
   "cell_type": "markdown",
   "id": "e88c712d",
   "metadata": {},
   "source": [
    "<b> 12. ravel() :\n",
    "- ravel() is used to change a 2-dimensional array or a multi-dimensional array into a contiguous flattened array.\n",
    "\n",
    "\n",
    "- The returned array has the same data type as the source array or input array.\n",
    "\n",
    "\n",
    "- <b> Syntax : - varname=numpy.ravel(x,) \n",
    "    \n",
    "    \n",
    "- Here x : This parameter defines the input array, which we want to change in a contiguous flattened array. \n",
    "  The array elements are read in the order specified by the order parameter and packed as a 1-D array."
   ]
  },
  {
   "cell_type": "code",
   "execution_count": 125,
   "id": "c1f671ab",
   "metadata": {},
   "outputs": [
    {
     "name": "stdout",
     "output_type": "stream",
     "text": [
      "[1 2 3 4 5 6]\n"
     ]
    }
   ],
   "source": [
    "# WAPP to demonstrate the ravel() function on 2D arrays.\n",
    "\n",
    "# importing the numpy module.\n",
    "import numpy as np\n",
    "\n",
    "# created an array 'a' using np.array() function.\n",
    "a=np.array([[1,2,3],[4,5,6]])\n",
    "\n",
    "# declareing variable 'b' and assigned the returned value of np.ravel() function.\n",
    "b=np.ravel(a)\n",
    "\n",
    "# print the value of 'b'.\n",
    "print(b)"
   ]
  },
  {
   "cell_type": "code",
   "execution_count": 127,
   "id": "c058b74b",
   "metadata": {},
   "outputs": [
    {
     "name": "stdout",
     "output_type": "stream",
     "text": [
      "[11 12 13 14 15 16 17 18 19]\n"
     ]
    }
   ],
   "source": [
    "# WAPP to demonstrate the ravel() function on 3D arrays.\n",
    "\n",
    "# importing the numpy module.\n",
    "import numpy as np\n",
    "\n",
    "# created an array 'x' using np.array() function.\n",
    "x=np.array([[[11,12,13]],[[14,15,16]],[[17,18,19]]])\n",
    "\n",
    "# declareing variable 'z' and assigned the returned value of np.ravel() function.\n",
    "z=np.ravel(x)\n",
    "\n",
    "# print the value of 'z'.\n",
    "print(z)"
   ]
  },
  {
   "cell_type": "markdown",
   "id": "fce67890",
   "metadata": {},
   "source": [
    "<b> 13. transpose() :\n",
    "- The numpy.transpose() function changes the row elements into column elements and the column elements into row elements. \n",
    "  The output of this function is a modified array of the original one.\n",
    "    \n",
    "    \n",
    "- <b> Syntax : - varname=numpy.transpose(arr, axis=None)  \n",
    "    \n",
    "    \n",
    "- Here 'arr' : It is an ndarray. It is the source array whose elements we want to transpose. This parameter is essential and \n",
    "  plays a vital role in numpy.transpose() function.\n",
    "\n",
    "\n",
    "- Here axis : If we didn't specify the axis, then by default, it reverses the dimensions otherwise permute the axis according  \n",
    "  to the given values.\n",
    "    "
   ]
  },
  {
   "cell_type": "code",
   "execution_count": 141,
   "id": "1c7b143e",
   "metadata": {},
   "outputs": [
    {
     "name": "stdout",
     "output_type": "stream",
     "text": [
      "a array containts\n",
      "[[1 2 3]\n",
      " [4 5 6]]\n",
      "--------------------------------------------------\n",
      "--------------------------------------------------\n",
      "b array containts\n",
      "[[1 4]\n",
      " [2 5]\n",
      " [3 6]]\n"
     ]
    }
   ],
   "source": [
    "# WAPP to demonstrate the transpose() function on 2D array.\n",
    "\n",
    "# importing the numpy module.\n",
    "import numpy as np\n",
    "\n",
    "# created an array 'a' using np.array() function.\n",
    "a=np.array([[1,2,3],[4,5,6]])\n",
    "\n",
    "# print the value of 'a'.\n",
    "print(\"a array containts\")\n",
    "print(a)\n",
    "\n",
    "print(\"-\"*50)\n",
    "print(\"-\"*50)\n",
    "\n",
    "# declareing variable 'b' and assigned the returned value of np.transpose() function.\n",
    "b=np.transpose(a)\n",
    "\n",
    "# print the value of 'b'.\n",
    "print(\"b array containts\")\n",
    "print(b)"
   ]
  },
  {
   "cell_type": "code",
   "execution_count": 142,
   "id": "19877980",
   "metadata": {},
   "outputs": [
    {
     "name": "stdout",
     "output_type": "stream",
     "text": [
      "c array containts\n",
      "[[[21 22 23]]\n",
      "\n",
      " [[24 25 26]]\n",
      "\n",
      " [[11 12 13]]]\n",
      "--------------------------------------------------\n",
      "--------------------------------------------------\n",
      "d array containts\n",
      "[[[21 24 11]]\n",
      "\n",
      " [[22 25 12]]\n",
      "\n",
      " [[23 26 13]]]\n"
     ]
    }
   ],
   "source": [
    "# WAPP to demonstrate the transpose() function on 3D array.\n",
    "\n",
    "# importing the numpy module.\n",
    "import numpy as np\n",
    "\n",
    "# created an array 'a' using np.array() function.\n",
    "c=np.array([[[21,22,23]],[[24,25,26]],[[11,12,13]]])\n",
    "\n",
    "# print the value of 'c'.\n",
    "print(\"c array containts\")\n",
    "print(c)\n",
    "\n",
    "print(\"-\"*50)\n",
    "print(\"-\"*50)\n",
    "\n",
    "# declareing variable 'd' and assigned the returned value of np.transpose() function.\n",
    "d=np.transpose(c)\n",
    "\n",
    "# print the value of 'd'.\n",
    "print(\"d array containts\")\n",
    "print(d)"
   ]
  },
  {
   "cell_type": "markdown",
   "id": "ed25acc9",
   "metadata": {},
   "source": [
    "<b> 14. randint() :\n",
    "- randint() returns random integers from start (inclusive) to end (exclusive).\n",
    "    \n",
    "    \n",
    "- <b> Syntax : - numpy.random.randint(start, end, no_of_samples).\n",
    "    \n",
    "    \n",
    "- start : [optional] start of interval range. By default start = 0.\n",
    "    \n",
    "    \n",
    "- end : end of interval range. creates an object of ndarray with the values from Start to end-1.\n",
    "    \n",
    "    \n",
    "- no_of_samples : How many random numbers do you want to display.\n",
    "    "
   ]
  },
  {
   "cell_type": "code",
   "execution_count": 7,
   "id": "35c92b95",
   "metadata": {},
   "outputs": [
    {
     "name": "stdout",
     "output_type": "stream",
     "text": [
      "[5 3 2 8 5]\n"
     ]
    }
   ],
   "source": [
    "# WAPP to demonstrate randint() on 1D array.\n",
    "\n",
    "# importing the numpy module.\n",
    "import numpy as np\n",
    "\n",
    "\n",
    "# Get the 5 random integers of array from \"1\" to \"10\" \n",
    "arr = np.random.randint(1,11,5)\n",
    "\n",
    "# print the result.\n",
    "print(arr)\n"
   ]
  },
  {
   "cell_type": "code",
   "execution_count": 8,
   "id": "5d46b78a",
   "metadata": {},
   "outputs": [
    {
     "data": {
      "text/plain": [
       "1"
      ]
     },
     "execution_count": 8,
     "metadata": {},
     "output_type": "execute_result"
    }
   ],
   "source": [
    "# printing ndim for \"arr\" object.\n",
    "arr.ndim         # its 1D."
   ]
  },
  {
   "cell_type": "code",
   "execution_count": 9,
   "id": "6618bfc9",
   "metadata": {},
   "outputs": [
    {
     "name": "stdout",
     "output_type": "stream",
     "text": [
      "[[4 8 8 7]\n",
      " [5 4 5 8]]\n"
     ]
    }
   ],
   "source": [
    "# WAPP to demonstrate randint() on 2D array.\n",
    "\n",
    "# importing the numpy module.\n",
    "import numpy as np\n",
    "\n",
    "\n",
    "# Get the \"size=(2X4)\" random integers of array from \"1\" to \"8\". \n",
    "arr = np.random.randint(1,9,size=(2, 4))\n",
    "\n",
    "# print the result.\n",
    "print(arr)\n"
   ]
  },
  {
   "cell_type": "code",
   "execution_count": 10,
   "id": "16f7bbc9",
   "metadata": {},
   "outputs": [
    {
     "data": {
      "text/plain": [
       "2"
      ]
     },
     "execution_count": 10,
     "metadata": {},
     "output_type": "execute_result"
    }
   ],
   "source": [
    "# printing ndim for \"arr\" object.\n",
    "arr.ndim         # its 2D."
   ]
  },
  {
   "cell_type": "code",
   "execution_count": 11,
   "id": "d0d3fab7",
   "metadata": {},
   "outputs": [
    {
     "name": "stdout",
     "output_type": "stream",
     "text": [
      "[[[8 4 5 4]\n",
      "  [5 4 7 7]\n",
      "  [7 4 5 3]]\n",
      "\n",
      " [[8 5 1 5]\n",
      "  [3 2 1 6]\n",
      "  [5 7 3 5]]]\n"
     ]
    }
   ],
   "source": [
    "# WAPP to demonstrate randint() on 3D array.\n",
    "\n",
    "# importing the numpy module.\n",
    "import numpy as np\n",
    "\n",
    "\n",
    "# Get the \"size=(2X3X4)\" random integers of array from \"1\" to \"8\". \n",
    "# 2-matrixes with 3-rows, 4-columns.\n",
    "arr = np.random.randint(1,9,size=(2,3,4))\n",
    "\n",
    "# print the result.\n",
    "print(arr)"
   ]
  },
  {
   "cell_type": "code",
   "execution_count": 12,
   "id": "280143b0",
   "metadata": {},
   "outputs": [
    {
     "data": {
      "text/plain": [
       "3"
      ]
     },
     "execution_count": 12,
     "metadata": {},
     "output_type": "execute_result"
    }
   ],
   "source": [
    "# printing ndim for \"arr\" object.\n",
    "arr.ndim         # its 3D."
   ]
  }
 ],
 "metadata": {
  "kernelspec": {
   "display_name": "Python 3 (ipykernel)",
   "language": "python",
   "name": "python3"
  },
  "language_info": {
   "codemirror_mode": {
    "name": "ipython",
    "version": 3
   },
   "file_extension": ".py",
   "mimetype": "text/x-python",
   "name": "python",
   "nbconvert_exporter": "python",
   "pygments_lexer": "ipython3",
   "version": "3.9.13"
  }
 },
 "nbformat": 4,
 "nbformat_minor": 5
}
