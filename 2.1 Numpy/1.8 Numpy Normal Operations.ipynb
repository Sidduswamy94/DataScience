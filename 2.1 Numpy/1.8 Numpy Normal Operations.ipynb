{
 "cells": [
  {
   "cell_type": "markdown",
   "id": "098dec5c",
   "metadata": {},
   "source": [
    "# <p style='text-align: center;'> Numpy normal Operations </p>"
   ]
  },
  {
   "cell_type": "markdown",
   "id": "c25fe2e1",
   "metadata": {},
   "source": [
    "## Numpy is mutable\n",
    "- we can perform multiple operations on Numpy, they are\n",
    "\n",
    "        1) Replacement\n",
    "        2) Adding new elwments [ i) append(), ii)insert() ]\n",
    "        3) Copy()\n",
    "        4) around() "
   ]
  },
  {
   "cell_type": "code",
   "execution_count": 1,
   "id": "662c202c",
   "metadata": {},
   "outputs": [
    {
     "name": "stdout",
     "output_type": "stream",
     "text": [
      "Containts of ndarray(a):\n",
      "[ 4  5  6  7  8  9 10 11]\n",
      "--------------------------------------------------\n",
      "Modified Numpy Array after replacement of element at index position 1\n",
      "[ 4 20  6  7  8  9 10 11]\n"
     ]
    }
   ],
   "source": [
    "# WAPP to replace the single value to given (1D) ndarray.\n",
    "\n",
    "# importing numpy as alias_name np\n",
    "import numpy as np\n",
    "\n",
    "# create an object of ndarray. \n",
    "a=np.array([4,5,6,7,8,9,10,11])\n",
    "\n",
    "# print the ndarray object on console.\n",
    "print(\"Containts of ndarray(a):\")\n",
    "print(a)\n",
    "print(\"-\"*50)\n",
    "\n",
    "# Replacing the value 5 as 20.\n",
    "# pass the index number to ndarray object and place replacement value.\n",
    "a[1] = 20     # its replace the index position 1 = 20.\n",
    "\n",
    "# print the modified ndarray object on console.\n",
    "print('Modified Numpy Array after replacement of element at index position 1')\n",
    "print(a)      # its replaced value=5 to 20."
   ]
  },
  {
   "cell_type": "code",
   "execution_count": 2,
   "id": "8158e6bd",
   "metadata": {},
   "outputs": [
    {
     "name": "stdout",
     "output_type": "stream",
     "text": [
      "Containts of ndarray(a):\n",
      "[ 4  5  6  7  8  9 10 11]\n",
      "--------------------------------------------------\n",
      "Modified Numpy Array after replacement of element at index position 1\n",
      "[ 2  5  6  7  8  9 10 33]\n"
     ]
    }
   ],
   "source": [
    "# WAPP to replace the multiple values to given (1D) ndarray.\n",
    "\n",
    "# importing numpy as alias_name np\n",
    "import numpy as np\n",
    "\n",
    "# create an object of ndarray. \n",
    "a=np.array([4,5,6,7,8,9,10,11])\n",
    "\n",
    "# print the ndarray object on console.\n",
    "print(\"Containts of ndarray(a):\")\n",
    "print(a)\n",
    "print(\"-\"*50)\n",
    "\n",
    "# Replacing the value 4 as 2 and 11 as 33.\n",
    "'''place these indexes in one list and pass the index number to ndarray \n",
    "   object and place replacement value.'''\n",
    "a[[0,7]] = 2,33     # its replace the index position 0 = 2 and 7=33.\n",
    "\n",
    "# print the modified ndarray object on console.\n",
    "print('Modified Numpy Array after replacement of element at index position 1')\n",
    "print(a)      # its replaced value=4 to 2 and 11 to 33."
   ]
  },
  {
   "cell_type": "code",
   "execution_count": 3,
   "id": "e7a1f818",
   "metadata": {},
   "outputs": [
    {
     "name": "stdout",
     "output_type": "stream",
     "text": [
      "Containts of ndarray(a):\n",
      "[ 4  5  6  7  8  9 10 11]\n",
      "--------------------------------------------------\n",
      "[ 4  5  6  7  8  9 10 11  4  2 11]\n"
     ]
    }
   ],
   "source": [
    "# WAPP to add the multiple values to given (1D) ndarray by using append().\n",
    "# append()--will add elements at last only.\n",
    "\n",
    "# importing numpy as alias_name np\n",
    "import numpy as np\n",
    "\n",
    "# create an object of ndarray. \n",
    "a=np.array([4,5,6,7,8,9,10,11])\n",
    "\n",
    "# print the ndarray object on console.\n",
    "print(\"Containts of ndarray(a):\")\n",
    "print(a)\n",
    "print(\"-\"*50)\n",
    "\n",
    "# Add the values 4 2 and 11 to given (1D) ndarray by using append().\n",
    "b=np.append(a,[4,2,11])\n",
    "\n",
    "# print the modified ndarray object on console.\n",
    "print(b)   # its added 4 2 and 11 values to original ndarray object."
   ]
  },
  {
   "cell_type": "code",
   "execution_count": 6,
   "id": "3d3b9835",
   "metadata": {},
   "outputs": [
    {
     "name": "stdout",
     "output_type": "stream",
     "text": [
      "Containts of ndarray(a):\n",
      "[ 4  5  6  7  8  9 10 11]\n",
      "--------------------------------------------------\n",
      "[ 4  3  5  2  6  7 12  8  9 10 11]\n"
     ]
    }
   ],
   "source": [
    "# WAPP to add the multiple values to given (1D) ndarray by using insert().\n",
    "# insert()--will add elements based on the index number.\n",
    "\n",
    "# importing numpy as alias_name np\n",
    "import numpy as np\n",
    "\n",
    "# create an object of ndarray. \n",
    "a=np.array([4,5,6,7,8,9,10,11])\n",
    "\n",
    "# print the ndarray object on console.\n",
    "print(\"Containts of ndarray(a):\")\n",
    "print(a)\n",
    "print(\"-\"*50)\n",
    "\n",
    "# Add the value 3 2 and 12 to given (1D) ndarray by using append().\n",
    "# place the index numbers where you want to add these values.\n",
    "#place these indexes in one list and pass to insert() function.\n",
    "b=np.insert(a,[1,2,4],[3,2,12])    # Here [1,2,4] are index numbers.\n",
    "                                   # Here [3,2,12] are New values.\n",
    "    \n",
    "# print the modified ndarray object on console.\n",
    "print(b)   # its added 3 2 and 12 values to original ndarray object."
   ]
  },
  {
   "cell_type": "code",
   "execution_count": 9,
   "id": "a7641b34",
   "metadata": {},
   "outputs": [
    {
     "name": "stdout",
     "output_type": "stream",
     "text": [
      "Containts of ndarray(a):\n",
      "[ 4  5  6  7  8  9 10 11]\n",
      "id of ndarray(a):\n",
      "1907895490096\n",
      "--------------------------------------------------\n",
      "Containts of ndarray(b):\n",
      "[ 4  5  6  7  8  9 10 11]\n",
      "id of ndarray(b):\n",
      "1907874501328\n"
     ]
    }
   ],
   "source": [
    "# WAPP to copy the given (1D) ndarray object by using copy().\n",
    "\n",
    "# importing numpy as alias_name np\n",
    "import numpy as np\n",
    "\n",
    "# create an object of ndarray. \n",
    "a=np.array([4,5,6,7,8,9,10,11])\n",
    "\n",
    "# print the \"a\" ndarray object on console.\n",
    "print(\"Containts of ndarray(a):\")\n",
    "print(a)\n",
    "# print the id of \"a\" ndarray object on console.\n",
    "print(\"id of ndarray(a):\")\n",
    "print(id(a))\n",
    "print(\"-\"*50)\n",
    "\n",
    "# copy the \"a\" ndarray object to \"b\" ndarray object.\n",
    "b=a.copy()          # it's shallow copy.\n",
    "\n",
    "# print the \"b\" ndarray object on console.\n",
    "print(\"Containts of ndarray(b):\")\n",
    "print(b)\n",
    "# print the id of \"b\" ndarray object on console.\n",
    "print(\"id of ndarray(b):\")\n",
    "print(id(b))"
   ]
  },
  {
   "cell_type": "markdown",
   "id": "45ffd0e6",
   "metadata": {},
   "source": [
    "<b> around() :\n",
    "- This mathematical function helps user to evenly round array elements to the given number of decimals.\n",
    "    \n",
    "    \n",
    "- <b> Syntax : - numpy. around(arr, decimals = 0)\n",
    "  \n",
    "    \n",
    "- Here arr is a ndarray object which we want to round it.\n",
    "    \n",
    "    \n",
    "- decimals=0 is optional, if we not specified any value, then by default it returns int value.\n",
    "  If we specified any value those number of decimals will be returned."
   ]
  },
  {
   "cell_type": "code",
   "execution_count": 15,
   "id": "52337e88",
   "metadata": {},
   "outputs": [
    {
     "name": "stdout",
     "output_type": "stream",
     "text": [
      "Containts of ndarray(a):\n",
      "[4.1213 5.3435 6.4612 7.9898]\n",
      "--------------------------------------------------\n",
      "Containts of ndarray(a) after around():\n",
      "[4. 5. 6. 8.]\n",
      "Containts of ndarray(a) with two decimals:\n",
      "[4.12 5.34 6.46 7.99]\n"
     ]
    }
   ],
   "source": [
    "# WAPP to demonstrate around() function.\n",
    "\n",
    "# importing numpy as alias_name np\n",
    "import numpy as np\n",
    "\n",
    "# create an object of ndarray. \n",
    "a=np.array([4.1213,5.3435,6.4612,7.9898])\n",
    "\n",
    "# print the ndarray object on console.\n",
    "print(\"Containts of ndarray(a):\")\n",
    "print(a)\n",
    "print(\"-\"*50)\n",
    "\n",
    "# apply the around() function to return int values from ndarray object.\n",
    "# print the values with int.\n",
    "print(\"Containts of ndarray(a) after around():\")\n",
    "print(np.around(a))    # it will returns the int values\n",
    "\n",
    "# apply the around() function to return two decimal values from ndarray object.\n",
    "# print the values with two decimals.\n",
    "print(\"Containts of ndarray(a) with two decimals:\")\n",
    "print(np.around(a,2))  # it will returns the values with two decimals."
   ]
  }
 ],
 "metadata": {
  "kernelspec": {
   "display_name": "Python 3 (ipykernel)",
   "language": "python",
   "name": "python3"
  },
  "language_info": {
   "codemirror_mode": {
    "name": "ipython",
    "version": 3
   },
   "file_extension": ".py",
   "mimetype": "text/x-python",
   "name": "python",
   "nbconvert_exporter": "python",
   "pygments_lexer": "ipython3",
   "version": "3.9.13"
  }
 },
 "nbformat": 4,
 "nbformat_minor": 5
}
