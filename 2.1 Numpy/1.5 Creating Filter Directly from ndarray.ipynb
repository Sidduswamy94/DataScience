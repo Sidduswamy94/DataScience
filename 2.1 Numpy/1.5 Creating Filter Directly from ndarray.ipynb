{
 "cells": [
  {
   "cell_type": "markdown",
   "id": "85276fca",
   "metadata": {},
   "source": [
    "# <p style='text-align: center;'> Creating Filter Directly from ndarray </p>"
   ]
  },
  {
   "cell_type": "markdown",
   "id": "2097b04a",
   "metadata": {},
   "source": [
    "- To select any element from ndarray object, we have two approaches. They are\n",
    "\n",
    "\n",
    "<b> Approach-1 :\n",
    "\n",
    "    \n",
    "- Prepare Boolean Array (It contains True or False. True represents Condition satisfied and False represents Condition \n",
    "  not satisfied].\n",
    "                         \n",
    "                         \n",
    "- <b> Syntax: -   varname=ndarrayobject with condition\n",
    "                         \n",
    "                         \n",
    "- <b> varname is called Boolean array.\n",
    "                         \n",
    "                         \n",
    "- Pass the Boolean Array to the ndarray object. So that we can get those elements from ndarray which satisfies with the entry \n",
    "  True(or) we can get those elements from ndarray corresponding True entries of Boolean array.\n",
    "                         \n",
    "                         \n",
    "- <b> Syntax: -   ndarray [Boolean Array]\n",
    "\n",
    "\n",
    "<b> Approach-2 :\n",
    "    \n",
    "    \n",
    "- In this approach, we directly pass Boolean array values to the ndarray for getting required elements based on condition.\n",
    "    \n",
    "    \n",
    "- <b> Syntax: -   ndarray[ndarrayobject with condition]\n"
   ]
  },
  {
   "cell_type": "code",
   "execution_count": 6,
   "id": "f3f32f80",
   "metadata": {},
   "outputs": [
    {
     "name": "stdout",
     "output_type": "stream",
     "text": [
      "Containts of list(l):\n",
      "[10, 21, -34, 23, -45, 30, -40]\n",
      "--------------------------------------------------\n",
      "--------------------------------------------------\n",
      "Containts of ndarray(a):\n",
      "[ 10  21 -34  23 -45  30 -40]\n",
      "--------------------------------------------------\n",
      "--------------------------------------------------\n",
      "Containts of (b):\n",
      "[ True  True False  True False  True False]\n",
      "--------------------------------------------------\n",
      "Positive Elements from ndarray:\n"
     ]
    },
    {
     "data": {
      "text/plain": [
       "array([10, 21, 23, 30])"
      ]
     },
     "execution_count": 6,
     "metadata": {},
     "output_type": "execute_result"
    }
   ],
   "source": [
    "# Select the Positive Elements from ndarray.\n",
    "# Here I am solving with Approach - 1.\n",
    "\n",
    "# import numpy as alias name.\n",
    "import numpy as np\n",
    "\n",
    "# Create a list with +ve and -ve elements.\n",
    "l=[10,21,-34,23,-45,30,-40]\n",
    "\n",
    "# print the list on console.\n",
    "print(\"Containts of list(l):\")\n",
    "print(l)\n",
    "print(\"-\"*50)\n",
    "\n",
    "# create an object of ndarray. \n",
    "# pass the list into the ndarry.\n",
    "a=np.array(l)\n",
    "print(\"-\"*50)\n",
    "\n",
    "# print the ndarray object on console.\n",
    "print(\"Containts of ndarray(a):\")\n",
    "print(a)\n",
    "print(\"-\"*50)\n",
    "\n",
    "# Extract the Positive Elements from ndarray object & store in a variable.\n",
    "b=a>0        # Boolean Array\n",
    "print(\"-\"*50)\n",
    "\n",
    "# print the Boolean Array on console.\n",
    "print(\"Containts of (b):\")\n",
    "print(b)     # it will returns the \"True\" or \"False\".\n",
    "print(\"-\"*50)\n",
    "\n",
    "# Pass the Boolean Array to the ndarray object.\n",
    "print(\"Positive Elements from ndarray:\")\n",
    "a[b]"
   ]
  },
  {
   "cell_type": "code",
   "execution_count": 8,
   "id": "fde53b9d",
   "metadata": {},
   "outputs": [
    {
     "name": "stdout",
     "output_type": "stream",
     "text": [
      "Containts of list(l):\n",
      "[10, 21, -34, 23, -45, 30, -40]\n",
      "--------------------------------------------------\n",
      "--------------------------------------------------\n",
      "Containts of ndarray(a):\n",
      "[ 10  21 -34  23 -45  30 -40]\n",
      "--------------------------------------------------\n",
      "Negative Elements from ndarray:\n"
     ]
    },
    {
     "data": {
      "text/plain": [
       "array([-34, -45, -40])"
      ]
     },
     "execution_count": 8,
     "metadata": {},
     "output_type": "execute_result"
    }
   ],
   "source": [
    "# Select the Negetive Elements from ndarray.\n",
    "# Here I am solving with Approach - 2.\n",
    "\n",
    "# import numpy as alias name.\n",
    "import numpy as np\n",
    "\n",
    "# Create a list with +ve and -ve elements.\n",
    "l=[10,21,-34,23,-45,30,-40]\n",
    "\n",
    "# print the list on console.\n",
    "print(\"Containts of list(l):\")\n",
    "print(l)\n",
    "print(\"-\"*50)\n",
    "\n",
    "# create an object of ndarray. \n",
    "# pass the list into the ndarry.\n",
    "a=np.array(l)\n",
    "print(\"-\"*50)\n",
    "\n",
    "# print the ndarray object on console.\n",
    "print(\"Containts of ndarray(a):\")\n",
    "print(a)\n",
    "print(\"-\"*50)\n",
    "\n",
    "# Pass the Boolean Array to the ndarray object directly.\n",
    "print(\"Negative Elements from ndarray:\")\n",
    "a[a<0]         # It will print -ve elements."
   ]
  },
  {
   "cell_type": "code",
   "execution_count": 10,
   "id": "e69c092c",
   "metadata": {},
   "outputs": [
    {
     "name": "stdout",
     "output_type": "stream",
     "text": [
      "Containts of list(l1):\n",
      "[11, 20, 33, 31, 41, 47, 46, 12, 13]\n",
      "--------------------------------------------------\n",
      "--------------------------------------------------\n",
      "Containts of ndarray(x):\n",
      "[11 20 33 31 41 47 46 12 13]\n",
      "--------------------------------------------------\n",
      "--------------------------------------------------\n",
      "Containts of (y):\n",
      "[False  True False False False False  True  True False]\n",
      "--------------------------------------------------\n",
      "Even Elements from ndarray:\n"
     ]
    },
    {
     "data": {
      "text/plain": [
       "array([20, 46, 12])"
      ]
     },
     "execution_count": 10,
     "metadata": {},
     "output_type": "execute_result"
    }
   ],
   "source": [
    "# Select the Even Elements from ndarray.\n",
    "# Here I am solving with Approach - 1.\n",
    "\n",
    "# import numpy as alias name.\n",
    "import numpy as np\n",
    "\n",
    "# Create a list with even odd elements.\n",
    "l1=[11,20,33,31,41,47,46,12,13]\n",
    "\n",
    "# print the list on console.\n",
    "print(\"Containts of list(l1):\")\n",
    "print(l1)\n",
    "print(\"-\"*50)\n",
    "\n",
    "# create an object of ndarray. \n",
    "# pass the list into the ndarry.\n",
    "x=np.array(l1)\n",
    "print(\"-\"*50)\n",
    "\n",
    "# print the ndarray object on console.\n",
    "print(\"Containts of ndarray(x):\")\n",
    "print(x)\n",
    "print(\"-\"*50)\n",
    "\n",
    "# Extract the Positive Elements from ndarray object & store in a variable.\n",
    "y=x%2==0           # Boolean Array\n",
    "print(\"-\"*50)\n",
    "\n",
    "# print the Boolean Array on console.\n",
    "print(\"Containts of (y):\")\n",
    "print(y)     # it will returns the \"True\" or \"False\".\n",
    "print(\"-\"*50)\n",
    "\n",
    "# Pass the Boolean Array to the ndarray object.\n",
    "print(\"Even Elements from ndarray:\")\n",
    "x[y]"
   ]
  },
  {
   "cell_type": "code",
   "execution_count": 11,
   "id": "1cb7bc7d",
   "metadata": {},
   "outputs": [
    {
     "name": "stdout",
     "output_type": "stream",
     "text": [
      "Containts of list(l1):\n",
      "[11, 20, 33, 31, 41, 47, 46, 12, 13]\n",
      "--------------------------------------------------\n",
      "--------------------------------------------------\n",
      "Containts of ndarray(a):\n",
      "[11 20 33 31 41 47 46 12 13]\n",
      "--------------------------------------------------\n",
      "Odd Elements from ndarray:\n"
     ]
    },
    {
     "data": {
      "text/plain": [
       "array([11, 33, 31, 41, 47, 13])"
      ]
     },
     "execution_count": 11,
     "metadata": {},
     "output_type": "execute_result"
    }
   ],
   "source": [
    "# Select the Odd Elements from ndarray.\n",
    "# Here I am solving with Approach - 2.\n",
    "\n",
    "# import numpy as alias name.\n",
    "import numpy as np\n",
    "\n",
    "# Create a list with even odd elements.\n",
    "l1=[11,20,33,31,41,47,46,12,13]\n",
    "\n",
    "# print the list on console.\n",
    "print(\"Containts of list(l1):\")\n",
    "print(l1)\n",
    "print(\"-\"*50)\n",
    "\n",
    "# create an object of ndarray. \n",
    "# pass the list into the ndarry.\n",
    "a=np.array(l1)\n",
    "print(\"-\"*50)\n",
    "\n",
    "# print the ndarray object on console.\n",
    "print(\"Containts of ndarray(a):\")\n",
    "print(a)\n",
    "print(\"-\"*50)\n",
    "\n",
    "# Pass the Boolean Array to the ndarray object directly.\n",
    "print(\"Odd Elements from ndarray:\")\n",
    "a[a%2!=0]         # It will print Odd elements."
   ]
  }
 ],
 "metadata": {
  "kernelspec": {
   "display_name": "Python 3 (ipykernel)",
   "language": "python",
   "name": "python3"
  },
  "language_info": {
   "codemirror_mode": {
    "name": "ipython",
    "version": 3
   },
   "file_extension": ".py",
   "mimetype": "text/x-python",
   "name": "python",
   "nbconvert_exporter": "python",
   "pygments_lexer": "ipython3",
   "version": "3.9.13"
  }
 },
 "nbformat": 4,
 "nbformat_minor": 5
}
