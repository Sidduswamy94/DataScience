{
 "cells": [
  {
   "cell_type": "markdown",
   "id": "43375439",
   "metadata": {},
   "source": [
    "# <p style='text-align: center;'> Assignment - 3 </p>\n",
    "###  <p style='text-align: center;'> Problem - 1 </p>"
   ]
  },
  {
   "cell_type": "markdown",
   "id": "7366e3bf",
   "metadata": {},
   "source": [
    "### <p style='text-align: center;'> VEHICLE REGISTRATION NUMBER </p>"
   ]
  },
  {
   "cell_type": "markdown",
   "id": "d2d32203",
   "metadata": {},
   "source": [
    "<b> List out, all possible 4-digit number (XXXX) which satisfies the following conditions.\n",
    "\n",
    "<b> 1) All the four numbers should be in increasing order (X1<X2<X3<X4).\n",
    "\n",
    "\n",
    "<b> 2) Last digit should be 9.\n",
    "\n",
    "\n",
    "<b> 3) Sum of all digits should be 8."
   ]
  },
  {
   "cell_type": "code",
   "execution_count": 29,
   "id": "19de9379",
   "metadata": {},
   "outputs": [
    {
     "name": "stdout",
     "output_type": "stream",
     "text": [
      "Following all these 4-digit numbers satisfies the all conditions\n",
      "['0179', '0269', '0359', '1259', '1349', '2789', '3689', '4589', '4679']\n"
     ]
    }
   ],
   "source": [
    "# Initializing \"l1\" empty list\n",
    "l1=[]\n",
    "\n",
    "# for loop to iterate \"i\" digit from 0 to 9.\n",
    "for i in range(0,10):\n",
    "    \n",
    "    # for loop to iterate \"j\" digit from 1 to 9.\n",
    "    for j in range(1,10):\n",
    "        \n",
    "        # for loop to iterate \"k\" digit from 2 to 9.\n",
    "        for k in range(2,10):\n",
    "            \n",
    "            # If i,j,k and 9 values in increasing order.\n",
    "            # last digit should be 9.\n",
    "            if i<j<k<9:\n",
    "                \n",
    "                # Addition of i, j, k and 9 values.\n",
    "                w=i+j+k+9 \n",
    "                \n",
    "                # apply type casting int to str and store in object \"s\"\n",
    "                s=str(w)\n",
    "                \n",
    "                # Initializing \"l2\" empty list\n",
    "                l2=[]\n",
    "                \n",
    "                # for loop to iterate \"a\" digit from s.\n",
    "                for a in s:\n",
    "                    \n",
    "                    # adding each \"a\" digit to l2 list.\n",
    "                    l2.append(a)\n",
    "                    \n",
    "                # calculate the addition again, if Sum of all digits should be 8.   \n",
    "                if (int(l2[0]) + int(l2[1]))==8:\n",
    "                    \n",
    "                    # concatenate i, j, k and 9 in single str.\n",
    "                    s=str(i)+str(j)+str(k)+str(9)\n",
    "                    \n",
    "                    # adding concatenated str to \"l1\" list.\n",
    "                    l1.append(s)\n",
    "                        \n",
    "\n",
    "# Print the l1.\n",
    "print(\"Following all these 4-digit numbers satisfies the all conditions\")\n",
    "print(l1)\n",
    "            \n",
    "            "
   ]
  }
 ],
 "metadata": {
  "kernelspec": {
   "display_name": "Python 3 (ipykernel)",
   "language": "python",
   "name": "python3"
  },
  "language_info": {
   "codemirror_mode": {
    "name": "ipython",
    "version": 3
   },
   "file_extension": ".py",
   "mimetype": "text/x-python",
   "name": "python",
   "nbconvert_exporter": "python",
   "pygments_lexer": "ipython3",
   "version": "3.9.13"
  }
 },
 "nbformat": 4,
 "nbformat_minor": 5
}
