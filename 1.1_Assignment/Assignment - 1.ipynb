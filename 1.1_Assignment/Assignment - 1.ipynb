{
 "cells": [
  {
   "cell_type": "markdown",
   "id": "bf44a24c",
   "metadata": {},
   "source": [
    "# <p style='text-align: center;'> Assignment - 1 </p>\n",
    "###  <p style='text-align: center;'> Problem - 1 </p>"
   ]
  },
  {
   "attachments": {
    "image.png": {
     "image/png": "[encoded data removed]"
    }
   },
   "cell_type": "markdown",
   "id": "12d1ece0",
   "metadata": {},
   "source": [
    "1) Prompt the user \"Enter your weight (in kgs)\" and record weight.\n",
    "\n",
    "\n",
    "2) Prompt the user \"What is your preferred unit of height? Type \"F\" for feet and \"M\" for meters\" and record the preferrence.\n",
    "\n",
    "\n",
    "3) If user says \"F\" then prompt user \"You will enter your height given as feet and inches. First enter feet\" and record feet \n",
    "   and then prompt user \"Now enter inches\" and record inches.\n",
    "   \n",
    "   \n",
    "4) If user says \"M\" then prompt user \"What is your height in meters\" and record height in meters.\n",
    "\n",
    "\n",
    "5) If user had choosen \"F\" then convert height into meters.\n",
    "\n",
    "\n",
    "6) Compute BMI using the following formla,\n",
    "\n",
    "\n",
    "![image.png](attachment:image.png)\n",
    "\n",
    "\n",
    "7) Depending on the value of BMI, report the user's type given by the following table :\n",
    "\n",
    "\n",
    "- BMI < 18.5      : UNDERWEIGHT\n",
    "\n",
    "\n",
    "- 18.5 <= BMI < 25  : NORMAL\n",
    "\n",
    "\n",
    "- 25 <= BMI < 30  : OVERWEIGHT\n",
    "\n",
    "\n",
    "- BMI > 30       : VERY-OVERWEIGHT"
   ]
  },
  {
   "cell_type": "code",
   "execution_count": 6,
   "id": "31f4a99e",
   "metadata": {},
   "outputs": [
    {
     "name": "stdout",
     "output_type": "stream",
     "text": [
      "Enter your weight (in kgs):65\n",
      "What is your preferred unit of height? Type 'F' for feet and 'M' for meters:F\n",
      "You will enter your height given as feet and inches\n",
      "First Enter feet:5\n",
      "Now Enter inches:5\n",
      "NORMAL\n"
     ]
    }
   ],
   "source": [
    "# Prompt the user \"Enter your weight (in kgs)\" and record weight\n",
    "weight=float(input(\"Enter your weight (in kgs):\"))\n",
    "\n",
    "''' Prompt the user \"What is your preferred unit of height? Type \"F\" for feet and \"M\" \n",
    "    for meters\" and record the preference.'''\n",
    "\n",
    "height=input(\"What is your preferred unit of height? Type 'F' for feet and 'M' for meters:\")\n",
    "\n",
    "# If user says \"F\" then prompt user \"You will enter your height given as feet and inches\".\n",
    "if (height==\"F\"):\n",
    "    print(\"You will enter your height given as feet and inches\")\n",
    "    \n",
    "    #  Prompt the user \"First Enter feet\" and record feet.\n",
    "    feet1=float(input(\"First Enter feet:\"))\n",
    "    \n",
    "    #  Prompt the user \"Now Enter inches\" and record inces.\n",
    "    inch=float(input(\"Now Enter inches:\"))\n",
    "    \n",
    "    # If user choosen \"F\" then convert the height in meters.\n",
    "    height_to_meters=(feet1 * 0.3048 + inch * 0.0254)\n",
    "    \n",
    "    # Compute BMI using the formula.\n",
    "    BMI = (weight/height_to_meters ** 2)\n",
    "    if (BMI<18.5):\n",
    "        print(\"UNDERWEIGHT\")\n",
    "    elif (BMI>=18.5 and BMI<25):\n",
    "        print(\"NORMAL\")              \n",
    "    elif (BMI>=25 and BMI<30):\n",
    "        print(\"OVERWEIGHT\") \n",
    "    else:\n",
    "        print(\"VERY-OVERWEIGHT\") \n",
    "\n",
    "\n",
    "# If user says \"M\" then prompt user \"What is your height in meters\" and record height in meters.\n",
    "elif (height==\"M\"):\n",
    "    height_meter=float(input(\"What is your height in meters:\")) \n",
    "    \n",
    "    # Compute BMI using the formula.\n",
    "    BMI = (weight/height_to_meters ** 2)\n",
    "    if (BMI<18.5):\n",
    "        print(\"UNDERWEIGHT\")\n",
    "    elif (BMI>=18.5 and BMI<25):\n",
    "        print(\"NORMAL\")              \n",
    "    elif (BMI>=25 and BMI<30):\n",
    "        print(\"OVERWEIGHT\") \n",
    "    else:\n",
    "        print(\"VERY-OVERWEIGHT\") \n",
    "        \n",
    "# If user choosed wrong input then print \"Invalid input, please choose valid input\"        \n",
    "else:\n",
    "    print(\"Invalid input, please choose valid input\")"
   ]
  }
 ],
 "metadata": {
  "kernelspec": {
   "display_name": "Python 3 (ipykernel)",
   "language": "python",
   "name": "python3"
  },
  "language_info": {
   "codemirror_mode": {
    "name": "ipython",
    "version": 3
   },
   "file_extension": ".py",
   "mimetype": "text/x-python",
   "name": "python",
   "nbconvert_exporter": "python",
   "pygments_lexer": "ipython3",
   "version": "3.9.13"
  }
 },
 "nbformat": 4,
 "nbformat_minor": 5
}
