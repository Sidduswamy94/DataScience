{
 "cells": [
  {
   "cell_type": "markdown",
   "id": "586a71d0",
   "metadata": {},
   "source": [
    "# <p style='text-align: center;'> Assignment - 2 </p>\n",
    "###  <p style='text-align: center;'> Problem - 1 </p>"
   ]
  },
  {
   "cell_type": "markdown",
   "id": "a0a1e215",
   "metadata": {},
   "source": [
    "1) Ask the user to enter the phone number.\n",
    "\n",
    "\n",
    "2) Use the for loop and find the sum of individual digits, repeat the sum of digits untill you get single digit as sum.\n",
    "\n",
    "\n",
    "- Ex : Phone Number : 9123456789\n",
    "\n",
    "                    9+1+2+3+4+5+6+7+8+9=54\n",
    "                     \n",
    "                    5+4=9\n",
    "                \n",
    "                \n",
    "- The sum of digits of entered Phone Number is:9\n",
    "                           "
   ]
  },
  {
   "cell_type": "code",
   "execution_count": 4,
   "id": "66af4189",
   "metadata": {},
   "outputs": [
    {
     "name": "stdout",
     "output_type": "stream",
     "text": [
      "Enter your Phone NUmber:9912332145\n",
      "The sum of digits of entered phone numnber is:3\n"
     ]
    }
   ],
   "source": [
    "# Ask the user to enter 10-digits phone number\n",
    "num=input(\"Enter your Phone NUmber:\")\n",
    "\n",
    "\n",
    "# Initializing sum=0.\n",
    "sum=0\n",
    "\n",
    "''' Use the for loop and find the sum of individual digits repeat the sum of digits \n",
    "    untill you get single digit as sum.'''\n",
    "for i in num:\n",
    "    sum_of_digits=sum+int(i)\n",
    "    sum=sum+int(i)\n",
    "    \n",
    "# If sum is greater than 9.\n",
    "if (sum>9):\n",
    "    \n",
    "    # apply type casting int to str and store in object \"a\"\n",
    "    a=str(sum)\n",
    "    \n",
    "    # calculate the sum again.\n",
    "    sum=int(a[0]) + int(a[1])\n",
    "    \n",
    "    # If again sum is greater than 9.\n",
    "    if (sum>9):\n",
    "        \n",
    "        # apply type casting int to str and store in object \"a\"\n",
    "        a=str(sum)\n",
    "        \n",
    "        # calculate the sum again.\n",
    "        sum=int(a[0]) + int(a[1])\n",
    "    \n",
    "#Print The sum of digits of entered phone numnber is:sum_of_digits.    \n",
    "print(\"The sum of digits of entered phone numnber is:{}\".format(sum))"
   ]
  },
  {
   "cell_type": "code",
   "execution_count": null,
   "id": "5851f7cb",
   "metadata": {},
   "outputs": [],
   "source": []
  }
 ],
 "metadata": {
  "kernelspec": {
   "display_name": "Python 3 (ipykernel)",
   "language": "python",
   "name": "python3"
  },
  "language_info": {
   "codemirror_mode": {
    "name": "ipython",
    "version": 3
   },
   "file_extension": ".py",
   "mimetype": "text/x-python",
   "name": "python",
   "nbconvert_exporter": "python",
   "pygments_lexer": "ipython3",
   "version": "3.9.13"
  }
 },
 "nbformat": 4,
 "nbformat_minor": 5
}
