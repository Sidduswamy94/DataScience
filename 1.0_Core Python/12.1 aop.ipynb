{
 "cells": [
  {
   "cell_type": "code",
   "execution_count": 3,
   "id": "790fca0d",
   "metadata": {},
   "outputs": [],
   "source": [
    "#aop.py---File Name & Acts as Module Name\n",
    "\n",
    "# Creating / defining a function for addition of two numbers.\n",
    "def  addop(a,b):             # Function Definition-1\n",
    "    \n",
    "    # adding a and b, and preserving in \"c\" object.\n",
    "    c=a+b\n",
    "    \n",
    "    # printing the values with addition result.\n",
    "    print(\"sum({},{})={}\".format(a,b,c))\n",
    "\n",
    "    \n",
    "# Creating / defining a function for subtraction of two numbers.\n",
    "def  subop(a,b):             # Function Definition-2\n",
    "    \n",
    "    # subtracting a and b, and preserving in \"c\" object.\n",
    "    c=a-b\n",
    "    \n",
    "    # printing the values with subtraction result.\n",
    "    print(\"sub({},{})={}\".format(a,b,c))\n"
   ]
  }
 ],
 "metadata": {
  "kernelspec": {
   "display_name": "Python 3 (ipykernel)",
   "language": "python",
   "name": "python3"
  },
  "language_info": {
   "codemirror_mode": {
    "name": "ipython",
    "version": 3
   },
   "file_extension": ".py",
   "mimetype": "text/x-python",
   "name": "python",
   "nbconvert_exporter": "python",
   "pygments_lexer": "ipython3",
   "version": "3.9.13"
  }
 },
 "nbformat": 4,
 "nbformat_minor": 5
}
