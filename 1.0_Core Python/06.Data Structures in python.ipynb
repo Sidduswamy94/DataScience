{
 "cells": [
  {
   "cell_type": "markdown",
   "id": "71dae337",
   "metadata": {},
   "source": [
    "# List\n",
    " - It is one of the most used datatype in python and is very flexible.\n",
    " - The purpose of List datatype is that \"To store multiple values either Similar Type or Different Type or Both \n",
    "   the Types in Single Object with Unique and Duplicate Values\". \n",
    " - The elements are must be enclosed or written within Square Brackets [] and the elements must be separated by comma.\n",
    " \n",
    " - Syntax:        list obj=[ val1, val2, ....val-n ]\n",
    " \n",
    " - An object of list maintains Insertion Order.\n",
    " - On the object of list, we can perform both Indexing and Slicing Operations."
   ]
  },
  {
   "cell_type": "markdown",
   "id": "b588dc69",
   "metadata": {},
   "source": [
    "#### Empty List\n",
    "- An Empty List is one, which does not contain any elements and whose length is 0.\n",
    "- To create an empty list, we can use empty square brackets or use the list() function with no arguments.\n",
    "\n",
    "- Syntax:     listobj=[]\n",
    "\t\t\t      (OR)\n",
    "\t\t\t  listobj=list()"
   ]
  },
  {
   "cell_type": "code",
   "execution_count": 1,
   "id": "d9b0c8bf",
   "metadata": {},
   "outputs": [
    {
     "data": {
      "text/plain": [
       "[]"
      ]
     },
     "execution_count": 1,
     "metadata": {},
     "output_type": "execute_result"
    }
   ],
   "source": [
    "l = []   # Empty list\n",
    "l"
   ]
  },
  {
   "cell_type": "code",
   "execution_count": 2,
   "id": "3a1e977a",
   "metadata": {},
   "outputs": [
    {
     "data": {
      "text/plain": [
       "[]"
      ]
     },
     "execution_count": 2,
     "metadata": {},
     "output_type": "execute_result"
    }
   ],
   "source": [
    "l = list()    # Empty list\n",
    "l"
   ]
  },
  {
   "cell_type": "markdown",
   "id": "042f83f2",
   "metadata": {},
   "source": [
    "#### Non-Empty List\n",
    "- Each element or value that is inside a list is called as item.\n",
    "- All the items in the list may be same type (homogeneous) or different type (heterogeneous)."
   ]
  },
  {
   "cell_type": "code",
   "execution_count": 3,
   "id": "801aa36a",
   "metadata": {},
   "outputs": [
    {
     "data": {
      "text/plain": [
       "[1, 2, 3, 4]"
      ]
     },
     "execution_count": 3,
     "metadata": {},
     "output_type": "execute_result"
    }
   ],
   "source": [
    "l1 = [1,2,3,4]     # List is homogeneous.\n",
    "l1"
   ]
  },
  {
   "cell_type": "code",
   "execution_count": 4,
   "id": "333a99c0",
   "metadata": {},
   "outputs": [
    {
     "name": "stdout",
     "output_type": "stream",
     "text": [
      "[1, 2, 3, 4] <class 'list'>\n"
     ]
    }
   ],
   "source": [
    "l1 = [1,2,3,4]     # List is homogeneous.\n",
    "print(l1,type(l1))"
   ]
  },
  {
   "cell_type": "code",
   "execution_count": 5,
   "id": "bb568de4",
   "metadata": {},
   "outputs": [
    {
     "name": "stdout",
     "output_type": "stream",
     "text": [
      "[1, 2.4, (3+4j), True, 'New'] <class 'list'>\n"
     ]
    }
   ],
   "source": [
    "l2 = [1,2.4,3+4j,True,\"New\"]     # List is heterogeneous.\n",
    "print(l2,type(l2))"
   ]
  },
  {
   "cell_type": "markdown",
   "id": "588c3302",
   "metadata": {},
   "source": [
    "#### Length of List"
   ]
  },
  {
   "cell_type": "code",
   "execution_count": 6,
   "id": "ea839141",
   "metadata": {},
   "outputs": [
    {
     "data": {
      "text/plain": [
       "4"
      ]
     },
     "execution_count": 6,
     "metadata": {},
     "output_type": "execute_result"
    }
   ],
   "source": [
    "my_list = [10,\"New\",20.3,False]\n",
    "len(my_list)"
   ]
  },
  {
   "cell_type": "markdown",
   "id": "f73f242b",
   "metadata": {},
   "source": [
    "#### Nested List"
   ]
  },
  {
   "cell_type": "code",
   "execution_count": 7,
   "id": "8294e742",
   "metadata": {},
   "outputs": [
    {
     "name": "stdout",
     "output_type": "stream",
     "text": [
      "[1, [2, 3], 4, 5]\n"
     ]
    }
   ],
   "source": [
    "nest = [1,[2,3],4,5]\n",
    "print(nest)"
   ]
  },
  {
   "cell_type": "code",
   "execution_count": 9,
   "id": "18eded5a",
   "metadata": {},
   "outputs": [
    {
     "data": {
      "text/plain": [
       "4"
      ]
     },
     "execution_count": 9,
     "metadata": {},
     "output_type": "execute_result"
    }
   ],
   "source": [
    "len(nest)"
   ]
  },
  {
   "cell_type": "markdown",
   "id": "fa94cb5e",
   "metadata": {},
   "source": [
    "#### List Indexing\n",
    "- If we specify invalid index, we get IndexError.\n",
    "- If we specify indexing on int, float, bool, complex datatypes within the list then we get TypeError"
   ]
  },
  {
   "cell_type": "code",
   "execution_count": 10,
   "id": "8e6f2d1e",
   "metadata": {},
   "outputs": [
    {
     "name": "stdout",
     "output_type": "stream",
     "text": [
      "[1, [2, 3], 4, 5]\n"
     ]
    }
   ],
   "source": [
    "nest = [1,[2,3],4,5]\n",
    "print(nest)"
   ]
  },
  {
   "cell_type": "code",
   "execution_count": 11,
   "id": "b72a1dff",
   "metadata": {},
   "outputs": [
    {
     "data": {
      "text/plain": [
       "1"
      ]
     },
     "execution_count": 11,
     "metadata": {},
     "output_type": "execute_result"
    }
   ],
   "source": [
    "nest[0]"
   ]
  },
  {
   "cell_type": "code",
   "execution_count": 12,
   "id": "9eba72c0",
   "metadata": {},
   "outputs": [
    {
     "data": {
      "text/plain": [
       "[2, 3]"
      ]
     },
     "execution_count": 12,
     "metadata": {},
     "output_type": "execute_result"
    }
   ],
   "source": [
    "nest[1]"
   ]
  },
  {
   "cell_type": "code",
   "execution_count": 13,
   "id": "d7f95671",
   "metadata": {},
   "outputs": [
    {
     "data": {
      "text/plain": [
       "4"
      ]
     },
     "execution_count": 13,
     "metadata": {},
     "output_type": "execute_result"
    }
   ],
   "source": [
    "nest[2]"
   ]
  },
  {
   "cell_type": "code",
   "execution_count": 14,
   "id": "0e7e3915",
   "metadata": {},
   "outputs": [
    {
     "data": {
      "text/plain": [
       "5"
      ]
     },
     "execution_count": 14,
     "metadata": {},
     "output_type": "execute_result"
    }
   ],
   "source": [
    "nest[3]"
   ]
  },
  {
   "cell_type": "code",
   "execution_count": 15,
   "id": "83d12408",
   "metadata": {},
   "outputs": [
    {
     "data": {
      "text/plain": [
       "2"
      ]
     },
     "execution_count": 15,
     "metadata": {},
     "output_type": "execute_result"
    }
   ],
   "source": [
    "nest[1][0]"
   ]
  },
  {
   "cell_type": "code",
   "execution_count": 16,
   "id": "999ad608",
   "metadata": {},
   "outputs": [
    {
     "data": {
      "text/plain": [
       "3"
      ]
     },
     "execution_count": 16,
     "metadata": {},
     "output_type": "execute_result"
    }
   ],
   "source": [
    "nest[1][1]"
   ]
  },
  {
   "cell_type": "markdown",
   "id": "45b8e3ae",
   "metadata": {},
   "source": [
    "#### If we specify invalid index, we get IndexError."
   ]
  },
  {
   "cell_type": "code",
   "execution_count": 20,
   "id": "a3386650",
   "metadata": {},
   "outputs": [
    {
     "ename": "IndexError",
     "evalue": "list index out of range",
     "output_type": "error",
     "traceback": [
      "\u001b[1;31m---------------------------------------------------------------------------\u001b[0m",
      "\u001b[1;31mIndexError\u001b[0m                                Traceback (most recent call last)",
      "\u001b[1;32m~\\AppData\\Local\\Temp\\ipykernel_5356\\3372124199.py\u001b[0m in \u001b[0;36m<module>\u001b[1;34m\u001b[0m\n\u001b[1;32m----> 1\u001b[1;33m \u001b[0mnest\u001b[0m\u001b[1;33m[\u001b[0m\u001b[1;36m5\u001b[0m\u001b[1;33m]\u001b[0m\u001b[1;33m\u001b[0m\u001b[1;33m\u001b[0m\u001b[0m\n\u001b[0m",
      "\u001b[1;31mIndexError\u001b[0m: list index out of range"
     ]
    }
   ],
   "source": [
    "nest[5]     "
   ]
  },
  {
   "cell_type": "markdown",
   "id": "4f8b32ed",
   "metadata": {},
   "source": [
    "#### If we specify indexing on int, float, bool, complex datatypes within the list then we get TypeError."
   ]
  },
  {
   "cell_type": "code",
   "execution_count": 21,
   "id": "bb44d1e2",
   "metadata": {},
   "outputs": [
    {
     "ename": "TypeError",
     "evalue": "'int' object is not subscriptable",
     "output_type": "error",
     "traceback": [
      "\u001b[1;31m---------------------------------------------------------------------------\u001b[0m",
      "\u001b[1;31mTypeError\u001b[0m                                 Traceback (most recent call last)",
      "\u001b[1;32m~\\AppData\\Local\\Temp\\ipykernel_5356\\999881641.py\u001b[0m in \u001b[0;36m<module>\u001b[1;34m\u001b[0m\n\u001b[1;32m----> 1\u001b[1;33m \u001b[0mnest\u001b[0m\u001b[1;33m[\u001b[0m\u001b[1;36m2\u001b[0m\u001b[1;33m]\u001b[0m\u001b[1;33m[\u001b[0m\u001b[1;36m0\u001b[0m\u001b[1;33m]\u001b[0m\u001b[1;33m\u001b[0m\u001b[1;33m\u001b[0m\u001b[0m\n\u001b[0m",
      "\u001b[1;31mTypeError\u001b[0m: 'int' object is not subscriptable"
     ]
    }
   ],
   "source": [
    "nest[2][0]   "
   ]
  },
  {
   "cell_type": "code",
   "execution_count": 22,
   "id": "8c66e495",
   "metadata": {},
   "outputs": [
    {
     "data": {
      "text/plain": [
       "5"
      ]
     },
     "execution_count": 22,
     "metadata": {},
     "output_type": "execute_result"
    }
   ],
   "source": [
    "a = [2,4,[1,3,[8,\"Hello\",6]],9,88]\n",
    "len(a)"
   ]
  },
  {
   "cell_type": "code",
   "execution_count": 23,
   "id": "35c8aded",
   "metadata": {},
   "outputs": [
    {
     "data": {
      "text/plain": [
       "'Hello'"
      ]
     },
     "execution_count": 23,
     "metadata": {},
     "output_type": "execute_result"
    }
   ],
   "source": [
    "# We want to extract \"Hello\" \n",
    "a[2][2][1]"
   ]
  },
  {
   "cell_type": "markdown",
   "id": "cc55270a",
   "metadata": {},
   "source": [
    "#### Lists are Mutable\n",
    "- If you are able to modify the values within the same object then it is called \"Mutable\"."
   ]
  },
  {
   "cell_type": "code",
   "execution_count": 24,
   "id": "5dd129b4",
   "metadata": {},
   "outputs": [
    {
     "name": "stdout",
     "output_type": "stream",
     "text": [
      "[1, 2, 3]\n"
     ]
    },
    {
     "data": {
      "text/plain": [
       "2238321612864"
      ]
     },
     "execution_count": 24,
     "metadata": {},
     "output_type": "execute_result"
    }
   ],
   "source": [
    "a = [1,2,3]\n",
    "print(a)\n",
    "\n",
    "id(a)"
   ]
  },
  {
   "cell_type": "code",
   "execution_count": 25,
   "id": "67935bb4",
   "metadata": {},
   "outputs": [
    {
     "name": "stdout",
     "output_type": "stream",
     "text": [
      "[1, 40, 3]\n"
     ]
    },
    {
     "data": {
      "text/plain": [
       "2238321612864"
      ]
     },
     "execution_count": 25,
     "metadata": {},
     "output_type": "execute_result"
    }
   ],
   "source": [
    "a[1]=40\n",
    "print(a)\n",
    "\n",
    "id(a)"
   ]
  },
  {
   "cell_type": "markdown",
   "id": "001624b1",
   "metadata": {},
   "source": [
    "#### List Slicing"
   ]
  },
  {
   "cell_type": "code",
   "execution_count": 26,
   "id": "592251db",
   "metadata": {},
   "outputs": [
    {
     "data": {
      "text/plain": [
       "[10, 20, 30, 40, 50, 60]"
      ]
     },
     "execution_count": 26,
     "metadata": {},
     "output_type": "execute_result"
    }
   ],
   "source": [
    "numbers = [10,20,30,40,50,60,70,80,90]\n",
    "numbers[0:6]"
   ]
  },
  {
   "cell_type": "markdown",
   "id": "472fa767",
   "metadata": {},
   "source": [
    "#### List Concatenation"
   ]
  },
  {
   "cell_type": "code",
   "execution_count": 27,
   "id": "bf4e563a",
   "metadata": {},
   "outputs": [
    {
     "name": "stdout",
     "output_type": "stream",
     "text": [
      "['das', 'a', 'b', 1, 'Ram', 5.7]\n"
     ]
    }
   ],
   "source": [
    "l1 = [\"das\",\"a\",\"b\"]\n",
    "l2 = [1,\"Ram\",5.7]\n",
    "l3=l1+l2\n",
    "print(l3)"
   ]
  },
  {
   "cell_type": "code",
   "execution_count": 28,
   "id": "9dff65b3",
   "metadata": {},
   "outputs": [
    {
     "name": "stdout",
     "output_type": "stream",
     "text": [
      "[1, 'Ram', 5.7, 'das', 'a', 'b']\n"
     ]
    }
   ],
   "source": [
    "l1 = [\"das\",\"a\",\"b\"]\n",
    "l2 = [1,\"Ram\",5.7]\n",
    "l3=l2+l1\n",
    "print(l3)"
   ]
  },
  {
   "cell_type": "markdown",
   "id": "33c27daf",
   "metadata": {},
   "source": [
    "# List Methods\n",
    "<b> list.append() \n",
    "- append is used for adding the elements at the end of existing elements of list.\n",
    "- append() takes a single element as argument and the length of the list is increased by 1.\n",
    "- If we try to specify multiple elements in list by append(), then we get TypeError.\n",
    "    \n",
    "<b> Syntax : -  list_name.append(element)"
   ]
  },
  {
   "cell_type": "code",
   "execution_count": 29,
   "id": "dee3191f",
   "metadata": {},
   "outputs": [
    {
     "name": "stdout",
     "output_type": "stream",
     "text": [
      "[10, 20, 30, 40, 50]\n"
     ]
    }
   ],
   "source": [
    "my_list = [10,20,30,40]\n",
    "my_list.append(50)\n",
    "print(my_list)"
   ]
  },
  {
   "cell_type": "code",
   "execution_count": 31,
   "id": "f9b14907",
   "metadata": {},
   "outputs": [
    {
     "name": "stdout",
     "output_type": "stream",
     "text": [
      "[1, 2, 3, 4, [5, 6, 7]]\n"
     ]
    }
   ],
   "source": [
    "lst = [1,2,3,4]\n",
    "lst.append([5,6,7])\n",
    "print(lst)"
   ]
  },
  {
   "cell_type": "code",
   "execution_count": 32,
   "id": "6b8a35d8",
   "metadata": {},
   "outputs": [
    {
     "ename": "TypeError",
     "evalue": "list.append() takes exactly one argument (3 given)",
     "output_type": "error",
     "traceback": [
      "\u001b[1;31m---------------------------------------------------------------------------\u001b[0m",
      "\u001b[1;31mTypeError\u001b[0m                                 Traceback (most recent call last)",
      "\u001b[1;32m~\\AppData\\Local\\Temp\\ipykernel_5356\\1102635847.py\u001b[0m in \u001b[0;36m<module>\u001b[1;34m\u001b[0m\n\u001b[0;32m      1\u001b[0m \u001b[0mmy_list\u001b[0m \u001b[1;33m=\u001b[0m \u001b[1;33m[\u001b[0m\u001b[1;36m10\u001b[0m\u001b[1;33m,\u001b[0m\u001b[1;36m20\u001b[0m\u001b[1;33m,\u001b[0m\u001b[1;36m30\u001b[0m\u001b[1;33m,\u001b[0m\u001b[1;36m40\u001b[0m\u001b[1;33m]\u001b[0m\u001b[1;33m\u001b[0m\u001b[1;33m\u001b[0m\u001b[0m\n\u001b[1;32m----> 2\u001b[1;33m \u001b[0mmy_list\u001b[0m\u001b[1;33m.\u001b[0m\u001b[0mappend\u001b[0m\u001b[1;33m(\u001b[0m\u001b[1;36m50\u001b[0m\u001b[1;33m,\u001b[0m\u001b[1;36m60\u001b[0m\u001b[1;33m,\u001b[0m\u001b[1;36m70\u001b[0m\u001b[1;33m)\u001b[0m\u001b[1;33m\u001b[0m\u001b[1;33m\u001b[0m\u001b[0m\n\u001b[0m\u001b[0;32m      3\u001b[0m \u001b[0mprint\u001b[0m\u001b[1;33m(\u001b[0m\u001b[0mmy_list\u001b[0m\u001b[1;33m)\u001b[0m\u001b[1;33m\u001b[0m\u001b[1;33m\u001b[0m\u001b[0m\n",
      "\u001b[1;31mTypeError\u001b[0m: list.append() takes exactly one argument (3 given)"
     ]
    }
   ],
   "source": [
    "my_list = [10,20,30,40]\n",
    "my_list.append(50,60,70)\n",
    "print(my_list)"
   ]
  },
  {
   "cell_type": "markdown",
   "id": "9712a298",
   "metadata": {},
   "source": [
    "<b> list.extend()\n",
    "- extend() can add multiple individual elements to the end of the list.\n",
    "- extend() takes an iterable as argument (list, tuple, dictionaries, sets, strings) and increases the length of the list by the   number of elements of the iterable passed as an argument.\n",
    "    \n",
    "<b> Syntax :-   list_name.extend(iterable)"
   ]
  },
  {
   "cell_type": "code",
   "execution_count": 33,
   "id": "bb962051",
   "metadata": {},
   "outputs": [
    {
     "name": "stdout",
     "output_type": "stream",
     "text": [
      "[1, 2, 3, 4, 5, 6, 7]\n"
     ]
    }
   ],
   "source": [
    "lst = [1,2,3,4]\n",
    "lst.extend([5,6,7])\n",
    "print(lst)"
   ]
  },
  {
   "cell_type": "code",
   "execution_count": 35,
   "id": "f246fb9b",
   "metadata": {},
   "outputs": [
    {
     "name": "stdout",
     "output_type": "stream",
     "text": [
      "[1, 2, 3, 4, 8, [5, 6, 7], 9, [11, 12]]\n"
     ]
    }
   ],
   "source": [
    "lst = [1,2,3,4]\n",
    "lst.extend([8,[5,6,7],9,[11,12]])\n",
    "print(lst)"
   ]
  },
  {
   "cell_type": "markdown",
   "id": "210f9a35",
   "metadata": {},
   "source": [
    "<b> list.insert()\n",
    "- This method can be used to insert a value at any desired position. \n",
    "- It takes two arguments-element and the index at which the element has to be inserted and Length of the list increases by 1.\n",
    "- If we specify Invalid Index then the element will be added at the end of existing elements of list.\n",
    "\n",
    "<b> Syntax: - list_name.insert(index,element)"
   ]
  },
  {
   "cell_type": "code",
   "execution_count": 40,
   "id": "f3e6b074",
   "metadata": {},
   "outputs": [
    {
     "name": "stdout",
     "output_type": "stream",
     "text": [
      "['one', 'two', 'three', 'four']\n"
     ]
    }
   ],
   "source": [
    "lst = [\"one\",\"two\",\"four\"]\n",
    "lst.insert(2,\"three\")\n",
    "print(lst)"
   ]
  },
  {
   "cell_type": "markdown",
   "id": "e8842ee7",
   "metadata": {},
   "source": [
    "<b> list.remove()---(Based  On Value / Element)\n",
    "- This Function is used for Removing First Occurrence of list object.\n",
    "- If the specified element does not exist in list object then we get ValueError.\n",
    "    \n",
    "<b> Syntax: -  listobj.remove(Element)"
   ]
  },
  {
   "cell_type": "code",
   "execution_count": 39,
   "id": "9d09edab",
   "metadata": {},
   "outputs": [
    {
     "name": "stdout",
     "output_type": "stream",
     "text": [
      "[20, 30, 40, 10]\n"
     ]
    }
   ],
   "source": [
    "numbers = [10,20,30,40,10]\n",
    "numbers.remove(10)\n",
    "print(numbers)"
   ]
  },
  {
   "cell_type": "markdown",
   "id": "52140b9f",
   "metadata": {},
   "source": [
    "<b> list.pop()\n",
    "- The pop() method removes the element at the specified position based on index number.\n",
    "- If we not specify any index in pop(), then it will removes end element of the list. \n",
    "- If we specify invalid Index, then we get IndexError.\n",
    "    \n",
    "<b> Syntax: -  \n",
    "- listobj.pop(index)\n",
    "      (OR)\n",
    "- listobj.pop()"
   ]
  },
  {
   "cell_type": "code",
   "execution_count": 43,
   "id": "9e9a1376",
   "metadata": {},
   "outputs": [
    {
     "name": "stdout",
     "output_type": "stream",
     "text": [
      "[10, 20, 40, 10]\n"
     ]
    }
   ],
   "source": [
    "numbers = [10,20,30,40,10]\n",
    "numbers.pop(2)\n",
    "print(numbers)"
   ]
  },
  {
   "cell_type": "code",
   "execution_count": 44,
   "id": "4984945a",
   "metadata": {},
   "outputs": [
    {
     "ename": "IndexError",
     "evalue": "pop index out of range",
     "output_type": "error",
     "traceback": [
      "\u001b[1;31m---------------------------------------------------------------------------\u001b[0m",
      "\u001b[1;31mIndexError\u001b[0m                                Traceback (most recent call last)",
      "\u001b[1;32m~\\AppData\\Local\\Temp\\ipykernel_5356\\2128187119.py\u001b[0m in \u001b[0;36m<module>\u001b[1;34m\u001b[0m\n\u001b[0;32m      1\u001b[0m \u001b[0mnumbers\u001b[0m \u001b[1;33m=\u001b[0m \u001b[1;33m[\u001b[0m\u001b[1;36m10\u001b[0m\u001b[1;33m,\u001b[0m\u001b[1;36m20\u001b[0m\u001b[1;33m,\u001b[0m\u001b[1;36m30\u001b[0m\u001b[1;33m,\u001b[0m\u001b[1;36m40\u001b[0m\u001b[1;33m,\u001b[0m\u001b[1;36m10\u001b[0m\u001b[1;33m]\u001b[0m\u001b[1;33m\u001b[0m\u001b[1;33m\u001b[0m\u001b[0m\n\u001b[1;32m----> 2\u001b[1;33m \u001b[0mnumbers\u001b[0m\u001b[1;33m.\u001b[0m\u001b[0mpop\u001b[0m\u001b[1;33m(\u001b[0m\u001b[1;36m7\u001b[0m\u001b[1;33m)\u001b[0m\u001b[1;33m\u001b[0m\u001b[1;33m\u001b[0m\u001b[0m\n\u001b[0m\u001b[0;32m      3\u001b[0m \u001b[0mprint\u001b[0m\u001b[1;33m(\u001b[0m\u001b[0mnumbers\u001b[0m\u001b[1;33m)\u001b[0m\u001b[1;33m\u001b[0m\u001b[1;33m\u001b[0m\u001b[0m\n",
      "\u001b[1;31mIndexError\u001b[0m: pop index out of range"
     ]
    }
   ],
   "source": [
    "numbers = [10,20,30,40,10]\n",
    "numbers.pop(7)\n",
    "print(numbers)"
   ]
  },
  {
   "cell_type": "code",
   "execution_count": 46,
   "id": "6ef6aaad",
   "metadata": {},
   "outputs": [
    {
     "name": "stdout",
     "output_type": "stream",
     "text": [
      "[10, 'Ram', 20, 'Siva', 30]\n"
     ]
    }
   ],
   "source": [
    "lst = [10,\"Ram\",20,\"Siva\",30]\n",
    "print(lst)"
   ]
  },
  {
   "cell_type": "code",
   "execution_count": 47,
   "id": "e7d9dce0",
   "metadata": {},
   "outputs": [
    {
     "name": "stdout",
     "output_type": "stream",
     "text": [
      "[10, 'Ram', 20, 'Siva']\n"
     ]
    }
   ],
   "source": [
    "lst = [10,\"Ram\",20,\"Siva\",30]\n",
    "lst.pop()\n",
    "print(lst)"
   ]
  },
  {
   "cell_type": "code",
   "execution_count": 48,
   "id": "380e12b9",
   "metadata": {},
   "outputs": [
    {
     "name": "stdout",
     "output_type": "stream",
     "text": [
      "[10, 'Ram', 20]\n"
     ]
    }
   ],
   "source": [
    "lst.pop()\n",
    "print(lst)"
   ]
  },
  {
   "cell_type": "code",
   "execution_count": 49,
   "id": "c6fe9d09",
   "metadata": {},
   "outputs": [
    {
     "name": "stdout",
     "output_type": "stream",
     "text": [
      "[10, 'Ram']\n"
     ]
    }
   ],
   "source": [
    "lst.pop()\n",
    "print(lst)"
   ]
  },
  {
   "cell_type": "markdown",
   "id": "0b662173",
   "metadata": {},
   "source": [
    "<b> del operator\n",
    "- \"del\" operator is used for removing the elements of any object based on Indexing, Slicing Operation.\n",
    "- It can remove entire object at once only.\n",
    "- After deleting entaire object, if we try to print that object then we get NameError.\n",
    "\n",
    "<b> Syntax1:      \n",
    "- del   lisobj[Index]\n",
    "      (OR)\n",
    "- del  listobj[Begin:End:Step]   \n",
    "    (OR)\n",
    "- del  listobj"
   ]
  },
  {
   "cell_type": "code",
   "execution_count": 90,
   "id": "da5a43e4",
   "metadata": {},
   "outputs": [
    {
     "name": "stdout",
     "output_type": "stream",
     "text": [
      "[10, 10, 10, 20, 20, 30, 40, 40]\n"
     ]
    }
   ],
   "source": [
    "l1=[10,10,10,20,20,30,40,40]\n",
    "print(l1)"
   ]
  },
  {
   "cell_type": "code",
   "execution_count": 94,
   "id": "f83c9c5d",
   "metadata": {},
   "outputs": [
    {
     "name": "stdout",
     "output_type": "stream",
     "text": [
      "[10, 20, 20, 30, 40, 40]\n"
     ]
    }
   ],
   "source": [
    "del l1[1]\n",
    "print(l1)"
   ]
  },
  {
   "cell_type": "code",
   "execution_count": 95,
   "id": "b6dfffd8",
   "metadata": {},
   "outputs": [
    {
     "name": "stdout",
     "output_type": "stream",
     "text": [
      "[30, 40, 40]\n"
     ]
    }
   ],
   "source": [
    "del l1[0:3]\n",
    "print(l1)"
   ]
  },
  {
   "cell_type": "code",
   "execution_count": 96,
   "id": "26517ad3",
   "metadata": {},
   "outputs": [
    {
     "ename": "NameError",
     "evalue": "name 'l1' is not defined",
     "output_type": "error",
     "traceback": [
      "\u001b[1;31m---------------------------------------------------------------------------\u001b[0m",
      "\u001b[1;31mNameError\u001b[0m                                 Traceback (most recent call last)",
      "\u001b[1;32m~\\AppData\\Local\\Temp\\ipykernel_5356\\659096169.py\u001b[0m in \u001b[0;36m<module>\u001b[1;34m\u001b[0m\n\u001b[0;32m      1\u001b[0m \u001b[1;32mdel\u001b[0m \u001b[0ml1\u001b[0m\u001b[1;33m\u001b[0m\u001b[1;33m\u001b[0m\u001b[0m\n\u001b[1;32m----> 2\u001b[1;33m \u001b[0mprint\u001b[0m\u001b[1;33m(\u001b[0m\u001b[0ml1\u001b[0m\u001b[1;33m)\u001b[0m\u001b[1;33m\u001b[0m\u001b[1;33m\u001b[0m\u001b[0m\n\u001b[0m",
      "\u001b[1;31mNameError\u001b[0m: name 'l1' is not defined"
     ]
    }
   ],
   "source": [
    "del l1\n",
    "print(l1)"
   ]
  },
  {
   "cell_type": "markdown",
   "id": "0dbae6b9",
   "metadata": {},
   "source": [
    "## DIfference between del Vs pop() \n",
    "                       del                                         pop()\n",
    "              ----------------------------------------------------------------------------\n",
    "             - Removes multiple items at time.        - Removes only one item at a time."
   ]
  },
  {
   "cell_type": "markdown",
   "id": "6a0bb0d9",
   "metadata": {},
   "source": [
    "## DIfference between del Vs clear() \n",
    "                               del                                              clear()\n",
    "              -------------------------------------------------------------------------------------------\n",
    "             - It will delete the whole object and data.    - It will delete the items (data) not object."
   ]
  },
  {
   "cell_type": "markdown",
   "id": "8b14cf59",
   "metadata": {},
   "source": [
    "<b> list.clear()\n",
    "- The clear() method clears all the elements from the list and returns empty list.\n",
    "\n",
    "<b> Syntax: -   listobj.clear()"
   ]
  },
  {
   "cell_type": "code",
   "execution_count": 51,
   "id": "5dec3e41",
   "metadata": {},
   "outputs": [
    {
     "name": "stdout",
     "output_type": "stream",
     "text": [
      "[]\n"
     ]
    }
   ],
   "source": [
    "a = [1,2,3,4]\n",
    "a.clear()\n",
    "print(a)"
   ]
  },
  {
   "cell_type": "code",
   "execution_count": 52,
   "id": "1c0230c5",
   "metadata": {},
   "outputs": [
    {
     "name": "stdout",
     "output_type": "stream",
     "text": [
      "[5, 6, 7, 8]\n"
     ]
    }
   ],
   "source": [
    "a = [1,2,3,4]\n",
    "a.clear()\n",
    "a.extend([5,6,7,8])\n",
    "print(a)"
   ]
  },
  {
   "cell_type": "markdown",
   "id": "c10393f3",
   "metadata": {},
   "source": [
    "<b> list.reverse()\n",
    "- This Function is used for obtaining Reverse of given list elements (Front to back and Back to front).\n",
    "\n",
    "<b> Syntax: -       listobj.reverse()"
   ]
  },
  {
   "cell_type": "code",
   "execution_count": 54,
   "id": "534c0773",
   "metadata": {},
   "outputs": [
    {
     "name": "stdout",
     "output_type": "stream",
     "text": [
      "[4, 3, 2, 1]\n"
     ]
    }
   ],
   "source": [
    "a = [1,2,3,4]\n",
    "a.reverse()\n",
    "print(a)"
   ]
  },
  {
   "cell_type": "code",
   "execution_count": 55,
   "id": "67acc4f3",
   "metadata": {},
   "outputs": [
    {
     "name": "stdout",
     "output_type": "stream",
     "text": [
      "[6, [3, 4], 2.8, 1]\n"
     ]
    }
   ],
   "source": [
    "a = [1,2.8,[3,4],6]\n",
    "a.reverse()\n",
    "print(a)"
   ]
  },
  {
   "cell_type": "markdown",
   "id": "60b6db61",
   "metadata": {},
   "source": [
    "<b> list,sort()\n",
    "- This Function is used for Sorting the data either in Ascending Order(reverse=False) or Descending Order (reverse=True). \n",
    "- It will sort the data Similar type of Data otherwise we get TypeError.\n",
    "    \n",
    "<b> Syntax: -        \n",
    "- listobj.sort()\n",
    "        (OR)\n",
    "- listobj.sort(reverse=True / False)"
   ]
  },
  {
   "cell_type": "code",
   "execution_count": 64,
   "id": "fd0034d1",
   "metadata": {},
   "outputs": [
    {
     "name": "stdout",
     "output_type": "stream",
     "text": [
      "[1, 2, 3, 4, 8]\n"
     ]
    }
   ],
   "source": [
    "a = [4,3,2,1,8]                \n",
    "a.sort()                  # Ascending Order\n",
    "print(a)"
   ]
  },
  {
   "cell_type": "code",
   "execution_count": 62,
   "id": "6892970a",
   "metadata": {},
   "outputs": [
    {
     "name": "stdout",
     "output_type": "stream",
     "text": [
      "[8.3, 4, 3, 2, 1]\n"
     ]
    }
   ],
   "source": [
    "a = [4,3,2,1,8.3]                \n",
    "a.sort(reverse=True)      # Descending Order\n",
    "print(a)"
   ]
  },
  {
   "cell_type": "code",
   "execution_count": 63,
   "id": "0b18b4cb",
   "metadata": {},
   "outputs": [
    {
     "name": "stdout",
     "output_type": "stream",
     "text": [
      "[1, 2, 3, 4, 8.3]\n"
     ]
    }
   ],
   "source": [
    "a = [4,3,2,1,8.3]                \n",
    "a.sort(reverse=False)      # Ascending Order\n",
    "print(a)"
   ]
  },
  {
   "cell_type": "code",
   "execution_count": 71,
   "id": "84fff9fc",
   "metadata": {},
   "outputs": [
    {
     "name": "stdout",
     "output_type": "stream",
     "text": [
      "['a', 'b', 'c', 'ram', 'siva']\n"
     ]
    }
   ],
   "source": [
    "a = [\"ram\",\"a\",\"siva\",\"b\",\"c\"]                \n",
    "a.sort(reverse=False)      # Ascending Order\n",
    "print(a)"
   ]
  },
  {
   "cell_type": "code",
   "execution_count": 72,
   "id": "af90704a",
   "metadata": {},
   "outputs": [
    {
     "name": "stdout",
     "output_type": "stream",
     "text": [
      "['siva', 'ram', 'c', 'b', 'a']\n"
     ]
    }
   ],
   "source": [
    "a = [\"ram\",\"a\",\"siva\",\"b\",\"c\"]                \n",
    "a.sort(reverse=True)      # Ascending Order\n",
    "print(a)"
   ]
  },
  {
   "cell_type": "code",
   "execution_count": 73,
   "id": "c0d3f2fa",
   "metadata": {},
   "outputs": [
    {
     "name": "stdout",
     "output_type": "stream",
     "text": [
      "['car', 'bala', 'amit', 'Siva', 'Ram']\n"
     ]
    }
   ],
   "source": [
    "a = [\"Ram\",\"amit\",\"Siva\",\"bala\",\"car\"]        # Case Sensitive        \n",
    "a.sort(reverse=True)      # Descending Order\n",
    "print(a)"
   ]
  },
  {
   "cell_type": "markdown",
   "id": "a7944e15",
   "metadata": {},
   "source": [
    "<b> Note:- sort() is applicable for either only numeric values or alphabet."
   ]
  },
  {
   "cell_type": "code",
   "execution_count": 74,
   "id": "3257ff5d",
   "metadata": {},
   "outputs": [
    {
     "ename": "TypeError",
     "evalue": "'<' not supported between instances of 'str' and 'float'",
     "output_type": "error",
     "traceback": [
      "\u001b[1;31m---------------------------------------------------------------------------\u001b[0m",
      "\u001b[1;31mTypeError\u001b[0m                                 Traceback (most recent call last)",
      "\u001b[1;32m~\\AppData\\Local\\Temp\\ipykernel_5356\\2335402968.py\u001b[0m in \u001b[0;36m<module>\u001b[1;34m\u001b[0m\n\u001b[0;32m      1\u001b[0m \u001b[0mlst\u001b[0m \u001b[1;33m=\u001b[0m \u001b[1;33m[\u001b[0m\u001b[1;36m10\u001b[0m\u001b[1;33m,\u001b[0m\u001b[1;36m20.45\u001b[0m\u001b[1;33m,\u001b[0m\u001b[1;34m\"ram\"\u001b[0m\u001b[1;33m,\u001b[0m\u001b[1;36m40\u001b[0m\u001b[1;33m]\u001b[0m\u001b[1;33m\u001b[0m\u001b[1;33m\u001b[0m\u001b[0m\n\u001b[1;32m----> 2\u001b[1;33m \u001b[0mlst\u001b[0m\u001b[1;33m.\u001b[0m\u001b[0msort\u001b[0m\u001b[1;33m(\u001b[0m\u001b[1;33m)\u001b[0m\u001b[1;33m\u001b[0m\u001b[1;33m\u001b[0m\u001b[0m\n\u001b[0m\u001b[0;32m      3\u001b[0m \u001b[0mprint\u001b[0m\u001b[1;33m(\u001b[0m\u001b[0mlst\u001b[0m\u001b[1;33m)\u001b[0m\u001b[1;33m\u001b[0m\u001b[1;33m\u001b[0m\u001b[0m\n",
      "\u001b[1;31mTypeError\u001b[0m: '<' not supported between instances of 'str' and 'float'"
     ]
    }
   ],
   "source": [
    "lst = [10,20.45,\"ram\",40]\n",
    "lst.sort()\n",
    "print(lst)"
   ]
  },
  {
   "cell_type": "markdown",
   "id": "4dc57da8",
   "metadata": {},
   "source": [
    "# Difference between list.sort()  Vs sorted(list)\n",
    "\n",
    "<b> list.sort()                                             \n",
    "- After sorting it will stores in the  original list. \n",
    "    \n",
    "<b> sorted(list)\n",
    "- After sorting it will print the value, but not stores in the original list. "
   ]
  },
  {
   "cell_type": "markdown",
   "id": "19fb9a52",
   "metadata": {},
   "source": [
    "# Difference between list.reverse()  Vs reversed(list)\n",
    "\n",
    "<b> list.sort()                                             \n",
    "- After reversing it will stores in the  original list. \n",
    "    \n",
    "<b> sorted(list)\n",
    "- After reversing it will print the value, but not stores in the original list.  \n",
    "------------------------------------------------------------------------------------------------------------------------------"
   ]
  },
  {
   "cell_type": "markdown",
   "id": "a992bd72",
   "metadata": {},
   "source": [
    "<b> list.count()\n",
    "- This Function is used for finding number of Occurrences of Specified Element / value.\n",
    "- If specified value is not present in the list, then it will returns 0.\n",
    "    \n",
    "<b>Syntax:    listobj.count(Value)"
   ]
  },
  {
   "cell_type": "code",
   "execution_count": 85,
   "id": "68cf71ff",
   "metadata": {},
   "outputs": [
    {
     "name": "stdout",
     "output_type": "stream",
     "text": [
      "3\n"
     ]
    }
   ],
   "source": [
    "lst = [1,20,30,10,4,30,20,8,7,20,30]\n",
    "print(lst.count(20))"
   ]
  },
  {
   "cell_type": "code",
   "execution_count": 86,
   "id": "506da91e",
   "metadata": {},
   "outputs": [
    {
     "name": "stdout",
     "output_type": "stream",
     "text": [
      "3\n"
     ]
    }
   ],
   "source": [
    "lst = [1,20,30,10,4,30,20,8,7,20,30]\n",
    "print(lst.count(30))"
   ]
  },
  {
   "cell_type": "code",
   "execution_count": 87,
   "id": "16b872f9",
   "metadata": {},
   "outputs": [
    {
     "name": "stdout",
     "output_type": "stream",
     "text": [
      "1\n"
     ]
    }
   ],
   "source": [
    "lst = [1,20,30,10,4,30,20,8,7,20,30]\n",
    "print(lst.count(1))"
   ]
  },
  {
   "cell_type": "code",
   "execution_count": 88,
   "id": "8e7e95ea",
   "metadata": {},
   "outputs": [
    {
     "name": "stdout",
     "output_type": "stream",
     "text": [
      "0\n"
     ]
    }
   ],
   "source": [
    "lst = [1,20,30,10,4,30,20,8,7,20,30]\n",
    "print(lst.count(200))"
   ]
  },
  {
   "cell_type": "markdown",
   "id": "3af53a8c",
   "metadata": {},
   "source": [
    "## copy()\n",
    "<b> Shallow copy\n",
    "    \n",
    "<b> The Properties of Shallow Copy are,\n",
    "\n",
    "    \n",
    "- Initial Content of Both objects is Same.\n",
    "- The Memory Address of Both objects is Different.\n",
    "- Modification of Both objects are Independent (The changes made to the objects are not reflecting to each other).\n",
    "- To implement Shallow Copy Technique, we always use copy().\n",
    "    \n",
    "<b> Syntax:-          destobj=srcobj.copy()\n",
    "    "
   ]
  },
  {
   "cell_type": "code",
   "execution_count": 101,
   "id": "8bb07f66",
   "metadata": {},
   "outputs": [
    {
     "name": "stdout",
     "output_type": "stream",
     "text": [
      "[10, 20, 30] <class 'list'> 2238322099264\n"
     ]
    }
   ],
   "source": [
    "l1=[10,20,30]\n",
    "print(l1,type(l1),id(l1))"
   ]
  },
  {
   "cell_type": "code",
   "execution_count": 102,
   "id": "ffd8dff3",
   "metadata": {},
   "outputs": [
    {
     "name": "stdout",
     "output_type": "stream",
     "text": [
      "[10, 20, 30] <class 'list'> 2238322096064\n"
     ]
    }
   ],
   "source": [
    "l2 = l1.copy()\n",
    "print(l2,type(l2),id(l2))"
   ]
  },
  {
   "cell_type": "code",
   "execution_count": 103,
   "id": "5a80e704",
   "metadata": {},
   "outputs": [
    {
     "name": "stdout",
     "output_type": "stream",
     "text": [
      "[10, 20, 30, 'srk'] <class 'list'> 2238322099264\n",
      "[10, 20, 30, 5000] <class 'list'> 2238322096064\n"
     ]
    }
   ],
   "source": [
    "l1.append(\"srk\")\n",
    "l2.append(5000)\n",
    "print(l1,type(l1),id(l1))\n",
    "print(l2,type(l2),id(l2))"
   ]
  },
  {
   "cell_type": "markdown",
   "id": "7dda2949",
   "metadata": {},
   "source": [
    "<b> Deep copy\n",
    "    \n",
    "<b> The Properties of Deep Copy are,\n",
    "\n",
    "    \n",
    "- Initial Content of Both objects is Same.\n",
    "- The Memory Address of Both objects is SAME.\n",
    "- Modification of Both objects are Dependent (The changes made to the objects are reflecting to each other).\n",
    "- To implement Deep Copy Technique, we always use Assignment Operator \" = \" \n",
    "    \n",
    "<b> Syntax:-          destobj=srcobj "
   ]
  },
  {
   "cell_type": "code",
   "execution_count": 108,
   "id": "e8c912ad",
   "metadata": {},
   "outputs": [
    {
     "name": "stdout",
     "output_type": "stream",
     "text": [
      "[10, 20, 30] <class 'list'> 2238321140032\n"
     ]
    }
   ],
   "source": [
    "l1=[10,20,30]\n",
    "print(l1,type(l1),id(l1))"
   ]
  },
  {
   "cell_type": "code",
   "execution_count": 109,
   "id": "e5d133a8",
   "metadata": {},
   "outputs": [
    {
     "name": "stdout",
     "output_type": "stream",
     "text": [
      "[10, 20, 30] <class 'list'> 2238321140032\n"
     ]
    }
   ],
   "source": [
    "l2 = l1\n",
    "print(l2,type(l2),id(l2))"
   ]
  },
  {
   "cell_type": "code",
   "execution_count": 110,
   "id": "f8a657dc",
   "metadata": {
    "scrolled": true
   },
   "outputs": [
    {
     "name": "stdout",
     "output_type": "stream",
     "text": [
      "[10, 20, 30, 'srk', 2000] <class 'list'> 2238321140032\n",
      "[10, 20, 30, 'srk', 2000] <class 'list'> 2238321140032\n"
     ]
    }
   ],
   "source": [
    "l1.append(\"srk\")\n",
    "l2.append(2000)\n",
    "print(l1,type(l1),id(l1))\n",
    "print(l2,type(l2),id(l2))"
   ]
  },
  {
   "cell_type": "markdown",
   "id": "864b356d",
   "metadata": {},
   "source": [
    "<b> list.index()\n",
    "- This Function is used for finding Index of First Occurrence of Specified Element / Value.\n",
    "- If the value not existing then we get ValueError.\n",
    "\n",
    "<b> Syntax:      listobj.index(Value)\n",
    "    "
   ]
  },
  {
   "cell_type": "code",
   "execution_count": 124,
   "id": "8620ad8b",
   "metadata": {},
   "outputs": [
    {
     "name": "stdout",
     "output_type": "stream",
     "text": [
      "[10, 20, 30, 40, 50, 10, 20]\n"
     ]
    }
   ],
   "source": [
    "l1=[10,20,30,40,50,10,20]\n",
    "print(l1)"
   ]
  },
  {
   "cell_type": "code",
   "execution_count": 125,
   "id": "c408439c",
   "metadata": {},
   "outputs": [
    {
     "data": {
      "text/plain": [
       "0"
      ]
     },
     "execution_count": 125,
     "metadata": {},
     "output_type": "execute_result"
    }
   ],
   "source": [
    "l1.index(10)"
   ]
  },
  {
   "cell_type": "code",
   "execution_count": 126,
   "id": "8a07be03",
   "metadata": {},
   "outputs": [
    {
     "data": {
      "text/plain": [
       "1"
      ]
     },
     "execution_count": 126,
     "metadata": {},
     "output_type": "execute_result"
    }
   ],
   "source": [
    "l1.index(20)"
   ]
  },
  {
   "cell_type": "code",
   "execution_count": 127,
   "id": "01fc4ad1",
   "metadata": {},
   "outputs": [
    {
     "data": {
      "text/plain": [
       "2"
      ]
     },
     "execution_count": 127,
     "metadata": {},
     "output_type": "execute_result"
    }
   ],
   "source": [
    "l1.index(30)"
   ]
  },
  {
   "cell_type": "code",
   "execution_count": 128,
   "id": "e5242dba",
   "metadata": {},
   "outputs": [
    {
     "ename": "ValueError",
     "evalue": "80 is not in list",
     "output_type": "error",
     "traceback": [
      "\u001b[1;31m---------------------------------------------------------------------------\u001b[0m",
      "\u001b[1;31mValueError\u001b[0m                                Traceback (most recent call last)",
      "\u001b[1;32m~\\AppData\\Local\\Temp\\ipykernel_5356\\2665505524.py\u001b[0m in \u001b[0;36m<module>\u001b[1;34m\u001b[0m\n\u001b[1;32m----> 1\u001b[1;33m \u001b[0ml1\u001b[0m\u001b[1;33m.\u001b[0m\u001b[0mindex\u001b[0m\u001b[1;33m(\u001b[0m\u001b[1;36m80\u001b[0m\u001b[1;33m)\u001b[0m\u001b[1;33m\u001b[0m\u001b[1;33m\u001b[0m\u001b[0m\n\u001b[0m",
      "\u001b[1;31mValueError\u001b[0m: 80 is not in list"
     ]
    }
   ],
   "source": [
    "l1.index(80)"
   ]
  },
  {
   "cell_type": "markdown",
   "id": "b266b84c",
   "metadata": {},
   "source": [
    "# Tuples"
   ]
  },
  {
   "cell_type": "markdown",
   "id": "eb09b5f5",
   "metadata": {},
   "source": [
    "- Purpose of tuple data type is that \"To store Multiple Values either Similar Type or Different Type or Both the Types in \n",
    "  Single Object with Unique and Duplicate Values\".\n",
    "- The elements of tuple must be enclosed or written within Braces ( ) and the elements must be separated by comma.\n",
    "- Tuple is similar to list except tuples are immutable which means we cannot change the elements of tuple once assigned.\n",
    "- When we do not want to change the data over time, tuple data type is preferred.\n",
    "- Iterating over the elements of a tuple is faster as compared to iterating over a list.\n",
    "- An object of tuple maintains Insertion Order.\n",
    "- On the object of tuple, we can perform both Indexing and Slicing Operations.\n",
    "\n",
    "  <b> Syntax: -                      tplobj=(val1, val2, ....val-n).\n"
   ]
  },
  {
   "cell_type": "markdown",
   "id": "3e631e22",
   "metadata": {},
   "source": [
    "#### Empty tuple\n",
    "- An Empty tuple is one, which does not contain any elements and whose length is 0.\n",
    "\n",
    "  <b> Syntax:   \n",
    "             tupleobj=()\n",
    "\t\t\t   (OR)\n",
    "\t\t\t tupleobj=tuple()\n"
   ]
  },
  {
   "cell_type": "code",
   "execution_count": 4,
   "id": "c9555f1f",
   "metadata": {},
   "outputs": [
    {
     "name": "stdout",
     "output_type": "stream",
     "text": [
      "()\n"
     ]
    },
    {
     "data": {
      "text/plain": [
       "tuple"
      ]
     },
     "execution_count": 4,
     "metadata": {},
     "output_type": "execute_result"
    }
   ],
   "source": [
    "tup1 = ()   # Empty tuple\n",
    "print(tup1)\n",
    "type(tup1)"
   ]
  },
  {
   "cell_type": "code",
   "execution_count": 9,
   "id": "2af5d0a7",
   "metadata": {},
   "outputs": [
    {
     "data": {
      "text/plain": [
       "0"
      ]
     },
     "execution_count": 9,
     "metadata": {},
     "output_type": "execute_result"
    }
   ],
   "source": [
    "len(tup1)"
   ]
  },
  {
   "cell_type": "code",
   "execution_count": 5,
   "id": "f98bfb2f",
   "metadata": {},
   "outputs": [
    {
     "name": "stdout",
     "output_type": "stream",
     "text": [
      "()\n"
     ]
    },
    {
     "data": {
      "text/plain": [
       "tuple"
      ]
     },
     "execution_count": 5,
     "metadata": {},
     "output_type": "execute_result"
    }
   ],
   "source": [
    "tup2 = tuple()   # Empty tuple\n",
    "print(tup2)\n",
    "type(tup2)"
   ]
  },
  {
   "cell_type": "code",
   "execution_count": 10,
   "id": "334b0350",
   "metadata": {},
   "outputs": [
    {
     "data": {
      "text/plain": [
       "0"
      ]
     },
     "execution_count": 10,
     "metadata": {},
     "output_type": "execute_result"
    }
   ],
   "source": [
    "len(tup2)"
   ]
  },
  {
   "cell_type": "markdown",
   "id": "786b741e",
   "metadata": {},
   "source": [
    "#### Non Empty tuple\n",
    "- A Non-Empty tuple is one, which contains elements and whose length is >0.\n",
    "\n",
    "<b>Syntax:   \n",
    "    \n",
    "          tupleobj=(val1, val2, ....val-n )\n",
    "    \n",
    "\t\t\t\t\t (OR)\n",
    "    \n",
    "\t\t tupleobj=val1, val2, ....val-n \n"
   ]
  },
  {
   "cell_type": "code",
   "execution_count": 6,
   "id": "23d5c731",
   "metadata": {},
   "outputs": [
    {
     "data": {
      "text/plain": [
       "(10, 12.45, True, (3+8j), 'Hari')"
      ]
     },
     "execution_count": 6,
     "metadata": {},
     "output_type": "execute_result"
    }
   ],
   "source": [
    "t = (10,12.45,True,3+8j,\"Hari\")   # tuple is heterogeneous\n",
    "t"
   ]
  },
  {
   "cell_type": "code",
   "execution_count": 7,
   "id": "7df5c720",
   "metadata": {},
   "outputs": [
    {
     "name": "stdout",
     "output_type": "stream",
     "text": [
      "(10, 20, 30, 40, 10, 10, 20) <class 'tuple'>\n"
     ]
    }
   ],
   "source": [
    "t1=(10,20,30,40,10,10,20)\n",
    "print(t1,type(t1))"
   ]
  },
  {
   "cell_type": "code",
   "execution_count": 8,
   "id": "0f5fe9f4",
   "metadata": {},
   "outputs": [
    {
     "data": {
      "text/plain": [
       "7"
      ]
     },
     "execution_count": 8,
     "metadata": {},
     "output_type": "execute_result"
    }
   ],
   "source": [
    "len(t1)"
   ]
  },
  {
   "cell_type": "markdown",
   "id": "76496354",
   "metadata": {},
   "source": [
    "<b> tuple indexing and slicing"
   ]
  },
  {
   "cell_type": "code",
   "execution_count": 11,
   "id": "dcd18ae6",
   "metadata": {},
   "outputs": [
    {
     "name": "stdout",
     "output_type": "stream",
     "text": [
      "(10, 'Laxmi', 88.88, 'OUCET', True) <class 'tuple'>\n"
     ]
    }
   ],
   "source": [
    "t2=(10,\"Laxmi\",88.88,\"OUCET\", True)\n",
    "print(t2,type(t2))"
   ]
  },
  {
   "cell_type": "code",
   "execution_count": 12,
   "id": "a41bd15d",
   "metadata": {},
   "outputs": [
    {
     "data": {
      "text/plain": [
       "'Laxmi'"
      ]
     },
     "execution_count": 12,
     "metadata": {},
     "output_type": "execute_result"
    }
   ],
   "source": [
    "t2[1]"
   ]
  },
  {
   "cell_type": "code",
   "execution_count": 13,
   "id": "0f53e5d9",
   "metadata": {},
   "outputs": [
    {
     "data": {
      "text/plain": [
       "True"
      ]
     },
     "execution_count": 13,
     "metadata": {},
     "output_type": "execute_result"
    }
   ],
   "source": [
    "t2[4]"
   ]
  },
  {
   "cell_type": "code",
   "execution_count": 14,
   "id": "854469da",
   "metadata": {},
   "outputs": [
    {
     "data": {
      "text/plain": [
       "(10, 'Laxmi', 88.88, 'OUCET', True)"
      ]
     },
     "execution_count": 14,
     "metadata": {},
     "output_type": "execute_result"
    }
   ],
   "source": [
    "t2[0:5]"
   ]
  },
  {
   "cell_type": "code",
   "execution_count": 15,
   "id": "920b9d2b",
   "metadata": {},
   "outputs": [
    {
     "data": {
      "text/plain": [
       "(88.88, 'OUCET')"
      ]
     },
     "execution_count": 15,
     "metadata": {},
     "output_type": "execute_result"
    }
   ],
   "source": [
    "t2[2:4]"
   ]
  },
  {
   "cell_type": "markdown",
   "id": "e9c2f1e7",
   "metadata": {},
   "source": [
    "<b> Nested tuple"
   ]
  },
  {
   "cell_type": "code",
   "execution_count": 18,
   "id": "b9374a4d",
   "metadata": {},
   "outputs": [
    {
     "name": "stdout",
     "output_type": "stream",
     "text": [
      "(10, 'UmaMaheswari', 66.66, [20, 'Ram'], 'JNTU', (50, 60)) <class 'tuple'>\n"
     ]
    }
   ],
   "source": [
    "x=(10,\"UmaMaheswari\",66.66,[20,\"Ram\"],\"JNTU\",(50,60))\n",
    "print(x,type(x))"
   ]
  },
  {
   "cell_type": "markdown",
   "id": "5d35f4aa",
   "metadata": {},
   "source": [
    "<b> tuples are immutable"
   ]
  },
  {
   "cell_type": "code",
   "execution_count": 19,
   "id": "39de8e45",
   "metadata": {},
   "outputs": [
    {
     "name": "stdout",
     "output_type": "stream",
     "text": [
      "(10, 20, 30, 40, 10, 10, 20) <class 'tuple'>\n"
     ]
    }
   ],
   "source": [
    "t1=(10,20,30,40,10,10,20)\n",
    "print(t1,type(t1))"
   ]
  },
  {
   "cell_type": "code",
   "execution_count": 20,
   "id": "d93832f0",
   "metadata": {},
   "outputs": [
    {
     "ename": "TypeError",
     "evalue": "'tuple' object does not support item assignment",
     "output_type": "error",
     "traceback": [
      "\u001b[1;31m---------------------------------------------------------------------------\u001b[0m",
      "\u001b[1;31mTypeError\u001b[0m                                 Traceback (most recent call last)",
      "\u001b[1;32m~\\AppData\\Local\\Temp\\ipykernel_5388\\469800251.py\u001b[0m in \u001b[0;36m<module>\u001b[1;34m\u001b[0m\n\u001b[1;32m----> 1\u001b[1;33m \u001b[0mt1\u001b[0m\u001b[1;33m[\u001b[0m\u001b[1;36m0\u001b[0m\u001b[1;33m]\u001b[0m\u001b[1;33m=\u001b[0m\u001b[1;36m100\u001b[0m\u001b[1;33m\u001b[0m\u001b[1;33m\u001b[0m\u001b[0m\n\u001b[0m",
      "\u001b[1;31mTypeError\u001b[0m: 'tuple' object does not support item assignment"
     ]
    }
   ],
   "source": [
    "t1[0]=100"
   ]
  },
  {
   "cell_type": "code",
   "execution_count": 21,
   "id": "f5619441",
   "metadata": {},
   "outputs": [
    {
     "ename": "TypeError",
     "evalue": "'tuple' object doesn't support item deletion",
     "output_type": "error",
     "traceback": [
      "\u001b[1;31m---------------------------------------------------------------------------\u001b[0m",
      "\u001b[1;31mTypeError\u001b[0m                                 Traceback (most recent call last)",
      "\u001b[1;32m~\\AppData\\Local\\Temp\\ipykernel_5388\\2483702605.py\u001b[0m in \u001b[0;36m<module>\u001b[1;34m\u001b[0m\n\u001b[1;32m----> 1\u001b[1;33m \u001b[1;32mdel\u001b[0m \u001b[0mt1\u001b[0m\u001b[1;33m[\u001b[0m\u001b[1;36m1\u001b[0m\u001b[1;33m]\u001b[0m\u001b[1;33m\u001b[0m\u001b[1;33m\u001b[0m\u001b[0m\n\u001b[0m",
      "\u001b[1;31mTypeError\u001b[0m: 'tuple' object doesn't support item deletion"
     ]
    }
   ],
   "source": [
    "del t1[1]"
   ]
  },
  {
   "cell_type": "code",
   "execution_count": 22,
   "id": "c88ab601",
   "metadata": {},
   "outputs": [],
   "source": [
    "del t1         # Deleting entaire object is possible."
   ]
  },
  {
   "cell_type": "markdown",
   "id": "2b7449c9",
   "metadata": {},
   "source": [
    "### Interview Question"
   ]
  },
  {
   "cell_type": "code",
   "execution_count": 24,
   "id": "a998281c",
   "metadata": {},
   "outputs": [
    {
     "name": "stdout",
     "output_type": "stream",
     "text": [
      "(1, 2, 3, [4, 5], (10, 11, 12))\n"
     ]
    }
   ],
   "source": [
    "tup=(1,2,3,[4,5],(10,11,12))\n",
    "print(tup)"
   ]
  },
  {
   "cell_type": "code",
   "execution_count": 25,
   "id": "b41c4080",
   "metadata": {},
   "outputs": [
    {
     "ename": "TypeError",
     "evalue": "'tuple' object does not support item assignment",
     "output_type": "error",
     "traceback": [
      "\u001b[1;31m---------------------------------------------------------------------------\u001b[0m",
      "\u001b[1;31mTypeError\u001b[0m                                 Traceback (most recent call last)",
      "\u001b[1;32m~\\AppData\\Local\\Temp\\ipykernel_5388\\3695194722.py\u001b[0m in \u001b[0;36m<module>\u001b[1;34m\u001b[0m\n\u001b[1;32m----> 1\u001b[1;33m \u001b[0mtup\u001b[0m\u001b[1;33m[\u001b[0m\u001b[1;36m4\u001b[0m\u001b[1;33m]\u001b[0m\u001b[1;33m[\u001b[0m\u001b[1;36m1\u001b[0m\u001b[1;33m]\u001b[0m\u001b[1;33m=\u001b[0m\u001b[1;36m15\u001b[0m\u001b[1;33m\u001b[0m\u001b[1;33m\u001b[0m\u001b[0m\n\u001b[0m",
      "\u001b[1;31mTypeError\u001b[0m: 'tuple' object does not support item assignment"
     ]
    }
   ],
   "source": [
    "tup[4][1]=15       # We are unable to modify the values within tuple of tuple (tuple inside anothe tuple)."
   ]
  },
  {
   "cell_type": "code",
   "execution_count": 27,
   "id": "ff7b0e56",
   "metadata": {},
   "outputs": [
    {
     "name": "stdout",
     "output_type": "stream",
     "text": [
      "(1, 2, 3, [4, 15], (10, 11, 12))\n"
     ]
    }
   ],
   "source": [
    "tup[3][1]=15       # We are able to modify the values within tuple of list (list inside the tuple).\n",
    "print(tup)"
   ]
  },
  {
   "cell_type": "markdown",
   "id": "29e656aa",
   "metadata": {},
   "source": [
    "# Tuple Methods"
   ]
  },
  {
   "cell_type": "code",
   "execution_count": 28,
   "id": "2d89337e",
   "metadata": {},
   "outputs": [
    {
     "name": "stdout",
     "output_type": "stream",
     "text": [
      "(10, 20, 30, 40, 10, 10, 20)\n"
     ]
    }
   ],
   "source": [
    "t1=(10,20,30,40,10,10,20)\n",
    "print(t1)"
   ]
  },
  {
   "cell_type": "markdown",
   "id": "6f5579dc",
   "metadata": {},
   "source": [
    "<b> tupleobj.count(value)\n",
    "- Number of times item occured in the tuple."
   ]
  },
  {
   "cell_type": "code",
   "execution_count": 30,
   "id": "ae39e931",
   "metadata": {},
   "outputs": [
    {
     "data": {
      "text/plain": [
       "3"
      ]
     },
     "execution_count": 30,
     "metadata": {},
     "output_type": "execute_result"
    }
   ],
   "source": [
    "t1.count(10)      # Number of times item (10) occured in the tuple."
   ]
  },
  {
   "cell_type": "markdown",
   "id": "59d37cfa",
   "metadata": {},
   "source": [
    "<b> tupleobj.index()\n",
    "- It returns index of first occurance of the element."
   ]
  },
  {
   "cell_type": "code",
   "execution_count": 32,
   "id": "800a293b",
   "metadata": {},
   "outputs": [
    {
     "data": {
      "text/plain": [
       "0"
      ]
     },
     "execution_count": 32,
     "metadata": {},
     "output_type": "execute_result"
    }
   ],
   "source": [
    "t1.index(10)   # Index of first element equal to 10"
   ]
  },
  {
   "cell_type": "markdown",
   "id": "110d878e",
   "metadata": {},
   "source": [
    "<b> sorting"
   ]
  },
  {
   "cell_type": "code",
   "execution_count": 34,
   "id": "525ae53d",
   "metadata": {},
   "outputs": [
    {
     "name": "stdout",
     "output_type": "stream",
     "text": [
      "[10, 10, 10, 20, 20, 30, 40]\n"
     ]
    }
   ],
   "source": [
    "t1=(10,20,30,40,10,10,20)\n",
    "print(sorted(t1))"
   ]
  },
  {
   "cell_type": "markdown",
   "id": "2a4d2389",
   "metadata": {},
   "source": [
    "# Set\n",
    "- The purpose of set data type is that \"To store Multiple Values either Similar Type or Different Type or Both the Types in \n",
    "  Single Object with Unique Values\".\n",
    "- The elements of set must be written within Curly braces { } and Elements must separate by comma.\n",
    "- An Object of set never maintains Insertion Order bcoz PVM can display any one of the possibility of elements of set object.\n",
    "- On the object of set, we can't perform Indexing and Slicing Operations bcoz set object never maintains Insertion Order.\n",
    "- An object of set belongs to both Immutable bcoz set' object   does not support item assignment and mutable in the \n",
    "  case of add().\n",
    "- Sets can be used to perform mathematical set operations like union, intersection, difference and symmetric_difference.\n"
   ]
  },
  {
   "cell_type": "markdown",
   "id": "e8a0e053",
   "metadata": {},
   "source": [
    "#### Empty set\n",
    "- An Empty set is one, which does not contain any elements and whose length is 0.\n",
    "\n",
    "<b> Syntax: -        setobj=set()\n",
    "    "
   ]
  },
  {
   "cell_type": "code",
   "execution_count": 53,
   "id": "b8303afb",
   "metadata": {},
   "outputs": [
    {
     "name": "stdout",
     "output_type": "stream",
     "text": [
      "set()\n"
     ]
    },
    {
     "data": {
      "text/plain": [
       "set"
      ]
     },
     "execution_count": 53,
     "metadata": {},
     "output_type": "execute_result"
    }
   ],
   "source": [
    "s1 = set()\n",
    "print(s1)      # it will print set() not like only ().\n",
    "type(s1)"
   ]
  },
  {
   "cell_type": "code",
   "execution_count": 54,
   "id": "03822b61",
   "metadata": {},
   "outputs": [
    {
     "data": {
      "text/plain": [
       "0"
      ]
     },
     "execution_count": 54,
     "metadata": {},
     "output_type": "execute_result"
    }
   ],
   "source": [
    "len(s1)"
   ]
  },
  {
   "cell_type": "markdown",
   "id": "e5f6e517",
   "metadata": {},
   "source": [
    "#### Non Empty set\n",
    "- A Non-Empty set is one, which contains elements and whose length is >0.\n",
    "\n",
    "<b> Syntax: -        setobj={ val1, val2, ....val-n }\n",
    "    "
   ]
  },
  {
   "cell_type": "code",
   "execution_count": 55,
   "id": "39f326f1",
   "metadata": {},
   "outputs": [
    {
     "name": "stdout",
     "output_type": "stream",
     "text": [
      "{40, 10, 20, 30}\n"
     ]
    },
    {
     "data": {
      "text/plain": [
       "set"
      ]
     },
     "execution_count": 55,
     "metadata": {},
     "output_type": "execute_result"
    }
   ],
   "source": [
    "s1={10,20,30,40}\n",
    "print(s1)\n",
    "type(s1)"
   ]
  },
  {
   "cell_type": "code",
   "execution_count": 56,
   "id": "639ebb37",
   "metadata": {},
   "outputs": [
    {
     "data": {
      "text/plain": [
       "4"
      ]
     },
     "execution_count": 56,
     "metadata": {},
     "output_type": "execute_result"
    }
   ],
   "source": [
    "len(s1)"
   ]
  },
  {
   "cell_type": "markdown",
   "id": "6624c00a",
   "metadata": {},
   "source": [
    "- <b> If you assign duplicate values / elements, it will takes unique values only."
   ]
  },
  {
   "cell_type": "code",
   "execution_count": 41,
   "id": "40ba9466",
   "metadata": {},
   "outputs": [
    {
     "name": "stdout",
     "output_type": "stream",
     "text": [
      "{20, -34, 10, 12, 30, 15}\n"
     ]
    }
   ],
   "source": [
    "s2={10,20,10,20,10,30,15,12,-34}\n",
    "print(s2)"
   ]
  },
  {
   "cell_type": "markdown",
   "id": "0f76e858",
   "metadata": {},
   "source": [
    "- <b> set doesn't support indexing and slicing, because its unorded collection of items."
   ]
  },
  {
   "cell_type": "code",
   "execution_count": 47,
   "id": "b0360c48",
   "metadata": {},
   "outputs": [
    {
     "ename": "TypeError",
     "evalue": "'set' object is not subscriptable",
     "output_type": "error",
     "traceback": [
      "\u001b[1;31m---------------------------------------------------------------------------\u001b[0m",
      "\u001b[1;31mTypeError\u001b[0m                                 Traceback (most recent call last)",
      "\u001b[1;32m~\\AppData\\Local\\Temp\\ipykernel_5388\\2163967105.py\u001b[0m in \u001b[0;36m<module>\u001b[1;34m\u001b[0m\n\u001b[1;32m----> 1\u001b[1;33m \u001b[0ms1\u001b[0m\u001b[1;33m[\u001b[0m\u001b[1;36m1\u001b[0m\u001b[1;33m]\u001b[0m     \u001b[1;31m# indexing is not possible\u001b[0m\u001b[1;33m\u001b[0m\u001b[1;33m\u001b[0m\u001b[0m\n\u001b[0m",
      "\u001b[1;31mTypeError\u001b[0m: 'set' object is not subscriptable"
     ]
    }
   ],
   "source": [
    "s1[1]     # indexing is not possible "
   ]
  },
  {
   "cell_type": "code",
   "execution_count": 46,
   "id": "5d457d97",
   "metadata": {},
   "outputs": [
    {
     "ename": "TypeError",
     "evalue": "'set' object is not subscriptable",
     "output_type": "error",
     "traceback": [
      "\u001b[1;31m---------------------------------------------------------------------------\u001b[0m",
      "\u001b[1;31mTypeError\u001b[0m                                 Traceback (most recent call last)",
      "\u001b[1;32m~\\AppData\\Local\\Temp\\ipykernel_5388\\986998996.py\u001b[0m in \u001b[0;36m<module>\u001b[1;34m\u001b[0m\n\u001b[1;32m----> 1\u001b[1;33m \u001b[0ms1\u001b[0m\u001b[1;33m[\u001b[0m\u001b[1;36m0\u001b[0m\u001b[1;33m:\u001b[0m\u001b[1;36m4\u001b[0m\u001b[1;33m]\u001b[0m   \u001b[1;31m# slicing is not possible\u001b[0m\u001b[1;33m\u001b[0m\u001b[1;33m\u001b[0m\u001b[0m\n\u001b[0m",
      "\u001b[1;31mTypeError\u001b[0m: 'set' object is not subscriptable"
     ]
    }
   ],
   "source": [
    "s1[0:4]   # slicing is not possible"
   ]
  },
  {
   "cell_type": "markdown",
   "id": "5498398b",
   "metadata": {},
   "source": [
    "- <b> Creating a set by using tuple list object."
   ]
  },
  {
   "cell_type": "code",
   "execution_count": 49,
   "id": "25318d46",
   "metadata": {},
   "outputs": [
    {
     "name": "stdout",
     "output_type": "stream",
     "text": [
      "[10, 20, 10, 20, 10, 30, 15, 12, -34] <class 'list'>\n",
      "{10, 12, 15, 20, -34, 30} <class 'set'>\n"
     ]
    }
   ],
   "source": [
    "l2=[10,20,10,20,10,30,15,12,-34]\n",
    "s2=set(l2)\n",
    "print(l2,type(l2))\n",
    "print(s2,type(s2))"
   ]
  },
  {
   "cell_type": "markdown",
   "id": "ecd4c9f4",
   "metadata": {},
   "source": [
    "- <b> Creating a set by using tuple tuple object."
   ]
  },
  {
   "cell_type": "code",
   "execution_count": 57,
   "id": "15dcfe31",
   "metadata": {},
   "outputs": [
    {
     "name": "stdout",
     "output_type": "stream",
     "text": [
      "(10, 20, 10, 20, 10, 30, 15, 12, -34) <class 'tuple'>\n",
      "{10, 12, 15, 20, -34, 30} <class 'set'>\n"
     ]
    }
   ],
   "source": [
    "t2=(10,20,10,20,10,30,15,12,-34)\n",
    "s2=set(t2)\n",
    "print(t2,type(t2))\n",
    "print(s2,type(s2))"
   ]
  },
  {
   "cell_type": "markdown",
   "id": "d8790e0b",
   "metadata": {},
   "source": [
    "# Set Methods"
   ]
  },
  {
   "cell_type": "code",
   "execution_count": 59,
   "id": "ee31e763",
   "metadata": {},
   "outputs": [
    {
     "data": {
      "text/plain": [
       "set()"
      ]
     },
     "execution_count": 59,
     "metadata": {},
     "output_type": "execute_result"
    }
   ],
   "source": [
    "c = set()\n",
    "c"
   ]
  },
  {
   "cell_type": "markdown",
   "id": "b4542dcc",
   "metadata": {},
   "source": [
    "<b> set.add()\n",
    "- This Function is used for adding the elements to set object.\n",
    "- We can add only single element at a time.\n",
    "- If we try to add more than one element at a time, then we get TypeError.\n",
    "    \n",
    "<b> Syntax: -      setobj.add(Element or Value)"
   ]
  },
  {
   "cell_type": "code",
   "execution_count": 62,
   "id": "f4edf0ae",
   "metadata": {},
   "outputs": [
    {
     "name": "stdout",
     "output_type": "stream",
     "text": [
      "{10}\n"
     ]
    }
   ],
   "source": [
    "c.add(10)\n",
    "print(c)"
   ]
  },
  {
   "cell_type": "markdown",
   "id": "bf7abe29",
   "metadata": {},
   "source": [
    "- <b> If we try to add more than one element at a time, then we get TypeError."
   ]
  },
  {
   "cell_type": "code",
   "execution_count": 66,
   "id": "229751e4",
   "metadata": {
    "scrolled": true
   },
   "outputs": [
    {
     "ename": "TypeError",
     "evalue": "set.add() takes exactly one argument (3 given)",
     "output_type": "error",
     "traceback": [
      "\u001b[1;31m---------------------------------------------------------------------------\u001b[0m",
      "\u001b[1;31mTypeError\u001b[0m                                 Traceback (most recent call last)",
      "\u001b[1;32m~\\AppData\\Local\\Temp\\ipykernel_5388\\3462233837.py\u001b[0m in \u001b[0;36m<module>\u001b[1;34m\u001b[0m\n\u001b[1;32m----> 1\u001b[1;33m \u001b[0mc\u001b[0m\u001b[1;33m.\u001b[0m\u001b[0madd\u001b[0m\u001b[1;33m(\u001b[0m\u001b[1;36m20\u001b[0m\u001b[1;33m,\u001b[0m\u001b[1;36m30\u001b[0m\u001b[1;33m,\u001b[0m\u001b[1;36m40\u001b[0m\u001b[1;33m)\u001b[0m\u001b[1;33m\u001b[0m\u001b[1;33m\u001b[0m\u001b[0m\n\u001b[0m",
      "\u001b[1;31mTypeError\u001b[0m: set.add() takes exactly one argument (3 given)"
     ]
    }
   ],
   "source": [
    "c.add(20,30,40)"
   ]
  },
  {
   "cell_type": "markdown",
   "id": "3764a93d",
   "metadata": {},
   "source": [
    "<b> set.update\n",
    "- This Function is used for adding the multiple elements to set object.\n",
    "- We can add only single element at a time."
   ]
  },
  {
   "cell_type": "code",
   "execution_count": 67,
   "id": "6fa25720",
   "metadata": {},
   "outputs": [
    {
     "name": "stdout",
     "output_type": "stream",
     "text": [
      "{10, 20}\n"
     ]
    }
   ],
   "source": [
    "s = {10,20}\n",
    "print(s)"
   ]
  },
  {
   "cell_type": "code",
   "execution_count": 68,
   "id": "f6fab396",
   "metadata": {},
   "outputs": [
    {
     "name": "stdout",
     "output_type": "stream",
     "text": [
      "{40, 10, 50, 20, 60, 30}\n"
     ]
    }
   ],
   "source": [
    "s.update([30,40,50,60])\n",
    "print(s)"
   ]
  },
  {
   "cell_type": "code",
   "execution_count": 70,
   "id": "d6d95887",
   "metadata": {},
   "outputs": [
    {
     "name": "stdout",
     "output_type": "stream",
     "text": [
      "{3, 4, 5, 6, 40, 10, 50, 20, 60, 30}\n"
     ]
    }
   ],
   "source": [
    "s.update((3,4,5,6))\n",
    "print(s)"
   ]
  },
  {
   "cell_type": "markdown",
   "id": "208b6544",
   "metadata": {},
   "source": [
    "<b> set.copy()\n",
    "- This Function is used for Copying the content of one set object to another set object (Shallow Copy)."
   ]
  },
  {
   "cell_type": "code",
   "execution_count": 71,
   "id": "6b2cc732",
   "metadata": {},
   "outputs": [
    {
     "name": "stdout",
     "output_type": "stream",
     "text": [
      "{50, 20, 40, 10, 30} <class 'set'>\n"
     ]
    },
    {
     "data": {
      "text/plain": [
       "2203548488416"
      ]
     },
     "execution_count": 71,
     "metadata": {},
     "output_type": "execute_result"
    }
   ],
   "source": [
    "s1={10,20,30,40,50}\n",
    "print(s1,type(s1))\n",
    "id(s1)"
   ]
  },
  {
   "cell_type": "code",
   "execution_count": 72,
   "id": "7cdac66f",
   "metadata": {},
   "outputs": [
    {
     "name": "stdout",
     "output_type": "stream",
     "text": [
      "{50, 20, 40, 10, 30} <class 'set'>\n"
     ]
    },
    {
     "data": {
      "text/plain": [
       "2203548488192"
      ]
     },
     "execution_count": 72,
     "metadata": {},
     "output_type": "execute_result"
    }
   ],
   "source": [
    "s2 = s1.copy()\n",
    "print(s2,type(s2))\n",
    "id(s2)"
   ]
  },
  {
   "cell_type": "code",
   "execution_count": 75,
   "id": "135a1f1a",
   "metadata": {},
   "outputs": [
    {
     "name": "stdout",
     "output_type": "stream",
     "text": [
      "{50, 20, 40, 10, 'Siva', 30} <class 'set'>\n"
     ]
    },
    {
     "data": {
      "text/plain": [
       "2203548488416"
      ]
     },
     "execution_count": 75,
     "metadata": {},
     "output_type": "execute_result"
    }
   ],
   "source": [
    "s1.add(\"Siva\")\n",
    "print(s1,type(s1))\n",
    "id(s1)"
   ]
  },
  {
   "cell_type": "code",
   "execution_count": 76,
   "id": "31656848",
   "metadata": {},
   "outputs": [
    {
     "name": "stdout",
     "output_type": "stream",
     "text": [
      "{50, 'Ram', 20, 40, 10, 30} <class 'set'>\n"
     ]
    },
    {
     "data": {
      "text/plain": [
       "2203548488192"
      ]
     },
     "execution_count": 76,
     "metadata": {},
     "output_type": "execute_result"
    }
   ],
   "source": [
    "s2.add(\"Ram\")\n",
    "print(s2,type(s2))\n",
    "id(s2)"
   ]
  },
  {
   "cell_type": "markdown",
   "id": "984beae0",
   "metadata": {},
   "source": [
    "<b> set.discard()\n",
    "- This Function is used for Removing the element from set object.\n",
    "- It will accept only one value / element at a time. If we assign multiple values then we get TypeError.\n",
    "- If the Value does not exist in set object then we never get KeyError(No Output--None).\n",
    "\n",
    "<b> Syntax: -     setobj.discard(Value)"
   ]
  },
  {
   "cell_type": "code",
   "execution_count": 78,
   "id": "efeb4b68",
   "metadata": {},
   "outputs": [
    {
     "name": "stdout",
     "output_type": "stream",
     "text": [
      "{50, 20, 40, 10, 30} <class 'set'>\n"
     ]
    }
   ],
   "source": [
    "s1={10,20,30,40,50}\n",
    "print(s1,type(s1))"
   ]
  },
  {
   "cell_type": "code",
   "execution_count": 79,
   "id": "debd0e6a",
   "metadata": {},
   "outputs": [
    {
     "name": "stdout",
     "output_type": "stream",
     "text": [
      "{50, 20, 10, 30}\n"
     ]
    }
   ],
   "source": [
    "s1.discard(40)\n",
    "print(s1)"
   ]
  },
  {
   "cell_type": "code",
   "execution_count": 80,
   "id": "efb9f2e6",
   "metadata": {},
   "outputs": [
    {
     "name": "stdout",
     "output_type": "stream",
     "text": [
      "{50, 20, 10, 30}\n"
     ]
    }
   ],
   "source": [
    "s1.discard(100)\n",
    "print(s1)"
   ]
  },
  {
   "cell_type": "code",
   "execution_count": 83,
   "id": "568b10b7",
   "metadata": {},
   "outputs": [
    {
     "ename": "TypeError",
     "evalue": "set.discard() takes exactly one argument (2 given)",
     "output_type": "error",
     "traceback": [
      "\u001b[1;31m---------------------------------------------------------------------------\u001b[0m",
      "\u001b[1;31mTypeError\u001b[0m                                 Traceback (most recent call last)",
      "\u001b[1;32m~\\AppData\\Local\\Temp\\ipykernel_5388\\3320671307.py\u001b[0m in \u001b[0;36m<module>\u001b[1;34m\u001b[0m\n\u001b[1;32m----> 1\u001b[1;33m \u001b[0ms1\u001b[0m\u001b[1;33m.\u001b[0m\u001b[0mdiscard\u001b[0m\u001b[1;33m(\u001b[0m\u001b[1;36m10\u001b[0m\u001b[1;33m,\u001b[0m\u001b[1;36m30\u001b[0m\u001b[1;33m)\u001b[0m\u001b[1;33m\u001b[0m\u001b[1;33m\u001b[0m\u001b[0m\n\u001b[0m\u001b[0;32m      2\u001b[0m \u001b[0mprint\u001b[0m\u001b[1;33m(\u001b[0m\u001b[0ms1\u001b[0m\u001b[1;33m)\u001b[0m\u001b[1;33m\u001b[0m\u001b[1;33m\u001b[0m\u001b[0m\n",
      "\u001b[1;31mTypeError\u001b[0m: set.discard() takes exactly one argument (2 given)"
     ]
    }
   ],
   "source": [
    "s1.discard(10,30)\n",
    "print(s1)"
   ]
  },
  {
   "cell_type": "markdown",
   "id": "a0d9f319",
   "metadata": {},
   "source": [
    "<b> set.remove()\n",
    "- This Function is used for Removing the Value from set object.\n",
    "- remove() takes exactly one argument, if we assign more than one arguments / values then we get TypeError.\n",
    "- If the Value does not exist in set object then we get KeyError.\n",
    "\n",
    "<b> Syntax: -   setobj.remove(Value)\n"
   ]
  },
  {
   "cell_type": "code",
   "execution_count": 84,
   "id": "b072486f",
   "metadata": {},
   "outputs": [
    {
     "name": "stdout",
     "output_type": "stream",
     "text": [
      "{True, 34.56, 'Python', 10, 'Rossum'}\n"
     ]
    }
   ],
   "source": [
    "s3={10,\"Rossum\",\"Python\",34.56,True}\n",
    "print(s3)"
   ]
  },
  {
   "cell_type": "code",
   "execution_count": 85,
   "id": "19a7b834",
   "metadata": {},
   "outputs": [
    {
     "name": "stdout",
     "output_type": "stream",
     "text": [
      "{True, 34.56, 'Python', 'Rossum'}\n"
     ]
    }
   ],
   "source": [
    "s3.remove(10)\n",
    "print(s3)"
   ]
  },
  {
   "cell_type": "code",
   "execution_count": 88,
   "id": "5b63a35b",
   "metadata": {},
   "outputs": [
    {
     "ename": "TypeError",
     "evalue": "set.remove() takes exactly one argument (2 given)",
     "output_type": "error",
     "traceback": [
      "\u001b[1;31m---------------------------------------------------------------------------\u001b[0m",
      "\u001b[1;31mTypeError\u001b[0m                                 Traceback (most recent call last)",
      "\u001b[1;32m~\\AppData\\Local\\Temp\\ipykernel_5388\\3107391513.py\u001b[0m in \u001b[0;36m<module>\u001b[1;34m\u001b[0m\n\u001b[1;32m----> 1\u001b[1;33m \u001b[0ms3\u001b[0m\u001b[1;33m.\u001b[0m\u001b[0mremove\u001b[0m\u001b[1;33m(\u001b[0m\u001b[1;34m\"Python\"\u001b[0m\u001b[1;33m,\u001b[0m\u001b[1;36m34.56\u001b[0m\u001b[1;33m)\u001b[0m   \u001b[1;31m# remove() takes exactly one argument, if we assign more than one arguments then we get TypeError.\u001b[0m\u001b[1;33m\u001b[0m\u001b[1;33m\u001b[0m\u001b[0m\n\u001b[0m\u001b[0;32m      2\u001b[0m \u001b[0mprint\u001b[0m\u001b[1;33m(\u001b[0m\u001b[0ms3\u001b[0m\u001b[1;33m)\u001b[0m\u001b[1;33m\u001b[0m\u001b[1;33m\u001b[0m\u001b[0m\n",
      "\u001b[1;31mTypeError\u001b[0m: set.remove() takes exactly one argument (2 given)"
     ]
    }
   ],
   "source": [
    "s3.remove(\"Python\",34.56)   # remove() takes exactly one argument, if we assign more than one arguments then we get TypeError.\n",
    "print(s3)"
   ]
  },
  {
   "cell_type": "code",
   "execution_count": 89,
   "id": "3fff6733",
   "metadata": {},
   "outputs": [
    {
     "ename": "KeyError",
     "evalue": "200",
     "output_type": "error",
     "traceback": [
      "\u001b[1;31m---------------------------------------------------------------------------\u001b[0m",
      "\u001b[1;31mKeyError\u001b[0m                                  Traceback (most recent call last)",
      "\u001b[1;32m~\\AppData\\Local\\Temp\\ipykernel_5388\\456230022.py\u001b[0m in \u001b[0;36m<module>\u001b[1;34m\u001b[0m\n\u001b[1;32m----> 1\u001b[1;33m \u001b[0ms3\u001b[0m\u001b[1;33m.\u001b[0m\u001b[0mremove\u001b[0m\u001b[1;33m(\u001b[0m\u001b[1;36m200\u001b[0m\u001b[1;33m)\u001b[0m    \u001b[1;31m# If the Value does not exist in set object then we get KeyError.\u001b[0m\u001b[1;33m\u001b[0m\u001b[1;33m\u001b[0m\u001b[0m\n\u001b[0m\u001b[0;32m      2\u001b[0m \u001b[0mprint\u001b[0m\u001b[1;33m(\u001b[0m\u001b[0ms3\u001b[0m\u001b[1;33m)\u001b[0m\u001b[1;33m\u001b[0m\u001b[1;33m\u001b[0m\u001b[0m\n",
      "\u001b[1;31mKeyError\u001b[0m: 200"
     ]
    }
   ],
   "source": [
    "s3.remove(200)    # If the Value does not exist in set object then we get KeyError.\n",
    "print(s3)"
   ]
  },
  {
   "cell_type": "markdown",
   "id": "1c463895",
   "metadata": {},
   "source": [
    "<b> set.clear()\n",
    "- This Function is used for removing all the elements of set object.\n",
    "\n",
    "- <b> Syntax: -   setobj.clear()\n"
   ]
  },
  {
   "cell_type": "code",
   "execution_count": 91,
   "id": "9e286ae2",
   "metadata": {},
   "outputs": [
    {
     "name": "stdout",
     "output_type": "stream",
     "text": [
      "set()\n"
     ]
    }
   ],
   "source": [
    "s3={10,\"Rossum\",\"Python\",34.56,True}\n",
    "s3.clear()\n",
    "print(s3)"
   ]
  },
  {
   "cell_type": "code",
   "execution_count": 92,
   "id": "f436565d",
   "metadata": {},
   "outputs": [
    {
     "data": {
      "text/plain": [
       "0"
      ]
     },
     "execution_count": 92,
     "metadata": {},
     "output_type": "execute_result"
    }
   ],
   "source": [
    "len(s3)"
   ]
  },
  {
   "cell_type": "markdown",
   "id": "b6c629cf",
   "metadata": {},
   "source": [
    "<b> set.pop()\n",
    "- This Function is used for Removing any Arbitrary Element from set object.\n",
    "- When we call pop() upon empty set then we get KeyError.\n",
    "\n",
    "    \n",
    "- <b> Syntax: -   setobj.pop()\n"
   ]
  },
  {
   "cell_type": "code",
   "execution_count": 94,
   "id": "3d7eeb6f",
   "metadata": {},
   "outputs": [
    {
     "name": "stdout",
     "output_type": "stream",
     "text": [
      "{34.56, 'Python', 10, 'Rossum'}\n"
     ]
    }
   ],
   "source": [
    "s3={10,\"Rossum\",\"Python\",34.56,True}\n",
    "s3.pop()\n",
    "print(s3)"
   ]
  },
  {
   "cell_type": "code",
   "execution_count": 95,
   "id": "7cc5543b",
   "metadata": {},
   "outputs": [
    {
     "name": "stdout",
     "output_type": "stream",
     "text": [
      "{'Python', 10, 'Rossum'}\n"
     ]
    }
   ],
   "source": [
    "s3.pop()\n",
    "print(s3)"
   ]
  },
  {
   "cell_type": "code",
   "execution_count": 96,
   "id": "1fc90d84",
   "metadata": {},
   "outputs": [
    {
     "name": "stdout",
     "output_type": "stream",
     "text": [
      "{10, 'Rossum'}\n"
     ]
    }
   ],
   "source": [
    "s3.pop()\n",
    "print(s3)"
   ]
  },
  {
   "cell_type": "code",
   "execution_count": 97,
   "id": "8e27d259",
   "metadata": {},
   "outputs": [
    {
     "name": "stdout",
     "output_type": "stream",
     "text": [
      "{'Rossum'}\n"
     ]
    }
   ],
   "source": [
    "s3.pop()\n",
    "print(s3)"
   ]
  },
  {
   "cell_type": "code",
   "execution_count": 98,
   "id": "4d93f1df",
   "metadata": {},
   "outputs": [
    {
     "name": "stdout",
     "output_type": "stream",
     "text": [
      "set()\n"
     ]
    }
   ],
   "source": [
    "s3.pop()\n",
    "print(s3)"
   ]
  },
  {
   "cell_type": "code",
   "execution_count": 99,
   "id": "0b029985",
   "metadata": {},
   "outputs": [
    {
     "ename": "KeyError",
     "evalue": "'pop from an empty set'",
     "output_type": "error",
     "traceback": [
      "\u001b[1;31m---------------------------------------------------------------------------\u001b[0m",
      "\u001b[1;31mKeyError\u001b[0m                                  Traceback (most recent call last)",
      "\u001b[1;32m~\\AppData\\Local\\Temp\\ipykernel_5388\\2473085721.py\u001b[0m in \u001b[0;36m<module>\u001b[1;34m\u001b[0m\n\u001b[1;32m----> 1\u001b[1;33m \u001b[0ms3\u001b[0m\u001b[1;33m.\u001b[0m\u001b[0mpop\u001b[0m\u001b[1;33m(\u001b[0m\u001b[1;33m)\u001b[0m\u001b[1;33m\u001b[0m\u001b[1;33m\u001b[0m\u001b[0m\n\u001b[0m\u001b[0;32m      2\u001b[0m \u001b[0mprint\u001b[0m\u001b[1;33m(\u001b[0m\u001b[0ms3\u001b[0m\u001b[1;33m)\u001b[0m\u001b[1;33m\u001b[0m\u001b[1;33m\u001b[0m\u001b[0m\n",
      "\u001b[1;31mKeyError\u001b[0m: 'pop from an empty set'"
     ]
    }
   ],
   "source": [
    "s3.pop()\n",
    "print(s3)"
   ]
  },
  {
   "cell_type": "markdown",
   "id": "bb12cf74",
   "metadata": {},
   "source": [
    "<b> del operator\n",
    "- This is used to delete the object and data of a given object.\n",
    "- After deleting the entaire object if we try to print, then we get NameError.\n"
   ]
  },
  {
   "cell_type": "code",
   "execution_count": 100,
   "id": "f6029ba8",
   "metadata": {},
   "outputs": [
    {
     "name": "stdout",
     "output_type": "stream",
     "text": [
      "{50, 20, 40, 10, 30}\n"
     ]
    }
   ],
   "source": [
    "s1={10,20,30,40,50}\n",
    "print(s1)"
   ]
  },
  {
   "cell_type": "code",
   "execution_count": 101,
   "id": "081c0153",
   "metadata": {},
   "outputs": [
    {
     "ename": "NameError",
     "evalue": "name 's1' is not defined",
     "output_type": "error",
     "traceback": [
      "\u001b[1;31m---------------------------------------------------------------------------\u001b[0m",
      "\u001b[1;31mNameError\u001b[0m                                 Traceback (most recent call last)",
      "\u001b[1;32m~\\AppData\\Local\\Temp\\ipykernel_5388\\4039378741.py\u001b[0m in \u001b[0;36m<module>\u001b[1;34m\u001b[0m\n\u001b[0;32m      1\u001b[0m \u001b[1;32mdel\u001b[0m \u001b[0ms1\u001b[0m\u001b[1;33m\u001b[0m\u001b[1;33m\u001b[0m\u001b[0m\n\u001b[1;32m----> 2\u001b[1;33m \u001b[0mprint\u001b[0m\u001b[1;33m(\u001b[0m\u001b[0ms1\u001b[0m\u001b[1;33m)\u001b[0m\u001b[1;33m\u001b[0m\u001b[1;33m\u001b[0m\u001b[0m\n\u001b[0m",
      "\u001b[1;31mNameError\u001b[0m: name 's1' is not defined"
     ]
    }
   ],
   "source": [
    "del s1\n",
    "print(s1)"
   ]
  },
  {
   "cell_type": "markdown",
   "id": "60d2c58f",
   "metadata": {},
   "source": [
    "# Set Operations\n"
   ]
  },
  {
   "cell_type": "markdown",
   "id": "17543a4d",
   "metadata": {},
   "source": [
    "<b> union\n",
    "- This Function is used for obtaining all the Unique elements of Setobj1 and setobj2 and place them in setobj3.\n",
    "\n",
    "    \n",
    "- <b> syntax: -     setobj3=setobj1.union(setobj2)\n"
   ]
  },
  {
   "cell_type": "code",
   "execution_count": 105,
   "id": "34df5363",
   "metadata": {},
   "outputs": [
    {
     "name": "stdout",
     "output_type": "stream",
     "text": [
      "{35, 40, 10, 20, 25, 30} <class 'set'>\n"
     ]
    }
   ],
   "source": [
    "s1={10,20,30,40}\n",
    "s2={20,30,25,35}\n",
    "s3=s1.union(s2)\n",
    "print(s3,type(s3))"
   ]
  },
  {
   "cell_type": "code",
   "execution_count": 104,
   "id": "7fa00d3f",
   "metadata": {},
   "outputs": [
    {
     "name": "stdout",
     "output_type": "stream",
     "text": [
      "{35, 40, 10, 20, 25, 30} <class 'set'>\n"
     ]
    }
   ],
   "source": [
    "s1={10,20,30,40}\n",
    "s2={20,30,25,35}\n",
    "s3=s2.union(s1)\n",
    "print(s3,type(s3))"
   ]
  },
  {
   "cell_type": "markdown",
   "id": "8acebd3d",
   "metadata": {},
   "source": [
    "<b> intersect\n",
    "- This Function is used for obtaining all common elements of Setobj1 and setobj2 and place them in setobj3.\n",
    "\n",
    "\n",
    "- <b> syntax: -     setobj3=setobj1.intersection(setobj2)\n",
    "    "
   ]
  },
  {
   "cell_type": "code",
   "execution_count": 106,
   "id": "75a50daa",
   "metadata": {},
   "outputs": [
    {
     "name": "stdout",
     "output_type": "stream",
     "text": [
      "{20, 30} <class 'set'>\n"
     ]
    }
   ],
   "source": [
    "s1={10,20,30,40}\n",
    "s2={20,30,25,35}\n",
    "s3=s1.intersection(s2)\n",
    "print(s3,type(s3))"
   ]
  },
  {
   "cell_type": "code",
   "execution_count": 107,
   "id": "5149903a",
   "metadata": {},
   "outputs": [
    {
     "name": "stdout",
     "output_type": "stream",
     "text": [
      "{20, 30} <class 'set'>\n"
     ]
    }
   ],
   "source": [
    "s1={10,20,30,40}\n",
    "s2={20,30,25,35}\n",
    "s3=s2.intersection(s1)\n",
    "print(s3,type(s3))"
   ]
  },
  {
   "cell_type": "markdown",
   "id": "ddb93c15",
   "metadata": {},
   "source": [
    "<b> difference\n",
    "- This Function Removes the common elements from both Setobj1 and setobj2 and It takes remaining elements from setobj1 and \n",
    "  place them in setobj3.\n",
    "    \n",
    "    \n",
    "- <b> syntax: -     setobj3=setobj1.difference(setobj2)\n",
    "\n",
    "          (OR)\n",
    "        \n",
    "- This Function Removes the common elements from both Setobj1 and setobj2 and It takes remaining elements from setobj2 and \n",
    "  place them in setobj3.\n",
    "    \n",
    "    \n",
    "- <b> syntax: -     setobj3=setobj2.difference(setobj1)\n"
   ]
  },
  {
   "cell_type": "code",
   "execution_count": 108,
   "id": "dda75a59",
   "metadata": {},
   "outputs": [
    {
     "name": "stdout",
     "output_type": "stream",
     "text": [
      "{40, 10}\n"
     ]
    }
   ],
   "source": [
    "s1={10,20,30,40}\n",
    "s2={20,30,25,35}\n",
    "s3=s1.difference(s2)\n",
    "print(s3)"
   ]
  },
  {
   "cell_type": "code",
   "execution_count": 109,
   "id": "429029a1",
   "metadata": {},
   "outputs": [
    {
     "name": "stdout",
     "output_type": "stream",
     "text": [
      "{25, 35}\n"
     ]
    }
   ],
   "source": [
    "s1={10,20,30,40}\n",
    "s2={20,30,25,35}\n",
    "s3=s2.difference(s1)\n",
    "print(s3)"
   ]
  },
  {
   "cell_type": "markdown",
   "id": "72419f2f",
   "metadata": {},
   "source": [
    "<b> symmetric_difference\n",
    "- This Function Removes the common elements from both Setobj1 and setobj2 and It takes remaining elements from both setobj1 \n",
    "  and setobj2 and place them in setobj3.\n",
    "\n",
    "    \n",
    "- <b> syntax: -     \n",
    "               setobj3=setobj1.symmetric_difference()(setobj2)\n",
    "    \n",
    "                         (OR)\n",
    "    \n",
    "               setobj3 = (s1 union s2) - (s1 intersect s2)\n"
   ]
  },
  {
   "cell_type": "code",
   "execution_count": 111,
   "id": "cb2b7376",
   "metadata": {},
   "outputs": [
    {
     "name": "stdout",
     "output_type": "stream",
     "text": [
      "{35, 40, 10, 25}\n"
     ]
    }
   ],
   "source": [
    "s1={10,20,30,40}\n",
    "s2={20,30,25,35}\n",
    "s3=s1.symmetric_difference(s2)\n",
    "print(s3)"
   ]
  },
  {
   "cell_type": "code",
   "execution_count": 112,
   "id": "cb5c5263",
   "metadata": {},
   "outputs": [
    {
     "name": "stdout",
     "output_type": "stream",
     "text": [
      "{35, 40, 10, 25}\n"
     ]
    }
   ],
   "source": [
    "s1={10,20,30,40}\n",
    "s2={20,30,25,35}\n",
    "s3=s2.symmetric_difference(s1)\n",
    "print(s3)"
   ]
  },
  {
   "cell_type": "markdown",
   "id": "ad61a770",
   "metadata": {},
   "source": [
    "<b> issubset()\n",
    "- This Function returns True provided all the elements of setobj2 present in setobj1.\n",
    "- This Function returns False provided at least one element of setobj2 not present in setobj1.\n",
    "\n",
    "    \n",
    "- <b> Syntax: -    setobj2.issubset(setobj1)\n"
   ]
  },
  {
   "cell_type": "code",
   "execution_count": 113,
   "id": "63dbacf3",
   "metadata": {},
   "outputs": [
    {
     "data": {
      "text/plain": [
       "False"
      ]
     },
     "execution_count": 113,
     "metadata": {},
     "output_type": "execute_result"
    }
   ],
   "source": [
    "s1={10,20,30,40}\n",
    "s2={10,20}\n",
    "s3={10,15,25,35}\n",
    "s1.issubset(s2)"
   ]
  },
  {
   "cell_type": "code",
   "execution_count": 114,
   "id": "f613e47d",
   "metadata": {},
   "outputs": [
    {
     "data": {
      "text/plain": [
       "False"
      ]
     },
     "execution_count": 114,
     "metadata": {},
     "output_type": "execute_result"
    }
   ],
   "source": [
    "s1.issubset(s3)"
   ]
  },
  {
   "cell_type": "code",
   "execution_count": 115,
   "id": "18bc61c7",
   "metadata": {},
   "outputs": [
    {
     "data": {
      "text/plain": [
       "True"
      ]
     },
     "execution_count": 115,
     "metadata": {},
     "output_type": "execute_result"
    }
   ],
   "source": [
    "s2.issubset(s1)"
   ]
  },
  {
   "cell_type": "code",
   "execution_count": 116,
   "id": "29ef0a5f",
   "metadata": {},
   "outputs": [
    {
     "data": {
      "text/plain": [
       "False"
      ]
     },
     "execution_count": 116,
     "metadata": {},
     "output_type": "execute_result"
    }
   ],
   "source": [
    "s2.issubset(s3)"
   ]
  },
  {
   "cell_type": "code",
   "execution_count": 117,
   "id": "ffcb277a",
   "metadata": {},
   "outputs": [
    {
     "data": {
      "text/plain": [
       "False"
      ]
     },
     "execution_count": 117,
     "metadata": {},
     "output_type": "execute_result"
    }
   ],
   "source": [
    "s3.issubset(s1)"
   ]
  },
  {
   "cell_type": "code",
   "execution_count": 118,
   "id": "8048888c",
   "metadata": {},
   "outputs": [
    {
     "data": {
      "text/plain": [
       "False"
      ]
     },
     "execution_count": 118,
     "metadata": {},
     "output_type": "execute_result"
    }
   ],
   "source": [
    "s3.issubset(s2)"
   ]
  },
  {
   "cell_type": "markdown",
   "id": "a6bfc00e",
   "metadata": {},
   "source": [
    "<b> issuperset()\n",
    "- This Function returns True provided setobj1 contains all the elements of setobj2.\n",
    "- This Function returns False provided setobj1 does not contain at least one element of setobj2.\n",
    "\n",
    "\n",
    "- <b> Syntax: -     setobj1.issuperset(setobj2)\n"
   ]
  },
  {
   "cell_type": "code",
   "execution_count": 119,
   "id": "48402376",
   "metadata": {},
   "outputs": [
    {
     "data": {
      "text/plain": [
       "True"
      ]
     },
     "execution_count": 119,
     "metadata": {},
     "output_type": "execute_result"
    }
   ],
   "source": [
    "s1={10,20,30,40}\n",
    "s2={10,20}\n",
    "s3={10,15,25,35}\n",
    "s1.issuperset(s2)"
   ]
  },
  {
   "cell_type": "code",
   "execution_count": 120,
   "id": "08076985",
   "metadata": {},
   "outputs": [
    {
     "data": {
      "text/plain": [
       "False"
      ]
     },
     "execution_count": 120,
     "metadata": {},
     "output_type": "execute_result"
    }
   ],
   "source": [
    "s1.issuperset(s3)"
   ]
  },
  {
   "cell_type": "code",
   "execution_count": 121,
   "id": "e087e91b",
   "metadata": {},
   "outputs": [
    {
     "data": {
      "text/plain": [
       "False"
      ]
     },
     "execution_count": 121,
     "metadata": {},
     "output_type": "execute_result"
    }
   ],
   "source": [
    "s2.issuperset(s1)"
   ]
  },
  {
   "cell_type": "code",
   "execution_count": 122,
   "id": "cc1cf2e1",
   "metadata": {},
   "outputs": [
    {
     "data": {
      "text/plain": [
       "False"
      ]
     },
     "execution_count": 122,
     "metadata": {},
     "output_type": "execute_result"
    }
   ],
   "source": [
    "s2.issuperset(s3)"
   ]
  },
  {
   "cell_type": "code",
   "execution_count": 123,
   "id": "15636d86",
   "metadata": {},
   "outputs": [
    {
     "data": {
      "text/plain": [
       "False"
      ]
     },
     "execution_count": 123,
     "metadata": {},
     "output_type": "execute_result"
    }
   ],
   "source": [
    "s3.issuperset(s1)"
   ]
  },
  {
   "cell_type": "code",
   "execution_count": 124,
   "id": "074c1f94",
   "metadata": {},
   "outputs": [
    {
     "data": {
      "text/plain": [
       "False"
      ]
     },
     "execution_count": 124,
     "metadata": {},
     "output_type": "execute_result"
    }
   ],
   "source": [
    "s3.issuperset(s2)"
   ]
  },
  {
   "cell_type": "code",
   "execution_count": 125,
   "id": "38126fd1",
   "metadata": {},
   "outputs": [
    {
     "data": {
      "text/plain": [
       "True"
      ]
     },
     "execution_count": 125,
     "metadata": {},
     "output_type": "execute_result"
    }
   ],
   "source": [
    "s2.issuperset(s2)"
   ]
  },
  {
   "cell_type": "markdown",
   "id": "4a840c7b",
   "metadata": {},
   "source": [
    "<b> isdisjoint()\n",
    "- This Function returns True provided there is no common element in both setobj1 and setobj2.\n",
    "- This Function returns False provided there is common element in both setobj1 and setobj2.\n",
    "\n",
    "\n",
    "- <b> Syntax: -    setobj1.isdisjoint(setobj2)\n"
   ]
  },
  {
   "cell_type": "code",
   "execution_count": 126,
   "id": "08f2b9fa",
   "metadata": {},
   "outputs": [
    {
     "data": {
      "text/plain": [
       "True"
      ]
     },
     "execution_count": 126,
     "metadata": {},
     "output_type": "execute_result"
    }
   ],
   "source": [
    "s1={10,20,30,40}\n",
    "s2={15,25,35}\n",
    "s3={10,50,60,70}\n",
    "s1.isdisjoint(s2)"
   ]
  },
  {
   "cell_type": "code",
   "execution_count": 127,
   "id": "c4fd9218",
   "metadata": {},
   "outputs": [
    {
     "data": {
      "text/plain": [
       "False"
      ]
     },
     "execution_count": 127,
     "metadata": {},
     "output_type": "execute_result"
    }
   ],
   "source": [
    "s1.isdisjoint(s3)"
   ]
  },
  {
   "cell_type": "code",
   "execution_count": 128,
   "id": "1d3e4002",
   "metadata": {},
   "outputs": [
    {
     "data": {
      "text/plain": [
       "True"
      ]
     },
     "execution_count": 128,
     "metadata": {},
     "output_type": "execute_result"
    }
   ],
   "source": [
    "s2.isdisjoint(s1)"
   ]
  },
  {
   "cell_type": "code",
   "execution_count": 129,
   "id": "e3193396",
   "metadata": {},
   "outputs": [
    {
     "data": {
      "text/plain": [
       "True"
      ]
     },
     "execution_count": 129,
     "metadata": {},
     "output_type": "execute_result"
    }
   ],
   "source": [
    "s2.isdisjoint(s3)"
   ]
  },
  {
   "cell_type": "code",
   "execution_count": 130,
   "id": "cd873e1a",
   "metadata": {},
   "outputs": [
    {
     "data": {
      "text/plain": [
       "True"
      ]
     },
     "execution_count": 130,
     "metadata": {},
     "output_type": "execute_result"
    }
   ],
   "source": [
    "s3.isdisjoint(s2)"
   ]
  },
  {
   "cell_type": "code",
   "execution_count": 131,
   "id": "019bf848",
   "metadata": {},
   "outputs": [
    {
     "data": {
      "text/plain": [
       "False"
      ]
     },
     "execution_count": 131,
     "metadata": {},
     "output_type": "execute_result"
    }
   ],
   "source": [
    "s3.isdisjoint(s1)"
   ]
  },
  {
   "cell_type": "markdown",
   "id": "1f3f937c",
   "metadata": {},
   "source": [
    "# Dictionaries or Dict\n",
    "- The purpose of dict data type is that \"To store (Key, value) in single variable\".\n",
    "- In (Key, Value), the value of Key is Unique and Value of Value may or may not be unique.\n",
    "- keys can be of fundamental data type - generally the keys are int or str and values can be of any data type.\n",
    "- The (Key, value) must be organized or stored in the object of dict within Curly Braces {} and they separated by comma.\n",
    "- An object of dict does not support Indexing and Slicing bcoz Values of Key itself considered as Indices.\n",
    "- In the object of dict, Values of Key are treated as Immutable and Values of Value are treated as mutable.\n",
    "- Originally an object of dict is mutable bcoz we can add (Key, Value) externally.\n",
    "- Dictionary is an unordered collection, it will not maintain any order.\n"
   ]
  },
  {
   "cell_type": "markdown",
   "id": "1ef84ba3",
   "metadata": {},
   "source": [
    "#### Empty dict\n",
    "- Empty dict is one, which does not contain any (Key, Value) and whose length is 0.\n",
    "\n",
    "\n",
    "- <b> Syntax: -         \n",
    "    \n",
    "              dictobj1= { }\n",
    "\t\t\t\tor\n",
    "\t\t\t  dictobj=dict()\n"
   ]
  },
  {
   "cell_type": "code",
   "execution_count": 132,
   "id": "cb9e2bb5",
   "metadata": {},
   "outputs": [
    {
     "name": "stdout",
     "output_type": "stream",
     "text": [
      "{}\n"
     ]
    },
    {
     "data": {
      "text/plain": [
       "dict"
      ]
     },
     "execution_count": 132,
     "metadata": {},
     "output_type": "execute_result"
    }
   ],
   "source": [
    "d = {}\n",
    "print(d)\n",
    "type(d)"
   ]
  },
  {
   "cell_type": "code",
   "execution_count": 134,
   "id": "a67cb0a1",
   "metadata": {},
   "outputs": [
    {
     "data": {
      "text/plain": [
       "0"
      ]
     },
     "execution_count": 134,
     "metadata": {},
     "output_type": "execute_result"
    }
   ],
   "source": [
    "len(d)"
   ]
  },
  {
   "cell_type": "code",
   "execution_count": 133,
   "id": "3d726c38",
   "metadata": {},
   "outputs": [
    {
     "name": "stdout",
     "output_type": "stream",
     "text": [
      "{}\n"
     ]
    },
    {
     "data": {
      "text/plain": [
       "dict"
      ]
     },
     "execution_count": 133,
     "metadata": {},
     "output_type": "execute_result"
    }
   ],
   "source": [
    "d1 =dict()\n",
    "print(d)\n",
    "type(d)"
   ]
  },
  {
   "cell_type": "code",
   "execution_count": 135,
   "id": "f91e93f8",
   "metadata": {},
   "outputs": [
    {
     "data": {
      "text/plain": [
       "0"
      ]
     },
     "execution_count": 135,
     "metadata": {},
     "output_type": "execute_result"
    }
   ],
   "source": [
    "len(d1)"
   ]
  },
  {
   "cell_type": "markdown",
   "id": "87496688",
   "metadata": {},
   "source": [
    "#### Non Empty dict\n",
    "- Non-Empty dict is one, which contains (Key, Value) and whose length is >0.\n",
    "\n",
    "\n",
    "- <b> Syntax: -     dictobj1= { Key1:Val1,Key2:Val2......Key-n:Valn}\n",
    "\n",
    "    \n",
    "- Here Key1, Key2...Key-n are called Values of Key and They must Unique.\n",
    "- Here Val1, Val2...Val-n are called Values of Value and They may or may not be unique.\n"
   ]
  },
  {
   "cell_type": "code",
   "execution_count": 136,
   "id": "c920e0da",
   "metadata": {},
   "outputs": [
    {
     "name": "stdout",
     "output_type": "stream",
     "text": [
      "{10: 'Python', 20: 'Data Sci', 30: 'Django'} <class 'dict'>\n"
     ]
    }
   ],
   "source": [
    "d1={10:\"Python\",20:\"Data Sci\",30:\"Django\"}\n",
    "print(d1,type(d1))"
   ]
  },
  {
   "cell_type": "code",
   "execution_count": 137,
   "id": "90856f5a",
   "metadata": {},
   "outputs": [
    {
     "data": {
      "text/plain": [
       "3"
      ]
     },
     "execution_count": 137,
     "metadata": {},
     "output_type": "execute_result"
    }
   ],
   "source": [
    "len(d1)"
   ]
  },
  {
   "cell_type": "code",
   "execution_count": 139,
   "id": "ae60410e",
   "metadata": {},
   "outputs": [
    {
     "name": "stdout",
     "output_type": "stream",
     "text": [
      "{10: 3.4, 20: 4.5, 30: 5.6, 40: 3.4} <class 'dict'>\n"
     ]
    }
   ],
   "source": [
    "d2={10:3.4,20:4.5,30:5.6,40:3.4}\n",
    "print(d2,type(d2))"
   ]
  },
  {
   "cell_type": "code",
   "execution_count": 140,
   "id": "cb855ecb",
   "metadata": {},
   "outputs": [
    {
     "data": {
      "text/plain": [
       "4"
      ]
     },
     "execution_count": 140,
     "metadata": {},
     "output_type": "execute_result"
    }
   ],
   "source": [
    "len(d2)"
   ]
  },
  {
   "cell_type": "code",
   "execution_count": 141,
   "id": "a80db99a",
   "metadata": {},
   "outputs": [
    {
     "name": "stdout",
     "output_type": "stream",
     "text": [
      "{10: 3.4, 20: [45, 7, 8], 30: (10, 34, 0, 90), 40: 3.4} <class 'dict'>\n"
     ]
    }
   ],
   "source": [
    "d3={10:3.4,20:[45,7,8],30:(10,34,0,90),40:3.4}\n",
    "print(d3,type(d3))"
   ]
  },
  {
   "cell_type": "code",
   "execution_count": 145,
   "id": "35b31883",
   "metadata": {},
   "outputs": [
    {
     "data": {
      "text/plain": [
       "4"
      ]
     },
     "execution_count": 145,
     "metadata": {},
     "output_type": "execute_result"
    }
   ],
   "source": [
    "len(d3)"
   ]
  },
  {
   "cell_type": "markdown",
   "id": "566755f3",
   "metadata": {},
   "source": [
    "<b> Nested dict\n",
    "- If atleast one value is dict, then it ia called as nested dict."
   ]
  },
  {
   "cell_type": "code",
   "execution_count": 147,
   "id": "ab0fabb8",
   "metadata": {},
   "outputs": [
    {
     "name": "stdout",
     "output_type": "stream",
     "text": [
      "{10: 'Python', 20: 'Data Sci', 30: 'Django', 40: {11: 'Hari'}} <class 'dict'>\n"
     ]
    }
   ],
   "source": [
    "d1={10:\"Python\",20:\"Data Sci\",30:\"Django\",40:{11:\"Hari\"}}\n",
    "print(d1,type(d1))"
   ]
  },
  {
   "cell_type": "code",
   "execution_count": 148,
   "id": "c85cfb9d",
   "metadata": {},
   "outputs": [
    {
     "data": {
      "text/plain": [
       "4"
      ]
     },
     "execution_count": 148,
     "metadata": {},
     "output_type": "execute_result"
    }
   ],
   "source": [
    "len(d1)"
   ]
  },
  {
   "cell_type": "markdown",
   "id": "c3bbf275",
   "metadata": {},
   "source": [
    "# Dict Methods"
   ]
  },
  {
   "cell_type": "markdown",
   "id": "04c6588e",
   "metadata": {},
   "source": [
    "<b> clear()\n",
    "- This Function is used for removing all the elements of dict but object remains same (empty).\n",
    "\n",
    "    \n",
    "- <b> Syntax: -   dictobj.clear()\n",
    "    "
   ]
  },
  {
   "cell_type": "code",
   "execution_count": 149,
   "id": "f313dcde",
   "metadata": {},
   "outputs": [
    {
     "name": "stdout",
     "output_type": "stream",
     "text": [
      "{10: 3.4, 20: 4.5, 30: 4.7, 40: 6.7, 50: 3.4}\n"
     ]
    }
   ],
   "source": [
    "d1={10:3.4,20:4.5,30:4.7,40:6.7,50:3.4}\n",
    "print(d1)"
   ]
  },
  {
   "cell_type": "code",
   "execution_count": 150,
   "id": "ba6dd66a",
   "metadata": {},
   "outputs": [
    {
     "data": {
      "text/plain": [
       "5"
      ]
     },
     "execution_count": 150,
     "metadata": {},
     "output_type": "execute_result"
    }
   ],
   "source": [
    "len(d1)"
   ]
  },
  {
   "cell_type": "code",
   "execution_count": 151,
   "id": "35920af6",
   "metadata": {},
   "outputs": [
    {
     "name": "stdout",
     "output_type": "stream",
     "text": [
      "{}\n"
     ]
    }
   ],
   "source": [
    "d1.clear()\n",
    "print(d1)"
   ]
  },
  {
   "cell_type": "code",
   "execution_count": 152,
   "id": "711c50dd",
   "metadata": {},
   "outputs": [
    {
     "data": {
      "text/plain": [
       "0"
      ]
     },
     "execution_count": 152,
     "metadata": {},
     "output_type": "execute_result"
    }
   ],
   "source": [
    "len(d1)"
   ]
  },
  {
   "cell_type": "markdown",
   "id": "b3402a18",
   "metadata": {},
   "source": [
    "<b> pop()\n",
    "- This Function is used for removing the (Key, Value) from dict object.\n",
    "- If the value of Key does not exist then we get KeyError.\n",
    "\n",
    "    \n",
    "- <b> Syntax: -     dictobj.pop(Key)\n",
    "    "
   ]
  },
  {
   "cell_type": "code",
   "execution_count": 202,
   "id": "d218e02b",
   "metadata": {},
   "outputs": [
    {
     "name": "stdout",
     "output_type": "stream",
     "text": [
      "{10: 3.4, 20: 4.5, 30: 4.7, 40: 6.7, 50: 3.4}\n"
     ]
    }
   ],
   "source": [
    "d1={10:3.4,20:4.5,30:4.7,40:6.7,50:3.4}\n",
    "print(d1)"
   ]
  },
  {
   "cell_type": "code",
   "execution_count": 154,
   "id": "c23b193a",
   "metadata": {},
   "outputs": [
    {
     "name": "stdout",
     "output_type": "stream",
     "text": [
      "{20: 4.5, 30: 4.7, 40: 6.7, 50: 3.4}\n"
     ]
    }
   ],
   "source": [
    "d1.pop(10)\n",
    "print(d1)"
   ]
  },
  {
   "cell_type": "code",
   "execution_count": 155,
   "id": "4f991772",
   "metadata": {},
   "outputs": [
    {
     "name": "stdout",
     "output_type": "stream",
     "text": [
      "{30: 4.7, 40: 6.7, 50: 3.4}\n"
     ]
    }
   ],
   "source": [
    "d1.pop(20,30)\n",
    "print(d1)"
   ]
  },
  {
   "cell_type": "code",
   "execution_count": 156,
   "id": "5995a99b",
   "metadata": {},
   "outputs": [
    {
     "ename": "KeyError",
     "evalue": "1000",
     "output_type": "error",
     "traceback": [
      "\u001b[1;31m---------------------------------------------------------------------------\u001b[0m",
      "\u001b[1;31mKeyError\u001b[0m                                  Traceback (most recent call last)",
      "\u001b[1;32m~\\AppData\\Local\\Temp\\ipykernel_5388\\2705328253.py\u001b[0m in \u001b[0;36m<module>\u001b[1;34m\u001b[0m\n\u001b[1;32m----> 1\u001b[1;33m \u001b[0md1\u001b[0m\u001b[1;33m.\u001b[0m\u001b[0mpop\u001b[0m\u001b[1;33m(\u001b[0m\u001b[1;36m1000\u001b[0m\u001b[1;33m)\u001b[0m\u001b[1;33m\u001b[0m\u001b[1;33m\u001b[0m\u001b[0m\n\u001b[0m\u001b[0;32m      2\u001b[0m \u001b[0mprint\u001b[0m\u001b[1;33m(\u001b[0m\u001b[0md1\u001b[0m\u001b[1;33m)\u001b[0m\u001b[1;33m\u001b[0m\u001b[1;33m\u001b[0m\u001b[0m\n",
      "\u001b[1;31mKeyError\u001b[0m: 1000"
     ]
    }
   ],
   "source": [
    "d1.pop(1000)\n",
    "print(d1)"
   ]
  },
  {
   "cell_type": "markdown",
   "id": "ccf59198",
   "metadata": {},
   "source": [
    "- <b> replace key in dictionary.\n",
    "\n",
    "    \n",
    "- <b> Syntax: -   dicobj[New_Key] = dictobj.pop(Old_key)\n",
    "    "
   ]
  },
  {
   "cell_type": "code",
   "execution_count": 203,
   "id": "d6fba609",
   "metadata": {},
   "outputs": [
    {
     "name": "stdout",
     "output_type": "stream",
     "text": [
      "{10: 3.4, 20: 4.5, 30: 4.7, 40: 6.7, 50: 3.4}\n"
     ]
    }
   ],
   "source": [
    "d1={10:3.4,20:4.5,30:4.7,40:6.7,50:3.4}\n",
    "print(d1)"
   ]
  },
  {
   "cell_type": "code",
   "execution_count": 205,
   "id": "5481e0d2",
   "metadata": {},
   "outputs": [
    {
     "name": "stdout",
     "output_type": "stream",
     "text": [
      "{20: 4.5, 30: 4.7, 40: 6.7, 50: 3.4, 100: 3.4}\n"
     ]
    }
   ],
   "source": [
    "d1[100] = d1.pop(10)     # Replacing \"key=10\" to \"key=100\".\n",
    "print(d1)"
   ]
  },
  {
   "cell_type": "markdown",
   "id": "c4d147af",
   "metadata": {},
   "source": [
    "<b> popitem()\n",
    "- This Function is used for removing last (Key, Value) from dict object.\n",
    "- When we call this function from empty dict object, then we get KeyError.\n",
    "\n",
    "\n",
    "- <b> Syntax: -   dictobj.popitem()\n"
   ]
  },
  {
   "cell_type": "code",
   "execution_count": 158,
   "id": "574a7a31",
   "metadata": {},
   "outputs": [
    {
     "name": "stdout",
     "output_type": "stream",
     "text": [
      "{10: 3.4, 20: 4.5, 30: 4.7, 40: 6.7, 50: 3.4}\n"
     ]
    }
   ],
   "source": [
    "d1={10:3.4,20:4.5,30:4.7,40:6.7,50:3.4}\n",
    "print(d1)"
   ]
  },
  {
   "cell_type": "code",
   "execution_count": 159,
   "id": "bbc120ca",
   "metadata": {},
   "outputs": [
    {
     "name": "stdout",
     "output_type": "stream",
     "text": [
      "{10: 3.4, 20: 4.5, 30: 4.7, 40: 6.7}\n"
     ]
    }
   ],
   "source": [
    "d1.popitem()         # 50: 3.4 deleted\n",
    "print(d1)"
   ]
  },
  {
   "cell_type": "code",
   "execution_count": 160,
   "id": "19227b06",
   "metadata": {},
   "outputs": [
    {
     "name": "stdout",
     "output_type": "stream",
     "text": [
      "{10: 3.4, 20: 4.5, 30: 4.7}\n"
     ]
    }
   ],
   "source": [
    "d1.popitem()         # 40: 6.7 deleted\n",
    "print(d1)"
   ]
  },
  {
   "cell_type": "code",
   "execution_count": 161,
   "id": "61827223",
   "metadata": {},
   "outputs": [
    {
     "name": "stdout",
     "output_type": "stream",
     "text": [
      "{10: 3.4, 20: 4.5}\n"
     ]
    }
   ],
   "source": [
    "d1.popitem()         # 30: 4.7 deleted\n",
    "print(d1)"
   ]
  },
  {
   "cell_type": "code",
   "execution_count": 162,
   "id": "829008bb",
   "metadata": {},
   "outputs": [
    {
     "name": "stdout",
     "output_type": "stream",
     "text": [
      "{10: 3.4}\n"
     ]
    }
   ],
   "source": [
    "d1.popitem()         # 20: 4.5 deleted\n",
    "print(d1)"
   ]
  },
  {
   "cell_type": "code",
   "execution_count": 163,
   "id": "52dc9c31",
   "metadata": {},
   "outputs": [
    {
     "name": "stdout",
     "output_type": "stream",
     "text": [
      "{}\n"
     ]
    }
   ],
   "source": [
    "d1.popitem()         # 20: 4.5 deleted\n",
    "print(d1)"
   ]
  },
  {
   "cell_type": "code",
   "execution_count": 164,
   "id": "81ec3a8e",
   "metadata": {},
   "outputs": [
    {
     "ename": "KeyError",
     "evalue": "'popitem(): dictionary is empty'",
     "output_type": "error",
     "traceback": [
      "\u001b[1;31m---------------------------------------------------------------------------\u001b[0m",
      "\u001b[1;31mKeyError\u001b[0m                                  Traceback (most recent call last)",
      "\u001b[1;32m~\\AppData\\Local\\Temp\\ipykernel_5388\\3009285763.py\u001b[0m in \u001b[0;36m<module>\u001b[1;34m\u001b[0m\n\u001b[1;32m----> 1\u001b[1;33m \u001b[0md1\u001b[0m\u001b[1;33m.\u001b[0m\u001b[0mpopitem\u001b[0m\u001b[1;33m(\u001b[0m\u001b[1;33m)\u001b[0m         \u001b[1;31m# When we call this function from empty dict object, then we get KeyError.\u001b[0m\u001b[1;33m\u001b[0m\u001b[1;33m\u001b[0m\u001b[0m\n\u001b[0m\u001b[0;32m      2\u001b[0m \u001b[0mprint\u001b[0m\u001b[1;33m(\u001b[0m\u001b[0md1\u001b[0m\u001b[1;33m)\u001b[0m\u001b[1;33m\u001b[0m\u001b[1;33m\u001b[0m\u001b[0m\n",
      "\u001b[1;31mKeyError\u001b[0m: 'popitem(): dictionary is empty'"
     ]
    }
   ],
   "source": [
    "d1.popitem()         # When we call this function from empty dict object, then we get KeyError.\n",
    "print(d1)"
   ]
  },
  {
   "cell_type": "markdown",
   "id": "09ece623",
   "metadata": {},
   "source": [
    "<b> copy()\n",
    "- This Function is used for Copying the content of One dict object into another dict object (Shallow Copy).\n"
   ]
  },
  {
   "cell_type": "code",
   "execution_count": 168,
   "id": "6a149ca6",
   "metadata": {},
   "outputs": [
    {
     "name": "stdout",
     "output_type": "stream",
     "text": [
      "{10: 3.4, 20: 4.5, 30: 4.7, 40: 6.7, 50: 3.4} <class 'dict'>\n"
     ]
    },
    {
     "data": {
      "text/plain": [
       "2203548557184"
      ]
     },
     "execution_count": 168,
     "metadata": {},
     "output_type": "execute_result"
    }
   ],
   "source": [
    "d1={10:3.4,20:4.5,30:4.7,40:6.7,50:3.4}\n",
    "print(d1,type(d1))\n",
    "id(d1)"
   ]
  },
  {
   "cell_type": "code",
   "execution_count": 169,
   "id": "68634ab0",
   "metadata": {},
   "outputs": [
    {
     "name": "stdout",
     "output_type": "stream",
     "text": [
      "{10: 3.4, 20: 4.5, 30: 4.7, 40: 6.7, 50: 3.4} <class 'dict'>\n"
     ]
    },
    {
     "data": {
      "text/plain": [
       "2203548564992"
      ]
     },
     "execution_count": 169,
     "metadata": {},
     "output_type": "execute_result"
    }
   ],
   "source": [
    "d2=d1.copy()\n",
    "print(d2,type(d2))\n",
    "id(d2)"
   ]
  },
  {
   "cell_type": "code",
   "execution_count": 170,
   "id": "e5163921",
   "metadata": {},
   "outputs": [
    {
     "name": "stdout",
     "output_type": "stream",
     "text": [
      "{10: 12.3, 20: 4.5, 30: 4.7, 40: 6.7, 50: 3.4} <class 'dict'> 2203548557184\n",
      "{10: 3.4, 20: 4.5, 30: 4.7, 40: 6.7, 50: 0.9} <class 'dict'> 2203548564992\n"
     ]
    }
   ],
   "source": [
    "d1[10]=12.3\n",
    "d2[50]=0.9\n",
    "print(d1,type(d1),id(d1))\n",
    "print(d2,type(d2),id(d2))"
   ]
  },
  {
   "cell_type": "markdown",
   "id": "824ab66d",
   "metadata": {},
   "source": [
    "<b> get()\n",
    "- This Function is used for getting the Value of Value by passing value of Key.\n",
    "\n",
    "    \n",
    "- <b> Syntax: -       dictobj.get(key)\n",
    "    \n",
    "    \n",
    "- If the key does not exist then we get None but not KeyError.\n",
    "\n",
    "                    (OR)\n",
    "\n",
    "- <b> Syntax: -          dictobj[key]\n",
    "        \n",
    "     \n",
    "- This Notation also used for obtaining Value of Value by passing value of Key.\n",
    "- If the key does not exist in this Notation then we get KeyError but not None.\n"
   ]
  },
  {
   "cell_type": "code",
   "execution_count": 171,
   "id": "bd1c3044",
   "metadata": {},
   "outputs": [
    {
     "name": "stdout",
     "output_type": "stream",
     "text": [
      "{10: 3.4, 20: 4.5, 30: 4.7, 40: 6.7, 50: 3.4} <class 'dict'>\n"
     ]
    }
   ],
   "source": [
    "d1={10:3.4,20:4.5,30:4.7,40:6.7,50:3.4}\n",
    "print(d1,type(d1))"
   ]
  },
  {
   "cell_type": "code",
   "execution_count": 172,
   "id": "8ee61a31",
   "metadata": {},
   "outputs": [
    {
     "data": {
      "text/plain": [
       "3.4"
      ]
     },
     "execution_count": 172,
     "metadata": {},
     "output_type": "execute_result"
    }
   ],
   "source": [
    "d1[10]"
   ]
  },
  {
   "cell_type": "code",
   "execution_count": 173,
   "id": "115cca7e",
   "metadata": {},
   "outputs": [
    {
     "data": {
      "text/plain": [
       "3.4"
      ]
     },
     "execution_count": 173,
     "metadata": {},
     "output_type": "execute_result"
    }
   ],
   "source": [
    "d1.get(10)"
   ]
  },
  {
   "cell_type": "code",
   "execution_count": 175,
   "id": "da4427f0",
   "metadata": {},
   "outputs": [
    {
     "data": {
      "text/plain": [
       "4.5"
      ]
     },
     "execution_count": 175,
     "metadata": {},
     "output_type": "execute_result"
    }
   ],
   "source": [
    "d1[20]"
   ]
  },
  {
   "cell_type": "code",
   "execution_count": 176,
   "id": "125f14cd",
   "metadata": {},
   "outputs": [
    {
     "data": {
      "text/plain": [
       "4.5"
      ]
     },
     "execution_count": 176,
     "metadata": {},
     "output_type": "execute_result"
    }
   ],
   "source": [
    "d1.get(20)"
   ]
  },
  {
   "cell_type": "code",
   "execution_count": 178,
   "id": "493efbf7",
   "metadata": {},
   "outputs": [
    {
     "name": "stdout",
     "output_type": "stream",
     "text": [
      "None\n"
     ]
    }
   ],
   "source": [
    "d1.get(1000)\n",
    "print(d1.get(1000))"
   ]
  },
  {
   "cell_type": "code",
   "execution_count": 179,
   "id": "5ec4a35b",
   "metadata": {},
   "outputs": [
    {
     "ename": "KeyError",
     "evalue": "1000",
     "output_type": "error",
     "traceback": [
      "\u001b[1;31m---------------------------------------------------------------------------\u001b[0m",
      "\u001b[1;31mKeyError\u001b[0m                                  Traceback (most recent call last)",
      "\u001b[1;32m~\\AppData\\Local\\Temp\\ipykernel_5388\\1669416833.py\u001b[0m in \u001b[0;36m<module>\u001b[1;34m\u001b[0m\n\u001b[1;32m----> 1\u001b[1;33m \u001b[0md1\u001b[0m\u001b[1;33m[\u001b[0m\u001b[1;36m1000\u001b[0m\u001b[1;33m]\u001b[0m\u001b[1;33m\u001b[0m\u001b[1;33m\u001b[0m\u001b[0m\n\u001b[0m",
      "\u001b[1;31mKeyError\u001b[0m: 1000"
     ]
    }
   ],
   "source": [
    "d1[1000]"
   ]
  },
  {
   "cell_type": "markdown",
   "id": "710c30c6",
   "metadata": {},
   "source": [
    "<b> keys()\n",
    "- This Function is used for obtaining Values of Key.\n",
    "\n",
    "\n",
    "- <b> Syntax: -      varname=dictobj.keys()\n",
    "    "
   ]
  },
  {
   "cell_type": "code",
   "execution_count": 180,
   "id": "4cb09e49",
   "metadata": {},
   "outputs": [
    {
     "name": "stdout",
     "output_type": "stream",
     "text": [
      "{10: 3.4, 20: 4.5, 30: 4.7, 40: 6.7, 50: 3.4} <class 'dict'>\n"
     ]
    }
   ],
   "source": [
    "d1={10:3.4,20:4.5,30:4.7,40:6.7,50:3.4}\n",
    "print(d1,type(d1))"
   ]
  },
  {
   "cell_type": "code",
   "execution_count": 182,
   "id": "56a9581b",
   "metadata": {},
   "outputs": [
    {
     "name": "stdout",
     "output_type": "stream",
     "text": [
      "dict_keys([10, 20, 30, 40, 50]) <class 'dict_keys'>\n"
     ]
    }
   ],
   "source": [
    "ks = d1.keys()\n",
    "print(ks,type(ks))"
   ]
  },
  {
   "cell_type": "code",
   "execution_count": 183,
   "id": "efdbd3e0",
   "metadata": {},
   "outputs": [
    {
     "data": {
      "text/plain": [
       "dict_keys([10, 20, 30, 40, 50])"
      ]
     },
     "execution_count": 183,
     "metadata": {},
     "output_type": "execute_result"
    }
   ],
   "source": [
    "d1.keys()"
   ]
  },
  {
   "cell_type": "markdown",
   "id": "eecd6e5c",
   "metadata": {},
   "source": [
    "<b> values()\n",
    "- This Function is used for obtaining Values of Value.\n",
    "\n",
    "\n",
    "- <b> Syntax: -      varname=dictobj.values()\n",
    "    "
   ]
  },
  {
   "cell_type": "code",
   "execution_count": 184,
   "id": "707fed42",
   "metadata": {},
   "outputs": [
    {
     "name": "stdout",
     "output_type": "stream",
     "text": [
      "{10: 3.4, 20: 4.5, 30: 4.7, 40: 6.7, 50: 3.4} <class 'dict'>\n"
     ]
    }
   ],
   "source": [
    "d1={10:3.4,20:4.5,30:4.7,40:6.7,50:3.4}\n",
    "print(d1,type(d1))"
   ]
  },
  {
   "cell_type": "code",
   "execution_count": 185,
   "id": "e1c89d2e",
   "metadata": {},
   "outputs": [
    {
     "name": "stdout",
     "output_type": "stream",
     "text": [
      "dict_values([3.4, 4.5, 4.7, 6.7, 3.4]) <class 'dict_values'>\n"
     ]
    }
   ],
   "source": [
    "val = d1.values()\n",
    "print(val,type(val))"
   ]
  },
  {
   "cell_type": "code",
   "execution_count": 186,
   "id": "c92ef173",
   "metadata": {},
   "outputs": [
    {
     "data": {
      "text/plain": [
       "dict_values([3.4, 4.5, 4.7, 6.7, 3.4])"
      ]
     },
     "execution_count": 186,
     "metadata": {},
     "output_type": "execute_result"
    }
   ],
   "source": [
    "d1.values()"
   ]
  },
  {
   "cell_type": "markdown",
   "id": "00b0283b",
   "metadata": {},
   "source": [
    "<b> items()\n",
    "- This Function is used for obtaining List of tuples of (Key,Value) from dict object.\n",
    "\n",
    "\n",
    "- <b> Syntax: -   varname=dictobj.items()\n",
    "    "
   ]
  },
  {
   "cell_type": "code",
   "execution_count": 187,
   "id": "24c50fda",
   "metadata": {},
   "outputs": [
    {
     "name": "stdout",
     "output_type": "stream",
     "text": [
      "{10: 3.4, 20: 4.5, 30: 4.7, 40: 6.7, 50: 3.4} <class 'dict'>\n"
     ]
    }
   ],
   "source": [
    "d1={10:3.4,20:4.5,30:4.7,40:6.7,50:3.4}\n",
    "print(d1,type(d1))"
   ]
  },
  {
   "cell_type": "code",
   "execution_count": 188,
   "id": "116cc2e9",
   "metadata": {},
   "outputs": [
    {
     "name": "stdout",
     "output_type": "stream",
     "text": [
      "dict_items([(10, 3.4), (20, 4.5), (30, 4.7), (40, 6.7), (50, 3.4)]) <class 'dict_items'>\n"
     ]
    }
   ],
   "source": [
    "kvs = d1.items()\n",
    "print(kvs,type(kvs))"
   ]
  },
  {
   "cell_type": "code",
   "execution_count": 190,
   "id": "f4f8efc5",
   "metadata": {},
   "outputs": [
    {
     "data": {
      "text/plain": [
       "dict_items([(10, 3.4), (20, 4.5), (30, 4.7), (40, 6.7), (50, 3.4)])"
      ]
     },
     "execution_count": 190,
     "metadata": {},
     "output_type": "execute_result"
    }
   ],
   "source": [
    "d1.items()"
   ]
  },
  {
   "cell_type": "markdown",
   "id": "ac1d5b23",
   "metadata": {},
   "source": [
    "<b> update()\n",
    "- This Function is used for updating one dict object content with another dict object content.\n",
    "- This function is also used for adding multiple items into the dictionary.\n",
    "\n",
    "\n",
    "- <b> Syntax: -    dictobj1.update(dictobj2)\n"
   ]
  },
  {
   "cell_type": "code",
   "execution_count": 193,
   "id": "bb6a3546",
   "metadata": {},
   "outputs": [
    {
     "name": "stdout",
     "output_type": "stream",
     "text": [
      "{10: 'Python', 20: 'C++'} <class 'dict'>\n",
      "{20: 2.3, 10: 3.4} <class 'dict'>\n"
     ]
    }
   ],
   "source": [
    "d1={10:\"Python\",20:\"C++\"}\n",
    "d2={20:2.3,10:3.4}\n",
    "print(d1,type(d1))\n",
    "print(d2,type(d2))"
   ]
  },
  {
   "cell_type": "code",
   "execution_count": 192,
   "id": "f5b94c85",
   "metadata": {},
   "outputs": [
    {
     "name": "stdout",
     "output_type": "stream",
     "text": [
      "{10: 3.4, 20: 2.3} <class 'dict'>\n",
      "{20: 2.3, 10: 3.4} <class 'dict'>\n"
     ]
    }
   ],
   "source": [
    "d1.update(d2)\n",
    "print(d1,type(d1))\n",
    "print(d2,type(d2))"
   ]
  },
  {
   "cell_type": "code",
   "execution_count": 194,
   "id": "1fee6942",
   "metadata": {},
   "outputs": [
    {
     "name": "stdout",
     "output_type": "stream",
     "text": [
      "{10: 'Python', 20: 'C++'} <class 'dict'>\n",
      "{20: 'C++', 10: 'Python'} <class 'dict'>\n"
     ]
    }
   ],
   "source": [
    "d2.update(d1)\n",
    "print(d1,type(d1))\n",
    "print(d2,type(d2))"
   ]
  },
  {
   "cell_type": "markdown",
   "id": "eb304dba",
   "metadata": {},
   "source": [
    "- <b> adding a multiple items to dictionary by using update()"
   ]
  },
  {
   "cell_type": "code",
   "execution_count": 199,
   "id": "6fd358c4",
   "metadata": {},
   "outputs": [
    {
     "name": "stdout",
     "output_type": "stream",
     "text": [
      "{10: 47, 20: 'C++', 50: 'Java', 60: 'AWS'} <class 'dict'>\n"
     ]
    }
   ],
   "source": [
    "d1.update({50: \"Java\",60: \"AWS\"})\n",
    "print(d1,type(d1))"
   ]
  },
  {
   "cell_type": "markdown",
   "id": "d3db2eb7",
   "metadata": {},
   "source": [
    "- <b> adding a single item to dictionary."
   ]
  },
  {
   "cell_type": "code",
   "execution_count": 200,
   "id": "6de2ddca",
   "metadata": {},
   "outputs": [
    {
     "name": "stdout",
     "output_type": "stream",
     "text": [
      "{10: 47, 20: 'C++', 50: 'Java', 60: 'AWS', 70: 47} <class 'dict'>\n"
     ]
    }
   ],
   "source": [
    "d1[70] = 47\n",
    "print(d1,type(d1))"
   ]
  },
  {
   "cell_type": "markdown",
   "id": "52bf19aa",
   "metadata": {},
   "source": [
    "- <b> replace value in dictionary."
   ]
  },
  {
   "cell_type": "code",
   "execution_count": 206,
   "id": "c86a649d",
   "metadata": {},
   "outputs": [
    {
     "name": "stdout",
     "output_type": "stream",
     "text": [
      "{10: 3.4, 20: 4.5, 30: 4.7, 40: 6.7, 50: 3.4} <class 'dict'>\n"
     ]
    }
   ],
   "source": [
    "d1={10:3.4,20:4.5,30:4.7,40:6.7,50:3.4}\n",
    "print(d1,type(d1))"
   ]
  },
  {
   "cell_type": "code",
   "execution_count": 208,
   "id": "7076b403",
   "metadata": {},
   "outputs": [
    {
     "name": "stdout",
     "output_type": "stream",
     "text": [
      "{10: 3.4, 20: 'Hari', 30: 4.7, 40: 6.7, 50: 3.4}\n"
     ]
    }
   ],
   "source": [
    "d1[20] = \"Hari\"       # Replacing \"value=4.5\" to \"value=\"Hari\"\".\n",
    "print(d1)"
   ]
  },
  {
   "cell_type": "markdown",
   "id": "3b3df58e",
   "metadata": {},
   "source": [
    "<b> del operator\n",
    "- This is used for removing the object along with data."
   ]
  },
  {
   "cell_type": "code",
   "execution_count": 209,
   "id": "7ababfbe",
   "metadata": {},
   "outputs": [
    {
     "name": "stdout",
     "output_type": "stream",
     "text": [
      "{10: 3.4, 20: 4.5, 30: 4.7, 40: 6.7, 50: 3.4} <class 'dict'>\n"
     ]
    }
   ],
   "source": [
    "d1={10:3.4,20:4.5,30:4.7,40:6.7,50:3.4}\n",
    "print(d1,type(d1))"
   ]
  },
  {
   "cell_type": "code",
   "execution_count": 212,
   "id": "a5a19b04",
   "metadata": {
    "scrolled": true
   },
   "outputs": [
    {
     "ename": "NameError",
     "evalue": "name 'd1' is not defined",
     "output_type": "error",
     "traceback": [
      "\u001b[1;31m---------------------------------------------------------------------------\u001b[0m",
      "\u001b[1;31mNameError\u001b[0m                                 Traceback (most recent call last)",
      "\u001b[1;32m~\\AppData\\Local\\Temp\\ipykernel_5388\\660573689.py\u001b[0m in \u001b[0;36m<module>\u001b[1;34m\u001b[0m\n\u001b[1;32m----> 1\u001b[1;33m \u001b[1;32mdel\u001b[0m \u001b[0md1\u001b[0m          \u001b[1;31m# delting d1 object.\u001b[0m\u001b[1;33m\u001b[0m\u001b[1;33m\u001b[0m\u001b[0m\n\u001b[0m\u001b[0;32m      2\u001b[0m \u001b[0mprint\u001b[0m\u001b[1;33m(\u001b[0m\u001b[0md1\u001b[0m\u001b[1;33m)\u001b[0m\u001b[1;33m\u001b[0m\u001b[1;33m\u001b[0m\u001b[0m\n",
      "\u001b[1;31mNameError\u001b[0m: name 'd1' is not defined"
     ]
    }
   ],
   "source": [
    "del d1          # delting d1 object.\n",
    "print(d1)"
   ]
  },
  {
   "cell_type": "markdown",
   "id": "62ad054f",
   "metadata": {},
   "source": [
    "# Range\n",
    "- The purpose of range data type is that \" To Store Sequence of Numerical Integer Values maintaining equal Interval of value\".\n",
    "- An object of range data type belongs to immutable bcoz range object does not support Item Assignment.\n",
    "- To convert one type of value to range type of value, we use range()            rangeobject=range(object).\n",
    "- range data type contains 3 syntaxes for generating range of values with equal interval.\n",
    "- On the object of range, we can perform Indexing and Slicing Operations.\n",
    "\n",
    "\n",
    "- <b> Syntax-1 : -                rangeobj=range(Value)\n",
    "    \n",
    "    \n",
    "- This Syntax generates range of values from 0 to Value-1\n",
    "                 (OR)\n",
    "    \n",
    "- <b> Syntax-2 : -       \t\t  rangeobj=range(Begin,End)\n",
    "    \n",
    "    \n",
    "- This Syntax generates range of values from BEGIN to END-1. If we not specified Begin value then it will takes as default \"0\".\n",
    "                 (OR)\n",
    "    \n",
    "- <b> Syntax-3 : -                 rangeobj=range(Begin,End,Step) \n",
    "    \n",
    "    \n",
    "- This Syntax generates range of values from BEGIN to END with Equal STEP as Interval.\n"
   ]
  },
  {
   "cell_type": "code",
   "execution_count": 213,
   "id": "e76dcaee",
   "metadata": {},
   "outputs": [
    {
     "data": {
      "text/plain": [
       "range(0, 10)"
      ]
     },
     "execution_count": 213,
     "metadata": {},
     "output_type": "execute_result"
    }
   ],
   "source": [
    "range(10)           # It will returns (0 to 9)"
   ]
  },
  {
   "cell_type": "code",
   "execution_count": 214,
   "id": "2835a7ef",
   "metadata": {},
   "outputs": [
    {
     "name": "stdout",
     "output_type": "stream",
     "text": [
      "range(0, 10)\n"
     ]
    },
    {
     "data": {
      "text/plain": [
       "range"
      ]
     },
     "execution_count": 214,
     "metadata": {},
     "output_type": "execute_result"
    }
   ],
   "source": [
    "print(range(10))\n",
    "type(range(10))"
   ]
  },
  {
   "cell_type": "code",
   "execution_count": 215,
   "id": "e62a8212",
   "metadata": {},
   "outputs": [
    {
     "data": {
      "text/plain": [
       "[0, 1, 2, 3, 4, 5, 6, 7, 8, 9]"
      ]
     },
     "execution_count": 215,
     "metadata": {},
     "output_type": "execute_result"
    }
   ],
   "source": [
    "list(range(10))    # It will returns list[0 to 9]"
   ]
  },
  {
   "cell_type": "code",
   "execution_count": 217,
   "id": "8f55d295",
   "metadata": {},
   "outputs": [
    {
     "data": {
      "text/plain": [
       "list"
      ]
     },
     "execution_count": 217,
     "metadata": {},
     "output_type": "execute_result"
    }
   ],
   "source": [
    "type(list(range(10)))"
   ]
  },
  {
   "cell_type": "code",
   "execution_count": 216,
   "id": "d76ebbec",
   "metadata": {},
   "outputs": [
    {
     "data": {
      "text/plain": [
       "(0, 1, 2, 3, 4, 5, 6, 7, 8, 9)"
      ]
     },
     "execution_count": 216,
     "metadata": {},
     "output_type": "execute_result"
    }
   ],
   "source": [
    "tuple(range(10))   # It will returns tuple(0 to 9)"
   ]
  },
  {
   "cell_type": "code",
   "execution_count": 218,
   "id": "42cbcbb8",
   "metadata": {},
   "outputs": [
    {
     "data": {
      "text/plain": [
       "tuple"
      ]
     },
     "execution_count": 218,
     "metadata": {},
     "output_type": "execute_result"
    }
   ],
   "source": [
    "type(tuple(range(10)))"
   ]
  },
  {
   "cell_type": "code",
   "execution_count": 219,
   "id": "faff7fd4",
   "metadata": {},
   "outputs": [
    {
     "data": {
      "text/plain": [
       "[5, 6, 7, 8, 9]"
      ]
     },
     "execution_count": 219,
     "metadata": {},
     "output_type": "execute_result"
    }
   ],
   "source": [
    "list(range(5,10)) "
   ]
  },
  {
   "cell_type": "code",
   "execution_count": 222,
   "id": "ba775d37",
   "metadata": {},
   "outputs": [
    {
     "data": {
      "text/plain": [
       "[5, 7, 9, 11, 13, 15, 17, 19]"
      ]
     },
     "execution_count": 222,
     "metadata": {},
     "output_type": "execute_result"
    }
   ],
   "source": [
    "list(range(5,21,2)) "
   ]
  },
  {
   "cell_type": "code",
   "execution_count": 223,
   "id": "0709ba09",
   "metadata": {},
   "outputs": [
    {
     "data": {
      "text/plain": [
       "[5, 10, 15, 20, 25, 30, 35, 40, 45, 50]"
      ]
     },
     "execution_count": 223,
     "metadata": {},
     "output_type": "execute_result"
    }
   ],
   "source": [
    "list(range(5,51,5)) "
   ]
  },
  {
   "cell_type": "code",
   "execution_count": 224,
   "id": "8ce47229",
   "metadata": {},
   "outputs": [
    {
     "data": {
      "text/plain": [
       "(10, 11, 12, 13, 14, 15, 16, 17, 18, 19, 20)"
      ]
     },
     "execution_count": 224,
     "metadata": {},
     "output_type": "execute_result"
    }
   ],
   "source": [
    "tuple(range(10,21))"
   ]
  },
  {
   "cell_type": "code",
   "execution_count": 225,
   "id": "496a927e",
   "metadata": {},
   "outputs": [
    {
     "data": {
      "text/plain": [
       "(10, 12, 14, 16, 18, 20)"
      ]
     },
     "execution_count": 225,
     "metadata": {},
     "output_type": "execute_result"
    }
   ],
   "source": [
    "tuple(range(10,21,2))"
   ]
  },
  {
   "cell_type": "code",
   "execution_count": 226,
   "id": "df52c216",
   "metadata": {},
   "outputs": [
    {
     "data": {
      "text/plain": [
       "(10, 14, 18, 22, 26, 30, 34, 38)"
      ]
     },
     "execution_count": 226,
     "metadata": {},
     "output_type": "execute_result"
    }
   ],
   "source": [
    "tuple(range(10,41,4))"
   ]
  },
  {
   "cell_type": "code",
   "execution_count": 232,
   "id": "63599b0d",
   "metadata": {},
   "outputs": [
    {
     "name": "stdout",
     "output_type": "stream",
     "text": [
      "range(0, 6) <class 'range'>\n"
     ]
    }
   ],
   "source": [
    "r = range(6)\n",
    "print(r,type(r))"
   ]
  },
  {
   "cell_type": "code",
   "execution_count": 233,
   "id": "b01d450b",
   "metadata": {},
   "outputs": [
    {
     "name": "stdout",
     "output_type": "stream",
     "text": [
      "0\n",
      "1\n",
      "2\n",
      "3\n",
      "4\n",
      "5\n"
     ]
    }
   ],
   "source": [
    "for val in r:\n",
    "    print(val)"
   ]
  },
  {
   "cell_type": "code",
   "execution_count": 234,
   "id": "690b7f04",
   "metadata": {},
   "outputs": [
    {
     "name": "stdout",
     "output_type": "stream",
     "text": [
      "range(3, 8) <class 'range'>\n"
     ]
    }
   ],
   "source": [
    "r = range(3,8)\n",
    "print(r,type(r))"
   ]
  },
  {
   "cell_type": "code",
   "execution_count": 235,
   "id": "78599cae",
   "metadata": {},
   "outputs": [
    {
     "name": "stdout",
     "output_type": "stream",
     "text": [
      "3\n",
      "4\n",
      "5\n",
      "6\n",
      "7\n"
     ]
    }
   ],
   "source": [
    "for val in r:\n",
    "    print(val)"
   ]
  },
  {
   "cell_type": "code",
   "execution_count": 236,
   "id": "abaddc62",
   "metadata": {},
   "outputs": [
    {
     "name": "stdout",
     "output_type": "stream",
     "text": [
      "range(2, 11, 2) <class 'range'>\n"
     ]
    }
   ],
   "source": [
    "r = range(2,11,2)\n",
    "print(r,type(r))"
   ]
  },
  {
   "cell_type": "code",
   "execution_count": 237,
   "id": "206674df",
   "metadata": {},
   "outputs": [
    {
     "name": "stdout",
     "output_type": "stream",
     "text": [
      "2\n",
      "4\n",
      "6\n",
      "8\n",
      "10\n"
     ]
    }
   ],
   "source": [
    "for val in r:\n",
    "    print(val)"
   ]
  },
  {
   "cell_type": "code",
   "execution_count": 242,
   "id": "bd30b515",
   "metadata": {},
   "outputs": [
    {
     "name": "stdout",
     "output_type": "stream",
     "text": [
      "range(100, 0, -10) <class 'range'>\n"
     ]
    }
   ],
   "source": [
    "r = range(100,0,-10)\n",
    "print(r,type(r))"
   ]
  },
  {
   "cell_type": "code",
   "execution_count": 243,
   "id": "41cadca9",
   "metadata": {},
   "outputs": [
    {
     "name": "stdout",
     "output_type": "stream",
     "text": [
      "100\n",
      "90\n",
      "80\n",
      "70\n",
      "60\n",
      "50\n",
      "40\n",
      "30\n",
      "20\n",
      "10\n"
     ]
    }
   ],
   "source": [
    "for val in r:\n",
    "    print(val)"
   ]
  },
  {
   "cell_type": "code",
   "execution_count": 250,
   "id": "b52020d2",
   "metadata": {},
   "outputs": [
    {
     "name": "stdout",
     "output_type": "stream",
     "text": [
      "range(-10, 5, 3) <class 'range'>\n"
     ]
    }
   ],
   "source": [
    "r = range(-10,5,3)\n",
    "print(r,type(r))"
   ]
  },
  {
   "cell_type": "code",
   "execution_count": 251,
   "id": "20a2303e",
   "metadata": {},
   "outputs": [
    {
     "name": "stdout",
     "output_type": "stream",
     "text": [
      "-10\n",
      "-7\n",
      "-4\n",
      "-1\n",
      "2\n"
     ]
    }
   ],
   "source": [
    "for val in r:\n",
    "    print(val)"
   ]
  },
  {
   "cell_type": "code",
   "execution_count": 252,
   "id": "b99ad521",
   "metadata": {},
   "outputs": [
    {
     "name": "stdout",
     "output_type": "stream",
     "text": [
      "range(-1, -11, -1) <class 'range'>\n"
     ]
    }
   ],
   "source": [
    "r = range(-1,-11,-1)\n",
    "print(r,type(r))"
   ]
  },
  {
   "cell_type": "code",
   "execution_count": 253,
   "id": "fafb17ad",
   "metadata": {},
   "outputs": [
    {
     "name": "stdout",
     "output_type": "stream",
     "text": [
      "-1\n",
      "-2\n",
      "-3\n",
      "-4\n",
      "-5\n",
      "-6\n",
      "-7\n",
      "-8\n",
      "-9\n",
      "-10\n"
     ]
    }
   ],
   "source": [
    "for val in r:\n",
    "    print(val)"
   ]
  }
 ],
 "metadata": {
  "kernelspec": {
   "display_name": "Python 3 (ipykernel)",
   "language": "python",
   "name": "python3"
  },
  "language_info": {
   "codemirror_mode": {
    "name": "ipython",
    "version": 3
   },
   "file_extension": ".py",
   "mimetype": "text/x-python",
   "name": "python",
   "nbconvert_exporter": "python",
   "pygments_lexer": "ipython3",
   "version": "3.9.13"
  }
 },
 "nbformat": 4,
 "nbformat_minor": 5
}
