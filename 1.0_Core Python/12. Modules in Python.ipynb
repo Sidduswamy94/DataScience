{
 "cells": [
  {
   "cell_type": "markdown",
   "id": "0e73cdb4",
   "metadata": {},
   "source": [
    "# <p style='text-align: center;'> Modules in Python </p>"
   ]
  },
  {
   "cell_type": "markdown",
   "id": "eda36cc5",
   "metadata": {},
   "source": [
    "- We know that Functions concept makes us understand How to perform operations and we can re-use within the same program \n",
    "  but not able to re-use the functions across the programs.\n",
    "\n",
    "    \n",
    "- To reuse the functions and global variables across the programs, we must use the concept of MODULES.\n",
    "-----------------------------\n",
    "- ### Definition of Module:\n",
    "-----------------------------\n",
    "- A Module is a collection of variables (global variables), Functions and Classes.\n",
    "-----------------------------\n",
    "- ### Types of Modules:\n",
    "-----------------------------\n",
    "- In Python Programming, we have two types of Modules. They are\n",
    "            1) Pre-defined (or) Built-in Modules\n",
    "            2) Programmer or user or custom-defined modules.\n",
    "----------------------------------------------------------------\n",
    "#### 1) Pre-defined (or) Built-in Modules:\n",
    "----------------------------------------------------------------\n",
    "- These modules are developed by Python Language Developers and they are available in Python Software (APIs) and they are used \n",
    "  python programmers for dealing with Universal Requirements.\n",
    "  \n",
    "\n",
    "- Examples: -    math, cmath, functools, sys, calendar, os, e, threading, pickle, random.......etc\n",
    "\n",
    "\n",
    "- Out of many pre-defined modules, in python programming one implicit pre-defined module imported to every python program \n",
    "  called \"built-ins\".\n",
    "\n",
    "----------------------------------------------------------------\n",
    "#### 2) Programmer or user or custom-defined modules:\n",
    "----------------------------------------------------------------\n",
    "- These modules are developed by Python Programmers and they are available in Python Project and they are used by other python \n",
    "  programmers who are in project development to deal with common requirements.\n",
    "\n",
    "\n",
    "- Examples: -       aop,    mathsinfo,    icici ......etc\n"
   ]
  },
  {
   "cell_type": "markdown",
   "id": "92ae9bff",
   "metadata": {},
   "source": [
    "-------------------------------------------------------\n",
    "### Number of approaches to re-use Modules\n",
    "-------------------------------------------------------\n",
    "- To re-use the features (Variable Names, Function Names and Class Names) of module, we have 2 approaches. They are\n",
    "            1) By using import statement\n",
    "            2) By using from....  import statement.\n",
    "            \n",
    "            \n",
    "#### 1) By using import statement:\n",
    "\n",
    "\n",
    "- 'import' is a keyword.\n",
    "\n",
    "\n",
    "- The purpose of import statement is that \"To refer or access the variable names, function names and class names in \n",
    "  current program\".\n",
    "  \n",
    "  \n",
    "- we can use import statement in 4 ways."
   ]
  },
  {
   "cell_type": "markdown",
   "id": "4eaa834f",
   "metadata": {},
   "source": [
    "<b> Syntax-1: -                        import  module name\n",
    "    \n",
    "    \n",
    "- This syntax imports single module.\n",
    "    \n",
    "    \n",
    "- Example: -       import math\n",
    "                          \n",
    "    \n",
    "<b> Syntax-2: -   import module name1, module ame2....Module name-n\n",
    "    \n",
    "    \n",
    "- This syntax imports multiple modules.\n",
    "    \n",
    "    \n",
    "- Example: -                 import    math, random, os.\n",
    "    \n",
    "    \n",
    "<b> Syntax-3: -               import module name as alias name\n",
    "    \n",
    "    \n",
    "- This syntax imports single module and aliased with another name.\n",
    "    \n",
    "    \n",
    "- import math as m\n",
    "\n",
    "    \n",
    "<b> Syntax-4: - import   module name1 as alias name, module name2 as alias name......module name-n as alias name\n",
    "\n",
    "    \n",
    "- This syntax imports multiple modules and aliased with another names\n",
    "    \n",
    "    \n",
    "- Example: -          import math as m, random as rm.\n",
    "    \n",
    "    \n",
    "- Hence after importing all the variable names, Function names and class names by using \"import statement\" , we must access \n",
    "  variable names, Function names and class names w.r.t Module Names or alias names.\n",
    "    \n",
    "                Module Name.Variable Name\n",
    "                Module Name.Function Name\n",
    "                Module Name.Class  Name\n",
    "                        (OR)\n",
    "                Alias Name.Variable Name\n",
    "                Alias Name.Function Name\n",
    "                Alias Name.Class Name\n",
    "\n",
    "   "
   ]
  },
  {
   "cell_type": "markdown",
   "id": "5b704fdd",
   "metadata": {},
   "source": [
    "#### 2) By using from....  import statement.\n",
    "\n",
    "\n",
    "- Here \"form\" \"import\" are the key words.\n",
    "\n",
    "\n",
    "- The purpose of from....  import statement is that \" To refer or access the variable names, function names and class names \n",
    "  in current program directly without writing module name\".\n",
    "  \n",
    "  \n",
    "- we can use from.... import statement in 3 ways.\n"
   ]
  },
  {
   "cell_type": "markdown",
   "id": "4fee1bf0",
   "metadata": {},
   "source": [
    "<b> Syntax-1: -   from module name import Variable Names, Function Names, Class Names\n",
    "\n",
    "\n",
    "- This syntax imports the Variable Names, Function Names, Class Names of a module.\n",
    "\n",
    "\n",
    "- Example: -      from calendar import  month\n",
    "    \n",
    "    \n",
    "<b> Syntax-2:  from module name import Variable Names as alias name, Function Names as alias name, Class Names as alias names.\n",
    "\n",
    "    \n",
    "- This syntax imports the Variable Names, Function Names, Class Names of a module with alias Names.\n",
    "    \n",
    "    \n",
    "- Example: -    from calendar import  month as m\n",
    "   \n",
    "    \n",
    "<b> Syntax-3: -      from module name import *\n",
    "    \n",
    "    \n",
    "- This syntax imports ALL Variable Names, Function Names, Class Names of a module.\n",
    "    \n",
    "    \n",
    "- Example: -      from calendar   import *\n",
    "    \n",
    "    \n",
    "- This syntax is not recommended to use bcoz it imports required Features of Module and also import un-interested features also \n",
    "  imported and leads more main memory space.\n",
    "    \n",
    "    \n",
    "    \n",
    "- Hence after importing all the variable names, Function names and class names by using \"from .... import statement\", we must \n",
    "  access variable names, Function names and class names Directly without using Module Names or alias names.\n",
    "\n",
    "                Variable Name\n",
    "                Function Name\n",
    "                Class Name\n",
    "    \n",
    "    \n",
    "- Hence with \"import statement\" we can give alias name for module names only but not for Variables Names, Function Names \n",
    "  and Class Names. Whereas with \"from ... import statement \" we can give alias names for Variables Names, Function Names and \n",
    "  Class Names but not for Module Name.\n"
   ]
  },
  {
   "cell_type": "markdown",
   "id": "91da223e",
   "metadata": {},
   "source": [
    "## 1) Pre-defined (or) Built-in Modules :\n"
   ]
  },
  {
   "cell_type": "markdown",
   "id": "16faab5a",
   "metadata": {},
   "source": [
    "### Working with math module.\n",
    "- Python provides Built-in module math.\n",
    "- This module defines several functions which can be used for mathematical operation/tasks."
   ]
  },
  {
   "cell_type": "code",
   "execution_count": 6,
   "id": "1a2e6836",
   "metadata": {},
   "outputs": [],
   "source": [
    "# importing math module.\n",
    "import math"
   ]
  },
  {
   "cell_type": "code",
   "execution_count": 8,
   "id": "022d3854",
   "metadata": {},
   "outputs": [],
   "source": [
    "# We can find help for any module by using help() function.\n",
    "help(math)   # This will disply the help centre."
   ]
  },
  {
   "cell_type": "code",
   "execution_count": 10,
   "id": "0f6ff8ba",
   "metadata": {},
   "outputs": [
    {
     "data": {
      "text/plain": [
       "8.0"
      ]
     },
     "execution_count": 10,
     "metadata": {},
     "output_type": "execute_result"
    }
   ],
   "source": [
    "# Find the square root of \"64\" by using math module.\n",
    "\n",
    "# importing math module.\n",
    "import math\n",
    "\n",
    "# Using sqrt function from math module to find the square root.\n",
    "# Accessing function by  (modulename.function()).\n",
    "math.sqrt(64)"
   ]
  },
  {
   "cell_type": "code",
   "execution_count": 20,
   "id": "536223fc",
   "metadata": {},
   "outputs": [
    {
     "name": "stdout",
     "output_type": "stream",
     "text": [
      "9.0\n",
      "2.718281828459045\n"
     ]
    }
   ],
   "source": [
    "# Find the square root and exponential of the specified values using math module.\n",
    "\n",
    "# importing sqrt and exp from math module.\n",
    "from math import sqrt,exp\n",
    "\n",
    "# Using sqrt function from math module to find the square root.\n",
    "# Using exp function from math module to find the exponential.\n",
    "# Accessing function by  (function()).\n",
    "print(sqrt(81))\n",
    "print(exp(1))"
   ]
  },
  {
   "cell_type": "code",
   "execution_count": 17,
   "id": "850020c6",
   "metadata": {},
   "outputs": [
    {
     "data": {
      "text/plain": [
       "6.928203230275509"
      ]
     },
     "execution_count": 17,
     "metadata": {},
     "output_type": "execute_result"
    }
   ],
   "source": [
    "# Find the square root of \"48\" by using math module.\n",
    "\n",
    "# importing math module with alias name.\n",
    "import math as m\n",
    "\n",
    "# Using sqrt function from math module to find the square root.\n",
    "# Accessing function by  (aliasname.function()).\n",
    "m.sqrt(48)"
   ]
  },
  {
   "cell_type": "code",
   "execution_count": 16,
   "id": "8c60c28e",
   "metadata": {},
   "outputs": [
    {
     "name": "stdout",
     "output_type": "stream",
     "text": [
      "7.0\n",
      "148.4131591025766\n"
     ]
    }
   ],
   "source": [
    "# Find the square root and exponential of the specified values using math module.\n",
    "\n",
    "# importing sqrt and exp from math module.\n",
    "from math import *\n",
    "\n",
    "# Using sqrt function from math module to find the square root.\n",
    "# Using exp function from math module to find the exponential.\n",
    "# Accessing function by  (function()).\n",
    "print(sqrt(49))\n",
    "print(exp(5))"
   ]
  },
  {
   "cell_type": "markdown",
   "id": "60d44fd3",
   "metadata": {},
   "source": [
    "### Working with random madule.\n",
    "- This module defines several functions to generate random numbers.\n",
    "- We can use these functions while developing games in cryptography and to generate random numbers on fly for authentication."
   ]
  },
  {
   "cell_type": "markdown",
   "id": "bb6e22eb",
   "metadata": {},
   "source": [
    "<b> random() : \n",
    "- Returns a random float number between 0 and 1."
   ]
  },
  {
   "cell_type": "code",
   "execution_count": 22,
   "id": "62abe137",
   "metadata": {},
   "outputs": [
    {
     "data": {
      "text/plain": [
       "0.3663311454817195"
      ]
     },
     "execution_count": 22,
     "metadata": {},
     "output_type": "execute_result"
    }
   ],
   "source": [
    "# Find the random number between 0 to 1.\n",
    "\n",
    "# importing random.\n",
    "import random\n",
    "\n",
    "random.random() # Returns a random float number between 0 and 1."
   ]
  },
  {
   "cell_type": "markdown",
   "id": "7bcd7ce1",
   "metadata": {},
   "source": [
    "<b> randint() : \n",
    "- The randint() method returns an integer number selected element from the specified range."
   ]
  },
  {
   "cell_type": "code",
   "execution_count": 23,
   "id": "567d8055",
   "metadata": {},
   "outputs": [
    {
     "data": {
      "text/plain": [
       "13"
      ]
     },
     "execution_count": 23,
     "metadata": {},
     "output_type": "execute_result"
    }
   ],
   "source": [
    "# Find the random integer number between 10 to 30.\n",
    "\n",
    "# importing random.\n",
    "import random\n",
    "\n",
    "'''Using randint() method returns an integer number selected element from\n",
    "   the specified range.'''\n",
    "random.randint(10,30) "
   ]
  },
  {
   "cell_type": "markdown",
   "id": "79111484",
   "metadata": {},
   "source": [
    "<b> randrange() :\n",
    "- The randrange() method returns a randomly selected element from the specified range.\n",
    "- The main difference between randint and randrange is, randrange allows step values but randint not allowed any step value."
   ]
  },
  {
   "cell_type": "code",
   "execution_count": 24,
   "id": "ca124c27",
   "metadata": {},
   "outputs": [
    {
     "data": {
      "text/plain": [
       "125"
      ]
     },
     "execution_count": 24,
     "metadata": {},
     "output_type": "execute_result"
    }
   ],
   "source": [
    "# Find the random integer number between 100 to 130 by step value 5.\n",
    "\n",
    "# importing random.\n",
    "import random\n",
    "\n",
    "'''Using randrange() method returns a randomly selected element \n",
    "   from the specified range with step value.'''\n",
    "random.randrange(100,130,5) "
   ]
  },
  {
   "cell_type": "markdown",
   "id": "7b8bd9f3",
   "metadata": {},
   "source": [
    "<b> choice() :\n",
    "- The choice() method returns a randomly selected element from the specified sequence.\n",
    "- The sequence can be a string, a range, a list, a tuple or any other kind of sequence."
   ]
  },
  {
   "cell_type": "code",
   "execution_count": 26,
   "id": "d58483c4",
   "metadata": {},
   "outputs": [
    {
     "data": {
      "text/plain": [
       "'Raju'"
      ]
     },
     "execution_count": 26,
     "metadata": {},
     "output_type": "execute_result"
    }
   ],
   "source": [
    "# Find the random name from the given list.\n",
    "\n",
    "# User given list.\n",
    "lst=[\"Hari\",\"Raju\",\"Kiran\"]\n",
    "\n",
    "'''Using choice() method returns a randomly selected element \n",
    "   from the specified sequence..'''\n",
    "random.choice(lst) "
   ]
  },
  {
   "attachments": {
    "image.png": {
     "image/png": "[encoded data removed]"
    }
   },
   "cell_type": "markdown",
   "id": "635f629c",
   "metadata": {},
   "source": [
    "## Development of Programmer-Defined Module :\n",
    "- To develop Programmer-Defined Modules, we must use the following steps.\n",
    "\n",
    "        Step-1: Define Variables (Global variables)\n",
    "        Step-2: Define Functions \n",
    "        Step-3: Define Classes\n",
    "        \n",
    "        \n",
    "- After developing step-1, step-2 and step-3, we must save on some file name with an extension .py (FileName.py) and it is \n",
    "  treated as module name.\n",
    "  \n",
    "  \n",
    "- When a file name treated as a module name, internally Python execution environment creates a folder automatically on the \n",
    "  name of __pycache__ and it contains module name on the name of \"filename.cpython-310.pyc \".\n",
    "\n",
    "![image.png](attachment:image.png)\n"
   ]
  },
  {
   "cell_type": "markdown",
   "id": "bc17227e",
   "metadata": {},
   "source": [
    "- In order to work with user defined modules, that particular module should be available in your working directory then only \n",
    "  it will work, otherwise we will get \"ModuleNotFoundError\".\n",
    "  \n",
    "  \n",
    "<b> What is working directory ?\n",
    "    \n",
    "    \n",
    "- Wherever you are  present working in the folder / directory ( Jupiter notebbok ) is available in the the system, that\n",
    "  particular folder is known as working directory."
   ]
  },
  {
   "cell_type": "markdown",
   "id": "9331a9d0",
   "metadata": {},
   "source": [
    "<b> To check the present working directory, there are two options.\n",
    "    \n",
    "    \n",
    "      1) By importing \"os\" module and print \"os.getcwd()\"\n",
    "      2) By entering the \"pwd\"."
   ]
  },
  {
   "cell_type": "markdown",
   "id": "2308c79e",
   "metadata": {},
   "source": [
    "<b> Option - 1"
   ]
  },
  {
   "cell_type": "code",
   "execution_count": 2,
   "id": "9137eebb",
   "metadata": {},
   "outputs": [
    {
     "data": {
      "text/plain": [
       "'C:\\\\Users\\\\Administrator\\\\PYTHON'"
      ]
     },
     "execution_count": 2,
     "metadata": {},
     "output_type": "execute_result"
    }
   ],
   "source": [
    "# To check the present working directory by option - 1.\n",
    "# import the \"os\" module.\n",
    "import os\n",
    "\n",
    "# Write the \"os.getcwd()\" then hit shift+enter.\n",
    "os.getcwd()"
   ]
  },
  {
   "cell_type": "markdown",
   "id": "722f0571",
   "metadata": {},
   "source": [
    "<b> Option - 2"
   ]
  },
  {
   "cell_type": "code",
   "execution_count": 7,
   "id": "c8bded47",
   "metadata": {},
   "outputs": [],
   "source": [
    "# To check the present working directory by option - 2.\n",
    "# Write the \"pwd\" then hit shift+enter.\n"
   ]
  },
  {
   "cell_type": "code",
   "execution_count": 8,
   "id": "93bd0a3d",
   "metadata": {},
   "outputs": [
    {
     "data": {
      "text/plain": [
       "'C:\\\\Users\\\\Administrator\\\\PYTHON'"
      ]
     },
     "execution_count": 8,
     "metadata": {},
     "output_type": "execute_result"
    }
   ],
   "source": [
    "pwd"
   ]
  },
  {
   "cell_type": "markdown",
   "id": "f5e3905c",
   "metadata": {},
   "source": [
    "<b> Changing the present working directory."
   ]
  },
  {
   "cell_type": "markdown",
   "id": "e969d819",
   "metadata": {},
   "source": [
    "- To change the working directory.\n",
    "- import the \"os\" module.\n",
    "        import os\n",
    "\n",
    "-Write the \"os.chdir(path)\" then hit shift+enter.\n",
    "        os.chdir(path)\n",
    " \n",
    "- Then it will change the working directory."
   ]
  },
  {
   "cell_type": "markdown",
   "id": "adb3d9b6",
   "metadata": {},
   "source": [
    "<b> To work with python module in jupiter notebook there are two options.\n",
    "\n",
    "1) My filename.py (module file) should be in the same folder / directory.\n",
    "    \n",
    "    \n",
    "- if .py file is not there in the same directory, then bring your filename.py (module file) in your working directory \n",
    "  by copy / paste.\n",
    "    \n",
    "2) Change your directory where that .py file is available.\n",
    "    \n",
    "    \n",
    "- To change the working directory.\n",
    "- import the \"os\" module.\n",
    "        import os\n",
    "\n",
    "-Write the \"os.chdir(path)\" then hit shift+enter.\n",
    "        \n",
    "    \n",
    "        os.chdir(path)\n",
    " \n",
    "- Then it will change the working directory."
   ]
  },
  {
   "cell_type": "markdown",
   "id": "9bee7541",
   "metadata": {},
   "source": [
    "-------------------\n",
    "#### Examples : -\n",
    "-------------------"
   ]
  },
  {
   "cell_type": "markdown",
   "id": "5ac4a582",
   "metadata": {},
   "source": [
    "<b> In this example I am going with option - 1."
   ]
  },
  {
   "attachments": {
    "image-2.png": {
     "image/png": "[encoded data removed]"
    },
    "image.png": {
     "image/png": "[encoded data removed]"
    }
   },
   "cell_type": "markdown",
   "id": "176b3f0f",
   "metadata": {},
   "source": [
    "- Here I am creating / defining a functions (addop, subop) with file name (aop) with in PYTHON folder. \n",
    "    \n",
    "    \n",
    "![image.png](attachment:image.png)\n",
    "\n",
    "\n",
    "- Then downloading this file with an extension .py (FileName.py) and it is treated as module name.\n",
    "\n",
    "\n",
    "- After that, I copied this file from the downloads and pasted in the PYTHON folder. \n",
    "\n",
    "\n",
    "![image-2.png](attachment:image-2.png)\n",
    "\n",
    "\n",
    "- I am creating another file as \"Modules in Python\" in the same \"PYTHON\" folder and importing the \"aop\" module in this file\n",
    "  and calling the \"aop\" functions from this file, for executing the \"aop\" program.\n",
    " "
   ]
  },
  {
   "cell_type": "code",
   "execution_count": 6,
   "id": "4f8ab734",
   "metadata": {},
   "outputs": [
    {
     "name": "stdout",
     "output_type": "stream",
     "text": [
      "sum(20,10)=30\n",
      "sub(20,10)=10\n"
     ]
    }
   ],
   "source": [
    "# import the \"aop\" file (module)\n",
    "import aop        # import module name\n",
    "\n",
    "# calling the \"aop\" functions in \"Modules in Python\" file.\n",
    "# calling addop function.\n",
    "aop.addop(20,10)         # Function call\n",
    "\n",
    "# calling subop function.\n",
    "aop.subop(20,10)         # Function call"
   ]
  },
  {
   "cell_type": "code",
   "execution_count": 7,
   "id": "e75da611",
   "metadata": {},
   "outputs": [
    {
     "name": "stdout",
     "output_type": "stream",
     "text": [
      "sum(300,110)=410\n",
      "sub(200,150)=50\n"
     ]
    }
   ],
   "source": [
    "# import the \"aop\" file (module)\n",
    "import aop as a       # import module name as alias name.\n",
    "\n",
    "# calling the \"aop\" functions in \"Modules in Python\" file.\n",
    "# calling addop function.\n",
    "a.addop(300,110)         # Function call\n",
    "\n",
    "# calling subop function.\n",
    "a.subop(200,150)         # Function call"
   ]
  },
  {
   "cell_type": "code",
   "execution_count": 9,
   "id": "4947cd1e",
   "metadata": {},
   "outputs": [
    {
     "name": "stdout",
     "output_type": "stream",
     "text": [
      "sum(30,11)=41\n",
      "sub(20,15)=5\n"
     ]
    }
   ],
   "source": [
    "# import the \"aop\" file (module)\n",
    "from aop import addop,subop   # from module name import Function Names.\n",
    "\n",
    "\n",
    "# calling the \"aop\" functions in \"Modules in Python\" file.\n",
    "# calling addop function.\n",
    "addop(30,11)         # Function call\n",
    "\n",
    "# calling subop function.\n",
    "subop(20,15)         # Function call"
   ]
  },
  {
   "cell_type": "code",
   "execution_count": 10,
   "id": "6419a585",
   "metadata": {},
   "outputs": [
    {
     "name": "stdout",
     "output_type": "stream",
     "text": [
      "sum(310,111)=421\n",
      "sub(210,151)=59\n"
     ]
    }
   ],
   "source": [
    "# import the \"aop\" file (module).\n",
    "# from module name import Function Names as alias names.\n",
    "from aop import addop as a,subop as s\n",
    "\n",
    "# calling the \"aop\" functions in \"Modules in Python\" file.\n",
    "# calling addop function.\n",
    "a(310,111)         # Function call\n",
    "\n",
    "# calling subop function.\n",
    "s(210,151)         # Function call"
   ]
  },
  {
   "cell_type": "code",
   "execution_count": 11,
   "id": "15cf6bf9",
   "metadata": {},
   "outputs": [
    {
     "name": "stdout",
     "output_type": "stream",
     "text": [
      "sum(10,11)=21\n",
      "sub(110,151)=-41\n"
     ]
    }
   ],
   "source": [
    "# import the \"aop\" file (module).\n",
    "# from module name import *\n",
    "from aop import *\n",
    "\n",
    "# calling the \"aop\" functions in \"Modules in Python\" file.\n",
    "# calling addop function.\n",
    "addop(10,11)         # Function call\n",
    "\n",
    "# calling subop function.\n",
    "subop(110,151)         # Function call"
   ]
  }
 ],
 "metadata": {
  "kernelspec": {
   "display_name": "Python 3 (ipykernel)",
   "language": "python",
   "name": "python3"
  },
  "language_info": {
   "codemirror_mode": {
    "name": "ipython",
    "version": 3
   },
   "file_extension": ".py",
   "mimetype": "text/x-python",
   "name": "python",
   "nbconvert_exporter": "python",
   "pygments_lexer": "ipython3",
   "version": "3.9.13"
  }
 },
 "nbformat": 4,
 "nbformat_minor": 5
}
