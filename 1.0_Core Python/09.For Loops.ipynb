{
 "cells": [
  {
   "cell_type": "markdown",
   "id": "2eda5916",
   "metadata": {},
   "source": [
    "# Looping or Iterative or Repetitive Statements :\n",
    "- The purpose of Looping or Iterative or Repetitive Statements is that \"Perform Certain Operations Repeatedly for finite \n",
    "  number of times until Test Condition Becomes False\".\n",
    "- There may be a situation when you need to execute a block of code several number of times.\n",
    "- To iterate over times or elements in a given siquence like str, list, tuple, set or dict.\n",
    "- In general, statements are executed sequentially, the first statement in a function is executed first, \n",
    "  followed by the second and so on.\n",
    "  \n",
    "#### In Python Programming, we have 2 types of looping statements. They are\n",
    "            1. for loop or for-else loop\n",
    "            2. while loop or while-else loop\n",
    "\n",
    "#### Iterations or loops - repeate actions :\n",
    "- <b> for loop --> Iterates for all times present in iterating_sequence.\n",
    "- <b> while loop --> untill the condition satisfies.\n",
    "    \n",
    "#### To deal with any any looping statements, we have to follow 3 steps. They are\n",
    "            1. Initlization Part\n",
    "            2. Conditional Part\n",
    "            3. Updation Part (Incrementation or Decrementation)\n",
    " "
   ]
  },
  {
   "attachments": {
    "image.png": {
     "image/png": "[encoded data removed]"
    }
   },
   "cell_type": "markdown",
   "id": "bc31aa6b",
   "metadata": {},
   "source": [
    "# 1. for loop or for-else loop\n",
    "![image.png](attachment:image.png)\n",
    "\n",
    "----------------------\n",
    "Explanation :\n",
    "----------------------\n",
    "- Here 'for' and 'else' are keywords.\n",
    "- Here Iterable_object can be Sequence(bytes, bytearray, range, str), list(list, tuple), set(set, frozenset) and dict.\n",
    "- The execution process of for loop is that \" Each of Element of Iterable_object selected, placed in varname and executes \n",
    "  Indentation block of statements\". This Process will be repeated until all elements of Iterable_object completed.\n",
    "- After execution of Indentation block of statements, PVM executes else block of statements which are written under else \n",
    "  block and later PVM executes Other statements in Program.\n",
    "- Writing else block is optional.\n",
    "- for loops else part runs if no break occurs.\n"
   ]
  },
  {
   "cell_type": "code",
   "execution_count": 1,
   "id": "a549573d",
   "metadata": {},
   "outputs": [
    {
     "name": "stdout",
     "output_type": "stream",
     "text": [
      "1 6 16\n",
      "2 7 17\n",
      "3 8 18\n"
     ]
    }
   ],
   "source": [
    "# Without using loops Example\n",
    "i=1\n",
    "j=i+5\n",
    "k=j+10\n",
    "print(i,j,k)\n",
    "\n",
    "i=2\n",
    "j=i+5\n",
    "k=j+10\n",
    "print(i,j,k)\n",
    "\n",
    "i=3\n",
    "j=i+5\n",
    "k=j+10\n",
    "print(i,j,k)"
   ]
  },
  {
   "cell_type": "code",
   "execution_count": 1,
   "id": "7073f6ff",
   "metadata": {},
   "outputs": [
    {
     "name": "stdout",
     "output_type": "stream",
     "text": [
      "1 6 16\n",
      "2 7 17\n",
      "3 8 18\n"
     ]
    }
   ],
   "source": [
    "# With loops Example\n",
    "for i in range(1,4):\n",
    "    j=i+5\n",
    "    k=j+10\n",
    "    print(i,j,k)"
   ]
  },
  {
   "cell_type": "code",
   "execution_count": 2,
   "id": "6bdf3a61",
   "metadata": {},
   "outputs": [
    {
     "name": "stdout",
     "output_type": "stream",
     "text": [
      "1 6 16\n",
      "2 7 17\n",
      "3 8 18\n",
      "srk\n"
     ]
    }
   ],
   "source": [
    "# With loops Example\n",
    "for i in range(1,4):\n",
    "    j=i+5\n",
    "    k=j+10\n",
    "    print(i,j,k)\n",
    "print(\"srk\")"
   ]
  },
  {
   "cell_type": "code",
   "execution_count": 5,
   "id": "287ed02d",
   "metadata": {},
   "outputs": [
    {
     "name": "stdout",
     "output_type": "stream",
     "text": [
      "3 8 18\n"
     ]
    }
   ],
   "source": [
    "# With loops Example     \n",
    "for i in range(1,4):\n",
    "    j=i+5\n",
    "    k=j+10\n",
    "print(i,j,k)       "
   ]
  },
  {
   "cell_type": "code",
   "execution_count": 6,
   "id": "34a874e0",
   "metadata": {},
   "outputs": [
    {
     "name": "stdout",
     "output_type": "stream",
     "text": [
      "10 11 12 13 14 15 16 17 18 19 20 21 22 23 24 25 26 27 28 29 30 31 32 33 34 35 36 37 38 39 40 41 42 43 44 45 46 47 48 49 50 "
     ]
    }
   ],
   "source": [
    "# print all the numbers between 10 to 50 (Both inclusive)\n",
    "for i in range(10,51):\n",
    "    print(i,end=\" \")"
   ]
  },
  {
   "cell_type": "code",
   "execution_count": 7,
   "id": "c3dc0da6",
   "metadata": {},
   "outputs": [
    {
     "name": "stdout",
     "output_type": "stream",
     "text": [
      "100 98 96 94 92 90 88 86 84 82 80 78 76 74 72 70 68 66 64 62 60 58 56 54 52 50 48 46 44 42 40 38 36 34 32 30 28 26 24 22 20 18 16 14 12 10 8 6 4 2 "
     ]
    }
   ],
   "source": [
    "# print Even numbers from descending order (1 to 100)\n",
    "for i in range(100,1,-2):\n",
    "    print(i,end=\" \")"
   ]
  },
  {
   "cell_type": "code",
   "execution_count": 72,
   "id": "28587548",
   "metadata": {},
   "outputs": [
    {
     "name": "stdout",
     "output_type": "stream",
     "text": [
      "Enter the lower bond value:20\n",
      "Enter the upper bond value:50\n",
      "20 22 24 26 28 30 32 34 36 38 40 42 44 46 48 50 "
     ]
    }
   ],
   "source": [
    "''' Write a python program to get all the even numbers for \n",
    "a given range both the Inclusive.'''\n",
    "\n",
    "# Ask the user to enter the start and stop value.\n",
    "lb=int(input(\"Enter the lower bond value:\"))\n",
    "ub=int(input(\"Enter the upper bond value:\"))\n",
    "\n",
    "# Even numbers\n",
    "for i in range(lb,ub+1):\n",
    "    if (i%2==0):\n",
    "        print(i,end=\" \")"
   ]
  },
  {
   "cell_type": "code",
   "execution_count": 73,
   "id": "9ef909e7",
   "metadata": {},
   "outputs": [
    {
     "name": "stdout",
     "output_type": "stream",
     "text": [
      "35 70 "
     ]
    }
   ],
   "source": [
    "''' WAPP that gives numbers between 1 to 100 which are \n",
    "divisible by 5 and divisible by 7.'''\n",
    "for i in range(1,101):\n",
    "    if (i%5==0 and i%7==0):\n",
    "        print(i,end=\" \")"
   ]
  },
  {
   "cell_type": "code",
   "execution_count": 12,
   "id": "51edee5e",
   "metadata": {},
   "outputs": [
    {
     "name": "stdout",
     "output_type": "stream",
     "text": [
      "1\n",
      "2\n",
      "3\n",
      "4\n",
      "5\n"
     ]
    }
   ],
   "source": [
    "seq = [1,2,3,4,5]\n",
    "\n",
    "# Iterating over the list\n",
    "for i in seq:\n",
    "    print(i)"
   ]
  },
  {
   "cell_type": "code",
   "execution_count": 17,
   "id": "fe636322",
   "metadata": {},
   "outputs": [
    {
     "name": "stdout",
     "output_type": "stream",
     "text": [
      "srk\n",
      "srk\n",
      "srk\n",
      "srk\n",
      "srk\n"
     ]
    }
   ],
   "source": [
    "seq = [1,2,3,4,5]\n",
    "\n",
    "# Iterating over the list\n",
    "for i in seq:\n",
    "    print(\"srk\")"
   ]
  },
  {
   "cell_type": "code",
   "execution_count": 18,
   "id": "c048d214",
   "metadata": {},
   "outputs": [
    {
     "name": "stdout",
     "output_type": "stream",
     "text": [
      "item1 is at index 0\n",
      "item2 is at index 1\n",
      "item3 is at index 2\n",
      "item4 is at index 3\n"
     ]
    }
   ],
   "source": [
    "items = [\"item1\", \"item2\", \"item3\", \"item4\"]\n",
    "\n",
    "for i in range(len(items)):\n",
    "    print(items[i],\"is at index\",i)"
   ]
  },
  {
   "cell_type": "code",
   "execution_count": 21,
   "id": "024ed9e8",
   "metadata": {},
   "outputs": [
    {
     "name": "stdout",
     "output_type": "stream",
     "text": [
      "25\n"
     ]
    }
   ],
   "source": [
    "# Sum of items in a given list.\n",
    "lst = [1,3,5,7,9]\n",
    "\n",
    "# Initialization\n",
    "sum=0\n",
    "\n",
    "for i in lst:\n",
    "    sum=sum+i\n",
    "    \n",
    "print(sum)"
   ]
  },
  {
   "cell_type": "code",
   "execution_count": 24,
   "id": "1c4cbb9f",
   "metadata": {},
   "outputs": [
    {
     "name": "stdout",
     "output_type": "stream",
     "text": [
      "Enter the lower bond value:30\n",
      "Enter the upper bond value:60\n",
      "30 32 34 36 38 40 42 44 46 48 50 52 54 56 58 60 \n",
      "Sum is 720\n"
     ]
    }
   ],
   "source": [
    "# Sum of even numbers in between given range (Both inclusive).\n",
    "\n",
    "#Ask the user to enter the start(lower bond) and end(upper bond) values.\n",
    "lb=int(input(\"Enter the lower bond value:\"))\n",
    "ub=int(input(\"Enter the upper bond value:\"))\n",
    "\n",
    "# Initialization\n",
    "sum=0\n",
    "\n",
    "for i in range(lb,ub+1):\n",
    "    if (i%2==0):\n",
    "        sum=sum+i\n",
    "        print(i,end=\" \")\n",
    "        \n",
    "print(\"\\nSum is\",sum)\n",
    "        "
   ]
  },
  {
   "cell_type": "code",
   "execution_count": 25,
   "id": "53a69e3c",
   "metadata": {},
   "outputs": [
    {
     "name": "stdout",
     "output_type": "stream",
     "text": [
      "Enter multiplication table:8\n",
      "8 * 1 = 8\n",
      "8 * 2 = 16\n",
      "8 * 3 = 24\n",
      "8 * 4 = 32\n",
      "8 * 5 = 40\n",
      "8 * 6 = 48\n",
      "8 * 7 = 56\n",
      "8 * 8 = 64\n",
      "8 * 9 = 72\n",
      "8 * 10 = 80\n"
     ]
    }
   ],
   "source": [
    "# WAPP which will print the user difined multiplication table.\n",
    "\n",
    "#Ask the user to enter the which multiplication table they want.\n",
    "a = int(input(\"Enter multiplication table:\"))\n",
    "\n",
    "for i in range(1,11):\n",
    "    print(a,\"*\",i,\"=\",a*i)\n"
   ]
  },
  {
   "cell_type": "code",
   "execution_count": 31,
   "id": "ca43fcb3",
   "metadata": {},
   "outputs": [
    {
     "name": "stdout",
     "output_type": "stream",
     "text": [
      "Enter the number:4\n",
      "The factorial of 4 is: 24\n"
     ]
    }
   ],
   "source": [
    "# WAPP which will compute the factorial of a given numbers.\n",
    "\n",
    "# Ask the user to enter the number.\n",
    "a = int(input(\"Enter the number:\"))\n",
    "\n",
    "fact=1\n",
    "for i in range(a,0,-1):\n",
    "    fact=fact*i\n",
    "\n",
    "print(\"The factorial of\",a,\"is:\",fact)    \n"
   ]
  },
  {
   "cell_type": "code",
   "execution_count": 32,
   "id": "ad4b2034",
   "metadata": {},
   "outputs": [
    {
     "name": "stdout",
     "output_type": "stream",
     "text": [
      "Enter the number:5\n",
      "The factorial of 5 is: 120\n"
     ]
    }
   ],
   "source": [
    "# WAPP which will compute the factorial of a given numbers.\n",
    "\n",
    "# Ask the user to enter the number.\n",
    "a = int(input(\"Enter the number:\"))\n",
    "\n",
    "# If user enters -ve number.\n",
    "if (a<0):\n",
    "    print(\"{} is invalid input\".format(a))\n",
    "    \n",
    "# If user enters +ve number.\n",
    "else:\n",
    "    fact=1\n",
    "    for i in range(a,0,-1):\n",
    "        fact=fact*i\n",
    "    print(\"The factorial of\",a,\"is:\",fact)    "
   ]
  },
  {
   "cell_type": "code",
   "execution_count": 1,
   "id": "5234e381",
   "metadata": {},
   "outputs": [
    {
     "name": "stdout",
     "output_type": "stream",
     "text": [
      "Enter a Number to find its Factorial:40\n",
      "Factors of a given Number:40\n",
      "\t1\n",
      "\t2\n",
      "\t4\n",
      "\t5\n",
      "\t8\n",
      "\t10\n",
      "\t20\n"
     ]
    }
   ],
   "source": [
    "# Program for finding Factors of a given number.\n",
    "\n",
    "# Ask the user to Enter a Number to find its Factor.\n",
    "n = int(input(\"Enter a Number to find its Factorial:\"))\n",
    "\n",
    "# If user enters -ve number.\n",
    "if (n <= 0):\n",
    "    print(\"{} is invalid input:\".format(n))\n",
    "\n",
    "# If user enters +ve number.\n",
    "else:\n",
    "    print(\"Factors of a given Number:{}\".format(n))\n",
    "    for i in range(1, (n // 2) + 1):\n",
    "        if (n % i == 0):\n",
    "            print(\"\\t{}\".format(i))"
   ]
  },
  {
   "cell_type": "code",
   "execution_count": 24,
   "id": "06cb7f65",
   "metadata": {},
   "outputs": [
    {
     "name": "stdout",
     "output_type": "stream",
     "text": [
      "[14, 19, 24, 30, 11]\n"
     ]
    }
   ],
   "source": [
    "# WAPP which will add 10 to the given list of numbers and print the added list.\n",
    "\n",
    "# User Given list.\n",
    "l = [4,9,14,20,1]\n",
    "\n",
    "# Creating Empty list.\n",
    "e=[]\n",
    "for i in l:\n",
    "    # Adding 10 with each iterated element and assign in object \"a\".\n",
    "    a=i+10\n",
    "    # Adding each modified element to the  new list.\n",
    "    e.append(a)\n",
    "    \n",
    "# print the modified list with increment of 10 with each elements in a list.\n",
    "print(e)"
   ]
  },
  {
   "cell_type": "code",
   "execution_count": 16,
   "id": "60abe4e5",
   "metadata": {},
   "outputs": [
    {
     "name": "stdout",
     "output_type": "stream",
     "text": [
      "Enter How Many Natural Nums Sum u want to find:5\n",
      "--------------------------------------------------\n",
      "\tNat Nums\tSquares\t\tCubes\n",
      "--------------------------------------------------\n",
      "\t1\t\t1\t\t1\n",
      "\t2\t\t4\t\t8\n",
      "\t3\t\t9\t\t27\n",
      "\t4\t\t16\t\t64\n",
      "\t5\t\t25\t\t125\n",
      "--------------------------------------------------\n",
      "\t15\t\t55\t\t225\n",
      "--------------------------------------------------\n"
     ]
    }
   ],
   "source": [
    "# Program for finding First N Natural Nums sum, Squares Sum and Cubes sum.\n",
    "\n",
    "# Ask the user to enter How Many Natural Nums Sum u want to find.\n",
    "n=int(input(\"Enter How Many Natural Nums Sum u want to find:\"))\n",
    "\n",
    "# If user enters -ve number.\n",
    "if(n<=0):\n",
    "    print(\"{} is invalid input:\".format(n))\n",
    "    \n",
    "# If user enters +ve number.\n",
    "else:\n",
    "    # Initialization\n",
    "    s,ss,cs=0,0,0\n",
    "    # print \"Nat Nums  Squares  Cubes\" display purpose.\n",
    "    print(\"-\"*50)\n",
    "    print(\"\\tNat Nums\\tSquares\\t\\tCubes\")\n",
    "    print(\"-\"*50)\n",
    "    for i in range(1,n+1):\n",
    "        s=s+i\n",
    "        ss=ss+i**2\n",
    "        cs=cs+i**3\n",
    "        print(\"\\t{}\\t\\t{}\\t\\t{}\".format(i,i**2,i**3))\n",
    "    else:\n",
    "        print(\"-\"*50)\n",
    "        print(\"\\t{}\\t\\t{}\\t\\t{}\".format(s,ss,cs))\n",
    "        print(\"-\"*50)\n"
   ]
  },
  {
   "attachments": {
    "image.png": {
     "image/png": "[encoded data removed]"
    }
   },
   "cell_type": "markdown",
   "id": "a4588779",
   "metadata": {},
   "source": [
    "# Inner or Nested for loop :\n",
    "- The process of writing one loop in inside of another loop is called Inner or Nested Loop.\n",
    "- The execution process of Inner loops is that \"For Every Value of Outer Loop, inner loop executes \n",
    "  repeatedly for finite number of times\".\n",
    "- Inner or Nested loop can be used with the following Syntaxes.\n",
    "\n",
    "![image.png](attachment:image.png)\n"
   ]
  },
  {
   "cell_type": "code",
   "execution_count": 22,
   "id": "4b8ea9d1",
   "metadata": {},
   "outputs": [
    {
     "name": "stdout",
     "output_type": "stream",
     "text": [
      "i= 0 j= 0\n",
      "i= 0 j= 1\n",
      "i= 1 j= 0\n",
      "i= 1 j= 1\n",
      "i= 2 j= 0\n",
      "i= 2 j= 1\n"
     ]
    }
   ],
   "source": [
    "for i in range(3):\n",
    "    for j in range(2):\n",
    "        print(\"i=\",i,\"j=\",j)"
   ]
  },
  {
   "cell_type": "code",
   "execution_count": 23,
   "id": "49e9b6ed",
   "metadata": {},
   "outputs": [
    {
     "name": "stdout",
     "output_type": "stream",
     "text": [
      "ds\n",
      "ds\n",
      "ds\n",
      "ds\n"
     ]
    }
   ],
   "source": [
    "for i in range(2):\n",
    "    for j in range(2):\n",
    "        print(\"ds\")"
   ]
  },
  {
   "cell_type": "code",
   "execution_count": 26,
   "id": "02cca94a",
   "metadata": {},
   "outputs": [
    {
     "name": "stdout",
     "output_type": "stream",
     "text": [
      "29\n",
      "30\n",
      "31\n",
      "29\n",
      "30\n",
      "31\n"
     ]
    }
   ],
   "source": [
    "for i in [1,5]:\n",
    "    a=14\n",
    "    b=a+14\n",
    "    for j in range(1,4):\n",
    "        c=j+b\n",
    "        print(c)\n",
    "        "
   ]
  },
  {
   "cell_type": "code",
   "execution_count": 27,
   "id": "e1b69562",
   "metadata": {},
   "outputs": [
    {
     "name": "stdout",
     "output_type": "stream",
     "text": [
      "[21, 24, 24, 20]\n"
     ]
    }
   ],
   "source": [
    "'''WAPP which will takes two list l1=[11,14,12,11] & l2=[10,10,12,9]\n",
    " and gives the output as l=[21,24,24,20] by using for loop.'''\n",
    "\n",
    "l1=[11,14,12,11]\n",
    "l2=[10,10,12,9]\n",
    "\n",
    "# Taking empty list\n",
    "l=[]\n",
    "for i in range(0,4):\n",
    "    # Adding l1 & l2 with each iterated element and assign in object \"a\".\n",
    "    a=l1[i]+l2[i]\n",
    "    \n",
    "    # Adding each modified element to the new list.\n",
    "    l.append(a)\n",
    "    \n",
    "# print the new list.\n",
    "print(l)\n"
   ]
  },
  {
   "cell_type": "code",
   "execution_count": 28,
   "id": "57b5bbdd",
   "metadata": {},
   "outputs": [
    {
     "name": "stdout",
     "output_type": "stream",
     "text": [
      "[21, 24, 24, 20]\n"
     ]
    }
   ],
   "source": [
    "'''WAPP which will takes two list l1=[11,14,12,11] & l2=[10,10,12,9]\n",
    " and gives the output as l=[21,24,24,20] by using Nested for loop.'''\n",
    "\n",
    "l1=[11,14,12,11]\n",
    "l2=[10,10,12,9]\n",
    "\n",
    "# Taking empty list\n",
    "l=[]\n",
    "for i in range(0,len(l1)):\n",
    "    for j in range(0,len(l2)):\n",
    "        \n",
    "        # If \"i\" value is equal to \"j\" then add the elements.\n",
    "        if (i==j):\n",
    "            # Adding l1 & l2 with each iterated element and assign in object \"a\".\n",
    "            a=l1[i]+l2[i]\n",
    "            \n",
    "            # Adding each modified element to the new list.\n",
    "            l.append(a)\n",
    "    \n",
    "# print the new list.\n",
    "print(l)\n"
   ]
  },
  {
   "attachments": {
    "image.png": {
     "image/png": "[encoded data removed]"
    }
   },
   "cell_type": "markdown",
   "id": "d01b3b9e",
   "metadata": {},
   "source": [
    "# Loops Termination\n",
    "# Break\n",
    "- break is a key word.\n",
    "- The purpose of break statement is that \"To terminate the execution of loop logically when certain condition is \n",
    "  satisfied and PVM control comes of corresponding loop and executes other statements in the program\".\n",
    "- when break statement takes place inside for loop or while loop then PVM will not execute corresponding else block\n",
    "  (bcoz loop is not becoming False) but it executes other statements in the program.\n",
    "\n",
    "- <b> If for loop gets executed without break then else will execite.\n",
    "- <b> If for loop gets executed with break then else will not execute.\n",
    "\n",
    "![image.png](attachment:image.png)\n"
   ]
  },
  {
   "cell_type": "code",
   "execution_count": 41,
   "id": "3e1ab2c3",
   "metadata": {},
   "outputs": [
    {
     "name": "stdout",
     "output_type": "stream",
     "text": [
      "1\n",
      "2\n",
      "3\n"
     ]
    }
   ],
   "source": [
    "numbers = [1,2,3,4,5]\n",
    "\n",
    "for i in numbers:\n",
    "    if i==3:\n",
    "        print(i)\n",
    "        break\n",
    "    print(i)"
   ]
  },
  {
   "cell_type": "code",
   "execution_count": 43,
   "id": "ae93cad6",
   "metadata": {},
   "outputs": [
    {
     "name": "stdout",
     "output_type": "stream",
     "text": [
      "3\n"
     ]
    }
   ],
   "source": [
    "numbers = [1,2,3,4,5]\n",
    "\n",
    "for i in numbers:\n",
    "    if i==3:\n",
    "        break\n",
    "print(i)"
   ]
  },
  {
   "cell_type": "code",
   "execution_count": 44,
   "id": "d93c6430",
   "metadata": {},
   "outputs": [
    {
     "name": "stdout",
     "output_type": "stream",
     "text": [
      "3\n"
     ]
    }
   ],
   "source": [
    "numbers = [1,2,3,4,5]\n",
    "\n",
    "for i in numbers:\n",
    "    if i==3:\n",
    "        print(i)\n",
    "        break\n"
   ]
  },
  {
   "cell_type": "code",
   "execution_count": 46,
   "id": "779c3409",
   "metadata": {},
   "outputs": [],
   "source": [
    "numbers = [1,2,3,4,5]\n",
    "\n",
    "for i in numbers:\n",
    "    if i==3:\n",
    "        break\n",
    "        print(i)  # No Output because printing after break statement."
   ]
  },
  {
   "cell_type": "code",
   "execution_count": 56,
   "id": "9352292b",
   "metadata": {},
   "outputs": [
    {
     "name": "stdout",
     "output_type": "stream",
     "text": [
      "P\n",
      "Y\n",
      "T\n",
      "H\n",
      "O\n",
      "N\n",
      "******************************\n",
      "P\n",
      "Y\n",
      "T\n"
     ]
    }
   ],
   "source": [
    "# Program for demonstrating break statement--for loop\n",
    "\n",
    "s=\"PYTHON\"\n",
    "for v in s:\n",
    "    print(v)\n",
    "print(\"*\"*30)\n",
    "for v in s:\n",
    "    if (v==\"H\"):\n",
    "        break\n",
    "    print(v)\n",
    "    "
   ]
  },
  {
   "cell_type": "code",
   "execution_count": 57,
   "id": "6b810a2a",
   "metadata": {},
   "outputs": [
    {
     "name": "stdout",
     "output_type": "stream",
     "text": [
      "P\n",
      "Y\n",
      "T\n",
      "H\n",
      "O\n",
      "N\n",
      "******************************\n",
      "P\n",
      "Y\n",
      "T\n"
     ]
    }
   ],
   "source": [
    "# Program for demonstrating break statement--for loop\n",
    "\n",
    "s=\"PYTHON\"\n",
    "for v in s:\n",
    "    print(v)\n",
    "print(\"*\"*30)\n",
    "for v in s:\n",
    "    if (v==\"H\"):\n",
    "        break \n",
    "        \n",
    "    # If for loop gets executed without break then else will execite.\n",
    "    else:    \n",
    "        print(v)"
   ]
  },
  {
   "cell_type": "code",
   "execution_count": 75,
   "id": "cbd27f8e",
   "metadata": {},
   "outputs": [
    {
     "name": "stdout",
     "output_type": "stream",
     "text": [
      "P\n",
      "Y\n",
      "T\n",
      "H\n",
      "O\n",
      "N\n",
      "******************************\n",
      "------------------------------\n",
      "------------------------------\n",
      "------------------------------\n"
     ]
    }
   ],
   "source": [
    "# Program for demonstrating break statement--for loop\n",
    "\n",
    "s=\"PYTHON\"\n",
    "for v in s:\n",
    "    print(v)\n",
    "print(\"*\"*30)\n",
    "for v in s:\n",
    "    if (v==\"H\"):\n",
    "        break \n",
    "        \n",
    "    # If for loop gets executed without break then else will execite.\n",
    "    else:         \n",
    "        print(\"-\"*30)\n",
    "        \n",
    "# If for loop gets executed with break then else will not execite.\n",
    "else:             \n",
    "    print(v)"
   ]
  },
  {
   "cell_type": "code",
   "execution_count": 59,
   "id": "150c4e4b",
   "metadata": {},
   "outputs": [
    {
     "name": "stdout",
     "output_type": "stream",
     "text": [
      "\t10\n",
      "\tRossum\n",
      "\t34.56\n",
      "\tTrue\n",
      "\t(2+3j)\n",
      "\tFalse\n",
      "\tPython\n",
      "------------------------------------------------\n",
      "\t10\n",
      "\tRossum\n",
      "\t34.56\n",
      "\tTrue\n"
     ]
    }
   ],
   "source": [
    "#Program for demonstrating break statement--for loop\n",
    "\n",
    "# User given list.\n",
    "lst=[10,\"Rossum\",34.56,True,2+3j,False,\"Python\"]\n",
    "\n",
    "for val in lst:\n",
    "    # printing the each elements within the list.\n",
    "    print(\"\\t{}\".format(val))\n",
    "    \n",
    "# Here else block will executes, because there is no any break statement.\n",
    "else:\n",
    "    print(\"------------------------------------------------\")\n",
    "\n",
    "for val in lst:\n",
    "    # If \"val==2+3j\" then break.\n",
    "    if(val==2+3j):\n",
    "        break\n",
    "    # If for loop gets executed without break then else will execite. \n",
    "    else:\n",
    "        print(\"\\t{}\".format(val))\n",
    "        \n",
    "# If for loop gets executed with break then else will not execite.        \n",
    "else:\n",
    "    print(\"=========================\")\n"
   ]
  },
  {
   "cell_type": "code",
   "execution_count": 66,
   "id": "f9ec82e4",
   "metadata": {},
   "outputs": [
    {
     "name": "stdout",
     "output_type": "stream",
     "text": [
      "Enter a number:19\n",
      "19 is PRIME NUMBER:\n"
     ]
    }
   ],
   "source": [
    "# Program for deciding whether the given number is prime or not.\n",
    "\n",
    "# To take input from the user.\n",
    "n=int(input(\"Enter a number:\"))  \n",
    "\n",
    "# If user enters less than or equal to 1, then print the invalid input.\n",
    "if(n<=1):\n",
    "    print(\"{} is invalid input:\".format(n))\n",
    "    \n",
    "# If user enters greater than 1, then take the input.    \n",
    "else:\n",
    "    # define a dec variable.\n",
    "    dec=\"PRIME\"\n",
    "    \n",
    "    # check for factors.\n",
    "    for i in range(2,n):\n",
    "        # If n is divided by i, then break out the loop with \"NOTPRIME\".\n",
    "        if(n%i==0):\n",
    "            dec=\"NOTPRIME\"\n",
    "            break\n",
    "    \n",
    "    # check if dec is True, then print \"n is prime number\".\n",
    "    if(dec==\"PRIME\"):\n",
    "        print(\"{} is PRIME NUMBER:\".format(n))\n",
    "        \n",
    "    # check if dec is False, then print \"n is Not Prime number\".\n",
    "    else:\n",
    "        print(\"{} is NOT PRIME NUMBER:\".format(n))\n",
    "\n"
   ]
  },
  {
   "attachments": {
    "image-2.png": {
     "image/png": "[encoded data removed]"
    }
   },
   "cell_type": "markdown",
   "id": "76245cda",
   "metadata": {},
   "source": [
    "# Continue\n",
    "- continue is a keyword.\n",
    "- continue statement is used for making the PVM to go to the top of the loop without executing the \n",
    "  following statements which are written after continue statement for that current Iteration only.\n",
    "- continue statement to be used always inside of loops.\n",
    "- when we use continue statement inside of loop then else part of corresponding loop also executes \n",
    "  provided loop condition becomes false.\n",
    "  \n",
    "![image-2.png](attachment:image-2.png)\n"
   ]
  },
  {
   "cell_type": "code",
   "execution_count": 70,
   "id": "70edd55d",
   "metadata": {},
   "outputs": [
    {
     "name": "stdout",
     "output_type": "stream",
     "text": [
      "1\n",
      "2\n",
      "3\n",
      "5\n",
      "6\n",
      "7\n"
     ]
    }
   ],
   "source": [
    "numbers = [1,2,3,4,5,6,7]\n",
    "\n",
    "for num in numbers:\n",
    "    if (num==4):\n",
    "        continue\n",
    "    print(num)\n",
    "        "
   ]
  },
  {
   "cell_type": "code",
   "execution_count": 71,
   "id": "619d701b",
   "metadata": {},
   "outputs": [
    {
     "name": "stdout",
     "output_type": "stream",
     "text": [
      "\tP\n",
      "\tY\n",
      "\tT\n",
      "\tH\n",
      "\tO\n",
      "\tN\n",
      "---------------------------------------\n",
      "\tP\n",
      "\tY\n",
      "\tT\n",
      "\tO\n",
      "\tN\n"
     ]
    }
   ],
   "source": [
    "#Program for demonstrating continue statement\n",
    "\n",
    "# To take input from user.\n",
    "s=\"PYTHON\"\n",
    "\n",
    "# for loop without continue statement.\n",
    "for v in s:\n",
    "    print(\"\\t{}\".format(v))\n",
    "else:\n",
    "    print(\"---------------------------------------\")\n",
    "\n",
    "# for loop with continue statement.\n",
    "for v in s:\n",
    "    if(v==\"H\"):\n",
    "        continue\n",
    "    else:\n",
    "        print(\"\\t{}\".format(v))  # else block will be executes.\n"
   ]
  }
 ],
 "metadata": {
  "kernelspec": {
   "display_name": "Python 3 (ipykernel)",
   "language": "python",
   "name": "python3"
  },
  "language_info": {
   "codemirror_mode": {
    "name": "ipython",
    "version": 3
   },
   "file_extension": ".py",
   "mimetype": "text/x-python",
   "name": "python",
   "nbconvert_exporter": "python",
   "pygments_lexer": "ipython3",
   "version": "3.9.13"
  }
 },
 "nbformat": 4,
 "nbformat_minor": 5
}
