{
 "cells": [
  {
   "cell_type": "markdown",
   "id": "68d8f349",
   "metadata": {},
   "source": [
    "# <p style='text-align: center;'> Reading the data from Key Board in Python</p>\n",
    "In Python Programing, to read the data from Key Board, we have two pre-defined functions. They are.\n",
    "\n",
    "\n",
    "- 1) input()\n",
    "- 2) input(Message)\n",
    "\n"
   ]
  },
  {
   "cell_type": "markdown",
   "id": "a49c891d",
   "metadata": {},
   "source": [
    "# 1) input()\n",
    "This Function is used for reading any type of data from Key Board in the form of str.\n",
    "\n",
    "\n",
    "Programmatically, we can convert str type data into any Other Type of Values by using Type Casting Techniques.\n",
    "\n",
    "\n",
    "<b> Syntax:-        varname=input()\n",
    "\n",
    "    \n",
    "Here varname contains the value coming from keyboard and whose type is str.\n",
    "\n"
   ]
  },
  {
   "cell_type": "code",
   "execution_count": 1,
   "id": "1be7aaf0",
   "metadata": {},
   "outputs": [
    {
     "name": "stdout",
     "output_type": "stream",
     "text": [
      "27\n"
     ]
    }
   ],
   "source": [
    "n=input()"
   ]
  },
  {
   "cell_type": "code",
   "execution_count": 2,
   "id": "e9d988b4",
   "metadata": {},
   "outputs": [
    {
     "data": {
      "text/plain": [
       "'27'"
      ]
     },
     "execution_count": 2,
     "metadata": {},
     "output_type": "execute_result"
    }
   ],
   "source": [
    "n"
   ]
  },
  {
   "cell_type": "code",
   "execution_count": 3,
   "id": "d3055088",
   "metadata": {},
   "outputs": [
    {
     "data": {
      "text/plain": [
       "str"
      ]
     },
     "execution_count": 3,
     "metadata": {},
     "output_type": "execute_result"
    }
   ],
   "source": [
    "type(n)         # By Default input function takes \"str\" data type."
   ]
  },
  {
   "cell_type": "markdown",
   "id": "88010108",
   "metadata": {},
   "source": [
    "# 2) input(Message)\n",
    "This Function is used for reading any type of data from Key Board in the form of str and with this function additionally it can give User-Prompting Message(s).\n",
    "\n",
    "\n",
    "<b> Syntax:-    varname=input(\"Message\")\n",
    "\n",
    "    \n",
    "Here varname contains the value coming from keyboard and whose type is str.\n",
    "\n",
    "    \n",
    "Here \"Message\" represents User-Prompting Message(s).\n"
   ]
  },
  {
   "cell_type": "code",
   "execution_count": 5,
   "id": "753bbe96",
   "metadata": {},
   "outputs": [
    {
     "name": "stdout",
     "output_type": "stream",
     "text": [
      "Enter your age:29\n"
     ]
    }
   ],
   "source": [
    "n1=input(\"Enter your age:\")"
   ]
  },
  {
   "cell_type": "code",
   "execution_count": 7,
   "id": "f7d909cc",
   "metadata": {},
   "outputs": [
    {
     "data": {
      "text/plain": [
       "str"
      ]
     },
     "execution_count": 7,
     "metadata": {},
     "output_type": "execute_result"
    }
   ],
   "source": [
    "type(n1)"
   ]
  },
  {
   "cell_type": "code",
   "execution_count": 8,
   "id": "0c5387f9",
   "metadata": {},
   "outputs": [
    {
     "data": {
      "text/plain": [
       "'29'"
      ]
     },
     "execution_count": 8,
     "metadata": {},
     "output_type": "execute_result"
    }
   ],
   "source": [
    "n1"
   ]
  },
  {
   "cell_type": "code",
   "execution_count": 10,
   "id": "b443ca7f",
   "metadata": {},
   "outputs": [
    {
     "name": "stdout",
     "output_type": "stream",
     "text": [
      "Enter your age:29\n",
      "You are already 29 years old\n"
     ]
    }
   ],
   "source": [
    "age=input(\"Enter your age:\")\n",
    "print(\"You are already \"+ age + \" years old\")"
   ]
  }
 ],
 "metadata": {
  "kernelspec": {
   "display_name": "Python 3 (ipykernel)",
   "language": "python",
   "name": "python3"
  },
  "language_info": {
   "codemirror_mode": {
    "name": "ipython",
    "version": 3
   },
   "file_extension": ".py",
   "mimetype": "text/x-python",
   "name": "python",
   "nbconvert_exporter": "python",
   "pygments_lexer": "ipython3",
   "version": "3.9.13"
  }
 },
 "nbformat": 4,
 "nbformat_minor": 5
}
