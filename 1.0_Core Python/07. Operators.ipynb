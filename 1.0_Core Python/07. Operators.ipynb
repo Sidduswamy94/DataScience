{
 "cells": [
  {
   "cell_type": "markdown",
   "id": "9c98ff8e",
   "metadata": {},
   "source": [
    "# Operators and Expressions in Python\n",
    "- Operators are special symbols in Python that carry out arithmetic or logical computation.\n",
    "- If any two or more Objects (or) Variables connected with an Operator then it is called Expression.\n",
    "\n",
    "# Operators Types :\n",
    "1. Arithmetic Operators\n",
    "2. Assignment Operator\n",
    "3. Comparison (Relational) Operators\n",
    "4. Logical (Boolean) Operators\n",
    "5. Membership Operators\n",
    "\t    a) in\n",
    "\t\tb) not in\n",
    "6. Identity Operators\n",
    "\t\ta) is\n",
    "\t\tb) is not\n"
   ]
  },
  {
   "cell_type": "markdown",
   "id": "3019c5b6",
   "metadata": {},
   "source": [
    "# 1. Arithmetic Operators\n",
    "- The purpose of Arithmetic Operators is that \"To Perform Arithmetic Operations such Addition, \n",
    "  Subtraction, Multiplication etc\".\n",
    "- If any two or more objects or variables connected with Arithmetic Operators then it is called Arithmetic Expression.\n",
    "- Python programming contains 7 Arithmetic Operators and they are given in the following Table.\n",
    "\n",
    "\n",
    "- \"+\",\"-\",\"*\",\"/\",\"//\",\"%\",\"**\" are arithmetic operators.\n"
   ]
  },
  {
   "cell_type": "code",
   "execution_count": 1,
   "id": "0e358ddf",
   "metadata": {},
   "outputs": [
    {
     "data": {
      "text/plain": [
       "8"
      ]
     },
     "execution_count": 1,
     "metadata": {},
     "output_type": "execute_result"
    }
   ],
   "source": [
    "#Addition\n",
    "3+5"
   ]
  },
  {
   "cell_type": "code",
   "execution_count": 2,
   "id": "ea652d17",
   "metadata": {},
   "outputs": [
    {
     "data": {
      "text/plain": [
       "17"
      ]
     },
     "execution_count": 2,
     "metadata": {},
     "output_type": "execute_result"
    }
   ],
   "source": [
    "#Subtraction\n",
    "50-33"
   ]
  },
  {
   "cell_type": "code",
   "execution_count": 3,
   "id": "7a97fa26",
   "metadata": {},
   "outputs": [
    {
     "data": {
      "text/plain": [
       "110"
      ]
     },
     "execution_count": 3,
     "metadata": {},
     "output_type": "execute_result"
    }
   ],
   "source": [
    "#Multiplication\n",
    "11*10"
   ]
  },
  {
   "cell_type": "markdown",
   "id": "11e2779e",
   "metadata": {},
   "source": [
    "- <b> Division always gives output as float"
   ]
  },
  {
   "cell_type": "code",
   "execution_count": 4,
   "id": "8b7fbb58",
   "metadata": {},
   "outputs": [
    {
     "data": {
      "text/plain": [
       "30.0"
      ]
     },
     "execution_count": 4,
     "metadata": {},
     "output_type": "execute_result"
    }
   ],
   "source": [
    "#Division \n",
    "120/4"
   ]
  },
  {
   "cell_type": "code",
   "execution_count": 6,
   "id": "ccbd7858",
   "metadata": {},
   "outputs": [
    {
     "data": {
      "text/plain": [
       "3"
      ]
     },
     "execution_count": 6,
     "metadata": {},
     "output_type": "execute_result"
    }
   ],
   "source": [
    "#Floor Division-----quatient\n",
    "14//4"
   ]
  },
  {
   "cell_type": "code",
   "execution_count": 7,
   "id": "30b0b048",
   "metadata": {},
   "outputs": [
    {
     "data": {
      "text/plain": [
       "2"
      ]
     },
     "execution_count": 7,
     "metadata": {},
     "output_type": "execute_result"
    }
   ],
   "source": [
    "#Modulo Division----remainder\n",
    "14%4"
   ]
  },
  {
   "cell_type": "code",
   "execution_count": 11,
   "id": "2b326b57",
   "metadata": {},
   "outputs": [
    {
     "data": {
      "text/plain": [
       "81"
      ]
     },
     "execution_count": 11,
     "metadata": {},
     "output_type": "execute_result"
    }
   ],
   "source": [
    "#Power/Exponent\n",
    "3**4"
   ]
  },
  {
   "cell_type": "code",
   "execution_count": 12,
   "id": "1b5f5081",
   "metadata": {},
   "outputs": [
    {
     "data": {
      "text/plain": [
       "132"
      ]
     },
     "execution_count": 12,
     "metadata": {},
     "output_type": "execute_result"
    }
   ],
   "source": [
    "# Paranthesis\n",
    "(2+4) * (10+12)"
   ]
  },
  {
   "cell_type": "markdown",
   "id": "25dc3df0",
   "metadata": {},
   "source": [
    "# Arithmetic Operators Precedence\n",
    "1. Paranthesis\n",
    "2. Exponents\n",
    "3. Floor Division\n",
    "4. Division / Multiplication\n",
    "5. Modulus Division\n",
    "6. Addition / Subtraction"
   ]
  },
  {
   "cell_type": "code",
   "execution_count": 13,
   "id": "562c300b",
   "metadata": {},
   "outputs": [
    {
     "data": {
      "text/plain": [
       "21.0"
      ]
     },
     "execution_count": 13,
     "metadata": {},
     "output_type": "execute_result"
    }
   ],
   "source": [
    "5*5+5/5-5"
   ]
  },
  {
   "cell_type": "markdown",
   "id": "ca950550",
   "metadata": {},
   "source": [
    "- <b> When we use arithmetic operators, the boolean values will be automatically converted into int."
   ]
  },
  {
   "cell_type": "code",
   "execution_count": 15,
   "id": "3eec974a",
   "metadata": {},
   "outputs": [
    {
     "data": {
      "text/plain": [
       "2"
      ]
     },
     "execution_count": 15,
     "metadata": {},
     "output_type": "execute_result"
    }
   ],
   "source": [
    "True + True"
   ]
  },
  {
   "cell_type": "code",
   "execution_count": 19,
   "id": "7c71a0ea",
   "metadata": {},
   "outputs": [
    {
     "data": {
      "text/plain": [
       "3.9"
      ]
     },
     "execution_count": 19,
     "metadata": {},
     "output_type": "execute_result"
    }
   ],
   "source": [
    "b=3.9\n",
    "c=False\n",
    "b+c"
   ]
  },
  {
   "cell_type": "code",
   "execution_count": 20,
   "id": "df2dc698",
   "metadata": {},
   "outputs": [
    {
     "ename": "ZeroDivisionError",
     "evalue": "float division by zero",
     "output_type": "error",
     "traceback": [
      "\u001b[1;31m---------------------------------------------------------------------------\u001b[0m",
      "\u001b[1;31mZeroDivisionError\u001b[0m                         Traceback (most recent call last)",
      "\u001b[1;32m~\\AppData\\Local\\Temp\\ipykernel_4160\\3526177587.py\u001b[0m in \u001b[0;36m<module>\u001b[1;34m\u001b[0m\n\u001b[0;32m      1\u001b[0m \u001b[0mb\u001b[0m\u001b[1;33m=\u001b[0m\u001b[1;36m3.9\u001b[0m\u001b[1;33m\u001b[0m\u001b[1;33m\u001b[0m\u001b[0m\n\u001b[0;32m      2\u001b[0m \u001b[0mc\u001b[0m\u001b[1;33m=\u001b[0m\u001b[1;32mFalse\u001b[0m\u001b[1;33m\u001b[0m\u001b[1;33m\u001b[0m\u001b[0m\n\u001b[1;32m----> 3\u001b[1;33m \u001b[0mb\u001b[0m\u001b[1;33m/\u001b[0m\u001b[0mc\u001b[0m\u001b[1;33m\u001b[0m\u001b[1;33m\u001b[0m\u001b[0m\n\u001b[0m",
      "\u001b[1;31mZeroDivisionError\u001b[0m: float division by zero"
     ]
    }
   ],
   "source": [
    "b=3.9\n",
    "c=False\n",
    "b/c"
   ]
  },
  {
   "cell_type": "code",
   "execution_count": 22,
   "id": "ab2aaef8",
   "metadata": {},
   "outputs": [
    {
     "name": "stdout",
     "output_type": "stream",
     "text": [
      "Enter Value of a:10\n",
      "Enter Value of b:3\n",
      "\tArithmetic Operators Result\n",
      "\tsum(10,3)=13\n",
      "\tsub(10,3)=7\n",
      "\tmul(10,3)=30\n",
      "\tDiv(10,3)=3.3333333333333335\n",
      "\tFloorDiv(10,3)=3\n",
      "\tMod(10,3)=1\n",
      "\tExpo(10,3)=1000\n"
     ]
    }
   ],
   "source": [
    "#Program for demonstrating functionality of Arithmetic Operators\n",
    "\n",
    "# Ask user to enter two integer values\n",
    "a=int(input(\"Enter Value of a:\"))\n",
    "b=int(input(\"Enter Value of b:\"))\n",
    "\n",
    "# Print  Text \"Arithmetic Operators Result\".\n",
    "print(\"\\tArithmetic Operators Result\")\n",
    "\n",
    "# Addition of two values\n",
    "print(\"\\tsum({},{})={}\".format(a,b,a+b))\n",
    "# Subtraction of two values\n",
    "print(\"\\tsub({},{})={}\".format(a,b,a-b))\n",
    "# Multiplication of two values\n",
    "print(\"\\tmul({},{})={}\".format(a,b,a*b))\n",
    "# Division of two values\n",
    "print(\"\\tDiv({},{})={}\".format(a,b,a/b))\n",
    "# Floor Division of two values\n",
    "print(\"\\tFloorDiv({},{})={}\".format(a,b,a//b))\n",
    "# Modulo Division of two values\n",
    "print(\"\\tMod({},{})={}\".format(a,b,a%b))\n",
    "# Exponent of two values\n",
    "print(\"\\tExpo({},{})={}\".format(a,b,a**b))\n"
   ]
  },
  {
   "cell_type": "markdown",
   "id": "f5935a4e",
   "metadata": {},
   "source": [
    "# 2. Assignment Operator\n",
    "- Assignment operators are used in Python to asign values to variables.\n",
    "- The Purpose of Assignment Operator is that \"To Transfer Right Hand Side Value / Expression to \n",
    "  the Left Hand Side Variable / Object\".\n",
    "  \n",
    "  \n",
    "- (=, +=, -=, /=, //=, %=, **=) are assignment operators.\n"
   ]
  },
  {
   "cell_type": "code",
   "execution_count": 23,
   "id": "227e9df1",
   "metadata": {},
   "outputs": [
    {
     "data": {
      "text/plain": [
       "10"
      ]
     },
     "execution_count": 23,
     "metadata": {},
     "output_type": "execute_result"
    }
   ],
   "source": [
    "a=10\n",
    "a"
   ]
  },
  {
   "cell_type": "code",
   "execution_count": 24,
   "id": "2caaeb52",
   "metadata": {},
   "outputs": [
    {
     "data": {
      "text/plain": [
       "3053133982288"
      ]
     },
     "execution_count": 24,
     "metadata": {},
     "output_type": "execute_result"
    }
   ],
   "source": [
    "id(a)"
   ]
  },
  {
   "cell_type": "code",
   "execution_count": 25,
   "id": "628ab8e9",
   "metadata": {},
   "outputs": [
    {
     "data": {
      "text/plain": [
       "11"
      ]
     },
     "execution_count": 25,
     "metadata": {},
     "output_type": "execute_result"
    }
   ],
   "source": [
    "a+=1        # a=a+1\n",
    "a"
   ]
  },
  {
   "cell_type": "code",
   "execution_count": 26,
   "id": "c68d1695",
   "metadata": {},
   "outputs": [
    {
     "data": {
      "text/plain": [
       "3053133982320"
      ]
     },
     "execution_count": 26,
     "metadata": {},
     "output_type": "execute_result"
    }
   ],
   "source": [
    "id(a)"
   ]
  },
  {
   "cell_type": "code",
   "execution_count": 27,
   "id": "309bc00b",
   "metadata": {},
   "outputs": [
    {
     "data": {
      "text/plain": [
       "7"
      ]
     },
     "execution_count": 27,
     "metadata": {},
     "output_type": "execute_result"
    }
   ],
   "source": [
    "a-=4    #a=a-4\n",
    "a"
   ]
  },
  {
   "cell_type": "code",
   "execution_count": 28,
   "id": "f19bbd31",
   "metadata": {},
   "outputs": [
    {
     "data": {
      "text/plain": [
       "3.5"
      ]
     },
     "execution_count": 28,
     "metadata": {},
     "output_type": "execute_result"
    }
   ],
   "source": [
    "a/=2    #a=a/2\n",
    "a"
   ]
  },
  {
   "cell_type": "code",
   "execution_count": 36,
   "id": "1b5a8a01",
   "metadata": {},
   "outputs": [
    {
     "data": {
      "text/plain": [
       "6"
      ]
     },
     "execution_count": 36,
     "metadata": {},
     "output_type": "execute_result"
    }
   ],
   "source": [
    "a=20\n",
    "a//=3     #a=a//3\n",
    "a"
   ]
  },
  {
   "cell_type": "code",
   "execution_count": 37,
   "id": "a0368f9f",
   "metadata": {},
   "outputs": [
    {
     "data": {
      "text/plain": [
       "2"
      ]
     },
     "execution_count": 37,
     "metadata": {},
     "output_type": "execute_result"
    }
   ],
   "source": [
    "a=20\n",
    "a%=3     #a=a%3\n",
    "a"
   ]
  },
  {
   "cell_type": "code",
   "execution_count": 38,
   "id": "6f3d8376",
   "metadata": {},
   "outputs": [
    {
     "data": {
      "text/plain": [
       "8000"
      ]
     },
     "execution_count": 38,
     "metadata": {},
     "output_type": "execute_result"
    }
   ],
   "source": [
    "a=20\n",
    "a**=3     #a=a**3\n",
    "a"
   ]
  },
  {
   "cell_type": "code",
   "execution_count": 163,
   "id": "db047245",
   "metadata": {},
   "outputs": [
    {
     "name": "stdout",
     "output_type": "stream",
     "text": [
      "Enter First Value:10\n",
      "Enter Second Value:3\n",
      "sum=13\n",
      "sub=7\n",
      "mul=30\n",
      "division=3.3333333333333335\n",
      "floor div=3\n",
      "Mod=1\n",
      "Exp=1000\n"
     ]
    }
   ],
   "source": [
    "''' Program for cal all type of Arithmetic Operations by using \n",
    "Multi line assigments.'''\n",
    "\n",
    "# Ask user to enter two values.\n",
    "a=int(input(\"Enter First Value:\"))\n",
    "b=int(input(\"Enter Second Value:\"))\n",
    "\n",
    "#Calculations - Multiline assignment\n",
    "aop,sop,mop,dop,fdop,mdop,exop=a+b,a-b,a*b,a/b,a//b,a%b,a**b\n",
    "\n",
    "# Addition of two values\n",
    "print(\"sum={}\".format(aop))\n",
    "\n",
    "# Subtraction of two values\n",
    "print(\"sub={}\".format(sop))\n",
    "\n",
    "# Multiplication of two values\n",
    "print(\"mul={}\".format(mop))\n",
    "\n",
    "# Division of two values\n",
    "print(\"division={}\".format(dop))\n",
    "\n",
    "# Floor Divisionn of two values\n",
    "print(\"floor div={}\".format(fdop))\n",
    "\n",
    "# Modulo Division of two values\n",
    "print(\"Mod={}\".format(mdop))\n",
    "\n",
    "# Exponentiation of two values\n",
    "print(\"Exp={}\".format(exop))\n"
   ]
  },
  {
   "cell_type": "code",
   "execution_count": 39,
   "id": "e9a02b30",
   "metadata": {},
   "outputs": [
    {
     "name": "stdout",
     "output_type": "stream",
     "text": [
      "Enter First Value:10\n",
      "Enter Second Value:20\n",
      "--------------------------------------------------\n",
      "Original Values:\n",
      "Value of a=10\tValue of b=20\n",
      "--------------------------------------------------\n",
      "Swapped Values:\n",
      "Value of a=20\tValue of b=10\n",
      "--------------------------------------------------\n"
     ]
    }
   ],
   "source": [
    "#Program for cal Swapping any two by using Multi line assigments.\n",
    "\n",
    "# Ask user to enter two values.\n",
    "a,b=input(\"Enter First Value:\") , input(\"Enter Second Value:\")\n",
    "print(\"-\"*50)\n",
    "print(\"Original Values:\")\n",
    "print(\"Value of a={}\\tValue of b={}\".format(a,b))\n",
    "print(\"-\"*50)\n",
    "#Swapping Logic\n",
    "a,b,=b,a # Multi Line assigment\n",
    "print(\"Swapped Values:\")\n",
    "print(\"Value of a={}\\tValue of b={}\".format(a,b))\n",
    "print(\"-\"*50)\n"
   ]
  },
  {
   "cell_type": "markdown",
   "id": "0c68594b",
   "metadata": {},
   "source": [
    "# 3. Comparison (Relational) Operators\n",
    "- The Purpose of Relational Operators is that \"To Compare Two or More Values\".\n",
    "- If two or more variables / Values / objects connected with Relational Operator \n",
    "  then it is called Relational Expression.\n",
    "- Relational Expressions are also called Test Conditions and whose result is \n",
    "  always either to be True or False (bool type result).\n",
    " \n",
    " \n",
    "- <b> (>, <, >=, <=, ==, !=) are comparison operators.\n"
   ]
  },
  {
   "cell_type": "code",
   "execution_count": 40,
   "id": "56b1ee91",
   "metadata": {},
   "outputs": [
    {
     "data": {
      "text/plain": [
       "True"
      ]
     },
     "execution_count": 40,
     "metadata": {},
     "output_type": "execute_result"
    }
   ],
   "source": [
    "# is greater than\n",
    "10>8"
   ]
  },
  {
   "cell_type": "code",
   "execution_count": 41,
   "id": "562eccd0",
   "metadata": {},
   "outputs": [
    {
     "data": {
      "text/plain": [
       "False"
      ]
     },
     "execution_count": 41,
     "metadata": {},
     "output_type": "execute_result"
    }
   ],
   "source": [
    "# is less than\n",
    "45<12"
   ]
  },
  {
   "cell_type": "code",
   "execution_count": 42,
   "id": "42bd4442",
   "metadata": {},
   "outputs": [
    {
     "data": {
      "text/plain": [
       "True"
      ]
     },
     "execution_count": 42,
     "metadata": {},
     "output_type": "execute_result"
    }
   ],
   "source": [
    "# is less than\n",
    "11<12"
   ]
  },
  {
   "cell_type": "code",
   "execution_count": 43,
   "id": "f519ca0a",
   "metadata": {},
   "outputs": [
    {
     "data": {
      "text/plain": [
       "True"
      ]
     },
     "execution_count": 43,
     "metadata": {},
     "output_type": "execute_result"
    }
   ],
   "source": [
    "3*3 < 3*4"
   ]
  },
  {
   "cell_type": "code",
   "execution_count": 44,
   "id": "0ea24fe1",
   "metadata": {},
   "outputs": [
    {
     "data": {
      "text/plain": [
       "True"
      ]
     },
     "execution_count": 44,
     "metadata": {},
     "output_type": "execute_result"
    }
   ],
   "source": [
    "# is equal to\n",
    "22==22"
   ]
  },
  {
   "cell_type": "code",
   "execution_count": 45,
   "id": "4c8927ed",
   "metadata": {},
   "outputs": [
    {
     "data": {
      "text/plain": [
       "False"
      ]
     },
     "execution_count": 45,
     "metadata": {},
     "output_type": "execute_result"
    }
   ],
   "source": [
    "# is equal to\n",
    "20==12"
   ]
  },
  {
   "cell_type": "code",
   "execution_count": 46,
   "id": "153b2dd1",
   "metadata": {},
   "outputs": [
    {
     "data": {
      "text/plain": [
       "False"
      ]
     },
     "execution_count": 46,
     "metadata": {},
     "output_type": "execute_result"
    }
   ],
   "source": [
    "# is not equal to\n",
    "22!=22"
   ]
  },
  {
   "cell_type": "code",
   "execution_count": 48,
   "id": "0b265cb2",
   "metadata": {},
   "outputs": [
    {
     "data": {
      "text/plain": [
       "True"
      ]
     },
     "execution_count": 48,
     "metadata": {},
     "output_type": "execute_result"
    }
   ],
   "source": [
    "# is not equal to\n",
    "212!=122"
   ]
  },
  {
   "cell_type": "code",
   "execution_count": 49,
   "id": "e8df6519",
   "metadata": {},
   "outputs": [
    {
     "data": {
      "text/plain": [
       "True"
      ]
     },
     "execution_count": 49,
     "metadata": {},
     "output_type": "execute_result"
    }
   ],
   "source": [
    "# greater than or equal to\n",
    "100>=90"
   ]
  },
  {
   "cell_type": "code",
   "execution_count": 50,
   "id": "4a78b2ef",
   "metadata": {},
   "outputs": [
    {
     "data": {
      "text/plain": [
       "True"
      ]
     },
     "execution_count": 50,
     "metadata": {},
     "output_type": "execute_result"
    }
   ],
   "source": [
    "# greater than or equal to\n",
    "29>=29"
   ]
  },
  {
   "cell_type": "code",
   "execution_count": 51,
   "id": "a94812e1",
   "metadata": {},
   "outputs": [
    {
     "data": {
      "text/plain": [
       "False"
      ]
     },
     "execution_count": 51,
     "metadata": {},
     "output_type": "execute_result"
    }
   ],
   "source": [
    "# greater than or equal to\n",
    "100>=120"
   ]
  },
  {
   "cell_type": "code",
   "execution_count": 52,
   "id": "f1a8a326",
   "metadata": {},
   "outputs": [
    {
     "data": {
      "text/plain": [
       "False"
      ]
     },
     "execution_count": 52,
     "metadata": {},
     "output_type": "execute_result"
    }
   ],
   "source": [
    "# less than or equal to\n",
    "100<=90"
   ]
  },
  {
   "cell_type": "code",
   "execution_count": 53,
   "id": "bc1c92e8",
   "metadata": {},
   "outputs": [
    {
     "data": {
      "text/plain": [
       "True"
      ]
     },
     "execution_count": 53,
     "metadata": {},
     "output_type": "execute_result"
    }
   ],
   "source": [
    "# less than or equal to\n",
    "90<=90"
   ]
  },
  {
   "cell_type": "code",
   "execution_count": 54,
   "id": "7424340c",
   "metadata": {},
   "outputs": [
    {
     "data": {
      "text/plain": [
       "True"
      ]
     },
     "execution_count": 54,
     "metadata": {},
     "output_type": "execute_result"
    }
   ],
   "source": [
    "# less than or equal to\n",
    "45<=50"
   ]
  },
  {
   "cell_type": "code",
   "execution_count": 55,
   "id": "37ae122e",
   "metadata": {},
   "outputs": [
    {
     "data": {
      "text/plain": [
       "False"
      ]
     },
     "execution_count": 55,
     "metadata": {},
     "output_type": "execute_result"
    }
   ],
   "source": [
    "\"hi\"==\"HI\""
   ]
  },
  {
   "cell_type": "code",
   "execution_count": 56,
   "id": "f727a01f",
   "metadata": {},
   "outputs": [
    {
     "data": {
      "text/plain": [
       "True"
      ]
     },
     "execution_count": 56,
     "metadata": {},
     "output_type": "execute_result"
    }
   ],
   "source": [
    "\"H\"==\"H\""
   ]
  },
  {
   "cell_type": "code",
   "execution_count": 57,
   "id": "cbeb85f2",
   "metadata": {},
   "outputs": [
    {
     "data": {
      "text/plain": [
       "True"
      ]
     },
     "execution_count": 57,
     "metadata": {},
     "output_type": "execute_result"
    }
   ],
   "source": [
    "\"a\"!=\"A\""
   ]
  },
  {
   "cell_type": "code",
   "execution_count": 58,
   "id": "742b29ef",
   "metadata": {},
   "outputs": [
    {
     "data": {
      "text/plain": [
       "False"
      ]
     },
     "execution_count": 58,
     "metadata": {},
     "output_type": "execute_result"
    }
   ],
   "source": [
    "\"B \"==\"B\"  # Space added"
   ]
  },
  {
   "cell_type": "code",
   "execution_count": 59,
   "id": "ddf46dd4",
   "metadata": {},
   "outputs": [
    {
     "data": {
      "text/plain": [
       "False"
      ]
     },
     "execution_count": 59,
     "metadata": {},
     "output_type": "execute_result"
    }
   ],
   "source": [
    "\"a\"<\"A\""
   ]
  },
  {
   "cell_type": "code",
   "execution_count": 60,
   "id": "56cfed3b",
   "metadata": {},
   "outputs": [
    {
     "data": {
      "text/plain": [
       "True"
      ]
     },
     "execution_count": 60,
     "metadata": {},
     "output_type": "execute_result"
    }
   ],
   "source": [
    "\"b\">\"B\""
   ]
  },
  {
   "cell_type": "code",
   "execution_count": 61,
   "id": "bc4eb725",
   "metadata": {},
   "outputs": [
    {
     "data": {
      "text/plain": [
       "True"
      ]
     },
     "execution_count": 61,
     "metadata": {},
     "output_type": "execute_result"
    }
   ],
   "source": [
    "None==None"
   ]
  },
  {
   "cell_type": "code",
   "execution_count": 62,
   "id": "3cf14bb4",
   "metadata": {},
   "outputs": [
    {
     "data": {
      "text/plain": [
       "False"
      ]
     },
     "execution_count": 62,
     "metadata": {},
     "output_type": "execute_result"
    }
   ],
   "source": [
    "\"  \"==None"
   ]
  },
  {
   "cell_type": "code",
   "execution_count": 63,
   "id": "bf07bcb2",
   "metadata": {},
   "outputs": [
    {
     "data": {
      "text/plain": [
       "False"
      ]
     },
     "execution_count": 63,
     "metadata": {},
     "output_type": "execute_result"
    }
   ],
   "source": [
    "\"  \"==False"
   ]
  },
  {
   "cell_type": "code",
   "execution_count": 65,
   "id": "728a868f",
   "metadata": {},
   "outputs": [
    {
     "name": "stdout",
     "output_type": "stream",
     "text": [
      "Enter Value of a:10\n",
      "Enter Value of b:20\n",
      "Result of Various Relational Operators:\n",
      "\t10.0 > 20.0=False\n",
      "\n",
      "\t10.0 < 20.0=True\n",
      "\n",
      "\t10.0 == 20.0=False\n",
      "\n",
      "\t10.0 != 20.0=True\n",
      "\n",
      "\t10.0 >= 20.0=False\n",
      "\n",
      "\t10.0 <= 20.0=True\n"
     ]
    }
   ],
   "source": [
    "# program for demonstarting relational operators.\n",
    "\n",
    "#Ask user to enter two values.\n",
    "a,b=float(input(\"Enter Value of a:\")),float(input(\"Enter Value of b:\"))\n",
    "\n",
    "# Print \"Result of Various Relational Operators\" for display purpose.\n",
    "print(\"Result of Various Relational Operators:\")\n",
    "\n",
    "# a is greate than b\n",
    "print(\"\\t{} > {}={}\".format(a,b,a>b))\n",
    "\n",
    "# a is less than b\n",
    "print(\"\\n\\t{} < {}={}\".format(a,b,a<b))\n",
    "\n",
    "# a is equal to b\n",
    "print(\"\\n\\t{} == {}={}\".format(a,b,a==b))\n",
    "\n",
    "# a is not equal to b\n",
    "print(\"\\n\\t{} != {}={}\".format(a,b,a!=b))\n",
    "\n",
    "# a is greater than or equal to b\n",
    "print(\"\\n\\t{} >= {}={}\".format(a,b,a>=b))\n",
    "\n",
    "# a is less than or equal to b\n",
    "print(\"\\n\\t{} <= {}={}\".format(a,b,a<=b))\n"
   ]
  },
  {
   "cell_type": "markdown",
   "id": "49825725",
   "metadata": {},
   "source": [
    "# 4. Logical (Boolean) Operators\n",
    "- The purpose of Logical Operators is that \"To Compare the result of Two or more Relational Expressions\".\n",
    "- If two or more Relational Expressions or Test Conditions connected with \n",
    "  Logical Operators then it is called Logical Expression.\n",
    "- Logical Expressions are also called Compound Test Conditions and whose result is always \n",
    "  either to be True or False (bool type result).\n",
    "- In Python Programming, we have 3 types of Logical Operators. They are\n",
    "            1) and operator    \n",
    "\t\t\t2) or operator            \n",
    "\t\t\t3) not operator\n"
   ]
  },
  {
   "cell_type": "markdown",
   "id": "00eac2cc",
   "metadata": {},
   "source": [
    "#  1) and operator \n",
    "- When we have \"and\" operator -- all conditions should be True then only overall output will be True.\n"
   ]
  },
  {
   "cell_type": "code",
   "execution_count": 66,
   "id": "87d08c1f",
   "metadata": {},
   "outputs": [
    {
     "data": {
      "text/plain": [
       "True"
      ]
     },
     "execution_count": 66,
     "metadata": {},
     "output_type": "execute_result"
    }
   ],
   "source": [
    "10>5 and 20>11"
   ]
  },
  {
   "cell_type": "markdown",
   "id": "2df7a095",
   "metadata": {},
   "source": [
    "#### Short Circuit Evaluation in the case \"and\" operator:\n",
    "- If \"and\" operator connected with Two Or More Relational Expressions and if the First Relational Expression is False then PVM\n",
    "  never evaluate Second and Sub-Sequent Relational Expressions and Result of the Entire Test Conditions is Taken as FALSE. This   process is called Short Circuit Evaluation.\n"
   ]
  },
  {
   "cell_type": "code",
   "execution_count": 67,
   "id": "ddec4c79",
   "metadata": {},
   "outputs": [
    {
     "data": {
      "text/plain": [
       "False"
      ]
     },
     "execution_count": 67,
     "metadata": {},
     "output_type": "execute_result"
    }
   ],
   "source": [
    "10>15 and 13>11    # Short Circuit Evaluation "
   ]
  },
  {
   "cell_type": "code",
   "execution_count": 68,
   "id": "13e84d2a",
   "metadata": {},
   "outputs": [
    {
     "data": {
      "text/plain": [
       "False"
      ]
     },
     "execution_count": 68,
     "metadata": {},
     "output_type": "execute_result"
    }
   ],
   "source": [
    "30<10 and 20>10 and 2<4     # Short Circuit Evaluation"
   ]
  },
  {
   "cell_type": "code",
   "execution_count": 69,
   "id": "20ec4d15",
   "metadata": {},
   "outputs": [
    {
     "data": {
      "text/plain": [
       "False"
      ]
     },
     "execution_count": 69,
     "metadata": {},
     "output_type": "execute_result"
    }
   ],
   "source": [
    "30>10 and 20<10 and 2<4     # Short Circuit Evaluation"
   ]
  },
  {
   "cell_type": "code",
   "execution_count": 70,
   "id": "2173e32e",
   "metadata": {},
   "outputs": [
    {
     "data": {
      "text/plain": [
       "True"
      ]
     },
     "execution_count": 70,
     "metadata": {},
     "output_type": "execute_result"
    }
   ],
   "source": [
    "True and True"
   ]
  },
  {
   "cell_type": "code",
   "execution_count": 71,
   "id": "e387dd74",
   "metadata": {},
   "outputs": [
    {
     "data": {
      "text/plain": [
       "False"
      ]
     },
     "execution_count": 71,
     "metadata": {},
     "output_type": "execute_result"
    }
   ],
   "source": [
    "False and False"
   ]
  },
  {
   "cell_type": "code",
   "execution_count": 72,
   "id": "63de18ce",
   "metadata": {},
   "outputs": [
    {
     "data": {
      "text/plain": [
       "False"
      ]
     },
     "execution_count": 72,
     "metadata": {},
     "output_type": "execute_result"
    }
   ],
   "source": [
    "False and True "
   ]
  },
  {
   "cell_type": "code",
   "execution_count": 73,
   "id": "4820e03b",
   "metadata": {},
   "outputs": [
    {
     "data": {
      "text/plain": [
       "False"
      ]
     },
     "execution_count": 73,
     "metadata": {},
     "output_type": "execute_result"
    }
   ],
   "source": [
    "True and False"
   ]
  },
  {
   "cell_type": "markdown",
   "id": "ddd66031",
   "metadata": {},
   "source": [
    "# 2) or operator\n",
    "- When we have \"or\" operator -- atleast one condition should be True then only overall output will be True.\n"
   ]
  },
  {
   "cell_type": "code",
   "execution_count": 75,
   "id": "8e7a5b02",
   "metadata": {},
   "outputs": [
    {
     "data": {
      "text/plain": [
       "True"
      ]
     },
     "execution_count": 75,
     "metadata": {},
     "output_type": "execute_result"
    }
   ],
   "source": [
    "100>50 or 20>10"
   ]
  },
  {
   "cell_type": "code",
   "execution_count": 76,
   "id": "eadbbc65",
   "metadata": {},
   "outputs": [
    {
     "data": {
      "text/plain": [
       "True"
      ]
     },
     "execution_count": 76,
     "metadata": {},
     "output_type": "execute_result"
    }
   ],
   "source": [
    "10<1 or 20>10"
   ]
  },
  {
   "cell_type": "markdown",
   "id": "c36a8be2",
   "metadata": {},
   "source": [
    "#### Short Circuit Evaluation in the case \"or\" operator:\n",
    "- If \"or\" operator connected with Two Or More Relational Expressions and if the First Relational Expression is True \n",
    "  then PVM never evaluate Second and Sub-Sequent Relational Expressions and Result of the Entire Test Conditions is \n",
    "  Taken as TRUE. This process is called Short Circuit Evaluation.\n"
   ]
  },
  {
   "cell_type": "code",
   "execution_count": 77,
   "id": "02396d31",
   "metadata": {},
   "outputs": [
    {
     "data": {
      "text/plain": [
       "True"
      ]
     },
     "execution_count": 77,
     "metadata": {},
     "output_type": "execute_result"
    }
   ],
   "source": [
    "30>22 or 10>300      # Short circuit evaluation"
   ]
  },
  {
   "cell_type": "code",
   "execution_count": 79,
   "id": "b16f85b1",
   "metadata": {},
   "outputs": [
    {
     "data": {
      "text/plain": [
       "True"
      ]
     },
     "execution_count": 79,
     "metadata": {},
     "output_type": "execute_result"
    }
   ],
   "source": [
    "100>29 or 20>100 or 3>9     # Short circuit evaluation"
   ]
  },
  {
   "cell_type": "code",
   "execution_count": 80,
   "id": "656c252b",
   "metadata": {},
   "outputs": [
    {
     "data": {
      "text/plain": [
       "True"
      ]
     },
     "execution_count": 80,
     "metadata": {},
     "output_type": "execute_result"
    }
   ],
   "source": [
    "True or True"
   ]
  },
  {
   "cell_type": "code",
   "execution_count": 81,
   "id": "71a3ddd0",
   "metadata": {},
   "outputs": [
    {
     "data": {
      "text/plain": [
       "True"
      ]
     },
     "execution_count": 81,
     "metadata": {},
     "output_type": "execute_result"
    }
   ],
   "source": [
    "True or False"
   ]
  },
  {
   "cell_type": "code",
   "execution_count": 82,
   "id": "e40059be",
   "metadata": {},
   "outputs": [
    {
     "data": {
      "text/plain": [
       "False"
      ]
     },
     "execution_count": 82,
     "metadata": {},
     "output_type": "execute_result"
    }
   ],
   "source": [
    "False or False"
   ]
  },
  {
   "cell_type": "markdown",
   "id": "b8c58811",
   "metadata": {},
   "source": [
    "# 3) not operator\n",
    "- NOT operator is a Boolean operator that returns TRUE or 1 when the operand is FALSE or 0, \n",
    "  and returns FALSE or 0 when the operand is TRUE or 1.\n",
    "- Essentially, the operator reverses the logical value associated with the expression on which it operates.\n"
   ]
  },
  {
   "cell_type": "code",
   "execution_count": 83,
   "id": "c66058b3",
   "metadata": {},
   "outputs": [
    {
     "data": {
      "text/plain": [
       "True"
      ]
     },
     "execution_count": 83,
     "metadata": {},
     "output_type": "execute_result"
    }
   ],
   "source": [
    "10>5 and 20<100"
   ]
  },
  {
   "cell_type": "code",
   "execution_count": 84,
   "id": "bc0c1cbc",
   "metadata": {},
   "outputs": [
    {
     "data": {
      "text/plain": [
       "False"
      ]
     },
     "execution_count": 84,
     "metadata": {},
     "output_type": "execute_result"
    }
   ],
   "source": [
    "not (10>5 and 20<100)"
   ]
  },
  {
   "cell_type": "code",
   "execution_count": 85,
   "id": "e0ebebad",
   "metadata": {},
   "outputs": [
    {
     "data": {
      "text/plain": [
       "False"
      ]
     },
     "execution_count": 85,
     "metadata": {},
     "output_type": "execute_result"
    }
   ],
   "source": [
    "100>50 and 200<100"
   ]
  },
  {
   "cell_type": "code",
   "execution_count": 86,
   "id": "80b5775e",
   "metadata": {},
   "outputs": [
    {
     "data": {
      "text/plain": [
       "True"
      ]
     },
     "execution_count": 86,
     "metadata": {},
     "output_type": "execute_result"
    }
   ],
   "source": [
    "not (100>50 and 200<100)"
   ]
  },
  {
   "cell_type": "code",
   "execution_count": 87,
   "id": "15fcb844",
   "metadata": {},
   "outputs": [
    {
     "data": {
      "text/plain": [
       "False"
      ]
     },
     "execution_count": 87,
     "metadata": {},
     "output_type": "execute_result"
    }
   ],
   "source": [
    "not True"
   ]
  },
  {
   "cell_type": "code",
   "execution_count": 88,
   "id": "5e2da7d2",
   "metadata": {},
   "outputs": [
    {
     "data": {
      "text/plain": [
       "True"
      ]
     },
     "execution_count": 88,
     "metadata": {},
     "output_type": "execute_result"
    }
   ],
   "source": [
    "not False"
   ]
  },
  {
   "cell_type": "code",
   "execution_count": 89,
   "id": "def7438a",
   "metadata": {},
   "outputs": [
    {
     "data": {
      "text/plain": [
       "True"
      ]
     },
     "execution_count": 89,
     "metadata": {},
     "output_type": "execute_result"
    }
   ],
   "source": [
    "10>5 or 20>100"
   ]
  },
  {
   "cell_type": "code",
   "execution_count": 90,
   "id": "3cab66bb",
   "metadata": {},
   "outputs": [
    {
     "data": {
      "text/plain": [
       "False"
      ]
     },
     "execution_count": 90,
     "metadata": {},
     "output_type": "execute_result"
    }
   ],
   "source": [
    "not (10>5 or 20>100)"
   ]
  },
  {
   "cell_type": "markdown",
   "id": "3bb408c6",
   "metadata": {},
   "source": [
    "# Logical Operators Precedence\n",
    "- Logical not\n",
    "- Logical and \n",
    "- Logival or"
   ]
  },
  {
   "cell_type": "code",
   "execution_count": 91,
   "id": "91332fc0",
   "metadata": {},
   "outputs": [
    {
     "data": {
      "text/plain": [
       "True"
      ]
     },
     "execution_count": 91,
     "metadata": {},
     "output_type": "execute_result"
    }
   ],
   "source": [
    "# \"Logical and\" followed by \"Logical or\"\n",
    "(2==2) or (3==3) and (3==4)"
   ]
  },
  {
   "cell_type": "code",
   "execution_count": 92,
   "id": "d05ca942",
   "metadata": {},
   "outputs": [
    {
     "data": {
      "text/plain": [
       "False"
      ]
     },
     "execution_count": 92,
     "metadata": {},
     "output_type": "execute_result"
    }
   ],
   "source": [
    "# \"Logical and\" followed by \"Logical or\"\n",
    "(5==2) or (3==3) and (3==4)"
   ]
  },
  {
   "cell_type": "markdown",
   "id": "ce7563df",
   "metadata": {},
   "source": [
    "# 5. Membership Operators\n",
    "- The purpose of Membership operators is that \" To Check the existence of a Particular value in Iterable Object\".\n",
    "- An Iterable Object is one, which contains More Number of Values (Sequence Type, List Type, Set Type, dict Type).\n",
    "- In Python Programming, we have 2 Types of Membership Operators. They are\n",
    "                1. in\n",
    "\t\t\t\t2. not in\n"
   ]
  },
  {
   "cell_type": "markdown",
   "id": "9bd71211",
   "metadata": {},
   "source": [
    "# 1. in\n",
    "- The \"in\" Operator Returns True provided The \"value\" present in IterableObject.\n",
    "- The \"in\" Operator Returns False provided The \"value\" not present in IterableObject.\n",
    "\n",
    "\n",
    "- <b> Syntax: -         Value   in IterableObject\n"
   ]
  },
  {
   "cell_type": "code",
   "execution_count": 95,
   "id": "b0be9076",
   "metadata": {},
   "outputs": [
    {
     "name": "stdout",
     "output_type": "stream",
     "text": [
      "PYTHON <class 'str'>\n"
     ]
    }
   ],
   "source": [
    "s=\"PYTHON\"\n",
    "print(s,type(s))"
   ]
  },
  {
   "cell_type": "code",
   "execution_count": 96,
   "id": "89c056a0",
   "metadata": {},
   "outputs": [
    {
     "data": {
      "text/plain": [
       "True"
      ]
     },
     "execution_count": 96,
     "metadata": {},
     "output_type": "execute_result"
    }
   ],
   "source": [
    "\"P\" in s"
   ]
  },
  {
   "cell_type": "code",
   "execution_count": 97,
   "id": "22dbc2b3",
   "metadata": {},
   "outputs": [
    {
     "data": {
      "text/plain": [
       "False"
      ]
     },
     "execution_count": 97,
     "metadata": {},
     "output_type": "execute_result"
    }
   ],
   "source": [
    "\"p\" in s"
   ]
  },
  {
   "cell_type": "code",
   "execution_count": 98,
   "id": "83672bd0",
   "metadata": {},
   "outputs": [
    {
     "data": {
      "text/plain": [
       "False"
      ]
     },
     "execution_count": 98,
     "metadata": {},
     "output_type": "execute_result"
    }
   ],
   "source": [
    "\"on\" in s"
   ]
  },
  {
   "cell_type": "code",
   "execution_count": 99,
   "id": "2d4365b2",
   "metadata": {},
   "outputs": [
    {
     "data": {
      "text/plain": [
       "False"
      ]
     },
     "execution_count": 99,
     "metadata": {},
     "output_type": "execute_result"
    }
   ],
   "source": [
    "\"noh\" in s"
   ]
  },
  {
   "cell_type": "code",
   "execution_count": 101,
   "id": "01fd4bce",
   "metadata": {},
   "outputs": [
    {
     "name": "stdout",
     "output_type": "stream",
     "text": [
      "[10, 'Rossum', 23.45, (2+3j)] <class 'list'>\n"
     ]
    }
   ],
   "source": [
    "l1=[10,\"Rossum\",23.45,2+3j]\n",
    "print(l1,type(l1))"
   ]
  },
  {
   "cell_type": "code",
   "execution_count": 102,
   "id": "1feab1c7",
   "metadata": {},
   "outputs": [
    {
     "data": {
      "text/plain": [
       "True"
      ]
     },
     "execution_count": 102,
     "metadata": {},
     "output_type": "execute_result"
    }
   ],
   "source": [
    "10 in l1"
   ]
  },
  {
   "cell_type": "code",
   "execution_count": 103,
   "id": "1ac14b96",
   "metadata": {},
   "outputs": [
    {
     "data": {
      "text/plain": [
       "False"
      ]
     },
     "execution_count": 103,
     "metadata": {},
     "output_type": "execute_result"
    }
   ],
   "source": [
    "\"rossum\" in l1"
   ]
  },
  {
   "cell_type": "code",
   "execution_count": 104,
   "id": "ab4d18d3",
   "metadata": {},
   "outputs": [
    {
     "data": {
      "text/plain": [
       "False"
      ]
     },
     "execution_count": 104,
     "metadata": {},
     "output_type": "execute_result"
    }
   ],
   "source": [
    "2 in l1"
   ]
  },
  {
   "cell_type": "code",
   "execution_count": 105,
   "id": "08842c25",
   "metadata": {},
   "outputs": [
    {
     "data": {
      "text/plain": [
       "True"
      ]
     },
     "execution_count": 105,
     "metadata": {},
     "output_type": "execute_result"
    }
   ],
   "source": [
    "10 in l1[0::]"
   ]
  },
  {
   "cell_type": "code",
   "execution_count": 106,
   "id": "8752292d",
   "metadata": {},
   "outputs": [
    {
     "data": {
      "text/plain": [
       "True"
      ]
     },
     "execution_count": 106,
     "metadata": {},
     "output_type": "execute_result"
    }
   ],
   "source": [
    "\"MADAM\" in \"MADAM\"[::-1]"
   ]
  },
  {
   "cell_type": "markdown",
   "id": "62fe991f",
   "metadata": {},
   "source": [
    "# 2. not in\n",
    "- The \"not in\" Operator Returns True provided The \"value\" not present in IterableObject.\n",
    "- The \"not in\" Operator Returns False provided The \"value\" present in IterableObject.\n",
    "\n",
    "\n",
    "- <b> Syntax: -         Value   not in IterableObject\n",
    "    "
   ]
  },
  {
   "cell_type": "code",
   "execution_count": 107,
   "id": "394c4128",
   "metadata": {},
   "outputs": [
    {
     "name": "stdout",
     "output_type": "stream",
     "text": [
      "[10, 'Rossum', 23.45, (2+3j)] <class 'list'>\n"
     ]
    }
   ],
   "source": [
    "l1=[10,\"Rossum\",23.45,2+3j]\n",
    "print(l1,type(l1))"
   ]
  },
  {
   "cell_type": "code",
   "execution_count": 108,
   "id": "a3538af1",
   "metadata": {},
   "outputs": [
    {
     "data": {
      "text/plain": [
       "False"
      ]
     },
     "execution_count": 108,
     "metadata": {},
     "output_type": "execute_result"
    }
   ],
   "source": [
    "\"Rossum\" not in l1"
   ]
  },
  {
   "cell_type": "code",
   "execution_count": 111,
   "id": "a57064e7",
   "metadata": {},
   "outputs": [
    {
     "name": "stdout",
     "output_type": "stream",
     "text": [
      "Python\n"
     ]
    }
   ],
   "source": [
    "s=\"Python\"\n",
    "print(s)"
   ]
  },
  {
   "cell_type": "code",
   "execution_count": 112,
   "id": "5d8520f0",
   "metadata": {},
   "outputs": [
    {
     "data": {
      "text/plain": [
       "False"
      ]
     },
     "execution_count": 112,
     "metadata": {},
     "output_type": "execute_result"
    }
   ],
   "source": [
    "\"P\" not in s"
   ]
  },
  {
   "cell_type": "code",
   "execution_count": 113,
   "id": "da333de0",
   "metadata": {},
   "outputs": [
    {
     "data": {
      "text/plain": [
       "True"
      ]
     },
     "execution_count": 113,
     "metadata": {},
     "output_type": "execute_result"
    }
   ],
   "source": [
    "\"om\" not in s"
   ]
  },
  {
   "cell_type": "code",
   "execution_count": 114,
   "id": "6ece89f2",
   "metadata": {},
   "outputs": [
    {
     "data": {
      "text/plain": [
       "False"
      ]
     },
     "execution_count": 114,
     "metadata": {},
     "output_type": "execute_result"
    }
   ],
   "source": [
    "\"MADAM\"  not in \"MADAM\"[::-1]"
   ]
  },
  {
   "cell_type": "code",
   "execution_count": 115,
   "id": "ddfa8cdf",
   "metadata": {},
   "outputs": [
    {
     "data": {
      "text/plain": [
       "False"
      ]
     },
     "execution_count": 115,
     "metadata": {},
     "output_type": "execute_result"
    }
   ],
   "source": [
    "\"RACECAR\" not in \"RACECAR\"[::-1]"
   ]
  },
  {
   "cell_type": "code",
   "execution_count": 116,
   "id": "785cbd13",
   "metadata": {},
   "outputs": [
    {
     "name": "stdout",
     "output_type": "stream",
     "text": [
      "{50, 20, 40, 10, 60, 30} <class 'set'>\n"
     ]
    }
   ],
   "source": [
    "s1={10,20,30,40,50,60}\n",
    "print(s1,type(s1))"
   ]
  },
  {
   "cell_type": "code",
   "execution_count": 117,
   "id": "c1f61463",
   "metadata": {},
   "outputs": [
    {
     "ename": "TypeError",
     "evalue": "'set' object is not subscriptable",
     "output_type": "error",
     "traceback": [
      "\u001b[1;31m---------------------------------------------------------------------------\u001b[0m",
      "\u001b[1;31mTypeError\u001b[0m                                 Traceback (most recent call last)",
      "\u001b[1;32m~\\AppData\\Local\\Temp\\ipykernel_4160\\655467604.py\u001b[0m in \u001b[0;36m<module>\u001b[1;34m\u001b[0m\n\u001b[1;32m----> 1\u001b[1;33m \u001b[0ms1\u001b[0m\u001b[1;33m[\u001b[0m\u001b[1;36m0\u001b[0m\u001b[1;33m]\u001b[0m \u001b[1;32min\u001b[0m \u001b[0ms1\u001b[0m\u001b[1;33m\u001b[0m\u001b[1;33m\u001b[0m\u001b[0m\n\u001b[0m",
      "\u001b[1;31mTypeError\u001b[0m: 'set' object is not subscriptable"
     ]
    }
   ],
   "source": [
    "s1[0] in s1"
   ]
  },
  {
   "cell_type": "code",
   "execution_count": 118,
   "id": "da9f5a86",
   "metadata": {},
   "outputs": [
    {
     "name": "stdout",
     "output_type": "stream",
     "text": [
      "{10: 'Apple', 20: 'Kiwi', 30: 'Banana'} <class 'dict'>\n"
     ]
    }
   ],
   "source": [
    "d1={10:\"Apple\",20:\"Kiwi\",30:\"Banana\"}\n",
    "print(d1,type(d1))"
   ]
  },
  {
   "cell_type": "code",
   "execution_count": 119,
   "id": "8da2eeea",
   "metadata": {},
   "outputs": [
    {
     "data": {
      "text/plain": [
       "False"
      ]
     },
     "execution_count": 119,
     "metadata": {},
     "output_type": "execute_result"
    }
   ],
   "source": [
    "d1.get(10) in d1"
   ]
  },
  {
   "cell_type": "code",
   "execution_count": 120,
   "id": "29d776cf",
   "metadata": {},
   "outputs": [
    {
     "data": {
      "text/plain": [
       "True"
      ]
     },
     "execution_count": 120,
     "metadata": {},
     "output_type": "execute_result"
    }
   ],
   "source": [
    "d1.get(10) not in d1[10][::-1]"
   ]
  },
  {
   "cell_type": "code",
   "execution_count": 121,
   "id": "a526fc8a",
   "metadata": {},
   "outputs": [
    {
     "ename": "TypeError",
     "evalue": "unhashable type: 'dict_items'",
     "output_type": "error",
     "traceback": [
      "\u001b[1;31m---------------------------------------------------------------------------\u001b[0m",
      "\u001b[1;31mTypeError\u001b[0m                                 Traceback (most recent call last)",
      "\u001b[1;32m~\\AppData\\Local\\Temp\\ipykernel_4160\\3736688872.py\u001b[0m in \u001b[0;36m<module>\u001b[1;34m\u001b[0m\n\u001b[1;32m----> 1\u001b[1;33m \u001b[0md1\u001b[0m\u001b[1;33m.\u001b[0m\u001b[0mitems\u001b[0m\u001b[1;33m(\u001b[0m\u001b[1;33m)\u001b[0m \u001b[1;32min\u001b[0m \u001b[0md1\u001b[0m\u001b[1;33m\u001b[0m\u001b[1;33m\u001b[0m\u001b[0m\n\u001b[0m",
      "\u001b[1;31mTypeError\u001b[0m: unhashable type: 'dict_items'"
     ]
    }
   ],
   "source": [
    "d1.items() in d1"
   ]
  },
  {
   "cell_type": "markdown",
   "id": "701e0e7f",
   "metadata": {},
   "source": [
    "# 6. Identity Operators\n",
    "- The purpose of Identity Operators is that \" To Check or Compare the memory addresses of Two Objects\".\n",
    "- In Python, we have two Identity Operators. They are\n",
    "                1. is\n",
    "\t\t\t\t2. is not\n"
   ]
  },
  {
   "cell_type": "markdown",
   "id": "97bc93d7",
   "metadata": {},
   "source": [
    "# 1. is\n",
    "- The \"is\" operator returns True provided The memory address of Object1 and Object2 must be Same.\n",
    "- The \"is\" operator returns False provided The memory address of Object1 and Object2 must be Different.\n",
    "\n",
    "\n",
    "- <b> Syntax:         object1 is object2"
   ]
  },
  {
   "cell_type": "markdown",
   "id": "aadf9596",
   "metadata": {},
   "source": [
    "# 2. is not\n",
    "- The \"is not\" operator returns True provided The memory address of Object1 and Object2 must be Different.\n",
    "- The \"is not \" operator returns False provided The memory address of Object1 and Object2 must be Same.\n",
    "\n",
    "\n",
    "- <b> Syntax: -        object1 is not object2\n",
    "    "
   ]
  },
  {
   "cell_type": "code",
   "execution_count": 122,
   "id": "4eb63f12",
   "metadata": {},
   "outputs": [
    {
     "name": "stdout",
     "output_type": "stream",
     "text": [
      "5 <class 'int'> 3053133982128\n",
      "5 <class 'int'> 3053133982128\n"
     ]
    }
   ],
   "source": [
    "a=5\n",
    "b=5\n",
    "print(a,type(a),id(a))\n",
    "print(b,type(b),id(b))"
   ]
  },
  {
   "cell_type": "code",
   "execution_count": 124,
   "id": "d0fe3054",
   "metadata": {},
   "outputs": [
    {
     "data": {
      "text/plain": [
       "True"
      ]
     },
     "execution_count": 124,
     "metadata": {},
     "output_type": "execute_result"
    }
   ],
   "source": [
    "a is b"
   ]
  },
  {
   "cell_type": "code",
   "execution_count": 125,
   "id": "1205b77a",
   "metadata": {},
   "outputs": [
    {
     "data": {
      "text/plain": [
       "False"
      ]
     },
     "execution_count": 125,
     "metadata": {},
     "output_type": "execute_result"
    }
   ],
   "source": [
    "a is not b"
   ]
  },
  {
   "cell_type": "code",
   "execution_count": 126,
   "id": "cf751adf",
   "metadata": {},
   "outputs": [
    {
     "name": "stdout",
     "output_type": "stream",
     "text": [
      "PYTHON <class 'str'> 3053207796592\n",
      "PYTHON <class 'str'> 3053207796592\n"
     ]
    }
   ],
   "source": [
    "s1=\"PYTHON\"\n",
    "s2=\"PYTHON\"\n",
    "print(s1,type(s1),id(s1))\n",
    "print(s2,type(s2),id(s2))"
   ]
  },
  {
   "cell_type": "code",
   "execution_count": 127,
   "id": "9c75889f",
   "metadata": {},
   "outputs": [
    {
     "data": {
      "text/plain": [
       "True"
      ]
     },
     "execution_count": 127,
     "metadata": {},
     "output_type": "execute_result"
    }
   ],
   "source": [
    "s1 is s2"
   ]
  },
  {
   "cell_type": "code",
   "execution_count": 128,
   "id": "d182b631",
   "metadata": {},
   "outputs": [
    {
     "data": {
      "text/plain": [
       "False"
      ]
     },
     "execution_count": 128,
     "metadata": {},
     "output_type": "execute_result"
    }
   ],
   "source": [
    "s1 is not s2"
   ]
  },
  {
   "cell_type": "code",
   "execution_count": 129,
   "id": "94f95994",
   "metadata": {},
   "outputs": [
    {
     "name": "stdout",
     "output_type": "stream",
     "text": [
      "None <class 'NoneType'> 140732990930136\n",
      "None <class 'NoneType'> 140732990930136\n"
     ]
    }
   ],
   "source": [
    "a=None\n",
    "b=None\n",
    "print(a,type(a),id(a))\n",
    "print(b,type(b),id(b))"
   ]
  },
  {
   "cell_type": "code",
   "execution_count": 130,
   "id": "d127904c",
   "metadata": {},
   "outputs": [
    {
     "data": {
      "text/plain": [
       "False"
      ]
     },
     "execution_count": 130,
     "metadata": {},
     "output_type": "execute_result"
    }
   ],
   "source": [
    "a is not b"
   ]
  },
  {
   "cell_type": "code",
   "execution_count": 131,
   "id": "91bdeed7",
   "metadata": {},
   "outputs": [
    {
     "data": {
      "text/plain": [
       "True"
      ]
     },
     "execution_count": 131,
     "metadata": {},
     "output_type": "execute_result"
    }
   ],
   "source": [
    "a is b "
   ]
  },
  {
   "cell_type": "code",
   "execution_count": 132,
   "id": "0980b502",
   "metadata": {},
   "outputs": [
    {
     "name": "stdout",
     "output_type": "stream",
     "text": [
      "True <class 'bool'> 140732990879848\n",
      "True <class 'bool'> 140732990879848\n"
     ]
    }
   ],
   "source": [
    "a=True\n",
    "b=True\n",
    "print(a,type(a),id(a))\n",
    "print(b,type(b),id(b))"
   ]
  },
  {
   "cell_type": "code",
   "execution_count": 133,
   "id": "384cc0dc",
   "metadata": {},
   "outputs": [
    {
     "data": {
      "text/plain": [
       "True"
      ]
     },
     "execution_count": 133,
     "metadata": {},
     "output_type": "execute_result"
    }
   ],
   "source": [
    "a is b "
   ]
  },
  {
   "cell_type": "code",
   "execution_count": 134,
   "id": "69c79144",
   "metadata": {},
   "outputs": [
    {
     "name": "stdout",
     "output_type": "stream",
     "text": [
      "False <class 'bool'> 140732990879880\n",
      "False <class 'bool'> 140732990879880\n"
     ]
    }
   ],
   "source": [
    "a=False\n",
    "b=False\n",
    "print(a,type(a),id(a))\n",
    "print(b,type(b),id(b))"
   ]
  },
  {
   "cell_type": "code",
   "execution_count": 135,
   "id": "8819ac5b",
   "metadata": {},
   "outputs": [
    {
     "data": {
      "text/plain": [
       "False"
      ]
     },
     "execution_count": 135,
     "metadata": {},
     "output_type": "execute_result"
    }
   ],
   "source": [
    "a is not b"
   ]
  },
  {
   "cell_type": "code",
   "execution_count": 136,
   "id": "e532bba2",
   "metadata": {},
   "outputs": [
    {
     "data": {
      "text/plain": [
       "True"
      ]
     },
     "execution_count": 136,
     "metadata": {},
     "output_type": "execute_result"
    }
   ],
   "source": [
    "a is b"
   ]
  },
  {
   "cell_type": "code",
   "execution_count": 137,
   "id": "7b834f07",
   "metadata": {},
   "outputs": [
    {
     "name": "stdout",
     "output_type": "stream",
     "text": [
      "{10: 'Apple', 20: 'Mango'} <class 'dict'> 3053217406272\n",
      "{10: 'Apple', 20: 'Mango'} <class 'dict'> 3053218386496\n"
     ]
    }
   ],
   "source": [
    "d1={10:\"Apple\",20:\"Mango\"}\n",
    "d2={10:\"Apple\",20:\"Mango\"}\n",
    "print(d1,type(d1),id(d1))\n",
    "print(d2,type(d2),id(d2))"
   ]
  },
  {
   "cell_type": "code",
   "execution_count": 138,
   "id": "e7fae3bd",
   "metadata": {},
   "outputs": [
    {
     "data": {
      "text/plain": [
       "False"
      ]
     },
     "execution_count": 138,
     "metadata": {},
     "output_type": "execute_result"
    }
   ],
   "source": [
    "d1 is d2"
   ]
  },
  {
   "cell_type": "code",
   "execution_count": 139,
   "id": "8d7a17d2",
   "metadata": {},
   "outputs": [
    {
     "data": {
      "text/plain": [
       "True"
      ]
     },
     "execution_count": 139,
     "metadata": {},
     "output_type": "execute_result"
    }
   ],
   "source": [
    "d1 is not d2"
   ]
  },
  {
   "cell_type": "code",
   "execution_count": 140,
   "id": "02cbdabe",
   "metadata": {},
   "outputs": [
    {
     "name": "stdout",
     "output_type": "stream",
     "text": [
      "{10, 'Deepthi'} <class 'set'> 3053218287168\n",
      "{10, 'Deepthi'} <class 'set'> 3053218480416\n"
     ]
    }
   ],
   "source": [
    "s1={10,\"Deepthi\"}\n",
    "s2={10,\"Deepthi\"}\n",
    "print(s1,type(s1),id(s1))\n",
    "print(s2,type(s2),id(s2))"
   ]
  },
  {
   "cell_type": "code",
   "execution_count": 141,
   "id": "2880a098",
   "metadata": {},
   "outputs": [
    {
     "data": {
      "text/plain": [
       "False"
      ]
     },
     "execution_count": 141,
     "metadata": {},
     "output_type": "execute_result"
    }
   ],
   "source": [
    "s1 is s2"
   ]
  },
  {
   "cell_type": "code",
   "execution_count": 142,
   "id": "9c04cf9d",
   "metadata": {},
   "outputs": [
    {
     "data": {
      "text/plain": [
       "True"
      ]
     },
     "execution_count": 142,
     "metadata": {},
     "output_type": "execute_result"
    }
   ],
   "source": [
    "s1 is not s2"
   ]
  },
  {
   "cell_type": "code",
   "execution_count": 143,
   "id": "bba3f410",
   "metadata": {},
   "outputs": [
    {
     "name": "stdout",
     "output_type": "stream",
     "text": [
      "[10, 'Rossum'] <class 'list'> 3053217464384\n",
      "[10, 'Rossum'] <class 'list'> 3053218447936\n"
     ]
    }
   ],
   "source": [
    "l1=[10,\"Rossum\"]\n",
    "l2=[10,\"Rossum\"]\n",
    "print(l1,type(l1),id(l1))\n",
    "print(l2,type(l2),id(l2))"
   ]
  },
  {
   "cell_type": "code",
   "execution_count": 144,
   "id": "b93dba47",
   "metadata": {},
   "outputs": [
    {
     "data": {
      "text/plain": [
       "False"
      ]
     },
     "execution_count": 144,
     "metadata": {},
     "output_type": "execute_result"
    }
   ],
   "source": [
    "l1 is l2"
   ]
  },
  {
   "cell_type": "code",
   "execution_count": 145,
   "id": "7bef994f",
   "metadata": {},
   "outputs": [
    {
     "data": {
      "text/plain": [
       "True"
      ]
     },
     "execution_count": 145,
     "metadata": {},
     "output_type": "execute_result"
    }
   ],
   "source": [
    "l2 is not s1"
   ]
  },
  {
   "cell_type": "code",
   "execution_count": 146,
   "id": "123bfb37",
   "metadata": {},
   "outputs": [
    {
     "name": "stdout",
     "output_type": "stream",
     "text": [
      "[10, 'Rossum'] <class 'list'> 3053218370432\n",
      "[10, 'Rossum'] <class 'list'> 3053218370432\n"
     ]
    }
   ],
   "source": [
    "l1=[10,\"Rossum\"]\n",
    "l2=l1\n",
    "print(l1,type(l1),id(l1))\n",
    "print(l2,type(l2),id(l2))"
   ]
  },
  {
   "cell_type": "code",
   "execution_count": 147,
   "id": "ca0188ca",
   "metadata": {},
   "outputs": [
    {
     "data": {
      "text/plain": [
       "True"
      ]
     },
     "execution_count": 147,
     "metadata": {},
     "output_type": "execute_result"
    }
   ],
   "source": [
    "l1 is l2"
   ]
  },
  {
   "cell_type": "code",
   "execution_count": 148,
   "id": "b91d4f29",
   "metadata": {},
   "outputs": [
    {
     "name": "stdout",
     "output_type": "stream",
     "text": [
      "[10, 'Rossum'] <class 'list'> 3053217406912\n",
      "[10, 'Rossum'] <class 'list'> 3053216633664\n"
     ]
    }
   ],
   "source": [
    "l1=[10,\"Rossum\"]\n",
    "l2=l1.copy()\n",
    "print(l1,type(l1),id(l1))\n",
    "print(l2,type(l2),id(l2))"
   ]
  },
  {
   "cell_type": "code",
   "execution_count": 149,
   "id": "f64dcdc9",
   "metadata": {},
   "outputs": [
    {
     "data": {
      "text/plain": [
       "False"
      ]
     },
     "execution_count": 149,
     "metadata": {},
     "output_type": "execute_result"
    }
   ],
   "source": [
    "l1 is l2"
   ]
  },
  {
   "cell_type": "code",
   "execution_count": 150,
   "id": "ce8213e5",
   "metadata": {},
   "outputs": [
    {
     "data": {
      "text/plain": [
       "True"
      ]
     },
     "execution_count": 150,
     "metadata": {},
     "output_type": "execute_result"
    }
   ],
   "source": [
    "l1 is not l2"
   ]
  },
  {
   "cell_type": "code",
   "execution_count": 151,
   "id": "5fd02059",
   "metadata": {},
   "outputs": [
    {
     "name": "stdout",
     "output_type": "stream",
     "text": [
      "range(10, 20) <class 'range'> 3053218343648\n",
      "range(10, 20) <class 'range'> 3053218342208\n"
     ]
    }
   ],
   "source": [
    "r1=range(10,20)\n",
    "r2=range(10,20)\n",
    "print(r1,type(r1),id(r1))\n",
    "print(r2,type(r2),id(r2))"
   ]
  },
  {
   "cell_type": "code",
   "execution_count": 152,
   "id": "397d3f2c",
   "metadata": {},
   "outputs": [
    {
     "data": {
      "text/plain": [
       "False"
      ]
     },
     "execution_count": 152,
     "metadata": {},
     "output_type": "execute_result"
    }
   ],
   "source": [
    "r1 is r2"
   ]
  },
  {
   "cell_type": "code",
   "execution_count": 153,
   "id": "ce6f28ef",
   "metadata": {},
   "outputs": [
    {
     "name": "stdout",
     "output_type": "stream",
     "text": [
      "INDIA <class 'str'> 3053218450992\n",
      "INDIA <class 'str'> 3053218450992\n"
     ]
    }
   ],
   "source": [
    "s1=\"INDIA\"\n",
    "s2=\"INDIA\"\n",
    "print(s1,type(s1),id(s1))\n",
    "print(s2,type(s2),id(s2))"
   ]
  },
  {
   "cell_type": "code",
   "execution_count": 154,
   "id": "e1448e71",
   "metadata": {},
   "outputs": [
    {
     "data": {
      "text/plain": [
       "True"
      ]
     },
     "execution_count": 154,
     "metadata": {},
     "output_type": "execute_result"
    }
   ],
   "source": [
    "s1 is s2"
   ]
  },
  {
   "cell_type": "code",
   "execution_count": 155,
   "id": "7b1a32df",
   "metadata": {},
   "outputs": [
    {
     "data": {
      "text/plain": [
       "False"
      ]
     },
     "execution_count": 155,
     "metadata": {},
     "output_type": "execute_result"
    }
   ],
   "source": [
    "s1 is not s2"
   ]
  },
  {
   "cell_type": "code",
   "execution_count": 156,
   "id": "c35194c2",
   "metadata": {},
   "outputs": [
    {
     "name": "stdout",
     "output_type": "stream",
     "text": [
      "(2+3j) <class 'complex'> 3053218410384\n",
      "(2+3j) <class 'complex'> 3053218409808\n"
     ]
    }
   ],
   "source": [
    "a=2+3j\n",
    "b=2+3j\n",
    "print(a,type(a),id(a))\n",
    "print(b,type(b),id(b))"
   ]
  },
  {
   "cell_type": "code",
   "execution_count": 157,
   "id": "7515a6fc",
   "metadata": {},
   "outputs": [
    {
     "data": {
      "text/plain": [
       "True"
      ]
     },
     "execution_count": 157,
     "metadata": {},
     "output_type": "execute_result"
    }
   ],
   "source": [
    "a is not b"
   ]
  },
  {
   "cell_type": "code",
   "execution_count": 158,
   "id": "eca390e2",
   "metadata": {},
   "outputs": [
    {
     "data": {
      "text/plain": [
       "False"
      ]
     },
     "execution_count": 158,
     "metadata": {},
     "output_type": "execute_result"
    }
   ],
   "source": [
    "a is b"
   ]
  },
  {
   "cell_type": "markdown",
   "id": "45257356",
   "metadata": {},
   "source": [
    "# Operators Precedence\n",
    "- Arithmetic Operators\n",
    "- Comparison (Relational) Operators\n",
    "- Membership Operators\n",
    "- Identity Operators\n",
    "- Logical Operators\n",
    "- Assignment Operator"
   ]
  },
  {
   "cell_type": "code",
   "execution_count": 161,
   "id": "8d67ce77",
   "metadata": {},
   "outputs": [
    {
     "data": {
      "text/plain": [
       "True"
      ]
     },
     "execution_count": 161,
     "metadata": {},
     "output_type": "execute_result"
    }
   ],
   "source": [
    "b=(1>2) or (3>=3)\n",
    "b"
   ]
  }
 ],
 "metadata": {
  "kernelspec": {
   "display_name": "Python 3 (ipykernel)",
   "language": "python",
   "name": "python3"
  },
  "language_info": {
   "codemirror_mode": {
    "name": "ipython",
    "version": 3
   },
   "file_extension": ".py",
   "mimetype": "text/x-python",
   "name": "python",
   "nbconvert_exporter": "python",
   "pygments_lexer": "ipython3",
   "version": "3.9.13"
  }
 },
 "nbformat": 4,
 "nbformat_minor": 5
}
