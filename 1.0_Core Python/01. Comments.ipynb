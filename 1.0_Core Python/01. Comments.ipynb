{
 "cells": [
  {
   "cell_type": "markdown",
   "id": "2d9e4c21",
   "metadata": {},
   "source": [
    "# <p style='text-align: center;'> Comments </p>"
   ]
  },
  {
   "cell_type": "markdown",
   "id": "aa2715c0",
   "metadata": {},
   "source": [
    "- Comments can be used to explain Python code.\n",
    "\n",
    "\n",
    "- Comments can be used to make the code more readable.\n",
    "\n",
    "\n",
    "- Comments are ignored during execution. (not considered while executing the code)\n"
   ]
  },
  {
   "cell_type": "markdown",
   "id": "9123ffd6",
   "metadata": {},
   "source": [
    "### Creating a Comment:\n",
    "- Comments starts with a #, and Python will ignore them."
   ]
  },
  {
   "cell_type": "code",
   "execution_count": 1,
   "id": "7410145a",
   "metadata": {},
   "outputs": [],
   "source": [
    "# This is a comment"
   ]
  },
  {
   "cell_type": "code",
   "execution_count": 3,
   "id": "6afdd502",
   "metadata": {},
   "outputs": [
    {
     "name": "stdout",
     "output_type": "stream",
     "text": [
      "Hello World!\n"
     ]
    }
   ],
   "source": [
    "# This is a comment\n",
    "print(\"Hello World!\")"
   ]
  },
  {
   "cell_type": "markdown",
   "id": "dcc0ff07",
   "metadata": {},
   "source": [
    "**Note:** Comments can be placed at the end of a line, and Python will ignore the rest of the line."
   ]
  },
  {
   "cell_type": "code",
   "execution_count": 4,
   "id": "ff780e68",
   "metadata": {},
   "outputs": [
    {
     "name": "stdout",
     "output_type": "stream",
     "text": [
      "Hello World!\n"
     ]
    }
   ],
   "source": [
    "print(\"Hello World!\")       # This is a comment"
   ]
  },
  {
   "cell_type": "markdown",
   "id": "0987ecc5",
   "metadata": {},
   "source": [
    "**Note:** A comment does not have to be text that explains the code, it can also be used to prevent Python from executing code."
   ]
  },
  {
   "cell_type": "code",
   "execution_count": 5,
   "id": "dafb1a1e",
   "metadata": {},
   "outputs": [
    {
     "name": "stdout",
     "output_type": "stream",
     "text": [
      "DS\n"
     ]
    }
   ],
   "source": [
    "#print(\"DS\")\n",
    "print(\"DS\")"
   ]
  },
  {
   "cell_type": "markdown",
   "id": "18731bb1",
   "metadata": {},
   "source": [
    "### Multi Line Comments    \n",
    "- Python does not really have a syntax for multi-line comments.\n",
    "\n",
    "\n",
    "- To add a multiline comment you could insert a # for each line:\n"
   ]
  },
  {
   "cell_type": "code",
   "execution_count": 6,
   "id": "be92769e",
   "metadata": {},
   "outputs": [],
   "source": [
    "#1st line\n",
    "#2nd line\n",
    "#3rd line"
   ]
  },
  {
   "cell_type": "markdown",
   "id": "a2a083a1",
   "metadata": {},
   "source": [
    "- You can add a multiline string (triple quotes) in your code, and place your comment inside it.\n",
    "\n",
    "\n",
    "- (Since Python will ignore string literals that are not assigned to a variable)\n"
   ]
  },
  {
   "cell_type": "code",
   "execution_count": 7,
   "id": "0b3d3729",
   "metadata": {},
   "outputs": [
    {
     "data": {
      "text/plain": [
       "'1st line\\n2nd line\\n3rd line'"
      ]
     },
     "execution_count": 7,
     "metadata": {},
     "output_type": "execute_result"
    }
   ],
   "source": [
    "\"\"\"1st line\n",
    "2nd line\n",
    "3rd line\"\"\""
   ]
  },
  {
   "cell_type": "code",
   "execution_count": 8,
   "id": "f3c7b538",
   "metadata": {},
   "outputs": [
    {
     "name": "stdout",
     "output_type": "stream",
     "text": [
      "Hello World!\n"
     ]
    }
   ],
   "source": [
    "\"\"\"This is a comment \n",
    "written in \n",
    "more than just one line\"\"\"\n",
    "\n",
    "print(\"Hello World!\")"
   ]
  }
 ],
 "metadata": {
  "kernelspec": {
   "display_name": "Python 3 (ipykernel)",
   "language": "python",
   "name": "python3"
  },
  "language_info": {
   "codemirror_mode": {
    "name": "ipython",
    "version": 3
   },
   "file_extension": ".py",
   "mimetype": "text/x-python",
   "name": "python",
   "nbconvert_exporter": "python",
   "pygments_lexer": "ipython3",
   "version": "3.9.13"
  }
 },
 "nbformat": 4,
 "nbformat_minor": 5
}
