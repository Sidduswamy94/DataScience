{
 "cells": [
  {
   "cell_type": "markdown",
   "id": "a5e214af",
   "metadata": {},
   "source": [
    "# <p style='text-align: center;'> Inferential Statistics </p>"
   ]
  },
  {
   "cell_type": "markdown",
   "id": "3a25d77a",
   "metadata": {},
   "source": [
    "## Inferential Statistic :\n",
    "- Inferential statistics helps study a sample of data and make conclusions about its population.\n",
    "\n",
    "\n",
    "-  Inferencing (estimating) population value based on sample value. The purpose of studying inferential statistics is to infer the behavior of a population.\n",
    "\n",
    "\n",
    "<b> Examples :\n",
    "- Based on sample mean estimating population mean.\n",
    "    \n",
    "\n",
    "- Based on sample variance estimating population variance.\n",
    "    \n",
    "    \n",
    "- Based on sample standard deviation estimating population standard deviation.\n",
    "    \n",
    "    "
   ]
  },
  {
   "cell_type": "markdown",
   "id": "5e3bbe0b",
   "metadata": {},
   "source": [
    "## Types of tools used under inferential statistics :\n",
    "**1. Regression Analysis**\n",
    "- It measures the change in one variable with respect to the other variable. Linear regression is popularly used in inferential statistics.\n",
    "\n",
    "\n",
    "**2. Hypothesis Testing Models**\n",
    "- It requires creating the null and alternate hypothesis. Inferences are drawn by considering the critical value, test statistic, and confidence interval.\n",
    "\n",
    "\n",
    "- A hypothesis test can be two-tailed, left-tailed, and right-tailed. The hypothesis testing models consist of the following tools :\n",
    "\n",
    "\n",
    "**a) Z-test**\n",
    "- Z-test is the statistical test, used to analyze whether two population means are different or not when the variances are known and the sample size is large.\n",
    "\n",
    "\n",
    "- This test statistic is assumed to have a normal distribution, and standard deviation must be known to perform an accurate z-test.\n",
    "\n",
    "\n",
    "- A z-statistic, or z-score, is a number representing the value’s relationship to the mean of a group of values, it is measured with population parameters such as population standard deviation and used to validate a hypothesis.\n",
    "\n",
    "\n",
    "- For example, the null hypothesis is “sample mean is the same as the population mean”, and alternative hypothesis is “the sample mean  is not the same as the population mean”.\n",
    " \n",
    " \n",
    "- The formulas are given as follows :\n",
    "\n",
    "\n",
    "                 x̅ - μ\n",
    "            Z = --------\n",
    "                 σ / √n\n",
    "                 \n",
    "                 \n",
    "- where,\n",
    "\n",
    "    - x̄ = sample mean\n",
    "    - μ = population mean\n",
    "    - σ = standard deviation of the population\n",
    "    - n = sample size\n",
    "    \n",
    "    \n",
    "**b) T-test**\n",
    "- In order to know how significant the difference between two groups are, T-test is used, basically it tells that difference (measured in means) between two separate groups could have occurred by chance. \n",
    "\n",
    "\n",
    "- This test assumes to have a normal distribution while based on t-distribution, and population parameters such as mean, or standard deviation are unknown.\n",
    "\n",
    "\n",
    "- The ratio between the difference between two groups and the difference within the group is known as T-score. Greater is the t-score, more is the difference between groups, and smaller is the t-score, more similarities are there among groups. \n",
    "\n",
    "\n",
    "The formulas are given as follows :\n",
    "\n",
    "                 x̅ - μ\n",
    "            Z = --------\n",
    "                 s / √n\n",
    "                 \n",
    "                 \n",
    "- where,\n",
    "\n",
    "    - x̄ = sample mean\n",
    "    - μ = population mean\n",
    "    - s = standard deviation of the sample\n",
    "    - n = sample size\n",
    "    \n",
    "    \n",
    "**c) Confidence interval**\n",
    "- The confidence interval is the range of values that you expect your estimate to fall between a certain percentage of the time if you run your experiment again or re-sample the population in the same way.\n",
    "\n",
    "\n",
    "- The confidence level is the percentage of times you expect to reproduce an estimate between the upper and lower bounds of the confidence interval, and is set by the alpha value.\n",
    "\n"
   ]
  },
  {
   "attachments": {
    "image.png": {
     "image/png": "[encoded data removed]"
    }
   },
   "cell_type": "markdown",
   "id": "104c49c5",
   "metadata": {},
   "source": [
    "## Inferential Statistics vs Descriptive Statistics :\n",
    "- The differences between inferential and descriptive statistics are listed as follows :\n",
    "\n",
    "\n",
    "![image.png](attachment:image.png)"
   ]
  }
 ],
 "metadata": {
  "kernelspec": {
   "display_name": "Python 3 (ipykernel)",
   "language": "python",
   "name": "python3"
  },
  "language_info": {
   "codemirror_mode": {
    "name": "ipython",
    "version": 3
   },
   "file_extension": ".py",
   "mimetype": "text/x-python",
   "name": "python",
   "nbconvert_exporter": "python",
   "pygments_lexer": "ipython3",
   "version": "3.9.13"
  }
 },
 "nbformat": 4,
 "nbformat_minor": 5
}
