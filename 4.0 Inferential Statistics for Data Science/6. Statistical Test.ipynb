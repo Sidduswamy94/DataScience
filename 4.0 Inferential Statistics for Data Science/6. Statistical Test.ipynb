{
 "cells": [
  {
   "cell_type": "markdown",
   "id": "1942c951",
   "metadata": {},
   "source": [
    "# <p style='text-align: center;'> Statistical Test </p>"
   ]
  },
  {
   "attachments": {
    "image-3.png": {
     "image/png": "[encoded data removed]"
    }
   },
   "cell_type": "markdown",
   "id": "d3ccd6fb",
   "metadata": {},
   "source": [
    "## Statistical Test :\n",
    "- A statistical test provides a mechanism for making quantitative decisions about a process or processes. The intent is to determine whether there is enough evidence to \"reject\" a conjecture or hypothesis about the process. The conjecture is called the null hypothesis. Not rejecting may be a good result if we want to continue to act as if we \"believe\" the null hypothesis is true. Or it may be a disappointing result, possibly indicating we may not yet have enough data to \"prove\" something by rejecting the null hypothesis.\n",
    "\n",
    "\n",
    "- Statistics are the arrangement of statistical tests which analysts use to make inference from the data given. These tests enables us to make decisions on the basis of observed pattern from data. There is a wide rangeof statistical tests. The choice of which statistical test to utilize relies upon the structure of data, the distribution of the data, and variable type.There are many different types of tests in statistics like t-test,Z-test,chi-square test, anova test and etc.\n",
    "\n",
    "\n",
    "## Types of Statistical Test based on the Parametric and Non-Parametric Tests :\n",
    "\n",
    "![image-3.png](attachment:image-3.png)  \n",
    "\n",
    "\n",
    "### Paremetric Test :\n",
    "- Parametric tests are used if the data is normally distributed .\n",
    "\n",
    "\n",
    "- A parametric statistical test makes an assumption about the population parameters and the distributions that the data came from.\n",
    "\n",
    "\n",
    "- Types of Paremetric Test are as follows :\n",
    "\n",
    "        1. Z-Test\n",
    "        2. T-Test\n",
    "        3. Anova Test\n",
    "\n",
    "\n",
    "### Non-Parametric Test :\n",
    "- Non parametric tests are used when data is not normally distributed.\n",
    "\n",
    "\n",
    "- Types of Paremetric Test are as follows :\n",
    "\n",
    "        1. One Proportion Test.\n",
    "        2. Two Proportion Test.\n",
    "        3. Chi-square Test."
   ]
  },
  {
   "cell_type": "markdown",
   "id": "6df38eb2",
   "metadata": {},
   "source": [
    "<b> Before going to Parametric and Non-Parametric Tests, we will go through with checking for Normality, there are multiple options to check the normality. They are :\n",
    "    \n",
    "    \n",
    "<b> Option - 1 : Skewness. \n",
    "- Calculate the skewness --->  DataFrame[variable_name].skew()\n",
    "    \n",
    "    - If the skewness is b/w -1 to +1 -------> Then it is said to be a normal distribution.\n",
    "    - If the skewness is less than -1 -------> Then it is said to be a left skewed Distribution.\n",
    "    - If the skewness is greater than +1 ----> Then it is said to be a right skewed Distribution.\n",
    "    \n",
    "    \n",
    "<b> Option - 2 : Density Curve.\n",
    "- Draw the density curve ---> seaborn.displot(DataFrame[variables_name], kde=True)\n",
    "    \n",
    "    - If the density curve is symmetric  ----------> Then it is said to be a normal distribution.\n",
    "    - If the density curve is non symmetric  ------> Then it is said to be a skewed distribution.\n",
    "    \n",
    "    \n",
    "<b> Option - 3 : Shapiro Test.\n",
    "- The Shapiro Test is used to check whether the data is normal or skewed.\n",
    "  \n",
    "    \n",
    "- For Shapiro Test, the Ho and H1 are always fixed, they are as follows :\n",
    "    \n",
    "    - Ho : Data is normal  ----------> If p > alpha, then Data is normal.\n",
    "    - H1 : Data is not normal  ------> If p < alpha, then Data is not normal.\n",
    "                                                    \n",
    "       \n",
    "                                                    \n",
    "<b> From the above we can choose any one option to check the normality."
   ]
  },
  {
   "cell_type": "markdown",
   "id": "20d77422",
   "metadata": {},
   "source": [
    "<b> Now we are going to perform one by one Parametric and Non-Parametric Tests."
   ]
  },
  {
   "cell_type": "markdown",
   "id": "c240aeb5",
   "metadata": {},
   "source": [
    "---------------------\n",
    "### Paremetric Test :\n",
    "---------------------"
   ]
  },
  {
   "cell_type": "markdown",
   "id": "16845692",
   "metadata": {},
   "source": [
    "### 1. Z-Test :\n",
    "- Z-test is the statistical test, used to analyze whether two population means are different or not when the variances are known and the sample size is large.\n",
    "\n",
    "\n",
    "- This test statistic is assumed to have a normal distribution, and standard deviation must be known to perform an accurate z-test.\n",
    "\n",
    "\n",
    "- A z-statistic, or z-score, is a number representing the value’s relationship to the mean of a group of values, it is measured with population parameters such as population standard deviation and used to validate a hypothesis.\n",
    "\n",
    "\n",
    "- For example, the null hypothesis is “sample mean is the same as the population mean”, and alternative hypothesis is “the sample mean  is not the same as the population mean”."
   ]
  },
  {
   "cell_type": "markdown",
   "id": "9cf8cb29",
   "metadata": {},
   "source": [
    "### Steps for Z Testing :\n",
    "- Step 1 : Formulate the Null Hypotheses (Ho) and Alternative Hypotheses (H1).\n",
    "\n",
    "\n",
    "- Step 2 : Specify the level of significance (α).\n",
    "\n",
    "\n",
    "- Step 3 : Check for Normality of a given data.---> 1 Sample \n",
    "\n",
    "\n",
    "- Step 4 : Select the Statistical test and calculate the p-value.\n",
    "    \n",
    "    - If data is normaly distributed and standard deviation is known then perform the z-test.\n",
    "\n",
    "    - The p-value is the probability, computed using the test staitistics, that measures the support (or lack of support) provided by the sample for the null hypothesis.\n",
    "  \n",
    "    - If the p-value is less than or equal to the level of significant α, the value of the test statistic is in the rejection region.\n",
    "    \n",
    "    \n",
    "- Step 5 : Based on the p-value, conclude the Hypothesis test.\n",
    "\n",
    "     - If p-value ≤ alpha (p low Null go)    <---> (Reject Ho)\n",
    "     - If p-value > alpha (p high Null fly)  <---> (Do not Reject Ho)\n",
    "    "
   ]
  },
  {
   "cell_type": "markdown",
   "id": "0f3e87b4",
   "metadata": {},
   "source": [
    "-----------------\n",
    "### Examples for Z Testing :\n",
    "----------------------"
   ]
  },
  {
   "cell_type": "markdown",
   "id": "b3c94947",
   "metadata": {},
   "source": [
    "### Question.\n",
    "\n",
    "The length of 25 samples of a fabric are taken at random. Mean and standard deviation from the historic 2 years study are 150 and 4 respectively. Test if the current mean is greater than the historic mean. Asume α to be 0.05 ?\n",
    "\n",
    "\n",
    "### Solution :\n",
    "- Random sample (n) = 25\n",
    "- Population mean (μ) = 150\n",
    "- Standard deviation (σ) = 4\n",
    "- level of significant (α) = 0.05\n"
   ]
  },
  {
   "cell_type": "markdown",
   "id": "7e78d01a",
   "metadata": {},
   "source": [
    "<b> Here we are Loading the \"Fabric data\" dataset."
   ]
  },
  {
   "cell_type": "code",
   "execution_count": 1,
   "id": "5a996391",
   "metadata": {},
   "outputs": [
    {
     "data": {
      "text/html": [
       "<div>\n",
       "<style scoped>\n",
       "    .dataframe tbody tr th:only-of-type {\n",
       "        vertical-align: middle;\n",
       "    }\n",
       "\n",
       "    .dataframe tbody tr th {\n",
       "        vertical-align: top;\n",
       "    }\n",
       "\n",
       "    .dataframe thead th {\n",
       "        text-align: right;\n",
       "    }\n",
       "</style>\n",
       "<table border=\"1\" class=\"dataframe\">\n",
       "  <thead>\n",
       "    <tr style=\"text-align: right;\">\n",
       "      <th></th>\n",
       "      <th>Fabric_length</th>\n",
       "    </tr>\n",
       "  </thead>\n",
       "  <tbody>\n",
       "    <tr>\n",
       "      <th>0</th>\n",
       "      <td>151.2</td>\n",
       "    </tr>\n",
       "    <tr>\n",
       "      <th>1</th>\n",
       "      <td>160.3</td>\n",
       "    </tr>\n",
       "    <tr>\n",
       "      <th>2</th>\n",
       "      <td>147.5</td>\n",
       "    </tr>\n",
       "    <tr>\n",
       "      <th>3</th>\n",
       "      <td>149.2</td>\n",
       "    </tr>\n",
       "    <tr>\n",
       "      <th>4</th>\n",
       "      <td>159.2</td>\n",
       "    </tr>\n",
       "  </tbody>\n",
       "</table>\n",
       "</div>"
      ],
      "text/plain": [
       "   Fabric_length\n",
       "0          151.2\n",
       "1          160.3\n",
       "2          147.5\n",
       "3          149.2\n",
       "4          159.2"
      ]
     },
     "execution_count": 1,
     "metadata": {},
     "output_type": "execute_result"
    }
   ],
   "source": [
    "# import the required libraries (modules).\n",
    "import numpy as np\n",
    "import pandas as pd\n",
    "import seaborn as sns\n",
    "import matplotlib.pyplot as plt\n",
    "from scipy import stats\n",
    "\n",
    "# Load the \"Fabic data\" and store it an \"fabric\" object.\n",
    "fabric = pd.read_excel(\"Fabric data.xlsx\")\n",
    "\n",
    "# Print the top 5 records with variables.\n",
    "fabric.head()\n"
   ]
  },
  {
   "cell_type": "markdown",
   "id": "6533fde5",
   "metadata": {},
   "source": [
    "<b> Step 1 : Formulate the Null Hypotheses (Ho) and Alternative Hypotheses (H1).\n",
    "    \n",
    "    - Ho : mean ≥ 150\n",
    "    - H1 : mean < 150\n",
    "        \n",
    "        \n",
    "<b> Step 2 : Specify the level of significance (α).\n",
    "    \n",
    "    - alpha (α) = 0.05\n",
    "    \n",
    "    \n",
    "<b> Step 3 : Check for Normality of a given data.\n",
    "    "
   ]
  },
  {
   "cell_type": "code",
   "execution_count": 2,
   "id": "ec5cd6a5",
   "metadata": {},
   "outputs": [
    {
     "data": {
      "text/plain": [
       "0.29650632012590666"
      ]
     },
     "execution_count": 2,
     "metadata": {},
     "output_type": "execute_result"
    }
   ],
   "source": [
    "# Option - 1 ---> Skewness.\n",
    " \n",
    "# Check the normality by using skew() method.\n",
    "fabric[\"Fabric_length\"].skew()"
   ]
  },
  {
   "cell_type": "markdown",
   "id": "62291074",
   "metadata": {},
   "source": [
    "- The skewness is b/w -1 to +1, So it is a normal distribution."
   ]
  },
  {
   "cell_type": "code",
   "execution_count": 12,
   "id": "8ab01b3f",
   "metadata": {},
   "outputs": [
    {
     "data": {
      "image/png": "[encoded data removed]",
      "text/plain": [
       "<Figure size 500x500 with 1 Axes>"
      ]
     },
     "metadata": {},
     "output_type": "display_data"
    }
   ],
   "source": [
    "# Option - 2 ---> Density Curve.\n",
    "\n",
    "# Draw the displot with Density Curve by using displot().\n",
    "sns.displot(fabric[\"Fabric_length\"], kde='True')\n",
    "\n",
    "# Show the plot\n",
    "plt.show()"
   ]
  },
  {
   "cell_type": "markdown",
   "id": "ee7a9e0d",
   "metadata": {},
   "source": [
    "- The density curve is normal symmetric, So it is a normal distribution."
   ]
  },
  {
   "cell_type": "code",
   "execution_count": 3,
   "id": "d913bad8",
   "metadata": {},
   "outputs": [
    {
     "data": {
      "text/plain": [
       "ShapiroResult(statistic=0.9397523999214172, pvalue=0.1460934281349182)"
      ]
     },
     "execution_count": 3,
     "metadata": {},
     "output_type": "execute_result"
    }
   ],
   "source": [
    "# Option - 3 : Shapiro Test.\n",
    "\n",
    "# Aplly the shapiro test to calculate the normality.\n",
    "stats.shapiro(fabric[\"Fabric_length\"])"
   ]
  },
  {
   "cell_type": "markdown",
   "id": "ef307e12",
   "metadata": {},
   "source": [
    "- The Shapiro Test returns two vlues, one is statistical value and another one is p-value.\n",
    "\n",
    "\n",
    "- Here the p-value of shapiro Test is 0.14, here p-value is greater than the alpha value, i.e. p-value (0.14) > 0.05 (alpha). So p high null fly, i.e. Data is normal. "
   ]
  },
  {
   "cell_type": "markdown",
   "id": "e69e69e5",
   "metadata": {},
   "source": [
    "<b> Step 4 : Select the Statistical test and calculate the p-value.\n",
    "- Here data is normaly distributed, 1 sample is there and standard deviation is known then we wil go with z-test."
   ]
  },
  {
   "cell_type": "code",
   "execution_count": 4,
   "id": "e5fa2113",
   "metadata": {},
   "outputs": [
    {
     "data": {
      "text/plain": [
       "155.06399999999996"
      ]
     },
     "execution_count": 4,
     "metadata": {},
     "output_type": "execute_result"
    }
   ],
   "source": [
    "# Calculate the mean.\n",
    "fabric[\"Fabric_length\"].mean()"
   ]
  },
  {
   "cell_type": "markdown",
   "id": "e283c457",
   "metadata": {},
   "source": [
    "- Here the mean value (x̅) is 155.06"
   ]
  },
  {
   "cell_type": "code",
   "execution_count": 5,
   "id": "39e451a8",
   "metadata": {},
   "outputs": [
    {
     "data": {
      "text/plain": [
       "6.325000000000003"
      ]
     },
     "execution_count": 5,
     "metadata": {},
     "output_type": "execute_result"
    }
   ],
   "source": [
    "# Calculate the Z test\n",
    "Z_cal = (155.06 - 150) / (4/np.sqrt(25))\n",
    "\n",
    "# Print the result.\n",
    "Z_cal"
   ]
  },
  {
   "cell_type": "markdown",
   "id": "949e0340",
   "metadata": {},
   "source": [
    "- Here the Z value is 6.32"
   ]
  },
  {
   "cell_type": "code",
   "execution_count": 6,
   "id": "888148e2",
   "metadata": {},
   "outputs": [
    {
     "data": {
      "text/plain": [
       "0.9999999998733837"
      ]
     },
     "execution_count": 6,
     "metadata": {},
     "output_type": "execute_result"
    }
   ],
   "source": [
    "# Calculate the p-value by using stats.norm.cdf().\n",
    "# Pass the Z value.\n",
    "stats.norm.cdf(Z_cal)"
   ]
  },
  {
   "cell_type": "markdown",
   "id": "0a4882ab",
   "metadata": {},
   "source": [
    "- Here the p-value (probability) of the case study is 0.99\n"
   ]
  },
  {
   "cell_type": "markdown",
   "id": "2470bfb0",
   "metadata": {},
   "source": [
    "<b> Step 5 : Based on the p-value, conclude the Hypothesis test."
   ]
  },
  {
   "cell_type": "markdown",
   "id": "5b489333",
   "metadata": {},
   "source": [
    "- Here p-value is greater than the alpha value, i.e. p-value (0.99) > 0.05 (alpha). So p high null fly, i.e. Accepted the Null Hypotheses (Ho).\n",
    "\n",
    "\n",
    "<b> Now we conclude that, here the current mean is greater than the historic mean."
   ]
  },
  {
   "cell_type": "markdown",
   "id": "59382a07",
   "metadata": {},
   "source": [
    "### 2. T-Test :\n",
    "- In order to know how significant the difference between two groups are, T-test is used, basically it tells that difference (measured in means) between two separate groups could have occurred by chance. \n",
    "\n",
    "\n",
    "- This test assumes to have a normal distribution while based on t-distribution, and population parameters such as mean, or standard deviation are unknown.\n",
    "\n",
    "\n",
    "- The ratio between the difference between two groups and the difference within the group is known as T-score. Greater is the t-score, more is the difference between groups, and smaller is the t-score, more similarities are there among groups. "
   ]
  },
  {
   "cell_type": "markdown",
   "id": "a7f36c21",
   "metadata": {},
   "source": [
    "### Steps for T-Testing :\n",
    "**Step 1 :**\n",
    "- Formulate the Null Hypotheses (Ho) and Alternative Hypotheses (H1).\n",
    "\n",
    "\n",
    "**Step 2 :**\n",
    "- Specify the level of significance (α).\n",
    "\n",
    "\n",
    "**Step 3 :**\n",
    "- Check for Normality of a given data.---> 1 Sample \n",
    "\n",
    "\n",
    "- For 2 or more samples, Variance or Leneve Test is applicable, not for 1 sample.\n",
    "- If data is normal, then check for variances are equal or unequal (only for 2 or more samples)\n",
    "           \n",
    "- **Variance Test (Levene Test) :**\n",
    "    - It is used to check the whether the data has equal variances b/w the samples are not.\n",
    "    - Leneve test can be applied on 2 or more samples.\n",
    "    - For Leneve test, the Ho and H1 are always fixed, they are as follows :\n",
    "            \n",
    "                Ho : Variances are equal.\n",
    "                H1 : Variances are unequal (not equal).\n",
    "                  \n",
    "     - If p-value ≤ alpha (p low Null go)    <---> (Variances are not equal)\n",
    "     - If p-value > alpha (p high Null fly)  <---> (Variances are equal)\n",
    "\n",
    "\n",
    "**Step 4 :**\n",
    "- Select the Statistical test and calculate the p-value.\n",
    "    \n",
    "    - If data is normaly distributed and standard deviation is known then perform the z-test.\n",
    "    \n",
    "    - If data is normaly distributed and standard deviation is unknown then perform the t-test.\n",
    "\n",
    "    - The p-value is the probability, computed using the test staitistics, that measures the support (or lack of support) provided by the sample for the null hypothesis.\n",
    "  \n",
    "    - If the p-value is less than or equal to the level of significant α, the value of the test statistic is in the rejection region.\n",
    "    \n",
    "\n",
    "**Step 5 :**\n",
    "- Based on the p-value, conclude the Hypothesis test.\n",
    "\n",
    "     - If p-value ≤ alpha (p low Null go)    <---> (Reject Ho)\n",
    "     - If p-value > alpha (p high Null fly)  <---> (Do not Reject Ho)"
   ]
  },
  {
   "cell_type": "markdown",
   "id": "fb4b9d1e",
   "metadata": {},
   "source": [
    "---------------------------------\n",
    "### Examples for T-Testing :\n",
    "---------------------------------"
   ]
  },
  {
   "cell_type": "markdown",
   "id": "ddda9ac8",
   "metadata": {},
   "source": [
    "### Example - 1 :\n",
    "### Question.\n",
    "\n",
    "The mean diameter of the bolt manufactured should be 10 mm to be able to fit into the nut. 20 samples are taken at random from production line by a quality inspector. Conduct a test to check with 95% confidence that the mean is not different from the specification value ?\n",
    "\n",
    "\n",
    "### Solution :\n",
    "- Random sample (n) = 20\n",
    "- Population mean (μ) = 10 mm\n",
    "- level of significant (α) = 1 - 95% confidence = 1 - 0.95 = 0.05\n"
   ]
  },
  {
   "cell_type": "markdown",
   "id": "e7ae7e17",
   "metadata": {},
   "source": [
    "<b> Here we are Loading the \"Bolt diameter.xlsx\" dataset."
   ]
  },
  {
   "cell_type": "code",
   "execution_count": 3,
   "id": "1d5082d6",
   "metadata": {
    "scrolled": true
   },
   "outputs": [
    {
     "data": {
      "text/html": [
       "<div>\n",
       "<style scoped>\n",
       "    .dataframe tbody tr th:only-of-type {\n",
       "        vertical-align: middle;\n",
       "    }\n",
       "\n",
       "    .dataframe tbody tr th {\n",
       "        vertical-align: top;\n",
       "    }\n",
       "\n",
       "    .dataframe thead th {\n",
       "        text-align: right;\n",
       "    }\n",
       "</style>\n",
       "<table border=\"1\" class=\"dataframe\">\n",
       "  <thead>\n",
       "    <tr style=\"text-align: right;\">\n",
       "      <th></th>\n",
       "      <th>Diameter</th>\n",
       "    </tr>\n",
       "  </thead>\n",
       "  <tbody>\n",
       "    <tr>\n",
       "      <th>0</th>\n",
       "      <td>11.27</td>\n",
       "    </tr>\n",
       "    <tr>\n",
       "      <th>1</th>\n",
       "      <td>12.06</td>\n",
       "    </tr>\n",
       "    <tr>\n",
       "      <th>2</th>\n",
       "      <td>12.15</td>\n",
       "    </tr>\n",
       "    <tr>\n",
       "      <th>3</th>\n",
       "      <td>9.89</td>\n",
       "    </tr>\n",
       "    <tr>\n",
       "      <th>4</th>\n",
       "      <td>10.82</td>\n",
       "    </tr>\n",
       "  </tbody>\n",
       "</table>\n",
       "</div>"
      ],
      "text/plain": [
       "   Diameter\n",
       "0     11.27\n",
       "1     12.06\n",
       "2     12.15\n",
       "3      9.89\n",
       "4     10.82"
      ]
     },
     "execution_count": 3,
     "metadata": {},
     "output_type": "execute_result"
    }
   ],
   "source": [
    "# import the required libraries (modules).\n",
    "import numpy as np\n",
    "import pandas as pd\n",
    "import seaborn as sns\n",
    "import matplotlib.pyplot as plt\n",
    "from scipy import stats\n",
    "\n",
    "# Load the \"Bolt diameter\" and store it an \"bolt\" object.\n",
    "bolt = pd.read_excel(\"Bolt diameter.xlsx\")\n",
    "\n",
    "# Print the top 5 records with variables.\n",
    "bolt.head()\n"
   ]
  },
  {
   "cell_type": "markdown",
   "id": "78a14ea1",
   "metadata": {},
   "source": [
    "<b> Step 1 : Formulate the Null Hypotheses (Ho) and Alternative Hypotheses (H1).\n",
    "    \n",
    "    - Ho : mean = 10\n",
    "    - H1 : mean ≠ 10\n",
    "        \n",
    "        \n",
    "<b> Step 2 : Specify the level of significance (α).\n",
    "    \n",
    "    - alpha (α) = 0.05\n",
    "    \n",
    "    \n",
    "<b> Step 3 : Check for Normality for a given data.\n",
    "- Here we are going to ckeck the Normality by using skew() method.\n",
    "    "
   ]
  },
  {
   "cell_type": "code",
   "execution_count": 5,
   "id": "32957b06",
   "metadata": {},
   "outputs": [
    {
     "data": {
      "text/plain": [
       "0.6445226828124262"
      ]
     },
     "execution_count": 5,
     "metadata": {},
     "output_type": "execute_result"
    }
   ],
   "source": [
    "# Option - 1 ---> Skewness.\n",
    " \n",
    "# Check the normality by using skew() method.\n",
    "bolt[\"Diameter\"].skew()"
   ]
  },
  {
   "cell_type": "markdown",
   "id": "5d56abcb",
   "metadata": {},
   "source": [
    "- The skewness is b/w -1 to +1, So it is a normal distribution.\n",
    "\n",
    "\n",
    "- Since here only 1 sample is there, so Variance or Leneve Test is not applicable for this test case."
   ]
  },
  {
   "cell_type": "markdown",
   "id": "70fe9ab5",
   "metadata": {},
   "source": [
    "<b> Step 4 : Select the Statistical test and calculate the p-value.\n",
    "- Here data is normaly distributed, 1 sample is there and standard deviation is unknown then we wil go with T-test."
   ]
  },
  {
   "cell_type": "code",
   "execution_count": 7,
   "id": "35779858",
   "metadata": {},
   "outputs": [
    {
     "data": {
      "text/plain": [
       "Ttest_1sampResult(statistic=2.5004223235538663, pvalue=0.02172106414355985)"
      ]
     },
     "execution_count": 7,
     "metadata": {},
     "output_type": "execute_result"
    }
   ],
   "source": [
    "# Calculate the p-value by using stats.ttest_1samp().\n",
    "# Pass the Sample observation as bolt[\"Diameter\"]\n",
    "# And Diameter = 10\n",
    "stats.ttest_1samp(bolt[\"Diameter\"], 10)"
   ]
  },
  {
   "cell_type": "markdown",
   "id": "df6459ad",
   "metadata": {},
   "source": [
    "- Here stats.ttest_1samp is used to calculate the T-test for the mean of ONE group of scores.\n",
    "\n",
    "\n",
    "- Here Sample observation is bolt[\"Diameter\"] and its Diameter = 10.\n",
    "\n",
    "\n",
    "- stats.ttest_1samp, it returns the statistical value and p-value. Here the p-value (probability) of the case study is 0.021"
   ]
  },
  {
   "cell_type": "markdown",
   "id": "bcf93562",
   "metadata": {},
   "source": [
    "<b> Step 5 : Based on the p-value, conclude the Hypothesis test."
   ]
  },
  {
   "cell_type": "markdown",
   "id": "66f858d2",
   "metadata": {},
   "source": [
    "- Here p-value is not equal to the alpha value, i.e. p-value (0.021) ≠ 0.05 (alpha). So p low null go, i.e. Reject the Null Hypotheses (Ho).\n",
    "\n",
    "\n",
    "<b> Now we conclude that with 95% confidence, the mean diameter of the bolt manufactured is different from the specification value."
   ]
  },
  {
   "cell_type": "markdown",
   "id": "650df6c8",
   "metadata": {},
   "source": [
    "### Example - 2 :\n",
    "### Question.\n",
    "\n",
    "A financial analyst at a Financial Institute wants to evaluate a recent credit card promotion. After this promotion, 500 cardholders were randomly selected. Half received an ad promoting a full waiver of interest rate on purchases made over the next three months, and half received a standard Christmas advertisement. Did the ad promoting full interest rate waiver, increase purchases ?\n",
    "\n",
    "\n",
    "### Solution :\n",
    "- level of significant (α) = 1 - 95% confidence = 1 - 0.95 = 0.05\n"
   ]
  },
  {
   "cell_type": "markdown",
   "id": "62a74ddc",
   "metadata": {},
   "source": [
    "<b> Here we are Loading the \"Promotion.xlsx\" dataset."
   ]
  },
  {
   "cell_type": "code",
   "execution_count": 2,
   "id": "0d725e38",
   "metadata": {},
   "outputs": [
    {
     "data": {
      "text/html": [
       "<div>\n",
       "<style scoped>\n",
       "    .dataframe tbody tr th:only-of-type {\n",
       "        vertical-align: middle;\n",
       "    }\n",
       "\n",
       "    .dataframe tbody tr th {\n",
       "        vertical-align: top;\n",
       "    }\n",
       "\n",
       "    .dataframe thead th {\n",
       "        text-align: right;\n",
       "    }\n",
       "</style>\n",
       "<table border=\"1\" class=\"dataframe\">\n",
       "  <thead>\n",
       "    <tr style=\"text-align: right;\">\n",
       "      <th></th>\n",
       "      <th>InterestRateWaiver</th>\n",
       "      <th>StandardPromotion</th>\n",
       "    </tr>\n",
       "  </thead>\n",
       "  <tbody>\n",
       "    <tr>\n",
       "      <th>0</th>\n",
       "      <td>1989.10</td>\n",
       "      <td>1272.25</td>\n",
       "    </tr>\n",
       "    <tr>\n",
       "      <th>1</th>\n",
       "      <td>1808.38</td>\n",
       "      <td>1250.38</td>\n",
       "    </tr>\n",
       "    <tr>\n",
       "      <th>2</th>\n",
       "      <td>1153.75</td>\n",
       "      <td>1474.78</td>\n",
       "    </tr>\n",
       "    <tr>\n",
       "      <th>3</th>\n",
       "      <td>1745.64</td>\n",
       "      <td>2064.89</td>\n",
       "    </tr>\n",
       "    <tr>\n",
       "      <th>4</th>\n",
       "      <td>1008.24</td>\n",
       "      <td>2030.87</td>\n",
       "    </tr>\n",
       "  </tbody>\n",
       "</table>\n",
       "</div>"
      ],
      "text/plain": [
       "   InterestRateWaiver  StandardPromotion\n",
       "0             1989.10            1272.25\n",
       "1             1808.38            1250.38\n",
       "2             1153.75            1474.78\n",
       "3             1745.64            2064.89\n",
       "4             1008.24            2030.87"
      ]
     },
     "execution_count": 2,
     "metadata": {},
     "output_type": "execute_result"
    }
   ],
   "source": [
    "# import the required libraries (modules).\n",
    "import numpy as np\n",
    "import pandas as pd\n",
    "import seaborn as sns\n",
    "import matplotlib.pyplot as plt\n",
    "from scipy import stats\n",
    "\n",
    "# Load the \"Promotion.xlsx\" and store it an \"Promotion\" object.\n",
    "Promotion = pd.read_excel(\"Promotion.xlsx\")\n",
    "\n",
    "# Print the top 5 records with variables.\n",
    "Promotion.head()\n"
   ]
  },
  {
   "cell_type": "markdown",
   "id": "13d1dbf1",
   "metadata": {},
   "source": [
    "<b> Step 1 : Formulate the Null Hypotheses (Ho) and Alternative Hypotheses (H1).\n",
    "    \n",
    "   - Ho : Average of purchases made by full interest rate waiver > Average purchases made by standard Christmas (No action)\n",
    "   - H1 : Average of purchases made by full interest rate waiver <= Average purchases made by standard Christmas (Need to take action)\n",
    "        \n",
    "        \n",
    "<b> Step 2 : Specify the level of significance (α).\n",
    "    \n",
    "    - alpha (α) = 0.05\n",
    "    \n",
    "    \n",
    "<b> Step 3 : Check for Normality for a given data.\n",
    "- Here we are going to ckeck the Normality by using skew() method.\n",
    "    "
   ]
  },
  {
   "cell_type": "code",
   "execution_count": 5,
   "id": "1ddf2c53",
   "metadata": {},
   "outputs": [
    {
     "data": {
      "text/plain": [
       "-0.18684892781977713"
      ]
     },
     "execution_count": 5,
     "metadata": {},
     "output_type": "execute_result"
    }
   ],
   "source": [
    "# Option - 1 ---> Skewness.\n",
    " \n",
    "# Check the normality by using skew() method.\n",
    "Promotion[\"InterestRateWaiver\"].skew()"
   ]
  },
  {
   "cell_type": "code",
   "execution_count": 4,
   "id": "0806ef26",
   "metadata": {},
   "outputs": [
    {
     "data": {
      "text/plain": [
       "0.1556560407787531"
      ]
     },
     "execution_count": 4,
     "metadata": {},
     "output_type": "execute_result"
    }
   ],
   "source": [
    "# Option - 1 ---> Skewness.\n",
    " \n",
    "# Check the normality by using skew() method.\n",
    "Promotion[\"StandardPromotion\"].skew()"
   ]
  },
  {
   "cell_type": "markdown",
   "id": "539eac53",
   "metadata": {},
   "source": [
    "- In the above, we can see that the skewness of both the variables are b/w -1 to +1, So thase variables are normaly distributed.\n",
    "\n",
    "\n",
    "- Here 2 samples are there, so Variance or Leneve Test is applicable for this test case."
   ]
  },
  {
   "cell_type": "markdown",
   "id": "9a98135e",
   "metadata": {},
   "source": [
    "<b> Variance Test or Levene Test :\n",
    "    \n",
    "For Leneve test, the Ho and H1 are always fixed, they are as follows :\n",
    "\n",
    "   - Ho : Variances are equal.\n",
    "   - H1 : Variances are unequal (not equal)."
   ]
  },
  {
   "cell_type": "code",
   "execution_count": 6,
   "id": "40c9a341",
   "metadata": {},
   "outputs": [
    {
     "data": {
      "text/plain": [
       "LeveneResult(statistic=1.1334674473666406, pvalue=0.2875528565130808)"
      ]
     },
     "execution_count": 6,
     "metadata": {},
     "output_type": "execute_result"
    }
   ],
   "source": [
    "# Apply the Variance or Levene test.\n",
    "stats.levene(Promotion.InterestRateWaiver, Promotion.StandardPromotion)"
   ]
  },
  {
   "cell_type": "markdown",
   "id": "6ae878bf",
   "metadata": {},
   "source": [
    "From the above, we have applied the Levene test on both variables. The Levene test tests the null hypothesis that all input samples are from populations with equal variances.\n",
    "\n",
    "\n",
    "Here we got p-value of levene test is 0.28\n",
    "\n",
    "\n",
    "Here p-value of Levene test is greater than the alpha value, hence p-value > alpha (p high Null fly) <---> (Variances are equal)"
   ]
  },
  {
   "cell_type": "markdown",
   "id": "0b34e1d4",
   "metadata": {},
   "source": [
    "<b> Step 4 : Select the Statistical test and calculate the p-value.\n",
    "- Here data is normaly distributed, variances are equal, 2 samples are there and standard deviation is unknown then we wil go with T-test."
   ]
  },
  {
   "cell_type": "code",
   "execution_count": 7,
   "id": "acca6a0d",
   "metadata": {},
   "outputs": [
    {
     "data": {
      "text/plain": [
       "Ttest_indResult(statistic=2.260425163136941, pvalue=0.02422584468584312)"
      ]
     },
     "execution_count": 7,
     "metadata": {},
     "output_type": "execute_result"
    }
   ],
   "source": [
    "# Apply the t-test and calculate the p-value by using stats.ttest_ind().\n",
    "# Pass the two arrays i.e. two variables.\n",
    "# And Diameter = 10\n",
    "stats.ttest_ind(Promotion.InterestRateWaiver, Promotion.StandardPromotion, equal_var=True)"
   ]
  },
  {
   "cell_type": "markdown",
   "id": "441c243a",
   "metadata": {},
   "source": [
    "- Here stats.ttest_ind is used to Calculate the T-test for the means of *two independent* samples of scores.\n",
    "\n",
    "\n",
    "- Here equal_var=True : Perform a standard independent 2 sample test that assumes equal population variances.\n",
    "\n",
    "\n",
    "- stats.ttest_ind, it returns the statistical value and p-value. Here the p-value (probability) of the case study is 0.024"
   ]
  },
  {
   "cell_type": "markdown",
   "id": "97e095b2",
   "metadata": {},
   "source": [
    "<b> Step 5 : Based on the p-value, conclude the Hypothesis test."
   ]
  },
  {
   "cell_type": "markdown",
   "id": "fab164a5",
   "metadata": {},
   "source": [
    "- Here p-value is less than the alpha value, i.e. p-value (0.024) <= 0.05 (alpha). So p low null go, i.e. Reject the Null Hypotheses (Ho).\n",
    "\n",
    "\n",
    "<b> Now we conclude that with 95% confidence, an ad promoting a full waiver of interest rate on purchases made over the next three months will not increase the Purchases."
   ]
  },
  {
   "cell_type": "markdown",
   "id": "c906542e",
   "metadata": {},
   "source": [
    "-----------------\n",
    "### 3. Anova Test :\n",
    "- Anova stands for \"Analysis of Variance\".\n",
    "\n",
    "\n",
    "- An ANOVA test is a type of statistical test used to determine if there is a statistically significant difference between two or more categorical groups by testing for differences of means using variance.\n",
    "\n",
    "\n",
    "- We use ANOVA Test whenever we need a comparison of the means of the state between more than two groups.\n",
    "\n",
    "\n",
    "<b> The ANOVA Tests can be classified into three major types. These types are shown below :\n",
    "\n",
    "- **One-Way ANOVA Test :** An Analysis of Variance Test that has only one independent variable is known as the One-way ANOVA Test.\n",
    "    \n",
    "    \n",
    "- **Two-Way ANOVA Test :** An Analysis of Variance Test that has two independent variables is known as a Two-way ANOVA test. This test is also known as Factorial ANOVA Test.\n",
    "    \n",
    "    \n",
    "- **n-Way ANOVA Test :** An Analysis of Variance Test is considered an n-way ANOVA Test if a researcher uses more than two independent variables. Here n represents the number of independent variables we have. This Test is also known as MANOVA Test."
   ]
  },
  {
   "cell_type": "markdown",
   "id": "917a9152",
   "metadata": {},
   "source": [
    "### Steps for Anova-Testing :\n",
    "**Step 1 :**\n",
    "- Formulate the Null Hypotheses (Ho) and Alternative Hypotheses (H1).\n",
    "\n",
    "\n",
    "**Step 2 :**\n",
    "- Specify the level of significance (α).\n",
    "\n",
    "\n",
    "**Step 3 :**\n",
    "- Check for Normality of a given data.\n",
    "\n",
    "\n",
    "- For 2 or more samples, Variance or Leneve Test is applicable, not for 1 sample.\n",
    "- If data is normal, then check for variances are equal or unequal (only for 2 or more samples)\n",
    "           \n",
    "- **Variance Test (Levene Test) :**\n",
    "    - It is used to check the whether the data has equal variances b/w the samples are not.\n",
    "    - Leneve test can be applied on 2 or more samples.\n",
    "    - For Leneve test, the Ho and H1 are always fixed, they are as follows :\n",
    "            \n",
    "                Ho : Variances are equal.\n",
    "                H1 : Variances are unequal (not equal).\n",
    "                  \n",
    "     - If p-value ≤ alpha (p low Null go)    <---> (Variances are not equal)\n",
    "     - If p-value > alpha (p high Null fly)  <---> (Variances are equal)\n",
    "\n",
    "\n",
    "**Step 4 :**\n",
    "- Select the Statistical test and calculate the p-value.\n",
    "    \n",
    "    - If data is normaly distributed and standard deviation is known then perform the z-test.\n",
    "    \n",
    "    - If data is normaly distributed and standard deviation is unknown then perform the t-test.\n",
    "    \n",
    "    - If data is normaly distributed, samples are more than two and standard deviation is unknown then perform the Anova-test.\n",
    "\n",
    "    - The p-value is the probability, computed using the test staitistics, that measures the support (or lack of support) provided by the sample for the null hypothesis.\n",
    "  \n",
    "    - If the p-value is less than or equal to the level of significant α, the value of the test statistic is in the rejection region.\n",
    "    \n",
    "\n",
    "**Step 5 :**\n",
    "- Based on the p-value, conclude the Hypothesis test.\n",
    "\n",
    "     - If p-value ≤ alpha (p low Null go)    <---> (Reject Ho)\n",
    "     - If p-value > alpha (p high Null fly)  <---> (Do not Reject Ho)"
   ]
  },
  {
   "cell_type": "markdown",
   "id": "b6ee2547",
   "metadata": {},
   "source": [
    "---------------------------------\n",
    "### Examples for Anova-Testing :\n",
    "---------------------------------"
   ]
  },
  {
   "cell_type": "markdown",
   "id": "cbb0fa47",
   "metadata": {},
   "source": [
    "### Example - 1 :\n",
    "### Question.\n",
    "\n",
    "A marketing organization outsources their back-office operations to three different suppliers. The contracts are up for renewal and the CMO wants to determine whether they should renew contracts with all supliers or any specific supplier. CMO want to renew the contract of supplier with the least transaction time. CMO will renew all contracts if the performance of all suppliers is similar.\n",
    "\n",
    "\n",
    "### Solution :\n",
    "- level of significant (α) =  0.05\n"
   ]
  },
  {
   "cell_type": "markdown",
   "id": "47539a96",
   "metadata": {},
   "source": [
    "<b> Here we are Loading the \"Contract Renewal.xlsx\" dataset."
   ]
  },
  {
   "cell_type": "code",
   "execution_count": 3,
   "id": "30b3a1ba",
   "metadata": {},
   "outputs": [
    {
     "data": {
      "text/html": [
       "<div>\n",
       "<style scoped>\n",
       "    .dataframe tbody tr th:only-of-type {\n",
       "        vertical-align: middle;\n",
       "    }\n",
       "\n",
       "    .dataframe tbody tr th {\n",
       "        vertical-align: top;\n",
       "    }\n",
       "\n",
       "    .dataframe thead th {\n",
       "        text-align: right;\n",
       "    }\n",
       "</style>\n",
       "<table border=\"1\" class=\"dataframe\">\n",
       "  <thead>\n",
       "    <tr style=\"text-align: right;\">\n",
       "      <th></th>\n",
       "      <th>SupplierA</th>\n",
       "      <th>SupplierB</th>\n",
       "      <th>SupplierC</th>\n",
       "    </tr>\n",
       "  </thead>\n",
       "  <tbody>\n",
       "    <tr>\n",
       "      <th>0</th>\n",
       "      <td>6.15</td>\n",
       "      <td>7.87</td>\n",
       "      <td>7.41</td>\n",
       "    </tr>\n",
       "    <tr>\n",
       "      <th>1</th>\n",
       "      <td>6.22</td>\n",
       "      <td>5.21</td>\n",
       "      <td>3.61</td>\n",
       "    </tr>\n",
       "    <tr>\n",
       "      <th>2</th>\n",
       "      <td>6.76</td>\n",
       "      <td>7.94</td>\n",
       "      <td>7.23</td>\n",
       "    </tr>\n",
       "    <tr>\n",
       "      <th>3</th>\n",
       "      <td>4.29</td>\n",
       "      <td>7.36</td>\n",
       "      <td>5.53</td>\n",
       "    </tr>\n",
       "    <tr>\n",
       "      <th>4</th>\n",
       "      <td>7.08</td>\n",
       "      <td>6.17</td>\n",
       "      <td>3.97</td>\n",
       "    </tr>\n",
       "  </tbody>\n",
       "</table>\n",
       "</div>"
      ],
      "text/plain": [
       "   SupplierA  SupplierB  SupplierC\n",
       "0       6.15       7.87       7.41\n",
       "1       6.22       5.21       3.61\n",
       "2       6.76       7.94       7.23\n",
       "3       4.29       7.36       5.53\n",
       "4       7.08       6.17       3.97"
      ]
     },
     "execution_count": 3,
     "metadata": {},
     "output_type": "execute_result"
    }
   ],
   "source": [
    "# import the required libraries (modules).\n",
    "import numpy as np\n",
    "import pandas as pd\n",
    "import seaborn as sns\n",
    "import matplotlib.pyplot as plt\n",
    "from scipy import stats\n",
    "\n",
    "# Load the \"Contract Renewal.xlsx\" and store it an \"cr\" object.\n",
    "cr = pd.read_excel(\"Contract Renewal.xlsx\")\n",
    "\n",
    "# Print the top 5 records with variables.\n",
    "cr.head()"
   ]
  },
  {
   "cell_type": "markdown",
   "id": "55806420",
   "metadata": {},
   "source": [
    "<b> Step 1 : Formulate the Null Hypotheses (Ho) and Alternative Hypotheses (H1).\n",
    "    \n",
    "   - Ho : Average time by all supliers are equal (No action)\n",
    "   - H1 : Average time by all supliers are not equal  (Need to take action)\n",
    "        \n",
    "        \n",
    "<b> Step 2 : Specify the level of significance (α).\n",
    "    \n",
    "   - alpha (α) = 0.05\n",
    "    \n",
    "    \n",
    "<b> Step 3 : Check for Normality for a given data.\n",
    "- Here we are going to ckeck the Normality by using skew() method."
   ]
  },
  {
   "cell_type": "code",
   "execution_count": 9,
   "id": "e8aea960",
   "metadata": {},
   "outputs": [
    {
     "data": {
      "text/plain": [
       "0.12032960598073743"
      ]
     },
     "execution_count": 9,
     "metadata": {},
     "output_type": "execute_result"
    }
   ],
   "source": [
    "# Option - 1 ---> Skewness.\n",
    " \n",
    "# Check the normality by using skew() method.\n",
    "cr[\"SupplierA\"].skew()"
   ]
  },
  {
   "cell_type": "code",
   "execution_count": 10,
   "id": "e2c6f048",
   "metadata": {},
   "outputs": [
    {
     "data": {
      "text/plain": [
       "-0.0698296793588264"
      ]
     },
     "execution_count": 10,
     "metadata": {},
     "output_type": "execute_result"
    }
   ],
   "source": [
    "# Option - 1 ---> Skewness.\n",
    " \n",
    "# Check the normality by using skew() method.\n",
    "cr[\"SupplierB\"].skew()"
   ]
  },
  {
   "cell_type": "code",
   "execution_count": 11,
   "id": "37158303",
   "metadata": {},
   "outputs": [
    {
     "data": {
      "text/plain": [
       "0.2511683388309266"
      ]
     },
     "execution_count": 11,
     "metadata": {},
     "output_type": "execute_result"
    }
   ],
   "source": [
    "# Option - 1 ---> Skewness.\n",
    " \n",
    "# Check the normality by using skew() method.\n",
    "cr[\"SupplierC\"].skew()"
   ]
  },
  {
   "cell_type": "markdown",
   "id": "a7cbb6ca",
   "metadata": {},
   "source": [
    "- In the above, we can see that the skewness of given 3 samples (variables) are b/w -1 to +1, So thase variables are normaly distributed.\n",
    "\n",
    "\n",
    "- Here 3 samples are given, so Variance or Leneve Test is applicable for this test case."
   ]
  },
  {
   "cell_type": "markdown",
   "id": "af00a938",
   "metadata": {},
   "source": [
    "<b> Variance Test or Levene Test :\n",
    "    \n",
    "For Leneve test, the Ho and H1 are always fixed, they are as follows :\n",
    "\n",
    "   - Ho : Variances are equal.\n",
    "   - H1 : Variances are unequal (not equal)."
   ]
  },
  {
   "cell_type": "code",
   "execution_count": 13,
   "id": "65ae095f",
   "metadata": {},
   "outputs": [
    {
     "name": "stdout",
     "output_type": "stream",
     "text": [
      "LeveneResult(statistic=0.03382395609148779, pvalue=0.8542383784793752)\n",
      "LeveneResult(statistic=0.4712013339466693, pvalue=0.49310323292578306)\n",
      "LeveneResult(statistic=0.24333902699144816, pvalue=0.6222596854892893)\n"
     ]
    }
   ],
   "source": [
    "# Apply the Variance or Levene test.\n",
    "print(stats.levene(cr.SupplierA, cr.SupplierB))\n",
    "print(stats.levene(cr.SupplierA, cr.SupplierC))\n",
    "print(stats.levene(cr.SupplierB, cr.SupplierC))"
   ]
  },
  {
   "cell_type": "markdown",
   "id": "1f432ee7",
   "metadata": {},
   "source": [
    "From the above, we have applied the Levene test on 3 given variables. The Levene test tests the null hypothesis that all input samples are from populations with equal variances.\n",
    "\n",
    "\n",
    "Here p-value of Levene test for a given 3 samples (variables) are greater than the alpha value, hence p-value > alpha (p high Null fly) <---> (Variances are equal)"
   ]
  },
  {
   "cell_type": "markdown",
   "id": "086f6aed",
   "metadata": {},
   "source": [
    "<b> Step 4 : Select the Statistical test and calculate the p-value.\n",
    "- Here data is normaly distributed, variances are equal, 3 samples are given and standard deviation is unknown then we wil go with Anova-test."
   ]
  },
  {
   "cell_type": "code",
   "execution_count": 14,
   "id": "3249dfc1",
   "metadata": {},
   "outputs": [
    {
     "data": {
      "text/plain": [
       "F_onewayResult(statistic=2.2803787013681234, pvalue=0.10373295731933224)"
      ]
     },
     "execution_count": 14,
     "metadata": {},
     "output_type": "execute_result"
    }
   ],
   "source": [
    "# Apply the Anova-test and calculate the p-value by using stats.f_oneway().\n",
    "# Pass the two arrays i.e. 3 variables.\n",
    "stats.f_oneway(cr.SupplierA, cr.SupplierB, cr.SupplierC)"
   ]
  },
  {
   "cell_type": "markdown",
   "id": "4bf7564a",
   "metadata": {},
   "source": [
    "- Here stats.f_oneway is used to Calculate the Anova-test for the means of *three independent* samples of scores.\n",
    "\n",
    "\n",
    "- stats.f_oneway, it returns the statistical value and p-value. Here the p-value (probability) of the case study is 0.103"
   ]
  },
  {
   "cell_type": "markdown",
   "id": "11534ebf",
   "metadata": {},
   "source": [
    "<b> Step 5 : Based on the p-value, conclude the Hypothesis test."
   ]
  },
  {
   "cell_type": "markdown",
   "id": "814f587b",
   "metadata": {},
   "source": [
    "- Here p-value is greater than the alpha value, i.e. p-value (0.103) > 0.05 (alpha). So p high null fly, i.e. Accept the Null Hypotheses (Ho).\n",
    "\n",
    "\n",
    "<b> Now we conclude that with 95% confidence, all the 3 suppliers have equal mean transaction time. So CMO should be renew the contract of all suppliers."
   ]
  },
  {
   "cell_type": "markdown",
   "id": "6b2ea685",
   "metadata": {},
   "source": [
    "---------------------\n",
    "### Non-Paremetric Test :\n",
    "---------------------"
   ]
  },
  {
   "cell_type": "markdown",
   "id": "6f30e202",
   "metadata": {},
   "source": [
    "### 1. One Proportion Test :\n",
    "- The 1 proportion test tells you whether the proportion is equal to a target value.\n",
    "\n",
    "\n",
    "- The single proportion (or one-sample) binomial test is used to compare a proportion of responses or values in a sample of data to a (hypothesized) proportion in the population from which our sample data are drawn.\n",
    "\n",
    "\n",
    "- The One Proportion Test is a non-parametric test for testing the significant difference of single frequency.\n",
    "\n",
    "\n",
    "- When the data is discreate variable, if we want to calculate hypothesis test on that data and one sample given, then we will go with One Proportion Test \n",
    "\n",
    "\n",
    "- Perform a test that the probability of success is p.\n",
    "\n",
    "\n",
    "- This is an exact, two-sided test of the null hypothesis that the probability of success in a Bernoulli experiment is p.\n"
   ]
  },
  {
   "cell_type": "markdown",
   "id": "751fed03",
   "metadata": {},
   "source": [
    "### Steps for One Proportion Test :\n",
    "- Step 1 : Formulate the Null Hypotheses (Ho) and Alternative Hypotheses (H1).\n",
    "\n",
    "\n",
    "- Step 2 : Specify the level of significance (α).\n",
    "\n",
    "\n",
    "- Step 3 : Select the Statistical test and calculate the p-value.\n",
    "    \n",
    "    - If inferenceing based on single discreate variable, then perform One Proportion Test.\n",
    "    \n",
    "    - If inferenceing based on two discreate variables, then perform two Proportion Test.\n",
    "    \n",
    "    - If inferenceing based on more than two discreate variables, then perform Chi-Square Test.\n",
    "\n",
    "    - The p-value is the probability, computed using the test staitistics, that measures the support (or lack of support) provided by the sample for the null hypothesis.\n",
    "  \n",
    "    - If the p-value is less than or equal to the level of significant α, the value of the test statistic is in the rejection region.\n",
    "    \n",
    "    \n",
    "- Step 4 : Based on the p-value, conclude the Hypothesis test.\n",
    "\n",
    "     - If p-value ≤ alpha (p low Null go)    <---> (Reject Ho)\n",
    "     - If p-value > alpha (p high Null fly)  <---> (Do not Reject Ho)\n",
    "    "
   ]
  },
  {
   "cell_type": "markdown",
   "id": "10586c84",
   "metadata": {},
   "source": [
    "---------------------------------\n",
    "### Examples for One Proportion Test :\n",
    "---------------------------------"
   ]
  },
  {
   "cell_type": "markdown",
   "id": "6ba27303",
   "metadata": {},
   "source": [
    "### Example - 1 :\n",
    "### Question.\n",
    "\n",
    "The people carry out a poll to find the accetability of new football coach. It was decided that if the support rate for the coach for the entire population was truly less than 25%, the coach would be fired. 2000 people participated and 482 people supported the new coach. Conduct a test to check if the new coach should be fired with 95% level of confidence ?\n",
    "\n",
    "\n",
    "### Solution :\n",
    "- level of significant (α) =  0.05\n"
   ]
  },
  {
   "cell_type": "markdown",
   "id": "6e4f69cc",
   "metadata": {},
   "source": [
    "<b> Step 1 : Formulate the Null Hypotheses (Ho) and Alternative Hypotheses (H1).\n",
    "    \n",
    "   - Ho : Coach not to be fired (No action)\n",
    "   - H1 : Coach to be fired  (Need to take action)\n",
    "        \n",
    "        \n",
    "<b> Step 2 : Specify the level of significance (α).\n",
    "    \n",
    "   - alpha (α) = 0.05\n",
    "    \n",
    "    "
   ]
  },
  {
   "cell_type": "markdown",
   "id": "24827fa9",
   "metadata": {},
   "source": [
    "<b> Step 3 : Select the Statistical test and calculate the p-value.\n",
    "\n",
    "- Hence inferenceing based on single discreate variable, then we will go with One Proportion Test."
   ]
  },
  {
   "cell_type": "code",
   "execution_count": 4,
   "id": "0e15f543",
   "metadata": {},
   "outputs": [
    {
     "name": "stderr",
     "output_type": "stream",
     "text": [
      "C:\\Users\\Administrator\\anaconda3\\lib\\site-packages\\scipy\\stats\\_discrete_distns.py:78: RuntimeWarning: divide by zero encountered in _binom_pdf\n",
      "  return _boost._binom_pdf(x, n, p)\n"
     ]
    },
    {
     "data": {
      "text/plain": [
       "0.3661511582182897"
      ]
     },
     "execution_count": 4,
     "metadata": {},
     "output_type": "execute_result"
    }
   ],
   "source": [
    "# Apply the one proportion test and calculate the p-value by using binom_test().\n",
    "stats.binom_test(482, 2000, 0.25)"
   ]
  },
  {
   "cell_type": "markdown",
   "id": "2e675973",
   "metadata": {},
   "source": [
    "- Here stats.binom_test() compares a sample proportion to a hypothesized proportion.\n",
    "\n",
    "\n",
    "- Number of successes (supported) = 482\n",
    "\n",
    "\n",
    "- Total trial taken the number of peoples = 2000\n",
    "\n",
    "\n",
    "- The probability of success (support) on each trial = 0.25\n",
    "\n",
    "\n",
    "- The alternative hypothesis. Default is ‘two-sided’.\n",
    "\n",
    "\n",
    "- This function returns the p-value of the test. Here the p-value (probability) of the case study is 0.366"
   ]
  },
  {
   "cell_type": "markdown",
   "id": "4ee2b27f",
   "metadata": {},
   "source": [
    "<b> Step 4 : Based on the p-value, conclude the Hypothesis test.\n",
    "- Here p-value is greater than the alpha value, i.e. p-value (0.366) > 0.05 (alpha). So p high null fly, i.e. Accept the Null Hypotheses (Ho).\n",
    "    \n",
    "    \n",
    "<b> Now we conclude that with 95% confidence, coach should not to be fired.\n",
    "    "
   ]
  },
  {
   "cell_type": "markdown",
   "id": "62979517",
   "metadata": {},
   "source": [
    "--------------------------------------"
   ]
  },
  {
   "cell_type": "markdown",
   "id": "c9a2893c",
   "metadata": {},
   "source": [
    "### 2. Two Proportion Test :\n",
    "- The two-proportion test is used to compare two observed proportions.\n",
    "\n",
    "\n",
    "- This uses a simple normal test for proportions. It should be the same as running the mean z-test on the data encoded 1 for event and 0 for no event so that the sum corresponds to the count.\n",
    "\n",
    "\n",
    "- In the one and two sample cases with two-sided alternative, this test produces the same p-value as proportions_chisquare, since the chisquare is the distribution of the square of a standard normal distribution.\n"
   ]
  },
  {
   "cell_type": "markdown",
   "id": "b29845e1",
   "metadata": {},
   "source": [
    "### Steps for Two Proportion Test :\n",
    "- Step 1 : Formulate the Null Hypotheses (Ho) and Alternative Hypotheses (H1).\n",
    "\n",
    "\n",
    "- Step 2 : Specify the level of significance (α).\n",
    "\n",
    "\n",
    "- Step 3 : Select the Statistical test and calculate the p-value.\n",
    "    \n",
    "    - If inferenceing based on single discreate variable, then perform One Proportion Test.\n",
    "    \n",
    "    - If inferenceing based on two discreate variables, then perform two Proportion Test.\n",
    "    \n",
    "    - If inferenceing based on more than two discreate variables, then perform Chi-Square Test.\n",
    "\n",
    "    - The p-value is the probability, computed using the test staitistics, that measures the support (or lack of support) provided by the sample for the null hypothesis.\n",
    "  \n",
    "    - If the p-value is less than or equal to the level of significant α, the value of the test statistic is in the rejection region.\n",
    "    \n",
    "    \n",
    "- Step 4 : Based on the p-value, conclude the Hypothesis test.\n",
    "\n",
    "     - If p-value ≤ alpha (p low Null go)    <---> (Reject Ho)\n",
    "     - If p-value > alpha (p high Null fly)  <---> (Do not Reject Ho)\n",
    "    "
   ]
  },
  {
   "cell_type": "markdown",
   "id": "015dcffc",
   "metadata": {},
   "source": [
    "---------------------------------\n",
    "### Examples for One Proportion Test :\n",
    "---------------------------------"
   ]
  },
  {
   "cell_type": "markdown",
   "id": "9d94ca15",
   "metadata": {},
   "source": [
    "### Example - 1 :\n",
    "### Question.\n",
    "\n",
    "Johnnie Talkers soft drinks division sales manager has been planning to launch a new sales incentive program for their sales executives. The sales executives felt that adults (>40 years) won't buy, children will & hence requested sales manager not to launch the program. Analyze the data & determine whether there is evidence at 5% significance level of support the hypothesis ?\n",
    "\n",
    "\n",
    "### Solution :\n",
    "- level of significant (α) =  0.05\n"
   ]
  },
  {
   "cell_type": "markdown",
   "id": "63817e16",
   "metadata": {},
   "source": [
    "<b> Here we are Loading the \"JohnyTalkers.xlsx\" dataset."
   ]
  },
  {
   "cell_type": "code",
   "execution_count": 5,
   "id": "be46b4b6",
   "metadata": {},
   "outputs": [
    {
     "data": {
      "text/html": [
       "<div>\n",
       "<style scoped>\n",
       "    .dataframe tbody tr th:only-of-type {\n",
       "        vertical-align: middle;\n",
       "    }\n",
       "\n",
       "    .dataframe tbody tr th {\n",
       "        vertical-align: top;\n",
       "    }\n",
       "\n",
       "    .dataframe thead th {\n",
       "        text-align: right;\n",
       "    }\n",
       "</style>\n",
       "<table border=\"1\" class=\"dataframe\">\n",
       "  <thead>\n",
       "    <tr style=\"text-align: right;\">\n",
       "      <th></th>\n",
       "      <th>Person</th>\n",
       "      <th>Drinks</th>\n",
       "    </tr>\n",
       "  </thead>\n",
       "  <tbody>\n",
       "    <tr>\n",
       "      <th>0</th>\n",
       "      <td>Adults</td>\n",
       "      <td>Did Not Purchase</td>\n",
       "    </tr>\n",
       "    <tr>\n",
       "      <th>1</th>\n",
       "      <td>Adults</td>\n",
       "      <td>Did Not Purchase</td>\n",
       "    </tr>\n",
       "    <tr>\n",
       "      <th>2</th>\n",
       "      <td>Adults</td>\n",
       "      <td>Did Not Purchase</td>\n",
       "    </tr>\n",
       "    <tr>\n",
       "      <th>3</th>\n",
       "      <td>Adults</td>\n",
       "      <td>Did Not Purchase</td>\n",
       "    </tr>\n",
       "    <tr>\n",
       "      <th>4</th>\n",
       "      <td>Adults</td>\n",
       "      <td>Did Not Purchase</td>\n",
       "    </tr>\n",
       "  </tbody>\n",
       "</table>\n",
       "</div>"
      ],
      "text/plain": [
       "   Person            Drinks\n",
       "0  Adults  Did Not Purchase\n",
       "1  Adults  Did Not Purchase\n",
       "2  Adults  Did Not Purchase\n",
       "3  Adults  Did Not Purchase\n",
       "4  Adults  Did Not Purchase"
      ]
     },
     "execution_count": 5,
     "metadata": {},
     "output_type": "execute_result"
    }
   ],
   "source": [
    "# import the required libraries (modules).\n",
    "import numpy as np\n",
    "import pandas as pd\n",
    "import seaborn as sns\n",
    "import matplotlib.pyplot as plt\n",
    "from scipy import stats\n",
    "\n",
    "# Load the \"JohnyTalkers.xlsx\" and store it an \"df\" object.\n",
    "df = pd.read_excel(\"JohnyTalkers.xlsx\")\n",
    "\n",
    "# Print the top 5 records with variables.\n",
    "df.head()"
   ]
  },
  {
   "cell_type": "markdown",
   "id": "4d5d926a",
   "metadata": {},
   "source": [
    "Count the number of records for every combination of unique values for Person column (variable)."
   ]
  },
  {
   "cell_type": "code",
   "execution_count": 7,
   "id": "89e459d3",
   "metadata": {},
   "outputs": [
    {
     "data": {
      "text/plain": [
       "Children    740\n",
       "Adults      480\n",
       "Name: Person, dtype: int64"
      ]
     },
     "execution_count": 7,
     "metadata": {},
     "output_type": "execute_result"
    }
   ],
   "source": [
    "# Counts of unique values for Person variable by using value_counts() function.\n",
    "df[\"Person\"].value_counts()"
   ]
  },
  {
   "cell_type": "markdown",
   "id": "170b9e39",
   "metadata": {},
   "source": [
    "- It retuns the counts of unique values for Person variable, here childrens are 740 and adults are 480 out-of 1220.\n",
    "\n",
    "\n",
    "Count the number of records for every combination of unique values for Drinks column (variable)."
   ]
  },
  {
   "cell_type": "code",
   "execution_count": 8,
   "id": "86435eb3",
   "metadata": {},
   "outputs": [
    {
     "data": {
      "text/plain": [
       "Did Not Purchase    1010\n",
       "Purchased            210\n",
       "Name: Drinks, dtype: int64"
      ]
     },
     "execution_count": 8,
     "metadata": {},
     "output_type": "execute_result"
    }
   ],
   "source": [
    "# Counts of unique values for Drinks variable by using value_counts() function.\n",
    "df[\"Drinks\"].value_counts()"
   ]
  },
  {
   "cell_type": "markdown",
   "id": "f864112b",
   "metadata": {},
   "source": [
    "- It retuns the counts of unique values for Drinks variable, here 1010 persons did not purchased any drinks and 210 persons purchesed drinks out-of 1220 peoples."
   ]
  },
  {
   "cell_type": "code",
   "execution_count": 11,
   "id": "21026530",
   "metadata": {},
   "outputs": [
    {
     "data": {
      "text/html": [
       "<div>\n",
       "<style scoped>\n",
       "    .dataframe tbody tr th:only-of-type {\n",
       "        vertical-align: middle;\n",
       "    }\n",
       "\n",
       "    .dataframe tbody tr th {\n",
       "        vertical-align: top;\n",
       "    }\n",
       "\n",
       "    .dataframe thead th {\n",
       "        text-align: right;\n",
       "    }\n",
       "</style>\n",
       "<table border=\"1\" class=\"dataframe\">\n",
       "  <thead>\n",
       "    <tr style=\"text-align: right;\">\n",
       "      <th>Drinks</th>\n",
       "      <th>Did Not Purchase</th>\n",
       "      <th>Purchased</th>\n",
       "      <th>All</th>\n",
       "    </tr>\n",
       "    <tr>\n",
       "      <th>Person</th>\n",
       "      <th></th>\n",
       "      <th></th>\n",
       "      <th></th>\n",
       "    </tr>\n",
       "  </thead>\n",
       "  <tbody>\n",
       "    <tr>\n",
       "      <th>Adults</th>\n",
       "      <td>422</td>\n",
       "      <td>58</td>\n",
       "      <td>480</td>\n",
       "    </tr>\n",
       "    <tr>\n",
       "      <th>Children</th>\n",
       "      <td>588</td>\n",
       "      <td>152</td>\n",
       "      <td>740</td>\n",
       "    </tr>\n",
       "    <tr>\n",
       "      <th>All</th>\n",
       "      <td>1010</td>\n",
       "      <td>210</td>\n",
       "      <td>1220</td>\n",
       "    </tr>\n",
       "  </tbody>\n",
       "</table>\n",
       "</div>"
      ],
      "text/plain": [
       "Drinks    Did Not Purchase  Purchased   All\n",
       "Person                                     \n",
       "Adults                 422         58   480\n",
       "Children               588        152   740\n",
       "All                   1010        210  1220"
      ]
     },
     "execution_count": 11,
     "metadata": {},
     "output_type": "execute_result"
    }
   ],
   "source": [
    "# Apply the crosstab() function on two variables.\n",
    "# Pass the margins=True.\n",
    "pd.crosstab(df[\"Person\"], df[\"Drinks\"], margins=True)"
   ]
  },
  {
   "cell_type": "markdown",
   "id": "c9487e11",
   "metadata": {},
   "source": [
    "- In the above, we have applied crosstab() function, it retuns the frequency of each combination. Here we can see that, \n",
    "\n",
    "    - Out-of 480 Adults : 422 Adults are did not purchesed drinks and 58 Adults are purchesed drinks.\n",
    "    - Out-of 740 Childrens : 588 Childrens are did not purchesed drinks and 152 Childrens are purchesed drinks.\n",
    "    - Here 1010 persons did not purchased any drinks and 210 persons purchesed drinks out-of 1220 peoples.\n",
    "    "
   ]
  },
  {
   "cell_type": "markdown",
   "id": "442aa1c1",
   "metadata": {},
   "source": [
    "<b> Step 1 : Formulate the Null Hypotheses (Ho) and Alternative Hypotheses (H1).\n",
    "    \n",
    "   - Ho : Proportions of Adults >= Proportions of Childrens (No action)\n",
    "   - H1 : Proportions of Adults < Proportions of Childrens  (Need to take action)\n",
    "        \n",
    "        \n",
    "<b> Step 2 : Specify the level of significance (α).\n",
    "    \n",
    "   - alpha (α) = 0.05\n",
    "    "
   ]
  },
  {
   "cell_type": "markdown",
   "id": "34ccdc07",
   "metadata": {},
   "source": [
    "<b> Step 3 : Select the Statistical test and calculate the p-value.\n",
    "\n",
    "- Hence inferenceing based on two discreate variables, then we will go with Two Proportion Test."
   ]
  },
  {
   "cell_type": "code",
   "execution_count": 12,
   "id": "20558dd1",
   "metadata": {},
   "outputs": [
    {
     "data": {
      "text/plain": [
       "(-3.8227247718795447, 0.00013198507287726183)"
      ]
     },
     "execution_count": 12,
     "metadata": {},
     "output_type": "execute_result"
    }
   ],
   "source": [
    "# import the proportions_ztest() from statsmodels.stats.proportion module.\n",
    "from statsmodels.stats.proportion import proportions_ztest\n",
    "\n",
    "# Store total how many adults and childrens are purchesing drinks in \"count\" object. \n",
    "count = np.array([58, 152])\n",
    "\n",
    "# Store total number of adults and childrens are there in \"nobs\" object. \n",
    "nobs= np.array([480, 740])\n",
    "\n",
    "# Apply the two proportion test and calculate the p-value by using proportions_ztest().\n",
    "proportions_ztest(count, nobs, alternative=\"two-sided\")"
   ]
  },
  {
   "cell_type": "markdown",
   "id": "a177d22c",
   "metadata": {},
   "source": [
    "- Here proportions_ztest() compares a sample proportion to a hypothesized proportion. Test for proportions based on normal (z) test.\n",
    "\n",
    "\n",
    "- count : Number of successes (Drinks purchesed).\n",
    "\n",
    "\n",
    "- nobs : Total trial taken the number of peoples \n",
    "\n",
    "\n",
    "- The alternative hypothesis. Default is ‘two-sided’.\n",
    "\n",
    "\n",
    "- This function returns the statictic test and p-value of the test. Here the p-value (probability) of the case study is 0.00013"
   ]
  },
  {
   "cell_type": "markdown",
   "id": "16382400",
   "metadata": {},
   "source": [
    "<b> Step 4 : Based on the p-value, conclude the Hypothesis test.\n",
    "- Here p-value is lesser than the alpha value, i.e. p-value (0.00013) < 0.05 (alpha). So p low null go, i.e. Reject the Null Hypotheses (Ho).\n",
    "    \n",
    "    \n",
    "<b> Now we conclude that with 95% confidence, adults (>40 years) won't buy this soft drinks.\n",
    "    "
   ]
  },
  {
   "cell_type": "markdown",
   "id": "26b4061c",
   "metadata": {},
   "source": [
    "--------------------------------------"
   ]
  },
  {
   "cell_type": "markdown",
   "id": "e00f466d",
   "metadata": {},
   "source": [
    "### Chi-Square test :\n",
    "- The Chi-square test is a non-parametric test for testing the significant differences between group frequencies.\n",
    "\n",
    "\n",
    "- When the data is discreate variables, if we want to calculate hypothesis test on that data, then we will go with Chi-Square test.\n",
    "\n",
    "\n",
    "- The chi-squared test is done to check if there is any difference between the observed value and expected value.\n",
    "\n",
    "\n",
    "- Chi-square test is also known as the Pearson chi-square test because it was given by one of the four most genius of statistics Karl Pearson.\n",
    "\n",
    "\n",
    "- The chi-square test can be used only when we have our data in the format of frequencies.\n",
    "\n"
   ]
  },
  {
   "cell_type": "markdown",
   "id": "8c5ef397",
   "metadata": {},
   "source": [
    "### Steps for Chi-Square test :\n",
    "- Step 1 : Formulate the Null Hypotheses (Ho) and Alternative Hypotheses (H1).\n",
    "\n",
    "\n",
    "- Step 2 : Specify the level of significance (α).\n",
    "\n",
    "\n",
    "- Step 3 : Select the Statistical test and calculate the p-value.\n",
    "    \n",
    "    - If inferenceing based on single discreate variable, then perform One Proportion Test.\n",
    "    \n",
    "    - If inferenceing based on two discreate variables, then perform two Proportion Test.\n",
    "    \n",
    "    - If inferenceing based on more than two discreate variables, then perform Chi-Square Test.\n",
    "\n",
    "    - The p-value is the probability, computed using the test staitistics, that measures the support (or lack of support) provided by the sample for the null hypothesis.\n",
    "  \n",
    "    - If the p-value is less than or equal to the level of significant α, the value of the test statistic is in the rejection region.\n",
    "    \n",
    "    \n",
    "- Step 4 : Based on the p-value, conclude the Hypothesis test.\n",
    "\n",
    "     - If p-value ≤ alpha (p low Null go)    <---> (Reject Ho)\n",
    "     - If p-value > alpha (p high Null fly)  <---> (Do not Reject Ho)\n",
    "    "
   ]
  },
  {
   "cell_type": "markdown",
   "id": "9571e53a",
   "metadata": {},
   "source": [
    "---------------------------------\n",
    "### Examples for Chi-Square test :\n",
    "---------------------------------"
   ]
  },
  {
   "cell_type": "markdown",
   "id": "ecd58064",
   "metadata": {},
   "source": [
    "### Example - 1 :\n",
    "### Question.\n",
    "\n",
    "Baha ManTech Research Company uses 4 regional centers in South Asia (India, China, Srilanka and Bangladesh) to input data of questionnaire responses. They audit a certain % of the questionnaire responses versus data entry. Any error in data entry renders it defective. The chief data scientist want to check whether the defective % varies by country. Analyze the data at 5% significance level and help the manager draw appropriate inferences. ['1' means not defectives and '0' means defective].\n",
    "\n",
    "### Solution :\n",
    "- level of significant (α) =  0.05\n"
   ]
  },
  {
   "cell_type": "markdown",
   "id": "ec6d870c",
   "metadata": {},
   "source": [
    "<b> Here we are Loading the \"Bahaman.xlsx\" dataset."
   ]
  },
  {
   "cell_type": "code",
   "execution_count": 14,
   "id": "a7e36640",
   "metadata": {},
   "outputs": [
    {
     "data": {
      "text/html": [
       "<div>\n",
       "<style scoped>\n",
       "    .dataframe tbody tr th:only-of-type {\n",
       "        vertical-align: middle;\n",
       "    }\n",
       "\n",
       "    .dataframe tbody tr th {\n",
       "        vertical-align: top;\n",
       "    }\n",
       "\n",
       "    .dataframe thead th {\n",
       "        text-align: right;\n",
       "    }\n",
       "</style>\n",
       "<table border=\"1\" class=\"dataframe\">\n",
       "  <thead>\n",
       "    <tr style=\"text-align: right;\">\n",
       "      <th></th>\n",
       "      <th>Defective</th>\n",
       "      <th>Country</th>\n",
       "    </tr>\n",
       "  </thead>\n",
       "  <tbody>\n",
       "    <tr>\n",
       "      <th>0</th>\n",
       "      <td>0</td>\n",
       "      <td>India</td>\n",
       "    </tr>\n",
       "    <tr>\n",
       "      <th>1</th>\n",
       "      <td>0</td>\n",
       "      <td>India</td>\n",
       "    </tr>\n",
       "    <tr>\n",
       "      <th>2</th>\n",
       "      <td>0</td>\n",
       "      <td>India</td>\n",
       "    </tr>\n",
       "    <tr>\n",
       "      <th>3</th>\n",
       "      <td>0</td>\n",
       "      <td>India</td>\n",
       "    </tr>\n",
       "    <tr>\n",
       "      <th>4</th>\n",
       "      <td>1</td>\n",
       "      <td>India</td>\n",
       "    </tr>\n",
       "  </tbody>\n",
       "</table>\n",
       "</div>"
      ],
      "text/plain": [
       "   Defective Country\n",
       "0          0   India\n",
       "1          0   India\n",
       "2          0   India\n",
       "3          0   India\n",
       "4          1   India"
      ]
     },
     "execution_count": 14,
     "metadata": {},
     "output_type": "execute_result"
    }
   ],
   "source": [
    "# import the required libraries (modules).\n",
    "import numpy as np\n",
    "import pandas as pd\n",
    "import seaborn as sns\n",
    "import matplotlib.pyplot as plt\n",
    "from scipy import stats\n",
    "\n",
    "# Load the \"Bahaman.xlsx\" and store it an \"Bahaman\" object.\n",
    "Bahaman = pd.read_excel(\"Bahaman.xlsx\")\n",
    "\n",
    "# Print the top 5 records with variables.\n",
    "Bahaman.head()"
   ]
  },
  {
   "cell_type": "code",
   "execution_count": 15,
   "id": "97e86fb3",
   "metadata": {},
   "outputs": [
    {
     "data": {
      "text/html": [
       "<div>\n",
       "<style scoped>\n",
       "    .dataframe tbody tr th:only-of-type {\n",
       "        vertical-align: middle;\n",
       "    }\n",
       "\n",
       "    .dataframe tbody tr th {\n",
       "        vertical-align: top;\n",
       "    }\n",
       "\n",
       "    .dataframe thead th {\n",
       "        text-align: right;\n",
       "    }\n",
       "</style>\n",
       "<table border=\"1\" class=\"dataframe\">\n",
       "  <thead>\n",
       "    <tr style=\"text-align: right;\">\n",
       "      <th>Country</th>\n",
       "      <th>Bangladesh</th>\n",
       "      <th>China</th>\n",
       "      <th>India</th>\n",
       "      <th>Srilanka</th>\n",
       "    </tr>\n",
       "    <tr>\n",
       "      <th>Defective</th>\n",
       "      <th></th>\n",
       "      <th></th>\n",
       "      <th></th>\n",
       "      <th></th>\n",
       "    </tr>\n",
       "  </thead>\n",
       "  <tbody>\n",
       "    <tr>\n",
       "      <th>0</th>\n",
       "      <td>183</td>\n",
       "      <td>179</td>\n",
       "      <td>175</td>\n",
       "      <td>178</td>\n",
       "    </tr>\n",
       "    <tr>\n",
       "      <th>1</th>\n",
       "      <td>17</td>\n",
       "      <td>21</td>\n",
       "      <td>25</td>\n",
       "      <td>22</td>\n",
       "    </tr>\n",
       "  </tbody>\n",
       "</table>\n",
       "</div>"
      ],
      "text/plain": [
       "Country    Bangladesh  China  India  Srilanka\n",
       "Defective                                    \n",
       "0                 183    179    175       178\n",
       "1                  17     21     25        22"
      ]
     },
     "execution_count": 15,
     "metadata": {},
     "output_type": "execute_result"
    }
   ],
   "source": [
    "# Apply the crosstab() function on two variables.\n",
    "# Pass store the result in 'count' variable.\n",
    "count = pd.crosstab(Bahaman[\"Defective\"], Bahaman[\"Country\"])\n",
    "\n",
    "# Print the result.\n",
    "count"
   ]
  },
  {
   "cell_type": "markdown",
   "id": "a65d6337",
   "metadata": {},
   "source": [
    "- In the above, we have applied crosstab() function, it retuns the frequency of each combination. Here we can see that, \n",
    "\n",
    "    - Bangladesh : It's having 183 defective and 17 not defective.\n",
    "    - China : It's having 179 defective and 21 not defective.\n",
    "    - Indai : It's having 175 defective and 25 not defective.\n",
    "    - Srilanka : It's having 178 defective and 22 not defective."
   ]
  },
  {
   "cell_type": "markdown",
   "id": "1c83f886",
   "metadata": {},
   "source": [
    "<b> Step 1 : Formulate the Null Hypotheses (Ho) and Alternative Hypotheses (H1).\n",
    "    \n",
    "   - Ho : No difference in proportion between countries (No action)\n",
    "   - H1 : Difference in proportion between countries  (Need to take action)\n",
    "        \n",
    "        \n",
    "<b> Step 2 : Specify the level of significance (α).\n",
    "    \n",
    "   - alpha (α) = 0.05\n",
    "    "
   ]
  },
  {
   "cell_type": "markdown",
   "id": "5bb3fa1a",
   "metadata": {},
   "source": [
    "<b> Step 3 : Select the Statistical test and calculate the p-value.\n",
    "\n",
    "- Hence inferenceing based on two discreate variables, then we will go with Chi-Square test."
   ]
  },
  {
   "cell_type": "code",
   "execution_count": 19,
   "id": "b10d373a",
   "metadata": {},
   "outputs": [
    {
     "data": {
      "text/plain": [
       "(1.7243932538050184,\n",
       " 0.6315243037546223,\n",
       " 3,\n",
       " array([[178.75, 178.75, 178.75, 178.75],\n",
       "        [ 21.25,  21.25,  21.25,  21.25]]))"
      ]
     },
     "execution_count": 19,
     "metadata": {},
     "output_type": "execute_result"
    }
   ],
   "source": [
    "# Apply the Chi-Square test and calculate the p-value by using stats.chi2_contingency().\n",
    "# Pass the 'count' crosstab result.\n",
    "stats.chi2_contingency(count)"
   ]
  },
  {
   "cell_type": "markdown",
   "id": "b695a655",
   "metadata": {},
   "source": [
    "- Here stats.chi2_contingency() This function computes the chi-square statistic and p-value for the hypothesis test of independence of the observed frequencies in the contingency table 'observed'.\n",
    "\n",
    "\n",
    "- count (Observed) :The contingency table. The table contains the observed frequencies (i.e. number of occurrences) in each category. In the two-dimensional case, the table is often described as an “R x C table”.\n",
    "\n",
    "\n",
    "- This function returns the statictic test and p-value of the test, the degrees of freedom and the expected frequencies, based on the marginal sums of the table. Here the p-value (probability) of the case study is 0.631"
   ]
  },
  {
   "cell_type": "markdown",
   "id": "37ae9b60",
   "metadata": {},
   "source": [
    "<b> Step 4 : Based on the p-value, conclude the Hypothesis test.\n",
    "- Here p-value is greater than the alpha value, i.e. p-value (0.631) > 0.05 (alpha). So p high null fly, i.e. Accept the Null Hypotheses (Ho).\n",
    "    \n",
    "    \n",
    "<b> Now we conclude that with 95% confidence, No difference in proportion between these countries.\n",
    "    "
   ]
  }
 ],
 "metadata": {
  "kernelspec": {
   "display_name": "Python 3 (ipykernel)",
   "language": "python",
   "name": "python3"
  },
  "language_info": {
   "codemirror_mode": {
    "name": "ipython",
    "version": 3
   },
   "file_extension": ".py",
   "mimetype": "text/x-python",
   "name": "python",
   "nbconvert_exporter": "python",
   "pygments_lexer": "ipython3",
   "version": "3.9.13"
  }
 },
 "nbformat": 4,
 "nbformat_minor": 5
}
