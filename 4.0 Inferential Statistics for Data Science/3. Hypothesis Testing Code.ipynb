{
 "cells": [
  {
   "cell_type": "markdown",
   "id": "193c0d9c",
   "metadata": {},
   "source": [
    "# Solving the One-tailed and Two-tailed Hypothesis testing examples by    \n",
    "## <p style='text-align: center;'> using Python and Scipy modules. </p> \n"
   ]
  },
  {
   "cell_type": "markdown",
   "id": "9e0857bc",
   "metadata": {},
   "source": [
    "## Left-tailed test Example :\n",
    "\n",
    "### Question :\n",
    "\n",
    "A machine is producing perfume bottles with the long term average of 150 ml and the standard deviation of 2 ml. Four bottles were picked and the average volume was found to be 149 ml. Has the average volume min of 150 ml ? Test with 95% confidence level.\n",
    "\n",
    "\n",
    "### Solution :\n",
    "- Null Hypothesis (Ho) : Mean volume ≥ 150 ml\n",
    "- Alternative Hypothesis (H1) : Mean volume < 150 ml\n",
    "- Observed (sample) mean (x̅) = 149 ml\n",
    "- Alpha (α) = 1 - 0.95 = 0.05\n",
    "- Left-Tailed Z test.\n",
    "- Standard deviation (σ)=1.414\n",
    "- Random sample (n)=4\n",
    "- Z calculated = (Observed mean - Population mean) / Standard Error.\n",
    "     \n",
    "                 x̅ - μ\n",
    "            Z = --------\n",
    "                 σ / √n"
   ]
  },
  {
   "cell_type": "code",
   "execution_count": 10,
   "id": "8e961d6a",
   "metadata": {},
   "outputs": [
    {
     "data": {
      "text/plain": [
       "-1.0"
      ]
     },
     "execution_count": 10,
     "metadata": {},
     "output_type": "execute_result"
    }
   ],
   "source": [
    "# Calculate the Z test.\n",
    "\n",
    "# import numpy as np.\n",
    "import numpy as np\n",
    "\n",
    "# from scipy import stats.\n",
    "from scipy import stats\n",
    "\n",
    "# Calculate the Z test.\n",
    "Z_cal = (149 - 150)/(2/np.sqrt(4))\n",
    "\n",
    "# Print the result.\n",
    "Z_cal"
   ]
  },
  {
   "cell_type": "markdown",
   "id": "05721eb6",
   "metadata": {},
   "source": [
    "- The z test value is Z_cal= -1.0\n",
    "\n",
    "\n",
    "- This is a Left-tailed test.\n",
    "\n",
    "\n",
    "- Now we are calculating the Normal CDF Probabilities in Python."
   ]
  },
  {
   "cell_type": "code",
   "execution_count": 6,
   "id": "74ca643a",
   "metadata": {},
   "outputs": [
    {
     "data": {
      "text/plain": [
       "0.15865525393145707"
      ]
     },
     "execution_count": 6,
     "metadata": {},
     "output_type": "execute_result"
    }
   ],
   "source": [
    "# Calculate Normal CDF Probabilities in Python.\n",
    "stats.norm.cdf(-1.0)"
   ]
  },
  {
   "cell_type": "markdown",
   "id": "b1511320",
   "metadata": {},
   "source": [
    "- Here the probability is 0.1586\n",
    "\n",
    "\n",
    "- Here p-value (p) of the case-study is greter than level of significant (α), i.e. p-value (0.1586) > α (0.05). So We do not Reject Ho.\n",
    "\n",
    "\n",
    "- Here norm stands for normal and cdf stands for cumulative distribution function.\n",
    "\n",
    "\n",
    "<b> There is a sufficient statistical evidence to infer that the null hypothesis is true (i.e. the average volume min of 150 ml)."
   ]
  },
  {
   "cell_type": "markdown",
   "id": "f65b2a69",
   "metadata": {},
   "source": [
    "## Right-tailed test Example :\n",
    "\n",
    "### Question :\n",
    "\n",
    "The mean response times for a random sample of 30 pizza deliveries is 32 minutes. The population standard deviation is believed  to be 10 minutes. The pizza delivery services director wants to perform a hypothesis test, with α =0.05 level of \n",
    "significance, to determine whether the service goal of 30 minutes or less is being achieved ?\n",
    "\n",
    "\n",
    "### Solution :\n",
    "- Null Hypothesis (Ho) : Mean volume ≤ 30 min\n",
    "- Alternative Hypothesis (H1) : Mean volume > 30 min\n",
    "- Observed (sample) mean (x̅) = 32 min\n",
    "- Alpha (α) = 0.05\n",
    "- Right-Tailed Z test -- Right-Tailed Rejection.\n",
    "- Standard deviation (σ)=10\n",
    "- Random sample (n) = 30\n",
    "- Z calculated = (Observed mean - Population mean) / Standard Error.\n",
    "     \n",
    "                 x̅ - μ\n",
    "            Z = --------\n",
    "                 σ / √n"
   ]
  },
  {
   "cell_type": "code",
   "execution_count": 18,
   "id": "331b56fe",
   "metadata": {},
   "outputs": [
    {
     "data": {
      "text/plain": [
       "1.0954451150103321"
      ]
     },
     "execution_count": 18,
     "metadata": {},
     "output_type": "execute_result"
    }
   ],
   "source": [
    "# Calculate the Z test.\n",
    "\n",
    "# import numpy as np.\n",
    "import numpy as np\n",
    "\n",
    "# from scipy import stats.\n",
    "from scipy import stats\n",
    "\n",
    "# Calculate the Z test.\n",
    "Z_cal = (32 - 30)/(10/np.sqrt(30))\n",
    "\n",
    "# Print the result.\n",
    "Z_cal"
   ]
  },
  {
   "cell_type": "markdown",
   "id": "6e8f398d",
   "metadata": {},
   "source": [
    "- The z test value is Z_cal= 1.09\n",
    "\n",
    "\n",
    "- This is a Right-tailed test.\n",
    "\n",
    "\n",
    "- Now we are calculating the Normal CDF Probabilities in Python.\n",
    "\n",
    "\n",
    "- Here there are 2 options to calculate the Right-tailed test."
   ]
  },
  {
   "cell_type": "code",
   "execution_count": 19,
   "id": "9db349b1",
   "metadata": {},
   "outputs": [
    {
     "data": {
      "text/plain": [
       "0.1378565720320355"
      ]
     },
     "execution_count": 19,
     "metadata": {},
     "output_type": "execute_result"
    }
   ],
   "source": [
    "# Option -1.\n",
    "# Calculate Normal CDF Probabilities in Python.\n",
    "1 - stats.norm.cdf(1.09)"
   ]
  },
  {
   "cell_type": "markdown",
   "id": "914b15f7",
   "metadata": {},
   "source": [
    "- This is a Right-Tailed test, we need to calculate probability of Right-side, by default it will gives left-side probability. i.e. Probability of Right-side = 1 - Probability of left-side. So the Probability of Right-side is 0.1378\n",
    "\n",
    "\n",
    "- If we want to calculate Righ-Tailed test directly, we will go with option - 2 as follows :\n"
   ]
  },
  {
   "cell_type": "code",
   "execution_count": 21,
   "id": "0371bb2d",
   "metadata": {},
   "outputs": [
    {
     "data": {
      "text/plain": [
       "0.1378565720320355"
      ]
     },
     "execution_count": 21,
     "metadata": {},
     "output_type": "execute_result"
    }
   ],
   "source": [
    "# Option - 2.\n",
    "# Calculate the Probabilities in Python by Survival function.\n",
    "stats.norm.sf(1.09)"
   ]
  },
  {
   "cell_type": "markdown",
   "id": "d965cb3e",
   "metadata": {},
   "source": [
    "- This option - 2 calculates the Right-Tailed test directly.\n",
    "\n",
    "\n",
    "- Here the probability of the case study is 0.1378\n",
    "\n",
    "\n",
    "- Here p-value (p) of the case-study is greter than level of significant (α), i.e. p-value (0.1378) > α (0.05). So We do not Reject Ho.\n",
    "\n",
    "\n",
    "<b> There are not sufficient evidence to infer that pizza delivery services is not meeting the response goal of 30 minutes."
   ]
  },
  {
   "cell_type": "markdown",
   "id": "a4062427",
   "metadata": {},
   "source": [
    "## Two-tailed test Example :\n",
    "\n",
    "### Question :\n",
    "\n",
    "Assume that a sample of 30 milk cartoon provides a sample mean of 505 ml, the population standard deviation is believed to be 10 ml. Perform a hypothesis test, at the 0.03 level of significance, population mean 500 ml and to help determine whether the filling process should continue operating or be stopped and corrected ?\n",
    "\n",
    "\n",
    "### Solution :\n",
    "- Null Hypothesis (Ho) : Mean volume = 500 ml\n",
    "- Alternative Hypothesis (H1) : Mean volume ≠ 500 ml\n",
    "- Observed (sample) mean (x̅) = 505 ml\n",
    "- Alpha (α) = 0.03\n",
    "- Two-Tailed Z test.\n",
    "- Standard deviation (σ)=10\n",
    "- Random sample (n) = 30\n",
    "- Z calculated = (Observed mean - Population mean) / Standard Error.\n",
    "     \n",
    "                 x̅ - μ\n",
    "            Z = --------\n",
    "                 σ / √n"
   ]
  },
  {
   "cell_type": "code",
   "execution_count": 22,
   "id": "f5addfa2",
   "metadata": {},
   "outputs": [
    {
     "data": {
      "text/plain": [
       "2.7386127875258306"
      ]
     },
     "execution_count": 22,
     "metadata": {},
     "output_type": "execute_result"
    }
   ],
   "source": [
    "# Calculate the Z test.\n",
    "\n",
    "# import numpy as np.\n",
    "import numpy as np\n",
    "\n",
    "# from scipy import stats.\n",
    "from scipy import stats\n",
    "\n",
    "# Calculate the Z test.\n",
    "Z_cal = (505 - 500)/(10/np.sqrt(30))\n",
    "\n",
    "# Print the result.\n",
    "Z_cal"
   ]
  },
  {
   "cell_type": "markdown",
   "id": "df608752",
   "metadata": {},
   "source": [
    "- The z test value is Z_cal= 2.73\n",
    "\n",
    "\n",
    "- This is a Two-tailed test.\n",
    "\n",
    "\n",
    "- Now we are calculating the Normal CDF Probabilities in Python."
   ]
  },
  {
   "cell_type": "code",
   "execution_count": 23,
   "id": "3530d720",
   "metadata": {},
   "outputs": [
    {
     "data": {
      "text/plain": [
       "0.00616989932054416"
      ]
     },
     "execution_count": 23,
     "metadata": {},
     "output_type": "execute_result"
    }
   ],
   "source": [
    "# Calculate the Probabilities in Python by Survival function.\n",
    "pvalue = 2 * stats.norm.sf(Z_cal)\n",
    "\n",
    "# Print the p-value.\n",
    "pvalue"
   ]
  },
  {
   "cell_type": "markdown",
   "id": "a2347fb9",
   "metadata": {},
   "source": [
    "- In the above example, we have rejected the both left & right sides, both sides are equal here, i.e. we calculated right-tail first and multiplied that result with 2.\n",
    "\n",
    "\n",
    "- Here the probability of the case study is 0.0061\n",
    "\n",
    "\n",
    "- Here p-value (p) of the case-study is lesser than level of significant (α), i.e. p-value (0.0061) < α (0.05). So We Reject Ho.\n",
    "\n",
    "\n",
    "<b> There is no sufficient statistical evidence to infer that the null hypothesis is true (i.e. the milk filling quantity is not 500 ml, So the filling process must be stopped and corrected)."
   ]
  }
 ],
 "metadata": {
  "kernelspec": {
   "display_name": "Python 3 (ipykernel)",
   "language": "python",
   "name": "python3"
  },
  "language_info": {
   "codemirror_mode": {
    "name": "ipython",
    "version": 3
   },
   "file_extension": ".py",
   "mimetype": "text/x-python",
   "name": "python",
   "nbconvert_exporter": "python",
   "pygments_lexer": "ipython3",
   "version": "3.9.13"
  }
 },
 "nbformat": 4,
 "nbformat_minor": 5
}
