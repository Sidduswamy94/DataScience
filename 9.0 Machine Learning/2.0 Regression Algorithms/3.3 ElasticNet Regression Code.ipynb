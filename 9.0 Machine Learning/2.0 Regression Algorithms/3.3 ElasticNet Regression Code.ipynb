{
 "cells": [
  {
   "cell_type": "markdown",
   "id": "19ae173a",
   "metadata": {},
   "source": [
    "## Predicting expenses per each variables on Insurance dataset using Machine Learning algorithms.\n",
    "<b> In this article, I am using Insurance dataset as \"insurance.xlsx\".     \n",
    "    \n",
    "<b>  In this article, we are going to find out, Is there a relationship between expenses per each variables (age, sex, bmi, children, smoker, region) on Insurance dataset using Machine Learning algorithms. The algorithms included ElasticNet Regression.\n"
   ]
  },
  {
   "cell_type": "markdown",
   "id": "971baa01",
   "metadata": {},
   "source": [
    "## Step - 1 : Business Problem Understanding\n",
    "- <b> What is the relationship between each variables (age, sex, bmi, children, smoker, region) and expenses ?\n",
    "       \n",
    "- <b> On the basis of our new data (age=31, sex=\"female\", bmi=25.74, children=0, smoker=\"no\", region=\"northeast\") can expenses be predicted ?    \n",
    "    \n",
    "- <b> On the basis of this data, how should they expect expenses in the future ? These general questions might lead me to more specific questions :\n",
    "    \n",
    "   1. Is there a relationship between each variables (age, sex, bmi, children, smoker, region) and expenses ?\n",
    "   2. How strong is that relationship ?\n",
    "   3. Which variables contribute to expenses ?\n",
    "   4. What is the effect of each variables on expenses ?\n",
    "   5. Given new data, can expenses be predicted ?"
   ]
  },
  {
   "cell_type": "markdown",
   "id": "7d2f0579",
   "metadata": {},
   "source": [
    "<b> importing all the necessary libraries."
   ]
  },
  {
   "cell_type": "code",
   "execution_count": 1,
   "id": "5e4b04f7",
   "metadata": {},
   "outputs": [],
   "source": [
    "import numpy as np\n",
    "import pandas as pd\n",
    "import matplotlib.pyplot as plt\n",
    "import seaborn as sns"
   ]
  },
  {
   "cell_type": "markdown",
   "id": "ec316345",
   "metadata": {},
   "source": [
    "<b> In the above, i have imported all the necessary libraries."
   ]
  },
  {
   "cell_type": "markdown",
   "id": "abed6944",
   "metadata": {},
   "source": [
    "## Step - 2 : Data Understanding\n",
    "### 2.1 Data Collection\n",
    "<b>Load the dataset by using read_excel() to read the dataset and save it to the 'df' variable and take a look at the first 5 lines using the head() method."
   ]
  },
  {
   "cell_type": "code",
   "execution_count": 2,
   "id": "903d2552",
   "metadata": {},
   "outputs": [
    {
     "data": {
      "text/html": [
       "<div>\n",
       "<style scoped>\n",
       "    .dataframe tbody tr th:only-of-type {\n",
       "        vertical-align: middle;\n",
       "    }\n",
       "\n",
       "    .dataframe tbody tr th {\n",
       "        vertical-align: top;\n",
       "    }\n",
       "\n",
       "    .dataframe thead th {\n",
       "        text-align: right;\n",
       "    }\n",
       "</style>\n",
       "<table border=\"1\" class=\"dataframe\">\n",
       "  <thead>\n",
       "    <tr style=\"text-align: right;\">\n",
       "      <th></th>\n",
       "      <th>age</th>\n",
       "      <th>sex</th>\n",
       "      <th>bmi</th>\n",
       "      <th>children</th>\n",
       "      <th>smoker</th>\n",
       "      <th>region</th>\n",
       "      <th>expenses</th>\n",
       "    </tr>\n",
       "  </thead>\n",
       "  <tbody>\n",
       "    <tr>\n",
       "      <th>0</th>\n",
       "      <td>19</td>\n",
       "      <td>female</td>\n",
       "      <td>27.9</td>\n",
       "      <td>0</td>\n",
       "      <td>yes</td>\n",
       "      <td>southwest</td>\n",
       "      <td>16884.92</td>\n",
       "    </tr>\n",
       "    <tr>\n",
       "      <th>1</th>\n",
       "      <td>18</td>\n",
       "      <td>male</td>\n",
       "      <td>33.8</td>\n",
       "      <td>1</td>\n",
       "      <td>no</td>\n",
       "      <td>southeast</td>\n",
       "      <td>1725.55</td>\n",
       "    </tr>\n",
       "    <tr>\n",
       "      <th>2</th>\n",
       "      <td>28</td>\n",
       "      <td>male</td>\n",
       "      <td>33.0</td>\n",
       "      <td>3</td>\n",
       "      <td>no</td>\n",
       "      <td>southeast</td>\n",
       "      <td>4449.46</td>\n",
       "    </tr>\n",
       "    <tr>\n",
       "      <th>3</th>\n",
       "      <td>33</td>\n",
       "      <td>male</td>\n",
       "      <td>22.7</td>\n",
       "      <td>0</td>\n",
       "      <td>no</td>\n",
       "      <td>northwest</td>\n",
       "      <td>21984.47</td>\n",
       "    </tr>\n",
       "    <tr>\n",
       "      <th>4</th>\n",
       "      <td>32</td>\n",
       "      <td>male</td>\n",
       "      <td>28.9</td>\n",
       "      <td>0</td>\n",
       "      <td>no</td>\n",
       "      <td>northwest</td>\n",
       "      <td>3866.86</td>\n",
       "    </tr>\n",
       "  </tbody>\n",
       "</table>\n",
       "</div>"
      ],
      "text/plain": [
       "   age     sex   bmi  children smoker     region  expenses\n",
       "0   19  female  27.9         0    yes  southwest  16884.92\n",
       "1   18    male  33.8         1     no  southeast   1725.55\n",
       "2   28    male  33.0         3     no  southeast   4449.46\n",
       "3   33    male  22.7         0     no  northwest  21984.47\n",
       "4   32    male  28.9         0     no  northwest   3866.86"
      ]
     },
     "execution_count": 2,
     "metadata": {},
     "output_type": "execute_result"
    }
   ],
   "source": [
    "# Load the dataset.\n",
    "df = pd.read_excel(\"insurance.xlsx\")\n",
    "\n",
    "# Display the first 5 lines using the head() method.\n",
    "df.head()"
   ]
  },
  {
   "cell_type": "markdown",
   "id": "1a67fef3",
   "metadata": {},
   "source": [
    "### 2.2 Data Understanding\n",
    "<b> Let’s have a look at data dimensionality."
   ]
  },
  {
   "cell_type": "code",
   "execution_count": 3,
   "id": "b6d87cd8",
   "metadata": {},
   "outputs": [
    {
     "data": {
      "text/plain": [
       "(1338, 7)"
      ]
     },
     "execution_count": 3,
     "metadata": {},
     "output_type": "execute_result"
    }
   ],
   "source": [
    "df.shape"
   ]
  },
  {
   "cell_type": "markdown",
   "id": "0c21eaa6",
   "metadata": {},
   "source": [
    "<b> From the output, we can see that the table contains 1338 rows and 7 columns.\n",
    "    \n",
    "    \n",
    "<b> We can use the info() method to output some general information about the dataframe :"
   ]
  },
  {
   "cell_type": "code",
   "execution_count": 4,
   "id": "b915683c",
   "metadata": {},
   "outputs": [
    {
     "name": "stdout",
     "output_type": "stream",
     "text": [
      "<class 'pandas.core.frame.DataFrame'>\n",
      "RangeIndex: 1338 entries, 0 to 1337\n",
      "Data columns (total 7 columns):\n",
      " #   Column    Non-Null Count  Dtype  \n",
      "---  ------    --------------  -----  \n",
      " 0   age       1338 non-null   int64  \n",
      " 1   sex       1338 non-null   object \n",
      " 2   bmi       1338 non-null   float64\n",
      " 3   children  1338 non-null   int64  \n",
      " 4   smoker    1338 non-null   object \n",
      " 5   region    1338 non-null   object \n",
      " 6   expenses  1338 non-null   float64\n",
      "dtypes: float64(2), int64(2), object(3)\n",
      "memory usage: 73.3+ KB\n"
     ]
    }
   ],
   "source": [
    "df.info()"
   ]
  },
  {
   "cell_type": "markdown",
   "id": "906fc46b",
   "metadata": {},
   "source": [
    "<b> int64, float64 and object are the data types of our features. We see that 3 features are object (categorical), 4 features are numeric (2 features are int64 + 2 features are float64). With this same method, we can easily see if there are any missing values. Here, there are none because each column contains 1338 observations, the same number of rows we saw before with shape.\n",
    "    \n",
    "    \n",
    "<b> Here 7 variables or features (columns) are there, 3 features are object (categorical), 4 features are numeric (2 features are int64 + 2 features are float64). The details of these variables as follows :\n",
    "    \n",
    "- **age:** age of primary beneficiary.\n",
    "- **sex:** insurance contractor gender (female or male).\n",
    "- **bmi:** body mass index, providing an understanding of body, weights that are relatively high or low relative to height, - objective index of body weight (kg / m ^ 2) using the ratio of height to weight, ideally 18.5 to 24.9\n",
    "- **children:** number of children covered by insurance / number of dependents\n",
    "- **smoker:** weither person smoking a cigarette or not.\n",
    "- **region:** the beneficiary's residential area in the US, northeast, southeast, southwest, northwest.\n",
    "- **expenses:** individual medical costs billed by health insurance"
   ]
  },
  {
   "cell_type": "markdown",
   "id": "a158353b",
   "metadata": {},
   "source": [
    "## Step - 3 : Data Preprocessing\n",
    "### 3.1 Exploratory Data Analysis (EDA)\n",
    "- <b> On the basis of this data, how should they expect expenses in the future ? These general questions might lead me to more specific questions :\n",
    "    \n",
    "   1. Is there a relationship between each variables (age, sex, bmi, children, smoker, region) and expenses ?\n",
    "   2. How strong is that relationship ?\n",
    "   3. Which variables contribute to expenses ?\n",
    "   4. What is the effect of each variables on expenses ?\n",
    "   5. Given new data, can expenses be predicted ?\n",
    "    \n",
    "    "
   ]
  },
  {
   "cell_type": "markdown",
   "id": "e54bce1b",
   "metadata": {},
   "source": [
    "<b> The describe method shows basic statistical characteristics of each numerical feature (int64 and float64 types): count, mean, standard deviation, min, max, median, 0.25 and 0.75 quartiles."
   ]
  },
  {
   "cell_type": "code",
   "execution_count": 5,
   "id": "bf94059b",
   "metadata": {},
   "outputs": [
    {
     "data": {
      "text/html": [
       "<div>\n",
       "<style scoped>\n",
       "    .dataframe tbody tr th:only-of-type {\n",
       "        vertical-align: middle;\n",
       "    }\n",
       "\n",
       "    .dataframe tbody tr th {\n",
       "        vertical-align: top;\n",
       "    }\n",
       "\n",
       "    .dataframe thead th {\n",
       "        text-align: right;\n",
       "    }\n",
       "</style>\n",
       "<table border=\"1\" class=\"dataframe\">\n",
       "  <thead>\n",
       "    <tr style=\"text-align: right;\">\n",
       "      <th></th>\n",
       "      <th>age</th>\n",
       "      <th>bmi</th>\n",
       "      <th>children</th>\n",
       "      <th>expenses</th>\n",
       "    </tr>\n",
       "  </thead>\n",
       "  <tbody>\n",
       "    <tr>\n",
       "      <th>count</th>\n",
       "      <td>1338.000000</td>\n",
       "      <td>1338.000000</td>\n",
       "      <td>1338.000000</td>\n",
       "      <td>1338.000000</td>\n",
       "    </tr>\n",
       "    <tr>\n",
       "      <th>mean</th>\n",
       "      <td>39.207025</td>\n",
       "      <td>30.665471</td>\n",
       "      <td>1.094918</td>\n",
       "      <td>13270.422414</td>\n",
       "    </tr>\n",
       "    <tr>\n",
       "      <th>std</th>\n",
       "      <td>14.049960</td>\n",
       "      <td>6.098382</td>\n",
       "      <td>1.205493</td>\n",
       "      <td>12110.011240</td>\n",
       "    </tr>\n",
       "    <tr>\n",
       "      <th>min</th>\n",
       "      <td>18.000000</td>\n",
       "      <td>16.000000</td>\n",
       "      <td>0.000000</td>\n",
       "      <td>1121.870000</td>\n",
       "    </tr>\n",
       "    <tr>\n",
       "      <th>25%</th>\n",
       "      <td>27.000000</td>\n",
       "      <td>26.300000</td>\n",
       "      <td>0.000000</td>\n",
       "      <td>4740.287500</td>\n",
       "    </tr>\n",
       "    <tr>\n",
       "      <th>50%</th>\n",
       "      <td>39.000000</td>\n",
       "      <td>30.400000</td>\n",
       "      <td>1.000000</td>\n",
       "      <td>9382.030000</td>\n",
       "    </tr>\n",
       "    <tr>\n",
       "      <th>75%</th>\n",
       "      <td>51.000000</td>\n",
       "      <td>34.700000</td>\n",
       "      <td>2.000000</td>\n",
       "      <td>16639.915000</td>\n",
       "    </tr>\n",
       "    <tr>\n",
       "      <th>max</th>\n",
       "      <td>64.000000</td>\n",
       "      <td>53.100000</td>\n",
       "      <td>5.000000</td>\n",
       "      <td>63770.430000</td>\n",
       "    </tr>\n",
       "  </tbody>\n",
       "</table>\n",
       "</div>"
      ],
      "text/plain": [
       "               age          bmi     children      expenses\n",
       "count  1338.000000  1338.000000  1338.000000   1338.000000\n",
       "mean     39.207025    30.665471     1.094918  13270.422414\n",
       "std      14.049960     6.098382     1.205493  12110.011240\n",
       "min      18.000000    16.000000     0.000000   1121.870000\n",
       "25%      27.000000    26.300000     0.000000   4740.287500\n",
       "50%      39.000000    30.400000     1.000000   9382.030000\n",
       "75%      51.000000    34.700000     2.000000  16639.915000\n",
       "max      64.000000    53.100000     5.000000  63770.430000"
      ]
     },
     "execution_count": 5,
     "metadata": {},
     "output_type": "execute_result"
    }
   ],
   "source": [
    "df.describe()"
   ]
  },
  {
   "cell_type": "markdown",
   "id": "7a1282b0",
   "metadata": {},
   "source": [
    "<b> In order to see statistics on non-numerical features, one has to explicitly indicate data types of interest in the include parameter : count, unique, top (mode), freq."
   ]
  },
  {
   "cell_type": "code",
   "execution_count": 6,
   "id": "e4316493",
   "metadata": {},
   "outputs": [
    {
     "data": {
      "text/html": [
       "<div>\n",
       "<style scoped>\n",
       "    .dataframe tbody tr th:only-of-type {\n",
       "        vertical-align: middle;\n",
       "    }\n",
       "\n",
       "    .dataframe tbody tr th {\n",
       "        vertical-align: top;\n",
       "    }\n",
       "\n",
       "    .dataframe thead th {\n",
       "        text-align: right;\n",
       "    }\n",
       "</style>\n",
       "<table border=\"1\" class=\"dataframe\">\n",
       "  <thead>\n",
       "    <tr style=\"text-align: right;\">\n",
       "      <th></th>\n",
       "      <th>sex</th>\n",
       "      <th>smoker</th>\n",
       "      <th>region</th>\n",
       "    </tr>\n",
       "  </thead>\n",
       "  <tbody>\n",
       "    <tr>\n",
       "      <th>count</th>\n",
       "      <td>1338</td>\n",
       "      <td>1338</td>\n",
       "      <td>1338</td>\n",
       "    </tr>\n",
       "    <tr>\n",
       "      <th>unique</th>\n",
       "      <td>2</td>\n",
       "      <td>2</td>\n",
       "      <td>4</td>\n",
       "    </tr>\n",
       "    <tr>\n",
       "      <th>top</th>\n",
       "      <td>male</td>\n",
       "      <td>no</td>\n",
       "      <td>southeast</td>\n",
       "    </tr>\n",
       "    <tr>\n",
       "      <th>freq</th>\n",
       "      <td>676</td>\n",
       "      <td>1064</td>\n",
       "      <td>364</td>\n",
       "    </tr>\n",
       "  </tbody>\n",
       "</table>\n",
       "</div>"
      ],
      "text/plain": [
       "         sex smoker     region\n",
       "count   1338   1338       1338\n",
       "unique     2      2          4\n",
       "top     male     no  southeast\n",
       "freq     676   1064        364"
      ]
     },
     "execution_count": 6,
     "metadata": {},
     "output_type": "execute_result"
    }
   ],
   "source": [
    "df.describe(include=\"object\")"
   ]
  },
  {
   "cell_type": "markdown",
   "id": "151129e8",
   "metadata": {},
   "source": [
    "<b> For categorical (type object) features we can use the value_counts method. Let's have a look at the distribution of sex:"
   ]
  },
  {
   "cell_type": "code",
   "execution_count": 7,
   "id": "114daa4f",
   "metadata": {},
   "outputs": [
    {
     "data": {
      "text/plain": [
       "male      676\n",
       "female    662\n",
       "Name: sex, dtype: int64"
      ]
     },
     "execution_count": 7,
     "metadata": {},
     "output_type": "execute_result"
    }
   ],
   "source": [
    "df[\"sex\"].value_counts()"
   ]
  },
  {
   "cell_type": "markdown",
   "id": "a90be470",
   "metadata": {},
   "source": [
    "<b> 676 persons out of 1338 are male and 662 are female.\n",
    "    \n",
    "    \n",
    "<b> Now use the value_counts method on smoker variable."
   ]
  },
  {
   "cell_type": "code",
   "execution_count": 8,
   "id": "33810c77",
   "metadata": {},
   "outputs": [
    {
     "data": {
      "text/plain": [
       "no     1064\n",
       "yes     274\n",
       "Name: smoker, dtype: int64"
      ]
     },
     "execution_count": 8,
     "metadata": {},
     "output_type": "execute_result"
    }
   ],
   "source": [
    "df[\"smoker\"].value_counts()"
   ]
  },
  {
   "cell_type": "markdown",
   "id": "5a133685",
   "metadata": {},
   "source": [
    "<b> 1064 persons out of 1338 are non-smokers and 274 are smokers.\n",
    "    \n",
    "<b> Now use the value_counts method on region variable."
   ]
  },
  {
   "cell_type": "code",
   "execution_count": 9,
   "id": "60465e6c",
   "metadata": {},
   "outputs": [
    {
     "data": {
      "text/plain": [
       "southeast    364\n",
       "southwest    325\n",
       "northwest    325\n",
       "northeast    324\n",
       "Name: region, dtype: int64"
      ]
     },
     "execution_count": 9,
     "metadata": {},
     "output_type": "execute_result"
    }
   ],
   "source": [
    "df[\"region\"].value_counts()"
   ]
  },
  {
   "cell_type": "markdown",
   "id": "157b8147",
   "metadata": {},
   "source": [
    "<b> In the region variable, there are 4 unique categories i.e. southeast, southwest, northwest and northeast. Out-of 1338 persons 364 are staying in southeast, 325 are staying in southwest, 325 are staying in northwest and 324 are staying in northeast."
   ]
  },
  {
   "cell_type": "markdown",
   "id": "6d58772f",
   "metadata": {},
   "source": [
    "<b> Seperate the categorical and continous data from the dataset. "
   ]
  },
  {
   "cell_type": "code",
   "execution_count": 10,
   "id": "762d2329",
   "metadata": {},
   "outputs": [
    {
     "name": "stdout",
     "output_type": "stream",
     "text": [
      "categorical features: ['sex', 'smoker', 'region']\n",
      "continous features: ['bmi', 'expenses']\n",
      "features to be checked: ['age', 'children']\n"
     ]
    }
   ],
   "source": [
    "# initialize the empty list for categorical data.\n",
    "categorical = []\n",
    "\n",
    "# initialize the empty list for continous data.\n",
    "continous = []\n",
    "\n",
    "# initialize the empty list as check.\n",
    "check = []\n",
    "\n",
    "# check the data types of each variables and store it as \"d_types\" object.\n",
    "d_types = dict(df.dtypes)  # It returns the each variable names with data type.\n",
    "\n",
    "# Apply for loop.\n",
    "for name, type in d_types.items():\n",
    "    \n",
    "    # If dtype=\"object\" add those variable names in categorical list.\n",
    "    if str(type) == \"object\":\n",
    "        categorical.append(name)\n",
    "        \n",
    "    # If dtype=\"float64\" add those variable names in continous list.    \n",
    "    elif str(type) == \"float64\":\n",
    "        continous.append(name)\n",
    "        \n",
    "    # If dtype!=\"object\" and \"float64\" add those variable names in check list.\n",
    "    else:\n",
    "        check.append(name)\n",
    "        \n",
    "\n",
    "# print the list of categorical features.\n",
    "print(\"categorical features:\", categorical)\n",
    "\n",
    "# print the list of continous features.\n",
    "print(\"continous features:\", continous)\n",
    "\n",
    "# print the list of features which needs to check.\n",
    "print(\"features to be checked:\", check)\n",
    "    "
   ]
  },
  {
   "cell_type": "markdown",
   "id": "4e52dcab",
   "metadata": {},
   "source": [
    "<b> From the above, we conclude that as follows :\n",
    "    \n",
    "   - categorical features are 'sex', 'smoker' and 'region'.\n",
    "   - continous features are 'bmi', 'expenses', \"age\".\n",
    "   - discreate count feature is \"children\".\n",
    "    "
   ]
  },
  {
   "cell_type": "markdown",
   "id": "2fbbf6cc",
   "metadata": {},
   "source": [
    "<b> Checking the correlation between variables by using corr()."
   ]
  },
  {
   "cell_type": "code",
   "execution_count": 11,
   "id": "3bdb7aeb",
   "metadata": {},
   "outputs": [
    {
     "data": {
      "text/html": [
       "<div>\n",
       "<style scoped>\n",
       "    .dataframe tbody tr th:only-of-type {\n",
       "        vertical-align: middle;\n",
       "    }\n",
       "\n",
       "    .dataframe tbody tr th {\n",
       "        vertical-align: top;\n",
       "    }\n",
       "\n",
       "    .dataframe thead th {\n",
       "        text-align: right;\n",
       "    }\n",
       "</style>\n",
       "<table border=\"1\" class=\"dataframe\">\n",
       "  <thead>\n",
       "    <tr style=\"text-align: right;\">\n",
       "      <th></th>\n",
       "      <th>age</th>\n",
       "      <th>bmi</th>\n",
       "      <th>children</th>\n",
       "      <th>expenses</th>\n",
       "    </tr>\n",
       "  </thead>\n",
       "  <tbody>\n",
       "    <tr>\n",
       "      <th>age</th>\n",
       "      <td>1.000000</td>\n",
       "      <td>0.109341</td>\n",
       "      <td>0.042469</td>\n",
       "      <td>0.299008</td>\n",
       "    </tr>\n",
       "    <tr>\n",
       "      <th>bmi</th>\n",
       "      <td>0.109341</td>\n",
       "      <td>1.000000</td>\n",
       "      <td>0.012645</td>\n",
       "      <td>0.198576</td>\n",
       "    </tr>\n",
       "    <tr>\n",
       "      <th>children</th>\n",
       "      <td>0.042469</td>\n",
       "      <td>0.012645</td>\n",
       "      <td>1.000000</td>\n",
       "      <td>0.067998</td>\n",
       "    </tr>\n",
       "    <tr>\n",
       "      <th>expenses</th>\n",
       "      <td>0.299008</td>\n",
       "      <td>0.198576</td>\n",
       "      <td>0.067998</td>\n",
       "      <td>1.000000</td>\n",
       "    </tr>\n",
       "  </tbody>\n",
       "</table>\n",
       "</div>"
      ],
      "text/plain": [
       "               age       bmi  children  expenses\n",
       "age       1.000000  0.109341  0.042469  0.299008\n",
       "bmi       0.109341  1.000000  0.012645  0.198576\n",
       "children  0.042469  0.012645  1.000000  0.067998\n",
       "expenses  0.299008  0.198576  0.067998  1.000000"
      ]
     },
     "execution_count": 11,
     "metadata": {},
     "output_type": "execute_result"
    }
   ],
   "source": [
    "df.corr()"
   ]
  },
  {
   "cell_type": "code",
   "execution_count": 12,
   "id": "34b07d00",
   "metadata": {},
   "outputs": [
    {
     "data": {
      "image/png": "[encoded data removed]",
      "text/plain": [
       "<Figure size 640x480 with 2 Axes>"
      ]
     },
     "metadata": {},
     "output_type": "display_data"
    }
   ],
   "source": [
    "# calculate the correlation between variables and store it in \"corr\" object.\n",
    "corr = df.corr()\n",
    "\n",
    "# plotting correlation heatmap.\n",
    "# Set annot=True.\n",
    "sns.heatmap(corr, annot=True)\n",
    "\n",
    "# displaying heatmap\n",
    "plt.show()"
   ]
  },
  {
   "cell_type": "markdown",
   "id": "20200031",
   "metadata": {},
   "source": [
    "- <b> The relationship between dependent (expenses) and independent (age, bmi, children) variables should be high. The higher relationship gives the stronger the correlation and accuracy.\n",
    "    \n",
    "- <b> The relationship between any two independent variables should be low, it will gives the low accuracy.\n"
   ]
  },
  {
   "cell_type": "markdown",
   "id": "f42174f8",
   "metadata": {},
   "source": [
    "### 3.2 Data Cleaning\n",
    "<b> Checking the Empty cells / Missing values :\n",
    "- The isnull().sum() method returns the total number of missing values (count) present in the each column."
   ]
  },
  {
   "cell_type": "code",
   "execution_count": 13,
   "id": "26507328",
   "metadata": {},
   "outputs": [
    {
     "data": {
      "text/plain": [
       "age         0\n",
       "sex         0\n",
       "bmi         0\n",
       "children    0\n",
       "smoker      0\n",
       "region      0\n",
       "expenses    0\n",
       "dtype: int64"
      ]
     },
     "execution_count": 13,
     "metadata": {},
     "output_type": "execute_result"
    }
   ],
   "source": [
    "# Check the missing values records.\n",
    "df.isnull().sum()"
   ]
  },
  {
   "cell_type": "markdown",
   "id": "71d12ffb",
   "metadata": {},
   "source": [
    "<b> In the above, we can see that there is no missing values.\n",
    "    "
   ]
  },
  {
   "cell_type": "markdown",
   "id": "7ad539c9",
   "metadata": {},
   "source": [
    "<b> Here we are dropping the \"region\" variable, because there is no relationship between \"region\" and \"expenses\"."
   ]
  },
  {
   "cell_type": "code",
   "execution_count": 14,
   "id": "1ca179b7",
   "metadata": {},
   "outputs": [],
   "source": [
    "# drop the region variable.\n",
    "df.drop(\"region\", axis=1, inplace=True)"
   ]
  },
  {
   "cell_type": "markdown",
   "id": "0200a92c",
   "metadata": {},
   "source": [
    "### 3.3 Data Wrangling\n",
    "<b> Here we are going to encode the \"sex\" and \"smoker\" variables. As we can see in the above, the value_counts of \"sex\" and \"smoker\" is 2. So here we are using replace() function to encode the these variables, instead dummy_variables or OneHotEncoding or LabelEncoding, etc."
   ]
  },
  {
   "cell_type": "code",
   "execution_count": 15,
   "id": "814a2876",
   "metadata": {},
   "outputs": [],
   "source": [
    "# encoding the \"sex\" variable.\n",
    "df[\"sex\"].replace({\"female\":0, \"male\":1}, inplace=True)\n",
    "\n",
    "# encoding the \"smoker\" variable.\n",
    "df[\"smoker\"].replace({\"no\":0, \"yes\":1}, inplace=True)"
   ]
  },
  {
   "cell_type": "code",
   "execution_count": 16,
   "id": "ee002c95",
   "metadata": {},
   "outputs": [
    {
     "data": {
      "text/html": [
       "<div>\n",
       "<style scoped>\n",
       "    .dataframe tbody tr th:only-of-type {\n",
       "        vertical-align: middle;\n",
       "    }\n",
       "\n",
       "    .dataframe tbody tr th {\n",
       "        vertical-align: top;\n",
       "    }\n",
       "\n",
       "    .dataframe thead th {\n",
       "        text-align: right;\n",
       "    }\n",
       "</style>\n",
       "<table border=\"1\" class=\"dataframe\">\n",
       "  <thead>\n",
       "    <tr style=\"text-align: right;\">\n",
       "      <th></th>\n",
       "      <th>sex</th>\n",
       "      <th>smoker</th>\n",
       "    </tr>\n",
       "  </thead>\n",
       "  <tbody>\n",
       "    <tr>\n",
       "      <th>0</th>\n",
       "      <td>0</td>\n",
       "      <td>1</td>\n",
       "    </tr>\n",
       "    <tr>\n",
       "      <th>1</th>\n",
       "      <td>1</td>\n",
       "      <td>0</td>\n",
       "    </tr>\n",
       "    <tr>\n",
       "      <th>2</th>\n",
       "      <td>1</td>\n",
       "      <td>0</td>\n",
       "    </tr>\n",
       "    <tr>\n",
       "      <th>3</th>\n",
       "      <td>1</td>\n",
       "      <td>0</td>\n",
       "    </tr>\n",
       "    <tr>\n",
       "      <th>4</th>\n",
       "      <td>1</td>\n",
       "      <td>0</td>\n",
       "    </tr>\n",
       "  </tbody>\n",
       "</table>\n",
       "</div>"
      ],
      "text/plain": [
       "   sex  smoker\n",
       "0    0       1\n",
       "1    1       0\n",
       "2    1       0\n",
       "3    1       0\n",
       "4    1       0"
      ]
     },
     "execution_count": 16,
     "metadata": {},
     "output_type": "execute_result"
    }
   ],
   "source": [
    "# print the \"sex\" and \"smoker\" variables.\n",
    "df[[\"sex\", \"smoker\"]].head()"
   ]
  },
  {
   "cell_type": "markdown",
   "id": "d76bf28d",
   "metadata": {},
   "source": [
    "<b> We can see in the above, we have done with encoding"
   ]
  },
  {
   "cell_type": "markdown",
   "id": "18e88067",
   "metadata": {},
   "source": [
    "### 3.4 Train/Test Split\n",
    "<b> Creating independent variables (\"age\", \"sex\", \"bmi\", \"children\", \"smoker\") as \"x\" variable and dependent variable \"expenses\" as \"y\" variable."
   ]
  },
  {
   "cell_type": "code",
   "execution_count": 17,
   "id": "1b04bfa9",
   "metadata": {},
   "outputs": [],
   "source": [
    "# Create x and y variables.\n",
    "x = df[[\"age\", \"sex\", \"bmi\", \"children\", \"smoker\"]]   # independent variables\n",
    "y = df[\"expenses\"]                                    # dependent variable"
   ]
  },
  {
   "cell_type": "markdown",
   "id": "9baea589",
   "metadata": {},
   "source": [
    "<b> In the above, I have created x variable with 5 independent (input) variables and y variable with 1 dependent (output) variable."
   ]
  },
  {
   "cell_type": "code",
   "execution_count": 19,
   "id": "0a62e622",
   "metadata": {},
   "outputs": [],
   "source": [
    "# import train_test_split from scikit-learn.\n",
    "from sklearn.model_selection import train_test_split\n",
    "\n",
    "# Apply the train_test_split() function.\n",
    "x_train, x_test, y_train, y_test = train_test_split(x, y, test_size=0.2, random_state=9)"
   ]
  },
  {
   "cell_type": "markdown",
   "id": "d3196aba",
   "metadata": {},
   "source": [
    "In the first line of the above code, we have imported the train_test_split function from the sklearn library.\n",
    "\n",
    "\n",
    "In the second line, we have used four variables, which are :\n",
    "\n",
    "   - x_train: It is used to represent features for the training data\n",
    "   - x_test: It is used to represent features for testing data\n",
    "   - y_train: It is used to represent dependent variables for training data\n",
    "   - y_test: It is used to represent independent variable for testing data\n",
    "   \n",
    "   \n",
    "In the train_test_split() function, we have passed four parameters. In which first two are for arrays of data, and test_size is for specifying the size of the test set which tells the dividing ratio of training and testing sets. The last parameter, random_state, is used to set a seed for a random generator so that you always get the same result."
   ]
  },
  {
   "cell_type": "markdown",
   "id": "7b67ef35",
   "metadata": {},
   "source": [
    "<b> View the dimensions of x_train, x_test, y_train, y_test"
   ]
  },
  {
   "cell_type": "code",
   "execution_count": 20,
   "id": "a3982d42",
   "metadata": {},
   "outputs": [
    {
     "data": {
      "text/plain": [
       "((1070, 5), (268, 5))"
      ]
     },
     "execution_count": 20,
     "metadata": {},
     "output_type": "execute_result"
    }
   ],
   "source": [
    "x_train.shape, x_test.shape"
   ]
  },
  {
   "cell_type": "code",
   "execution_count": 21,
   "id": "f69ca143",
   "metadata": {},
   "outputs": [
    {
     "data": {
      "text/plain": [
       "((1070,), (268,))"
      ]
     },
     "execution_count": 21,
     "metadata": {},
     "output_type": "execute_result"
    }
   ],
   "source": [
    "y_train.shape, y_test.shape"
   ]
  },
  {
   "cell_type": "markdown",
   "id": "d2debcd6",
   "metadata": {},
   "source": [
    "## Step - 4, 5 : Modelling and Evaluation :\n",
    "<b> ElasticNet regression with default parameters. i.e. α (alpha)=1.0, λ (l1_ratio)=0.5"
   ]
  },
  {
   "cell_type": "code",
   "execution_count": 38,
   "id": "edc1fc97",
   "metadata": {},
   "outputs": [
    {
     "name": "stdout",
     "output_type": "stream",
     "text": [
      "Train_accuracy: 0.39155822533558715\n",
      "Test_accuracy: 0.3970277641347352\n",
      "Cross Validation Score: 0.3889250431216654\n"
     ]
    }
   ],
   "source": [
    "# Modelling\n",
    "# import the Ridge from sklearn.linear_model library.\n",
    "from sklearn.linear_model import ElasticNet\n",
    "\n",
    "# save (initialize) the model as \"ridge_base\".\n",
    "enr_base = ElasticNet()\n",
    "\n",
    "# Train the model using training sets\n",
    "enr_base.fit(x_train, y_train)\n",
    "\n",
    "\n",
    "# Prediction\n",
    "# Predict on the train data set.\n",
    "train_predictions = enr_base.predict(x_train)\n",
    "\n",
    "# Predict on the test data set.\n",
    "test_predictions = enr_base.predict(x_test)\n",
    "\n",
    "\n",
    "# Evaluation\n",
    "print(\"Train_accuracy:\", enr_base.score(x_train, y_train))\n",
    "print(\"Test_accuracy:\", enr_base.score(x_test, y_test))\n",
    "\n",
    "\n",
    "# Cross Validation Score (CV)\n",
    "# import the cross_val_score class from sklearn.model_selection library\n",
    "from sklearn.model_selection import cross_val_score\n",
    "\n",
    "# Apply the cross_val_score() function and print the result.\n",
    "print(\"Cross Validation Score:\", cross_val_score(enr_base, x, y, cv=5).mean())"
   ]
  },
  {
   "cell_type": "markdown",
   "id": "230cfe45",
   "metadata": {},
   "source": [
    "<b> ElasticNet regression with default parameters, the training set and testing set performances are comparable. From the above we conclude that, we have got quite good model on train and test data sets. We got an train accuracy of 39.15%, test accuracy of 39.70% and cross validate score of 38.89% with this model."
   ]
  },
  {
   "cell_type": "markdown",
   "id": "0abc7be5",
   "metadata": {},
   "source": [
    "### Applying  Hyper Parameter Tuning for ElasticNet Regression\n",
    "<b> Here we are using GridSearchCV() function. GridSearchCV() function is used to identify the best value (parameter) within given dat by appling cross validation (CV).\n",
    "    \n",
    "<b> Grid searching is a method to find the best possible combination of hyper-parameters at which the model achieves the highest accuracy."
   ]
  },
  {
   "cell_type": "code",
   "execution_count": 41,
   "id": "851dc12e",
   "metadata": {},
   "outputs": [
    {
     "data": {
      "text/plain": [
       "{'alpha': 50, 'l1_ratio': 1}"
      ]
     },
     "execution_count": 41,
     "metadata": {},
     "output_type": "execute_result"
    }
   ],
   "source": [
    "# import the GridSearchCV from sklearn.model_selection library.\n",
    "from sklearn.model_selection import GridSearchCV\n",
    "\n",
    "# Model\n",
    "estimator = ElasticNet()\n",
    "\n",
    "# Parameters and values.\n",
    "param_grid = {\"alpha\":[0.1,0.2,0.5,0.7,1,5,10,30,50,60,75,77,78,100],\n",
    "               \"l1_ratio\":[0.1,0.5,0.75,0.9,0.95,1]}\n",
    "\n",
    "# Identify the best value of the parameter within given values for the given data.\n",
    "model_hp = GridSearchCV(estimator,param_grid,cv=5,scoring=\"neg_mean_squared_error\")\n",
    "model_hp.fit(x_train, y_train)\n",
    "model_hp.best_params_"
   ]
  },
  {
   "cell_type": "markdown",
   "id": "7e7238a2",
   "metadata": {},
   "source": [
    "<b> From the above, we have got the best parameter, i.e. α (alpha)=50, λ (l1_ratio)=1 "
   ]
  },
  {
   "cell_type": "markdown",
   "id": "5430ecd8",
   "metadata": {},
   "source": [
    "### Here we are Rebuilding the ElasticNet Model with best Hyper Parameter Tuning, i.e. α (alpha)=50,  λ (l1_ratio)=1"
   ]
  },
  {
   "cell_type": "code",
   "execution_count": 42,
   "id": "b57869c9",
   "metadata": {},
   "outputs": [
    {
     "name": "stdout",
     "output_type": "stream",
     "text": [
      "Intercept: -11336.591469036648\n",
      "Coefficients: [  256.68842008    -0.           303.91129506   408.88291866\n",
      " 23323.3694514 ]\n",
      "Train_accuracy: 0.743200050042114\n",
      "Test_accuracy: 0.7747832866417829\n",
      "Cross Validation Score: 0.7468453212720682\n"
     ]
    }
   ],
   "source": [
    "# Modelling\n",
    "# import the ElasticNet from sklearn.linear_model library.\n",
    "from sklearn.linear_model import ElasticNet\n",
    "\n",
    "# save (initialize) the model as \"enr_best\" \n",
    "# and pass alpha=50 and λ (l1_ratio)=1\n",
    "enr_best = ElasticNet(alpha=50, l1_ratio=1)\n",
    "\n",
    "# Train the model using training sets\n",
    "enr_best.fit(x_train, y_train)\n",
    "\n",
    "# print the intercept.\n",
    "print(\"Intercept:\", enr_best.intercept_)\n",
    "\n",
    "# print the coefficients.\n",
    "print(\"Coefficients:\", enr_best.coef_)\n",
    "\n",
    "\n",
    "# Prediction\n",
    "# Predict on the train data set.\n",
    "train_predictions = enr_best.predict(x_train)\n",
    "\n",
    "# Predict on the test data set.\n",
    "test_predictions = enr_best.predict(x_test)\n",
    "\n",
    "\n",
    "# Evaluation\n",
    "print(\"Train_accuracy:\", enr_best.score(x_train, y_train))\n",
    "print(\"Test_accuracy:\", enr_best.score(x_test, y_test))\n",
    "\n",
    "\n",
    "# Cross Validation Score (CV)\n",
    "# import the cross_val_score class from sklearn.model_selection library\n",
    "from sklearn.model_selection import cross_val_score\n",
    "\n",
    "# Apply the cross_val_score() function and print the result.\n",
    "print(\"Cross Validation Score:\", cross_val_score(enr_best, x, y, cv=5).mean())"
   ]
  },
  {
   "cell_type": "markdown",
   "id": "cc087bb5",
   "metadata": {},
   "source": [
    "<b> In the above, we have build the ElasticNet Model with best Hyper Parameter Tuning, i.e. α (alpha)=50, λ (l1_ratio)=1 \n",
    "    \n",
    "<b> The training set and testing set performances are comparable. From the above we conclude that, we have got good model on train and test data sets. We got an train accuracy of 74.32%, test accuracy of 77.47% and cross validate score of 74.68% with this model."
   ]
  },
  {
   "cell_type": "markdown",
   "id": "7bd0b1c3",
   "metadata": {},
   "source": [
    "### Prediction on New Data :"
   ]
  },
  {
   "cell_type": "code",
   "execution_count": 43,
   "id": "289734a8",
   "metadata": {},
   "outputs": [],
   "source": [
    "# New Data\n",
    "input_data = {\"age\":31, \"sex\":\"female\", \"bmi\":25.74, \n",
    "              \"children\":0, \"smoker\":\"no\", \"region\":\"northeast\"}"
   ]
  },
  {
   "cell_type": "markdown",
   "id": "81a8ad9c",
   "metadata": {},
   "source": [
    "<b> Recall that we will need to convert any incoming data to ElasticNet regression data, since that is what our model is trained on. So here we are applying same preprocess on the input_data."
   ]
  },
  {
   "cell_type": "markdown",
   "id": "5b71139f",
   "metadata": {},
   "source": [
    "<b> Preprocessing on the new data."
   ]
  },
  {
   "cell_type": "code",
   "execution_count": 44,
   "id": "f5f30091",
   "metadata": {},
   "outputs": [],
   "source": [
    "# Preprocessing on the new data.\n",
    "\n",
    "# create the \"df_test\" DataFrame with new data.\n",
    "df_test = pd.DataFrame(input_data, index=[0])\n",
    "\n",
    "# drop the region variable.\n",
    "df_test.drop(\"region\", axis=1, inplace=True)\n",
    "\n",
    "# encoding the \"sex\" variable.\n",
    "df_test[\"sex\"].replace({\"female\":0, \"male\":1}, inplace=True)\n",
    "\n",
    "# encoding the \"smoker\" variable.\n",
    "df_test[\"smoker\"].replace({\"no\":0, \"yes\":1}, inplace=True)\n",
    "\n",
    "# store the df_test data in new object as \"transformed_data\".\n",
    "transformed_data= df_test\n"
   ]
  },
  {
   "cell_type": "markdown",
   "id": "90d1e705",
   "metadata": {},
   "source": [
    "<b> Prediction on transformed_data (new data)"
   ]
  },
  {
   "cell_type": "code",
   "execution_count": 45,
   "id": "e3c6e778",
   "metadata": {},
   "outputs": [
    {
     "data": {
      "text/plain": [
       "array([4443.42628845])"
      ]
     },
     "execution_count": 45,
     "metadata": {},
     "output_type": "execute_result"
    }
   ],
   "source": [
    "# prediction on transformed_data (new data).\n",
    "enr_best.predict(transformed_data)"
   ]
  },
  {
   "cell_type": "markdown",
   "id": "75fde86b",
   "metadata": {},
   "source": [
    "<b> From the above prediction, On the basis of our new data (age=31, sex=\"female\", bmi=25.74, children=0, smoker=\"no\", region=\"northeast\"), we can expect 4443 rupees expenses.\n",
    "    \n"
   ]
  }
 ],
 "metadata": {
  "kernelspec": {
   "display_name": "Python 3 (ipykernel)",
   "language": "python",
   "name": "python3"
  },
  "language_info": {
   "codemirror_mode": {
    "name": "ipython",
    "version": 3
   },
   "file_extension": ".py",
   "mimetype": "text/x-python",
   "name": "python",
   "nbconvert_exporter": "python",
   "pygments_lexer": "ipython3",
   "version": "3.9.13"
  }
 },
 "nbformat": 4,
 "nbformat_minor": 5
}
