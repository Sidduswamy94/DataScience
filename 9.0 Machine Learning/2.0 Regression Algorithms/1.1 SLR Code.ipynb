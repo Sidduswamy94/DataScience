{
 "cells": [
  {
   "cell_type": "markdown",
   "id": "19ae173a",
   "metadata": {},
   "source": [
    "## predicting units of sales per total amount spent on advertisement using Machine Learning algorithms.\n",
    "<b> In this article, I am using Marketing dataset as \"Advertising.csv\". I’ll discuss a project where I worked on predicting units of sales per total amount spent on advertisement using Machine Learning algorithms. The algorithms included simple linear regression. "
   ]
  },
  {
   "cell_type": "markdown",
   "id": "971baa01",
   "metadata": {},
   "source": [
    "## Step - 1 : Business Problem Understanding\n",
    "- <b> Identify relationship between total spend and sales ?\n",
    "- <b> Our next ad campaign will have a total spend of $200,000, how many units do we expect to sell as a result of this ?"
   ]
  },
  {
   "cell_type": "markdown",
   "id": "7d2f0579",
   "metadata": {},
   "source": [
    "<b> importing all the necessary libraries."
   ]
  },
  {
   "cell_type": "code",
   "execution_count": 1,
   "id": "5e4b04f7",
   "metadata": {},
   "outputs": [],
   "source": [
    "import numpy as np\n",
    "import pandas as pd\n",
    "import matplotlib.pyplot as plt\n",
    "import seaborn as sns"
   ]
  },
  {
   "cell_type": "markdown",
   "id": "ec316345",
   "metadata": {},
   "source": [
    "<b> In the above, i have imported all the necessary libraries."
   ]
  },
  {
   "cell_type": "markdown",
   "id": "abed6944",
   "metadata": {},
   "source": [
    "## Step - 2 : Data Understanding\n",
    "### 2.1 Data Collection\n",
    "<b>Load the dataset by using read_csv() to read the dataset and save it to the 'df' variable and take a look at the first 5 lines using the head() method."
   ]
  },
  {
   "cell_type": "code",
   "execution_count": 2,
   "id": "903d2552",
   "metadata": {},
   "outputs": [
    {
     "data": {
      "text/html": [
       "<div>\n",
       "<style scoped>\n",
       "    .dataframe tbody tr th:only-of-type {\n",
       "        vertical-align: middle;\n",
       "    }\n",
       "\n",
       "    .dataframe tbody tr th {\n",
       "        vertical-align: top;\n",
       "    }\n",
       "\n",
       "    .dataframe thead th {\n",
       "        text-align: right;\n",
       "    }\n",
       "</style>\n",
       "<table border=\"1\" class=\"dataframe\">\n",
       "  <thead>\n",
       "    <tr style=\"text-align: right;\">\n",
       "      <th></th>\n",
       "      <th>TV</th>\n",
       "      <th>radio</th>\n",
       "      <th>newspaper</th>\n",
       "      <th>sales</th>\n",
       "    </tr>\n",
       "  </thead>\n",
       "  <tbody>\n",
       "    <tr>\n",
       "      <th>0</th>\n",
       "      <td>230100</td>\n",
       "      <td>37800</td>\n",
       "      <td>69200</td>\n",
       "      <td>22100</td>\n",
       "    </tr>\n",
       "    <tr>\n",
       "      <th>1</th>\n",
       "      <td>44500</td>\n",
       "      <td>39300</td>\n",
       "      <td>45100</td>\n",
       "      <td>10400</td>\n",
       "    </tr>\n",
       "    <tr>\n",
       "      <th>2</th>\n",
       "      <td>17200</td>\n",
       "      <td>45900</td>\n",
       "      <td>69300</td>\n",
       "      <td>9300</td>\n",
       "    </tr>\n",
       "    <tr>\n",
       "      <th>3</th>\n",
       "      <td>151500</td>\n",
       "      <td>41300</td>\n",
       "      <td>58500</td>\n",
       "      <td>18500</td>\n",
       "    </tr>\n",
       "    <tr>\n",
       "      <th>4</th>\n",
       "      <td>180800</td>\n",
       "      <td>10800</td>\n",
       "      <td>58400</td>\n",
       "      <td>12900</td>\n",
       "    </tr>\n",
       "  </tbody>\n",
       "</table>\n",
       "</div>"
      ],
      "text/plain": [
       "       TV  radio  newspaper  sales\n",
       "0  230100  37800      69200  22100\n",
       "1   44500  39300      45100  10400\n",
       "2   17200  45900      69300   9300\n",
       "3  151500  41300      58500  18500\n",
       "4  180800  10800      58400  12900"
      ]
     },
     "execution_count": 2,
     "metadata": {},
     "output_type": "execute_result"
    }
   ],
   "source": [
    "# Load the dataset.\n",
    "df = pd.read_csv(\"Advertising.csv\")\n",
    "\n",
    "# Display the first 5 lines using the head() method.\n",
    "df.head()"
   ]
  },
  {
   "cell_type": "markdown",
   "id": "1a67fef3",
   "metadata": {},
   "source": [
    "### 2.2 Data Understanding\n",
    "<b> Let’s have a look at data dimensionality."
   ]
  },
  {
   "cell_type": "code",
   "execution_count": 3,
   "id": "b6d87cd8",
   "metadata": {},
   "outputs": [
    {
     "data": {
      "text/plain": [
       "(200, 4)"
      ]
     },
     "execution_count": 3,
     "metadata": {},
     "output_type": "execute_result"
    }
   ],
   "source": [
    "df.shape"
   ]
  },
  {
   "cell_type": "markdown",
   "id": "0c21eaa6",
   "metadata": {},
   "source": [
    "<b> From the output, we can see that the table contains 200 rows and 4 columns.\n",
    "    \n",
    "    \n",
    "<b> We can use the info() method to output some general information about the dataframe :"
   ]
  },
  {
   "cell_type": "code",
   "execution_count": 4,
   "id": "b915683c",
   "metadata": {},
   "outputs": [
    {
     "name": "stdout",
     "output_type": "stream",
     "text": [
      "<class 'pandas.core.frame.DataFrame'>\n",
      "RangeIndex: 200 entries, 0 to 199\n",
      "Data columns (total 4 columns):\n",
      " #   Column     Non-Null Count  Dtype\n",
      "---  ------     --------------  -----\n",
      " 0   TV         200 non-null    int64\n",
      " 1   radio      200 non-null    int64\n",
      " 2   newspaper  200 non-null    int64\n",
      " 3   sales      200 non-null    int64\n",
      "dtypes: int64(4)\n",
      "memory usage: 6.4 KB\n"
     ]
    }
   ],
   "source": [
    "df.info()"
   ]
  },
  {
   "cell_type": "markdown",
   "id": "906fc46b",
   "metadata": {},
   "source": [
    "<b> int64 is the data type of our features. We see that all features are numeric. With this same method, we can easily see if there are any missing values. Here, there are none because each column contains 200 observations, the same number of rows we saw before with shape.\n",
    "    \n",
    "    \n",
    "<b> Here 4 variables are there, all variables are numeric. The sales variable in units and the TV, radio and newspaper variables are in dollars."
   ]
  },
  {
   "cell_type": "markdown",
   "id": "b9b1c3e0",
   "metadata": {},
   "source": [
    "<b> If someone was to spent a total of $200,000, what would the expected sales be ?\n",
    "\n",
    "\n",
    "<b> We have simplified this quiet a bit by combining 3 features (TV, radio and newspaper) into \"total spend\"."
   ]
  },
  {
   "cell_type": "code",
   "execution_count": 5,
   "id": "a3bf6263",
   "metadata": {},
   "outputs": [
    {
     "data": {
      "text/html": [
       "<div>\n",
       "<style scoped>\n",
       "    .dataframe tbody tr th:only-of-type {\n",
       "        vertical-align: middle;\n",
       "    }\n",
       "\n",
       "    .dataframe tbody tr th {\n",
       "        vertical-align: top;\n",
       "    }\n",
       "\n",
       "    .dataframe thead th {\n",
       "        text-align: right;\n",
       "    }\n",
       "</style>\n",
       "<table border=\"1\" class=\"dataframe\">\n",
       "  <thead>\n",
       "    <tr style=\"text-align: right;\">\n",
       "      <th></th>\n",
       "      <th>TV</th>\n",
       "      <th>radio</th>\n",
       "      <th>newspaper</th>\n",
       "      <th>sales</th>\n",
       "      <th>total_spend</th>\n",
       "    </tr>\n",
       "  </thead>\n",
       "  <tbody>\n",
       "    <tr>\n",
       "      <th>0</th>\n",
       "      <td>230100</td>\n",
       "      <td>37800</td>\n",
       "      <td>69200</td>\n",
       "      <td>22100</td>\n",
       "      <td>337100</td>\n",
       "    </tr>\n",
       "    <tr>\n",
       "      <th>1</th>\n",
       "      <td>44500</td>\n",
       "      <td>39300</td>\n",
       "      <td>45100</td>\n",
       "      <td>10400</td>\n",
       "      <td>128900</td>\n",
       "    </tr>\n",
       "    <tr>\n",
       "      <th>2</th>\n",
       "      <td>17200</td>\n",
       "      <td>45900</td>\n",
       "      <td>69300</td>\n",
       "      <td>9300</td>\n",
       "      <td>132400</td>\n",
       "    </tr>\n",
       "    <tr>\n",
       "      <th>3</th>\n",
       "      <td>151500</td>\n",
       "      <td>41300</td>\n",
       "      <td>58500</td>\n",
       "      <td>18500</td>\n",
       "      <td>251300</td>\n",
       "    </tr>\n",
       "    <tr>\n",
       "      <th>4</th>\n",
       "      <td>180800</td>\n",
       "      <td>10800</td>\n",
       "      <td>58400</td>\n",
       "      <td>12900</td>\n",
       "      <td>250000</td>\n",
       "    </tr>\n",
       "  </tbody>\n",
       "</table>\n",
       "</div>"
      ],
      "text/plain": [
       "       TV  radio  newspaper  sales  total_spend\n",
       "0  230100  37800      69200  22100       337100\n",
       "1   44500  39300      45100  10400       128900\n",
       "2   17200  45900      69300   9300       132400\n",
       "3  151500  41300      58500  18500       251300\n",
       "4  180800  10800      58400  12900       250000"
      ]
     },
     "execution_count": 5,
     "metadata": {},
     "output_type": "execute_result"
    }
   ],
   "source": [
    "# Calculating \"total spend\".\n",
    "df[\"total_spend\"] = df[\"TV\"] + df[\"radio\"] + df[\"newspaper\"]\n",
    "\n",
    "# Display the first 5 lines using the head() method.\n",
    "df.head()"
   ]
  },
  {
   "cell_type": "markdown",
   "id": "39375204",
   "metadata": {},
   "source": [
    "<b> Here I am predicting sales per total_spend, so TV, radio and newspaper variables are don't required.\n",
    "\n",
    "\n",
    "<b> Now dropping the TV, radio and newspaper variables from the DataFrame and take a look at the first 5 lines using the head() method."
   ]
  },
  {
   "cell_type": "code",
   "execution_count": 6,
   "id": "98b00e66",
   "metadata": {},
   "outputs": [
    {
     "data": {
      "text/html": [
       "<div>\n",
       "<style scoped>\n",
       "    .dataframe tbody tr th:only-of-type {\n",
       "        vertical-align: middle;\n",
       "    }\n",
       "\n",
       "    .dataframe tbody tr th {\n",
       "        vertical-align: top;\n",
       "    }\n",
       "\n",
       "    .dataframe thead th {\n",
       "        text-align: right;\n",
       "    }\n",
       "</style>\n",
       "<table border=\"1\" class=\"dataframe\">\n",
       "  <thead>\n",
       "    <tr style=\"text-align: right;\">\n",
       "      <th></th>\n",
       "      <th>sales</th>\n",
       "      <th>total_spend</th>\n",
       "    </tr>\n",
       "  </thead>\n",
       "  <tbody>\n",
       "    <tr>\n",
       "      <th>0</th>\n",
       "      <td>22100</td>\n",
       "      <td>337100</td>\n",
       "    </tr>\n",
       "    <tr>\n",
       "      <th>1</th>\n",
       "      <td>10400</td>\n",
       "      <td>128900</td>\n",
       "    </tr>\n",
       "    <tr>\n",
       "      <th>2</th>\n",
       "      <td>9300</td>\n",
       "      <td>132400</td>\n",
       "    </tr>\n",
       "    <tr>\n",
       "      <th>3</th>\n",
       "      <td>18500</td>\n",
       "      <td>251300</td>\n",
       "    </tr>\n",
       "    <tr>\n",
       "      <th>4</th>\n",
       "      <td>12900</td>\n",
       "      <td>250000</td>\n",
       "    </tr>\n",
       "  </tbody>\n",
       "</table>\n",
       "</div>"
      ],
      "text/plain": [
       "   sales  total_spend\n",
       "0  22100       337100\n",
       "1  10400       128900\n",
       "2   9300       132400\n",
       "3  18500       251300\n",
       "4  12900       250000"
      ]
     },
     "execution_count": 6,
     "metadata": {},
     "output_type": "execute_result"
    }
   ],
   "source": [
    "# Drop the unrequired variables.\n",
    "df.drop(columns=[\"TV\", \"radio\", \"newspaper\"], inplace=True)\n",
    "\n",
    "# Display the first 5 lines using the head() method.\n",
    "df.head()"
   ]
  },
  {
   "cell_type": "markdown",
   "id": "a158353b",
   "metadata": {},
   "source": [
    "## Step - 3 : Data Preprocessing\n",
    "### 3.1 Exploratory Data Analysis (EDA)\n",
    "<b> On the basis of this data, how should they spend advertising money in the future ? These general questions might lead me to more specific questions :\n",
    "    \n",
    "   1. Is there a relationship between ads and sales ?\n",
    "   2. How strong is that relationship ?\n",
    "   3. Given ad spending, can sales be predicted ?\n",
    "    \n",
    "    "
   ]
  },
  {
   "cell_type": "markdown",
   "id": "e54bce1b",
   "metadata": {},
   "source": [
    "<b> The describe method shows basic statistical characteristics of each numerical feature (int64 and float64 types): count, mean, standard deviation, min, max, median, 0.25 and 0.75 quartiles."
   ]
  },
  {
   "cell_type": "code",
   "execution_count": 7,
   "id": "bf94059b",
   "metadata": {},
   "outputs": [
    {
     "data": {
      "text/html": [
       "<div>\n",
       "<style scoped>\n",
       "    .dataframe tbody tr th:only-of-type {\n",
       "        vertical-align: middle;\n",
       "    }\n",
       "\n",
       "    .dataframe tbody tr th {\n",
       "        vertical-align: top;\n",
       "    }\n",
       "\n",
       "    .dataframe thead th {\n",
       "        text-align: right;\n",
       "    }\n",
       "</style>\n",
       "<table border=\"1\" class=\"dataframe\">\n",
       "  <thead>\n",
       "    <tr style=\"text-align: right;\">\n",
       "      <th></th>\n",
       "      <th>sales</th>\n",
       "      <th>total_spend</th>\n",
       "    </tr>\n",
       "  </thead>\n",
       "  <tbody>\n",
       "    <tr>\n",
       "      <th>count</th>\n",
       "      <td>200.000000</td>\n",
       "      <td>200.000000</td>\n",
       "    </tr>\n",
       "    <tr>\n",
       "      <th>mean</th>\n",
       "      <td>14022.500000</td>\n",
       "      <td>200860.500000</td>\n",
       "    </tr>\n",
       "    <tr>\n",
       "      <th>std</th>\n",
       "      <td>5217.456566</td>\n",
       "      <td>92985.180587</td>\n",
       "    </tr>\n",
       "    <tr>\n",
       "      <th>min</th>\n",
       "      <td>1600.000000</td>\n",
       "      <td>11700.000000</td>\n",
       "    </tr>\n",
       "    <tr>\n",
       "      <th>25%</th>\n",
       "      <td>10375.000000</td>\n",
       "      <td>123550.000000</td>\n",
       "    </tr>\n",
       "    <tr>\n",
       "      <th>50%</th>\n",
       "      <td>12900.000000</td>\n",
       "      <td>207350.000000</td>\n",
       "    </tr>\n",
       "    <tr>\n",
       "      <th>75%</th>\n",
       "      <td>17400.000000</td>\n",
       "      <td>281125.000000</td>\n",
       "    </tr>\n",
       "    <tr>\n",
       "      <th>max</th>\n",
       "      <td>27000.000000</td>\n",
       "      <td>433600.000000</td>\n",
       "    </tr>\n",
       "  </tbody>\n",
       "</table>\n",
       "</div>"
      ],
      "text/plain": [
       "              sales    total_spend\n",
       "count    200.000000     200.000000\n",
       "mean   14022.500000  200860.500000\n",
       "std     5217.456566   92985.180587\n",
       "min     1600.000000   11700.000000\n",
       "25%    10375.000000  123550.000000\n",
       "50%    12900.000000  207350.000000\n",
       "75%    17400.000000  281125.000000\n",
       "max    27000.000000  433600.000000"
      ]
     },
     "execution_count": 7,
     "metadata": {},
     "output_type": "execute_result"
    }
   ],
   "source": [
    "df.describe()"
   ]
  },
  {
   "cell_type": "markdown",
   "id": "b2c9899f",
   "metadata": {},
   "source": [
    "<b> Here I am using Pairplot to visualizes given data to find the relationship between them."
   ]
  },
  {
   "cell_type": "code",
   "execution_count": 8,
   "id": "4a3eca04",
   "metadata": {},
   "outputs": [
    {
     "data": {
      "image/png": "[encoded data removed]",
      "text/plain": [
       "<Figure size 500x500 with 6 Axes>"
      ]
     },
     "metadata": {},
     "output_type": "display_data"
    }
   ],
   "source": [
    "# plot the pairplot.\n",
    "sns.pairplot(df)\n",
    "\n",
    "# Display all figures.\n",
    "plt.show()"
   ]
  },
  {
   "cell_type": "markdown",
   "id": "006a2485",
   "metadata": {},
   "source": [
    "<b> In the above, we can see that the sales Vs total_spend histogram shows normaly distributed and the sales Vs total_spend scatter plot shows a strong correlation between these two variables.\n",
    "    \n",
    "    \n",
    "<b> The corr() method finds the correlation of each column in a DataFrame."
   ]
  },
  {
   "cell_type": "code",
   "execution_count": 9,
   "id": "3bdb7aeb",
   "metadata": {},
   "outputs": [
    {
     "data": {
      "text/html": [
       "<div>\n",
       "<style scoped>\n",
       "    .dataframe tbody tr th:only-of-type {\n",
       "        vertical-align: middle;\n",
       "    }\n",
       "\n",
       "    .dataframe tbody tr th {\n",
       "        vertical-align: top;\n",
       "    }\n",
       "\n",
       "    .dataframe thead th {\n",
       "        text-align: right;\n",
       "    }\n",
       "</style>\n",
       "<table border=\"1\" class=\"dataframe\">\n",
       "  <thead>\n",
       "    <tr style=\"text-align: right;\">\n",
       "      <th></th>\n",
       "      <th>sales</th>\n",
       "      <th>total_spend</th>\n",
       "    </tr>\n",
       "  </thead>\n",
       "  <tbody>\n",
       "    <tr>\n",
       "      <th>sales</th>\n",
       "      <td>1.000000</td>\n",
       "      <td>0.867712</td>\n",
       "    </tr>\n",
       "    <tr>\n",
       "      <th>total_spend</th>\n",
       "      <td>0.867712</td>\n",
       "      <td>1.000000</td>\n",
       "    </tr>\n",
       "  </tbody>\n",
       "</table>\n",
       "</div>"
      ],
      "text/plain": [
       "                sales  total_spend\n",
       "sales        1.000000     0.867712\n",
       "total_spend  0.867712     1.000000"
      ]
     },
     "execution_count": 9,
     "metadata": {},
     "output_type": "execute_result"
    }
   ],
   "source": [
    "df.corr()"
   ]
  },
  {
   "cell_type": "markdown",
   "id": "20200031",
   "metadata": {},
   "source": [
    "<b> The above matrix shows the strong correlation of the sales Vs total_spend."
   ]
  },
  {
   "cell_type": "markdown",
   "id": "f42174f8",
   "metadata": {},
   "source": [
    "### 3.2 Data Cleaning\n",
    "<b> Checking the Empty cells / Missing values :\n",
    "- The isnull().sum() method returns the total number of missing values (count) present in the each column."
   ]
  },
  {
   "cell_type": "code",
   "execution_count": 10,
   "id": "26507328",
   "metadata": {},
   "outputs": [
    {
     "data": {
      "text/plain": [
       "sales          0\n",
       "total_spend    0\n",
       "dtype: int64"
      ]
     },
     "execution_count": 10,
     "metadata": {},
     "output_type": "execute_result"
    }
   ],
   "source": [
    "# Check the missing values records.\n",
    "df.isnull().sum()"
   ]
  },
  {
   "cell_type": "markdown",
   "id": "71d12ffb",
   "metadata": {},
   "source": [
    "<b> In the above, we can see that there is no missing values.\n",
    "    \n",
    "    \n",
    "<b> Now checking the Duplicate records :"
   ]
  },
  {
   "cell_type": "code",
   "execution_count": 11,
   "id": "df1b880f",
   "metadata": {},
   "outputs": [
    {
     "data": {
      "text/plain": [
       "0"
      ]
     },
     "execution_count": 11,
     "metadata": {},
     "output_type": "execute_result"
    }
   ],
   "source": [
    "df.duplicated().sum()"
   ]
  },
  {
   "cell_type": "markdown",
   "id": "1c8f4078",
   "metadata": {},
   "source": [
    "<b> In the above, we can see that there is no duplicate values.\n",
    "    \n",
    "    \n",
    "<b> Wrong data and wrong format data is also not there."
   ]
  },
  {
   "cell_type": "markdown",
   "id": "0200a92c",
   "metadata": {},
   "source": [
    "### 3.3 Data Wrangling\n",
    "<b> Here all variables are numeric, so encoding is not required."
   ]
  },
  {
   "cell_type": "markdown",
   "id": "18e88067",
   "metadata": {},
   "source": [
    "### 3.4 Train/Test Split\n",
    "<b> Creating independent variable \"total_spend\" as \"x\" variable and dependent variable \"sales\" as \"y\" variable."
   ]
  },
  {
   "cell_type": "code",
   "execution_count": 12,
   "id": "1b04bfa9",
   "metadata": {},
   "outputs": [],
   "source": [
    "# Create x and y variables.\n",
    "x = df[[\"total_spend\"]]       # independent variable\n",
    "y = df[\"sales\"]               # dependent variable"
   ]
  },
  {
   "cell_type": "markdown",
   "id": "9baea589",
   "metadata": {},
   "source": [
    "<b> In the above, I have created x variable with 1 independent (input) variable and y variable with 1 dependent (output) variable."
   ]
  },
  {
   "cell_type": "code",
   "execution_count": 13,
   "id": "0a62e622",
   "metadata": {},
   "outputs": [],
   "source": [
    "# import train_test_split from scikit-learn.\n",
    "from sklearn.model_selection import train_test_split\n",
    "\n",
    "# Apply the train_test_split() function.\n",
    "x_train, x_test, y_train, y_test = train_test_split(x, y, test_size=0.3, random_state=42)"
   ]
  },
  {
   "cell_type": "markdown",
   "id": "d3196aba",
   "metadata": {},
   "source": [
    "In the first line of the above code, we have imported the train_test_split function from the sklearn library.\n",
    "\n",
    "\n",
    "In the second line, we have used four variables, which are :\n",
    "\n",
    "   - x_train: It is used to represent features for the training data\n",
    "   - x_test: It is used to represent features for testing data\n",
    "   - y_train: It is used to represent dependent variables for training data\n",
    "   - y_test: It is used to represent independent variable for testing data\n",
    "   \n",
    "   \n",
    "In the train_test_split() function, we have passed four parameters. In which first two are for arrays of data, and test_size is for specifying the size of the test set which tells the dividing ratio of training and testing sets. The last parameter, random_state, is used to set a seed for a random generator so that you always get the same result."
   ]
  },
  {
   "cell_type": "markdown",
   "id": "7b67ef35",
   "metadata": {},
   "source": [
    "<b> View the dimensions of x_train, x_test, y_train, y_test"
   ]
  },
  {
   "cell_type": "code",
   "execution_count": 14,
   "id": "a3982d42",
   "metadata": {},
   "outputs": [
    {
     "data": {
      "text/plain": [
       "((140, 1), (60, 1))"
      ]
     },
     "execution_count": 14,
     "metadata": {},
     "output_type": "execute_result"
    }
   ],
   "source": [
    "x_train.shape, x_test.shape"
   ]
  },
  {
   "cell_type": "code",
   "execution_count": 15,
   "id": "f69ca143",
   "metadata": {},
   "outputs": [
    {
     "data": {
      "text/plain": [
       "((140,), (60,))"
      ]
     },
     "execution_count": 15,
     "metadata": {},
     "output_type": "execute_result"
    }
   ],
   "source": [
    "y_train.shape, y_test.shape"
   ]
  },
  {
   "cell_type": "markdown",
   "id": "d2debcd6",
   "metadata": {},
   "source": [
    "## Step - 4 : Modelling\n",
    "<b> Now calculating a line of best fit that links x to y, the linear equation is given by :\n",
    "\n",
    "        ŷ = B0 + B1*x"
   ]
  },
  {
   "cell_type": "code",
   "execution_count": 16,
   "id": "1a9d81b9",
   "metadata": {},
   "outputs": [
    {
     "data": {
      "text/plain": [
       "LinearRegression()"
      ]
     },
     "execution_count": 16,
     "metadata": {},
     "output_type": "execute_result"
    }
   ],
   "source": [
    "# fit the linear regression model\n",
    "\n",
    "# import the LinearRegression class from linear_model library\n",
    "from sklearn.linear_model import LinearRegression\n",
    "\n",
    "# save the model as \"model\"\n",
    "model = LinearRegression()\n",
    "\n",
    "# Train the model using training sets\n",
    "model.fit(x_train, y_train)\n"
   ]
  },
  {
   "cell_type": "markdown",
   "id": "d3c4a874",
   "metadata": {},
   "source": [
    "<b> Now we can get the coefficient and intercept values from the model using attributes like coef_ and intercept_ :"
   ]
  },
  {
   "cell_type": "code",
   "execution_count": 17,
   "id": "29d22fc1",
   "metadata": {},
   "outputs": [
    {
     "data": {
      "text/plain": [
       "4199.10650086872"
      ]
     },
     "execution_count": 17,
     "metadata": {},
     "output_type": "execute_result"
    }
   ],
   "source": [
    "# print the intercept (B0)\n",
    "model.intercept_"
   ]
  },
  {
   "cell_type": "code",
   "execution_count": 18,
   "id": "8e6c2116",
   "metadata": {},
   "outputs": [
    {
     "data": {
      "text/plain": [
       "array([0.04895385])"
      ]
     },
     "execution_count": 18,
     "metadata": {},
     "output_type": "execute_result"
    }
   ],
   "source": [
    "# print the regression coefficient or coef (B1)\n",
    "model.coef_"
   ]
  },
  {
   "cell_type": "markdown",
   "id": "c364d747",
   "metadata": {},
   "source": [
    "<b> From these two values, we can calculate best fit line that links x to y, so the linear equation become as:\n",
    "\n",
    "       ŷ = 4199.10 + 0.048*x\n",
    "    \n",
    "    \n",
    "<b> I have calculated the linear equation for best fit that links x to y."
   ]
  },
  {
   "cell_type": "markdown",
   "id": "4ac0f3f4",
   "metadata": {},
   "source": [
    "## Predicting the results \n",
    "- <b> We have built the linear regression model. Now it is time to predict the results.\n",
    "    \n",
    "    \n",
    "<b> Predicting the test set results"
   ]
  },
  {
   "cell_type": "code",
   "execution_count": 19,
   "id": "fbe59544",
   "metadata": {},
   "outputs": [],
   "source": [
    "# Predict on the train data set.\n",
    "train_prediction = model.predict(x_train)\n",
    "\n",
    "# Predict on the test data set.\n",
    "test_prediction = model.predict(x_test)\n"
   ]
  },
  {
   "cell_type": "markdown",
   "id": "7ac801e6",
   "metadata": {},
   "source": [
    "## Step - 5 : Evaluation (Evaluate Model Performance)\n",
    "<b> I have built the linear regression model and use it to predict the results. Now, it is time to evaluate the model performance. We want to understand the outcome of our model and we want to know whether the performance is acceptable or not. For regression problems, there are several ways to evaluate the model performane. These are listed below :\n",
    "\n",
    "    \n",
    "   -  Mean Absolute Error (MAE)\n",
    "   -  Mean Square Error (MSE)\n",
    "   -  Root Mean Square Error (RMSE)\n",
    "   -  Coefficient of Determination (R2_score)\n",
    "    \n",
    "    \n",
    "<b> I have described these measures in following sections : \n",
    "        "
   ]
  },
  {
   "cell_type": "markdown",
   "id": "a20f67dd",
   "metadata": {},
   "source": [
    "<b> a) Mean Absolute Error (MAE) :"
   ]
  },
  {
   "cell_type": "code",
   "execution_count": 20,
   "id": "3b719311",
   "metadata": {},
   "outputs": [
    {
     "name": "stdout",
     "output_type": "stream",
     "text": [
      "MAE for test data: 1914.362736813055\n",
      "MAE for train data: 1963.9767578200754\n"
     ]
    }
   ],
   "source": [
    "# import the mean_absolute_error class from sklearn.metrics library\n",
    "from sklearn.metrics import mean_absolute_error\n",
    "\n",
    "# MAE for test data and print it.\n",
    "print(\"MAE for test data:\", mean_absolute_error(y_test, test_prediction))\n",
    "\n",
    "# MAE for train data and print it.\n",
    "print(\"MAE for train data:\", mean_absolute_error(y_train, train_prediction))\n"
   ]
  },
  {
   "cell_type": "markdown",
   "id": "721d151f",
   "metadata": {},
   "source": [
    "Here we will not recommend to go with the MAE for this dataset, because we need to calculate min Error due to the complexity that comes with the differentiation of absolute values, i.e. we are going with differentiation."
   ]
  },
  {
   "cell_type": "markdown",
   "id": "57f4f2a6",
   "metadata": {},
   "source": [
    "<b> b) Mean Square Error (MSE) :"
   ]
  },
  {
   "cell_type": "code",
   "execution_count": 21,
   "id": "9268e75c",
   "metadata": {},
   "outputs": [
    {
     "name": "stdout",
     "output_type": "stream",
     "text": [
      "MSE for test data: 6415866.312543217\n",
      "MSE for train data: 6811655.464246886\n"
     ]
    }
   ],
   "source": [
    "# import the mean_squared_error class from sklearn.metrics library\n",
    "from sklearn.metrics import mean_squared_error\n",
    "\n",
    "# MSE for test data and print it.\n",
    "print(\"MSE for test data:\", mean_squared_error(y_test, test_prediction))\n",
    "\n",
    "# MSE for train data and print it.\n",
    "print(\"MSE for train data:\", mean_squared_error(y_train, train_prediction))"
   ]
  },
  {
   "cell_type": "markdown",
   "id": "e31f369c",
   "metadata": {},
   "source": [
    "Here we will not recommend to go with the MSE for this dataset, because here units gets squared."
   ]
  },
  {
   "cell_type": "markdown",
   "id": "9c8d3991",
   "metadata": {},
   "source": [
    "<b> c) Root Mean Square Error (RMSE) :"
   ]
  },
  {
   "cell_type": "code",
   "execution_count": 22,
   "id": "e53f5b9e",
   "metadata": {},
   "outputs": [
    {
     "name": "stdout",
     "output_type": "stream",
     "text": [
      "RMSE for test data: 2532.956042362997\n",
      "RMSE for train data: 2609.9148385046756\n"
     ]
    }
   ],
   "source": [
    "# import the mean_squared_error class from sklearn.metrics library\n",
    "from sklearn.metrics import mean_squared_error\n",
    "\n",
    "# RMSE for test data and print it.\n",
    "print(\"RMSE for test data:\", np.sqrt(mean_squared_error(y_test, test_prediction)))\n",
    "\n",
    "# RMSE for train data and print it.\n",
    "print(\"RMSE for train data:\", np.sqrt(mean_squared_error(y_train, train_prediction)))"
   ]
  },
  {
   "cell_type": "markdown",
   "id": "ab060b22",
   "metadata": {},
   "source": [
    "<b> d) Coefficient of Determination (R2_score)"
   ]
  },
  {
   "cell_type": "code",
   "execution_count": 23,
   "id": "ad9a8a57",
   "metadata": {},
   "outputs": [
    {
     "name": "stdout",
     "output_type": "stream",
     "text": [
      "R2 for test data: 0.7650262463310723\n",
      "R2 for train data: 0.7404192834391545\n"
     ]
    }
   ],
   "source": [
    "# import the r2_score class from sklearn.metrics library\n",
    "from sklearn.metrics import r2_score\n",
    "\n",
    "# Coefficient of Determination (R2_score) for test data and print it.\n",
    "print(\"R2 for test data:\", r2_score(y_test, test_prediction))\n",
    "\n",
    "# Coefficient of Determination (R2_score) for train data and print it.\n",
    "print(\"R2 for train data:\", r2_score(y_train, train_prediction))"
   ]
  },
  {
   "cell_type": "code",
   "execution_count": 24,
   "id": "1fd95314",
   "metadata": {},
   "outputs": [
    {
     "data": {
      "text/plain": [
       "0.7650262463310723"
      ]
     },
     "execution_count": 24,
     "metadata": {},
     "output_type": "execute_result"
    }
   ],
   "source": [
    "# Test R-Square\n",
    "model.score(x_test, y_test)"
   ]
  },
  {
   "cell_type": "code",
   "execution_count": 25,
   "id": "847d0d1e",
   "metadata": {},
   "outputs": [
    {
     "data": {
      "text/plain": [
       "0.7404192834391545"
      ]
     },
     "execution_count": 25,
     "metadata": {},
     "output_type": "execute_result"
    }
   ],
   "source": [
    "# Train R-Square\n",
    "model.score(x_train, y_train)"
   ]
  },
  {
   "cell_type": "markdown",
   "id": "230cfe45",
   "metadata": {},
   "source": [
    "<b> Training set and testing set performances are comparable. From the above we conclude that, we have got good accuracy on train and test data sets. We got an accuracy of 76.50% with this model."
   ]
  },
  {
   "cell_type": "markdown",
   "id": "eeb3c886",
   "metadata": {},
   "source": [
    "## Checklist :\n",
    "<b> For any Supervised Machine Learning Alorithm, we need to follow these checklist :\n",
    "    \n",
    "   1. Check whether model has Overfitting or Underfitting problem.\n",
    "   2. Is Test Accuracy = Cross Validation Score\n",
    "   3. Check Assumptions (If it is linear regression only)\n",
    "   4. Check model meets the business problem requirements.\n",
    "   5. Finally, save the model and share to the deployment team."
   ]
  },
  {
   "cell_type": "markdown",
   "id": "c3ca472f",
   "metadata": {},
   "source": [
    "### 1. Is model has Overfitting or Underfitting problem.\n",
    "    \n",
    "    \n",
    "- <b> From the above, we can see that the training set accuracy is 74.04% and testing set accuracy is 76.50%. Training set and testing set performances are comparable. From the above we conclude that, we have got good accuracy on train and test data sets, hence Overfitting or Underfitting problem is not there in this data set."
   ]
  },
  {
   "cell_type": "markdown",
   "id": "90a69048",
   "metadata": {},
   "source": [
    "### 2. Is Test Accuracy = Cross Validation Score"
   ]
  },
  {
   "cell_type": "code",
   "execution_count": 26,
   "id": "7b33b980",
   "metadata": {},
   "outputs": [
    {
     "name": "stdout",
     "output_type": "stream",
     "text": [
      "[0.74964192 0.79455226 0.76417134 0.74872042 0.65980565]\n",
      "0.7433783178555419\n"
     ]
    }
   ],
   "source": [
    "# Calculate the Cross Validation Score.\n",
    "\n",
    "# import the cross_val_score class from sklearn.model_selection library\n",
    "from sklearn.model_selection import cross_val_score\n",
    "\n",
    "# Apply the cross_val_score() function and store it in \"score\" object.\n",
    "score = cross_val_score(model, x, y, cv=5)\n",
    "\n",
    "# Print the result.\n",
    "print(score)\n",
    "\n",
    "# calculate the mean of the score.\n",
    "cv_score = score.mean()\n",
    "\n",
    "# Print the mean of the score.\n",
    "print(cv_score)\n"
   ]
  },
  {
   "cell_type": "markdown",
   "id": "77722cf3",
   "metadata": {},
   "source": [
    "In the above, first I have imported cross_val_score class from sklearn.model_selection library, then applied the cross_val_score class.\n",
    "\n",
    "\n",
    "   - Here \"model\" is a estimator/instantiate of LinearRegression.\n",
    "   - x is a independent (input) variable.\n",
    "   - y is a dependent (output) variable.\n",
    "   - cv is determines the cross-validation splitting strategy. Here I have passed splitting strategy (cv=5).\n",
    "   \n",
    "   \n",
    "It returns the 5 score's (accuracy) by cross-validation. Then i have applied the mean() on that result and printed that mean result on console. Here Cross Validation Score is 0.7433\n",
    "\n",
    "\n",
    "<b> from the above, i have conclude that the  Test Accuracy almost equal's to Cross Validation Score."
   ]
  },
  {
   "cell_type": "markdown",
   "id": "ef9e549b",
   "metadata": {},
   "source": [
    "### 3. Check for Assumptions \n",
    "<b> These are some formal checks while building a Linear Regression model, which ensures to get the best possible result from the given dataset.\n",
    "    \n",
    "    a) Linearity of Errors\n",
    "    b) Normality of Errors\n",
    "    c) Equal Variance of Errors (Homoscadesicity)\n",
    "    d) Variables Significance"
   ]
  },
  {
   "cell_type": "markdown",
   "id": "22de4f49",
   "metadata": {},
   "source": [
    "#### a) Linearity of Errors :\n",
    "- <b> Linear regression needs the relationship between the independent and dependent variables to be linear. Let's use a scatter plot to check the relation of observed values (y_test) Vs fitted values (Errors or Residuals).\n",
    "    "
   ]
  },
  {
   "cell_type": "code",
   "execution_count": 27,
   "id": "0061966c",
   "metadata": {},
   "outputs": [],
   "source": [
    "# Calculate the Errors or Residuals.\n",
    "residuals = y_test - test_prediction"
   ]
  },
  {
   "cell_type": "code",
   "execution_count": 28,
   "id": "e52c50b9",
   "metadata": {},
   "outputs": [
    {
     "data": {
      "image/png": "[encoded data removed]",
      "text/plain": [
       "<Figure size 640x480 with 1 Axes>"
      ]
     },
     "metadata": {},
     "output_type": "display_data"
    }
   ],
   "source": [
    "# visualize the relationship between the residual vs observed values using scatterplot.\n",
    "\n",
    "# Draw the scatter plot.\n",
    "plt.scatter(y_test, residuals)\n",
    "\n",
    "# Set the x-label name.\n",
    "plt.xlabel(\"observed_values\")\n",
    "\n",
    "# Set the y-label name.\n",
    "plt.ylabel(\"fitted_values\")\n",
    "\n",
    "# Display all figures.\n",
    "plt.show()"
   ]
  },
  {
   "cell_type": "markdown",
   "id": "dff86172",
   "metadata": {},
   "source": [
    "<b> By looking at the plots we can see that it's an accurately linear shape. Here actual test value and predicted values are almost same, less residuals are there."
   ]
  },
  {
   "cell_type": "markdown",
   "id": "d6972f18",
   "metadata": {},
   "source": [
    "#### b) Normality of Errors :\n",
    "- <b> Checking the normality of the errors (residuals)."
   ]
  },
  {
   "cell_type": "code",
   "execution_count": 58,
   "id": "8d310dc0",
   "metadata": {},
   "outputs": [
    {
     "data": {
      "image/png": "[encoded data removed]",
      "text/plain": [
       "<Figure size 500x500 with 1 Axes>"
      ]
     },
     "metadata": {},
     "output_type": "display_data"
    }
   ],
   "source": [
    "# Draw the histogram plot on residuals Vs count by using seaborn.diplot().\n",
    "\n",
    "# Draw the histogram plot.\n",
    "sns.displot(residuals, kde=True)\n",
    "\n",
    "# Display all figures.\n",
    "plt.show()"
   ]
  },
  {
   "cell_type": "markdown",
   "id": "7b1d8e20",
   "metadata": {},
   "source": [
    "<b> By looking at the plots we can see that the residuals are normally distributed for the number of test points."
   ]
  },
  {
   "cell_type": "markdown",
   "id": "81155274",
   "metadata": {},
   "source": [
    "#### c) Equal Variance of Errors (Homoscadesicity) :\n",
    "- Homoscedasticity means that the residuals have equal or almost equal variance across the regression line. By plotting the error terms with predicted terms we can check that there should not be any pattern in the error terms."
   ]
  },
  {
   "cell_type": "code",
   "execution_count": 59,
   "id": "3dda93a0",
   "metadata": {},
   "outputs": [
    {
     "data": {
      "image/png": "[encoded data removed]",
      "text/plain": [
       "<Figure size 640x480 with 1 Axes>"
      ]
     },
     "metadata": {},
     "output_type": "display_data"
    }
   ],
   "source": [
    "# Draw the scatter plot on residuals Vs test_prediction by using scatter().\n",
    "\n",
    "# Draw the scatter plot.\n",
    "plt.scatter(test_prediction, residuals, c='r')\n",
    "\n",
    "# Add a horizontal line across the Axes where y=0.\n",
    "plt.axhline(y=0, color='blue')\n",
    "\n",
    "# Set the x-label name.\n",
    "plt.xlabel(\"fitted_values\")\n",
    "\n",
    "# Set the y-label name.\n",
    "plt.ylabel(\"residuals\")\n",
    "\n",
    "# Display all figures.\n",
    "plt.show()"
   ]
  },
  {
   "cell_type": "markdown",
   "id": "25950b43",
   "metadata": {},
   "source": [
    "<b> from the above plot, we can see that all the values between ± 5000, so residuals have equal or almost equal variance across the regression line."
   ]
  },
  {
   "cell_type": "markdown",
   "id": "6a1853bb",
   "metadata": {},
   "source": [
    "#### d) Variables Significance (Independence of Errors) :\n",
    "- Checking the residuals are independent.or not. Let's check this based on Ordinary Least Squares (OLS) Using StatsModels."
   ]
  },
  {
   "cell_type": "code",
   "execution_count": 60,
   "id": "81c9d487",
   "metadata": {},
   "outputs": [
    {
     "data": {
      "text/html": [
       "<table class=\"simpletable\">\n",
       "<caption>OLS Regression Results</caption>\n",
       "<tr>\n",
       "  <th>Dep. Variable:</th>            <td>y</td>        <th>  R-squared:         </th> <td>   0.753</td>\n",
       "</tr>\n",
       "<tr>\n",
       "  <th>Model:</th>                   <td>OLS</td>       <th>  Adj. R-squared:    </th> <td>   0.752</td>\n",
       "</tr>\n",
       "<tr>\n",
       "  <th>Method:</th>             <td>Least Squares</td>  <th>  F-statistic:       </th> <td>   603.4</td>\n",
       "</tr>\n",
       "<tr>\n",
       "  <th>Date:</th>             <td>Tue, 17 Jan 2023</td> <th>  Prob (F-statistic):</th> <td>5.06e-62</td>\n",
       "</tr>\n",
       "<tr>\n",
       "  <th>Time:</th>                 <td>15:46:56</td>     <th>  Log-Likelihood:    </th> <td> -1855.4</td>\n",
       "</tr>\n",
       "<tr>\n",
       "  <th>No. Observations:</th>      <td>   200</td>      <th>  AIC:               </th> <td>   3715.</td>\n",
       "</tr>\n",
       "<tr>\n",
       "  <th>Df Residuals:</th>          <td>   198</td>      <th>  BIC:               </th> <td>   3721.</td>\n",
       "</tr>\n",
       "<tr>\n",
       "  <th>Df Model:</th>              <td>     1</td>      <th>                     </th>     <td> </td>   \n",
       "</tr>\n",
       "<tr>\n",
       "  <th>Covariance Type:</th>      <td>nonrobust</td>    <th>                     </th>     <td> </td>   \n",
       "</tr>\n",
       "</table>\n",
       "<table class=\"simpletable\">\n",
       "<tr>\n",
       "      <td></td>         <th>coef</th>     <th>std err</th>      <th>t</th>      <th>P>|t|</th>  <th>[0.025</th>    <th>0.975]</th>  \n",
       "</tr>\n",
       "<tr>\n",
       "  <th>Intercept</th> <td> 4243.0282</td> <td>  438.525</td> <td>    9.676</td> <td> 0.000</td> <td> 3378.249</td> <td> 5107.807</td>\n",
       "</tr>\n",
       "<tr>\n",
       "  <th>x</th>         <td>    0.0487</td> <td>    0.002</td> <td>   24.564</td> <td> 0.000</td> <td>    0.045</td> <td>    0.053</td>\n",
       "</tr>\n",
       "</table>\n",
       "<table class=\"simpletable\">\n",
       "<tr>\n",
       "  <th>Omnibus:</th>       <td> 6.851</td> <th>  Durbin-Watson:     </th> <td>   1.967</td>\n",
       "</tr>\n",
       "<tr>\n",
       "  <th>Prob(Omnibus):</th> <td> 0.033</td> <th>  Jarque-Bera (JB):  </th> <td>   6.692</td>\n",
       "</tr>\n",
       "<tr>\n",
       "  <th>Skew:</th>          <td>-0.373</td> <th>  Prob(JB):          </th> <td>  0.0352</td>\n",
       "</tr>\n",
       "<tr>\n",
       "  <th>Kurtosis:</th>      <td> 3.495</td> <th>  Cond. No.          </th> <td>5.28e+05</td>\n",
       "</tr>\n",
       "</table><br/><br/>Notes:<br/>[1] Standard Errors assume that the covariance matrix of the errors is correctly specified.<br/>[2] The condition number is large, 5.28e+05. This might indicate that there are<br/>strong multicollinearity or other numerical problems."
      ],
      "text/plain": [
       "<class 'statsmodels.iolib.summary.Summary'>\n",
       "\"\"\"\n",
       "                            OLS Regression Results                            \n",
       "==============================================================================\n",
       "Dep. Variable:                      y   R-squared:                       0.753\n",
       "Model:                            OLS   Adj. R-squared:                  0.752\n",
       "Method:                 Least Squares   F-statistic:                     603.4\n",
       "Date:                Tue, 17 Jan 2023   Prob (F-statistic):           5.06e-62\n",
       "Time:                        15:46:56   Log-Likelihood:                -1855.4\n",
       "No. Observations:                 200   AIC:                             3715.\n",
       "Df Residuals:                     198   BIC:                             3721.\n",
       "Df Model:                           1                                         \n",
       "Covariance Type:            nonrobust                                         \n",
       "==============================================================================\n",
       "                 coef    std err          t      P>|t|      [0.025      0.975]\n",
       "------------------------------------------------------------------------------\n",
       "Intercept   4243.0282    438.525      9.676      0.000    3378.249    5107.807\n",
       "x              0.0487      0.002     24.564      0.000       0.045       0.053\n",
       "==============================================================================\n",
       "Omnibus:                        6.851   Durbin-Watson:                   1.967\n",
       "Prob(Omnibus):                  0.033   Jarque-Bera (JB):                6.692\n",
       "Skew:                          -0.373   Prob(JB):                       0.0352\n",
       "Kurtosis:                       3.495   Cond. No.                     5.28e+05\n",
       "==============================================================================\n",
       "\n",
       "Notes:\n",
       "[1] Standard Errors assume that the covariance matrix of the errors is correctly specified.\n",
       "[2] The condition number is large, 5.28e+05. This might indicate that there are\n",
       "strong multicollinearity or other numerical problems.\n",
       "\"\"\""
      ]
     },
     "execution_count": 60,
     "metadata": {},
     "output_type": "execute_result"
    }
   ],
   "source": [
    "# import the ols class from statsmodels.formula.api library\n",
    "from statsmodels.formula.api import ols\n",
    "\n",
    "# create our formula and pass it through to the OLS methods \n",
    "# pass the data=df and use fit() to fit the linear model.\n",
    "# Store the result in \"model2\" object.\n",
    "model2 = ols(\"y~x\", data=df).fit()\n",
    "\n",
    "# evaluate how the model performed and print it.\n",
    "model2.summary()"
   ]
  },
  {
   "cell_type": "markdown",
   "id": "021efded",
   "metadata": {},
   "source": [
    "From the above, first i have imported the ols class from statsmodels.formula.api library, then created a formula as \"y~x\" by assuming linear regression model, pass the 'df' DataFrame and used fit() to fit (calculate) the linear model, same result stored in the 'model2' object and printed (evaluate) how the model performed.\n",
    "\n",
    "\n",
    "Taking a look at this, we see a number of different types of values. From the above I required only one P>|t| based on that i will take a decision on Independence of Errors. We will go into detail about this one major observation below :\n",
    "\n",
    "\n",
    "- P>|t| is the P-value for the null hypothesis that the coefficient is equal to zero. If the value is less than the confidence level, usually 0.05, it means that the null hypothesis can be rejected and there is a significant relationship between the coefficient value and the parameter.\n",
    "\n",
    "\n",
    "- Here hypothesis testing comes into picture, formulate the Null Hypotheses (Ho) and Alternative Hypotheses (H1). :\n",
    "\n",
    "    Ho : B1=0 (average line is best line)\n",
    "    \n",
    "    H1 : B1≠0 (regression line is best line)\n",
    "    \n",
    "    \n",
    "- Based on the p-value, conclude the Hypothesis test.\n",
    "\n",
    "     - If p-value ≤ alpha (p low Null go)    <---> (Reject Ho)\n",
    "     - If p-value > alpha (p high Null fly)  <---> (Do not Reject Ho)\n",
    "     "
   ]
  },
  {
   "cell_type": "markdown",
   "id": "ecea3c83",
   "metadata": {},
   "source": [
    "<b> In the above, we can see that P>|t| (probability) is less than the confidence level, i.e. p-value (0.000) < confidence level (0.05), hence p low Null go reject the Ho (Null Hypothesis). So regression line is best line and the residuals are independent."
   ]
  },
  {
   "cell_type": "markdown",
   "id": "97ceb9a0",
   "metadata": {},
   "source": [
    "## Step - 6 : Final Inferences\n",
    "<b> Our next ad campaign will have to a total spend of $200,000 on Ads, how many units could we expect to sell as a result of this ?"
   ]
  },
  {
   "cell_type": "code",
   "execution_count": 63,
   "id": "f956d7c2",
   "metadata": {},
   "outputs": [
    {
     "name": "stderr",
     "output_type": "stream",
     "text": [
      "C:\\Users\\Administrator\\anaconda3\\lib\\site-packages\\sklearn\\base.py:450: UserWarning: X does not have valid feature names, but LinearRegression was fitted with feature names\n",
      "  warnings.warn(\n"
     ]
    },
    {
     "data": {
      "text/plain": [
       "array([13989.87609126])"
      ]
     },
     "execution_count": 63,
     "metadata": {},
     "output_type": "execute_result"
    }
   ],
   "source": [
    "# use the model to make predictions on a new value.\n",
    "model.predict([[200000]])"
   ]
  },
  {
   "cell_type": "markdown",
   "id": "757c983b",
   "metadata": {},
   "source": [
    "<b> Based on the above prediction, your next ad campaign will have to a total spend of $200,000 on Ads, you can expect 13989 units could to sell."
   ]
  },
  {
   "cell_type": "markdown",
   "id": "efa28faa",
   "metadata": {},
   "source": [
    "## Save a Model\n",
    "<b> To save the model, we can use the package pickle which is already available in Python. Here I will save the simple linear regression model that I have created in a file called model (we can save it in the \"sales_model.joblib\" folder).\n",
    "    \n",
    "    \n",
    "<b> Persist an arbitrary Python object into one file.\n",
    "    \n",
    "<b> dump: For serializing an object hierarchy, we can use dump() function."
   ]
  },
  {
   "cell_type": "code",
   "execution_count": 66,
   "id": "1f183708",
   "metadata": {},
   "outputs": [
    {
     "data": {
      "text/plain": [
       "['sales_model.joblib']"
      ]
     },
     "execution_count": 66,
     "metadata": {},
     "output_type": "execute_result"
    }
   ],
   "source": [
    "# import the dump class from joblib library\n",
    "from joblib import dump\n",
    "\n",
    "# Save the model.\n",
    "dump(model, \"sales_model.joblib\")"
   ]
  },
  {
   "cell_type": "markdown",
   "id": "f2ef32d7",
   "metadata": {},
   "source": [
    "In the above, I have imported dump class from joblib library, the dump is used to persist an arbitrary Python object into one file. Here I have passed two parameters, one was \"model\" object, the object to store to disk and another one was \"sales_model.joblib\" which is the file object or path of the file in which it is to be stored. It will returns the the list of file names in which the data is stored."
   ]
  },
  {
   "cell_type": "markdown",
   "id": "d01bed2b",
   "metadata": {},
   "source": [
    "## Load a Model\n",
    "<b> Load code into the current frontend.\n",
    "    \n",
    "<b> load: For deserializing a data stream, we can use the loads() function."
   ]
  },
  {
   "cell_type": "code",
   "execution_count": 67,
   "id": "8acd01a4",
   "metadata": {},
   "outputs": [
    {
     "name": "stderr",
     "output_type": "stream",
     "text": [
      "C:\\Users\\Administrator\\anaconda3\\lib\\site-packages\\sklearn\\base.py:450: UserWarning: X does not have valid feature names, but LinearRegression was fitted with feature names\n",
      "  warnings.warn(\n"
     ]
    },
    {
     "data": {
      "text/plain": [
       "array([13989.87609126])"
      ]
     },
     "execution_count": 67,
     "metadata": {},
     "output_type": "execute_result"
    }
   ],
   "source": [
    "# import the laod class from joblib library\n",
    "from joblib import load\n",
    "\n",
    "# Load the model and store it in \"loaded_model\" object.\n",
    "loaded_model = load(\"sales_model.joblib\")\n",
    "\n",
    "# Apply the loaded_model to make predictions on a new value.\n",
    "loaded_model.predict([[200000]])"
   ]
  }
 ],
 "metadata": {
  "kernelspec": {
   "display_name": "Python 3 (ipykernel)",
   "language": "python",
   "name": "python3"
  },
  "language_info": {
   "codemirror_mode": {
    "name": "ipython",
    "version": 3
   },
   "file_extension": ".py",
   "mimetype": "text/x-python",
   "name": "python",
   "nbconvert_exporter": "python",
   "pygments_lexer": "ipython3",
   "version": "3.9.13"
  }
 },
 "nbformat": 4,
 "nbformat_minor": 5
}
