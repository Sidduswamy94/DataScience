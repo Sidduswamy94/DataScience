{
 "cells": [
  {
   "cell_type": "markdown",
   "id": "b8791297",
   "metadata": {},
   "source": [
    "## Association Rule Mining - Market Basket Analysis with Mlxtend\n",
    "<b> In this article, we are creating one DataFrame and identify strong relations discovered in DataFrame using some measures such as confidence or lift by using apriori alorithm.\n",
    "    \n",
    "<b> Goal is to identify strong relations discovered in DataFrame using some measures such as confidence or lift and identifying the association item."
   ]
  },
  {
   "cell_type": "markdown",
   "id": "aa17eb13",
   "metadata": {},
   "source": [
    "<b> Creating a list of items and storing in \"data\" object"
   ]
  },
  {
   "cell_type": "code",
   "execution_count": 1,
   "id": "aca3786e",
   "metadata": {},
   "outputs": [],
   "source": [
    "data = [['milk', 'bread', 'rice', 'book'],\n",
    "        ['bread', 'jam', 'book', 'pen'],\n",
    "        ['jam', 'milk', 'bread', 'rice', 'eggs'],\n",
    "        ['rice', 'eggs', 'pen', 'book'],\n",
    "        ['eggs', 'pen', 'milk', 'bread', 'jam'],\n",
    "        ['eggs', 'rice', 'bread', 'jam']]"
   ]
  },
  {
   "cell_type": "markdown",
   "id": "27abe563",
   "metadata": {},
   "source": [
    "<b> Now installing 'mlxtend' library \n",
    "\n",
    "Mlxtend (machine learning extensions) is a Python library of useful tools for the day-to-day data science tasks. MLxtend offers additional functionalities and can be a valuable addition to your data science toolbox."
   ]
  },
  {
   "cell_type": "code",
   "execution_count": 9,
   "id": "9bed3a17",
   "metadata": {},
   "outputs": [
    {
     "name": "stdout",
     "output_type": "stream",
     "text": [
      "Collecting mlxtend\n",
      "  Downloading mlxtend-0.21.0-py2.py3-none-any.whl (1.3 MB)\n",
      "     ---------------------------------------- 1.3/1.3 MB 1.2 MB/s eta 0:00:00\n",
      "Requirement already satisfied: joblib>=0.13.2 in c:\\users\\administrator\\anaconda3\\lib\\site-packages (from mlxtend) (1.2.0)\n",
      "Requirement already satisfied: pandas>=0.24.2 in c:\\users\\administrator\\anaconda3\\lib\\site-packages (from mlxtend) (1.4.4)\n",
      "Requirement already satisfied: scikit-learn>=1.0.2 in c:\\users\\administrator\\anaconda3\\lib\\site-packages (from mlxtend) (1.0.2)\n",
      "Requirement already satisfied: scipy>=1.2.1 in c:\\users\\administrator\\anaconda3\\lib\\site-packages (from mlxtend) (1.9.1)\n",
      "Requirement already satisfied: numpy>=1.16.2 in c:\\users\\administrator\\anaconda3\\lib\\site-packages (from mlxtend) (1.21.5)\n",
      "Requirement already satisfied: setuptools in c:\\users\\administrator\\anaconda3\\lib\\site-packages (from mlxtend) (63.4.1)\n",
      "Requirement already satisfied: matplotlib>=3.0.0 in c:\\users\\administrator\\anaconda3\\lib\\site-packages (from mlxtend) (3.5.2)\n",
      "Requirement already satisfied: python-dateutil>=2.7 in c:\\users\\administrator\\anaconda3\\lib\\site-packages (from matplotlib>=3.0.0->mlxtend) (2.8.2)\n",
      "Requirement already satisfied: cycler>=0.10 in c:\\users\\administrator\\anaconda3\\lib\\site-packages (from matplotlib>=3.0.0->mlxtend) (0.11.0)\n",
      "Requirement already satisfied: pillow>=6.2.0 in c:\\users\\administrator\\anaconda3\\lib\\site-packages (from matplotlib>=3.0.0->mlxtend) (9.2.0)\n",
      "Requirement already satisfied: pyparsing>=2.2.1 in c:\\users\\administrator\\anaconda3\\lib\\site-packages (from matplotlib>=3.0.0->mlxtend) (3.0.9)\n",
      "Requirement already satisfied: fonttools>=4.22.0 in c:\\users\\administrator\\anaconda3\\lib\\site-packages (from matplotlib>=3.0.0->mlxtend) (4.25.0)\n",
      "Requirement already satisfied: kiwisolver>=1.0.1 in c:\\users\\administrator\\anaconda3\\lib\\site-packages (from matplotlib>=3.0.0->mlxtend) (1.4.2)\n",
      "Requirement already satisfied: packaging>=20.0 in c:\\users\\administrator\\anaconda3\\lib\\site-packages (from matplotlib>=3.0.0->mlxtend) (21.3)\n",
      "Requirement already satisfied: pytz>=2020.1 in c:\\users\\administrator\\anaconda3\\lib\\site-packages (from pandas>=0.24.2->mlxtend) (2022.1)\n",
      "Requirement already satisfied: threadpoolctl>=2.0.0 in c:\\users\\administrator\\anaconda3\\lib\\site-packages (from scikit-learn>=1.0.2->mlxtend) (2.2.0)\n",
      "Requirement already satisfied: six>=1.5 in c:\\users\\administrator\\anaconda3\\lib\\site-packages (from python-dateutil>=2.7->matplotlib>=3.0.0->mlxtend) (1.16.0)\n",
      "Installing collected packages: mlxtend\n",
      "Successfully installed mlxtend-0.21.0\n",
      "Note: you may need to restart the kernel to use updated packages.\n"
     ]
    }
   ],
   "source": [
    "# installing mlxtend library.\n",
    "pip install mlxtend"
   ]
  },
  {
   "cell_type": "markdown",
   "id": "6f9238a4",
   "metadata": {},
   "source": [
    "<b> Converting the list of items into transaction data for frequent itemset mining. Encodes database transaction data in form of a Python list of lists into a NumPy array. \n",
    "    \n",
    "<b> By using and TransactionEncoder object, we can transform this dataset into an array format suitable for typical machine learning APIs. Via the fit method, the TransactionEncoder learns the unique labels in the dataset, and via the transform method, it transforms the input dataset (a Python list of lists) into a one-hot encoded NumPy boolean array:"
   ]
  },
  {
   "cell_type": "code",
   "execution_count": 10,
   "id": "1d261fa9",
   "metadata": {},
   "outputs": [],
   "source": [
    "# import the TransactionEncoder class from mlxtend.preprocessing library.\n",
    "from mlxtend.preprocessing import TransactionEncoder\n",
    "\n",
    "# Initializing the TransactionEncoder class as \"te\"\n",
    "te = TransactionEncoder()\n",
    "\n",
    "# fit and transform the data and same result store in a \"te_array\" object.\n",
    "te_array = te.fit_transform(data)"
   ]
  },
  {
   "cell_type": "code",
   "execution_count": 11,
   "id": "0151b14f",
   "metadata": {},
   "outputs": [
    {
     "data": {
      "text/plain": [
       "array([[ True,  True, False, False,  True, False,  True],\n",
       "       [ True,  True, False,  True, False,  True, False],\n",
       "       [False,  True,  True,  True,  True, False,  True],\n",
       "       [ True, False,  True, False, False,  True,  True],\n",
       "       [False,  True,  True,  True,  True,  True, False],\n",
       "       [False,  True,  True,  True, False, False,  True]])"
      ]
     },
     "execution_count": 11,
     "metadata": {},
     "output_type": "execute_result"
    }
   ],
   "source": [
    "# print the \"te_array\" object.\n",
    "te_array                        # It will returns the NumPy boolean array"
   ]
  },
  {
   "cell_type": "markdown",
   "id": "831349cd",
   "metadata": {},
   "source": [
    "<b> Now creating DataFrame with above array and storing as 'df' object."
   ]
  },
  {
   "cell_type": "code",
   "execution_count": 14,
   "id": "c7430743",
   "metadata": {},
   "outputs": [
    {
     "data": {
      "text/html": [
       "<div>\n",
       "<style scoped>\n",
       "    .dataframe tbody tr th:only-of-type {\n",
       "        vertical-align: middle;\n",
       "    }\n",
       "\n",
       "    .dataframe tbody tr th {\n",
       "        vertical-align: top;\n",
       "    }\n",
       "\n",
       "    .dataframe thead th {\n",
       "        text-align: right;\n",
       "    }\n",
       "</style>\n",
       "<table border=\"1\" class=\"dataframe\">\n",
       "  <thead>\n",
       "    <tr style=\"text-align: right;\">\n",
       "      <th></th>\n",
       "      <th>book</th>\n",
       "      <th>bread</th>\n",
       "      <th>eggs</th>\n",
       "      <th>jam</th>\n",
       "      <th>milk</th>\n",
       "      <th>pen</th>\n",
       "      <th>rice</th>\n",
       "    </tr>\n",
       "  </thead>\n",
       "  <tbody>\n",
       "    <tr>\n",
       "      <th>0</th>\n",
       "      <td>True</td>\n",
       "      <td>True</td>\n",
       "      <td>False</td>\n",
       "      <td>False</td>\n",
       "      <td>True</td>\n",
       "      <td>False</td>\n",
       "      <td>True</td>\n",
       "    </tr>\n",
       "    <tr>\n",
       "      <th>1</th>\n",
       "      <td>True</td>\n",
       "      <td>True</td>\n",
       "      <td>False</td>\n",
       "      <td>True</td>\n",
       "      <td>False</td>\n",
       "      <td>True</td>\n",
       "      <td>False</td>\n",
       "    </tr>\n",
       "    <tr>\n",
       "      <th>2</th>\n",
       "      <td>False</td>\n",
       "      <td>True</td>\n",
       "      <td>True</td>\n",
       "      <td>True</td>\n",
       "      <td>True</td>\n",
       "      <td>False</td>\n",
       "      <td>True</td>\n",
       "    </tr>\n",
       "    <tr>\n",
       "      <th>3</th>\n",
       "      <td>True</td>\n",
       "      <td>False</td>\n",
       "      <td>True</td>\n",
       "      <td>False</td>\n",
       "      <td>False</td>\n",
       "      <td>True</td>\n",
       "      <td>True</td>\n",
       "    </tr>\n",
       "    <tr>\n",
       "      <th>4</th>\n",
       "      <td>False</td>\n",
       "      <td>True</td>\n",
       "      <td>True</td>\n",
       "      <td>True</td>\n",
       "      <td>True</td>\n",
       "      <td>True</td>\n",
       "      <td>False</td>\n",
       "    </tr>\n",
       "    <tr>\n",
       "      <th>5</th>\n",
       "      <td>False</td>\n",
       "      <td>True</td>\n",
       "      <td>True</td>\n",
       "      <td>True</td>\n",
       "      <td>False</td>\n",
       "      <td>False</td>\n",
       "      <td>True</td>\n",
       "    </tr>\n",
       "  </tbody>\n",
       "</table>\n",
       "</div>"
      ],
      "text/plain": [
       "    book  bread   eggs    jam   milk    pen   rice\n",
       "0   True   True  False  False   True  False   True\n",
       "1   True   True  False   True  False   True  False\n",
       "2  False   True   True   True   True  False   True\n",
       "3   True  False   True  False  False   True   True\n",
       "4  False   True   True   True   True   True  False\n",
       "5  False   True   True   True  False  False   True"
      ]
     },
     "execution_count": 14,
     "metadata": {},
     "output_type": "execute_result"
    }
   ],
   "source": [
    "# importing the pandas library as pd \n",
    "import pandas as pd\n",
    "\n",
    "# Creating the DataFrame with array's \n",
    "# And pass the unique column names that correspond to the data array by using 'te.columns_'\n",
    "df = pd.DataFrame(te_array, columns=te.columns_)\n",
    "\n",
    "# print the DataFrame\n",
    "df"
   ]
  },
  {
   "cell_type": "markdown",
   "id": "14417b36",
   "metadata": {},
   "source": [
    "## Modelling - Algorithm Implementation\n",
    "<b> To train the model, we will use the apriori function that will be imported from the mlxtend.frequent_patterns package. This function will return the rules to train the model on the dataset. Consider the below code:"
   ]
  },
  {
   "cell_type": "code",
   "execution_count": 22,
   "id": "a530707f",
   "metadata": {},
   "outputs": [
    {
     "data": {
      "text/html": [
       "<div>\n",
       "<style scoped>\n",
       "    .dataframe tbody tr th:only-of-type {\n",
       "        vertical-align: middle;\n",
       "    }\n",
       "\n",
       "    .dataframe tbody tr th {\n",
       "        vertical-align: top;\n",
       "    }\n",
       "\n",
       "    .dataframe thead th {\n",
       "        text-align: right;\n",
       "    }\n",
       "</style>\n",
       "<table border=\"1\" class=\"dataframe\">\n",
       "  <thead>\n",
       "    <tr style=\"text-align: right;\">\n",
       "      <th></th>\n",
       "      <th>support</th>\n",
       "      <th>itemsets</th>\n",
       "    </tr>\n",
       "  </thead>\n",
       "  <tbody>\n",
       "    <tr>\n",
       "      <th>0</th>\n",
       "      <td>0.833333</td>\n",
       "      <td>(bread)</td>\n",
       "    </tr>\n",
       "    <tr>\n",
       "      <th>1</th>\n",
       "      <td>0.666667</td>\n",
       "      <td>(eggs)</td>\n",
       "    </tr>\n",
       "    <tr>\n",
       "      <th>2</th>\n",
       "      <td>0.666667</td>\n",
       "      <td>(jam)</td>\n",
       "    </tr>\n",
       "    <tr>\n",
       "      <th>3</th>\n",
       "      <td>0.666667</td>\n",
       "      <td>(rice)</td>\n",
       "    </tr>\n",
       "    <tr>\n",
       "      <th>4</th>\n",
       "      <td>0.666667</td>\n",
       "      <td>(bread, jam)</td>\n",
       "    </tr>\n",
       "  </tbody>\n",
       "</table>\n",
       "</div>"
      ],
      "text/plain": [
       "    support      itemsets\n",
       "0  0.833333       (bread)\n",
       "1  0.666667        (eggs)\n",
       "2  0.666667         (jam)\n",
       "3  0.666667        (rice)\n",
       "4  0.666667  (bread, jam)"
      ]
     },
     "execution_count": 22,
     "metadata": {},
     "output_type": "execute_result"
    }
   ],
   "source": [
    "# importing the aprorio algorithm from mlxtend.frequent_patterns library.\n",
    "from mlxtend.frequent_patterns import apriori\n",
    "\n",
    "# Calling the apriori algorithm. \n",
    "itemset = apriori(df, min_support=0.6, use_colnames=True)\n",
    "\n",
    "# print the result\n",
    "itemset"
   ]
  },
  {
   "cell_type": "markdown",
   "id": "a7c7ba71",
   "metadata": {},
   "source": [
    "<b> In the above code, the first line is to import the apriori function. In the second line, the apriori function returns the output as the rules. It takes the following parameters:\n",
    "    \n",
    "   - df : Pandas DataFrame the encoded format.\n",
    "    \n",
    "    \n",
    "   - min_support (default: 0.5): A float between 0 and 1 for minumum support of the itemsets returned.\n",
    "    \n",
    "    \n",
    "   - use_colnames (default: False): If `True`, uses the DataFrames' column names in the returned DataFrame\n",
    "  instead of column indices.\n",
    "    \n",
    "    \n",
    "   - min_confidence: To set the minimum confidence value. It can be changed as per the business problem.\n",
    "    \n",
    "    \n",
    "   - min_lift= To set the minimum lift value.\n",
    "    \n",
    "    \n",
    "   - min_length= It takes the minimum number of products for the association.\n",
    "    \n",
    "    \n",
    "   - max_length = It takes the maximum number of products for the association.\n",
    "\n",
    "It returns the pandas DataFrame with columns ['support', 'itemsets'] of all itemsets that are >= `min_support` and < than `max_len` (if `max_len` is not None).   "
   ]
  },
  {
   "cell_type": "markdown",
   "id": "e534e1e2",
   "metadata": {},
   "source": [
    "<b> Now, we will use the extracted frequent itemsets in rule creation. We can create our rules by defining metric and its threshold.\n",
    "    \n",
    "<b> we will use the association_rules function that will be imported from the mlxtend.frequent_patterns package. This function will return the rules to train the model on the dataset. Consider the below code:"
   ]
  },
  {
   "cell_type": "code",
   "execution_count": 23,
   "id": "ef80ea6b",
   "metadata": {},
   "outputs": [
    {
     "data": {
      "text/html": [
       "<div>\n",
       "<style scoped>\n",
       "    .dataframe tbody tr th:only-of-type {\n",
       "        vertical-align: middle;\n",
       "    }\n",
       "\n",
       "    .dataframe tbody tr th {\n",
       "        vertical-align: top;\n",
       "    }\n",
       "\n",
       "    .dataframe thead th {\n",
       "        text-align: right;\n",
       "    }\n",
       "</style>\n",
       "<table border=\"1\" class=\"dataframe\">\n",
       "  <thead>\n",
       "    <tr style=\"text-align: right;\">\n",
       "      <th></th>\n",
       "      <th>antecedents</th>\n",
       "      <th>consequents</th>\n",
       "      <th>antecedent support</th>\n",
       "      <th>consequent support</th>\n",
       "      <th>support</th>\n",
       "      <th>confidence</th>\n",
       "      <th>lift</th>\n",
       "      <th>leverage</th>\n",
       "      <th>conviction</th>\n",
       "    </tr>\n",
       "  </thead>\n",
       "  <tbody>\n",
       "    <tr>\n",
       "      <th>0</th>\n",
       "      <td>(bread)</td>\n",
       "      <td>(jam)</td>\n",
       "      <td>0.833333</td>\n",
       "      <td>0.666667</td>\n",
       "      <td>0.666667</td>\n",
       "      <td>0.8</td>\n",
       "      <td>1.2</td>\n",
       "      <td>0.111111</td>\n",
       "      <td>1.666667</td>\n",
       "    </tr>\n",
       "    <tr>\n",
       "      <th>1</th>\n",
       "      <td>(jam)</td>\n",
       "      <td>(bread)</td>\n",
       "      <td>0.666667</td>\n",
       "      <td>0.833333</td>\n",
       "      <td>0.666667</td>\n",
       "      <td>1.0</td>\n",
       "      <td>1.2</td>\n",
       "      <td>0.111111</td>\n",
       "      <td>inf</td>\n",
       "    </tr>\n",
       "  </tbody>\n",
       "</table>\n",
       "</div>"
      ],
      "text/plain": [
       "  antecedents consequents  antecedent support  consequent support   support  \\\n",
       "0     (bread)       (jam)            0.833333            0.666667  0.666667   \n",
       "1       (jam)     (bread)            0.666667            0.833333  0.666667   \n",
       "\n",
       "   confidence  lift  leverage  conviction  \n",
       "0         0.8   1.2  0.111111    1.666667  \n",
       "1         1.0   1.2  0.111111         inf  "
      ]
     },
     "execution_count": 23,
     "metadata": {},
     "output_type": "execute_result"
    }
   ],
   "source": [
    "# importing the association_rules algorithm from mlxtend.frequent_patterns library.\n",
    "from mlxtend.frequent_patterns import association_rules\n",
    "\n",
    "# Calling the association_rules. \n",
    "res = association_rules(itemset, metric='confidence', min_threshold=0.6)\n",
    "\n",
    "# print the result\n",
    "res"
   ]
  },
  {
   "cell_type": "markdown",
   "id": "4be21a89",
   "metadata": {},
   "source": [
    "In the above code, the first line is to import the association_rules function. In the second line, the association_rules function returns the output as the rules. It takes the following parameters:\n",
    "\n",
    "\n",
    "   - df : Pandas DataFrame of frequent itemsets with columns ['support', 'itemsets']\n",
    "\n",
    "\n",
    "   - metric : string (default: 'confidence'): Metric to evaluate if a rule is of interest. supported metrics are 'support', 'confidence', 'lift', 'leverage', and 'conviction'.\n",
    "\n",
    "\n",
    "   - min_threshold : float (default: 0.8): Minimal threshold for the evaluation metric.\n",
    "\n",
    "\n",
    "It returns the pandas DataFrame with columns \"antecedents\" and \"consequents\" that store itemsets, plus the scoring metric columns: \n",
    "\n",
    "   -  \"antecedent support\", \"consequent support\", \"support\", \"confidence\", \"lift\", \"leverage\", \"conviction\" of all rules for which metric(rule) >= min_threshold."
   ]
  },
  {
   "cell_type": "markdown",
   "id": "6fb795a7",
   "metadata": {},
   "source": [
    "<b> From the above, we have got best association as bread and jam for support>0.6,  metric='confidence', and min_threshold=0.6 Like that we can decrease or increase the support and confidence based on the client requirement."
   ]
  }
 ],
 "metadata": {
  "kernelspec": {
   "display_name": "Python 3 (ipykernel)",
   "language": "python",
   "name": "python3"
  },
  "language_info": {
   "codemirror_mode": {
    "name": "ipython",
    "version": 3
   },
   "file_extension": ".py",
   "mimetype": "text/x-python",
   "name": "python",
   "nbconvert_exporter": "python",
   "pygments_lexer": "ipython3",
   "version": "3.9.13"
  }
 },
 "nbformat": 4,
 "nbformat_minor": 5
}
