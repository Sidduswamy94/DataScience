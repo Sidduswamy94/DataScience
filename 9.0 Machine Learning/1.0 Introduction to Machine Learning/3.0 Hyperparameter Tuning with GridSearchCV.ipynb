{
 "cells": [
  {
   "cell_type": "markdown",
   "id": "8a9115d0",
   "metadata": {},
   "source": [
    "# <p style='text-align: center;'> Hyperparameter Tuning with GridSearchCV </p>"
   ]
  },
  {
   "cell_type": "markdown",
   "id": "7595bfe3",
   "metadata": {},
   "source": [
    "## What is GridSearchCV?\n",
    "- **GridSearchCV** is the process of performing hyperparameter tuning in order to determine the optimal values for a given model.\n",
    "\n",
    "\n",
    "- the performance of a model significantly depends on the value of **hyperparameters**. Note that there is no way to know in advance the best values for hyperparameters so ideally, we need to try all possible values to know the optimal values. \n",
    "\n",
    "\n",
    "- Doing this manually could take a considerable amount of time and resources and thus we use **GridSearchCV** to automate the tuning of hyperparameters.\n",
    "\n",
    "\n",
    "- **GridSearchCV** is a function that comes in **Scikit-learn’s(or SK-learn) model_selection package**.So an important point here to note is that we need to have the **Scikit learn** library installed on the computer. This function helps to loop through predefined hyperparameters and fit your estimator (model) on your training set. So, in the end, we can select the best parameters from the listed hyperparameters."
   ]
  },
  {
   "cell_type": "markdown",
   "id": "1b34448a",
   "metadata": {},
   "source": [
    "## How does GridSearchCV work?\n",
    "- As mentioned above, we pass predefined values for hyperparameters to the GridSearchCV function. We do this by defining a dictionary in which we mention a particular hyperparameter along with the values it can take. Here is an example of it:\n",
    "\n",
    "<b> Example:\n",
    "    \n",
    "- <b> { 'C': [0.1, 1, 10, 100, 1000],  'gamma': [1, 0.1, 0.01, 0.001, 0.0001], 'kernel': ['rbf',’linear’,'sigmoid'] }\n",
    "    \n",
    "    \n",
    "- Here C, gamma and kernels are some of the hyperparameters of an SVM model. Note that the rest of the hyperparameters will be set to their default values\n",
    "\n",
    "    \n",
    "- GridSearchCV tries all the combinations of the values passed in the dictionary and evaluates the model for each combination using the Cross-Validation method. Hence after using this function we get accuracy/loss for every combination of hyperparameters and we can choose the one with the best performance."
   ]
  },
  {
   "cell_type": "markdown",
   "id": "e6d2df35",
   "metadata": {},
   "source": [
    "## How to use GridSearchCV?\n",
    "In this section, we shall see how to use GridSearchCV and also find out how it improves the performance of the model.\n",
    "\n",
    "First, let us see what are the various arguments that are taken by GridSearchCV function:\n",
    "\n",
    "<b> sklearn.model_selection.GridSearchCV(estimator, param_grid,scoring=None, n_jobs=None, iid='deprecated', \n",
    "                                     refit=True, cv=None, verbose=0, pre_dispatch='2*n_jobs', \n",
    "                                     error_score=nan, return_train_score=False) \n",
    "    \n",
    "    \n",
    "We are going to briefly describe a few of these parameters, they are:\n",
    "    \n",
    "- **1. estimator:** Pass the model instance for which you want to check the hyperparameters.\n",
    "    \n",
    "    \n",
    "- **2. params_grid:** the dictionary object that holds the hyperparameters you want to try\n",
    "    \n",
    "    \n",
    "- **3. scoring:** evaluation metric that you want to use, you can simply pass a valid string/ object of evaluation metric\n",
    "    \n",
    "    \n",
    "- **4. cv:** number of cross-validation you have to try for each selected set of hyperparameters\n",
    "    \n",
    "    \n",
    "- **5. verbose:** you can set it to 1 to get the detailed print out while you fit the data to GridSearchCV\n",
    "    \n",
    "    \n",
    "- **6. n_jobs:** number of processes you wish to run in parallel for this task if it -1 it will use all available processors.     "
   ]
  },
  {
   "cell_type": "markdown",
   "id": "6f1bef38",
   "metadata": {},
   "source": [
    "Now, let us see how to use **GridSearchCV** to improve the accuracy of our model. Here I am going to train the model twice, once without using GridsearchCV(using the default hyperparameters) and the other time we will use GridSearchCV to find the optimal values of hyperparameters for the dataset at hand. I am using the famous **Breast Cancer Wisconsin (Diagnostic) Data Set** which I am directly importing from the Scikit-learn library here."
   ]
  },
  {
   "cell_type": "code",
   "execution_count": 1,
   "id": "107116f1",
   "metadata": {},
   "outputs": [
    {
     "name": "stdout",
     "output_type": "stream",
     "text": [
      "              precision    recall  f1-score   support\n",
      "\n",
      "           0       0.95      0.85      0.90        66\n",
      "           1       0.91      0.97      0.94       105\n",
      "\n",
      "    accuracy                           0.92       171\n",
      "   macro avg       0.93      0.91      0.92       171\n",
      "weighted avg       0.93      0.92      0.92       171\n",
      "\n"
     ]
    }
   ],
   "source": [
    "#import all necessary libraries\n",
    "import sklearn\n",
    "from sklearn.datasets import load_breast_cancer\n",
    "from sklearn.metrics import classification_report, confusion_matrix \n",
    "from sklearn.datasets import load_breast_cancer \n",
    "from sklearn.svm import SVC \n",
    "from sklearn.model_selection import GridSearchCV\n",
    "from sklearn.model_selection import train_test_split \n",
    " \n",
    "#load the dataset and split it into training and testing sets\n",
    "dataset = load_breast_cancer()\n",
    "X=dataset.data\n",
    "Y=dataset.target\n",
    "X_train, X_test, y_train, y_test = train_test_split( X, Y, test_size = 0.30, random_state = 101) \n",
    "# train the model on train set without using GridSearchCV \n",
    "model = SVC() \n",
    "model.fit(X_train, y_train) \n",
    "   \n",
    "# print prediction results \n",
    "predictions = model.predict(X_test) \n",
    "print(classification_report(y_test, predictions))"
   ]
  },
  {
   "cell_type": "markdown",
   "id": "50834578",
   "metadata": {},
   "source": [
    "<b> Let's applying Hyperparameter Tuning with GridSearchCV"
   ]
  },
  {
   "cell_type": "code",
   "execution_count": 3,
   "id": "8b8240bb",
   "metadata": {},
   "outputs": [
    {
     "name": "stdout",
     "output_type": "stream",
     "text": [
      "Fitting 5 folds for each of 8 candidates, totalling 40 fits\n",
      "{'C': 100, 'gamma': 'scale', 'kernel': 'linear'}\n",
      "              precision    recall  f1-score   support\n",
      "\n",
      "           0       0.95      0.89      0.92        66\n",
      "           1       0.94      0.97      0.95       105\n",
      "\n",
      "    accuracy                           0.94       171\n",
      "   macro avg       0.94      0.93      0.94       171\n",
      "weighted avg       0.94      0.94      0.94       171\n",
      "\n"
     ]
    }
   ],
   "source": [
    "# defining parameter range \n",
    "param_grid = {'C': [0.1, 1, 10, 100], 'gamma': [1, 0.1, 0.01, 0.001, 0.0001], \n",
    "              'gamma':['scale', 'auto'], 'kernel': ['linear']}  \n",
    "   \n",
    "grid = GridSearchCV(SVC(), param_grid, refit = True, verbose = 3,n_jobs=-1) \n",
    "   \n",
    "# fitting the model for grid search \n",
    "grid.fit(X_train, y_train) \n",
    " \n",
    "# print best parameter after tuning \n",
    "print(grid.best_params_) \n",
    "grid_predictions = grid.predict(X_test) \n",
    "   \n",
    "# print classification report \n",
    "print(classification_report(y_test, grid_predictions)) "
   ]
  },
  {
   "cell_type": "markdown",
   "id": "b13e0774",
   "metadata": {},
   "source": [
    "A lot of you might think that **{‘C’: 100, ‘gamma’: ‘scale’, ‘kernel’: ‘linear’}** are the best values for hyperparameters for an **SVM model**. This is not the case, the above-mentioned hyperparameters may be the best for the dataset we are working on. But for any other dataset, the SVM model can have different optimal values for hyperparameters that may improve its performance."
   ]
  },
  {
   "attachments": {
    "image.png": {
     "image/png": "[encoded data removed]"
    }
   },
   "cell_type": "markdown",
   "id": "2bfe6b50",
   "metadata": {},
   "source": [
    "## Difference between parameter and hypermeter\n",
    "\n",
    "![image.png](attachment:image.png)"
   ]
  },
  {
   "cell_type": "markdown",
   "id": "e2c160c3",
   "metadata": {},
   "source": [
    "## Advantages and Disadvantages of GridSearchCV?\n",
    "\n",
    "**Advantages:**\n",
    "- Exhaustive search, will find the absolute best way to tune the hyperparameters based on the training set.\n",
    "\n",
    "**Disadvantages:** \n",
    "- time-consuming, danger of overfitting.\n",
    "\n",
    "\n",
    "- GridSearchCV will go through all the intermediate combinations of hyperparameters which makes grid search computationally very expensive.\n",
    "\n",
    "\n",
    "- For example, if we want to set two hyperparameters C and Alpha of the Logistic Regression Classifier model, with different sets of values. The grid search technique will construct many versions of the model with all possible combinations of hyperparameters and will return the best one."
   ]
  }
 ],
 "metadata": {
  "kernelspec": {
   "display_name": "Python 3 (ipykernel)",
   "language": "python",
   "name": "python3"
  },
  "language_info": {
   "codemirror_mode": {
    "name": "ipython",
    "version": 3
   },
   "file_extension": ".py",
   "mimetype": "text/x-python",
   "name": "python",
   "nbconvert_exporter": "python",
   "pygments_lexer": "ipython3",
   "version": "3.9.13"
  }
 },
 "nbformat": 4,
 "nbformat_minor": 5
}
