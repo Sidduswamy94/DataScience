{
 "cells": [
  {
   "cell_type": "markdown",
   "id": "19ae173a",
   "metadata": {},
   "source": [
    "## Predicting  whether the mouse will still infected with virus after given two dosage measurements, on Healthcare dataset using Machine Learning algorithms.\n",
    "<b> In this article, I am using Healthcare dataset as \"mouse_viral_study.csv\".     \n",
    "    \n",
    "<b>  In this article, we are going to predict whether the mouse will still infected with virus after given two dosage measurements, on Healthcare dataset using Machine Learning algorithms. The algorithms included SVM Algorithm.\n"
   ]
  },
  {
   "cell_type": "markdown",
   "id": "971baa01",
   "metadata": {},
   "source": [
    "## Step - 1 : Business Problem Understanding\n",
    "<b> The data shown here simulates a medical study in which mice infected with a virus were given doses of two medicines and then checked 2 weeks later to see if they were still infected.\n",
    "    \n",
    "- <b> predict whether the mouse will still infected with virus after given two dosage, based on information about the two medicines such as Med_1_mL, Med_2_mL.\n",
    "    \n",
    "- <b> On the basis of this data, how should they predict whether the mouse will still infected with virus or not (Virus Present) ? \n",
    "    \n",
    "\n",
    "\n",
    "\n"
   ]
  },
  {
   "cell_type": "markdown",
   "id": "7d2f0579",
   "metadata": {},
   "source": [
    "<b> importing all the necessary libraries."
   ]
  },
  {
   "cell_type": "code",
   "execution_count": 1,
   "id": "5e4b04f7",
   "metadata": {},
   "outputs": [],
   "source": [
    "import numpy as np\n",
    "import pandas as pd\n",
    "import matplotlib.pyplot as plt\n",
    "import seaborn as sns\n",
    "import warnings\n",
    "warnings.simplefilter(\"ignore\")"
   ]
  },
  {
   "cell_type": "markdown",
   "id": "ec316345",
   "metadata": {},
   "source": [
    "<b> In the above, i have imported all the necessary libraries."
   ]
  },
  {
   "cell_type": "markdown",
   "id": "abed6944",
   "metadata": {},
   "source": [
    "## Step - 2 : Data Understanding\n",
    "### 2.1 Data Collection\n",
    "<b>Load the dataset by using read_csv() to read the dataset and save it to the 'df' variable and take a look at the first 5 lines using the head() method."
   ]
  },
  {
   "cell_type": "code",
   "execution_count": 2,
   "id": "903d2552",
   "metadata": {},
   "outputs": [
    {
     "data": {
      "text/html": [
       "<div>\n",
       "<style scoped>\n",
       "    .dataframe tbody tr th:only-of-type {\n",
       "        vertical-align: middle;\n",
       "    }\n",
       "\n",
       "    .dataframe tbody tr th {\n",
       "        vertical-align: top;\n",
       "    }\n",
       "\n",
       "    .dataframe thead th {\n",
       "        text-align: right;\n",
       "    }\n",
       "</style>\n",
       "<table border=\"1\" class=\"dataframe\">\n",
       "  <thead>\n",
       "    <tr style=\"text-align: right;\">\n",
       "      <th></th>\n",
       "      <th>Med_1_mL</th>\n",
       "      <th>Med_2_mL</th>\n",
       "      <th>Virus Present</th>\n",
       "    </tr>\n",
       "  </thead>\n",
       "  <tbody>\n",
       "    <tr>\n",
       "      <th>0</th>\n",
       "      <td>6.508231</td>\n",
       "      <td>8.582531</td>\n",
       "      <td>0</td>\n",
       "    </tr>\n",
       "    <tr>\n",
       "      <th>1</th>\n",
       "      <td>4.126116</td>\n",
       "      <td>3.073459</td>\n",
       "      <td>1</td>\n",
       "    </tr>\n",
       "    <tr>\n",
       "      <th>2</th>\n",
       "      <td>6.427870</td>\n",
       "      <td>6.369758</td>\n",
       "      <td>0</td>\n",
       "    </tr>\n",
       "    <tr>\n",
       "      <th>3</th>\n",
       "      <td>3.672953</td>\n",
       "      <td>4.905215</td>\n",
       "      <td>1</td>\n",
       "    </tr>\n",
       "    <tr>\n",
       "      <th>4</th>\n",
       "      <td>1.580321</td>\n",
       "      <td>2.440562</td>\n",
       "      <td>1</td>\n",
       "    </tr>\n",
       "  </tbody>\n",
       "</table>\n",
       "</div>"
      ],
      "text/plain": [
       "   Med_1_mL  Med_2_mL  Virus Present\n",
       "0  6.508231  8.582531              0\n",
       "1  4.126116  3.073459              1\n",
       "2  6.427870  6.369758              0\n",
       "3  3.672953  4.905215              1\n",
       "4  1.580321  2.440562              1"
      ]
     },
     "execution_count": 2,
     "metadata": {},
     "output_type": "execute_result"
    }
   ],
   "source": [
    "# Load the dataset.\n",
    "df = pd.read_csv(\"mouse_viral_study.csv\")\n",
    "\n",
    "# Display the first 5 lines using the head() method.\n",
    "df.head()"
   ]
  },
  {
   "cell_type": "markdown",
   "id": "1a67fef3",
   "metadata": {},
   "source": [
    "### 2.2 Data Understanding\n",
    "<b> Let’s have a look at data dimensionality."
   ]
  },
  {
   "cell_type": "code",
   "execution_count": 3,
   "id": "b6d87cd8",
   "metadata": {},
   "outputs": [
    {
     "data": {
      "text/plain": [
       "(400, 3)"
      ]
     },
     "execution_count": 3,
     "metadata": {},
     "output_type": "execute_result"
    }
   ],
   "source": [
    "df.shape"
   ]
  },
  {
   "cell_type": "markdown",
   "id": "0c21eaa6",
   "metadata": {},
   "source": [
    "<b> From the output, we can see that the table contains 400 rows and 3 columns.\n",
    "    \n",
    "    \n",
    "<b> We can use the info() method to output some general information about the dataframe :"
   ]
  },
  {
   "cell_type": "code",
   "execution_count": 4,
   "id": "b915683c",
   "metadata": {},
   "outputs": [
    {
     "name": "stdout",
     "output_type": "stream",
     "text": [
      "<class 'pandas.core.frame.DataFrame'>\n",
      "RangeIndex: 400 entries, 0 to 399\n",
      "Data columns (total 3 columns):\n",
      " #   Column         Non-Null Count  Dtype  \n",
      "---  ------         --------------  -----  \n",
      " 0   Med_1_mL       400 non-null    float64\n",
      " 1   Med_2_mL       400 non-null    float64\n",
      " 2   Virus Present  400 non-null    int64  \n",
      "dtypes: float64(2), int64(1)\n",
      "memory usage: 9.5 KB\n"
     ]
    }
   ],
   "source": [
    "df.info()"
   ]
  },
  {
   "cell_type": "markdown",
   "id": "906fc46b",
   "metadata": {},
   "source": [
    "<b> int64 and float64 are the data types of our features. We see all 3 features are numeric (1 feature is int64 + 2 features are float64). With this same method, we can easily see if there are any missing values. Here, there are none because each column contains 400 observations, the same number of rows we saw before with shape.\n",
    "    \n",
    "    \n",
    "<b> Here 3 variables or features (columns) are there, all 3 features are numeric (1 feature is int64 + 2 features are float64). The details of these variables as follows :\n",
    "    \n",
    "- Med_1_mL: First dose in mL\n",
    "- Med_2_mL: Second dose in mL\n",
    "- Virus Present: whether the mouse will still infected with virus or not (0 if not-infected, 1 if infected)\n",
    "    "
   ]
  },
  {
   "cell_type": "markdown",
   "id": "a158353b",
   "metadata": {},
   "source": [
    "## Step - 3 : Data Preprocessing\n",
    "### 3.1 Exploratory Data Analysis (EDA)\n",
    "- <b> predict whether the mouse will still infected with virus after given two dosage, based on information about the two medicines such as Med_1_mL, Med_2_mL.\n",
    "    \n",
    "- <b> On the basis of this data, how should they predict whether the mouse will still infected with virus or not (Virus Present) ? \n",
    "\n",
    "\n",
    "   "
   ]
  },
  {
   "cell_type": "markdown",
   "id": "e54bce1b",
   "metadata": {},
   "source": [
    "<b> The describe method shows basic statistical characteristics of each numerical feature (int64 and float64 types): count, mean, standard deviation, min, max, median, 0.25 and 0.75 quartiles."
   ]
  },
  {
   "cell_type": "code",
   "execution_count": 5,
   "id": "bf94059b",
   "metadata": {},
   "outputs": [
    {
     "data": {
      "text/html": [
       "<div>\n",
       "<style scoped>\n",
       "    .dataframe tbody tr th:only-of-type {\n",
       "        vertical-align: middle;\n",
       "    }\n",
       "\n",
       "    .dataframe tbody tr th {\n",
       "        vertical-align: top;\n",
       "    }\n",
       "\n",
       "    .dataframe thead th {\n",
       "        text-align: right;\n",
       "    }\n",
       "</style>\n",
       "<table border=\"1\" class=\"dataframe\">\n",
       "  <thead>\n",
       "    <tr style=\"text-align: right;\">\n",
       "      <th></th>\n",
       "      <th>Med_1_mL</th>\n",
       "      <th>Med_2_mL</th>\n",
       "      <th>Virus Present</th>\n",
       "    </tr>\n",
       "  </thead>\n",
       "  <tbody>\n",
       "    <tr>\n",
       "      <th>count</th>\n",
       "      <td>400.000000</td>\n",
       "      <td>400.000000</td>\n",
       "      <td>400.000000</td>\n",
       "    </tr>\n",
       "    <tr>\n",
       "      <th>mean</th>\n",
       "      <td>5.447984</td>\n",
       "      <td>5.616750</td>\n",
       "      <td>0.500000</td>\n",
       "    </tr>\n",
       "    <tr>\n",
       "      <th>std</th>\n",
       "      <td>2.319059</td>\n",
       "      <td>2.336637</td>\n",
       "      <td>0.500626</td>\n",
       "    </tr>\n",
       "    <tr>\n",
       "      <th>min</th>\n",
       "      <td>1.000000</td>\n",
       "      <td>1.000000</td>\n",
       "      <td>0.000000</td>\n",
       "    </tr>\n",
       "    <tr>\n",
       "      <th>25%</th>\n",
       "      <td>3.249062</td>\n",
       "      <td>3.431311</td>\n",
       "      <td>0.000000</td>\n",
       "    </tr>\n",
       "    <tr>\n",
       "      <th>50%</th>\n",
       "      <td>5.393776</td>\n",
       "      <td>5.638471</td>\n",
       "      <td>0.500000</td>\n",
       "    </tr>\n",
       "    <tr>\n",
       "      <th>75%</th>\n",
       "      <td>7.630389</td>\n",
       "      <td>7.782614</td>\n",
       "      <td>1.000000</td>\n",
       "    </tr>\n",
       "    <tr>\n",
       "      <th>max</th>\n",
       "      <td>10.000000</td>\n",
       "      <td>10.000000</td>\n",
       "      <td>1.000000</td>\n",
       "    </tr>\n",
       "  </tbody>\n",
       "</table>\n",
       "</div>"
      ],
      "text/plain": [
       "         Med_1_mL    Med_2_mL  Virus Present\n",
       "count  400.000000  400.000000     400.000000\n",
       "mean     5.447984    5.616750       0.500000\n",
       "std      2.319059    2.336637       0.500626\n",
       "min      1.000000    1.000000       0.000000\n",
       "25%      3.249062    3.431311       0.000000\n",
       "50%      5.393776    5.638471       0.500000\n",
       "75%      7.630389    7.782614       1.000000\n",
       "max     10.000000   10.000000       1.000000"
      ]
     },
     "execution_count": 5,
     "metadata": {},
     "output_type": "execute_result"
    }
   ],
   "source": [
    "df.describe()"
   ]
  },
  {
   "cell_type": "markdown",
   "id": "6234ba91",
   "metadata": {},
   "source": [
    "<b> Visualizing after given two dosage whether the mouse will still infected with virus or not on raw data based on \"Med_1_mL\" and \"Med_2_mL\" by using scatterplot :"
   ]
  },
  {
   "cell_type": "code",
   "execution_count": 6,
   "id": "8db26585",
   "metadata": {},
   "outputs": [
    {
     "data": {
      "image/png": "[encoded data removed]",
      "text/plain": [
       "<Figure size 640x480 with 1 Axes>"
      ]
     },
     "metadata": {},
     "output_type": "display_data"
    }
   ],
   "source": [
    "# Draw the scatterplot.\n",
    "# Pass x as \"Med_1_mL\" and y as \"Med_2_mL\" variables.\n",
    "# Pass hue=\"Virus Present\"\n",
    "sns.scatterplot(x=\"Med_1_mL\", y=\"Med_2_mL\", hue=\"Virus Present\", data=df)\n",
    "\n",
    "# Display all figures.\n",
    "plt.show()"
   ]
  },
  {
   "cell_type": "markdown",
   "id": "f42174f8",
   "metadata": {},
   "source": [
    "### 3.2 Data Cleaning\n",
    "<b> Checking the Empty cells / Missing values :\n",
    "- The isnull().sum() method returns the total number of missing values (count) present in the each column."
   ]
  },
  {
   "cell_type": "code",
   "execution_count": 7,
   "id": "26507328",
   "metadata": {},
   "outputs": [
    {
     "data": {
      "text/plain": [
       "Med_1_mL         0\n",
       "Med_2_mL         0\n",
       "Virus Present    0\n",
       "dtype: int64"
      ]
     },
     "execution_count": 7,
     "metadata": {},
     "output_type": "execute_result"
    }
   ],
   "source": [
    "# Check the missing values records.\n",
    "df.isnull().sum()"
   ]
  },
  {
   "cell_type": "markdown",
   "id": "71d12ffb",
   "metadata": {},
   "source": [
    "<b> In the above, we can see that there is no missing values.\n",
    "    "
   ]
  },
  {
   "cell_type": "markdown",
   "id": "18e88067",
   "metadata": {},
   "source": [
    "### 3.3 Train/Test Split\n",
    "<b> Creating independent variables (\"Med_1_mL\", \"Med_2_mL\") as \"x\" variable and dependent variable \"Virus Present\" as \"y\" variable."
   ]
  },
  {
   "cell_type": "code",
   "execution_count": 10,
   "id": "1b04bfa9",
   "metadata": {},
   "outputs": [],
   "source": [
    "# Create x and y variables.\n",
    "x = df[[\"Med_1_mL\", \"Med_2_mL\"]]   # independent variables\n",
    "y = df[\"Virus Present\"]            # dependent variable"
   ]
  },
  {
   "cell_type": "markdown",
   "id": "9baea589",
   "metadata": {},
   "source": [
    "<b> In the above, I have created x variable with 2 independent (input) variables and y variable with 1 dependent (output) variable."
   ]
  },
  {
   "cell_type": "code",
   "execution_count": 11,
   "id": "0a62e622",
   "metadata": {},
   "outputs": [],
   "source": [
    "# import train_test_split from scikit-learn.\n",
    "from sklearn.model_selection import train_test_split\n",
    "\n",
    "# Apply the train_test_split() function.\n",
    "x_train, x_test, y_train, y_test = train_test_split(x, y, test_size=0.2, random_state=9)"
   ]
  },
  {
   "cell_type": "markdown",
   "id": "d3196aba",
   "metadata": {},
   "source": [
    "In the first line of the above code, we have imported the train_test_split function from the sklearn library.\n",
    "\n",
    "\n",
    "In the second line, we have used four variables, which are :\n",
    "\n",
    "   - x_train: It is used to represent features for the training data\n",
    "   - x_test: It is used to represent features for testing data\n",
    "   - y_train: It is used to represent dependent variables for training data\n",
    "   - y_test: It is used to represent independent variable for testing data\n",
    "   \n",
    "   \n",
    "In the train_test_split() function, we have passed four parameters. In which first two are for arrays of data, and test_size is for specifying the size of the test set which tells the dividing ratio of training and testing sets. The last parameter, random_state, is used to set a seed for a random generator so that you always get the same result."
   ]
  },
  {
   "cell_type": "markdown",
   "id": "7b67ef35",
   "metadata": {},
   "source": [
    "<b> View the dimensions of x_train, x_test, y_train, y_test"
   ]
  },
  {
   "cell_type": "code",
   "execution_count": 12,
   "id": "a3982d42",
   "metadata": {},
   "outputs": [
    {
     "data": {
      "text/plain": [
       "((320, 2), (80, 2))"
      ]
     },
     "execution_count": 12,
     "metadata": {},
     "output_type": "execute_result"
    }
   ],
   "source": [
    "x_train.shape, x_test.shape"
   ]
  },
  {
   "cell_type": "code",
   "execution_count": 13,
   "id": "f69ca143",
   "metadata": {},
   "outputs": [
    {
     "data": {
      "text/plain": [
       "((320,), (80,))"
      ]
     },
     "execution_count": 13,
     "metadata": {},
     "output_type": "execute_result"
    }
   ],
   "source": [
    "y_train.shape, y_test.shape"
   ]
  },
  {
   "cell_type": "markdown",
   "id": "d2debcd6",
   "metadata": {},
   "source": [
    "## Step - 4 : SVM Modelling with default Prameters:\n",
    "<b> SVM Algorithm (Baseline Model)"
   ]
  },
  {
   "cell_type": "code",
   "execution_count": 28,
   "id": "edc1fc97",
   "metadata": {},
   "outputs": [
    {
     "name": "stdout",
     "output_type": "stream",
     "text": [
      "Train_accuracy: 1.0\n",
      "Test_accuracy: 1.0\n",
      "Cross Validation Score: 1.0\n"
     ]
    }
   ],
   "source": [
    "# Modelling\n",
    "# import the SVM from sklearn.svm library.\n",
    "from sklearn.svm import SVC\n",
    "\n",
    "# Create the classifier object (model) as \"SVM_base_model\".\n",
    "SVM_base_model = SVC()\n",
    "\n",
    "# Train the model using training sets\n",
    "SVM_base_model.fit(x_train, y_train)\n",
    "\n",
    "# Prediction\n",
    "# Predict on the train data set.\n",
    "train_predictions = SVM_base_model.predict(x_train)\n",
    "\n",
    "# Predict on the test data set.\n",
    "test_predictions = SVM_base_model.predict(x_test)\n",
    "\n",
    "# Evaluation\n",
    "# import the accuracy_score class from sklearn.metrics library\n",
    "from sklearn.metrics import accuracy_score\n",
    "\n",
    "# print the train accuary\n",
    "print(\"Train_accuracy:\", accuracy_score(y_train, train_predictions))\n",
    "\n",
    "# print the test accuracy\n",
    "print(\"Test_accuracy:\", accuracy_score(y_test, test_predictions))\n",
    "\n",
    "# Cross Validation Score\n",
    "# import the cross_val_score class from sklearn.model_selection library\n",
    "from sklearn.model_selection import cross_val_score\n",
    "\n",
    "# Apply the cross_val_score() function and print the result.\n",
    "print(\"Cross Validation Score:\", cross_val_score(SVM_base_model, x, y, cv=5).mean())"
   ]
  },
  {
   "cell_type": "markdown",
   "id": "646517e4",
   "metadata": {},
   "source": [
    "In the above, we have fitted the SVC (support vector machine) classifier to the training data. First we have imported the SVC class of Sklearn.svm library. After importing the class, we have created the Classifier object of the class. The Parameter of this class are as :\n",
    "\n",
    "- C (default=1.0): Regularization parameter. The strength of the regularization is inversely proportional to C. Must be strictly positive. The penalty is a squared l2 penalty.\n",
    "- kernel: Specifies the kernel type to be used in the algorithm. If none is given, 'rbf' will be used.\n",
    "- degree (default=3): Degree of the polynomial kernel function (‘poly’). Must be non-negative.\n",
    "\n",
    "\n",
    "And then we have fitted the classifier to the training data. After that we have predicted the test and train results.\n",
    "\n",
    "\n",
    "And finally we have done with evaluation i.e. train accuracy, test accuray and crooss validation score."
   ]
  },
  {
   "cell_type": "markdown",
   "id": "230cfe45",
   "metadata": {},
   "source": [
    "<b> SVM Algorithm with default parameters, the training set and testing set performances are comparable. From the above we conclude that, we have got a good model on train and test data sets. We got an train accuracy of 100%, test accuracy of 100% and cross validate score of 100% with this model."
   ]
  },
  {
   "cell_type": "markdown",
   "id": "bd2bfb19",
   "metadata": {},
   "source": [
    "## Hyper Parameter Tuning for SVM classifier\n",
    "<b> Here we are using GridSearchCV() function. GridSearchCV() function is used to identify the best value (parameter) within given dat by appling cross validation (CV).\n",
    "    \n",
    "<b> Grid searching is a method to find the best possible combination of hyper-parameters at which the model achieves the highest accuracy.\n",
    "    \n",
    "    \n",
    "Here We will use these hyperparamters- c, kernal and CV : \n",
    "    \n",
    "   - C (default=1.0): Regularization parameter. The strength of the regularization is inversely proportional to C. Must be strictly positive. The penalty is a squared l2 penalty.\n",
    "   - kernel: Specifies the kernel type to be used in the algorithm. If none is given, 'rbf' will be used.\n",
    "   - CV (default=5): Cross validation score.\n",
    "\n",
    "   "
   ]
  },
  {
   "cell_type": "code",
   "execution_count": 23,
   "id": "7883879e",
   "metadata": {},
   "outputs": [
    {
     "data": {
      "text/plain": [
       "{'C': 0.01, 'kernel': 'rbf'}"
      ]
     },
     "execution_count": 23,
     "metadata": {},
     "output_type": "execute_result"
    }
   ],
   "source": [
    "# import the GridSearchCV from sklearn.model_selection library.\n",
    "from sklearn.model_selection import GridSearchCV\n",
    "\n",
    "# Model\n",
    "estimator = SVC()\n",
    "\n",
    "# Parameters and values.\n",
    "param_grid = {'C':[0.01,0.02,0.1,1,10,100],'kernel':['rbf','poly','sigmoid','linear']}\n",
    "\n",
    "# Identify the best value of the parameter within given values for the given data.\n",
    "model_hp = GridSearchCV(estimator,param_grid,cv=5)\n",
    "\n",
    "# fit the model on our train set.\n",
    "model_hp.fit(x_train,y_train)\n",
    "\n",
    "# get the best hyperparameters.\n",
    "model_hp.best_params_"
   ]
  },
  {
   "cell_type": "markdown",
   "id": "6e77388c",
   "metadata": {},
   "source": [
    "<b> From the above, we have got the best parameter, i.e. c=0.01, kernal=\"rbf\"."
   ]
  },
  {
   "cell_type": "markdown",
   "id": "8c6f3f2c",
   "metadata": {},
   "source": [
    "## Step - 4 : SVM Modelling with Best Hyper Prameters:\n",
    "<b> Rebuilding the SVM Algorithm by using the best hyperparameters."
   ]
  },
  {
   "cell_type": "code",
   "execution_count": 24,
   "id": "0b2afd60",
   "metadata": {},
   "outputs": [
    {
     "name": "stdout",
     "output_type": "stream",
     "text": [
      "Train_accuracy: 1.0\n",
      "Test_accuracy: 1.0\n",
      "Cross Validation Score: 1.0\n"
     ]
    }
   ],
   "source": [
    "# Modelling\n",
    "# import the SVM from sklearn.svm library.\n",
    "from sklearn.svm import SVC\n",
    "\n",
    "# Create the classifier object (model) as \"SVM_base_model\".\n",
    "SVM_best_model = SVC()\n",
    "\n",
    "# Train the model using training sets\n",
    "SVM_best_model.fit(x_train, y_train)\n",
    "\n",
    "# Prediction\n",
    "# Predict on the train data set.\n",
    "train_predictions = SVM_best_model.predict(x_train)\n",
    "\n",
    "# Predict on the test data set.\n",
    "test_predictions = SVM_best_model.predict(x_test)\n",
    "\n",
    "# Evaluation\n",
    "# import the accuracy_score class from sklearn.metrics library\n",
    "from sklearn.metrics import accuracy_score\n",
    "\n",
    "# print the train accuary\n",
    "print(\"Train_accuracy:\", accuracy_score(y_train, train_predictions))\n",
    "\n",
    "# print the test accuracy\n",
    "print(\"Test_accuracy:\", accuracy_score(y_test, test_predictions))\n",
    "\n",
    "# Cross Validation Score\n",
    "# import the cross_val_score class from sklearn.model_selection library\n",
    "from sklearn.model_selection import cross_val_score\n",
    "\n",
    "# Apply the cross_val_score() function and print the result.\n",
    "print(\"Cross Validation Score:\", cross_val_score(SVM_best_model, x, y, cv=5).mean())"
   ]
  },
  {
   "cell_type": "markdown",
   "id": "dfeab97a",
   "metadata": {},
   "source": [
    "<b> From the above, SVM Algorithm with best parameters, the training set and testing set performances are comparable. From the above we conclude that, we have got a good model on train and test data sets. We got an train accuracy of 100%, test accuracy of 100% and cross validate score of 100% with this model.\n",
    "    \n",
    "    \n",
    "<b> As we can see that the test accuracy of SVM Algorithm with best parameters is equal to the SVM Algorithm with default parameters. Hence we conclude that the SVM Algorithm with default parameters is a good model for this dataset, because it will take less time to build the model as compare to the SVM Algorithm with best parameters. we have got a good model on train and test data sets."
   ]
  },
  {
   "cell_type": "markdown",
   "id": "1f2356da",
   "metadata": {},
   "source": [
    "### Confusion Matrix \n",
    "- Now we will create the confusion matrix here to check the accuracy of the classification. To create it, we need to import the confusion_matrix function of the sklearn library. After importing the function. The function takes two parameters, mainly y_test( the actual values) and test_predictions (the targeted value return by the classifier). Below is the code for it :"
   ]
  },
  {
   "cell_type": "code",
   "execution_count": 29,
   "id": "9feceee6",
   "metadata": {},
   "outputs": [
    {
     "data": {
      "text/plain": [
       "array([[38,  0],\n",
       "       [ 0, 42]], dtype=int64)"
      ]
     },
     "execution_count": 29,
     "metadata": {},
     "output_type": "execute_result"
    }
   ],
   "source": [
    "# Creating the Confusion matrix \n",
    "\n",
    "# import the confusion_matrix class from sklearn.metrics library\n",
    "from sklearn.metrics import confusion_matrix\n",
    "\n",
    "# Calculate the confusion matrix\n",
    "# And pass the parameters.\n",
    "confusion_matrix(y_test, test_predictions)\n"
   ]
  },
  {
   "cell_type": "markdown",
   "id": "b0260d1b",
   "metadata": {},
   "source": [
    "<b> We can find the accuracy of the predicted result by interpreting the confusion matrix. By above output, we can interpret that 38+42=80 (Correct Output) and 0+0=0 (Incorrect Output)."
   ]
  },
  {
   "cell_type": "markdown",
   "id": "2c136406",
   "metadata": {},
   "source": [
    "### Classification Report\n",
    "- Now we are building the text report showing the main classification metrics, it will returns the text summary of the precision, recall, F1 score for each class."
   ]
  },
  {
   "cell_type": "code",
   "execution_count": 30,
   "id": "028cf5b4",
   "metadata": {},
   "outputs": [
    {
     "name": "stdout",
     "output_type": "stream",
     "text": [
      "              precision    recall  f1-score   support\n",
      "\n",
      "           0       1.00      1.00      1.00        38\n",
      "           1       1.00      1.00      1.00        42\n",
      "\n",
      "    accuracy                           1.00        80\n",
      "   macro avg       1.00      1.00      1.00        80\n",
      "weighted avg       1.00      1.00      1.00        80\n",
      "\n"
     ]
    }
   ],
   "source": [
    "# import the classification_report class from sklearn.metrics library\n",
    "from sklearn.metrics import classification_report\n",
    "\n",
    "# Calculate the classification_report\n",
    "# pass the arrays (y_test and test_prediction)\n",
    "print(classification_report(y_test, test_predictions))"
   ]
  },
  {
   "cell_type": "markdown",
   "id": "2a9f1e77",
   "metadata": {},
   "source": [
    "### AUC-ROC\n",
    "- It is one of the popular and important metrics for evaluating the performance of the classification model.\n",
    "    "
   ]
  },
  {
   "cell_type": "code",
   "execution_count": 32,
   "id": "8935613f",
   "metadata": {},
   "outputs": [
    {
     "data": {
      "text/plain": [
       "<sklearn.metrics._plot.roc_curve.RocCurveDisplay at 0x2298fd48b20>"
      ]
     },
     "execution_count": 32,
     "metadata": {},
     "output_type": "execute_result"
    },
    {
     "data": {
      "image/png": "[encoded data removed]",
      "text/plain": [
       "<Figure size 640x480 with 1 Axes>"
      ]
     },
     "metadata": {},
     "output_type": "display_data"
    }
   ],
   "source": [
    "# import the plot_roc_curve class from sklearn.metrics library\n",
    "from sklearn.metrics import plot_roc_curve\n",
    "\n",
    "# plot the roc curve.\n",
    "plot_roc_curve(SVM_base_model, x_test, y_test)"
   ]
  },
  {
   "cell_type": "markdown",
   "id": "2d8db137",
   "metadata": {},
   "source": [
    "<b> The AUC-ROC curve result is 1.00, the AUC-ROC curve results were considered excellent for AUC values between 0.9-1. So it is a excellent (good) model."
   ]
  }
 ],
 "metadata": {
  "kernelspec": {
   "display_name": "Python 3 (ipykernel)",
   "language": "python",
   "name": "python3"
  },
  "language_info": {
   "codemirror_mode": {
    "name": "ipython",
    "version": 3
   },
   "file_extension": ".py",
   "mimetype": "text/x-python",
   "name": "python",
   "nbconvert_exporter": "python",
   "pygments_lexer": "ipython3",
   "version": "3.9.13"
  }
 },
 "nbformat": 4,
 "nbformat_minor": 5
}
