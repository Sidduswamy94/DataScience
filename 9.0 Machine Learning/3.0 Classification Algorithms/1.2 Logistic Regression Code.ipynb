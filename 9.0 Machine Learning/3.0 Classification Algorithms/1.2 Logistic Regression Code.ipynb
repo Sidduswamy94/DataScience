{
 "cells": [
  {
   "cell_type": "markdown",
   "id": "19ae173a",
   "metadata": {},
   "source": [
    "## Predicting  whether a person has diabetes or not, based on information about the patient on Healthcare dataset using Machine Learning algorithms.\n",
    "<b> In this article, I am using Healthcare dataset as \"diabetes.csv\".     \n",
    "    \n",
    "<b>  In this article, we are going to predict whether a person has diabetes or not, based on information about the patient such as blood pressure, body mass index (BMI), age, etc. on Healthcare dataset using Machine Learning algorithms. The algorithms included Logistic Regression.\n"
   ]
  },
  {
   "cell_type": "markdown",
   "id": "971baa01",
   "metadata": {},
   "source": [
    "## Step - 1 : Business Problem Understanding\n",
    "- <b> predict whether a person has diabetes or not (Outcome), based on information about the patient such as blood pressure, body mass index (BMI), age, Pregnancies, Glucose, SkinThickness, Insulin and DiabetesPedigreeFunction.\n",
    "    \n",
    "- <b> On the basis of this data, how should they predict diabetes (Outcome) ? These general questions might lead me to more specific questions :\n",
    "    \n",
    "   1. Is there a relationship between each variables (blood pressure, body mass index (BMI), age, Pregnancies, Glucose, SkinThickness, Insulin and DiabetesPedigreeFunction.) and Outcome (predicting whether patient have diabetic or not) ?\n",
    "   2. How strong is that relationship ?\n",
    "   3. Which variables contribute to Outcome (predicting whether patient have diabetic or not) ?\n",
    "   4. What is the effect of each variables on Outcome (predicting whether patient have diabetic or not) ?\n"
   ]
  },
  {
   "cell_type": "markdown",
   "id": "7d2f0579",
   "metadata": {},
   "source": [
    "<b> importing all the necessary libraries."
   ]
  },
  {
   "cell_type": "code",
   "execution_count": 1,
   "id": "5e4b04f7",
   "metadata": {},
   "outputs": [],
   "source": [
    "import numpy as np\n",
    "import pandas as pd\n",
    "import matplotlib.pyplot as plt\n",
    "import seaborn as sns\n",
    "import warnings\n",
    "warnings.simplefilter(\"ignore\")"
   ]
  },
  {
   "cell_type": "markdown",
   "id": "ec316345",
   "metadata": {},
   "source": [
    "<b> In the above, i have imported all the necessary libraries."
   ]
  },
  {
   "cell_type": "markdown",
   "id": "abed6944",
   "metadata": {},
   "source": [
    "## Step - 2 : Data Understanding\n",
    "### 2.1 Data Collection\n",
    "<b>Load the dataset by using read_csv() to read the dataset and save it to the 'df' variable and take a look at the first 5 lines using the head() method."
   ]
  },
  {
   "cell_type": "code",
   "execution_count": 2,
   "id": "903d2552",
   "metadata": {},
   "outputs": [
    {
     "data": {
      "text/html": [
       "<div>\n",
       "<style scoped>\n",
       "    .dataframe tbody tr th:only-of-type {\n",
       "        vertical-align: middle;\n",
       "    }\n",
       "\n",
       "    .dataframe tbody tr th {\n",
       "        vertical-align: top;\n",
       "    }\n",
       "\n",
       "    .dataframe thead th {\n",
       "        text-align: right;\n",
       "    }\n",
       "</style>\n",
       "<table border=\"1\" class=\"dataframe\">\n",
       "  <thead>\n",
       "    <tr style=\"text-align: right;\">\n",
       "      <th></th>\n",
       "      <th>Pregnancies</th>\n",
       "      <th>Glucose</th>\n",
       "      <th>BloodPressure</th>\n",
       "      <th>SkinThickness</th>\n",
       "      <th>Insulin</th>\n",
       "      <th>BMI</th>\n",
       "      <th>DiabetesPedigreeFunction</th>\n",
       "      <th>Age</th>\n",
       "      <th>Outcome</th>\n",
       "    </tr>\n",
       "  </thead>\n",
       "  <tbody>\n",
       "    <tr>\n",
       "      <th>0</th>\n",
       "      <td>6</td>\n",
       "      <td>148</td>\n",
       "      <td>72</td>\n",
       "      <td>35</td>\n",
       "      <td>0</td>\n",
       "      <td>33.6</td>\n",
       "      <td>0.627</td>\n",
       "      <td>50</td>\n",
       "      <td>1</td>\n",
       "    </tr>\n",
       "    <tr>\n",
       "      <th>1</th>\n",
       "      <td>1</td>\n",
       "      <td>85</td>\n",
       "      <td>66</td>\n",
       "      <td>29</td>\n",
       "      <td>0</td>\n",
       "      <td>26.6</td>\n",
       "      <td>0.351</td>\n",
       "      <td>31</td>\n",
       "      <td>0</td>\n",
       "    </tr>\n",
       "    <tr>\n",
       "      <th>2</th>\n",
       "      <td>8</td>\n",
       "      <td>183</td>\n",
       "      <td>64</td>\n",
       "      <td>0</td>\n",
       "      <td>0</td>\n",
       "      <td>23.3</td>\n",
       "      <td>0.672</td>\n",
       "      <td>32</td>\n",
       "      <td>1</td>\n",
       "    </tr>\n",
       "    <tr>\n",
       "      <th>3</th>\n",
       "      <td>1</td>\n",
       "      <td>89</td>\n",
       "      <td>66</td>\n",
       "      <td>23</td>\n",
       "      <td>94</td>\n",
       "      <td>28.1</td>\n",
       "      <td>0.167</td>\n",
       "      <td>21</td>\n",
       "      <td>0</td>\n",
       "    </tr>\n",
       "    <tr>\n",
       "      <th>4</th>\n",
       "      <td>0</td>\n",
       "      <td>137</td>\n",
       "      <td>40</td>\n",
       "      <td>35</td>\n",
       "      <td>168</td>\n",
       "      <td>43.1</td>\n",
       "      <td>2.288</td>\n",
       "      <td>33</td>\n",
       "      <td>1</td>\n",
       "    </tr>\n",
       "  </tbody>\n",
       "</table>\n",
       "</div>"
      ],
      "text/plain": [
       "   Pregnancies  Glucose  BloodPressure  SkinThickness  Insulin   BMI  \\\n",
       "0            6      148             72             35        0  33.6   \n",
       "1            1       85             66             29        0  26.6   \n",
       "2            8      183             64              0        0  23.3   \n",
       "3            1       89             66             23       94  28.1   \n",
       "4            0      137             40             35      168  43.1   \n",
       "\n",
       "   DiabetesPedigreeFunction  Age  Outcome  \n",
       "0                     0.627   50        1  \n",
       "1                     0.351   31        0  \n",
       "2                     0.672   32        1  \n",
       "3                     0.167   21        0  \n",
       "4                     2.288   33        1  "
      ]
     },
     "execution_count": 2,
     "metadata": {},
     "output_type": "execute_result"
    }
   ],
   "source": [
    "# Load the dataset.\n",
    "df = pd.read_csv(\"diabetes.csv\")\n",
    "\n",
    "# Display the first 5 lines using the head() method.\n",
    "df.head()"
   ]
  },
  {
   "cell_type": "markdown",
   "id": "1a67fef3",
   "metadata": {},
   "source": [
    "### 2.2 Data Understanding\n",
    "<b> Let’s have a look at data dimensionality."
   ]
  },
  {
   "cell_type": "code",
   "execution_count": 4,
   "id": "b6d87cd8",
   "metadata": {},
   "outputs": [
    {
     "data": {
      "text/plain": [
       "(768, 9)"
      ]
     },
     "execution_count": 4,
     "metadata": {},
     "output_type": "execute_result"
    }
   ],
   "source": [
    "df.shape"
   ]
  },
  {
   "cell_type": "markdown",
   "id": "0c21eaa6",
   "metadata": {},
   "source": [
    "<b> From the output, we can see that the table contains 768 rows and 9 columns.\n",
    "    \n",
    "    \n",
    "<b> We can use the info() method to output some general information about the dataframe :"
   ]
  },
  {
   "cell_type": "code",
   "execution_count": 5,
   "id": "b915683c",
   "metadata": {},
   "outputs": [
    {
     "name": "stdout",
     "output_type": "stream",
     "text": [
      "<class 'pandas.core.frame.DataFrame'>\n",
      "RangeIndex: 768 entries, 0 to 767\n",
      "Data columns (total 9 columns):\n",
      " #   Column                    Non-Null Count  Dtype  \n",
      "---  ------                    --------------  -----  \n",
      " 0   Pregnancies               768 non-null    int64  \n",
      " 1   Glucose                   768 non-null    int64  \n",
      " 2   BloodPressure             768 non-null    int64  \n",
      " 3   SkinThickness             768 non-null    int64  \n",
      " 4   Insulin                   768 non-null    int64  \n",
      " 5   BMI                       768 non-null    float64\n",
      " 6   DiabetesPedigreeFunction  768 non-null    float64\n",
      " 7   Age                       768 non-null    int64  \n",
      " 8   Outcome                   768 non-null    int64  \n",
      "dtypes: float64(2), int64(7)\n",
      "memory usage: 54.1 KB\n"
     ]
    }
   ],
   "source": [
    "df.info()"
   ]
  },
  {
   "cell_type": "markdown",
   "id": "906fc46b",
   "metadata": {},
   "source": [
    "<b> int64 and float64 are the data types of our features. We see that 9 features are numeric (7 features are int64 + 2 features are float64). With this same method, we can easily see if there are any missing values. Here, there are none because each column contains 768 observations, the same number of rows we saw before with shape.\n",
    "    \n",
    "    \n",
    "<b> Here 9 variables or features (columns) are there, 9 features are numeric (7 features are int64 + 2 features are float64). The details of these variables as follows :\n",
    "    \n",
    "- Pregnancies: Number of times pregnant\n",
    "- Glucose: Plasma glucose concentration over 2 hours in an oral glucose tolerance test\n",
    "- BloodPressure: Diastolic blood pressure (mm Hg)\n",
    "- SkinThickness: Triceps skin fold thickness (mm)\n",
    "- Insulin: 2-Hour serum insulin (mu U/ml)\n",
    "- BMI: Body mass index (weight in kg/(height in m)2)\n",
    "- DiabetesPedigreeFunction: Diabetes pedigree function (a function which scores likelihood of diabetes based on family history)\n",
    "- Age: Age (years)\n",
    "- Outcome: Class variable (0 if non-diabetic, 1 if diabetic)\n",
    "    "
   ]
  },
  {
   "cell_type": "markdown",
   "id": "a158353b",
   "metadata": {},
   "source": [
    "## Step - 3 : Data Preprocessing\n",
    "### 3.1 Exploratory Data Analysis (EDA)\n",
    "- <b> On the basis of this data, how should they predict diabetes (Outcome) ? These general questions might lead me to more specific questions :\n",
    "    \n",
    "   1. Is there a relationship between each variables (blood pressure, body mass index (BMI), age, Pregnancies, Glucose, SkinThickness, Insulin and DiabetesPedigreeFunction.) and Outcome (predicting whether patient have diabetic or not) ?\n",
    "   2. How strong is that relationship ?\n",
    "   3. Which variables contribute to Outcome (predicting whether patient have diabetic or not) ?\n",
    "   4. What is the effect of each variables on Outcome (predicting whether patient have diabetic or not) ?\n",
    "\n",
    "   "
   ]
  },
  {
   "cell_type": "markdown",
   "id": "e54bce1b",
   "metadata": {},
   "source": [
    "<b> The describe method shows basic statistical characteristics of each numerical feature (int64 and float64 types): count, mean, standard deviation, min, max, median, 0.25 and 0.75 quartiles."
   ]
  },
  {
   "cell_type": "code",
   "execution_count": 6,
   "id": "bf94059b",
   "metadata": {},
   "outputs": [
    {
     "data": {
      "text/html": [
       "<div>\n",
       "<style scoped>\n",
       "    .dataframe tbody tr th:only-of-type {\n",
       "        vertical-align: middle;\n",
       "    }\n",
       "\n",
       "    .dataframe tbody tr th {\n",
       "        vertical-align: top;\n",
       "    }\n",
       "\n",
       "    .dataframe thead th {\n",
       "        text-align: right;\n",
       "    }\n",
       "</style>\n",
       "<table border=\"1\" class=\"dataframe\">\n",
       "  <thead>\n",
       "    <tr style=\"text-align: right;\">\n",
       "      <th></th>\n",
       "      <th>Pregnancies</th>\n",
       "      <th>Glucose</th>\n",
       "      <th>BloodPressure</th>\n",
       "      <th>SkinThickness</th>\n",
       "      <th>Insulin</th>\n",
       "      <th>BMI</th>\n",
       "      <th>DiabetesPedigreeFunction</th>\n",
       "      <th>Age</th>\n",
       "      <th>Outcome</th>\n",
       "    </tr>\n",
       "  </thead>\n",
       "  <tbody>\n",
       "    <tr>\n",
       "      <th>count</th>\n",
       "      <td>768.000000</td>\n",
       "      <td>768.000000</td>\n",
       "      <td>768.000000</td>\n",
       "      <td>768.000000</td>\n",
       "      <td>768.000000</td>\n",
       "      <td>768.000000</td>\n",
       "      <td>768.000000</td>\n",
       "      <td>768.000000</td>\n",
       "      <td>768.000000</td>\n",
       "    </tr>\n",
       "    <tr>\n",
       "      <th>mean</th>\n",
       "      <td>3.845052</td>\n",
       "      <td>120.894531</td>\n",
       "      <td>69.105469</td>\n",
       "      <td>20.536458</td>\n",
       "      <td>79.799479</td>\n",
       "      <td>31.992578</td>\n",
       "      <td>0.471876</td>\n",
       "      <td>33.240885</td>\n",
       "      <td>0.348958</td>\n",
       "    </tr>\n",
       "    <tr>\n",
       "      <th>std</th>\n",
       "      <td>3.369578</td>\n",
       "      <td>31.972618</td>\n",
       "      <td>19.355807</td>\n",
       "      <td>15.952218</td>\n",
       "      <td>115.244002</td>\n",
       "      <td>7.884160</td>\n",
       "      <td>0.331329</td>\n",
       "      <td>11.760232</td>\n",
       "      <td>0.476951</td>\n",
       "    </tr>\n",
       "    <tr>\n",
       "      <th>min</th>\n",
       "      <td>0.000000</td>\n",
       "      <td>0.000000</td>\n",
       "      <td>0.000000</td>\n",
       "      <td>0.000000</td>\n",
       "      <td>0.000000</td>\n",
       "      <td>0.000000</td>\n",
       "      <td>0.078000</td>\n",
       "      <td>21.000000</td>\n",
       "      <td>0.000000</td>\n",
       "    </tr>\n",
       "    <tr>\n",
       "      <th>25%</th>\n",
       "      <td>1.000000</td>\n",
       "      <td>99.000000</td>\n",
       "      <td>62.000000</td>\n",
       "      <td>0.000000</td>\n",
       "      <td>0.000000</td>\n",
       "      <td>27.300000</td>\n",
       "      <td>0.243750</td>\n",
       "      <td>24.000000</td>\n",
       "      <td>0.000000</td>\n",
       "    </tr>\n",
       "    <tr>\n",
       "      <th>50%</th>\n",
       "      <td>3.000000</td>\n",
       "      <td>117.000000</td>\n",
       "      <td>72.000000</td>\n",
       "      <td>23.000000</td>\n",
       "      <td>30.500000</td>\n",
       "      <td>32.000000</td>\n",
       "      <td>0.372500</td>\n",
       "      <td>29.000000</td>\n",
       "      <td>0.000000</td>\n",
       "    </tr>\n",
       "    <tr>\n",
       "      <th>75%</th>\n",
       "      <td>6.000000</td>\n",
       "      <td>140.250000</td>\n",
       "      <td>80.000000</td>\n",
       "      <td>32.000000</td>\n",
       "      <td>127.250000</td>\n",
       "      <td>36.600000</td>\n",
       "      <td>0.626250</td>\n",
       "      <td>41.000000</td>\n",
       "      <td>1.000000</td>\n",
       "    </tr>\n",
       "    <tr>\n",
       "      <th>max</th>\n",
       "      <td>17.000000</td>\n",
       "      <td>199.000000</td>\n",
       "      <td>122.000000</td>\n",
       "      <td>99.000000</td>\n",
       "      <td>846.000000</td>\n",
       "      <td>67.100000</td>\n",
       "      <td>2.420000</td>\n",
       "      <td>81.000000</td>\n",
       "      <td>1.000000</td>\n",
       "    </tr>\n",
       "  </tbody>\n",
       "</table>\n",
       "</div>"
      ],
      "text/plain": [
       "       Pregnancies     Glucose  BloodPressure  SkinThickness     Insulin  \\\n",
       "count   768.000000  768.000000     768.000000     768.000000  768.000000   \n",
       "mean      3.845052  120.894531      69.105469      20.536458   79.799479   \n",
       "std       3.369578   31.972618      19.355807      15.952218  115.244002   \n",
       "min       0.000000    0.000000       0.000000       0.000000    0.000000   \n",
       "25%       1.000000   99.000000      62.000000       0.000000    0.000000   \n",
       "50%       3.000000  117.000000      72.000000      23.000000   30.500000   \n",
       "75%       6.000000  140.250000      80.000000      32.000000  127.250000   \n",
       "max      17.000000  199.000000     122.000000      99.000000  846.000000   \n",
       "\n",
       "              BMI  DiabetesPedigreeFunction         Age     Outcome  \n",
       "count  768.000000                768.000000  768.000000  768.000000  \n",
       "mean    31.992578                  0.471876   33.240885    0.348958  \n",
       "std      7.884160                  0.331329   11.760232    0.476951  \n",
       "min      0.000000                  0.078000   21.000000    0.000000  \n",
       "25%     27.300000                  0.243750   24.000000    0.000000  \n",
       "50%     32.000000                  0.372500   29.000000    0.000000  \n",
       "75%     36.600000                  0.626250   41.000000    1.000000  \n",
       "max     67.100000                  2.420000   81.000000    1.000000  "
      ]
     },
     "execution_count": 6,
     "metadata": {},
     "output_type": "execute_result"
    }
   ],
   "source": [
    "df.describe()"
   ]
  },
  {
   "cell_type": "markdown",
   "id": "a90be470",
   "metadata": {},
   "source": [
    "<b> Now use the value_counts method on outcome variable."
   ]
  },
  {
   "cell_type": "code",
   "execution_count": 9,
   "id": "33810c77",
   "metadata": {},
   "outputs": [
    {
     "data": {
      "text/plain": [
       "0    500\n",
       "1    268\n",
       "Name: Outcome, dtype: int64"
      ]
     },
     "execution_count": 9,
     "metadata": {},
     "output_type": "execute_result"
    }
   ],
   "source": [
    "df[\"Outcome\"].value_counts()"
   ]
  },
  {
   "cell_type": "markdown",
   "id": "5a133685",
   "metadata": {},
   "source": [
    "<b> 500 persons out of 768 are non-diabetic and 268 are diabetic.\n",
    "    "
   ]
  },
  {
   "cell_type": "markdown",
   "id": "2fbbf6cc",
   "metadata": {},
   "source": [
    "<b> Checking the correlation between variables by using corr()."
   ]
  },
  {
   "cell_type": "code",
   "execution_count": 3,
   "id": "3bdb7aeb",
   "metadata": {},
   "outputs": [
    {
     "data": {
      "text/html": [
       "<div>\n",
       "<style scoped>\n",
       "    .dataframe tbody tr th:only-of-type {\n",
       "        vertical-align: middle;\n",
       "    }\n",
       "\n",
       "    .dataframe tbody tr th {\n",
       "        vertical-align: top;\n",
       "    }\n",
       "\n",
       "    .dataframe thead th {\n",
       "        text-align: right;\n",
       "    }\n",
       "</style>\n",
       "<table border=\"1\" class=\"dataframe\">\n",
       "  <thead>\n",
       "    <tr style=\"text-align: right;\">\n",
       "      <th></th>\n",
       "      <th>Pregnancies</th>\n",
       "      <th>Glucose</th>\n",
       "      <th>BloodPressure</th>\n",
       "      <th>SkinThickness</th>\n",
       "      <th>Insulin</th>\n",
       "      <th>BMI</th>\n",
       "      <th>DiabetesPedigreeFunction</th>\n",
       "      <th>Age</th>\n",
       "      <th>Outcome</th>\n",
       "    </tr>\n",
       "  </thead>\n",
       "  <tbody>\n",
       "    <tr>\n",
       "      <th>Pregnancies</th>\n",
       "      <td>1.000000</td>\n",
       "      <td>0.129459</td>\n",
       "      <td>0.141282</td>\n",
       "      <td>-0.081672</td>\n",
       "      <td>-0.073535</td>\n",
       "      <td>0.017683</td>\n",
       "      <td>-0.033523</td>\n",
       "      <td>0.544341</td>\n",
       "      <td>0.221898</td>\n",
       "    </tr>\n",
       "    <tr>\n",
       "      <th>Glucose</th>\n",
       "      <td>0.129459</td>\n",
       "      <td>1.000000</td>\n",
       "      <td>0.152590</td>\n",
       "      <td>0.057328</td>\n",
       "      <td>0.331357</td>\n",
       "      <td>0.221071</td>\n",
       "      <td>0.137337</td>\n",
       "      <td>0.263514</td>\n",
       "      <td>0.466581</td>\n",
       "    </tr>\n",
       "    <tr>\n",
       "      <th>BloodPressure</th>\n",
       "      <td>0.141282</td>\n",
       "      <td>0.152590</td>\n",
       "      <td>1.000000</td>\n",
       "      <td>0.207371</td>\n",
       "      <td>0.088933</td>\n",
       "      <td>0.281805</td>\n",
       "      <td>0.041265</td>\n",
       "      <td>0.239528</td>\n",
       "      <td>0.065068</td>\n",
       "    </tr>\n",
       "    <tr>\n",
       "      <th>SkinThickness</th>\n",
       "      <td>-0.081672</td>\n",
       "      <td>0.057328</td>\n",
       "      <td>0.207371</td>\n",
       "      <td>1.000000</td>\n",
       "      <td>0.436783</td>\n",
       "      <td>0.392573</td>\n",
       "      <td>0.183928</td>\n",
       "      <td>-0.113970</td>\n",
       "      <td>0.074752</td>\n",
       "    </tr>\n",
       "    <tr>\n",
       "      <th>Insulin</th>\n",
       "      <td>-0.073535</td>\n",
       "      <td>0.331357</td>\n",
       "      <td>0.088933</td>\n",
       "      <td>0.436783</td>\n",
       "      <td>1.000000</td>\n",
       "      <td>0.197859</td>\n",
       "      <td>0.185071</td>\n",
       "      <td>-0.042163</td>\n",
       "      <td>0.130548</td>\n",
       "    </tr>\n",
       "    <tr>\n",
       "      <th>BMI</th>\n",
       "      <td>0.017683</td>\n",
       "      <td>0.221071</td>\n",
       "      <td>0.281805</td>\n",
       "      <td>0.392573</td>\n",
       "      <td>0.197859</td>\n",
       "      <td>1.000000</td>\n",
       "      <td>0.140647</td>\n",
       "      <td>0.036242</td>\n",
       "      <td>0.292695</td>\n",
       "    </tr>\n",
       "    <tr>\n",
       "      <th>DiabetesPedigreeFunction</th>\n",
       "      <td>-0.033523</td>\n",
       "      <td>0.137337</td>\n",
       "      <td>0.041265</td>\n",
       "      <td>0.183928</td>\n",
       "      <td>0.185071</td>\n",
       "      <td>0.140647</td>\n",
       "      <td>1.000000</td>\n",
       "      <td>0.033561</td>\n",
       "      <td>0.173844</td>\n",
       "    </tr>\n",
       "    <tr>\n",
       "      <th>Age</th>\n",
       "      <td>0.544341</td>\n",
       "      <td>0.263514</td>\n",
       "      <td>0.239528</td>\n",
       "      <td>-0.113970</td>\n",
       "      <td>-0.042163</td>\n",
       "      <td>0.036242</td>\n",
       "      <td>0.033561</td>\n",
       "      <td>1.000000</td>\n",
       "      <td>0.238356</td>\n",
       "    </tr>\n",
       "    <tr>\n",
       "      <th>Outcome</th>\n",
       "      <td>0.221898</td>\n",
       "      <td>0.466581</td>\n",
       "      <td>0.065068</td>\n",
       "      <td>0.074752</td>\n",
       "      <td>0.130548</td>\n",
       "      <td>0.292695</td>\n",
       "      <td>0.173844</td>\n",
       "      <td>0.238356</td>\n",
       "      <td>1.000000</td>\n",
       "    </tr>\n",
       "  </tbody>\n",
       "</table>\n",
       "</div>"
      ],
      "text/plain": [
       "                          Pregnancies   Glucose  BloodPressure  SkinThickness  \\\n",
       "Pregnancies                  1.000000  0.129459       0.141282      -0.081672   \n",
       "Glucose                      0.129459  1.000000       0.152590       0.057328   \n",
       "BloodPressure                0.141282  0.152590       1.000000       0.207371   \n",
       "SkinThickness               -0.081672  0.057328       0.207371       1.000000   \n",
       "Insulin                     -0.073535  0.331357       0.088933       0.436783   \n",
       "BMI                          0.017683  0.221071       0.281805       0.392573   \n",
       "DiabetesPedigreeFunction    -0.033523  0.137337       0.041265       0.183928   \n",
       "Age                          0.544341  0.263514       0.239528      -0.113970   \n",
       "Outcome                      0.221898  0.466581       0.065068       0.074752   \n",
       "\n",
       "                           Insulin       BMI  DiabetesPedigreeFunction  \\\n",
       "Pregnancies              -0.073535  0.017683                 -0.033523   \n",
       "Glucose                   0.331357  0.221071                  0.137337   \n",
       "BloodPressure             0.088933  0.281805                  0.041265   \n",
       "SkinThickness             0.436783  0.392573                  0.183928   \n",
       "Insulin                   1.000000  0.197859                  0.185071   \n",
       "BMI                       0.197859  1.000000                  0.140647   \n",
       "DiabetesPedigreeFunction  0.185071  0.140647                  1.000000   \n",
       "Age                      -0.042163  0.036242                  0.033561   \n",
       "Outcome                   0.130548  0.292695                  0.173844   \n",
       "\n",
       "                               Age   Outcome  \n",
       "Pregnancies               0.544341  0.221898  \n",
       "Glucose                   0.263514  0.466581  \n",
       "BloodPressure             0.239528  0.065068  \n",
       "SkinThickness            -0.113970  0.074752  \n",
       "Insulin                  -0.042163  0.130548  \n",
       "BMI                       0.036242  0.292695  \n",
       "DiabetesPedigreeFunction  0.033561  0.173844  \n",
       "Age                       1.000000  0.238356  \n",
       "Outcome                   0.238356  1.000000  "
      ]
     },
     "execution_count": 3,
     "metadata": {},
     "output_type": "execute_result"
    }
   ],
   "source": [
    "df.corr()"
   ]
  },
  {
   "cell_type": "markdown",
   "id": "5543840e",
   "metadata": {},
   "source": [
    "<b> Checking the correlation of every pair of features (and the Outcome variable), and visualize the correlations using a heatmap."
   ]
  },
  {
   "cell_type": "code",
   "execution_count": 11,
   "id": "34b07d00",
   "metadata": {},
   "outputs": [
    {
     "data": {
      "image/png": "[encoded data removed]",
      "text/plain": [
       "<Figure size 640x480 with 2 Axes>"
      ]
     },
     "metadata": {},
     "output_type": "display_data"
    }
   ],
   "source": [
    "# calculate the correlation between variables and store it in \"corr\" object.\n",
    "corr = df.corr()\n",
    "\n",
    "# plotting correlation heatmap.\n",
    "# Set annot=True.\n",
    "sns.heatmap(corr, annot=True)\n",
    "\n",
    "# displaying heatmap\n",
    "plt.show()"
   ]
  },
  {
   "cell_type": "markdown",
   "id": "20200031",
   "metadata": {},
   "source": [
    "- <b> In the above heatmap, brighter colors indicate more correlation. As we can see from the table and the heatmap, glucose levels, age, BMI and number of pregnancies all have significant correlation with the outcome variable. Also notice the correlation between pairs of features, like age and pregnancies, or insulin and skin thickness.\n",
    "\n",
    "- <b> The relationship between dependent (Outcome) and independent (blood pressure, body mass index (BMI), age, Pregnancies, Glucose, SkinThickness, Insulin and DiabetesPedigreeFunction) variables should be high. The higher relationship gives the stronger the correlation and accuracy.\n",
    "    \n",
    "- <b> The relationship between any two independent variables should be low, it will gives the low accuracy.\n"
   ]
  },
  {
   "cell_type": "markdown",
   "id": "6234ba91",
   "metadata": {},
   "source": [
    "<b> Let’s also look at how many people in the dataset are diabetic and how many are not. Below is the barplot of the same :"
   ]
  },
  {
   "cell_type": "code",
   "execution_count": 14,
   "id": "8db26585",
   "metadata": {},
   "outputs": [
    {
     "data": {
      "image/png": "[encoded data removed]",
      "text/plain": [
       "<Figure size 640x480 with 1 Axes>"
      ]
     },
     "metadata": {},
     "output_type": "display_data"
    }
   ],
   "source": [
    "# Plot the Bar Plot on \"Outcome\" dependent variable.\n",
    "sns.countplot(x=\"Outcome\", data=df)\n",
    "\n",
    "# Set title of the plot\n",
    "plt.title(\"number of non-diabetic (0) and diabetic (1) people in the dataset\")\n",
    "\n",
    "# Display all figures.\n",
    "plt.show()"
   ]
  },
  {
   "cell_type": "markdown",
   "id": "3da62aaa",
   "metadata": {},
   "source": [
    "<b> In the above Barplot, we can see that the number of non-diabetic (0) is more as compare to number of diabetic (1)."
   ]
  },
  {
   "cell_type": "markdown",
   "id": "f42174f8",
   "metadata": {},
   "source": [
    "### 3.2 Data Cleaning\n",
    "<b> Checking the Empty cells / Missing values :\n",
    "- The isnull().sum() method returns the total number of missing values (count) present in the each column."
   ]
  },
  {
   "cell_type": "code",
   "execution_count": 15,
   "id": "26507328",
   "metadata": {},
   "outputs": [
    {
     "data": {
      "text/plain": [
       "Pregnancies                 0\n",
       "Glucose                     0\n",
       "BloodPressure               0\n",
       "SkinThickness               0\n",
       "Insulin                     0\n",
       "BMI                         0\n",
       "DiabetesPedigreeFunction    0\n",
       "Age                         0\n",
       "Outcome                     0\n",
       "dtype: int64"
      ]
     },
     "execution_count": 15,
     "metadata": {},
     "output_type": "execute_result"
    }
   ],
   "source": [
    "# Check the missing values records.\n",
    "df.isnull().sum()"
   ]
  },
  {
   "cell_type": "markdown",
   "id": "71d12ffb",
   "metadata": {},
   "source": [
    "<b> In the above, we can see that there is no missing values.\n",
    "    "
   ]
  },
  {
   "cell_type": "markdown",
   "id": "0200a92c",
   "metadata": {},
   "source": [
    "### 3.3 Data Wrangling\n",
    "<b> No encoding is required here."
   ]
  },
  {
   "cell_type": "markdown",
   "id": "18e88067",
   "metadata": {},
   "source": [
    "### 3.4 Train/Test Split\n",
    "<b> Creating independent variables (\"Pregnancies\", \"Glucose\", \"BloodPressure\", \"SkinThickness\", \"Insulin\", \"BMI\", \"DiabetesPedigreeFunction\", \"Age\") as \"x\" variable and dependent variable \"Outcome\" as \"y\" variable."
   ]
  },
  {
   "cell_type": "code",
   "execution_count": 4,
   "id": "1b04bfa9",
   "metadata": {},
   "outputs": [],
   "source": [
    "# Create x and y variables.\n",
    "x = df[[\"Pregnancies\", \"Glucose\", \"BloodPressure\", \"SkinThickness\", \n",
    "            \"Insulin\", \"BMI\", \"DiabetesPedigreeFunction\", \"Age\"]]   # independent variables\n",
    "y = df[\"Outcome\"]                                                   # dependent variable"
   ]
  },
  {
   "cell_type": "markdown",
   "id": "9baea589",
   "metadata": {},
   "source": [
    "<b> In the above, I have created x variable with 8 independent (input) variables and y variable with 1 dependent (output) variable."
   ]
  },
  {
   "cell_type": "code",
   "execution_count": 5,
   "id": "0a62e622",
   "metadata": {},
   "outputs": [],
   "source": [
    "# import train_test_split from scikit-learn.\n",
    "from sklearn.model_selection import train_test_split\n",
    "\n",
    "# Apply the train_test_split() function.\n",
    "x_train, x_test, y_train, y_test = train_test_split(x, y, test_size=0.2, random_state=9)"
   ]
  },
  {
   "cell_type": "markdown",
   "id": "d3196aba",
   "metadata": {},
   "source": [
    "In the first line of the above code, we have imported the train_test_split function from the sklearn library.\n",
    "\n",
    "\n",
    "In the second line, we have used four variables, which are :\n",
    "\n",
    "   - x_train: It is used to represent features for the training data\n",
    "   - x_test: It is used to represent features for testing data\n",
    "   - y_train: It is used to represent dependent variables for training data\n",
    "   - y_test: It is used to represent independent variable for testing data\n",
    "   \n",
    "   \n",
    "In the train_test_split() function, we have passed four parameters. In which first two are for arrays of data, and test_size is for specifying the size of the test set which tells the dividing ratio of training and testing sets. The last parameter, random_state, is used to set a seed for a random generator so that you always get the same result."
   ]
  },
  {
   "cell_type": "markdown",
   "id": "7b67ef35",
   "metadata": {},
   "source": [
    "<b> View the dimensions of x_train, x_test, y_train, y_test"
   ]
  },
  {
   "cell_type": "code",
   "execution_count": 19,
   "id": "a3982d42",
   "metadata": {},
   "outputs": [
    {
     "data": {
      "text/plain": [
       "((614, 8), (154, 8))"
      ]
     },
     "execution_count": 19,
     "metadata": {},
     "output_type": "execute_result"
    }
   ],
   "source": [
    "x_train.shape, x_test.shape"
   ]
  },
  {
   "cell_type": "code",
   "execution_count": 20,
   "id": "f69ca143",
   "metadata": {},
   "outputs": [
    {
     "data": {
      "text/plain": [
       "((614,), (154,))"
      ]
     },
     "execution_count": 20,
     "metadata": {},
     "output_type": "execute_result"
    }
   ],
   "source": [
    "y_train.shape, y_test.shape"
   ]
  },
  {
   "cell_type": "markdown",
   "id": "d2debcd6",
   "metadata": {},
   "source": [
    "## Step - 4 : Modelling :\n",
    "<b> Logistic Regression (Baseline Model)"
   ]
  },
  {
   "cell_type": "code",
   "execution_count": 6,
   "id": "edc1fc97",
   "metadata": {},
   "outputs": [
    {
     "data": {
      "text/plain": [
       "LogisticRegression()"
      ]
     },
     "execution_count": 6,
     "metadata": {},
     "output_type": "execute_result"
    }
   ],
   "source": [
    "# Modelling\n",
    "# import the LogisticRegression from sklearn.linear_model library.\n",
    "from sklearn.linear_model import LogisticRegression\n",
    "\n",
    "# save (initialize) the model as \"log_model\".\n",
    "log_model = LogisticRegression()\n",
    "\n",
    "# Train the model using training sets\n",
    "log_model.fit(x_train, y_train)\n"
   ]
  },
  {
   "cell_type": "markdown",
   "id": "90cc3e5e",
   "metadata": {},
   "source": [
    "<b> Hence our model is well fitted to the training set."
   ]
  },
  {
   "cell_type": "markdown",
   "id": "4f1c2776",
   "metadata": {},
   "source": [
    "## Prediction"
   ]
  },
  {
   "cell_type": "code",
   "execution_count": 7,
   "id": "8ae8e6ec",
   "metadata": {},
   "outputs": [],
   "source": [
    "# Predict on the train data set.\n",
    "train_predictions = log_model.predict(x_train)\n",
    "\n",
    "# Predict on the test data set.\n",
    "test_predictions = log_model.predict(x_test)"
   ]
  },
  {
   "cell_type": "markdown",
   "id": "c8ec16e6",
   "metadata": {},
   "source": [
    "<b> In the above code, we have created a \"train_predictions\" vector to predict the train set result and \"test_predictions\" vector to predict the test set result."
   ]
  },
  {
   "cell_type": "markdown",
   "id": "f094714e",
   "metadata": {},
   "source": [
    "## Step - 5 : Evaluation :\n",
    "<b> 1. Train & Test Accuracy"
   ]
  },
  {
   "cell_type": "code",
   "execution_count": 10,
   "id": "0bda7f91",
   "metadata": {},
   "outputs": [
    {
     "name": "stdout",
     "output_type": "stream",
     "text": [
      "Train_accuracy: 0.7980456026058632\n",
      "Test_accuracy: 0.7662337662337663\n"
     ]
    }
   ],
   "source": [
    "# import the accuracy_score class from sklearn.metrics library\n",
    "from sklearn.metrics import accuracy_score\n",
    "\n",
    "# print the train accuary\n",
    "print(\"Train_accuracy:\", accuracy_score(y_train, train_predictions))\n",
    "\n",
    "# print the test accuracy\n",
    "print(\"Test_accuracy:\", accuracy_score(y_test, test_predictions))"
   ]
  },
  {
   "cell_type": "markdown",
   "id": "809ab8b4",
   "metadata": {},
   "source": [
    "<b> 2. Cross Validation Score (CV)"
   ]
  },
  {
   "cell_type": "code",
   "execution_count": 11,
   "id": "b0c6f1c3",
   "metadata": {},
   "outputs": [
    {
     "name": "stdout",
     "output_type": "stream",
     "text": [
      "Cross Validation Score: 0.7695696460402341\n"
     ]
    }
   ],
   "source": [
    "# import the cross_val_score class from sklearn.model_selection library\n",
    "from sklearn.model_selection import cross_val_score\n",
    "\n",
    "# Apply the cross_val_score() function and print the result.\n",
    "print(\"Cross Validation Score:\", cross_val_score(log_model, x, y, cv=5).mean())"
   ]
  },
  {
   "cell_type": "markdown",
   "id": "230cfe45",
   "metadata": {},
   "source": [
    "<b> Logistic Regression with default parameters, the training set and testing set performances are comparable. From the above we conclude that, we have got a good model on train and test data sets. We got an train accuracy of 79.80%, test accuracy of 76.62% and cross validate score of 76.95% with this model."
   ]
  },
  {
   "cell_type": "markdown",
   "id": "1f2356da",
   "metadata": {},
   "source": [
    "<b> 3. Confusion Matrix \n",
    "- Now we will create the confusion matrix here to check the accuracy of the classification. To create it, we need to import the confusion_matrix function of the sklearn library. After importing the function. The function takes two parameters, mainly y_test( the actual values) and test_predictions (the targeted value return by the classifier). Below is the code for it :"
   ]
  },
  {
   "cell_type": "code",
   "execution_count": 15,
   "id": "9feceee6",
   "metadata": {},
   "outputs": [
    {
     "data": {
      "text/plain": [
       "array([[85, 15],\n",
       "       [21, 33]], dtype=int64)"
      ]
     },
     "execution_count": 15,
     "metadata": {},
     "output_type": "execute_result"
    }
   ],
   "source": [
    "# Creating the Confusion matrix \n",
    "\n",
    "# import the confusion_matrix class from sklearn.metrics library\n",
    "from sklearn.metrics import confusion_matrix\n",
    "\n",
    "# Calculate the confusion matrix\n",
    "# And pass the parameters.\n",
    "confusion_matrix(y_test, test_predictions)\n"
   ]
  },
  {
   "cell_type": "markdown",
   "id": "b0260d1b",
   "metadata": {},
   "source": [
    "<b> We can find the accuracy of the predicted result by interpreting the confusion matrix. By above output, we can interpret that 85+33=118 (Correct Output) and 21+15=36 (Incorrect Output)."
   ]
  },
  {
   "cell_type": "markdown",
   "id": "2c136406",
   "metadata": {},
   "source": [
    "<b> 4. Classification Report\n",
    "- Now we are building the text report showing the main classification metrics, it will returns the text summary of the precision, recall, F1 score for each class."
   ]
  },
  {
   "cell_type": "code",
   "execution_count": 18,
   "id": "028cf5b4",
   "metadata": {},
   "outputs": [
    {
     "name": "stdout",
     "output_type": "stream",
     "text": [
      "              precision    recall  f1-score   support\n",
      "\n",
      "           0       0.80      0.85      0.83       100\n",
      "           1       0.69      0.61      0.65        54\n",
      "\n",
      "    accuracy                           0.77       154\n",
      "   macro avg       0.74      0.73      0.74       154\n",
      "weighted avg       0.76      0.77      0.76       154\n",
      "\n"
     ]
    }
   ],
   "source": [
    "# import the classification_report class from sklearn.metrics library\n",
    "from sklearn.metrics import classification_report\n",
    "\n",
    "# Calculate the classification_report\n",
    "# pass the arrays (y_test and test_prediction)\n",
    "print(classification_report(y_test, test_predictions))"
   ]
  },
  {
   "cell_type": "markdown",
   "id": "2a9f1e77",
   "metadata": {},
   "source": [
    "<b> 5. AUC-ROC\n",
    "- It is one of the popular and important metrics for evaluating the performance of the classification model.\n",
    "    "
   ]
  },
  {
   "cell_type": "code",
   "execution_count": 19,
   "id": "8935613f",
   "metadata": {},
   "outputs": [
    {
     "data": {
      "text/plain": [
       "<sklearn.metrics._plot.roc_curve.RocCurveDisplay at 0x19c79936be0>"
      ]
     },
     "execution_count": 19,
     "metadata": {},
     "output_type": "execute_result"
    },
    {
     "data": {
      "image/png": "[encoded data removed]",
      "text/plain": [
       "<Figure size 640x480 with 1 Axes>"
      ]
     },
     "metadata": {},
     "output_type": "display_data"
    }
   ],
   "source": [
    "# import the plot_roc_curve class from sklearn.metrics library\n",
    "from sklearn.metrics import plot_roc_curve\n",
    "\n",
    "# plot the roc curve.\n",
    "plot_roc_curve(log_model, x_test, y_test)"
   ]
  },
  {
   "cell_type": "markdown",
   "id": "2d8db137",
   "metadata": {},
   "source": [
    "<b> The AUC-ROC curve result is 0.81, the AUC-ROC curve results were considered good for AUC values between 0.8-0.9. So it is a good model."
   ]
  }
 ],
 "metadata": {
  "kernelspec": {
   "display_name": "Python 3 (ipykernel)",
   "language": "python",
   "name": "python3"
  },
  "language_info": {
   "codemirror_mode": {
    "name": "ipython",
    "version": 3
   },
   "file_extension": ".py",
   "mimetype": "text/x-python",
   "name": "python",
   "nbconvert_exporter": "python",
   "pygments_lexer": "ipython3",
   "version": "3.9.13"
  }
 },
 "nbformat": 4,
 "nbformat_minor": 5
}
