{
 "cells": [
  {
   "cell_type": "markdown",
   "id": "6f4b73c6",
   "metadata": {},
   "source": [
    "## In this article we are going to Handle Imbalanced Data For a Classification Problem.\n",
    "<b> In this article, we will use the dataset \"random_sample.csv\", which contains two variables. This dataset contains Imbalanced Data For a Classification Problem, i.e. target (\"y\") variable."
   ]
  },
  {
   "cell_type": "markdown",
   "id": "94507e6a",
   "metadata": {},
   "source": [
    "<b> importing all the necessary libraries."
   ]
  },
  {
   "cell_type": "code",
   "execution_count": 1,
   "id": "5bd46f34",
   "metadata": {},
   "outputs": [],
   "source": [
    "import numpy as np\n",
    "import pandas as pd"
   ]
  },
  {
   "cell_type": "markdown",
   "id": "d99277dd",
   "metadata": {},
   "source": [
    "<b> In the above, i have imported all the necessary libraries."
   ]
  },
  {
   "cell_type": "markdown",
   "id": "c1e48f90",
   "metadata": {},
   "source": [
    "<b> Load the dataset by using read_csv() to read the dataset and save it to the 'df' variable and take a look at the first 5 lines using the head() method."
   ]
  },
  {
   "cell_type": "code",
   "execution_count": 2,
   "id": "12eaad4a",
   "metadata": {},
   "outputs": [
    {
     "data": {
      "text/html": [
       "<div>\n",
       "<style scoped>\n",
       "    .dataframe tbody tr th:only-of-type {\n",
       "        vertical-align: middle;\n",
       "    }\n",
       "\n",
       "    .dataframe tbody tr th {\n",
       "        vertical-align: top;\n",
       "    }\n",
       "\n",
       "    .dataframe thead th {\n",
       "        text-align: right;\n",
       "    }\n",
       "</style>\n",
       "<table border=\"1\" class=\"dataframe\">\n",
       "  <thead>\n",
       "    <tr style=\"text-align: right;\">\n",
       "      <th></th>\n",
       "      <th>X</th>\n",
       "      <th>y</th>\n",
       "    </tr>\n",
       "  </thead>\n",
       "  <tbody>\n",
       "    <tr>\n",
       "      <th>0</th>\n",
       "      <td>-0.941008</td>\n",
       "      <td>1</td>\n",
       "    </tr>\n",
       "    <tr>\n",
       "      <th>1</th>\n",
       "      <td>1.225229</td>\n",
       "      <td>1</td>\n",
       "    </tr>\n",
       "    <tr>\n",
       "      <th>2</th>\n",
       "      <td>1.822382</td>\n",
       "      <td>1</td>\n",
       "    </tr>\n",
       "    <tr>\n",
       "      <th>3</th>\n",
       "      <td>1.940940</td>\n",
       "      <td>1</td>\n",
       "    </tr>\n",
       "    <tr>\n",
       "      <th>4</th>\n",
       "      <td>0.913569</td>\n",
       "      <td>1</td>\n",
       "    </tr>\n",
       "  </tbody>\n",
       "</table>\n",
       "</div>"
      ],
      "text/plain": [
       "          X  y\n",
       "0 -0.941008  1\n",
       "1  1.225229  1\n",
       "2  1.822382  1\n",
       "3  1.940940  1\n",
       "4  0.913569  1"
      ]
     },
     "execution_count": 2,
     "metadata": {},
     "output_type": "execute_result"
    }
   ],
   "source": [
    "# Load the dataset.\n",
    "data = pd.read_csv(\"random_sample.csv\")\n",
    "\n",
    "# Display the first 5 lines using the head() method.\n",
    "data.head()"
   ]
  },
  {
   "cell_type": "markdown",
   "id": "297c55f1",
   "metadata": {},
   "source": [
    "<b> Creating independent variables i.e. data[\"X\"] as \"x\" variable and dependent variable i.e. data[\"y\"] as \"y\" variable."
   ]
  },
  {
   "cell_type": "code",
   "execution_count": 3,
   "id": "9ee77704",
   "metadata": {},
   "outputs": [],
   "source": [
    "# Create independent variables as \"x\" and dependent variable as \"y\" object.\n",
    "\n",
    "# Create the independent variable as x.\n",
    "x = data[[\"X\"]]\n",
    "\n",
    "# target variable to predict/ dependant variable as y\n",
    "y = data[\"y\"]    "
   ]
  },
  {
   "cell_type": "markdown",
   "id": "c3ca967f",
   "metadata": {},
   "source": [
    "<b> Let's have a look at the distribution of dependent variable (y) by using value_counts method:"
   ]
  },
  {
   "cell_type": "code",
   "execution_count": 4,
   "id": "945b9f50",
   "metadata": {},
   "outputs": [
    {
     "name": "stdout",
     "output_type": "stream",
     "text": [
      "original dataset shape\n",
      "----------------------\n"
     ]
    },
    {
     "data": {
      "text/plain": [
       "1    900\n",
       "0    100\n",
       "Name: y, dtype: int64"
      ]
     },
     "execution_count": 4,
     "metadata": {},
     "output_type": "execute_result"
    }
   ],
   "source": [
    "# print as \"original dataset shape\" for display purpose.\n",
    "print(\"original dataset shape\")\n",
    "print(\"----------------------\")\n",
    "\n",
    "# Apply the value_counts method on target vatriable (y).\n",
    "y.value_counts()\n"
   ]
  },
  {
   "cell_type": "markdown",
   "id": "4b2e20b8",
   "metadata": {},
   "source": [
    "<b> As we can see, there are 2 unique categories in the target variable (y), which contains 900 records as 1 and 100 records as 0 category respectively.\n",
    "    \n",
    "<b> Based on this result, It has been observed that our target class has an imbalance.\n",
    "    \n",
    "<b> Hence now we are going to handling Imbalanced Data by using different techniques (Approches)."
   ]
  },
  {
   "cell_type": "markdown",
   "id": "2fa03d19",
   "metadata": {},
   "source": [
    "<b> Installing imblearn library using jupiter notebook."
   ]
  },
  {
   "cell_type": "code",
   "execution_count": 5,
   "id": "7f9118ac",
   "metadata": {},
   "outputs": [
    {
     "name": "stdout",
     "output_type": "stream",
     "text": [
      "Requirement already satisfied: imblearn in c:\\users\\administrator\\anaconda3\\lib\\site-packages (0.0)\n",
      "Requirement already satisfied: imbalanced-learn in c:\\users\\administrator\\anaconda3\\lib\\site-packages (from imblearn) (0.10.1)\n",
      "Requirement already satisfied: scikit-learn>=1.0.2 in c:\\users\\administrator\\anaconda3\\lib\\site-packages (from imbalanced-learn->imblearn) (1.0.2)\n",
      "Requirement already satisfied: threadpoolctl>=2.0.0 in c:\\users\\administrator\\anaconda3\\lib\\site-packages (from imbalanced-learn->imblearn) (2.2.0)\n",
      "Requirement already satisfied: joblib>=1.1.1 in c:\\users\\administrator\\anaconda3\\lib\\site-packages (from imbalanced-learn->imblearn) (1.2.0)\n",
      "Requirement already satisfied: scipy>=1.3.2 in c:\\users\\administrator\\anaconda3\\lib\\site-packages (from imbalanced-learn->imblearn) (1.9.1)\n",
      "Requirement already satisfied: numpy>=1.17.3 in c:\\users\\administrator\\anaconda3\\lib\\site-packages (from imbalanced-learn->imblearn) (1.21.5)\n"
     ]
    }
   ],
   "source": [
    "# Installing imblearn library using jupiter notebook.\n",
    "!pip install imblearn"
   ]
  },
  {
   "cell_type": "markdown",
   "id": "69352094",
   "metadata": {},
   "source": [
    "### Approch - 1 : Resampling - Undersampling of majority class:\n",
    "Under-sample the majority class(es) by randomly picking samples with or without replacement, i.e. Class to perform random under-sampling.\n",
    "\n",
    "Parameters:\n",
    "\n",
    "- sampling_strategy (default='auto'): Sampling information to resample the data set.\n",
    "- random_state (default=None): Control the randomization of the algorithm.\n",
    "- replacement (default=False): Whether the sample is with or without replacement.\n",
    "- n_features_in_ : Number of features in the input dataset.\n",
    "- feature_names_in_ : Names of features seen during fit. Defined only when X has feature names that are all strings."
   ]
  },
  {
   "cell_type": "code",
   "execution_count": 6,
   "id": "49c42980",
   "metadata": {},
   "outputs": [
    {
     "name": "stdout",
     "output_type": "stream",
     "text": [
      "After undersampling dataset shape\n",
      "----------------------------------\n"
     ]
    },
    {
     "data": {
      "text/plain": [
       "0    100\n",
       "1    100\n",
       "Name: y, dtype: int64"
      ]
     },
     "execution_count": 6,
     "metadata": {},
     "output_type": "execute_result"
    }
   ],
   "source": [
    "# import the RandomUnderSampler from imblearn.under_sampling library.\n",
    "from imblearn.under_sampling import RandomUnderSampler\n",
    "\n",
    "# Create the classifier object as \"rs\" and pass the random_state=42.\n",
    "rs = RandomUnderSampler(random_state=42)\n",
    "\n",
    "# Apply the fit_resample() to returns the Resample the dataset.\n",
    "x_new,y_new = rs.fit_resample(x, y)\n",
    "\n",
    "# print as \"After undersampling dataset shape\" for display purpose.\n",
    "print(\"After undersampling dataset shape\")\n",
    "print(\"----------------------------------\")\n",
    "\n",
    "# Apply the value_counts method on target vatriable (y).\n",
    "y_new.value_counts()"
   ]
  },
  {
   "cell_type": "markdown",
   "id": "9f5040d5",
   "metadata": {},
   "source": [
    "In the above, we have fitted the Undersampling of majority class by using fit_resample(). First we have imported the RandomUnderSampler() class of imblearn.under_sampling library. After importing the class, we have created the Classifier object of the class. The Parameter of this class are as :\n",
    "\n",
    "- X : Matrix containing the data which have to be sampled.\n",
    "- y : Corresponding label for each sample in X.\n",
    "- rs.fit_resample means Resample the dataset. It will returns the two parameters as:\n",
    "- X_resampled : The array containing the resampled data.\n",
    "- y_resampled : The corresponding label of `X_resampled`.\n",
    "\n",
    "After that it will returns the dataset with undersampling dataset shape, i.e 100 records as 1 and 100 records as 0 category respectively."
   ]
  },
  {
   "cell_type": "markdown",
   "id": "cd69afe4",
   "metadata": {},
   "source": [
    "### Approch - 2 : Resampling - Oversampling of minority class by duplication:\n",
    "Object to over-sample the minority class(es) by picking samples at random with replacement. The bootstrap can be generated in a smoothed manner, i.e. Class to perform random over-sampling.\n",
    "\n",
    "Parameters:\n",
    "\n",
    "- sampling_strategy (default='auto'): Sampling information to resample the data set.\n",
    "- random_state (default=None): Control the randomization of the algorithm.\n",
    "- replacement (default=False): Whether the sample is with or without replacement.\n",
    "- shrinkage (default=None): Parameter controlling the shrinkage applied to the covariance matrix."
   ]
  },
  {
   "cell_type": "code",
   "execution_count": 7,
   "id": "b2d0187f",
   "metadata": {},
   "outputs": [
    {
     "name": "stdout",
     "output_type": "stream",
     "text": [
      "After oversampling dataset shape\n",
      "----------------------------------\n"
     ]
    },
    {
     "data": {
      "text/plain": [
       "1    900\n",
       "0    900\n",
       "Name: y, dtype: int64"
      ]
     },
     "execution_count": 7,
     "metadata": {},
     "output_type": "execute_result"
    }
   ],
   "source": [
    "# import the RandomOverSampler from imblearn.over_sampling library.\n",
    "from imblearn.over_sampling import RandomOverSampler\n",
    "\n",
    "# Create the classifier object as \"ROS\" and pass the random_state=42.\n",
    "ROS = RandomOverSampler(random_state=42)\n",
    "\n",
    "# Apply the fit_resample() to returns the Resample the dataset.\n",
    "x_new,y_new = ROS.fit_resample(x, y)\n",
    "\n",
    "# print as \"After oversampling dataset shape\" for display purpose.\n",
    "print(\"After oversampling dataset shape\")\n",
    "print(\"----------------------------------\")\n",
    "\n",
    "# Apply the value_counts method on target vatriable (y).\n",
    "y_new.value_counts()"
   ]
  },
  {
   "cell_type": "markdown",
   "id": "1709e4ad",
   "metadata": {},
   "source": [
    "In the above, we have fitted the Oversampling of minority class by using fit_resample(). First we have imported the RandomOverSampler() class of imblearn.over_sampling library. After importing the class, we have created the Classifier object of the class. The Parameter of this class are as :\n",
    "\n",
    "- X : Matrix containing the data which have to be sampled.\n",
    "- y : Corresponding label for each sample in X.\n",
    "- rs.fit_resample means Resample the dataset. It will returns the two parameters as:\n",
    "- X_resampled : The array containing the resampled data.\n",
    "- y_resampled : The corresponding label of `X_resampled`.\n",
    "\n",
    "After that it will returns the dataset with oversampling dataset shape, i.e 900 records as 1 and 900 records as 0 category respectively."
   ]
  },
  {
   "cell_type": "markdown",
   "id": "a0457399",
   "metadata": {},
   "source": [
    "### Approch - 3 : Resampling - Oversampling of minority class by SMOTE:\n",
    "This object is an implementation of SMOTE - Synthetic Minority Over-sampling Technique,i.e. Class to perform over-sampling using SMOTE.\n",
    "\n",
    "Parameters:\n",
    "- sampling_strategy (default='auto'): Sampling information to resample the data set.\n",
    "- random_state (default=None): Control the randomization of the algorithm.\n",
    "- k_neighbors (default=5): The nearest neighbors used to define the neighborhood of samples to use to generate the synthetic samples.\n",
    "- n_jobs (default=None): Number of CPU cores used during the cross-validation loop.\n",
    "- n_features_in_ : Number of features in the input dataset.\n",
    "- feature_names_in_ : Names of features seen during `fit`. Defined only when `X` has feature names that are all strings."
   ]
  },
  {
   "cell_type": "code",
   "execution_count": 8,
   "id": "c3fbf149",
   "metadata": {},
   "outputs": [
    {
     "name": "stdout",
     "output_type": "stream",
     "text": [
      "After SMOTE dataset shape\n",
      "----------------------------------\n"
     ]
    },
    {
     "data": {
      "text/plain": [
       "1    900\n",
       "0    900\n",
       "Name: y, dtype: int64"
      ]
     },
     "execution_count": 8,
     "metadata": {},
     "output_type": "execute_result"
    }
   ],
   "source": [
    "# import the RandomOverSampler from imblearn.over_sampling library.\n",
    "from imblearn.over_sampling import SMOTE\n",
    "\n",
    "# Create the classifier object as \"SMOTE\" and pass the random_state=42.\n",
    "SMOTE = SMOTE(random_state=42)\n",
    "\n",
    "# Apply the fit_resample() to returns the Resample the dataset.\n",
    "x_new,y_new = SMOTE.fit_resample(x, y)\n",
    "\n",
    "# print as \"After SMOTE dataset shape\" for display purpose.\n",
    "print(\"After SMOTE dataset shape\")\n",
    "print(\"----------------------------------\")\n",
    "\n",
    "# Apply the value_counts method on target vatriable (y).\n",
    "y_new.value_counts()"
   ]
  },
  {
   "cell_type": "markdown",
   "id": "41f6293b",
   "metadata": {},
   "source": [
    "In the above, we have fitted the Oversampling of minority class by SMOTE by using fit_resample(). First we have imported the SMOTE() class of imblearn.over_sampling library. After importing the class, we have created the Classifier object of the class. The Parameter of this class are as :\n",
    "\n",
    "- X : Matrix containing the data which have to be sampled.\n",
    "- y : Corresponding label for each sample in X.\n",
    "- rs.fit_resample means Resample the dataset. It will returns the two parameters as:\n",
    "- X_resampled : The array containing the resampled data.\n",
    "- y_resampled : The corresponding label of `X_resampled`.\n",
    "\n",
    "After that it will returns the dataset with oversampling dataset shape, i.e 900 records as 1 and 900 records as 0 category respectively."
   ]
  },
  {
   "cell_type": "markdown",
   "id": "73998372",
   "metadata": {},
   "source": [
    "### Approch - 4 : Undersampling of majority class by Near Miss:\n",
    "Class to perform under-sampling based on NearMiss methods.\n",
    "\n",
    "Parameters:\n",
    "\n",
    "- sampling_strategy (default='auto'): Sampling information to resample the data set.\n",
    "- n_neighbors (default=3): size of the neighbourhood to consider to compute the average distance to the minority point samples.\n",
    "- n_jobs (default=None): Number of CPU cores used during the cross-validation loop.\n",
    "- feature_names_in_ : Names of features seen during fit. Defined only when X has feature names that are all strings."
   ]
  },
  {
   "cell_type": "code",
   "execution_count": 9,
   "id": "f18f4b5e",
   "metadata": {},
   "outputs": [
    {
     "name": "stdout",
     "output_type": "stream",
     "text": [
      "After undersampling dataset shape\n",
      "----------------------------------\n"
     ]
    },
    {
     "data": {
      "text/plain": [
       "0    100\n",
       "1    100\n",
       "Name: y, dtype: int64"
      ]
     },
     "execution_count": 9,
     "metadata": {},
     "output_type": "execute_result"
    }
   ],
   "source": [
    "# import the NearMiss from imblearn.under_sampling library.\n",
    "from imblearn.under_sampling import NearMiss\n",
    "\n",
    "# Create the classifier object as \"NM\" and pass the random_state=42.\n",
    "NM = NearMiss()\n",
    "\n",
    "# Apply the fit_resample() to returns the Resample the dataset.\n",
    "x_new,y_new = NM.fit_resample(x, y)\n",
    "\n",
    "# print as \"After SMOTE dataset shape\" for display purpose.\n",
    "print(\"After undersampling dataset shape\")\n",
    "print(\"----------------------------------\")\n",
    "\n",
    "# Apply the value_counts method on target vatriable (y).\n",
    "y_new.value_counts()"
   ]
  },
  {
   "cell_type": "markdown",
   "id": "8eaded54",
   "metadata": {},
   "source": [
    "In the above, we have fitted the Undersampling of majority class by using fit_resample(). First we have imported the NearMiss() class of imblearn.under_sampling library. After importing the class, we have created the Classifier object of the class. The Parameter of this class are as :\n",
    "\n",
    "- X : Matrix containing the data which have to be sampled.\n",
    "- y : Corresponding label for each sample in X.\n",
    "- rs.fit_resample means Resample the dataset. It will returns the two parameters as:\n",
    "- X_resampled : The array containing the resampled data.\n",
    "- y_resampled : The corresponding label of `X_resampled`.\n",
    "\n",
    "After that it will returns the dataset with undersampling dataset shape, i.e 100 records as 1 and 100 records as 0 category respectively."
   ]
  }
 ],
 "metadata": {
  "kernelspec": {
   "display_name": "Python 3 (ipykernel)",
   "language": "python",
   "name": "python3"
  },
  "language_info": {
   "codemirror_mode": {
    "name": "ipython",
    "version": 3
   },
   "file_extension": ".py",
   "mimetype": "text/x-python",
   "name": "python",
   "nbconvert_exporter": "python",
   "pygments_lexer": "ipython3",
   "version": "3.9.13"
  }
 },
 "nbformat": 4,
 "nbformat_minor": 5
}
