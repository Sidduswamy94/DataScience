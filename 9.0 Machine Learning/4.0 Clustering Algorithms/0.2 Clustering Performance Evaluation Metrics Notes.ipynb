{
 "cells": [
  {
   "cell_type": "markdown",
   "id": "51a57207",
   "metadata": {},
   "source": [
    "# <p style='text-align: center;'> Clustering Performance Evaluation Metrics </p>"
   ]
  },
  {
   "cell_type": "markdown",
   "id": "380bfe00",
   "metadata": {},
   "source": [
    "Clusters are evaluated based on some similarity or dissimilarity measure such as the distance between cluster points. If the clustering algorithm separates dissimilar observations apart and similar observations together, then it has performed well. The below metrics are most popular evaluation metrics for clustering algorithms, they are:\n",
    "\n",
    "    1. Silhouette Coefficient\n",
    "    2. Calinski Harabaz Index\n",
    "    3. Davies Bouldin index\n",
    "    \n",
    "\n",
    "### 1. Silhouette Coefficient:\n",
    "- Silhouette refers to a method of interpretation and validation of consistency within clusters of data. The technique provides a succinct graphical representation of how well each object has been classified.\n",
    "\n",
    "\n",
    "- To study the separation distance between the clusters formed by the algorithm silhouette analysis could be used.\n",
    "\n",
    "\n",
    "- The distance between the cluster can be calculated by different types of distance metrics ( Euclidean, Manhattan, Minkowski, Hamming). Silhouette score returns the average silhouette coefficient applied on all the samples.\n",
    "\n",
    "\n",
    "- The silhouette value is a measure of how similar an object is to its own cluster (cohesion) compared to other clusters (separation). The silhouette ranges from −1 to +1, where a high value indicates that the object is well matched to its own cluster and poorly matched to neighboring clusters. If most objects have a high value, then the clustering configuration is appropriate. If many points have a low or negative value, then the clustering configuration may have too many or too few clusters.\n",
    "\n",
    "\n",
    "- <b> The formula is as follows:\n",
    "    \n",
    "\n",
    "           b - a\n",
    "    s = -----------\n",
    "          max(a,b)\n",
    "          \n",
    "    \n",
    "where,\n",
    "    \n",
    "   - s: The Silhouette Coefficient is defined for each sample and is composed of two scores.\n",
    "    \n",
    "   - a: The mean distance between a sample and all other points in the same cluster.\n",
    "    \n",
    "   - b: The mean distance between a sample and all other points in the next nearest cluster.\n",
    "          "
   ]
  },
  {
   "cell_type": "markdown",
   "id": "55339829",
   "metadata": {},
   "source": [
    "### 2. Calinski Harabaz Index:\n",
    "- The Calinski Harabaz index is based on the principle of variance ratio. This ratio is calculated between two parameters within-cluster diffusion and between cluster dispersion. The higher the index the better is clustering. \n",
    "\n",
    "\n",
    "- <b> The formula is as follows:\n",
    "    \n",
    "   CH(k)=[B(k)W(k)][(n−k)(k−1)]\n",
    "    \n",
    "    \n",
    "where,\n",
    "\n",
    "   - n =  data points \n",
    "\n",
    "   - k = clusters \n",
    "\n",
    "   - W(k) = within cluster variation \n",
    "\n",
    "   - B(k) = between cluster variation.\n"
   ]
  },
  {
   "cell_type": "markdown",
   "id": "462598c5",
   "metadata": {},
   "source": [
    "### 3. Davies Bouldin index:\n",
    "- Davies Bouldin index is based on the principle of with-cluster and between cluster distances. It is commonly used for deciding the number of clusters in which the data points should be labeled. It is different from the other two as the value of this index should be small. So the main motive is to decrease the DB index. \n",
    "\n",
    "\n",
    "- <b> The formula which is used to calculate the DB index:\n",
    "    \n",
    "    DB(C)=1Ci=1kmaxjk,jiDij \n",
    "    \n",
    "    Dij=di  + dj dij\n",
    "    \n",
    "    \n",
    "where,\n",
    "\n",
    "   - Dij= within-to-between cluster distance ratio for the ith and jth clusters.\n",
    "\n",
    "   - C  = no of clusters\n",
    "\n",
    "   - i,j  = numbers of clusters which come from the same partitioning"
   ]
  }
 ],
 "metadata": {
  "kernelspec": {
   "display_name": "Python 3 (ipykernel)",
   "language": "python",
   "name": "python3"
  },
  "language_info": {
   "codemirror_mode": {
    "name": "ipython",
    "version": 3
   },
   "file_extension": ".py",
   "mimetype": "text/x-python",
   "name": "python",
   "nbconvert_exporter": "python",
   "pygments_lexer": "ipython3",
   "version": "3.9.13"
  }
 },
 "nbformat": 4,
 "nbformat_minor": 5
}
