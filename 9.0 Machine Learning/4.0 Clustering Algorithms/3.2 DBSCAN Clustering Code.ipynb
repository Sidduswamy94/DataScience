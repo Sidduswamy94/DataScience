{
 "cells": [
  {
   "cell_type": "markdown",
   "id": "19ae173a",
   "metadata": {},
   "source": [
    "## Mall Customers Dataset.\n",
    "<b> So, we have a dataset of \"Mall_Customers.csv\", which is the data of customers who visit the mall and spend there. In this article, we are going to segment these customers based on the details given, by using Machine Learning algorithms. The algorithms included DBSCAN Clustering Algorithm.\n"
   ]
  },
  {
   "cell_type": "markdown",
   "id": "971baa01",
   "metadata": {},
   "source": [
    "## Step - 1 : Business Problem Understanding\n",
    "<b> <b> There is a big mall in a specific city that keeps information of its customers who subscribe to a membership card. In the membetrship card they provide following information : gender, age and annula income. The customers use this membership card to make all the purchases in the mall, so tha mall has the purchase history of all subscribed members and according to that they compute the Spending score of all customers. We have to segment these customers based on the details given.\n",
    "    \n",
    "<b> Create a model that can help to segment these customers based on the details given, by using Machine Learning algorithms.\n",
    "    \n",
    "\n",
    "    "
   ]
  },
  {
   "cell_type": "markdown",
   "id": "7d2f0579",
   "metadata": {},
   "source": [
    "<b> importing all the necessary libraries."
   ]
  },
  {
   "cell_type": "code",
   "execution_count": 1,
   "id": "5e4b04f7",
   "metadata": {},
   "outputs": [],
   "source": [
    "import numpy as np\n",
    "import pandas as pd\n",
    "import matplotlib.pyplot as plt\n",
    "import seaborn as sns\n",
    "import warnings\n",
    "warnings.simplefilter(\"ignore\")"
   ]
  },
  {
   "cell_type": "markdown",
   "id": "ec316345",
   "metadata": {},
   "source": [
    "<b> In the above, i have imported all the necessary libraries."
   ]
  },
  {
   "cell_type": "markdown",
   "id": "abed6944",
   "metadata": {},
   "source": [
    "## Step - 2 : Data Understanding\n",
    "### 2.1 Data Collection\n",
    "<b>Load the dataset by using read_csv() to read the dataset and save it to the 'data' object and take a look at the first 5 lines using the head() method."
   ]
  },
  {
   "cell_type": "code",
   "execution_count": 2,
   "id": "903d2552",
   "metadata": {},
   "outputs": [
    {
     "data": {
      "text/html": [
       "<div>\n",
       "<style scoped>\n",
       "    .dataframe tbody tr th:only-of-type {\n",
       "        vertical-align: middle;\n",
       "    }\n",
       "\n",
       "    .dataframe tbody tr th {\n",
       "        vertical-align: top;\n",
       "    }\n",
       "\n",
       "    .dataframe thead th {\n",
       "        text-align: right;\n",
       "    }\n",
       "</style>\n",
       "<table border=\"1\" class=\"dataframe\">\n",
       "  <thead>\n",
       "    <tr style=\"text-align: right;\">\n",
       "      <th></th>\n",
       "      <th>CustomerID</th>\n",
       "      <th>Gender</th>\n",
       "      <th>Age</th>\n",
       "      <th>Annual Income (k$)</th>\n",
       "      <th>Spending Score (1-100)</th>\n",
       "    </tr>\n",
       "  </thead>\n",
       "  <tbody>\n",
       "    <tr>\n",
       "      <th>0</th>\n",
       "      <td>1</td>\n",
       "      <td>Male</td>\n",
       "      <td>19</td>\n",
       "      <td>15</td>\n",
       "      <td>39</td>\n",
       "    </tr>\n",
       "    <tr>\n",
       "      <th>1</th>\n",
       "      <td>2</td>\n",
       "      <td>Male</td>\n",
       "      <td>21</td>\n",
       "      <td>15</td>\n",
       "      <td>81</td>\n",
       "    </tr>\n",
       "    <tr>\n",
       "      <th>2</th>\n",
       "      <td>3</td>\n",
       "      <td>Female</td>\n",
       "      <td>20</td>\n",
       "      <td>16</td>\n",
       "      <td>6</td>\n",
       "    </tr>\n",
       "    <tr>\n",
       "      <th>3</th>\n",
       "      <td>4</td>\n",
       "      <td>Female</td>\n",
       "      <td>23</td>\n",
       "      <td>16</td>\n",
       "      <td>77</td>\n",
       "    </tr>\n",
       "    <tr>\n",
       "      <th>4</th>\n",
       "      <td>5</td>\n",
       "      <td>Female</td>\n",
       "      <td>31</td>\n",
       "      <td>17</td>\n",
       "      <td>40</td>\n",
       "    </tr>\n",
       "  </tbody>\n",
       "</table>\n",
       "</div>"
      ],
      "text/plain": [
       "   CustomerID  Gender  Age  Annual Income (k$)  Spending Score (1-100)\n",
       "0           1    Male   19                  15                      39\n",
       "1           2    Male   21                  15                      81\n",
       "2           3  Female   20                  16                       6\n",
       "3           4  Female   23                  16                      77\n",
       "4           5  Female   31                  17                      40"
      ]
     },
     "execution_count": 2,
     "metadata": {},
     "output_type": "execute_result"
    }
   ],
   "source": [
    "# Load the dataset.\n",
    "data = pd.read_csv(\"Mall_Customers.csv\")\n",
    "\n",
    "# Display the first 5 lines using the head() method.\n",
    "data.head()"
   ]
  },
  {
   "cell_type": "markdown",
   "id": "1a67fef3",
   "metadata": {},
   "source": [
    "### 2.2 Data Understanding\n"
   ]
  },
  {
   "cell_type": "markdown",
   "id": "301709a9",
   "metadata": {},
   "source": [
    "<b> Mall_Customers.csv : Which is the data of customers who visit the mall and spend there. Contains variables:\n",
    "    \n",
    "- Customer_Id: Customers unique id's.\n",
    "\n",
    "- Gender: Gender of the customers.\n",
    "\n",
    "- Age: Age of the customers.\n",
    "\n",
    "- Annual Income (k$): Annual Income of the customers in thousands dollar.\n",
    "\n",
    "- Spending Score (1-100): Score given based on spending.\n",
    "\n"
   ]
  },
  {
   "cell_type": "markdown",
   "id": "b96f47db",
   "metadata": {},
   "source": [
    "<b> Let’s have a look at data dimensionality."
   ]
  },
  {
   "cell_type": "code",
   "execution_count": 3,
   "id": "b6d87cd8",
   "metadata": {},
   "outputs": [
    {
     "data": {
      "text/plain": [
       "(200, 5)"
      ]
     },
     "execution_count": 3,
     "metadata": {},
     "output_type": "execute_result"
    }
   ],
   "source": [
    "data.shape"
   ]
  },
  {
   "cell_type": "markdown",
   "id": "0c21eaa6",
   "metadata": {},
   "source": [
    "<b> From the output, we can see that the table contains 200 rows and 5 columns.\n",
    "    \n",
    "    \n",
    "<b> We can use the info() method to output some general information about the dataframe :"
   ]
  },
  {
   "cell_type": "code",
   "execution_count": 4,
   "id": "b915683c",
   "metadata": {},
   "outputs": [
    {
     "name": "stdout",
     "output_type": "stream",
     "text": [
      "<class 'pandas.core.frame.DataFrame'>\n",
      "RangeIndex: 200 entries, 0 to 199\n",
      "Data columns (total 5 columns):\n",
      " #   Column                  Non-Null Count  Dtype \n",
      "---  ------                  --------------  ----- \n",
      " 0   CustomerID              200 non-null    int64 \n",
      " 1   Gender                  200 non-null    object\n",
      " 2   Age                     200 non-null    int64 \n",
      " 3   Annual Income (k$)      200 non-null    int64 \n",
      " 4   Spending Score (1-100)  200 non-null    int64 \n",
      "dtypes: int64(4), object(1)\n",
      "memory usage: 7.9+ KB\n"
     ]
    }
   ],
   "source": [
    "data.info()"
   ]
  },
  {
   "cell_type": "markdown",
   "id": "906fc46b",
   "metadata": {},
   "source": [
    "<b> int64 and object are the data types of our features. We see 4 features are numeric (features are int64) and 1 feature is categorical.  With this same method, we can easily see if there are any missing values. Here, there are none because each column contains 200 observations, the same number of rows we saw before with shape. \n",
    "   "
   ]
  },
  {
   "cell_type": "markdown",
   "id": "a158353b",
   "metadata": {},
   "source": [
    "## Step - 3 : Data Preprocessing\n",
    "### 3.1 Exploratory Data Analysis (EDA) and Data Visualization\n"
   ]
  },
  {
   "cell_type": "markdown",
   "id": "e54bce1b",
   "metadata": {},
   "source": [
    "<b> The describe method shows basic statistical characteristics of each numerical feature (int64 types): count, mean, standard deviation, min, max, median, 0.25 and 0.75 quartiles."
   ]
  },
  {
   "cell_type": "code",
   "execution_count": 5,
   "id": "bf94059b",
   "metadata": {},
   "outputs": [
    {
     "data": {
      "text/html": [
       "<div>\n",
       "<style scoped>\n",
       "    .dataframe tbody tr th:only-of-type {\n",
       "        vertical-align: middle;\n",
       "    }\n",
       "\n",
       "    .dataframe tbody tr th {\n",
       "        vertical-align: top;\n",
       "    }\n",
       "\n",
       "    .dataframe thead th {\n",
       "        text-align: right;\n",
       "    }\n",
       "</style>\n",
       "<table border=\"1\" class=\"dataframe\">\n",
       "  <thead>\n",
       "    <tr style=\"text-align: right;\">\n",
       "      <th></th>\n",
       "      <th>CustomerID</th>\n",
       "      <th>Age</th>\n",
       "      <th>Annual Income (k$)</th>\n",
       "      <th>Spending Score (1-100)</th>\n",
       "    </tr>\n",
       "  </thead>\n",
       "  <tbody>\n",
       "    <tr>\n",
       "      <th>count</th>\n",
       "      <td>200.000000</td>\n",
       "      <td>200.000000</td>\n",
       "      <td>200.000000</td>\n",
       "      <td>200.000000</td>\n",
       "    </tr>\n",
       "    <tr>\n",
       "      <th>mean</th>\n",
       "      <td>100.500000</td>\n",
       "      <td>38.850000</td>\n",
       "      <td>60.560000</td>\n",
       "      <td>50.200000</td>\n",
       "    </tr>\n",
       "    <tr>\n",
       "      <th>std</th>\n",
       "      <td>57.879185</td>\n",
       "      <td>13.969007</td>\n",
       "      <td>26.264721</td>\n",
       "      <td>25.823522</td>\n",
       "    </tr>\n",
       "    <tr>\n",
       "      <th>min</th>\n",
       "      <td>1.000000</td>\n",
       "      <td>18.000000</td>\n",
       "      <td>15.000000</td>\n",
       "      <td>1.000000</td>\n",
       "    </tr>\n",
       "    <tr>\n",
       "      <th>25%</th>\n",
       "      <td>50.750000</td>\n",
       "      <td>28.750000</td>\n",
       "      <td>41.500000</td>\n",
       "      <td>34.750000</td>\n",
       "    </tr>\n",
       "    <tr>\n",
       "      <th>50%</th>\n",
       "      <td>100.500000</td>\n",
       "      <td>36.000000</td>\n",
       "      <td>61.500000</td>\n",
       "      <td>50.000000</td>\n",
       "    </tr>\n",
       "    <tr>\n",
       "      <th>75%</th>\n",
       "      <td>150.250000</td>\n",
       "      <td>49.000000</td>\n",
       "      <td>78.000000</td>\n",
       "      <td>73.000000</td>\n",
       "    </tr>\n",
       "    <tr>\n",
       "      <th>max</th>\n",
       "      <td>200.000000</td>\n",
       "      <td>70.000000</td>\n",
       "      <td>137.000000</td>\n",
       "      <td>99.000000</td>\n",
       "    </tr>\n",
       "  </tbody>\n",
       "</table>\n",
       "</div>"
      ],
      "text/plain": [
       "       CustomerID         Age  Annual Income (k$)  Spending Score (1-100)\n",
       "count  200.000000  200.000000          200.000000              200.000000\n",
       "mean   100.500000   38.850000           60.560000               50.200000\n",
       "std     57.879185   13.969007           26.264721               25.823522\n",
       "min      1.000000   18.000000           15.000000                1.000000\n",
       "25%     50.750000   28.750000           41.500000               34.750000\n",
       "50%    100.500000   36.000000           61.500000               50.000000\n",
       "75%    150.250000   49.000000           78.000000               73.000000\n",
       "max    200.000000   70.000000          137.000000               99.000000"
      ]
     },
     "execution_count": 5,
     "metadata": {},
     "output_type": "execute_result"
    }
   ],
   "source": [
    "data.describe()"
   ]
  },
  {
   "cell_type": "markdown",
   "id": "f9cf80eb",
   "metadata": {},
   "source": [
    "<b> Checking the unique values/categories from the \"Age\" variable."
   ]
  },
  {
   "cell_type": "code",
   "execution_count": 6,
   "id": "63238e7c",
   "metadata": {},
   "outputs": [
    {
     "data": {
      "text/plain": [
       "Female    112\n",
       "Male       88\n",
       "Name: Gender, dtype: int64"
      ]
     },
     "execution_count": 6,
     "metadata": {},
     "output_type": "execute_result"
    }
   ],
   "source": [
    "# Finding the number of males and females in the data\n",
    "data.Gender.value_counts()"
   ]
  },
  {
   "cell_type": "markdown",
   "id": "6a16d92b",
   "metadata": {},
   "source": [
    "<b> Now visualising the number of males and females in the data."
   ]
  },
  {
   "cell_type": "code",
   "execution_count": 7,
   "id": "8572100a",
   "metadata": {},
   "outputs": [
    {
     "data": {
      "image/png": "[encoded data removed]",
      "text/plain": [
       "<Figure size 640x480 with 1 Axes>"
      ]
     },
     "metadata": {},
     "output_type": "display_data"
    }
   ],
   "source": [
    "# Visualising the number of males and females in the data\n",
    "sns.countplot(x=\"Gender\",data=data,palette=\"pastel\")\n",
    "\n",
    "# Display all figures.\n",
    "plt.show()"
   ]
  },
  {
   "cell_type": "markdown",
   "id": "4321ca7f",
   "metadata": {},
   "source": [
    "<b> From the above plot, we can see that the number of females customers is more than the number of male customers.\n",
    "    \n",
    "<b> Computing minimum and maximum age of customers."
   ]
  },
  {
   "cell_type": "code",
   "execution_count": 8,
   "id": "1e147970",
   "metadata": {},
   "outputs": [
    {
     "name": "stdout",
     "output_type": "stream",
     "text": [
      "18\n",
      "70\n"
     ]
    }
   ],
   "source": [
    "# Computing minimum and maximum age of customers\n",
    "print(min(data.Age))\n",
    "print(max(data.Age))"
   ]
  },
  {
   "cell_type": "markdown",
   "id": "38fea77d",
   "metadata": {},
   "source": [
    "<b> Now visualising the age distribution of customers."
   ]
  },
  {
   "cell_type": "code",
   "execution_count": 9,
   "id": "1bd07f3f",
   "metadata": {},
   "outputs": [
    {
     "data": {
      "image/png": "[encoded data removed]",
      "text/plain": [
       "<Figure size 2500x800 with 1 Axes>"
      ]
     },
     "metadata": {},
     "output_type": "display_data"
    }
   ],
   "source": [
    "# Visualising the age distribution of customers\n",
    "plt.figure(figsize=(25,8))\n",
    "sns.countplot(x=\"Age\",data=data,palette=\"pastel\")\n",
    "\n",
    "# Display all figures.\n",
    "plt.show()"
   ]
  },
  {
   "cell_type": "markdown",
   "id": "f91fcd77",
   "metadata": {},
   "source": [
    "<b> From the above plot, Customers with age 32 make for the largest number of customers."
   ]
  },
  {
   "cell_type": "markdown",
   "id": "9920ef38",
   "metadata": {},
   "source": [
    "<b> Now use the value_counts method on target variable (species)."
   ]
  },
  {
   "cell_type": "markdown",
   "id": "d42de122",
   "metadata": {},
   "source": [
    "<b> Now visualising the income distribution of customers."
   ]
  },
  {
   "cell_type": "code",
   "execution_count": 10,
   "id": "acc8a681",
   "metadata": {},
   "outputs": [
    {
     "data": {
      "image/png": "[encoded data removed]",
      "text/plain": [
       "<Figure size 2500x800 with 1 Axes>"
      ]
     },
     "metadata": {},
     "output_type": "display_data"
    }
   ],
   "source": [
    "# Visualising the income distribution of customers\n",
    "plt.figure(figsize=(25,8))\n",
    "sns.countplot(x=\"Annual Income (k$)\",data=data,palette=\"pastel\")\n",
    "\n",
    "# Display all figures.\n",
    "plt.show()"
   ]
  },
  {
   "cell_type": "markdown",
   "id": "73f6de64",
   "metadata": {},
   "source": [
    "<b> From the above plot, Customers with annual income of 54k and 78k make for the largest number of customers."
   ]
  },
  {
   "cell_type": "markdown",
   "id": "b203eb5a",
   "metadata": {},
   "source": [
    "<b> Visualising the spending score of customers."
   ]
  },
  {
   "cell_type": "code",
   "execution_count": 11,
   "id": "14841285",
   "metadata": {},
   "outputs": [
    {
     "data": {
      "image/png": "[encoded data removed]",
      "text/plain": [
       "<Figure size 2500x800 with 1 Axes>"
      ]
     },
     "metadata": {},
     "output_type": "display_data"
    }
   ],
   "source": [
    "# Visualising the spending score of customers\n",
    "plt.figure(figsize=(25,8))\n",
    "sns.countplot(x=\"Spending Score (1-100)\",data=data,palette=\"pastel\")\n",
    "\n",
    "# Display all figures.\n",
    "plt.show()"
   ]
  },
  {
   "cell_type": "markdown",
   "id": "a57c2153",
   "metadata": {},
   "source": [
    "<b> From the above plot, The maximum spending score is 42."
   ]
  },
  {
   "cell_type": "markdown",
   "id": "92c7681d",
   "metadata": {},
   "source": [
    "<b> Finding correaltion between all the parameters in the dataset."
   ]
  },
  {
   "cell_type": "code",
   "execution_count": 12,
   "id": "7f90f1ca",
   "metadata": {},
   "outputs": [
    {
     "data": {
      "image/png": "[encoded data removed]",
      "text/plain": [
       "<Figure size 1100x800 with 2 Axes>"
      ]
     },
     "metadata": {},
     "output_type": "display_data"
    }
   ],
   "source": [
    "# Finding correaltion between all the parameters in the dataset.\n",
    "fig,ax = plt.subplots(figsize=(11,8))\n",
    "sns.heatmap(data.corr(),annot=True,cmap=\"Blues\" ,ax=ax)\n",
    "\n",
    "# Display all figures.\n",
    "plt.show()"
   ]
  },
  {
   "cell_type": "markdown",
   "id": "d66a169b",
   "metadata": {},
   "source": [
    "<b> Based on the above correlation matrix, now making clusters based on Annual income and Spending Score."
   ]
  },
  {
   "cell_type": "markdown",
   "id": "f42174f8",
   "metadata": {},
   "source": [
    "### 3.2 Data Cleaning\n",
    "<b> Checking the Empty cells / Missing values :\n",
    "- The isnull().sum() method returns the total number of missing values (count) present in the each column."
   ]
  },
  {
   "cell_type": "code",
   "execution_count": 13,
   "id": "26507328",
   "metadata": {},
   "outputs": [
    {
     "data": {
      "text/plain": [
       "CustomerID                0\n",
       "Gender                    0\n",
       "Age                       0\n",
       "Annual Income (k$)        0\n",
       "Spending Score (1-100)    0\n",
       "dtype: int64"
      ]
     },
     "execution_count": 13,
     "metadata": {},
     "output_type": "execute_result"
    }
   ],
   "source": [
    "# Check the missing values records.\n",
    "data.isnull().sum()"
   ]
  },
  {
   "cell_type": "markdown",
   "id": "71d12ffb",
   "metadata": {},
   "source": [
    "<b> In the above, we can see that there is no missing values."
   ]
  },
  {
   "cell_type": "markdown",
   "id": "18e88067",
   "metadata": {},
   "source": [
    "### 3.3 Extracting Independent Variables.\n",
    "    \n",
    "<b> Here we don't need any dependent variable for data pre-processing step as it is a clustering problem, and we have no idea about what to determine. So we will just add a line of code for the matrix of features."
   ]
  },
  {
   "cell_type": "code",
   "execution_count": 14,
   "id": "1b04bfa9",
   "metadata": {},
   "outputs": [],
   "source": [
    "# Create x variable.\n",
    "x = data.iloc[:, [3, 4]].values                                                      "
   ]
  },
  {
   "cell_type": "markdown",
   "id": "35b9a417",
   "metadata": {},
   "source": [
    "<b> As we can see, we are extracting only 3rd and 4th feature. It is because we need a 2d plot to visualize the model, and some features are not required, such as customer_id, Age and Gender."
   ]
  },
  {
   "cell_type": "markdown",
   "id": "d2debcd6",
   "metadata": {},
   "source": [
    "## Step - 4 : DBSCAN MODEL BUILDING:\n",
    "DBSCAN model requires 2 important parameters - eps (which is the radius of the cluster) and the min_samples which is the minimum number of data points within each cluster. We can now train our model. The code is given below:"
   ]
  },
  {
   "cell_type": "code",
   "execution_count": 15,
   "id": "edc1fc97",
   "metadata": {},
   "outputs": [],
   "source": [
    "# Modelling - model building with 8 as eps and 4 as the minimum number of samples on \"x\" object.\n",
    "\n",
    "# import the DBSCAN from sklearn.cluster library.\n",
    "from sklearn.cluster import DBSCAN \n",
    "\n",
    "# creating object hc of class AgglomerativeClustering()\n",
    "dbs= DBSCAN(eps=8, min_samples=4)      \n",
    "\n",
    "# Predict\n",
    "y_dbs= dbs.fit_predict(x)\n"
   ]
  },
  {
   "cell_type": "markdown",
   "id": "ca1ef0ff",
   "metadata": {},
   "source": [
    "In the above code, we have imported the DBSCAN class of cluster module of scikit learn library.\n",
    "\n",
    "Then we have created the object of this class named as dbs. The DBSCAN class takes the following parameters:\n",
    "\n",
    "- EPS (default=0.5): It is considered as the maximum radius of the neighborhood.\n",
    "\n",
    "\n",
    "- MinPts (default=5): MinPts refers to the minimum number of points in an Eps neighborhood of that point.\n",
    "\n",
    "\n",
    "- metric (default='euclidean): The metric to use when calculating distance between instances in a feature array.\n",
    "\n",
    "\n",
    "In the last line, we have created the dependent variable y_dbs to fit or train the model. It does train not only the model but also returns the clusters to which each data point belongs."
   ]
  },
  {
   "cell_type": "code",
   "execution_count": 16,
   "id": "5841b73d",
   "metadata": {},
   "outputs": [
    {
     "data": {
      "text/plain": [
       "array([ 2,  0,  1,  0,  2,  0,  1, -1,  1,  0,  1, -1,  1,  0,  1,  0,  2,\n",
       "        0,  2, -1,  2,  0,  1,  0, -1,  0,  2, -1,  2,  0,  1,  0, -1,  0,\n",
       "       -1,  0, -1,  0,  3,  0,  3, -1,  3,  3,  3,  3,  3,  3,  3,  3,  3,\n",
       "        3,  3,  3,  3,  3,  3,  3,  3,  3,  3,  3,  3,  3,  3,  3,  3,  3,\n",
       "        3,  3,  3,  3,  3,  3,  3,  3,  3,  3,  3,  3,  3,  3,  3,  3,  3,\n",
       "        3,  3,  3,  3,  3,  3,  3,  3,  3,  3,  3,  3,  3,  3,  3,  3,  3,\n",
       "        3,  3,  3,  3,  3,  3,  3,  3,  3,  3,  3,  3,  3,  3,  3,  3,  3,\n",
       "        3,  3,  3,  3,  4,  3,  4,  3,  4,  5,  4,  5,  4,  3,  4,  5,  4,\n",
       "        5,  4,  5,  4,  5,  4,  3,  4,  5,  4,  3,  4,  5,  4,  5,  4,  5,\n",
       "        4,  5,  4,  5,  4,  5,  4,  3,  4,  5,  4,  5,  4,  5,  4,  5,  4,\n",
       "        5,  4,  5,  4,  5,  4,  5,  4,  5,  4, -1,  4,  5,  4, -1, -1,  6,\n",
       "       -1,  6,  4,  6, -1, -1, -1, -1, -1, -1, -1, -1, -1], dtype=int64)"
      ]
     },
     "execution_count": 16,
     "metadata": {},
     "output_type": "execute_result"
    }
   ],
   "source": [
    "# print the y_dbs\n",
    "y_dbs"
   ]
  },
  {
   "cell_type": "markdown",
   "id": "83ab89b4",
   "metadata": {},
   "source": [
    "<b> Creating the \"y_dbs\" to DataFrame as \"cluster\" and same storing in the data object."
   ]
  },
  {
   "cell_type": "code",
   "execution_count": 17,
   "id": "218b035f",
   "metadata": {},
   "outputs": [
    {
     "data": {
      "text/html": [
       "<div>\n",
       "<style scoped>\n",
       "    .dataframe tbody tr th:only-of-type {\n",
       "        vertical-align: middle;\n",
       "    }\n",
       "\n",
       "    .dataframe tbody tr th {\n",
       "        vertical-align: top;\n",
       "    }\n",
       "\n",
       "    .dataframe thead th {\n",
       "        text-align: right;\n",
       "    }\n",
       "</style>\n",
       "<table border=\"1\" class=\"dataframe\">\n",
       "  <thead>\n",
       "    <tr style=\"text-align: right;\">\n",
       "      <th></th>\n",
       "      <th>CustomerID</th>\n",
       "      <th>Gender</th>\n",
       "      <th>Age</th>\n",
       "      <th>Annual Income (k$)</th>\n",
       "      <th>Spending Score (1-100)</th>\n",
       "      <th>cluster</th>\n",
       "    </tr>\n",
       "  </thead>\n",
       "  <tbody>\n",
       "    <tr>\n",
       "      <th>0</th>\n",
       "      <td>1</td>\n",
       "      <td>Male</td>\n",
       "      <td>19</td>\n",
       "      <td>15</td>\n",
       "      <td>39</td>\n",
       "      <td>2</td>\n",
       "    </tr>\n",
       "    <tr>\n",
       "      <th>1</th>\n",
       "      <td>2</td>\n",
       "      <td>Male</td>\n",
       "      <td>21</td>\n",
       "      <td>15</td>\n",
       "      <td>81</td>\n",
       "      <td>0</td>\n",
       "    </tr>\n",
       "    <tr>\n",
       "      <th>2</th>\n",
       "      <td>3</td>\n",
       "      <td>Female</td>\n",
       "      <td>20</td>\n",
       "      <td>16</td>\n",
       "      <td>6</td>\n",
       "      <td>1</td>\n",
       "    </tr>\n",
       "    <tr>\n",
       "      <th>3</th>\n",
       "      <td>4</td>\n",
       "      <td>Female</td>\n",
       "      <td>23</td>\n",
       "      <td>16</td>\n",
       "      <td>77</td>\n",
       "      <td>0</td>\n",
       "    </tr>\n",
       "    <tr>\n",
       "      <th>4</th>\n",
       "      <td>5</td>\n",
       "      <td>Female</td>\n",
       "      <td>31</td>\n",
       "      <td>17</td>\n",
       "      <td>40</td>\n",
       "      <td>2</td>\n",
       "    </tr>\n",
       "    <tr>\n",
       "      <th>...</th>\n",
       "      <td>...</td>\n",
       "      <td>...</td>\n",
       "      <td>...</td>\n",
       "      <td>...</td>\n",
       "      <td>...</td>\n",
       "      <td>...</td>\n",
       "    </tr>\n",
       "    <tr>\n",
       "      <th>195</th>\n",
       "      <td>196</td>\n",
       "      <td>Female</td>\n",
       "      <td>35</td>\n",
       "      <td>120</td>\n",
       "      <td>79</td>\n",
       "      <td>-1</td>\n",
       "    </tr>\n",
       "    <tr>\n",
       "      <th>196</th>\n",
       "      <td>197</td>\n",
       "      <td>Female</td>\n",
       "      <td>45</td>\n",
       "      <td>126</td>\n",
       "      <td>28</td>\n",
       "      <td>-1</td>\n",
       "    </tr>\n",
       "    <tr>\n",
       "      <th>197</th>\n",
       "      <td>198</td>\n",
       "      <td>Male</td>\n",
       "      <td>32</td>\n",
       "      <td>126</td>\n",
       "      <td>74</td>\n",
       "      <td>-1</td>\n",
       "    </tr>\n",
       "    <tr>\n",
       "      <th>198</th>\n",
       "      <td>199</td>\n",
       "      <td>Male</td>\n",
       "      <td>32</td>\n",
       "      <td>137</td>\n",
       "      <td>18</td>\n",
       "      <td>-1</td>\n",
       "    </tr>\n",
       "    <tr>\n",
       "      <th>199</th>\n",
       "      <td>200</td>\n",
       "      <td>Male</td>\n",
       "      <td>30</td>\n",
       "      <td>137</td>\n",
       "      <td>83</td>\n",
       "      <td>-1</td>\n",
       "    </tr>\n",
       "  </tbody>\n",
       "</table>\n",
       "<p>200 rows × 6 columns</p>\n",
       "</div>"
      ],
      "text/plain": [
       "     CustomerID  Gender  Age  Annual Income (k$)  Spending Score (1-100)  \\\n",
       "0             1    Male   19                  15                      39   \n",
       "1             2    Male   21                  15                      81   \n",
       "2             3  Female   20                  16                       6   \n",
       "3             4  Female   23                  16                      77   \n",
       "4             5  Female   31                  17                      40   \n",
       "..          ...     ...  ...                 ...                     ...   \n",
       "195         196  Female   35                 120                      79   \n",
       "196         197  Female   45                 126                      28   \n",
       "197         198    Male   32                 126                      74   \n",
       "198         199    Male   32                 137                      18   \n",
       "199         200    Male   30                 137                      83   \n",
       "\n",
       "     cluster  \n",
       "0          2  \n",
       "1          0  \n",
       "2          1  \n",
       "3          0  \n",
       "4          2  \n",
       "..       ...  \n",
       "195       -1  \n",
       "196       -1  \n",
       "197       -1  \n",
       "198       -1  \n",
       "199       -1  \n",
       "\n",
       "[200 rows x 6 columns]"
      ]
     },
     "execution_count": 17,
     "metadata": {},
     "output_type": "execute_result"
    }
   ],
   "source": [
    "# Creating the \"y_dbs\" to DataFrame as \"cluster\" and same storing in the \"data\" object.\n",
    "data[\"cluster\"] = pd.DataFrame(y_dbs)\n",
    "\n",
    "# print the dataset.\n",
    "data"
   ]
  },
  {
   "cell_type": "code",
   "execution_count": 18,
   "id": "0ddcc493",
   "metadata": {},
   "outputs": [
    {
     "data": {
      "text/plain": [
       "array([ 2,  0,  1, -1,  3,  4,  5,  6], dtype=int64)"
      ]
     },
     "execution_count": 18,
     "metadata": {},
     "output_type": "execute_result"
    }
   ],
   "source": [
    "# print the unique clusters\n",
    "data[\"cluster\"].unique()"
   ]
  },
  {
   "cell_type": "code",
   "execution_count": 19,
   "id": "c11af12a",
   "metadata": {},
   "outputs": [
    {
     "data": {
      "text/plain": [
       "22"
      ]
     },
     "execution_count": 19,
     "metadata": {},
     "output_type": "execute_result"
    }
   ],
   "source": [
    "#finding outliers in our model\n",
    "np.sum(data[\"cluster\"]==-1)"
   ]
  },
  {
   "cell_type": "markdown",
   "id": "4486a9f6",
   "metadata": {},
   "source": [
    "<b> The values have -1 as output which symbolifies outliers. Eventhough our model has a few outliers we can see that clusters are formed between 0 to 6. Hence 7 number of clusters are totally formed."
   ]
  },
  {
   "cell_type": "markdown",
   "id": "e58e2ebb",
   "metadata": {},
   "source": [
    "## Step - 5 : DBSCAN Model Evaluation :\n",
    "<b> Calculate Silhouette score for DBSCAN clusters with eps=8, min_samples=4\n",
    "    \n",
    "<b> silhouette_score (sklearn.metrics) for the data set is used for measuring the mean of the Silhouette Coefficient for each sample belonging to different clusters.\n",
    "    \n",
    "<b> silhouette_samples (sklearn.metrics) provides the Silhouette scores for each sample of different clusters."
   ]
  },
  {
   "cell_type": "code",
   "execution_count": 20,
   "id": "f304cd31",
   "metadata": {},
   "outputs": [
    {
     "name": "stdout",
     "output_type": "stream",
     "text": [
      "Silhouetter Score: 0.389\n"
     ]
    }
   ],
   "source": [
    "# Calculate Silhoutte Score for DBSCAN Modelling\n",
    "\n",
    "# import the silhouette_score class from sklearn.metrics library.\n",
    "from sklearn.metrics import silhouette_score\n",
    "\n",
    "# Calculate Silhoutte Score\n",
    "score = silhouette_score(x, dbs.labels_, metric='euclidean')\n",
    "\n",
    "# Print the score\n",
    "print('Silhouetter Score: %.3f' % score)"
   ]
  },
  {
   "cell_type": "markdown",
   "id": "01fa4b18",
   "metadata": {},
   "source": [
    "As we can see in the above code, we have used the silhouette_score class of sklearn,metrics library to form the score. In the second line, we have calculated silhouette score for DBSCAN clusters with eps=8, min_samples=4. The parameters of silhouette score as:\n",
    "    \n",
    "- X: An array of pairwise distances between samples, or a feature array (independent variables).\n",
    "    \n",
    "    \n",
    "- labels_ : Predicted labels for each sample.\n",
    "    \n",
    "    \n",
    "- metric (default=’euclidean’): The metric to use when calculating distance between instances in a feature array.\n",
    "    \n",
    "    \n",
    "And finally printed the Mean Silhouette Coefficient for all samples. So the Silhouetter Score=0.389, based on the score we conclude that we have got a best (good) model for this dataset on eps=8, min_samples=4. \n",
    "    \n",
    "    \n",
    "**Note:** The best value is 1 and the worst value is -1. Values near 0 indicate overlapping clusters. Negative values generally indicate that a sample has been assigned to the wrong cluster, as a different cluster is more similar.    \n",
    "    "
   ]
  }
 ],
 "metadata": {
  "kernelspec": {
   "display_name": "Python 3 (ipykernel)",
   "language": "python",
   "name": "python3"
  },
  "language_info": {
   "codemirror_mode": {
    "name": "ipython",
    "version": 3
   },
   "file_extension": ".py",
   "mimetype": "text/x-python",
   "name": "python",
   "nbconvert_exporter": "python",
   "pygments_lexer": "ipython3",
   "version": "3.9.13"
  }
 },
 "nbformat": 4,
 "nbformat_minor": 5
}
