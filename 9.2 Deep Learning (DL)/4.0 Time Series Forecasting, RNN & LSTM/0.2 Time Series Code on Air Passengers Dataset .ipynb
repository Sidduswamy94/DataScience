{
 "cells": [
  {
   "cell_type": "markdown",
   "id": "5232c32f",
   "metadata": {},
   "source": [
    "# Predict Air Passenger based on the previous data.\n",
    "<b> This dataset provides monthly totals of a US airline passengers from 1949 to 1960. This dataset is taken from an inbuilt dataset of R called AirPassengers.\n",
    "    \n",
    "    \n",
    "<b> The Airline Passenger time series covers roughly a decade of passengers booking numbers (in thousands) in commercial airline flights from 1949 to 1961 and has values for each month of the year. The Pan Am company used the data to predict future demand before ordering new aircraft and training aircrew.\n",
    "    \n",
    "    \n",
    "<b> It's particularly popular with testing and demonstrating time series approaches and methodologies because it displays many interesting behaviors. In particular:\n",
    "\n",
    "- <b> Upward trend\n",
    "- <b> Seasonal behavior\n",
    "- <b> Regular peaks, every 12 months, corresponding roughly to the summer months\n",
    "- <b> Growing variance, where the size of the peaks is actually increasing in time\n",
    "    \n",
    "    \n",
    "<b> This means that it's particularly well suited to test different types of algorithms and different types of methodologies for time series.    "
   ]
  },
  {
   "cell_type": "markdown",
   "id": "d5ab80c6",
   "metadata": {},
   "source": [
    "### Import Libraries"
   ]
  },
  {
   "cell_type": "code",
   "execution_count": 1,
   "id": "7b76e698",
   "metadata": {},
   "outputs": [],
   "source": [
    "import pandas as pd\n",
    "import numpy as np\n",
    "import matplotlib.pyplot as plt\n",
    "import seaborn as sns\n",
    "\n",
    "import warnings\n",
    "warnings.filterwarnings('ignore')"
   ]
  },
  {
   "cell_type": "markdown",
   "id": "3ccec32b",
   "metadata": {},
   "source": [
    "### Data Collection/Loading the dataset\n",
    "<b> Load the dataset by using read_csv() to read the dataset and save it to the 'df' variable and take a look at the first 5 lines using the head() method."
   ]
  },
  {
   "cell_type": "code",
   "execution_count": 2,
   "id": "5f4c8076",
   "metadata": {},
   "outputs": [
    {
     "data": {
      "text/html": [
       "<div>\n",
       "<style scoped>\n",
       "    .dataframe tbody tr th:only-of-type {\n",
       "        vertical-align: middle;\n",
       "    }\n",
       "\n",
       "    .dataframe tbody tr th {\n",
       "        vertical-align: top;\n",
       "    }\n",
       "\n",
       "    .dataframe thead th {\n",
       "        text-align: right;\n",
       "    }\n",
       "</style>\n",
       "<table border=\"1\" class=\"dataframe\">\n",
       "  <thead>\n",
       "    <tr style=\"text-align: right;\">\n",
       "      <th></th>\n",
       "      <th>Month</th>\n",
       "      <th>Passengers</th>\n",
       "    </tr>\n",
       "  </thead>\n",
       "  <tbody>\n",
       "    <tr>\n",
       "      <th>0</th>\n",
       "      <td>15-01-1949</td>\n",
       "      <td>112</td>\n",
       "    </tr>\n",
       "    <tr>\n",
       "      <th>1</th>\n",
       "      <td>15-02-1949</td>\n",
       "      <td>118</td>\n",
       "    </tr>\n",
       "    <tr>\n",
       "      <th>2</th>\n",
       "      <td>15-03-1949</td>\n",
       "      <td>132</td>\n",
       "    </tr>\n",
       "    <tr>\n",
       "      <th>3</th>\n",
       "      <td>15-04-1949</td>\n",
       "      <td>129</td>\n",
       "    </tr>\n",
       "    <tr>\n",
       "      <th>4</th>\n",
       "      <td>15-05-1949</td>\n",
       "      <td>121</td>\n",
       "    </tr>\n",
       "  </tbody>\n",
       "</table>\n",
       "</div>"
      ],
      "text/plain": [
       "        Month  Passengers\n",
       "0  15-01-1949         112\n",
       "1  15-02-1949         118\n",
       "2  15-03-1949         132\n",
       "3  15-04-1949         129\n",
       "4  15-05-1949         121"
      ]
     },
     "execution_count": 2,
     "metadata": {},
     "output_type": "execute_result"
    }
   ],
   "source": [
    "# Load the dataset.\n",
    "df = pd.read_csv('AirPassengers.csv')\n",
    "\n",
    "# Display the first 5 lines using the head() method.\n",
    "df.head()"
   ]
  },
  {
   "cell_type": "markdown",
   "id": "f51e191f",
   "metadata": {},
   "source": [
    "### Data Understanding\n",
    "<b> Let’s have a look at data dimensionality."
   ]
  },
  {
   "cell_type": "code",
   "execution_count": 3,
   "id": "35b12725",
   "metadata": {},
   "outputs": [
    {
     "data": {
      "text/plain": [
       "(144, 2)"
      ]
     },
     "execution_count": 3,
     "metadata": {},
     "output_type": "execute_result"
    }
   ],
   "source": [
    "df.shape"
   ]
  },
  {
   "cell_type": "markdown",
   "id": "1fc4e488",
   "metadata": {},
   "source": [
    "<b> From the output, we can see that the table contains 144 rows and 2 columns.\n",
    "\n",
    "<b> We can use the info() method to output some general information about the dataframe :"
   ]
  },
  {
   "cell_type": "code",
   "execution_count": 4,
   "id": "ae3a0e59",
   "metadata": {},
   "outputs": [
    {
     "name": "stdout",
     "output_type": "stream",
     "text": [
      "<class 'pandas.core.frame.DataFrame'>\n",
      "RangeIndex: 144 entries, 0 to 143\n",
      "Data columns (total 2 columns):\n",
      " #   Column      Non-Null Count  Dtype \n",
      "---  ------      --------------  ----- \n",
      " 0   Month       144 non-null    object\n",
      " 1   Passengers  144 non-null    int64 \n",
      "dtypes: int64(1), object(1)\n",
      "memory usage: 2.4+ KB\n"
     ]
    }
   ],
   "source": [
    "df.info()"
   ]
  },
  {
   "cell_type": "markdown",
   "id": "a58a3a22",
   "metadata": {},
   "source": [
    "<b> object and int64 are the data types of our features. We see that the 1 feature is int64 + 1 feature is object). With this same method, we can easily see if there are any missing values. Here, there are none because each column contains 144 observations, the same number of rows we saw before with shape.\n",
    "    \n",
    "    \n",
    "<b> The 'Air Passengers' Dataset contains:\n",
    "    \n",
    "- **Month:** Months which passengers are booked tickets.\n",
    "    \n",
    "\n",
    "- **Passengers:** Number of persons booked the tickets in that perticular month."
   ]
  },
  {
   "cell_type": "markdown",
   "id": "3c37fa99",
   "metadata": {},
   "source": [
    "<b> Now, we will need to index Month column by using set_index() method."
   ]
  },
  {
   "cell_type": "code",
   "execution_count": 5,
   "id": "5da043b8",
   "metadata": {},
   "outputs": [
    {
     "data": {
      "text/html": [
       "<div>\n",
       "<style scoped>\n",
       "    .dataframe tbody tr th:only-of-type {\n",
       "        vertical-align: middle;\n",
       "    }\n",
       "\n",
       "    .dataframe tbody tr th {\n",
       "        vertical-align: top;\n",
       "    }\n",
       "\n",
       "    .dataframe thead th {\n",
       "        text-align: right;\n",
       "    }\n",
       "</style>\n",
       "<table border=\"1\" class=\"dataframe\">\n",
       "  <thead>\n",
       "    <tr style=\"text-align: right;\">\n",
       "      <th></th>\n",
       "      <th>Passengers</th>\n",
       "    </tr>\n",
       "    <tr>\n",
       "      <th>Month</th>\n",
       "      <th></th>\n",
       "    </tr>\n",
       "  </thead>\n",
       "  <tbody>\n",
       "    <tr>\n",
       "      <th>15-01-1949</th>\n",
       "      <td>112</td>\n",
       "    </tr>\n",
       "    <tr>\n",
       "      <th>15-02-1949</th>\n",
       "      <td>118</td>\n",
       "    </tr>\n",
       "    <tr>\n",
       "      <th>15-03-1949</th>\n",
       "      <td>132</td>\n",
       "    </tr>\n",
       "    <tr>\n",
       "      <th>15-04-1949</th>\n",
       "      <td>129</td>\n",
       "    </tr>\n",
       "    <tr>\n",
       "      <th>15-05-1949</th>\n",
       "      <td>121</td>\n",
       "    </tr>\n",
       "  </tbody>\n",
       "</table>\n",
       "</div>"
      ],
      "text/plain": [
       "            Passengers\n",
       "Month                 \n",
       "15-01-1949         112\n",
       "15-02-1949         118\n",
       "15-03-1949         132\n",
       "15-04-1949         129\n",
       "15-05-1949         121"
      ]
     },
     "execution_count": 5,
     "metadata": {},
     "output_type": "execute_result"
    }
   ],
   "source": [
    "# Set the 'Month' variable as index \n",
    "df = df.set_index('Month')\n",
    "\n",
    "# Display the first 5 lines using the head() method.\n",
    "df.head()"
   ]
  },
  {
   "cell_type": "markdown",
   "id": "3743529a",
   "metadata": {},
   "source": [
    "### Visualize the Time Series \n",
    "<b> Check for trend, stationarity, seasonality or random patterns."
   ]
  },
  {
   "cell_type": "code",
   "execution_count": 7,
   "id": "d2f10584",
   "metadata": {},
   "outputs": [
    {
     "data": {
      "image/png": "[encoded data removed]",
      "text/plain": [
       "<Figure size 640x480 with 1 Axes>"
      ]
     },
     "metadata": {},
     "output_type": "display_data"
    }
   ],
   "source": [
    "# Apply the lineplot\n",
    "sns.lineplot(x=df.index, y=df[\"Passengers\"])\n",
    "\n",
    "# Display the plot\n",
    "plt.show()"
   ]
  },
  {
   "cell_type": "markdown",
   "id": "ee849c3e",
   "metadata": {},
   "source": [
    "From the graph we can see that the series is not stationary. It has a clear upward trend and seasonal behavior. The peaks tend to happen very regularly, every 12 months and we also have a growing variance pattern where the size of the peaks is actually increasing in time.\n",
    "\n",
    "\n",
    "There are two methods to check the stationarity, one is Rolling statistics and another one is Augmented Dicky Fuller Test (DFT). So now we will go with one by one.\n",
    "    \n",
    "    \n",
    "<b> Checking for stationarity by 'Rolling Statistics'\n",
    "    \n",
    "The most common method to check whether a given data comes from a stationary series or not is by simply plotting the data or some function of it. Plot the moving average (mean) or moving variance (std) to check the if it is varies with time."
   ]
  },
  {
   "cell_type": "code",
   "execution_count": 9,
   "id": "2e434acd",
   "metadata": {},
   "outputs": [
    {
     "data": {
      "image/png": "[encoded data removed]",
      "text/plain": [
       "<Figure size 640x480 with 1 Axes>"
      ]
     },
     "metadata": {},
     "output_type": "display_data"
    }
   ],
   "source": [
    "# Determing rolling statistics\n",
    "rolmean = df['Passengers'].rolling(window=12).mean()         # Calculate the mean of 12 months\n",
    "rolstd = df['Passengers'].rolling(window=12).std()           # Calculate the standard deviation of 12 months\n",
    "\n",
    "# Plot rolling statistics\n",
    "orig = plt.plot(df['Passengers'], color='blue', label='original')\n",
    "mean = plt.plot(rolmean, color='red', label='Rolling Mean')\n",
    "std = plt.plot(rolstd, color='black', label='Rolling Std')\n",
    "plt.title('Rolling Mean & Standard Deviation')\n",
    "plt.xlabel('Month')\n",
    "plt.ylabel('Passengers')\n",
    "plt.legend()\n",
    "plt.show()"
   ]
  },
  {
   "cell_type": "markdown",
   "id": "12a73a82",
   "metadata": {},
   "source": [
    "From the graph we can see that the series is not stationary. It has a clear upward trend and seasonal behavior. From the above figure, we can see that the mean and variance increase constantly. \n",
    "\n",
    "In the above we have used 'Series.rolling(window)' function, which is:\n",
    "\n",
    "- It provide rolling window calculations. \n",
    "\n",
    "\n",
    "- window: Size of the moving window.\n",
    "\n",
    "Here we have used 12 months window, based on that we have calculated mean, std and plots the different plots."
   ]
  },
  {
   "cell_type": "markdown",
   "id": "12a9fa72",
   "metadata": {},
   "source": [
    "<b> Checking for stationarity by 'Augmented Dicky Fuller Test (DFT)'\n",
    "    \n",
    "The Augmented Dickey-Fuller test is one of the most popular tests to check for stationarity. It tests the below hypothesis.\n",
    "    \n",
    "    \n",
    "- Null Hypothesis, H0: The data is not stationary.\n",
    "- Alternative Hypothesis, H1: The data is stationary.\n",
    "    \n",
    "    \n",
    "We can use the adfuller method from the statsmodels library to perform this test in Python and compare the value of the test statistics or the p-value.\n",
    "    \n",
    "    \n",
    "Based on the p-value, we will accept the or reject Null Hypothesis (HO) - (If p-value < 0.05 reject Null Hypothesis) "
   ]
  },
  {
   "cell_type": "code",
   "execution_count": 18,
   "id": "12a4fd51",
   "metadata": {},
   "outputs": [
    {
     "name": "stdout",
     "output_type": "stream",
     "text": [
      "Dickey Fuller test statistic      0.815369\n",
      "p-value                           0.991880\n",
      "#Lags Used                       13.000000\n",
      "Number of Observations Used     130.000000\n",
      "Critical Value ('1%')            -3.481682\n",
      "Critical Value ('5%')            -2.884042\n",
      "Critical Value ('10%')           -2.578770\n",
      "dtype: float64\n"
     ]
    }
   ],
   "source": [
    "# import the 'adfuller' class from statsmodels library\n",
    "from statsmodels.tsa.stattools import adfuller\n",
    "\n",
    "# Checking the stationarity by 'Augmented Dicky Fuller Test (DFT)'\n",
    "adfuller_test = adfuller(df['Passengers'])\n",
    "\n",
    "adfuller_result = pd.Series(adfuller_test[0:4], index=['Dickey Fuller test statistic','p-value',\n",
    "                             '#Lags Used','Number of Observations Used'])\n",
    "\n",
    "for key,value in adfuller_test[4].items():\n",
    "    adfuller_result['Critical Value (%r)'%key] = value\n",
    "print(adfuller_result)"
   ]
  },
  {
   "cell_type": "markdown",
   "id": "5a75dbb2",
   "metadata": {},
   "source": [
    "In the above, first we have imported the 'adfuller' class from the statsmodels library and applyied the 'adfuller' class on 'Passengers' variable. The 'adfuller' class returns as follows:\n",
    "\n",
    "- adf : The test statistic.\n",
    "\n",
    "\n",
    "- pvalue : p-value based on MacKinnon (1994, 2010).\n",
    "\n",
    "\n",
    "- usedlag : The number of lags used.\n",
    "\n",
    "\n",
    "- nobs : The number of observations used for the ADF regression and calculation of the critical values.\n",
    "\n",
    "\n",
    "- critical values : dict - Critical values for the test statistic at the 1 %, 5 %, and 10 % levels. Based on MacKinnon (2010). \n",
    "\n",
    "\n",
    "For a Time series to be stationary, its ADCF test should have:\n",
    "\n",
    "- p-value less than 0.05\n",
    "\n",
    "\n",
    "- critical values at 1%, 5%, 10% confidence intervals greater than the value of the Test Statistics. \n",
    "\n",
    "\n",
    "<b> In our case the p-value is almost maximum (1.0) and the critical values are far from the test statistic so we fail to reject the Null Hypothesis that the series is not stationary."
   ]
  },
  {
   "cell_type": "markdown",
   "id": "4b863ab5",
   "metadata": {},
   "source": [
    "### Now, we have to convert the non-stationary data to stationary data\n",
    "<b> Here we are converting the non-stationary data to stationary data by 'Differencing' method by using 'Time Shift Transformation'.\n",
    "    \n",
    "Differencing is performed by substracting the previous observation from the current observation.\n",
    "    \n",
    "    Δyt = (yt) – (yt-1)\n",
    "    \n",
    "    \n",
    "Where,\n",
    "\n",
    "- 'Δyt' is the difference between two successive values.\n",
    "\n",
    "    \n",
    "- 'yt' is the value of y at t and 'yt-1' is the value preceding yt.\n",
    "    \n",
    "    "
   ]
  },
  {
   "cell_type": "code",
   "execution_count": 41,
   "id": "183df61d",
   "metadata": {},
   "outputs": [
    {
     "name": "stdout",
     "output_type": "stream",
     "text": [
      "Dickey Fuller test statistic     -2.961695\n",
      "p-value                           0.038630\n",
      "#Lags Used                       11.000000\n",
      "Number of Observations Used     130.000000\n",
      "Critical Value ('1%')            -3.481682\n",
      "Critical Value ('5%')            -2.884042\n",
      "Critical Value ('10%')           -2.578770\n",
      "dtype: float64\n"
     ]
    }
   ],
   "source": [
    "# Apply differenting\n",
    "diff = df[\"Passengers\"] - df['Passengers'].shift(2)\n",
    "\n",
    "# dropping the 'NaN' values from the 'diff' object\n",
    "diff.dropna(inplace=True)\n",
    "\n",
    "# Applying ADF test\n",
    "adfuller_output = adfuller(diff)\n",
    "\n",
    "adfuller_result = pd.Series(adfuller_output[0:4], index=['Dickey Fuller test statistic','p-value',\n",
    "                             '#Lags Used','Number of Observations Used'])\n",
    "\n",
    "for key,value in adfuller_test[4].items():\n",
    "    adfuller_result['Critical Value (%r)'%key] = value\n",
    "print(adfuller_result)"
   ]
  },
  {
   "cell_type": "markdown",
   "id": "e6939668",
   "metadata": {},
   "source": [
    "<b> Now we can see that, the p-value is less than 0.05. So we are going to reject the Null Hypothesis that the series is stationary. Critical values at 1%,5%,10% confidence intervals are pretty close to the Test Statistic. So we can now say that given series is now STATIONARY"
   ]
  },
  {
   "cell_type": "markdown",
   "id": "f4a8fac9",
   "metadata": {},
   "source": [
    "<b> After dropping now let’s have a look at data dimensionality of 'diff' object."
   ]
  },
  {
   "cell_type": "code",
   "execution_count": 34,
   "id": "845b6ba8",
   "metadata": {},
   "outputs": [
    {
     "data": {
      "text/plain": [
       "(142,)"
      ]
     },
     "execution_count": 34,
     "metadata": {},
     "output_type": "execute_result"
    }
   ],
   "source": [
    "diff.shape"
   ]
  },
  {
   "cell_type": "markdown",
   "id": "95c5e3e4",
   "metadata": {},
   "source": [
    "<b> Now, we can see that we have only 142 records, because we have dropped 'NaN' records from the 'diff' object."
   ]
  },
  {
   "cell_type": "markdown",
   "id": "b7441f27",
   "metadata": {},
   "source": [
    "### Plot ACF/PACF and find p, q, d parameters\n",
    "<b> Now we are going to plot the ACF/PACF and find p, q, d parameters."
   ]
  },
  {
   "cell_type": "code",
   "execution_count": 32,
   "id": "421fbd65",
   "metadata": {},
   "outputs": [
    {
     "data": {
      "image/png": "[encoded data removed]",
      "text/plain": [
       "<Figure size 640x480 with 1 Axes>"
      ]
     },
     "metadata": {},
     "output_type": "display_data"
    },
    {
     "data": {
      "image/png": "[encoded data removed]",
      "text/plain": [
       "<Figure size 640x480 with 1 Axes>"
      ]
     },
     "metadata": {},
     "output_type": "display_data"
    }
   ],
   "source": [
    "# import the 'acf, pacf' classes from statsmodels library\n",
    "from statsmodels.tsa.stattools import acf, pacf\n",
    "\n",
    "# import the 'statsmodels.api' as 'sm'\n",
    "import statsmodels.api as sm\n",
    "\n",
    "# plot the 'ACF' (Autocorrelation plot)\n",
    "fig = sm.graphics.tsa.plot_acf(diff, lags=40)\n",
    "\n",
    "# plot the 'PACF' (Partial Autocorrelation plot)\n",
    "fig = sm.graphics.tsa.plot_pacf(diff, lags=40)\n"
   ]
  },
  {
   "cell_type": "markdown",
   "id": "3682d3a2",
   "metadata": {},
   "source": [
    "<b> From the ACF curve, optimal value of 'q' in the ARIMA  model must be 1\n",
    "    \n",
    "<b> From the PACF curve, optimal value of 'p' in the ARIMA  model must be 1\n",
    "    \n",
    "<b> From the above, we have got the 'p & q' parameters."
   ]
  },
  {
   "cell_type": "markdown",
   "id": "6da09fca",
   "metadata": {},
   "source": [
    "### Train/Test Split\n",
    "<b> Now we are going to split the data into train (80%) & test (20%).\n",
    "    \n",
    "- For time series data, we have use first 80% of records for training & next 20% of records for testing. Here we are unable to apply 'train_test_split' function, because it will choose the train and test records randomly, but in time series we raquired sequential data not random data.\n",
    "    \n",
    "    \n",
    "- Here 80% = 0.8*142 = 114 records, so first 114 records we have to use for training and remaining 28 records for testing.\n",
    "    \n",
    "    \n",
    "<b> Note: We should not apply 'train_test_split' function, because it devides the data randomly.    "
   ]
  },
  {
   "cell_type": "code",
   "execution_count": 35,
   "id": "e49f7c27",
   "metadata": {},
   "outputs": [],
   "source": [
    "# split the data as train and test.\n",
    "y_train = diff[ :114]                # train data\n",
    "\n",
    "y_test = diff[114: ]                 # test data\n"
   ]
  },
  {
   "cell_type": "markdown",
   "id": "efdafdf4",
   "metadata": {},
   "source": [
    "### Build a ARIMA Model\n",
    "<b> ARIMA model is build by using p, d, q values.\n",
    "    \n",
    "- p is AR value (determined from PACF plot)\n",
    "    \n",
    "    \n",
    "- d is integration.\n",
    "    \n",
    "    \n",
    "- q is MA value (determined from ACF plot)\n",
    "    \n",
    "    \n",
    "<b> Modelling ARIMA"
   ]
  },
  {
   "cell_type": "code",
   "execution_count": 46,
   "id": "dd7415e7",
   "metadata": {},
   "outputs": [
    {
     "name": "stderr",
     "output_type": "stream",
     "text": [
      "C:\\Users\\Administrator\\anaconda3\\lib\\site-packages\\statsmodels\\tsa\\base\\tsa_model.py:471: ValueWarning: A date index has been provided, but it has no associated frequency information and so will be ignored when e.g. forecasting.\n",
      "  self._init_dates(dates, freq)\n",
      "C:\\Users\\Administrator\\anaconda3\\lib\\site-packages\\statsmodels\\tsa\\base\\tsa_model.py:471: ValueWarning: A date index has been provided, but it has no associated frequency information and so will be ignored when e.g. forecasting.\n",
      "  self._init_dates(dates, freq)\n",
      "C:\\Users\\Administrator\\anaconda3\\lib\\site-packages\\statsmodels\\tsa\\base\\tsa_model.py:471: ValueWarning: A date index has been provided, but it has no associated frequency information and so will be ignored when e.g. forecasting.\n",
      "  self._init_dates(dates, freq)\n"
     ]
    }
   ],
   "source": [
    "# ARIMA Modelling\n",
    "\n",
    "# import 'ARIMA' class from statsmodels.tsa.arima.model library\n",
    "from statsmodels.tsa.arima.model import ARIMA\n",
    "\n",
    "# Build the ARIMA model and save the model as \"model\"\n",
    "model = ARIMA(diff, order=(1, 2, 1))\n",
    "\n",
    "# Train the model and save as 'ARIMA' object\n",
    "ARIMA = model.fit()\n"
   ]
  },
  {
   "cell_type": "markdown",
   "id": "36b2a18c",
   "metadata": {},
   "source": [
    "<b> Prediction on ARIMA model"
   ]
  },
  {
   "cell_type": "code",
   "execution_count": 47,
   "id": "c3056dfc",
   "metadata": {},
   "outputs": [],
   "source": [
    "# Predict on the test data set.\n",
    "ypred_test = ARIMA.predict(start=y_test.index[0], end=y_test.index[-1])\n",
    "\n",
    "# Predict on the train data set.\n",
    "ypred_train = ARIMA.predict(start=y_train.index[0], end=y_train.index[-1])"
   ]
  },
  {
   "cell_type": "markdown",
   "id": "db6868ad",
   "metadata": {},
   "source": [
    "<b> Evaluation of ARIMA model"
   ]
  },
  {
   "cell_type": "code",
   "execution_count": 49,
   "id": "e5947611",
   "metadata": {},
   "outputs": [
    {
     "name": "stdout",
     "output_type": "stream",
     "text": [
      "Train R2: 0.34022485467749053\n",
      "Test R2: 0.4239665880025725\n"
     ]
    }
   ],
   "source": [
    "# import 'r2_score' class from sklearn.metrics library\n",
    "from sklearn.metrics import r2_score\n",
    "\n",
    "# print the train R2\n",
    "print('Train R2:', r2_score(ypred_train, y_train))\n",
    "\n",
    "# print the test R2\n",
    "print('Test R2:', r2_score(ypred_test, y_test))"
   ]
  },
  {
   "cell_type": "markdown",
   "id": "d94fb884",
   "metadata": {},
   "source": [
    "<b> Here ARIMA model is not performing well, because there is seasonality in the given data. So now we are building the SARIMA model (SARIMAX model)"
   ]
  },
  {
   "cell_type": "markdown",
   "id": "75c39f2f",
   "metadata": {},
   "source": [
    "### Build a SARIMA Model\n",
    "<b> SARIMA uses differencing at lag 12 to remove additive seasonal effects. As with lag 1 differencing to remove the trend, the lag 12 differencing introduces a moving average term. SARIMA includes AR and MA terms at lag 12.\n",
    "    \n",
    "<b> Whenever, there is seasonality in given data, apply SARIMA (SARIMAX) model. SARIMA model is build by using p, d, q, s values.\n",
    "\n",
    "- p is AR value (determined from PACF plot)\n",
    "    \n",
    "    \n",
    "- d is integration.\n",
    "    \n",
    "    \n",
    "- q is MA value (determined from ACF plot)\n",
    "    \n",
    "    \n",
    "- s is seasonality value\n",
    "    \n",
    "    \n",
    "<b> Modelling SARIMA (SARIMAX)"
   ]
  },
  {
   "cell_type": "code",
   "execution_count": 52,
   "id": "e5aadffa",
   "metadata": {},
   "outputs": [
    {
     "name": "stderr",
     "output_type": "stream",
     "text": [
      "C:\\Users\\Administrator\\anaconda3\\lib\\site-packages\\statsmodels\\tsa\\base\\tsa_model.py:471: ValueWarning: A date index has been provided, but it has no associated frequency information and so will be ignored when e.g. forecasting.\n",
      "  self._init_dates(dates, freq)\n",
      "C:\\Users\\Administrator\\anaconda3\\lib\\site-packages\\statsmodels\\tsa\\base\\tsa_model.py:471: ValueWarning: A date index has been provided, but it has no associated frequency information and so will be ignored when e.g. forecasting.\n",
      "  self._init_dates(dates, freq)\n"
     ]
    }
   ],
   "source": [
    "# SARIMA Modelling\n",
    "\n",
    "# import 'SARIMAX' class from statsmodels.tsa.statespace.sarimax library\n",
    "from statsmodels.tsa.statespace.sarimax import SARIMAX\n",
    "\n",
    "# Build the SARIMAX model and save the model as \"model\"\n",
    "model = SARIMAX(diff, seasonal_order=(1, 2, 1, 12))\n",
    "\n",
    "# Train the model and save as 'SARIMAX' object\n",
    "SARIMAX = model.fit()"
   ]
  },
  {
   "cell_type": "markdown",
   "id": "cf873938",
   "metadata": {},
   "source": [
    "<b> Prediction on SARIMAX model"
   ]
  },
  {
   "cell_type": "code",
   "execution_count": 54,
   "id": "b656739a",
   "metadata": {},
   "outputs": [],
   "source": [
    "# Predict on the test data set.\n",
    "ypred_test = SARIMAX.predict(start=y_test.index[0], end=y_test.index[-1])\n",
    "\n",
    "# Predict on the train data set.\n",
    "ypred_train = SARIMAX.predict(start=y_train.index[0], end=y_train.index[-1])"
   ]
  },
  {
   "cell_type": "markdown",
   "id": "ed82aaf1",
   "metadata": {},
   "source": [
    "<b> Evaluation of SARIMAX model"
   ]
  },
  {
   "cell_type": "code",
   "execution_count": 55,
   "id": "b7676bb3",
   "metadata": {},
   "outputs": [
    {
     "name": "stdout",
     "output_type": "stream",
     "text": [
      "Train R2: 0.9053231946009926\n",
      "Test R2: 0.954034855915784\n"
     ]
    }
   ],
   "source": [
    "# import 'r2_score' class from sklearn.metrics library\n",
    "from sklearn.metrics import r2_score\n",
    "\n",
    "# print the train R2\n",
    "print('Train R2:', r2_score(ypred_train, y_train))\n",
    "\n",
    "# print the test R2\n",
    "print('Test R2:', r2_score(ypred_test, y_test))"
   ]
  },
  {
   "cell_type": "markdown",
   "id": "59a0ef1f",
   "metadata": {},
   "source": [
    "<b> Training set and testing set performances are comparable. From the above we conclude that, we have got good accuracy on train and test data sets. We got an accuracy of 95.40% with this model."
   ]
  }
 ],
 "metadata": {
  "kernelspec": {
   "display_name": "Python 3 (ipykernel)",
   "language": "python",
   "name": "python3"
  },
  "language_info": {
   "codemirror_mode": {
    "name": "ipython",
    "version": 3
   },
   "file_extension": ".py",
   "mimetype": "text/x-python",
   "name": "python",
   "nbconvert_exporter": "python",
   "pygments_lexer": "ipython3",
   "version": "3.9.13"
  }
 },
 "nbformat": 4,
 "nbformat_minor": 5
}
