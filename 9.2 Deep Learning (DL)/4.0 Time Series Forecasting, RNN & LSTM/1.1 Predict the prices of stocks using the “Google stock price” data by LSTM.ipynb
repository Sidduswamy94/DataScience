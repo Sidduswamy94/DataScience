{
 "cells": [
  {
   "cell_type": "markdown",
   "id": "2654ce77",
   "metadata": {},
   "source": [
    "# Predict the prices of stocks using the “Google stock price” data.\n",
    "<b> The stock market is known for being volatile, dynamic, and nonlinear. Accurate stock price prediction is extremely challenging because of multiple (macro and micro) factors, such as politics, global economic conditions, unexpected events, a company’s financial performance, and so on. \n",
    "\n",
    "<b> But, all of this also means that there’s a lot of data to find patterns in. So, financial analysts, researchers, and data scientists keep exploring analytics techniques to detect stock market trends. This gave rise to the concept of algorithmic trading, which uses automated, pre-programmed trading strategies to execute orders.\n",
    "\n",
    "<b> In this article, we’ll be using the machine learning algorithms to predict stock movements. Predicting stock prices with an LSTM model. Based on the stock price data between 2012 and 2016, we will predict the stock prices of 2017."
   ]
  },
  {
   "cell_type": "markdown",
   "id": "bc21091f",
   "metadata": {},
   "source": [
    "## 1. Import the required libraries"
   ]
  },
  {
   "cell_type": "code",
   "execution_count": 1,
   "id": "d02815f6",
   "metadata": {},
   "outputs": [],
   "source": [
    "# Importing the libraries\n",
    "import numpy as np                 # allow to make arrays\n",
    "import matplotlib.pyplot as plt    # visualize results on charts \n",
    "import pandas as pd                # import dataset and manage easily"
   ]
  },
  {
   "cell_type": "markdown",
   "id": "1141b181",
   "metadata": {},
   "source": [
    "## 2. Import the training dataset\n",
    "<b> Load the dataset by using read_csv() to read the dataset and save it to the 'dataset_train' variable and take a look at the first 5 lines using the head() method."
   ]
  },
  {
   "cell_type": "code",
   "execution_count": 2,
   "id": "f1851408",
   "metadata": {},
   "outputs": [
    {
     "data": {
      "text/html": [
       "<div>\n",
       "<style scoped>\n",
       "    .dataframe tbody tr th:only-of-type {\n",
       "        vertical-align: middle;\n",
       "    }\n",
       "\n",
       "    .dataframe tbody tr th {\n",
       "        vertical-align: top;\n",
       "    }\n",
       "\n",
       "    .dataframe thead th {\n",
       "        text-align: right;\n",
       "    }\n",
       "</style>\n",
       "<table border=\"1\" class=\"dataframe\">\n",
       "  <thead>\n",
       "    <tr style=\"text-align: right;\">\n",
       "      <th></th>\n",
       "      <th>Date</th>\n",
       "      <th>Open</th>\n",
       "      <th>High</th>\n",
       "      <th>Low</th>\n",
       "      <th>Close</th>\n",
       "      <th>Volume</th>\n",
       "    </tr>\n",
       "  </thead>\n",
       "  <tbody>\n",
       "    <tr>\n",
       "      <th>0</th>\n",
       "      <td>01-03-2012</td>\n",
       "      <td>325.25</td>\n",
       "      <td>332.83</td>\n",
       "      <td>324.97</td>\n",
       "      <td>663.59</td>\n",
       "      <td>73,80,500</td>\n",
       "    </tr>\n",
       "    <tr>\n",
       "      <th>1</th>\n",
       "      <td>01-04-2012</td>\n",
       "      <td>331.27</td>\n",
       "      <td>333.87</td>\n",
       "      <td>329.08</td>\n",
       "      <td>666.45</td>\n",
       "      <td>57,49,400</td>\n",
       "    </tr>\n",
       "    <tr>\n",
       "      <th>2</th>\n",
       "      <td>01-05-2012</td>\n",
       "      <td>329.83</td>\n",
       "      <td>330.75</td>\n",
       "      <td>326.89</td>\n",
       "      <td>657.21</td>\n",
       "      <td>65,90,300</td>\n",
       "    </tr>\n",
       "    <tr>\n",
       "      <th>3</th>\n",
       "      <td>01-06-2012</td>\n",
       "      <td>328.34</td>\n",
       "      <td>328.77</td>\n",
       "      <td>323.68</td>\n",
       "      <td>648.24</td>\n",
       "      <td>54,05,900</td>\n",
       "    </tr>\n",
       "    <tr>\n",
       "      <th>4</th>\n",
       "      <td>01-09-2012</td>\n",
       "      <td>322.04</td>\n",
       "      <td>322.29</td>\n",
       "      <td>309.46</td>\n",
       "      <td>620.76</td>\n",
       "      <td>1,16,88,800</td>\n",
       "    </tr>\n",
       "  </tbody>\n",
       "</table>\n",
       "</div>"
      ],
      "text/plain": [
       "         Date    Open    High     Low   Close       Volume\n",
       "0  01-03-2012  325.25  332.83  324.97  663.59    73,80,500\n",
       "1  01-04-2012  331.27  333.87  329.08  666.45    57,49,400\n",
       "2  01-05-2012  329.83  330.75  326.89  657.21    65,90,300\n",
       "3  01-06-2012  328.34  328.77  323.68  648.24    54,05,900\n",
       "4  01-09-2012  322.04  322.29  309.46  620.76  1,16,88,800"
      ]
     },
     "execution_count": 2,
     "metadata": {},
     "output_type": "execute_result"
    }
   ],
   "source": [
    "# Load the dataset.\n",
    "dataset_train = pd.read_csv('Google_Stock_Price_Train.csv')\n",
    "\n",
    "# Display the first 5 lines using the head() method.\n",
    "dataset_train.head()"
   ]
  },
  {
   "cell_type": "markdown",
   "id": "4c07b4ea",
   "metadata": {},
   "source": [
    "<b> Let’s have a look at data dimensionality."
   ]
  },
  {
   "cell_type": "code",
   "execution_count": 3,
   "id": "93699f88",
   "metadata": {},
   "outputs": [
    {
     "data": {
      "text/plain": [
       "(1258, 6)"
      ]
     },
     "execution_count": 3,
     "metadata": {},
     "output_type": "execute_result"
    }
   ],
   "source": [
    "dataset_train.shape"
   ]
  },
  {
   "cell_type": "markdown",
   "id": "93a9b249",
   "metadata": {},
   "source": [
    "<b> From the output, we can see that the table contains 1258 rows and 6 columns.\n"
   ]
  },
  {
   "cell_type": "markdown",
   "id": "65454fc6",
   "metadata": {},
   "source": [
    "## 3. Data Preprocessing"
   ]
  },
  {
   "cell_type": "markdown",
   "id": "3c56068d",
   "metadata": {},
   "source": [
    "### 3.1 Data Cleaning\n",
    "<b> Checking the Empty cells / Missing values :\n",
    "\n",
    "- The isnull().sum() method returns the total number of missing values (count) present in the each column."
   ]
  },
  {
   "cell_type": "code",
   "execution_count": 4,
   "id": "aeabf160",
   "metadata": {},
   "outputs": [
    {
     "data": {
      "text/plain": [
       "Date      0\n",
       "Open      0\n",
       "High      0\n",
       "Low       0\n",
       "Close     0\n",
       "Volume    0\n",
       "dtype: int64"
      ]
     },
     "execution_count": 4,
     "metadata": {},
     "output_type": "execute_result"
    }
   ],
   "source": [
    "# Check the missing values records.\n",
    "dataset_train.isnull().sum()"
   ]
  },
  {
   "cell_type": "markdown",
   "id": "ef25823f",
   "metadata": {},
   "source": [
    "<b> In the above, we can see that there is no missing values.\n",
    "\n",
    "<b> Now checking the Duplicate records :"
   ]
  },
  {
   "cell_type": "code",
   "execution_count": 5,
   "id": "fcb28e25",
   "metadata": {},
   "outputs": [
    {
     "data": {
      "text/plain": [
       "0"
      ]
     },
     "execution_count": 5,
     "metadata": {},
     "output_type": "execute_result"
    }
   ],
   "source": [
    "dataset_train.duplicated().sum()"
   ]
  },
  {
   "cell_type": "markdown",
   "id": "d117bb97",
   "metadata": {},
   "source": [
    "<b> In the above, we can see that there is no duplicate values."
   ]
  },
  {
   "cell_type": "markdown",
   "id": "361a4f4d",
   "metadata": {},
   "source": [
    "<b> Here we are going to predict the prices of stocks based on 'Open' variable only. So extracting the 'Open' variable & storing in the 'training_set' object and need to make into numpy arrays because only nump arrays can be input values in keras."
   ]
  },
  {
   "cell_type": "code",
   "execution_count": 6,
   "id": "cae78c69",
   "metadata": {},
   "outputs": [
    {
     "data": {
      "text/plain": [
       "array([[325.25],\n",
       "       [331.27],\n",
       "       [329.83],\n",
       "       ...,\n",
       "       [793.7 ],\n",
       "       [783.33],\n",
       "       [782.75]])"
      ]
     },
     "execution_count": 6,
     "metadata": {},
     "output_type": "execute_result"
    }
   ],
   "source": [
    "# need to make into numpy arrays because only nump arrays can be input values in keras\n",
    "training_set = dataset_train.iloc[:, 1:2].values \n",
    "\n",
    "# Display the result\n",
    "training_set"
   ]
  },
  {
   "cell_type": "markdown",
   "id": "88ff312c",
   "metadata": {},
   "source": [
    "### 3.2 Perform feature scaling to transform the data"
   ]
  },
  {
   "cell_type": "code",
   "execution_count": 7,
   "id": "a975be01",
   "metadata": {},
   "outputs": [
    {
     "data": {
      "text/plain": [
       "array([[0.08581368],\n",
       "       [0.09701243],\n",
       "       [0.09433366],\n",
       "       ...,\n",
       "       [0.95725128],\n",
       "       [0.93796041],\n",
       "       [0.93688146]])"
      ]
     },
     "execution_count": 7,
     "metadata": {},
     "output_type": "execute_result"
    }
   ],
   "source": [
    "# Feature Scaling\n",
    "# 2 ways: take obs- min ofstock prices/max of stock prices- min of stock prices\n",
    "# using normalization instead of standardisation- look at meaning\n",
    "from sklearn.preprocessing import MinMaxScaler\n",
    "sc = MinMaxScaler(feature_range = (0, 1))\n",
    "training_set_scaled = sc.fit_transform(training_set)   # fit (gets min and max on data to apply formula) \n",
    "                                                       # tranform(compute scale stock prices to each formula)\n",
    "    \n",
    "# Display the result\n",
    "training_set_scaled"
   ]
  },
  {
   "cell_type": "markdown",
   "id": "1b5cdebb",
   "metadata": {},
   "source": [
    "### 3.3 Create a data structure with 60-time steps and 1 output"
   ]
  },
  {
   "cell_type": "code",
   "execution_count": 8,
   "id": "55f31cb4",
   "metadata": {},
   "outputs": [],
   "source": [
    "'''Creating a data structure with 60 timesteps and 1 output, 60 times steps- at each time t and look at \n",
    "   60 previous time steps, then make new prediction, 1 time step leads to overfitting, 20 is still too low, \n",
    "   60 previous financial days- in 3 months'''\n",
    "\n",
    "X_train = []      # Empty 'X_train' list\n",
    "y_train = []      # Empty 'y_train' list\n",
    "\n",
    "for i in range(60, 1258):                               # upper bound is number of values \n",
    "  X_train.append(training_set_scaled[i-60:i, 0])        # takes 60 previous stock prices from 60 past stock prices\n",
    "  y_train.append(training_set_scaled[i, 0])             # contains stock price learned to predict \n",
    "X_train, y_train = np.array(X_train), np.array(y_train) # make into numpy arrays \n",
    "\n"
   ]
  },
  {
   "cell_type": "code",
   "execution_count": 9,
   "id": "1cdc0ade",
   "metadata": {},
   "outputs": [],
   "source": [
    "# Reshaping- add dimension in numpy array \n",
    "X_train = np.reshape(X_train, (X_train.shape[0], X_train.shape[1], 1))  # adds dimension in numpy array"
   ]
  },
  {
   "cell_type": "markdown",
   "id": "b97632bf",
   "metadata": {},
   "source": [
    "## 4. Building the RNN stacked LSTM\n",
    "### Import Keras library and its packages"
   ]
  },
  {
   "cell_type": "code",
   "execution_count": 12,
   "id": "cb9801f1",
   "metadata": {},
   "outputs": [],
   "source": [
    "# Importing the Keras libraries and packages\n",
    "from keras.models import Sequential\n",
    "from keras.layers import Dense\n",
    "from keras.layers import LSTM\n",
    "from keras.layers import Dropout"
   ]
  },
  {
   "cell_type": "markdown",
   "id": "bbb80bed",
   "metadata": {},
   "source": [
    "### Initialize the RNN"
   ]
  },
  {
   "cell_type": "code",
   "execution_count": 13,
   "id": "ae93711d",
   "metadata": {},
   "outputs": [],
   "source": [
    "# Initialising the RNN\n",
    "regressor = Sequential()"
   ]
  },
  {
   "cell_type": "markdown",
   "id": "62f88f02",
   "metadata": {},
   "source": [
    "### Adding the first LSTM layer"
   ]
  },
  {
   "cell_type": "code",
   "execution_count": 14,
   "id": "b2902259",
   "metadata": {},
   "outputs": [],
   "source": [
    "# Adding the first LSTM layer and some Dropout regularisation\n",
    "#dropout to prevent overfitting\n",
    "regressor.add(LSTM(units = 50, return_sequences = True, input_shape = (X_train.shape[1], 1)))\n",
    "\n",
    "# regressor- object of sequential class, can add layers to networ.\n",
    "# use lstm class and create object of lstm class- 3 args\n",
    "# num of units, return sequences- set to true because is stacked lstms, and shape\n",
    "# units- neurons in first layer. 50 in layers for high dimensionality, can capture upward and downward\n",
    "\n",
    "regressor.add(Dropout(0.2))    # Dropping 20% neurons"
   ]
  },
  {
   "cell_type": "markdown",
   "id": "49f2f3d9",
   "metadata": {},
   "source": [
    "### Adding the second LSTM layer"
   ]
  },
  {
   "cell_type": "code",
   "execution_count": 15,
   "id": "45eeb665",
   "metadata": {},
   "outputs": [],
   "source": [
    "# Adding a second LSTM layer and some Dropout regularisation\n",
    "\n",
    "'''total of 4 layers, simply need to copy, only change is input shape so dont need to specify that, \n",
    "   automatically recognised through input shape'''\n",
    "\n",
    "regressor.add(LSTM(units = 50, return_sequences = True)) \n",
    "\n",
    "regressor.add(Dropout(0.2))     # Dropping 20% neurons"
   ]
  },
  {
   "cell_type": "markdown",
   "id": "ce2e3d96",
   "metadata": {},
   "source": [
    "### Adding the third LSTM layer"
   ]
  },
  {
   "cell_type": "code",
   "execution_count": 16,
   "id": "5e175eb4",
   "metadata": {},
   "outputs": [],
   "source": [
    "# Adding a third LSTM layer and some Dropout regularisation\n",
    "# same as second layer \n",
    "regressor.add(LSTM(units = 50, return_sequences = True))\n",
    "\n",
    "regressor.add(Dropout(0.2))     # Dropping 20% neurons"
   ]
  },
  {
   "cell_type": "markdown",
   "id": "3bb1acd9",
   "metadata": {},
   "source": [
    "### Adding the fourth LSTM layer"
   ]
  },
  {
   "cell_type": "code",
   "execution_count": 17,
   "id": "2a6e801d",
   "metadata": {},
   "outputs": [],
   "source": [
    "# Adding a fourth LSTM layer and some Dropout regularisation\n",
    "# almost same, but return sequence is false because it is the last lstm layer (so it is removed becasue default is false)\n",
    "regressor.add(LSTM(units = 50))\n",
    "\n",
    "regressor.add(Dropout(0.2))     # Dropping 20% neurons"
   ]
  },
  {
   "cell_type": "markdown",
   "id": "44035db6",
   "metadata": {},
   "source": [
    "### Adding the output LSTM layer"
   ]
  },
  {
   "cell_type": "code",
   "execution_count": 18,
   "id": "f2f41308",
   "metadata": {},
   "outputs": [],
   "source": [
    "# Adding the output layer\n",
    "# add fully connected layer through dense class- dimesion/units/neurons is 1\n",
    "regressor.add(Dense(units = 1))"
   ]
  },
  {
   "cell_type": "markdown",
   "id": "f303530d",
   "metadata": {},
   "source": [
    "### Compiling the RNN"
   ]
  },
  {
   "cell_type": "code",
   "execution_count": 19,
   "id": "83c70e9e",
   "metadata": {},
   "outputs": [],
   "source": [
    "# Compiling the RNN\n",
    "# regressior because predicting continuous value, \n",
    "regressor.compile(optimizer = 'adam', loss = 'mean_squared_error')"
   ]
  },
  {
   "cell_type": "markdown",
   "id": "70c30fd1",
   "metadata": {},
   "source": [
    "### Fitting the RNN to the Training set"
   ]
  },
  {
   "cell_type": "code",
   "execution_count": 20,
   "id": "24762e99",
   "metadata": {},
   "outputs": [
    {
     "name": "stdout",
     "output_type": "stream",
     "text": [
      "Epoch 1/100\n",
      "38/38 [==============================] - 15s 129ms/step - loss: 0.0350\n",
      "Epoch 2/100\n",
      "38/38 [==============================] - 5s 126ms/step - loss: 0.0063\n",
      "Epoch 3/100\n",
      "38/38 [==============================] - 5s 120ms/step - loss: 0.0058\n",
      "Epoch 4/100\n",
      "38/38 [==============================] - 5s 124ms/step - loss: 0.0051\n",
      "Epoch 5/100\n",
      "38/38 [==============================] - 5s 124ms/step - loss: 0.0049\n",
      "Epoch 6/100\n",
      "38/38 [==============================] - 4s 115ms/step - loss: 0.0053\n",
      "Epoch 7/100\n",
      "38/38 [==============================] - 5s 128ms/step - loss: 0.0050\n",
      "Epoch 8/100\n",
      "38/38 [==============================] - 5s 121ms/step - loss: 0.0041\n",
      "Epoch 9/100\n",
      "38/38 [==============================] - 5s 124ms/step - loss: 0.0041\n",
      "Epoch 10/100\n",
      "38/38 [==============================] - 5s 129ms/step - loss: 0.0045\n",
      "Epoch 11/100\n",
      "38/38 [==============================] - 5s 129ms/step - loss: 0.0048\n",
      "Epoch 12/100\n",
      "38/38 [==============================] - 4s 117ms/step - loss: 0.0038\n",
      "Epoch 13/100\n",
      "38/38 [==============================] - 5s 125ms/step - loss: 0.0037\n",
      "Epoch 14/100\n",
      "38/38 [==============================] - 5s 125ms/step - loss: 0.0041\n",
      "Epoch 15/100\n",
      "38/38 [==============================] - 5s 125ms/step - loss: 0.0035\n",
      "Epoch 16/100\n",
      "38/38 [==============================] - 5s 127ms/step - loss: 0.0038\n",
      "Epoch 17/100\n",
      "38/38 [==============================] - 5s 123ms/step - loss: 0.0040\n",
      "Epoch 18/100\n",
      "38/38 [==============================] - 5s 122ms/step - loss: 0.0040\n",
      "Epoch 19/100\n",
      "38/38 [==============================] - 5s 128ms/step - loss: 0.0033\n",
      "Epoch 20/100\n",
      "38/38 [==============================] - 5s 122ms/step - loss: 0.0033\n",
      "Epoch 21/100\n",
      "38/38 [==============================] - 5s 127ms/step - loss: 0.0033\n",
      "Epoch 22/100\n",
      "38/38 [==============================] - 5s 126ms/step - loss: 0.0032\n",
      "Epoch 23/100\n",
      "38/38 [==============================] - 4s 116ms/step - loss: 0.0037\n",
      "Epoch 24/100\n",
      "38/38 [==============================] - 4s 118ms/step - loss: 0.0037\n",
      "Epoch 25/100\n",
      "38/38 [==============================] - 5s 127ms/step - loss: 0.0030\n",
      "Epoch 26/100\n",
      "38/38 [==============================] - 4s 116ms/step - loss: 0.0028\n",
      "Epoch 27/100\n",
      "38/38 [==============================] - 4s 116ms/step - loss: 0.0030\n",
      "Epoch 28/100\n",
      "38/38 [==============================] - 4s 116ms/step - loss: 0.0030\n",
      "Epoch 29/100\n",
      "38/38 [==============================] - 5s 119ms/step - loss: 0.0027\n",
      "Epoch 30/100\n",
      "38/38 [==============================] - 4s 117ms/step - loss: 0.0029\n",
      "Epoch 31/100\n",
      "38/38 [==============================] - 5s 119ms/step - loss: 0.0028\n",
      "Epoch 32/100\n",
      "38/38 [==============================] - 5s 123ms/step - loss: 0.0030\n",
      "Epoch 33/100\n",
      "38/38 [==============================] - 4s 116ms/step - loss: 0.0028\n",
      "Epoch 34/100\n",
      "38/38 [==============================] - 4s 117ms/step - loss: 0.0026\n",
      "Epoch 35/100\n",
      "38/38 [==============================] - 5s 118ms/step - loss: 0.0028\n",
      "Epoch 36/100\n",
      "38/38 [==============================] - 4s 117ms/step - loss: 0.0025\n",
      "Epoch 37/100\n",
      "38/38 [==============================] - 4s 118ms/step - loss: 0.0028\n",
      "Epoch 38/100\n",
      "38/38 [==============================] - 5s 119ms/step - loss: 0.0026\n",
      "Epoch 39/100\n",
      "38/38 [==============================] - 4s 116ms/step - loss: 0.0026\n",
      "Epoch 40/100\n",
      "38/38 [==============================] - 4s 118ms/step - loss: 0.0029\n",
      "Epoch 41/100\n",
      "38/38 [==============================] - 4s 117ms/step - loss: 0.0027\n",
      "Epoch 42/100\n",
      "38/38 [==============================] - 5s 119ms/step - loss: 0.0026\n",
      "Epoch 43/100\n",
      "38/38 [==============================] - 5s 119ms/step - loss: 0.0027\n",
      "Epoch 44/100\n",
      "38/38 [==============================] - 4s 118ms/step - loss: 0.0025\n",
      "Epoch 45/100\n",
      "38/38 [==============================] - 5s 120ms/step - loss: 0.0024\n",
      "Epoch 46/100\n",
      "38/38 [==============================] - 4s 117ms/step - loss: 0.0022\n",
      "Epoch 47/100\n",
      "38/38 [==============================] - 4s 117ms/step - loss: 0.0025\n",
      "Epoch 48/100\n",
      "38/38 [==============================] - 4s 117ms/step - loss: 0.0023\n",
      "Epoch 49/100\n",
      "38/38 [==============================] - 4s 117ms/step - loss: 0.0022\n",
      "Epoch 50/100\n",
      "38/38 [==============================] - 5s 119ms/step - loss: 0.0024\n",
      "Epoch 51/100\n",
      "38/38 [==============================] - 5s 126ms/step - loss: 0.0023\n",
      "Epoch 52/100\n",
      "38/38 [==============================] - 5s 119ms/step - loss: 0.0021\n",
      "Epoch 53/100\n",
      "38/38 [==============================] - 4s 113ms/step - loss: 0.0022\n",
      "Epoch 54/100\n",
      "38/38 [==============================] - 4s 117ms/step - loss: 0.0021\n",
      "Epoch 55/100\n",
      "38/38 [==============================] - 4s 114ms/step - loss: 0.0020\n",
      "Epoch 56/100\n",
      "38/38 [==============================] - 5s 124ms/step - loss: 0.0021\n",
      "Epoch 57/100\n",
      "38/38 [==============================] - 4s 113ms/step - loss: 0.0022\n",
      "Epoch 58/100\n",
      "38/38 [==============================] - 4s 113ms/step - loss: 0.0023\n",
      "Epoch 59/100\n",
      "38/38 [==============================] - 4s 116ms/step - loss: 0.0021\n",
      "Epoch 60/100\n",
      "38/38 [==============================] - 4s 113ms/step - loss: 0.0020\n",
      "Epoch 61/100\n",
      "38/38 [==============================] - 4s 113ms/step - loss: 0.0018\n",
      "Epoch 62/100\n",
      "38/38 [==============================] - 4s 114ms/step - loss: 0.0019\n",
      "Epoch 63/100\n",
      "38/38 [==============================] - 4s 114ms/step - loss: 0.0022\n",
      "Epoch 64/100\n",
      "38/38 [==============================] - 4s 112ms/step - loss: 0.0020\n",
      "Epoch 65/100\n",
      "38/38 [==============================] - 4s 113ms/step - loss: 0.0020\n",
      "Epoch 66/100\n",
      "38/38 [==============================] - 4s 117ms/step - loss: 0.0019\n",
      "Epoch 67/100\n",
      "38/38 [==============================] - 4s 113ms/step - loss: 0.0021\n",
      "Epoch 68/100\n",
      "38/38 [==============================] - 4s 112ms/step - loss: 0.0020\n",
      "Epoch 69/100\n",
      "38/38 [==============================] - 4s 114ms/step - loss: 0.0019\n",
      "Epoch 70/100\n",
      "38/38 [==============================] - 4s 114ms/step - loss: 0.0017\n",
      "Epoch 71/100\n",
      "38/38 [==============================] - 4s 113ms/step - loss: 0.0021\n",
      "Epoch 72/100\n",
      "38/38 [==============================] - 4s 113ms/step - loss: 0.0020\n",
      "Epoch 73/100\n",
      "38/38 [==============================] - 4s 116ms/step - loss: 0.0016\n",
      "Epoch 74/100\n",
      "38/38 [==============================] - 5s 130ms/step - loss: 0.0019\n",
      "Epoch 75/100\n",
      "38/38 [==============================] - 5s 124ms/step - loss: 0.0015\n",
      "Epoch 76/100\n",
      "38/38 [==============================] - 5s 120ms/step - loss: 0.0017\n",
      "Epoch 77/100\n",
      "38/38 [==============================] - 5s 121ms/step - loss: 0.0018\n",
      "Epoch 78/100\n",
      "38/38 [==============================] - 5s 134ms/step - loss: 0.0015\n",
      "Epoch 79/100\n",
      "38/38 [==============================] - 5s 128ms/step - loss: 0.0016\n",
      "Epoch 80/100\n",
      "38/38 [==============================] - 5s 126ms/step - loss: 0.0015\n",
      "Epoch 81/100\n",
      "38/38 [==============================] - 5s 129ms/step - loss: 0.0016\n",
      "Epoch 82/100\n",
      "38/38 [==============================] - 5s 126ms/step - loss: 0.0017\n",
      "Epoch 83/100\n",
      "38/38 [==============================] - 5s 130ms/step - loss: 0.0015\n",
      "Epoch 84/100\n",
      "38/38 [==============================] - 5s 128ms/step - loss: 0.0015\n",
      "Epoch 85/100\n",
      "38/38 [==============================] - 5s 119ms/step - loss: 0.0017\n",
      "Epoch 86/100\n",
      "38/38 [==============================] - 5s 120ms/step - loss: 0.0015\n",
      "Epoch 87/100\n",
      "38/38 [==============================] - 5s 120ms/step - loss: 0.0016\n",
      "Epoch 88/100\n",
      "38/38 [==============================] - 5s 120ms/step - loss: 0.0017\n",
      "Epoch 89/100\n",
      "38/38 [==============================] - 4s 117ms/step - loss: 0.0015\n",
      "Epoch 90/100\n",
      "38/38 [==============================] - 4s 117ms/step - loss: 0.0017\n",
      "Epoch 91/100\n",
      "38/38 [==============================] - 5s 119ms/step - loss: 0.0015\n",
      "Epoch 92/100\n",
      "38/38 [==============================] - 4s 118ms/step - loss: 0.0013\n",
      "Epoch 93/100\n",
      "38/38 [==============================] - 5s 121ms/step - loss: 0.0017\n",
      "Epoch 94/100\n",
      "38/38 [==============================] - 5s 120ms/step - loss: 0.0016\n",
      "Epoch 95/100\n",
      "38/38 [==============================] - 4s 117ms/step - loss: 0.0014\n",
      "Epoch 96/100\n",
      "38/38 [==============================] - 5s 119ms/step - loss: 0.0013\n",
      "Epoch 97/100\n",
      "38/38 [==============================] - 4s 117ms/step - loss: 0.0014\n",
      "Epoch 98/100\n",
      "38/38 [==============================] - 5s 118ms/step - loss: 0.0012\n",
      "Epoch 99/100\n"
     ]
    },
    {
     "name": "stdout",
     "output_type": "stream",
     "text": [
      "38/38 [==============================] - 5s 120ms/step - loss: 0.0015\n",
      "Epoch 100/100\n",
      "38/38 [==============================] - 5s 138ms/step - loss: 0.0012\n"
     ]
    },
    {
     "data": {
      "text/plain": [
       "<keras.callbacks.History at 0x1d82a508610>"
      ]
     },
     "execution_count": 20,
     "metadata": {},
     "output_type": "execute_result"
    }
   ],
   "source": [
    "# Fitting the RNN to the Training set\n",
    "# have not made connection to training set, training will take place\n",
    "regressor.fit(X_train, y_train, epochs = 100, batch_size = 32)"
   ]
  },
  {
   "cell_type": "markdown",
   "id": "61b59cc3",
   "metadata": {},
   "source": [
    "## 5. Making the predictions and Evaluating the results\n",
    "### Prediction on train dataset"
   ]
  },
  {
   "cell_type": "code",
   "execution_count": 21,
   "id": "0c073cb7",
   "metadata": {},
   "outputs": [
    {
     "name": "stdout",
     "output_type": "stream",
     "text": [
      "38/38 [==============================] - 4s 40ms/step\n"
     ]
    }
   ],
   "source": [
    "pred = regressor.predict(X_train)"
   ]
  },
  {
   "cell_type": "markdown",
   "id": "db23980b",
   "metadata": {},
   "source": [
    "### Evaluating the RNN "
   ]
  },
  {
   "cell_type": "code",
   "execution_count": 22,
   "id": "fea0761b",
   "metadata": {},
   "outputs": [
    {
     "data": {
      "text/plain": [
       "0.022828240066915473"
      ]
     },
     "execution_count": 22,
     "metadata": {},
     "output_type": "execute_result"
    }
   ],
   "source": [
    "import math\n",
    "from sklearn.metrics import mean_squared_error\n",
    "rmse = math.sqrt(mean_squared_error(y_train, pred))\n",
    "rmse"
   ]
  },
  {
   "cell_type": "markdown",
   "id": "c221c7b9",
   "metadata": {},
   "source": [
    "## 6. Making the predictions and visualising the results\n",
    "### Getting the real stock price of 2017"
   ]
  },
  {
   "cell_type": "code",
   "execution_count": 23,
   "id": "88e5f294",
   "metadata": {},
   "outputs": [],
   "source": [
    "# Getting the real stock price of 2017\n",
    "dataset_test = pd.read_csv('Google_Stock_Price_Test.csv')\n",
    "real_stock_price = dataset_test.iloc[:, 1:2].values"
   ]
  },
  {
   "cell_type": "markdown",
   "id": "c2df9a56",
   "metadata": {},
   "source": [
    "### Get the predicted stock price for 2017"
   ]
  },
  {
   "cell_type": "code",
   "execution_count": 24,
   "id": "a3fc8865",
   "metadata": {},
   "outputs": [
    {
     "name": "stdout",
     "output_type": "stream",
     "text": [
      "1/1 [==============================] - 0s 56ms/step\n"
     ]
    }
   ],
   "source": [
    "# Getting the predicted stock price of 2018\n",
    "dataset_total = pd.concat((dataset_train['Open'], dataset_test['Open']), axis = 0)\n",
    "inputs = dataset_total[len(dataset_total) - len(dataset_test) - 60:].values # getting input of each previous financial days\n",
    "inputs = inputs.reshape(-1,1)\n",
    "inputs = sc.transform(inputs)\n",
    "X_test = []\n",
    "for i in range(60, 80):\n",
    "    X_test.append(inputs[i-60:i, 0])\n",
    "X_test = np.array(X_test)\n",
    "X_test = np.reshape(X_test, (X_test.shape[0], X_test.shape[1], 1))\n",
    "predicted_stock_price = regressor.predict(X_test)\n",
    "predicted_stock_price = sc.inverse_transform(predicted_stock_price)\n"
   ]
  },
  {
   "cell_type": "markdown",
   "id": "9fe3f3c1",
   "metadata": {},
   "source": [
    "### Visualize the results of predicted and real stock price"
   ]
  },
  {
   "cell_type": "code",
   "execution_count": 25,
   "id": "3dc56014",
   "metadata": {},
   "outputs": [
    {
     "data": {
      "image/png": "[encoded data removed]",
      "text/plain": [
       "<Figure size 640x480 with 1 Axes>"
      ]
     },
     "metadata": {},
     "output_type": "display_data"
    }
   ],
   "source": [
    "# Visualising the results\n",
    "plt.plot(real_stock_price, color = 'red', label = 'Real Google Stock Price')\n",
    "plt.plot(predicted_stock_price, color = 'blue', label = 'Predicted Google Stock Price')\n",
    "plt.title('Google Stock Price Prediction')\n",
    "plt.xlabel('Time')\n",
    "plt.ylabel('Google Stock Price')\n",
    "plt.legend()\n",
    "plt.show()"
   ]
  }
 ],
 "metadata": {
  "kernelspec": {
   "display_name": "Python 3 (ipykernel)",
   "language": "python",
   "name": "python3"
  },
  "language_info": {
   "codemirror_mode": {
    "name": "ipython",
    "version": 3
   },
   "file_extension": ".py",
   "mimetype": "text/x-python",
   "name": "python",
   "nbconvert_exporter": "python",
   "pygments_lexer": "ipython3",
   "version": "3.9.13"
  }
 },
 "nbformat": 4,
 "nbformat_minor": 5
}
