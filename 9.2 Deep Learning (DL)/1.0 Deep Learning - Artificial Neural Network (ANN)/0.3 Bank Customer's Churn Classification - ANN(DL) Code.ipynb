{
 "cells": [
  {
   "cell_type": "markdown",
   "id": "66a45eee",
   "metadata": {},
   "source": [
    "## Bank Customers Churn Classification with Deep Learning (ANN) \n",
    "<b> Classifying bank customers based on their previous bank activities, that they will exit/leave the bank or not.\n",
    "    \n",
    "<b> Goal is to make an Artificial Neural Network that can predict, based on geo-demographical and transactional information given above, if any individual customer will leave the bank or stay (customer churn). Also, rank all the customers of the bank, based on their probability of leaving. \n",
    "    \n",
    "<b> The algorithms included Artificial Neural Network (ANN)."
   ]
  },
  {
   "cell_type": "markdown",
   "id": "18fc0fdc",
   "metadata": {},
   "source": [
    "## Step - 1 : Business Problem Understanding\n",
    "<b> Our Business problem which I have chosen for this tutorial is a classification problem wherein we have a dataset in which there are details of a bank's customers and the target variable is a binary variable reflecting the fact whether the customer left the bank (closed his account) or he continues to be a customer.\n",
    "    \n",
    "<b> Classifying bank customers based on their previous bank activities, that they will exit/leave the bank or not.\n",
    "    \n",
    "<b> To make this dataset, the bank gathered information such as customer id, credit score, gender, age, tenure, balance, if the customer is active, has a credit card, etc. During a period of 6 months, the bank observed if these customers left or stayed in the bank."
   ]
  },
  {
   "cell_type": "markdown",
   "id": "711e7273",
   "metadata": {},
   "source": [
    "### Importing Libraries"
   ]
  },
  {
   "cell_type": "code",
   "execution_count": 1,
   "id": "e3d565da",
   "metadata": {},
   "outputs": [],
   "source": [
    "import numpy as np\n",
    "import pandas as pd\n",
    "import matplotlib.pyplot as plt\n",
    "import seaborn as sns\n",
    "\n",
    "import tensorflow as tf\n",
    "import keras\n",
    "\n",
    "import warnings\n",
    "warnings.simplefilter(\"ignore\")"
   ]
  },
  {
   "cell_type": "markdown",
   "id": "29174da2",
   "metadata": {},
   "source": [
    "## Step - 2 : Data Understanding\n",
    "### 2.1 Data Collection/Loading the dataset\n",
    "<b>Load the dataset by using read_csv() to read the dataset and save it to the 'df' variable and take a look at the first 5 lines using the head() method."
   ]
  },
  {
   "cell_type": "code",
   "execution_count": 2,
   "id": "5f189adf",
   "metadata": {},
   "outputs": [
    {
     "data": {
      "text/html": [
       "<div>\n",
       "<style scoped>\n",
       "    .dataframe tbody tr th:only-of-type {\n",
       "        vertical-align: middle;\n",
       "    }\n",
       "\n",
       "    .dataframe tbody tr th {\n",
       "        vertical-align: top;\n",
       "    }\n",
       "\n",
       "    .dataframe thead th {\n",
       "        text-align: right;\n",
       "    }\n",
       "</style>\n",
       "<table border=\"1\" class=\"dataframe\">\n",
       "  <thead>\n",
       "    <tr style=\"text-align: right;\">\n",
       "      <th></th>\n",
       "      <th>RowNumber</th>\n",
       "      <th>CustomerId</th>\n",
       "      <th>Surname</th>\n",
       "      <th>CreditScore</th>\n",
       "      <th>Geography</th>\n",
       "      <th>Gender</th>\n",
       "      <th>Age</th>\n",
       "      <th>Tenure</th>\n",
       "      <th>Balance</th>\n",
       "      <th>NumOfProducts</th>\n",
       "      <th>HasCrCard</th>\n",
       "      <th>IsActiveMember</th>\n",
       "      <th>EstimatedSalary</th>\n",
       "      <th>Exited</th>\n",
       "    </tr>\n",
       "  </thead>\n",
       "  <tbody>\n",
       "    <tr>\n",
       "      <th>0</th>\n",
       "      <td>1</td>\n",
       "      <td>15634602</td>\n",
       "      <td>Hargrave</td>\n",
       "      <td>619</td>\n",
       "      <td>France</td>\n",
       "      <td>Female</td>\n",
       "      <td>42</td>\n",
       "      <td>2</td>\n",
       "      <td>0.00</td>\n",
       "      <td>1</td>\n",
       "      <td>1</td>\n",
       "      <td>1</td>\n",
       "      <td>101348.88</td>\n",
       "      <td>1</td>\n",
       "    </tr>\n",
       "    <tr>\n",
       "      <th>1</th>\n",
       "      <td>2</td>\n",
       "      <td>15647311</td>\n",
       "      <td>Hill</td>\n",
       "      <td>608</td>\n",
       "      <td>Spain</td>\n",
       "      <td>Female</td>\n",
       "      <td>41</td>\n",
       "      <td>1</td>\n",
       "      <td>83807.86</td>\n",
       "      <td>1</td>\n",
       "      <td>0</td>\n",
       "      <td>1</td>\n",
       "      <td>112542.58</td>\n",
       "      <td>0</td>\n",
       "    </tr>\n",
       "    <tr>\n",
       "      <th>2</th>\n",
       "      <td>3</td>\n",
       "      <td>15619304</td>\n",
       "      <td>Onio</td>\n",
       "      <td>502</td>\n",
       "      <td>France</td>\n",
       "      <td>Female</td>\n",
       "      <td>42</td>\n",
       "      <td>8</td>\n",
       "      <td>159660.80</td>\n",
       "      <td>3</td>\n",
       "      <td>1</td>\n",
       "      <td>0</td>\n",
       "      <td>113931.57</td>\n",
       "      <td>1</td>\n",
       "    </tr>\n",
       "    <tr>\n",
       "      <th>3</th>\n",
       "      <td>4</td>\n",
       "      <td>15701354</td>\n",
       "      <td>Boni</td>\n",
       "      <td>699</td>\n",
       "      <td>France</td>\n",
       "      <td>Female</td>\n",
       "      <td>39</td>\n",
       "      <td>1</td>\n",
       "      <td>0.00</td>\n",
       "      <td>2</td>\n",
       "      <td>0</td>\n",
       "      <td>0</td>\n",
       "      <td>93826.63</td>\n",
       "      <td>0</td>\n",
       "    </tr>\n",
       "    <tr>\n",
       "      <th>4</th>\n",
       "      <td>5</td>\n",
       "      <td>15737888</td>\n",
       "      <td>Mitchell</td>\n",
       "      <td>850</td>\n",
       "      <td>Spain</td>\n",
       "      <td>Female</td>\n",
       "      <td>43</td>\n",
       "      <td>2</td>\n",
       "      <td>125510.82</td>\n",
       "      <td>1</td>\n",
       "      <td>1</td>\n",
       "      <td>1</td>\n",
       "      <td>79084.10</td>\n",
       "      <td>0</td>\n",
       "    </tr>\n",
       "  </tbody>\n",
       "</table>\n",
       "</div>"
      ],
      "text/plain": [
       "   RowNumber  CustomerId   Surname  CreditScore Geography  Gender  Age  \\\n",
       "0          1    15634602  Hargrave          619    France  Female   42   \n",
       "1          2    15647311      Hill          608     Spain  Female   41   \n",
       "2          3    15619304      Onio          502    France  Female   42   \n",
       "3          4    15701354      Boni          699    France  Female   39   \n",
       "4          5    15737888  Mitchell          850     Spain  Female   43   \n",
       "\n",
       "   Tenure    Balance  NumOfProducts  HasCrCard  IsActiveMember  \\\n",
       "0       2       0.00              1          1               1   \n",
       "1       1   83807.86              1          0               1   \n",
       "2       8  159660.80              3          1               0   \n",
       "3       1       0.00              2          0               0   \n",
       "4       2  125510.82              1          1               1   \n",
       "\n",
       "   EstimatedSalary  Exited  \n",
       "0        101348.88       1  \n",
       "1        112542.58       0  \n",
       "2        113931.57       1  \n",
       "3         93826.63       0  \n",
       "4         79084.10       0  "
      ]
     },
     "execution_count": 2,
     "metadata": {},
     "output_type": "execute_result"
    }
   ],
   "source": [
    "# Load the dataset.\n",
    "df = pd.read_csv(\"Churn_Modelling.csv\")\n",
    "\n",
    "# Display the first 5 lines using the head() method.\n",
    "df.head()"
   ]
  },
  {
   "cell_type": "markdown",
   "id": "d869a0a6",
   "metadata": {},
   "source": [
    "### 2.2 Data Understanding\n",
    "<b> Let’s have a look at data dimensionality."
   ]
  },
  {
   "cell_type": "code",
   "execution_count": 3,
   "id": "f6b6eb75",
   "metadata": {},
   "outputs": [
    {
     "data": {
      "text/plain": [
       "(10000, 14)"
      ]
     },
     "execution_count": 3,
     "metadata": {},
     "output_type": "execute_result"
    }
   ],
   "source": [
    "df.shape"
   ]
  },
  {
   "cell_type": "markdown",
   "id": "05207e40",
   "metadata": {},
   "source": [
    "<b> From the output, we can see that the table contains 10000 rows and 14 columns.\n",
    "\n",
    "<b> We can use the info() method to output some general information about the dataframe :"
   ]
  },
  {
   "cell_type": "code",
   "execution_count": 4,
   "id": "cb3267ee",
   "metadata": {},
   "outputs": [
    {
     "name": "stdout",
     "output_type": "stream",
     "text": [
      "<class 'pandas.core.frame.DataFrame'>\n",
      "RangeIndex: 10000 entries, 0 to 9999\n",
      "Data columns (total 14 columns):\n",
      " #   Column           Non-Null Count  Dtype  \n",
      "---  ------           --------------  -----  \n",
      " 0   RowNumber        10000 non-null  int64  \n",
      " 1   CustomerId       10000 non-null  int64  \n",
      " 2   Surname          10000 non-null  object \n",
      " 3   CreditScore      10000 non-null  int64  \n",
      " 4   Geography        10000 non-null  object \n",
      " 5   Gender           10000 non-null  object \n",
      " 6   Age              10000 non-null  int64  \n",
      " 7   Tenure           10000 non-null  int64  \n",
      " 8   Balance          10000 non-null  float64\n",
      " 9   NumOfProducts    10000 non-null  int64  \n",
      " 10  HasCrCard        10000 non-null  int64  \n",
      " 11  IsActiveMember   10000 non-null  int64  \n",
      " 12  EstimatedSalary  10000 non-null  float64\n",
      " 13  Exited           10000 non-null  int64  \n",
      "dtypes: float64(2), int64(9), object(3)\n",
      "memory usage: 1.1+ MB\n"
     ]
    }
   ],
   "source": [
    "df.info()"
   ]
  },
  {
   "cell_type": "markdown",
   "id": "e392cfaa",
   "metadata": {},
   "source": [
    "<b> int64, float64 and object are the data types of our features. We see that 11 features are numeric (9 features are int64 + 2 features are float64) and 3 features are categorical. With this same method, we can easily see if there are any missing values. Here, there are none because each column contains 10000 observations, the same number of rows we saw before with shape."
   ]
  },
  {
   "cell_type": "markdown",
   "id": "ea23682f",
   "metadata": {},
   "source": [
    "## Step - 3 : Data Preprocessing\n",
    "### 3.1 Exploratory Data Analysis (EDA)"
   ]
  },
  {
   "cell_type": "markdown",
   "id": "d354b763",
   "metadata": {},
   "source": [
    "<b> The describe method shows basic statistical characteristics of each numerical feature (int64 and float64 types): count, mean, standard deviation, min, max, median, 0.25 and 0.75 quartiles."
   ]
  },
  {
   "cell_type": "code",
   "execution_count": 5,
   "id": "64c2ee60",
   "metadata": {},
   "outputs": [
    {
     "data": {
      "text/html": [
       "<div>\n",
       "<style scoped>\n",
       "    .dataframe tbody tr th:only-of-type {\n",
       "        vertical-align: middle;\n",
       "    }\n",
       "\n",
       "    .dataframe tbody tr th {\n",
       "        vertical-align: top;\n",
       "    }\n",
       "\n",
       "    .dataframe thead th {\n",
       "        text-align: right;\n",
       "    }\n",
       "</style>\n",
       "<table border=\"1\" class=\"dataframe\">\n",
       "  <thead>\n",
       "    <tr style=\"text-align: right;\">\n",
       "      <th></th>\n",
       "      <th>RowNumber</th>\n",
       "      <th>CustomerId</th>\n",
       "      <th>CreditScore</th>\n",
       "      <th>Age</th>\n",
       "      <th>Tenure</th>\n",
       "      <th>Balance</th>\n",
       "      <th>NumOfProducts</th>\n",
       "      <th>HasCrCard</th>\n",
       "      <th>IsActiveMember</th>\n",
       "      <th>EstimatedSalary</th>\n",
       "      <th>Exited</th>\n",
       "    </tr>\n",
       "  </thead>\n",
       "  <tbody>\n",
       "    <tr>\n",
       "      <th>count</th>\n",
       "      <td>10000.00000</td>\n",
       "      <td>1.000000e+04</td>\n",
       "      <td>10000.000000</td>\n",
       "      <td>10000.000000</td>\n",
       "      <td>10000.000000</td>\n",
       "      <td>10000.000000</td>\n",
       "      <td>10000.000000</td>\n",
       "      <td>10000.00000</td>\n",
       "      <td>10000.000000</td>\n",
       "      <td>10000.000000</td>\n",
       "      <td>10000.000000</td>\n",
       "    </tr>\n",
       "    <tr>\n",
       "      <th>mean</th>\n",
       "      <td>5000.50000</td>\n",
       "      <td>1.569094e+07</td>\n",
       "      <td>650.528800</td>\n",
       "      <td>38.921800</td>\n",
       "      <td>5.012800</td>\n",
       "      <td>76485.889288</td>\n",
       "      <td>1.530200</td>\n",
       "      <td>0.70550</td>\n",
       "      <td>0.515100</td>\n",
       "      <td>100090.239881</td>\n",
       "      <td>0.203700</td>\n",
       "    </tr>\n",
       "    <tr>\n",
       "      <th>std</th>\n",
       "      <td>2886.89568</td>\n",
       "      <td>7.193619e+04</td>\n",
       "      <td>96.653299</td>\n",
       "      <td>10.487806</td>\n",
       "      <td>2.892174</td>\n",
       "      <td>62397.405202</td>\n",
       "      <td>0.581654</td>\n",
       "      <td>0.45584</td>\n",
       "      <td>0.499797</td>\n",
       "      <td>57510.492818</td>\n",
       "      <td>0.402769</td>\n",
       "    </tr>\n",
       "    <tr>\n",
       "      <th>min</th>\n",
       "      <td>1.00000</td>\n",
       "      <td>1.556570e+07</td>\n",
       "      <td>350.000000</td>\n",
       "      <td>18.000000</td>\n",
       "      <td>0.000000</td>\n",
       "      <td>0.000000</td>\n",
       "      <td>1.000000</td>\n",
       "      <td>0.00000</td>\n",
       "      <td>0.000000</td>\n",
       "      <td>11.580000</td>\n",
       "      <td>0.000000</td>\n",
       "    </tr>\n",
       "    <tr>\n",
       "      <th>25%</th>\n",
       "      <td>2500.75000</td>\n",
       "      <td>1.562853e+07</td>\n",
       "      <td>584.000000</td>\n",
       "      <td>32.000000</td>\n",
       "      <td>3.000000</td>\n",
       "      <td>0.000000</td>\n",
       "      <td>1.000000</td>\n",
       "      <td>0.00000</td>\n",
       "      <td>0.000000</td>\n",
       "      <td>51002.110000</td>\n",
       "      <td>0.000000</td>\n",
       "    </tr>\n",
       "    <tr>\n",
       "      <th>50%</th>\n",
       "      <td>5000.50000</td>\n",
       "      <td>1.569074e+07</td>\n",
       "      <td>652.000000</td>\n",
       "      <td>37.000000</td>\n",
       "      <td>5.000000</td>\n",
       "      <td>97198.540000</td>\n",
       "      <td>1.000000</td>\n",
       "      <td>1.00000</td>\n",
       "      <td>1.000000</td>\n",
       "      <td>100193.915000</td>\n",
       "      <td>0.000000</td>\n",
       "    </tr>\n",
       "    <tr>\n",
       "      <th>75%</th>\n",
       "      <td>7500.25000</td>\n",
       "      <td>1.575323e+07</td>\n",
       "      <td>718.000000</td>\n",
       "      <td>44.000000</td>\n",
       "      <td>7.000000</td>\n",
       "      <td>127644.240000</td>\n",
       "      <td>2.000000</td>\n",
       "      <td>1.00000</td>\n",
       "      <td>1.000000</td>\n",
       "      <td>149388.247500</td>\n",
       "      <td>0.000000</td>\n",
       "    </tr>\n",
       "    <tr>\n",
       "      <th>max</th>\n",
       "      <td>10000.00000</td>\n",
       "      <td>1.581569e+07</td>\n",
       "      <td>850.000000</td>\n",
       "      <td>92.000000</td>\n",
       "      <td>10.000000</td>\n",
       "      <td>250898.090000</td>\n",
       "      <td>4.000000</td>\n",
       "      <td>1.00000</td>\n",
       "      <td>1.000000</td>\n",
       "      <td>199992.480000</td>\n",
       "      <td>1.000000</td>\n",
       "    </tr>\n",
       "  </tbody>\n",
       "</table>\n",
       "</div>"
      ],
      "text/plain": [
       "         RowNumber    CustomerId   CreditScore           Age        Tenure  \\\n",
       "count  10000.00000  1.000000e+04  10000.000000  10000.000000  10000.000000   \n",
       "mean    5000.50000  1.569094e+07    650.528800     38.921800      5.012800   \n",
       "std     2886.89568  7.193619e+04     96.653299     10.487806      2.892174   \n",
       "min        1.00000  1.556570e+07    350.000000     18.000000      0.000000   \n",
       "25%     2500.75000  1.562853e+07    584.000000     32.000000      3.000000   \n",
       "50%     5000.50000  1.569074e+07    652.000000     37.000000      5.000000   \n",
       "75%     7500.25000  1.575323e+07    718.000000     44.000000      7.000000   \n",
       "max    10000.00000  1.581569e+07    850.000000     92.000000     10.000000   \n",
       "\n",
       "             Balance  NumOfProducts    HasCrCard  IsActiveMember  \\\n",
       "count   10000.000000   10000.000000  10000.00000    10000.000000   \n",
       "mean    76485.889288       1.530200      0.70550        0.515100   \n",
       "std     62397.405202       0.581654      0.45584        0.499797   \n",
       "min         0.000000       1.000000      0.00000        0.000000   \n",
       "25%         0.000000       1.000000      0.00000        0.000000   \n",
       "50%     97198.540000       1.000000      1.00000        1.000000   \n",
       "75%    127644.240000       2.000000      1.00000        1.000000   \n",
       "max    250898.090000       4.000000      1.00000        1.000000   \n",
       "\n",
       "       EstimatedSalary        Exited  \n",
       "count     10000.000000  10000.000000  \n",
       "mean     100090.239881      0.203700  \n",
       "std       57510.492818      0.402769  \n",
       "min          11.580000      0.000000  \n",
       "25%       51002.110000      0.000000  \n",
       "50%      100193.915000      0.000000  \n",
       "75%      149388.247500      0.000000  \n",
       "max      199992.480000      1.000000  "
      ]
     },
     "execution_count": 5,
     "metadata": {},
     "output_type": "execute_result"
    }
   ],
   "source": [
    "df.describe()"
   ]
  },
  {
   "cell_type": "markdown",
   "id": "37fae089",
   "metadata": {},
   "source": [
    "<b> Now use the value_counts method on 'Exited' variable."
   ]
  },
  {
   "cell_type": "code",
   "execution_count": 6,
   "id": "4d0a21eb",
   "metadata": {},
   "outputs": [
    {
     "data": {
      "text/plain": [
       "0    7963\n",
       "1    2037\n",
       "Name: Exited, dtype: int64"
      ]
     },
     "execution_count": 6,
     "metadata": {},
     "output_type": "execute_result"
    }
   ],
   "source": [
    "df['Exited'].value_counts()"
   ]
  },
  {
   "cell_type": "markdown",
   "id": "d434b656",
   "metadata": {},
   "source": [
    "<b> Customers still with the bank are more as compare to Customers exited the bank."
   ]
  },
  {
   "cell_type": "markdown",
   "id": "90aaceb9",
   "metadata": {},
   "source": [
    "<b> Now use the value_counts method on 'Geography' variable."
   ]
  },
  {
   "cell_type": "code",
   "execution_count": 7,
   "id": "136a371b",
   "metadata": {},
   "outputs": [
    {
     "data": {
      "text/plain": [
       "France     5014\n",
       "Germany    2509\n",
       "Spain      2477\n",
       "Name: Geography, dtype: int64"
      ]
     },
     "execution_count": 7,
     "metadata": {},
     "output_type": "execute_result"
    }
   ],
   "source": [
    "df['Geography'].value_counts()"
   ]
  },
  {
   "cell_type": "markdown",
   "id": "4e11b9be",
   "metadata": {},
   "source": [
    "<b> As we can see, the 'Geography' variable having 3 categories, i.e. France, Germany and Spain."
   ]
  },
  {
   "cell_type": "markdown",
   "id": "07aada41",
   "metadata": {},
   "source": [
    "<b> Now use the value_counts method on 'Gender' variable."
   ]
  },
  {
   "cell_type": "code",
   "execution_count": 8,
   "id": "74b83249",
   "metadata": {},
   "outputs": [
    {
     "data": {
      "text/plain": [
       "Male      5457\n",
       "Female    4543\n",
       "Name: Gender, dtype: int64"
      ]
     },
     "execution_count": 8,
     "metadata": {},
     "output_type": "execute_result"
    }
   ],
   "source": [
    "df['Gender'].value_counts()"
   ]
  },
  {
   "cell_type": "markdown",
   "id": "06dc7196",
   "metadata": {},
   "source": [
    "<b> As we can see, the 'Gender' variable having 2 categories, i.e. Male and Female."
   ]
  },
  {
   "cell_type": "markdown",
   "id": "5b3e7452",
   "metadata": {},
   "source": [
    "<b> Now printing the list of columns (column names) from this dataset."
   ]
  },
  {
   "cell_type": "code",
   "execution_count": 9,
   "id": "0ba4ca21",
   "metadata": {},
   "outputs": [
    {
     "data": {
      "text/plain": [
       "Index(['RowNumber', 'CustomerId', 'Surname', 'CreditScore', 'Geography',\n",
       "       'Gender', 'Age', 'Tenure', 'Balance', 'NumOfProducts', 'HasCrCard',\n",
       "       'IsActiveMember', 'EstimatedSalary', 'Exited'],\n",
       "      dtype='object')"
      ]
     },
     "execution_count": 9,
     "metadata": {},
     "output_type": "execute_result"
    }
   ],
   "source": [
    "df.columns"
   ]
  },
  {
   "cell_type": "markdown",
   "id": "84f58877",
   "metadata": {},
   "source": [
    "## Visualization\n",
    "<b> Visualizing the count of 'exited customers' in the dataset."
   ]
  },
  {
   "cell_type": "code",
   "execution_count": 10,
   "id": "b31ce6f1",
   "metadata": {},
   "outputs": [
    {
     "data": {
      "image/png": "[encoded data removed]",
      "text/plain": [
       "<Figure size 800x800 with 1 Axes>"
      ]
     },
     "metadata": {},
     "output_type": "display_data"
    }
   ],
   "source": [
    "# Visualizing the count of 'exited customers' in the dataset\n",
    "plt.figure(figsize=(8,8))                                                      # Create the figure\n",
    "sns.countplot(x='Exited', data=df)                                             # Apply the countplot\n",
    "plt.xlabel('0: Customers still with the bank, 1: Customers exited the bank')   # xlabel names\n",
    "plt.ylabel('Count')                                                            # ylabel name\n",
    "plt.title('Bank Customers Churn Visualization')                                # title name\n",
    "plt.show()                                                                     # display the plot"
   ]
  },
  {
   "cell_type": "markdown",
   "id": "33c4d7b3",
   "metadata": {},
   "source": [
    "<b> Checking the correlation of every pair of features (and the Exited variable), and visualize the correlations using a heatmap."
   ]
  },
  {
   "cell_type": "code",
   "execution_count": 11,
   "id": "57c2f069",
   "metadata": {},
   "outputs": [
    {
     "data": {
      "image/png": "[encoded data removed]",
      "text/plain": [
       "<Figure size 1000x1000 with 2 Axes>"
      ]
     },
     "metadata": {},
     "output_type": "display_data"
    }
   ],
   "source": [
    "# calculate the correlation between variables and store it in \"corr\" object.\n",
    "corr = df.corr()\n",
    "\n",
    "plt.figure(figsize=(10,10))                                   # Create the figure\n",
    "sns.heatmap(corr, annot=True, cmap='RdYlGn',center=0)         # plotting correlation heatmap.\n",
    "\n",
    "# displaying heatmap\n",
    "plt.show()"
   ]
  },
  {
   "cell_type": "markdown",
   "id": "3915c892",
   "metadata": {},
   "source": [
    "### 3.2 Data Cleaning\n",
    "<b> Checking the Empty cells / Missing values :\n",
    "- The isnull().sum() method returns the total number of missing values (count) present in the each column."
   ]
  },
  {
   "cell_type": "code",
   "execution_count": 12,
   "id": "623b48be",
   "metadata": {},
   "outputs": [
    {
     "data": {
      "text/plain": [
       "RowNumber          0\n",
       "CustomerId         0\n",
       "Surname            0\n",
       "CreditScore        0\n",
       "Geography          0\n",
       "Gender             0\n",
       "Age                0\n",
       "Tenure             0\n",
       "Balance            0\n",
       "NumOfProducts      0\n",
       "HasCrCard          0\n",
       "IsActiveMember     0\n",
       "EstimatedSalary    0\n",
       "Exited             0\n",
       "dtype: int64"
      ]
     },
     "execution_count": 12,
     "metadata": {},
     "output_type": "execute_result"
    }
   ],
   "source": [
    "# Check the missing values records.\n",
    "df.isnull().sum()"
   ]
  },
  {
   "cell_type": "markdown",
   "id": "bc279da7",
   "metadata": {},
   "source": [
    "<b> In the above, we can see that there is no missing values.\n",
    "    \n",
    "<b> 'RowNumber', 'CustomerId' and 'Surname' columns are totally unproductive so let's remove them."
   ]
  },
  {
   "cell_type": "code",
   "execution_count": 13,
   "id": "4a11d4de",
   "metadata": {},
   "outputs": [],
   "source": [
    "df.drop(['RowNumber','CustomerId','Surname'], axis=1, inplace=True)"
   ]
  },
  {
   "cell_type": "markdown",
   "id": "d6284687",
   "metadata": {},
   "source": [
    "<b> After dropping two columns, let's see the shape of the dataset."
   ]
  },
  {
   "cell_type": "code",
   "execution_count": 14,
   "id": "9cf9efb1",
   "metadata": {},
   "outputs": [
    {
     "data": {
      "text/plain": [
       "(10000, 11)"
      ]
     },
     "execution_count": 14,
     "metadata": {},
     "output_type": "execute_result"
    }
   ],
   "source": [
    "df.shape"
   ]
  },
  {
   "cell_type": "markdown",
   "id": "7d6c2e9f",
   "metadata": {},
   "source": [
    "<b> From the output, we can see that the table contains 10000 rows and 11 columns."
   ]
  },
  {
   "cell_type": "markdown",
   "id": "3738f844",
   "metadata": {},
   "source": [
    "### 3.3 Data Wrangling/Feature Engineering\n",
    "<b> Converting categorical features into numerical features. \n",
    "    \n",
    "<b> As we can see, there are 2 categorical features, i.e. 'Geography' and 'Gender'. Both features are Nominal (Unordered Groups), so here we are converting categorical features into numerical features using get_dummies() function."
   ]
  },
  {
   "cell_type": "code",
   "execution_count": 15,
   "id": "9ebb60be",
   "metadata": {},
   "outputs": [],
   "source": [
    "# Converting 'Geography' and 'Gender' column\n",
    "geography = pd.get_dummies(df['Geography'], drop_first=True)       \n",
    "gender = pd.get_dummies(df['Gender'], drop_first=True)"
   ]
  },
  {
   "cell_type": "code",
   "execution_count": 16,
   "id": "aea3cca6",
   "metadata": {},
   "outputs": [
    {
     "data": {
      "text/plain": [
       "Index(['CreditScore', 'Geography', 'Gender', 'Age', 'Tenure', 'Balance',\n",
       "       'NumOfProducts', 'HasCrCard', 'IsActiveMember', 'EstimatedSalary',\n",
       "       'Exited', 'Germany', 'Spain', 'Male'],\n",
       "      dtype='object')"
      ]
     },
     "execution_count": 16,
     "metadata": {},
     "output_type": "execute_result"
    }
   ],
   "source": [
    "# Appending columns to original dataframe\n",
    "df = pd.concat([df, geography, gender], axis=1)\n",
    "df.columns"
   ]
  },
  {
   "cell_type": "code",
   "execution_count": 17,
   "id": "55138eb4",
   "metadata": {},
   "outputs": [],
   "source": [
    "# dropping the 'Geography', and 'Gender' original columns from DataFrame.\n",
    "df.drop(['Geography', 'Gender'], axis=1, inplace=True)"
   ]
  },
  {
   "cell_type": "markdown",
   "id": "fffa381f",
   "metadata": {},
   "source": [
    "<b> In the above, first we have converted categorical features into numerical features seperatelly and then concatenated those features to original Dataset and finally dropped the original 'Geography', and 'Gender' features from DataFrame, beacuse we have already created numerical features for these features."
   ]
  },
  {
   "cell_type": "markdown",
   "id": "c3a44d5c",
   "metadata": {},
   "source": [
    "### 3.4 Train/Test Split\n",
    "<b> Creating independent variables as \"X\" variable: all variables excluding \"Exited\" variable. And dependent variable \"Exited\" as \"y\" variable."
   ]
  },
  {
   "cell_type": "code",
   "execution_count": 18,
   "id": "b6db30a8",
   "metadata": {},
   "outputs": [],
   "source": [
    "# Create x and y variables.\n",
    "X = df.drop('Exited', axis=1)     # independent variables\n",
    "y = df[\"Exited\"]                  # dependent variable"
   ]
  },
  {
   "cell_type": "markdown",
   "id": "ba46ba42",
   "metadata": {},
   "source": [
    "<b> Split the dataset further into train and test sets."
   ]
  },
  {
   "cell_type": "code",
   "execution_count": 19,
   "id": "bb261e0c",
   "metadata": {},
   "outputs": [],
   "source": [
    "# import train_test_split from scikit-learn.\n",
    "from sklearn.model_selection import train_test_split\n",
    "\n",
    "# Apply the train_test_split() function.\n",
    "X_train, X_test, y_train, y_test = train_test_split(X, y, test_size=0.2, random_state=0)"
   ]
  },
  {
   "cell_type": "markdown",
   "id": "75c767ab",
   "metadata": {},
   "source": [
    "In the first line of the above code, we have imported the train_test_split function from the sklearn library.\n",
    "\n",
    "\n",
    "In the second line, we have used four variables, which are :\n",
    "\n",
    "   - x_train: It is used to represent features for the training data\n",
    "   - x_test: It is used to represent features for testing data\n",
    "   - y_train: It is used to represent dependent variables for training data\n",
    "   - y_test: It is used to represent independent variable for testing data\n",
    "   \n",
    "   \n",
    "In the train_test_split() function, we have passed four parameters. In which first two are for arrays of data, and test_size is for specifying the size of the test set which tells the dividing ratio of training and testing sets. The last parameter, random_state, is used to set a seed for a random generator so that you always get the same result."
   ]
  },
  {
   "cell_type": "markdown",
   "id": "5f2040af",
   "metadata": {},
   "source": [
    "<b> View the dimensions of X_train, X_test, y_train, y_test"
   ]
  },
  {
   "cell_type": "code",
   "execution_count": 20,
   "id": "4fd13b06",
   "metadata": {},
   "outputs": [
    {
     "data": {
      "text/plain": [
       "((8000, 11), (2000, 11))"
      ]
     },
     "execution_count": 20,
     "metadata": {},
     "output_type": "execute_result"
    }
   ],
   "source": [
    "X_train.shape, X_test.shape"
   ]
  },
  {
   "cell_type": "code",
   "execution_count": 21,
   "id": "17c5b7e6",
   "metadata": {},
   "outputs": [
    {
     "data": {
      "text/plain": [
       "((8000,), (2000,))"
      ]
     },
     "execution_count": 21,
     "metadata": {},
     "output_type": "execute_result"
    }
   ],
   "source": [
    "y_train.shape, y_test.shape"
   ]
  },
  {
   "cell_type": "markdown",
   "id": "ef396c7a",
   "metadata": {},
   "source": [
    "### 3.5 Apply feature scaling to train and test sets of independent features.\n",
    "<b> Feature Scaling refers to the methods or techniques used to normalize the range of independent variables in our data, or in other words, the methods to set the feature value range within a similar scale.\n",
    "    \n",
    "<b> Variables with bigger magnitude / larger value range dominate over those with smaller magnitude / value range.\n",
    "    \n",
    "<b> So here we are applying feature scaling to train and test sets of independent features by using StandardScaler()."
   ]
  },
  {
   "cell_type": "code",
   "execution_count": 22,
   "id": "be03a726",
   "metadata": {},
   "outputs": [],
   "source": [
    "# Feature Scaling\n",
    "from sklearn.preprocessing import StandardScaler           # importing the StandardScaler() class\n",
    "sc = StandardScaler()                                      # initializing the StandardScaler() class as \"sc\"\n",
    "X_train = sc.fit_transform(X_train)                        # Applying the StandardScaler() class on X_train \n",
    "X_test = sc.transform(X_test)                              # Applying the StandardScaler() class on X_test"
   ]
  },
  {
   "cell_type": "markdown",
   "id": "e23f091c",
   "metadata": {},
   "source": [
    "## 4. Modelling / Building Artificial Neural Network (ANN)"
   ]
  },
  {
   "cell_type": "markdown",
   "id": "f2d3a8a8",
   "metadata": {},
   "source": [
    "<b> sequential model to initialize our ann and dense module to build the layers.\n",
    "    \n",
    "<b> The Sequential API is a framework for creating models based on instances of the sequential() class. The model has one input variable, a hidden layer with two neurons, and an output layer with one binary output. Additional layers can be created and added to the model. Things in sequence, or regular order, are arranged sequentially.\n",
    "    \n",
    "<b> Dense Layer is simple layer of neurons in which each neuron receives input from all the neurons of previous layer, thus called as dense. Dense Layer is used to classify image based on output from convolutional layers. Working of single neuron. A layer contains multiple number of such neurons. The parameters of Dense as:\n",
    "    \n",
    "    \n",
    "- input_dim: dimensionality of the input space.  \n",
    "    \n",
    "    \n",
    "- units: Positive integer, dimensionality of the output space.\n",
    "    \n",
    "    \n",
    "- activation: Activation function to use. If you don't specify anything, no activation is applied (ie. \"linear\" activation: a(x) = x).\n",
    "    \n",
    "    \n",
    "- use_bias: Boolean, whether the layer uses a bias vector.\n",
    "    \n",
    "    \n",
    "- kernel_initializer: Initializer for the kernel weights matrix.\n",
    "    \n",
    "    \n",
    " "
   ]
  },
  {
   "cell_type": "code",
   "execution_count": 23,
   "id": "99209955",
   "metadata": {},
   "outputs": [],
   "source": [
    "# sequential model to initialize our ann and dense module to build the layers\n",
    "\n",
    "# importing Sequential clas from keras.models library.\n",
    "from keras.models import Sequential   \n",
    "\n",
    "# importing Dense clas from keras.layers library.\n",
    "from keras.layers import Dense\n",
    "\n",
    "# initialize the ANN - Sequential class as 'ann'\n",
    "ann = Sequential()"
   ]
  },
  {
   "cell_type": "code",
   "execution_count": 24,
   "id": "4d22a4f4",
   "metadata": {},
   "outputs": [],
   "source": [
    "# Adding the input layer and the first hidden layer\n",
    "ann.add(Dense(input_dim=11, units=6, kernel_initializer='uniform', activation='relu'))"
   ]
  },
  {
   "cell_type": "code",
   "execution_count": 25,
   "id": "4636d24b",
   "metadata": {},
   "outputs": [],
   "source": [
    "# Adding the second hidden layer\n",
    "ann.add(Dense(units=6, kernel_initializer='uniform', activation='relu'))"
   ]
  },
  {
   "cell_type": "code",
   "execution_count": 26,
   "id": "acaad6e0",
   "metadata": {},
   "outputs": [],
   "source": [
    "# Adding the output layer\n",
    "ann.add(Dense(units=1, kernel_initializer='uniform', activation='sigmoid'))"
   ]
  },
  {
   "cell_type": "markdown",
   "id": "d0ee6233",
   "metadata": {},
   "source": [
    "<b> Compiling the ANN:\n",
    "\n",
    "The compilation is the final step in creating a model. Once the compilation is done, we can move on to training phase. The parameters of compile as:\n",
    "\n",
    "- **Loss:** In machine learning, Loss function is used to find error or deviation in the learning process. Keras requires loss function during model compilation process. Keras provides quite a few loss function in the losses module and they are as follows −\n",
    "\n",
    "    mean_squared_error                                                                                       \n",
    "    mean_absolute_error                                                                                             \n",
    "    binary_crossentropy, etc                                                                                       \n",
    "    \n",
    "    \n",
    "- **Optimizer:** In machine learning, Optimization is an important process which optimize the input weights by comparing the prediction and the loss function. Keras provides quite a few optimizer as a module, optimizers and they are as follows:\n",
    "    \n",
    "    SGD − Stochastic gradient descent optimizer.                                                                               Adam − Adam optimizer.                                                                                         \n",
    "    RMSprop − RMSProp optimizer. etc                                                                                  \n",
    "    \n",
    "    \n",
    "- **Metrics:** In machine learning, Metrics is used to evaluate the performance of your model. It is similar to loss function, but not used in training process. Keras provides quite a few metrics as a module, metrics and they are as follows\n",
    "\n",
    "   accuracy                                                                                                     \n",
    "   binary_accuracy                                                                                                   \n",
    "   categorical_accuracy                                                                                                \n",
    "    "
   ]
  },
  {
   "cell_type": "code",
   "execution_count": 27,
   "id": "1a232613",
   "metadata": {},
   "outputs": [],
   "source": [
    "# Compiling the ANN\n",
    "ann.compile(optimizer='adam', loss='binary_crossentropy', metrics=['accuracy'])"
   ]
  },
  {
   "cell_type": "code",
   "execution_count": 28,
   "id": "65e7878a",
   "metadata": {},
   "outputs": [
    {
     "name": "stdout",
     "output_type": "stream",
     "text": [
      "Epoch 1/100\n",
      "250/250 [==============================] - 1s 2ms/step - loss: 0.5853 - accuracy: 0.7936\n",
      "Epoch 2/100\n",
      "250/250 [==============================] - 0s 2ms/step - loss: 0.4391 - accuracy: 0.7960\n",
      "Epoch 3/100\n",
      "250/250 [==============================] - 0s 2ms/step - loss: 0.4321 - accuracy: 0.7960\n",
      "Epoch 4/100\n",
      "250/250 [==============================] - 0s 2ms/step - loss: 0.4292 - accuracy: 0.7960\n",
      "Epoch 5/100\n",
      "250/250 [==============================] - 0s 2ms/step - loss: 0.4264 - accuracy: 0.7960\n",
      "Epoch 6/100\n",
      "250/250 [==============================] - 1s 2ms/step - loss: 0.4239 - accuracy: 0.7960\n",
      "Epoch 7/100\n",
      "250/250 [==============================] - 0s 2ms/step - loss: 0.4215 - accuracy: 0.7960\n",
      "Epoch 8/100\n",
      "250/250 [==============================] - 1s 2ms/step - loss: 0.4197 - accuracy: 0.8070\n",
      "Epoch 9/100\n",
      "250/250 [==============================] - 0s 2ms/step - loss: 0.4181 - accuracy: 0.8186\n",
      "Epoch 10/100\n",
      "250/250 [==============================] - 0s 2ms/step - loss: 0.4170 - accuracy: 0.8229\n",
      "Epoch 11/100\n",
      "250/250 [==============================] - 0s 2ms/step - loss: 0.4159 - accuracy: 0.8249\n",
      "Epoch 12/100\n",
      "250/250 [==============================] - 0s 2ms/step - loss: 0.4149 - accuracy: 0.8292\n",
      "Epoch 13/100\n",
      "250/250 [==============================] - 1s 2ms/step - loss: 0.4139 - accuracy: 0.8285\n",
      "Epoch 14/100\n",
      "250/250 [==============================] - 0s 2ms/step - loss: 0.4130 - accuracy: 0.8291\n",
      "Epoch 15/100\n",
      "250/250 [==============================] - 0s 2ms/step - loss: 0.4122 - accuracy: 0.8309\n",
      "Epoch 16/100\n",
      "250/250 [==============================] - 0s 2ms/step - loss: 0.4110 - accuracy: 0.8317\n",
      "Epoch 17/100\n",
      "250/250 [==============================] - 0s 2ms/step - loss: 0.4108 - accuracy: 0.8316\n",
      "Epoch 18/100\n",
      "250/250 [==============================] - 1s 2ms/step - loss: 0.4101 - accuracy: 0.8330\n",
      "Epoch 19/100\n",
      "250/250 [==============================] - 1s 2ms/step - loss: 0.4095 - accuracy: 0.8329\n",
      "Epoch 20/100\n",
      "250/250 [==============================] - 1s 2ms/step - loss: 0.4089 - accuracy: 0.8339\n",
      "Epoch 21/100\n",
      "250/250 [==============================] - 1s 2ms/step - loss: 0.4084 - accuracy: 0.8341\n",
      "Epoch 22/100\n",
      "250/250 [==============================] - 1s 2ms/step - loss: 0.4079 - accuracy: 0.8335\n",
      "Epoch 23/100\n",
      "250/250 [==============================] - 0s 2ms/step - loss: 0.4073 - accuracy: 0.8342\n",
      "Epoch 24/100\n",
      "250/250 [==============================] - 1s 2ms/step - loss: 0.4070 - accuracy: 0.8344\n",
      "Epoch 25/100\n",
      "250/250 [==============================] - 1s 2ms/step - loss: 0.4067 - accuracy: 0.8341\n",
      "Epoch 26/100\n",
      "250/250 [==============================] - 1s 2ms/step - loss: 0.4058 - accuracy: 0.8354\n",
      "Epoch 27/100\n",
      "250/250 [==============================] - 1s 2ms/step - loss: 0.4058 - accuracy: 0.8344\n",
      "Epoch 28/100\n",
      "250/250 [==============================] - 1s 2ms/step - loss: 0.4055 - accuracy: 0.8353\n",
      "Epoch 29/100\n",
      "250/250 [==============================] - 1s 3ms/step - loss: 0.4052 - accuracy: 0.8357\n",
      "Epoch 30/100\n",
      "250/250 [==============================] - 1s 3ms/step - loss: 0.4050 - accuracy: 0.8350\n",
      "Epoch 31/100\n",
      "250/250 [==============================] - 1s 2ms/step - loss: 0.4047 - accuracy: 0.8353\n",
      "Epoch 32/100\n",
      "250/250 [==============================] - 1s 3ms/step - loss: 0.4044 - accuracy: 0.8349\n",
      "Epoch 33/100\n",
      "250/250 [==============================] - 1s 2ms/step - loss: 0.4042 - accuracy: 0.8347\n",
      "Epoch 34/100\n",
      "250/250 [==============================] - 1s 3ms/step - loss: 0.4037 - accuracy: 0.8359\n",
      "Epoch 35/100\n",
      "250/250 [==============================] - 1s 2ms/step - loss: 0.4036 - accuracy: 0.8357\n",
      "Epoch 36/100\n",
      "250/250 [==============================] - 1s 2ms/step - loss: 0.4034 - accuracy: 0.8353\n",
      "Epoch 37/100\n",
      "250/250 [==============================] - 1s 2ms/step - loss: 0.4032 - accuracy: 0.8347\n",
      "Epoch 38/100\n",
      "250/250 [==============================] - 0s 2ms/step - loss: 0.4031 - accuracy: 0.8346\n",
      "Epoch 39/100\n",
      "250/250 [==============================] - 1s 2ms/step - loss: 0.4030 - accuracy: 0.8355\n",
      "Epoch 40/100\n",
      "250/250 [==============================] - 0s 2ms/step - loss: 0.4024 - accuracy: 0.8346\n",
      "Epoch 41/100\n",
      "250/250 [==============================] - 1s 2ms/step - loss: 0.4025 - accuracy: 0.8356\n",
      "Epoch 42/100\n",
      "250/250 [==============================] - 1s 2ms/step - loss: 0.4026 - accuracy: 0.8361\n",
      "Epoch 43/100\n",
      "250/250 [==============================] - 1s 2ms/step - loss: 0.4024 - accuracy: 0.8355\n",
      "Epoch 44/100\n",
      "250/250 [==============================] - 1s 2ms/step - loss: 0.4022 - accuracy: 0.8355\n",
      "Epoch 45/100\n",
      "250/250 [==============================] - 1s 2ms/step - loss: 0.4021 - accuracy: 0.8361\n",
      "Epoch 46/100\n",
      "250/250 [==============================] - 1s 2ms/step - loss: 0.4020 - accuracy: 0.8360\n",
      "Epoch 47/100\n",
      "250/250 [==============================] - 1s 2ms/step - loss: 0.4023 - accuracy: 0.8351\n",
      "Epoch 48/100\n",
      "250/250 [==============================] - 1s 2ms/step - loss: 0.4020 - accuracy: 0.8351\n",
      "Epoch 49/100\n",
      "250/250 [==============================] - 1s 2ms/step - loss: 0.4013 - accuracy: 0.8353\n",
      "Epoch 50/100\n",
      "250/250 [==============================] - 1s 2ms/step - loss: 0.4015 - accuracy: 0.8356\n",
      "Epoch 51/100\n",
      "250/250 [==============================] - 1s 2ms/step - loss: 0.4012 - accuracy: 0.8342\n",
      "Epoch 52/100\n",
      "250/250 [==============================] - 0s 2ms/step - loss: 0.4013 - accuracy: 0.8359\n",
      "Epoch 53/100\n",
      "250/250 [==============================] - 0s 2ms/step - loss: 0.4011 - accuracy: 0.8346\n",
      "Epoch 54/100\n",
      "250/250 [==============================] - 0s 2ms/step - loss: 0.4013 - accuracy: 0.8344\n",
      "Epoch 55/100\n",
      "250/250 [==============================] - 1s 2ms/step - loss: 0.4009 - accuracy: 0.8356\n",
      "Epoch 56/100\n",
      "250/250 [==============================] - 1s 3ms/step - loss: 0.4011 - accuracy: 0.8353\n",
      "Epoch 57/100\n",
      "250/250 [==============================] - 1s 2ms/step - loss: 0.4007 - accuracy: 0.8360\n",
      "Epoch 58/100\n",
      "250/250 [==============================] - 1s 2ms/step - loss: 0.4006 - accuracy: 0.8351\n",
      "Epoch 59/100\n",
      "250/250 [==============================] - 1s 3ms/step - loss: 0.4008 - accuracy: 0.8351\n",
      "Epoch 60/100\n",
      "250/250 [==============================] - 1s 2ms/step - loss: 0.4006 - accuracy: 0.8364\n",
      "Epoch 61/100\n",
      "250/250 [==============================] - 1s 2ms/step - loss: 0.4003 - accuracy: 0.8347\n",
      "Epoch 62/100\n",
      "250/250 [==============================] - 1s 2ms/step - loss: 0.4006 - accuracy: 0.8357\n",
      "Epoch 63/100\n",
      "250/250 [==============================] - 1s 2ms/step - loss: 0.4007 - accuracy: 0.8351\n",
      "Epoch 64/100\n",
      "250/250 [==============================] - 1s 2ms/step - loss: 0.4001 - accuracy: 0.8351\n",
      "Epoch 65/100\n",
      "250/250 [==============================] - 1s 2ms/step - loss: 0.4003 - accuracy: 0.8365\n",
      "Epoch 66/100\n",
      "250/250 [==============================] - 1s 3ms/step - loss: 0.4004 - accuracy: 0.8346\n",
      "Epoch 67/100\n",
      "250/250 [==============================] - 1s 2ms/step - loss: 0.4002 - accuracy: 0.8338\n",
      "Epoch 68/100\n",
      "250/250 [==============================] - 1s 2ms/step - loss: 0.4000 - accuracy: 0.8365\n",
      "Epoch 69/100\n",
      "250/250 [==============================] - 0s 2ms/step - loss: 0.4004 - accuracy: 0.8332\n",
      "Epoch 70/100\n",
      "250/250 [==============================] - 1s 2ms/step - loss: 0.4000 - accuracy: 0.8364\n",
      "Epoch 71/100\n",
      "250/250 [==============================] - 1s 2ms/step - loss: 0.4003 - accuracy: 0.8351\n",
      "Epoch 72/100\n",
      "250/250 [==============================] - 1s 3ms/step - loss: 0.4001 - accuracy: 0.8353\n",
      "Epoch 73/100\n",
      "250/250 [==============================] - 1s 2ms/step - loss: 0.4003 - accuracy: 0.8357\n",
      "Epoch 74/100\n",
      "250/250 [==============================] - 1s 2ms/step - loss: 0.4002 - accuracy: 0.8359\n",
      "Epoch 75/100\n",
      "250/250 [==============================] - 1s 2ms/step - loss: 0.3999 - accuracy: 0.8369\n",
      "Epoch 76/100\n",
      "250/250 [==============================] - 1s 2ms/step - loss: 0.3999 - accuracy: 0.8357\n",
      "Epoch 77/100\n",
      "250/250 [==============================] - 1s 2ms/step - loss: 0.3997 - accuracy: 0.8356\n",
      "Epoch 78/100\n",
      "250/250 [==============================] - 1s 2ms/step - loss: 0.4000 - accuracy: 0.8350\n",
      "Epoch 79/100\n",
      "250/250 [==============================] - 1s 2ms/step - loss: 0.3998 - accuracy: 0.8345\n",
      "Epoch 80/100\n",
      "250/250 [==============================] - 1s 2ms/step - loss: 0.3996 - accuracy: 0.8345\n",
      "Epoch 81/100\n"
     ]
    },
    {
     "name": "stdout",
     "output_type": "stream",
     "text": [
      "250/250 [==============================] - 1s 2ms/step - loss: 0.4003 - accuracy: 0.8351\n",
      "Epoch 82/100\n",
      "250/250 [==============================] - 0s 2ms/step - loss: 0.4000 - accuracy: 0.8349\n",
      "Epoch 83/100\n",
      "250/250 [==============================] - 0s 2ms/step - loss: 0.3997 - accuracy: 0.8367\n",
      "Epoch 84/100\n",
      "250/250 [==============================] - 0s 2ms/step - loss: 0.3998 - accuracy: 0.8342\n",
      "Epoch 85/100\n",
      "250/250 [==============================] - 1s 2ms/step - loss: 0.3997 - accuracy: 0.8347\n",
      "Epoch 86/100\n",
      "250/250 [==============================] - 0s 2ms/step - loss: 0.3998 - accuracy: 0.8355\n",
      "Epoch 87/100\n",
      "250/250 [==============================] - 0s 2ms/step - loss: 0.3997 - accuracy: 0.8359\n",
      "Epoch 88/100\n",
      "250/250 [==============================] - 0s 2ms/step - loss: 0.3997 - accuracy: 0.8354\n",
      "Epoch 89/100\n",
      "250/250 [==============================] - 0s 2ms/step - loss: 0.3999 - accuracy: 0.8359\n",
      "Epoch 90/100\n",
      "250/250 [==============================] - 0s 2ms/step - loss: 0.3997 - accuracy: 0.8357\n",
      "Epoch 91/100\n",
      "250/250 [==============================] - 1s 2ms/step - loss: 0.3994 - accuracy: 0.8347\n",
      "Epoch 92/100\n",
      "250/250 [==============================] - 0s 2ms/step - loss: 0.3995 - accuracy: 0.8346\n",
      "Epoch 93/100\n",
      "250/250 [==============================] - 1s 2ms/step - loss: 0.3997 - accuracy: 0.8357\n",
      "Epoch 94/100\n",
      "250/250 [==============================] - 0s 2ms/step - loss: 0.3997 - accuracy: 0.8359\n",
      "Epoch 95/100\n",
      "250/250 [==============================] - 1s 2ms/step - loss: 0.4001 - accuracy: 0.8363\n",
      "Epoch 96/100\n",
      "250/250 [==============================] - 0s 2ms/step - loss: 0.3996 - accuracy: 0.8353\n",
      "Epoch 97/100\n",
      "250/250 [==============================] - 0s 2ms/step - loss: 0.3995 - accuracy: 0.8346\n",
      "Epoch 98/100\n",
      "250/250 [==============================] - 0s 2ms/step - loss: 0.3995 - accuracy: 0.8353\n",
      "Epoch 99/100\n",
      "250/250 [==============================] - 1s 2ms/step - loss: 0.3997 - accuracy: 0.8347\n",
      "Epoch 100/100\n",
      "250/250 [==============================] - 0s 2ms/step - loss: 0.3996 - accuracy: 0.8357\n"
     ]
    },
    {
     "data": {
      "text/plain": [
       "<keras.callbacks.History at 0x2c297fffdf0>"
      ]
     },
     "execution_count": 28,
     "metadata": {},
     "output_type": "execute_result"
    }
   ],
   "source": [
    "# Fitting the ANN to the Training set\n",
    "ann.fit(X_train, y_train, batch_size = 32, epochs = 100)"
   ]
  },
  {
   "cell_type": "markdown",
   "id": "47061b32",
   "metadata": {},
   "source": [
    "<b> In the above, we have Fitted the ANN to the Training set. In the we have used 'batch_size' and 'epochs' as:\n",
    "\n",
    "- **batch_size:** Number of samples per gradient update. default to 32.\n",
    "       \n",
    "    \n",
    "- **epochs:** Number of epochs to train the model. An epoch is an iteration over the entire `x` and `y` data provided."
   ]
  },
  {
   "cell_type": "markdown",
   "id": "7b35103e",
   "metadata": {},
   "source": [
    "## 5. Prediction and Model Evaluation\n",
    "<b> Predicting the Test set results"
   ]
  },
  {
   "cell_type": "code",
   "execution_count": 29,
   "id": "7e97d6de",
   "metadata": {},
   "outputs": [
    {
     "name": "stdout",
     "output_type": "stream",
     "text": [
      "63/63 [==============================] - 0s 2ms/step\n"
     ]
    }
   ],
   "source": [
    "# Predicting the Test set results\n",
    "y_pred = ann.predict(X_test)\n",
    "y_pred = (y_pred > 0.5)                   # if value greater than '0.5' then '1' else '0'"
   ]
  },
  {
   "cell_type": "markdown",
   "id": "d0bc16b3",
   "metadata": {},
   "source": [
    "<b> Model Evaluation"
   ]
  },
  {
   "cell_type": "code",
   "execution_count": 30,
   "id": "b5d4d279",
   "metadata": {},
   "outputs": [
    {
     "name": "stdout",
     "output_type": "stream",
     "text": [
      "The accuracy for ANN model is: 0.841\n"
     ]
    }
   ],
   "source": [
    "# Calculate the Accuracy\n",
    "\n",
    "# importing the accuracy_score class from sklearn.metrics library\n",
    "from sklearn.metrics import accuracy_score\n",
    "\n",
    "# print the \"The accuracy for ANN model is\"\n",
    "print(\"The accuracy for ANN model is:\", accuracy_score(y_test, y_pred))"
   ]
  },
  {
   "cell_type": "code",
   "execution_count": 31,
   "id": "81998950",
   "metadata": {},
   "outputs": [
    {
     "data": {
      "text/plain": [
       "array([[1541,   54],\n",
       "       [ 264,  141]], dtype=int64)"
      ]
     },
     "execution_count": 31,
     "metadata": {},
     "output_type": "execute_result"
    }
   ],
   "source": [
    "# Making the Confusion Matrix\n",
    "\n",
    "# importing the confusion_matrix class from sklearn.metrics library\n",
    "from sklearn.metrics import confusion_matrix\n",
    "\n",
    "# apply the confusion matrix\n",
    "cm = confusion_matrix(y_test, y_pred)\n",
    "\n",
    "# print the confusion matrix\n",
    "cm"
   ]
  },
  {
   "cell_type": "markdown",
   "id": "dc7582ac",
   "metadata": {},
   "source": [
    "<b> From the confusion matrix we have got:\n",
    "    \n",
    "- Total correct predictions that customers stay in bank = 1541\n",
    "\n",
    "    \n",
    "- Total correct predictions that customers leave the bank = 141\n",
    "\n",
    "    \n",
    "- Total incorrect predictions that customers stay in the bank = 264\n",
    "\n",
    "    \n",
    "- Total incorrect predictions that customers leave in the bank = 54\n",
    "    "
   ]
  },
  {
   "cell_type": "code",
   "execution_count": 32,
   "id": "aaaf4690",
   "metadata": {},
   "outputs": [
    {
     "data": {
      "image/png": "[encoded data removed]",
      "text/plain": [
       "<Figure size 800x600 with 2 Axes>"
      ]
     },
     "metadata": {},
     "output_type": "display_data"
    }
   ],
   "source": [
    "# Plotting confusion matrix\n",
    "plt.figure(figsize=(8,6))\n",
    "sns.heatmap(cm, cmap='Blues', annot=True, xticklabels=['Did not Exit', 'Exit'], yticklabels=['Did not Exit', 'Exit'])\n",
    "plt.xlabel('Predicted values')\n",
    "plt.ylabel('Actual values')\n",
    "plt.title('Confusion Matrix for ANN model')\n",
    "plt.show()"
   ]
  },
  {
   "cell_type": "markdown",
   "id": "b8d3fe29",
   "metadata": {},
   "source": [
    "<b> Classification Report"
   ]
  },
  {
   "cell_type": "code",
   "execution_count": 33,
   "id": "4e20e197",
   "metadata": {},
   "outputs": [
    {
     "name": "stdout",
     "output_type": "stream",
     "text": [
      "              precision    recall  f1-score   support\n",
      "\n",
      "           0       0.85      0.97      0.91      1595\n",
      "           1       0.72      0.35      0.47       405\n",
      "\n",
      "    accuracy                           0.84      2000\n",
      "   macro avg       0.79      0.66      0.69      2000\n",
      "weighted avg       0.83      0.84      0.82      2000\n",
      "\n"
     ]
    }
   ],
   "source": [
    "# import classification_report\n",
    "from sklearn.metrics import classification_report\n",
    "\n",
    "# print the classification_report\n",
    "print(classification_report(y_test,y_pred))"
   ]
  },
  {
   "cell_type": "markdown",
   "id": "1a6e616b",
   "metadata": {},
   "source": [
    "## 6. Evaluation of Multiple Training Instances"
   ]
  },
  {
   "cell_type": "code",
   "execution_count": 34,
   "id": "11f74d4b",
   "metadata": {},
   "outputs": [],
   "source": [
    "# Evaluating, Improving and Tuning the ANN\n",
    "\n",
    "# Evaluating the ANN\n",
    "from keras.wrappers.scikit_learn import KerasClassifier          # importing the KerasClassifier class\n",
    "from sklearn.model_selection import cross_val_score              # importing the cross_val_score class\n",
    "from keras.models import Sequential                              # importing the Sequential class\n",
    "from keras.layers import Dense                                   # importing the Dense class\n",
    "\n",
    "# defining the function\n",
    "def build_classifier():\n",
    "    ann = Sequential()\n",
    "    ann.add(Dense(units = 6, kernel_initializer = 'uniform', activation = 'relu', input_dim = 11))\n",
    "    ann.add(Dense(units = 6, kernel_initializer = 'uniform', activation = 'relu'))\n",
    "    ann.add(Dense(units = 1, kernel_initializer = 'uniform', activation = 'sigmoid'))\n",
    "    ann.compile(optimizer = 'adam', loss = 'binary_crossentropy', metrics = ['accuracy'])\n",
    "    return ann\n",
    "ann = KerasClassifier(build_fn = build_classifier, batch_size = 32, epochs = 100,verbose=0)\n",
    "accuracies = cross_val_score(estimator = ann, X = X_train, y = y_train, cv = 10)\n",
    "mean = accuracies.mean()\n",
    "variance = accuracies.std()\n"
   ]
  },
  {
   "cell_type": "code",
   "execution_count": 35,
   "id": "3d44e539",
   "metadata": {},
   "outputs": [
    {
     "name": "stdout",
     "output_type": "stream",
     "text": [
      "Mean accuracy score of 32 different models using Kfold cross validation: 0.8429999947547913\n",
      "Standard Deviation of accuracy score of 32 different models using Kfold cross validation: 0.020419048221683264\n"
     ]
    }
   ],
   "source": [
    "print('Mean accuracy score of 32 different models using Kfold cross validation: {}'.format(mean))\n",
    "print('Standard Deviation of accuracy score of 32 different models using Kfold cross validation: {}'.format(variance))"
   ]
  },
  {
   "cell_type": "markdown",
   "id": "d3fcfb4b",
   "metadata": {},
   "source": [
    "<b> Deviation is very low so I'd say that it is unlikely to be an overfitted model. With different training sets it got the mean with all training results is still very close to the above model."
   ]
  },
  {
   "cell_type": "markdown",
   "id": "b2c5e621",
   "metadata": {},
   "source": [
    "## 7. Improving/Tuning the ANN\n",
    "<b> Now let’s tune the Hyperparameters to get the values that can help in improving the model. We will be optimizing the following Hyperparameters in the model:\n",
    "\n",
    "- Number of neurons in each hidden layer\n",
    "- Activation function\n",
    "- Optimizer\n",
    "- Learning rate\n",
    "- Batch size\n",
    "- Epoch\n",
    "- Number of hidden layers\n",
    "- Regularization layers (Batch normalization, Dropout layer)\n",
    "    \n",
    "    \n",
    "The first hyperparameter to tune is the **number of neurons in each hidden layer**. In this case, the number of neurons in every layer is set to be the same. It also can be made different. The number of neurons should be adjusted to the solution complexity. The task with a more complex level to predict needs more neurons. The number of neurons range is set to be from 10 to 100.\n",
    "\n",
    "An **activation function** is a parameter in each layer. Input data are fed to the input layer, followed by hidden layers, and the final output layer. The output layer contains the output value. The input values moving from a layer to another layer keep changing according to the activation function. The activation function decides how to compute the input values of a layer into output values. The output values of a layer are then passed to the next layer as input values again. The next layer then computes the values into output values for another layer again. There are 9 activation functions to tune in to this demonstration. Each activation function has its own formula (and graph) to compute the input values.\n",
    "\n",
    "The layers of a neural network are compiled and an optimizer is assigned. The **optimizer** is responsible to change the learning rate and weights of neurons in the neural network to reach the minimum loss function. Optimizer is very important to achieve the possible highest accuracy or minimum loss. There are 7 optimizers to choose from. Each has a different concept behind it.\n",
    "\n",
    "One of the hyperparameters in the optimizer is the **learning rate**. We will also tune the learning rate. Learning rate controls the step size for a model to reach the minimum loss function. A higher learning rate makes the model learn faster, but it may miss the minimum loss function and only reach the surrounding of it. A lower learning rate gives a better chance to find a minimum loss function. As a tradeoff lower learning rate needs higher epochs, or more time and memory capacity resources.  \n",
    "    \n",
    "If the observation size of the training dataset is too large, it will definitely take a longer time to build the model. To make the model learn faster, we can assign batch size so that not all of the training data are given to the model at the same time. **Batch size** is the number of training data sub-samples for the input. If the training dataset has 77,500 observations and the batch size is 1000, the model will learn 77 times with 1000 training data sub-samples and another last learning from the 500 training data sub-samples. The smaller batch size makes the learning process faster, but the variance of the validation dataset accuracy is higher. A bigger batch size has a slower learning process, but the validation dataset accuracy has a lower variance.\n",
    "    \n",
    "The number of times a whole dataset is passed through the neural network model is called an **epoch**. One epoch means that the training dataset is passed forward and backward through the neural network once. A too-small number of epochs results in underfitting because the neural network has not learned much enough. The training dataset needs to pass multiple times or multiple epochs are required. On the other hand, too many epochs will lead to overfitting where the model can predict the data very well, but cannot predict new unseen data well enough. The number of epoch must be tuned to gain the optimal result. This demonstration searches for a suitable number of epochs between 20 to 100.  \n",
    "    \n",
    "**Layers in Neural Network** also determine the result of the prediction model. A smaller number of layers is enough for a simpler problem, but a larger number of layers is needed to build a model for a more complicated problem. The number of layers can be tuned using the \"for loop\" iteration. This demonstration tune the number of layers two times. Each time, the number of layers is tuned between 1 to 3.\n",
    "\n",
    "Inserting **regularization layers** in a neural network can help prevent overfitting. This demonstration tries to tune whether to add regularization layers or not. There are two regularization layers to use here.\n",
    "\n",
    "**Batch normalization** is placed after the first hidden layers. The batch normalization layer normalizes the values passed to it for every batch. This is similar to standard scaler in conventional Machine Learning.\n",
    "\n",
    "Another regularization layer is the Dropout layer. The **dropout layer**, as its name suggests, randomly drops a certain number of neurons in a layer. The dropped neurons are not used anymore. The rate of how much percentage of neurons to drop is set in the dropout rate.\n",
    "    \n",
    "    \n",
    "<b> The following code creates a function for tuning the Neural Network hyperparameters and layers."
   ]
  },
  {
   "cell_type": "code",
   "execution_count": 36,
   "id": "fbdbab43",
   "metadata": {},
   "outputs": [
    {
     "name": "stdout",
     "output_type": "stream",
     "text": [
      "Requirement already satisfied: bayesian-optimization in c:\\users\\administrator\\anaconda3\\lib\\site-packages (1.4.1)\n",
      "Requirement already satisfied: scipy>=1.0.0 in c:\\users\\administrator\\anaconda3\\lib\\site-packages (from bayesian-optimization) (1.9.1)\n",
      "Requirement already satisfied: numpy>=1.9.0 in c:\\users\\administrator\\anaconda3\\lib\\site-packages (from bayesian-optimization) (1.21.5)\n",
      "Requirement already satisfied: colorama in c:\\users\\administrator\\anaconda3\\lib\\site-packages (from bayesian-optimization) (0.4.6)\n",
      "Requirement already satisfied: scikit-learn>=0.18.0 in c:\\users\\administrator\\anaconda3\\lib\\site-packages (from bayesian-optimization) (1.0.2)\n",
      "Requirement already satisfied: threadpoolctl>=2.0.0 in c:\\users\\administrator\\anaconda3\\lib\\site-packages (from scikit-learn>=0.18.0->bayesian-optimization) (2.2.0)\n",
      "Requirement already satisfied: joblib>=0.11 in c:\\users\\administrator\\anaconda3\\lib\\site-packages (from scikit-learn>=0.18.0->bayesian-optimization) (1.2.0)\n"
     ]
    }
   ],
   "source": [
    "# install the bayesian-optimization\n",
    "!pip install bayesian-optimization"
   ]
  },
  {
   "cell_type": "code",
   "execution_count": 37,
   "id": "4c07f313",
   "metadata": {},
   "outputs": [],
   "source": [
    "# Import packages\n",
    "import numpy as np\n",
    "import pandas as pd\n",
    "import matplotlib.pyplot as plt\n",
    "import seaborn as sns\n",
    "from sklearn.model_selection import train_test_split\n",
    "from sklearn.model_selection import cross_val_score\n",
    "from keras.models import Sequential\n",
    "from keras.layers import Dense, BatchNormalization, Dropout\n",
    "from keras.optimizers import Adam, SGD, RMSprop, Adadelta, Adagrad, Adamax, Nadam, Ftrl\n",
    "from keras.callbacks import EarlyStopping, ModelCheckpoint\n",
    "from keras.wrappers.scikit_learn import KerasClassifier\n",
    "from math import floor\n",
    "from sklearn.metrics import make_scorer, accuracy_score\n",
    "from bayes_opt import BayesianOptimization\n",
    "from sklearn.model_selection import StratifiedKFold\n",
    "from keras.layers import LeakyReLU\n",
    "LeakyReLU = LeakyReLU(alpha=0.1)\n",
    "import warnings\n",
    "warnings.filterwarnings('ignore')\n",
    "pd.set_option(\"display.max_columns\", None)"
   ]
  },
  {
   "cell_type": "code",
   "execution_count": 38,
   "id": "4b8fb4ae",
   "metadata": {},
   "outputs": [],
   "source": [
    "# Create function\n",
    "def nn_cl_bo2(neurons, activation, optimizer, learning_rate, batch_size, epochs, \n",
    "              layers1, layers2, normalization, dropout, dropout_rate):\n",
    "    optimizerL = ['SGD', 'Adam', 'RMSprop', 'Adadelta', 'Adagrad', 'Adamax', 'Nadam', 'Ftrl','SGD']\n",
    "    optimizerD= {'Adam':Adam(lr=learning_rate), 'SGD':SGD(lr=learning_rate),\n",
    "                 'RMSprop':RMSprop(lr=learning_rate), 'Adadelta':Adadelta(lr=learning_rate),\n",
    "                 'Adagrad':Adagrad(lr=learning_rate), 'Adamax':Adamax(lr=learning_rate),\n",
    "                 'Nadam':Nadam(lr=learning_rate), 'Ftrl':Ftrl(lr=learning_rate)}\n",
    "    activationL = ['relu', 'sigmoid', 'softplus', 'softsign', 'tanh', 'selu',\n",
    "                   'elu', 'exponential', LeakyReLU,'relu']\n",
    "    neurons = round(neurons)\n",
    "    activation = activationL[round(activation)]\n",
    "    optimizer = optimizerD[optimizerL[round(optimizer)]]\n",
    "    batch_size = round(batch_size)\n",
    "    epochs = round(epochs)\n",
    "    layers1 = round(layers1)\n",
    "    layers2 = round(layers2)\n",
    "    def nn_cl_fun():\n",
    "        nn = Sequential()\n",
    "        nn.add(Dense(neurons, input_dim=11, activation=activation))\n",
    "        if normalization > 0.5:\n",
    "            nn.add(BatchNormalization())\n",
    "        for i in range(layers1):\n",
    "            nn.add(Dense(neurons, activation=activation))\n",
    "        if dropout > 0.5:\n",
    "            nn.add(Dropout(dropout_rate, seed=123))\n",
    "        for i in range(layers2):\n",
    "            nn.add(Dense(neurons, activation=activation))\n",
    "        nn.add(Dense(1, activation='sigmoid'))\n",
    "        nn.compile(loss='binary_crossentropy', optimizer=optimizer, metrics=['accuracy'])\n",
    "        return nn\n",
    "    es = EarlyStopping(monitor='accuracy', mode='max', verbose=0, patience=20)\n",
    "    nn = KerasClassifier(build_fn=nn_cl_fun, epochs=epochs, batch_size=batch_size, verbose=0)\n",
    "    kfold = StratifiedKFold(n_splits=5, shuffle=True, random_state=123)\n",
    "    score = cross_val_score(nn, X_train, y_train, scoring=score_acc, cv=kfold, fit_params={'callbacks':[es]}).mean()\n",
    "    return score\n",
    "\n",
    "# Make scorer accuracy\n",
    "score_acc = make_scorer(accuracy_score)"
   ]
  },
  {
   "cell_type": "markdown",
   "id": "03e7a6a4",
   "metadata": {},
   "source": [
    "The following code searches for the optimum hyperparameters and layers for the Neural Network model."
   ]
  },
  {
   "cell_type": "code",
   "execution_count": 39,
   "id": "c755ec69",
   "metadata": {},
   "outputs": [
    {
     "name": "stdout",
     "output_type": "stream",
     "text": [
      "|   iter    |  target   | activa... | batch_... |  dropout  | dropou... |  epochs   |  layers1  |  layers2  | learni... |  neurons  | normal... | optimizer |\n",
      "-------------------------------------------------------------------------------------------------------------------------------------------------------------\n",
      "50/50 [==============================] - 0s 3ms/step\n",
      "50/50 [==============================] - 0s 2ms/step\n",
      "50/50 [==============================] - 0s 2ms/step\n",
      "50/50 [==============================] - 0s 2ms/step\n",
      "50/50 [==============================] - 0s 2ms/step\n",
      "| \u001b[0m1        \u001b[0m | \u001b[0m0.592    \u001b[0m | \u001b[0m4.939    \u001b[0m | \u001b[0m772.2    \u001b[0m | \u001b[0m0.6028   \u001b[0m | \u001b[0m0.1635   \u001b[0m | \u001b[0m53.89    \u001b[0m | \u001b[0m2.292    \u001b[0m | \u001b[0m1.875    \u001b[0m | \u001b[0m0.8929   \u001b[0m | \u001b[0m96.73    \u001b[0m | \u001b[0m0.3834   \u001b[0m | \u001b[0m5.542    \u001b[0m |\n",
      "50/50 [==============================] - 0s 2ms/step\n",
      "50/50 [==============================] - 0s 2ms/step\n",
      "50/50 [==============================] - 0s 3ms/step\n",
      "50/50 [==============================] - 0s 2ms/step\n",
      "50/50 [==============================] - 0s 2ms/step\n",
      "| \u001b[95m2        \u001b[0m | \u001b[95m0.7956   \u001b[0m | \u001b[95m4.76     \u001b[0m | \u001b[95m654.4    \u001b[0m | \u001b[95m0.9256   \u001b[0m | \u001b[95m0.02131  \u001b[0m | \u001b[95m26.97    \u001b[0m | \u001b[95m1.04     \u001b[0m | \u001b[95m2.665    \u001b[0m | \u001b[95m0.7804   \u001b[0m | \u001b[95m88.3     \u001b[0m | \u001b[95m0.9786   \u001b[0m | \u001b[95m5.594    \u001b[0m |\n",
      "50/50 [==============================] - 0s 1ms/step\n",
      "50/50 [==============================] - 0s 2ms/step\n",
      "50/50 [==============================] - 0s 2ms/step\n",
      "50/50 [==============================] - 0s 2ms/step\n",
      "50/50 [==============================] - 0s 2ms/step\n",
      "| \u001b[95m3        \u001b[0m | \u001b[95m0.855    \u001b[0m | \u001b[95m4.153    \u001b[0m | \u001b[95m824.4    \u001b[0m | \u001b[95m0.1183   \u001b[0m | \u001b[95m0.192    \u001b[0m | \u001b[95m31.47    \u001b[0m | \u001b[95m2.889    \u001b[0m | \u001b[95m2.044    \u001b[0m | \u001b[95m0.4205   \u001b[0m | \u001b[95m33.81    \u001b[0m | \u001b[95m0.7742   \u001b[0m | \u001b[95m3.193    \u001b[0m |\n",
      "50/50 [==============================] - 0s 2ms/step\n",
      "50/50 [==============================] - 0s 2ms/step\n",
      "50/50 [==============================] - 0s 2ms/step\n",
      "50/50 [==============================] - 0s 2ms/step\n",
      "50/50 [==============================] - 0s 2ms/step\n",
      "| \u001b[0m4        \u001b[0m | \u001b[0m0.8517   \u001b[0m | \u001b[0m5.116    \u001b[0m | \u001b[0m215.0    \u001b[0m | \u001b[0m0.6176   \u001b[0m | \u001b[0m0.1836   \u001b[0m | \u001b[0m69.35    \u001b[0m | \u001b[0m2.887    \u001b[0m | \u001b[0m2.364    \u001b[0m | \u001b[0m0.3659   \u001b[0m | \u001b[0m49.33    \u001b[0m | \u001b[0m0.6976   \u001b[0m | \u001b[0m0.4216   \u001b[0m |\n",
      "50/50 [==============================] - 0s 3ms/step\n",
      "50/50 [==============================] - 0s 3ms/step\n",
      "50/50 [==============================] - 0s 3ms/step\n",
      "50/50 [==============================] - 0s 2ms/step\n",
      "50/50 [==============================] - 0s 2ms/step\n",
      "| \u001b[0m5        \u001b[0m | \u001b[0m0.6775   \u001b[0m | \u001b[0m6.001    \u001b[0m | \u001b[0m736.5    \u001b[0m | \u001b[0m0.2104   \u001b[0m | \u001b[0m0.03868  \u001b[0m | \u001b[0m45.23    \u001b[0m | \u001b[0m1.727    \u001b[0m | \u001b[0m2.14     \u001b[0m | \u001b[0m0.4442   \u001b[0m | \u001b[0m98.95    \u001b[0m | \u001b[0m0.102    \u001b[0m | \u001b[0m1.462    \u001b[0m |\n",
      "50/50 [==============================] - 0s 2ms/step\n",
      "50/50 [==============================] - 0s 1ms/step\n",
      "50/50 [==============================] - 0s 2ms/step\n",
      "50/50 [==============================] - 0s 2ms/step\n",
      "50/50 [==============================] - 0s 3ms/step\n",
      "| \u001b[0m6        \u001b[0m | \u001b[0m0.796    \u001b[0m | \u001b[0m1.452    \u001b[0m | \u001b[0m722.5    \u001b[0m | \u001b[0m0.2533   \u001b[0m | \u001b[0m0.1399   \u001b[0m | \u001b[0m39.55    \u001b[0m | \u001b[0m1.318    \u001b[0m | \u001b[0m1.221    \u001b[0m | \u001b[0m0.6598   \u001b[0m | \u001b[0m22.44    \u001b[0m | \u001b[0m0.1966   \u001b[0m | \u001b[0m2.581    \u001b[0m |\n",
      "50/50 [==============================] - 0s 2ms/step\n",
      "50/50 [==============================] - 0s 2ms/step\n",
      "50/50 [==============================] - 0s 2ms/step\n",
      "50/50 [==============================] - 0s 2ms/step\n",
      "50/50 [==============================] - 0s 2ms/step\n",
      "| \u001b[0m7        \u001b[0m | \u001b[0m0.796    \u001b[0m | \u001b[0m7.389    \u001b[0m | \u001b[0m277.7    \u001b[0m | \u001b[0m0.8379   \u001b[0m | \u001b[0m0.02883  \u001b[0m | \u001b[0m98.12    \u001b[0m | \u001b[0m1.937    \u001b[0m | \u001b[0m2.954    \u001b[0m | \u001b[0m0.6088   \u001b[0m | \u001b[0m76.53    \u001b[0m | \u001b[0m0.03919  \u001b[0m | \u001b[0m1.98     \u001b[0m |\n",
      "50/50 [==============================] - 0s 2ms/step\n",
      "50/50 [==============================] - 0s 2ms/step\n",
      "50/50 [==============================] - 0s 2ms/step\n",
      "50/50 [==============================] - 0s 2ms/step\n",
      "50/50 [==============================] - 0s 2ms/step\n",
      "| \u001b[0m8        \u001b[0m | \u001b[0m0.796    \u001b[0m | \u001b[0m1.082    \u001b[0m | \u001b[0m436.9    \u001b[0m | \u001b[0m0.1187   \u001b[0m | \u001b[0m0.09539  \u001b[0m | \u001b[0m53.14    \u001b[0m | \u001b[0m1.128    \u001b[0m | \u001b[0m2.385    \u001b[0m | \u001b[0m0.5709   \u001b[0m | \u001b[0m33.89    \u001b[0m | \u001b[0m0.5232   \u001b[0m | \u001b[0m0.6576   \u001b[0m |\n",
      "50/50 [==============================] - 0s 2ms/step\n",
      "50/50 [==============================] - 0s 2ms/step\n",
      "50/50 [==============================] - 0s 2ms/step\n",
      "50/50 [==============================] - 0s 2ms/step\n",
      "50/50 [==============================] - 0s 3ms/step\n",
      "| \u001b[0m9        \u001b[0m | \u001b[0m0.5975   \u001b[0m | \u001b[0m5.184    \u001b[0m | \u001b[0m943.4    \u001b[0m | \u001b[0m0.3186   \u001b[0m | \u001b[0m0.2002   \u001b[0m | \u001b[0m30.54    \u001b[0m | \u001b[0m2.433    \u001b[0m | \u001b[0m1.579    \u001b[0m | \u001b[0m0.1914   \u001b[0m | \u001b[0m62.79    \u001b[0m | \u001b[0m0.02011  \u001b[0m | \u001b[0m5.803    \u001b[0m |\n",
      "50/50 [==============================] - 0s 2ms/step\n",
      "50/50 [==============================] - 0s 1ms/step\n",
      "50/50 [==============================] - 0s 2ms/step\n",
      "50/50 [==============================] - 0s 1ms/step\n",
      "50/50 [==============================] - 0s 2ms/step\n",
      "| \u001b[0m10       \u001b[0m | \u001b[0m0.796    \u001b[0m | \u001b[0m0.04226  \u001b[0m | \u001b[0m742.3    \u001b[0m | \u001b[0m0.27     \u001b[0m | \u001b[0m0.2206   \u001b[0m | \u001b[0m96.98    \u001b[0m | \u001b[0m1.498    \u001b[0m | \u001b[0m2.152    \u001b[0m | \u001b[0m0.5961   \u001b[0m | \u001b[0m61.5     \u001b[0m | \u001b[0m0.2231   \u001b[0m | \u001b[0m6.669    \u001b[0m |\n",
      "50/50 [==============================] - 0s 2ms/step\n",
      "50/50 [==============================] - 0s 2ms/step\n",
      "50/50 [==============================] - 0s 2ms/step\n",
      "50/50 [==============================] - 0s 2ms/step\n",
      "50/50 [==============================] - 0s 2ms/step\n",
      "| \u001b[0m11       \u001b[0m | \u001b[0m0.7712   \u001b[0m | \u001b[0m4.024    \u001b[0m | \u001b[0m877.1    \u001b[0m | \u001b[0m0.6995   \u001b[0m | \u001b[0m0.08923  \u001b[0m | \u001b[0m85.1     \u001b[0m | \u001b[0m1.793    \u001b[0m | \u001b[0m2.762    \u001b[0m | \u001b[0m0.5855   \u001b[0m | \u001b[0m89.36    \u001b[0m | \u001b[0m0.6925   \u001b[0m | \u001b[0m5.077    \u001b[0m |\n",
      "50/50 [==============================] - 0s 2ms/step\n",
      "50/50 [==============================] - 0s 2ms/step\n",
      "50/50 [==============================] - 0s 2ms/step\n",
      "50/50 [==============================] - 0s 2ms/step\n",
      "50/50 [==============================] - 0s 2ms/step\n",
      "| \u001b[95m12       \u001b[0m | \u001b[95m0.8576   \u001b[0m | \u001b[95m4.512    \u001b[0m | \u001b[95m964.9    \u001b[0m | \u001b[95m0.644    \u001b[0m | \u001b[95m0.1272   \u001b[0m | \u001b[95m68.51    \u001b[0m | \u001b[95m1.038    \u001b[0m | \u001b[95m1.603    \u001b[0m | \u001b[95m0.6636   \u001b[0m | \u001b[95m36.11    \u001b[0m | \u001b[95m0.618    \u001b[0m | \u001b[95m3.001    \u001b[0m |\n",
      "50/50 [==============================] - 0s 2ms/step\n",
      "50/50 [==============================] - 0s 2ms/step\n",
      "50/50 [==============================] - 0s 2ms/step\n",
      "50/50 [==============================] - 0s 2ms/step\n",
      "50/50 [==============================] - 0s 2ms/step\n",
      "| \u001b[0m13       \u001b[0m | \u001b[0m0.796    \u001b[0m | \u001b[0m1.219    \u001b[0m | \u001b[0m438.6    \u001b[0m | \u001b[0m0.57     \u001b[0m | \u001b[0m0.1773   \u001b[0m | \u001b[0m65.95    \u001b[0m | \u001b[0m2.306    \u001b[0m | \u001b[0m2.304    \u001b[0m | \u001b[0m0.4371   \u001b[0m | \u001b[0m90.69    \u001b[0m | \u001b[0m0.3676   \u001b[0m | \u001b[0m3.051    \u001b[0m |\n",
      "50/50 [==============================] - 0s 2ms/step\n",
      "50/50 [==============================] - 0s 2ms/step\n",
      "50/50 [==============================] - 0s 2ms/step\n",
      "50/50 [==============================] - 0s 2ms/step\n",
      "50/50 [==============================] - 0s 2ms/step\n",
      "| \u001b[0m14       \u001b[0m | \u001b[0m0.854    \u001b[0m | \u001b[0m8.027    \u001b[0m | \u001b[0m845.0    \u001b[0m | \u001b[0m0.7039   \u001b[0m | \u001b[0m0.03007  \u001b[0m | \u001b[0m93.56    \u001b[0m | \u001b[0m2.428    \u001b[0m | \u001b[0m2.998    \u001b[0m | \u001b[0m0.158    \u001b[0m | \u001b[0m88.13    \u001b[0m | \u001b[0m0.1625   \u001b[0m | \u001b[0m4.309    \u001b[0m |\n",
      "50/50 [==============================] - 0s 2ms/step\n",
      "50/50 [==============================] - 0s 2ms/step\n",
      "50/50 [==============================] - 0s 2ms/step\n",
      "50/50 [==============================] - 0s 3ms/step\n",
      "50/50 [==============================] - 0s 2ms/step\n",
      "| \u001b[0m15       \u001b[0m | \u001b[0m0.796    \u001b[0m | \u001b[0m1.114    \u001b[0m | \u001b[0m878.4    \u001b[0m | \u001b[0m0.8073   \u001b[0m | \u001b[0m0.1707   \u001b[0m | \u001b[0m52.57    \u001b[0m | \u001b[0m1.138    \u001b[0m | \u001b[0m2.395    \u001b[0m | \u001b[0m0.459    \u001b[0m | \u001b[0m74.99    \u001b[0m | \u001b[0m0.8664   \u001b[0m | \u001b[0m6.829    \u001b[0m |\n"
     ]
    },
    {
     "name": "stdout",
     "output_type": "stream",
     "text": [
      "50/50 [==============================] - 0s 1ms/step\n",
      "50/50 [==============================] - 0s 1ms/step\n",
      "50/50 [==============================] - 0s 1ms/step\n",
      "50/50 [==============================] - 0s 1ms/step\n",
      "50/50 [==============================] - 0s 1ms/step\n",
      "| \u001b[0m16       \u001b[0m | \u001b[0m0.8039   \u001b[0m | \u001b[0m7.702    \u001b[0m | \u001b[0m209.4    \u001b[0m | \u001b[0m0.36     \u001b[0m | \u001b[0m0.219    \u001b[0m | \u001b[0m33.73    \u001b[0m | \u001b[0m2.042    \u001b[0m | \u001b[0m1.109    \u001b[0m | \u001b[0m0.208    \u001b[0m | \u001b[0m11.67    \u001b[0m | \u001b[0m0.7937   \u001b[0m | \u001b[0m1.567    \u001b[0m |\n",
      "50/50 [==============================] - 0s 2ms/step\n",
      "50/50 [==============================] - 0s 2ms/step\n",
      "50/50 [==============================] - 0s 2ms/step\n",
      "50/50 [==============================] - 0s 2ms/step\n",
      "50/50 [==============================] - 0s 2ms/step\n",
      "| \u001b[0m17       \u001b[0m | \u001b[0m0.851    \u001b[0m | \u001b[0m3.108    \u001b[0m | \u001b[0m942.5    \u001b[0m | \u001b[0m0.7044   \u001b[0m | \u001b[0m0.009552 \u001b[0m | \u001b[0m33.18    \u001b[0m | \u001b[0m2.243    \u001b[0m | \u001b[0m2.154    \u001b[0m | \u001b[0m0.2455   \u001b[0m | \u001b[0m94.08    \u001b[0m | \u001b[0m0.614    \u001b[0m | \u001b[0m3.749    \u001b[0m |\n",
      "50/50 [==============================] - 0s 2ms/step\n",
      "50/50 [==============================] - 0s 1ms/step\n",
      "50/50 [==============================] - 0s 2ms/step\n",
      "50/50 [==============================] - 0s 2ms/step\n",
      "50/50 [==============================] - 0s 2ms/step\n",
      "| \u001b[0m18       \u001b[0m | \u001b[0m0.445    \u001b[0m | \u001b[0m5.309    \u001b[0m | \u001b[0m784.1    \u001b[0m | \u001b[0m0.3119   \u001b[0m | \u001b[0m0.1195   \u001b[0m | \u001b[0m36.79    \u001b[0m | \u001b[0m1.372    \u001b[0m | \u001b[0m2.889    \u001b[0m | \u001b[0m0.7422   \u001b[0m | \u001b[0m54.14    \u001b[0m | \u001b[0m0.2274   \u001b[0m | \u001b[0m1.78     \u001b[0m |\n",
      "50/50 [==============================] - 0s 1ms/step\n",
      "50/50 [==============================] - 0s 1ms/step\n",
      "50/50 [==============================] - 0s 1ms/step\n",
      "50/50 [==============================] - 0s 2ms/step\n",
      "50/50 [==============================] - 0s 1ms/step\n",
      "| \u001b[0m19       \u001b[0m | \u001b[0m0.796    \u001b[0m | \u001b[0m0.5223   \u001b[0m | \u001b[0m547.5    \u001b[0m | \u001b[0m0.3118   \u001b[0m | \u001b[0m0.2089   \u001b[0m | \u001b[0m50.22    \u001b[0m | \u001b[0m1.359    \u001b[0m | \u001b[0m1.049    \u001b[0m | \u001b[0m0.07658  \u001b[0m | \u001b[0m71.15    \u001b[0m | \u001b[0m0.4537   \u001b[0m | \u001b[0m3.756    \u001b[0m |\n",
      "50/50 [==============================] - 0s 2ms/step\n",
      "50/50 [==============================] - 0s 2ms/step\n",
      "50/50 [==============================] - 0s 2ms/step\n",
      "50/50 [==============================] - 0s 2ms/step\n",
      "50/50 [==============================] - 0s 1ms/step\n",
      "| \u001b[0m20       \u001b[0m | \u001b[0m0.7125   \u001b[0m | \u001b[0m8.07     \u001b[0m | \u001b[0m992.3    \u001b[0m | \u001b[0m0.2169   \u001b[0m | \u001b[0m0.1989   \u001b[0m | \u001b[0m41.07    \u001b[0m | \u001b[0m1.041    \u001b[0m | \u001b[0m2.517    \u001b[0m | \u001b[0m0.3268   \u001b[0m | \u001b[0m44.51    \u001b[0m | \u001b[0m0.5883   \u001b[0m | \u001b[0m5.817    \u001b[0m |\n",
      "50/50 [==============================] - 0s 2ms/step\n",
      "50/50 [==============================] - 0s 2ms/step\n",
      "50/50 [==============================] - 0s 2ms/step\n",
      "50/50 [==============================] - 0s 2ms/step\n",
      "50/50 [==============================] - 0s 2ms/step\n",
      "| \u001b[0m21       \u001b[0m | \u001b[0m0.6784   \u001b[0m | \u001b[0m5.661    \u001b[0m | \u001b[0m898.1    \u001b[0m | \u001b[0m0.2735   \u001b[0m | \u001b[0m0.2394   \u001b[0m | \u001b[0m34.85    \u001b[0m | \u001b[0m2.906    \u001b[0m | \u001b[0m2.375    \u001b[0m | \u001b[0m0.2234   \u001b[0m | \u001b[0m95.26    \u001b[0m | \u001b[0m0.7309   \u001b[0m | \u001b[0m1.778    \u001b[0m |\n",
      "50/50 [==============================] - 0s 2ms/step\n",
      "50/50 [==============================] - 0s 2ms/step\n",
      "50/50 [==============================] - 0s 2ms/step\n",
      "50/50 [==============================] - 0s 2ms/step\n",
      "50/50 [==============================] - 0s 2ms/step\n",
      "| \u001b[0m22       \u001b[0m | \u001b[0m0.796    \u001b[0m | \u001b[0m1.92     \u001b[0m | \u001b[0m614.6    \u001b[0m | \u001b[0m0.02566  \u001b[0m | \u001b[0m0.06224  \u001b[0m | \u001b[0m53.97    \u001b[0m | \u001b[0m1.748    \u001b[0m | \u001b[0m1.927    \u001b[0m | \u001b[0m0.2849   \u001b[0m | \u001b[0m62.81    \u001b[0m | \u001b[0m0.8639   \u001b[0m | \u001b[0m0.8227   \u001b[0m |\n",
      "50/50 [==============================] - 0s 1ms/step\n",
      "50/50 [==============================] - 0s 2ms/step\n",
      "50/50 [==============================] - 0s 3ms/step\n",
      "50/50 [==============================] - 0s 1ms/step\n",
      "50/50 [==============================] - 0s 2ms/step\n",
      "| \u001b[0m23       \u001b[0m | \u001b[0m0.8545   \u001b[0m | \u001b[0m4.656    \u001b[0m | \u001b[0m305.7    \u001b[0m | \u001b[0m0.7169   \u001b[0m | \u001b[0m0.1188   \u001b[0m | \u001b[0m65.23    \u001b[0m | \u001b[0m1.367    \u001b[0m | \u001b[0m1.29     \u001b[0m | \u001b[0m0.4932   \u001b[0m | \u001b[0m42.01    \u001b[0m | \u001b[0m0.9404   \u001b[0m | \u001b[0m5.357    \u001b[0m |\n",
      "50/50 [==============================] - 0s 3ms/step\n",
      "50/50 [==============================] - 0s 5ms/step\n",
      "50/50 [==============================] - 0s 2ms/step\n",
      "50/50 [==============================] - 0s 2ms/step\n",
      "50/50 [==============================] - 0s 1ms/step\n",
      "| \u001b[0m24       \u001b[0m | \u001b[0m0.796    \u001b[0m | \u001b[0m6.738    \u001b[0m | \u001b[0m923.0    \u001b[0m | \u001b[0m0.08342  \u001b[0m | \u001b[0m0.1657   \u001b[0m | \u001b[0m66.76    \u001b[0m | \u001b[0m2.924    \u001b[0m | \u001b[0m1.584    \u001b[0m | \u001b[0m0.2484   \u001b[0m | \u001b[0m19.03    \u001b[0m | \u001b[0m0.01643  \u001b[0m | \u001b[0m6.507    \u001b[0m |\n",
      "50/50 [==============================] - 0s 2ms/step\n",
      "50/50 [==============================] - 0s 2ms/step\n",
      "50/50 [==============================] - 0s 2ms/step\n",
      "50/50 [==============================] - 0s 2ms/step\n",
      "50/50 [==============================] - 0s 2ms/step\n",
      "| \u001b[0m25       \u001b[0m | \u001b[0m0.7959   \u001b[0m | \u001b[0m6.029    \u001b[0m | \u001b[0m828.1    \u001b[0m | \u001b[0m0.2817   \u001b[0m | \u001b[0m0.1759   \u001b[0m | \u001b[0m25.12    \u001b[0m | \u001b[0m1.971    \u001b[0m | \u001b[0m2.955    \u001b[0m | \u001b[0m0.8777   \u001b[0m | \u001b[0m40.43    \u001b[0m | \u001b[0m0.9616   \u001b[0m | \u001b[0m1.622    \u001b[0m |\n",
      "50/50 [==============================] - 0s 2ms/step\n",
      "50/50 [==============================] - 0s 2ms/step\n",
      "50/50 [==============================] - 0s 1ms/step\n",
      "50/50 [==============================] - 0s 2ms/step\n",
      "50/50 [==============================] - 0s 2ms/step\n",
      "| \u001b[0m26       \u001b[0m | \u001b[0m0.8559   \u001b[0m | \u001b[0m1.596    \u001b[0m | \u001b[0m831.6    \u001b[0m | \u001b[0m0.0      \u001b[0m | \u001b[0m0.2201   \u001b[0m | \u001b[0m40.01    \u001b[0m | \u001b[0m3.0      \u001b[0m | \u001b[0m1.0      \u001b[0m | \u001b[0m0.01     \u001b[0m | \u001b[0m20.59    \u001b[0m | \u001b[0m0.7341   \u001b[0m | \u001b[0m5.522    \u001b[0m |\n",
      "50/50 [==============================] - 0s 2ms/step\n",
      "50/50 [==============================] - 0s 2ms/step\n",
      "50/50 [==============================] - 0s 2ms/step\n",
      "50/50 [==============================] - 0s 3ms/step\n",
      "50/50 [==============================] - 0s 2ms/step\n",
      "| \u001b[0m27       \u001b[0m | \u001b[0m0.787    \u001b[0m | \u001b[0m4.265    \u001b[0m | \u001b[0m824.6    \u001b[0m | \u001b[0m0.2962   \u001b[0m | \u001b[0m0.1167   \u001b[0m | \u001b[0m33.75    \u001b[0m | \u001b[0m2.864    \u001b[0m | \u001b[0m1.076    \u001b[0m | \u001b[0m0.5018   \u001b[0m | \u001b[0m32.84    \u001b[0m | \u001b[0m0.8141   \u001b[0m | \u001b[0m0.6471   \u001b[0m |\n",
      "50/50 [==============================] - 0s 2ms/step\n",
      "50/50 [==============================] - 0s 2ms/step\n",
      "50/50 [==============================] - 0s 1ms/step\n",
      "50/50 [==============================] - 0s 1ms/step\n",
      "50/50 [==============================] - 0s 1ms/step\n",
      "| \u001b[0m28       \u001b[0m | \u001b[0m0.8562   \u001b[0m | \u001b[0m7.544    \u001b[0m | \u001b[0m832.5    \u001b[0m | \u001b[0m0.7628   \u001b[0m | \u001b[0m0.2945   \u001b[0m | \u001b[0m35.24    \u001b[0m | \u001b[0m2.252    \u001b[0m | \u001b[0m1.117    \u001b[0m | \u001b[0m0.7828   \u001b[0m | \u001b[0m24.33    \u001b[0m | \u001b[0m0.1328   \u001b[0m | \u001b[0m4.343    \u001b[0m |\n",
      "50/50 [==============================] - 0s 1ms/step\n",
      "50/50 [==============================] - 0s 1ms/step\n",
      "50/50 [==============================] - 0s 1ms/step\n",
      "50/50 [==============================] - 0s 2ms/step\n",
      "50/50 [==============================] - 0s 2ms/step\n",
      "| \u001b[0m29       \u001b[0m | \u001b[0m0.8514   \u001b[0m | \u001b[0m2.71     \u001b[0m | \u001b[0m831.0    \u001b[0m | \u001b[0m0.7562   \u001b[0m | \u001b[0m0.08765  \u001b[0m | \u001b[0m27.1     \u001b[0m | \u001b[0m2.316    \u001b[0m | \u001b[0m1.499    \u001b[0m | \u001b[0m0.9544   \u001b[0m | \u001b[0m26.24    \u001b[0m | \u001b[0m0.2105   \u001b[0m | \u001b[0m4.354    \u001b[0m |\n",
      "=============================================================================================================================================================\n"
     ]
    }
   ],
   "source": [
    "params_nn2 ={\n",
    "    'neurons': (10, 100),\n",
    "    'activation':(0, 9),\n",
    "    'optimizer':(0,7),\n",
    "    'learning_rate':(0.01, 1),\n",
    "    'batch_size':(200, 1000),\n",
    "    'epochs':(20, 100),\n",
    "    'layers1':(1,3),\n",
    "    'layers2':(1,3),\n",
    "    'normalization':(0,1),\n",
    "    'dropout':(0,1),\n",
    "    'dropout_rate':(0,0.3)\n",
    "}\n",
    "# Run Bayesian Optimization\n",
    "nn_bo = BayesianOptimization(nn_cl_bo2, params_nn2, random_state=0)\n",
    "nn_bo.maximize(init_points=25, n_iter=4)"
   ]
  },
  {
   "cell_type": "code",
   "execution_count": 40,
   "id": "129e9a96",
   "metadata": {},
   "outputs": [
    {
     "data": {
      "text/plain": [
       "{'activation': 'selu',\n",
       " 'batch_size': 965,\n",
       " 'dropout': 0.6439901992296374,\n",
       " 'dropout_rate': 0.1271565145674539,\n",
       " 'epochs': 69,\n",
       " 'layers1': 1,\n",
       " 'layers2': 2,\n",
       " 'learning_rate': 0.6635718021177582,\n",
       " 'neurons': 36,\n",
       " 'normalization': 0.6180154289988415,\n",
       " 'optimizer': <keras.optimizers.optimizer_v2.adadelta.Adadelta at 0x2c2a0ea3280>}"
      ]
     },
     "execution_count": 40,
     "metadata": {},
     "output_type": "execute_result"
    }
   ],
   "source": [
    "# Here are the tuned hyperparameters and layers.\n",
    "\n",
    "params_nn_ = nn_bo.max['params']\n",
    "learning_rate = params_nn_['learning_rate']\n",
    "activationL = ['relu', 'sigmoid', 'softplus', 'softsign', 'tanh', 'selu',\n",
    "               'elu', 'exponential', LeakyReLU,'relu']\n",
    "params_nn_['activation'] = activationL[round(params_nn_['activation'])]\n",
    "params_nn_['batch_size'] = round(params_nn_['batch_size'])\n",
    "params_nn_['epochs'] = round(params_nn_['epochs'])\n",
    "params_nn_['layers1'] = round(params_nn_['layers1'])\n",
    "params_nn_['layers2'] = round(params_nn_['layers2'])\n",
    "params_nn_['neurons'] = round(params_nn_['neurons'])\n",
    "optimizerL = ['Adam', 'SGD', 'RMSprop', 'Adadelta', 'Adagrad', 'Adamax', 'Nadam', 'Ftrl','Adam']\n",
    "optimizerD= {'Adam':Adam(lr=learning_rate), 'SGD':SGD(lr=learning_rate),\n",
    "             'RMSprop':RMSprop(lr=learning_rate), 'Adadelta':Adadelta(lr=learning_rate),\n",
    "             'Adagrad':Adagrad(lr=learning_rate), 'Adamax':Adamax(lr=learning_rate),\n",
    "             'Nadam':Nadam(lr=learning_rate), 'Ftrl':Ftrl(lr=learning_rate)}\n",
    "params_nn_['optimizer'] = optimizerD[optimizerL[round(params_nn_['optimizer'])]]\n",
    "params_nn_"
   ]
  },
  {
   "cell_type": "markdown",
   "id": "9e39eb8b",
   "metadata": {},
   "source": [
    "It has 36 neurons for each layer. There is a batch normalization after the first hidden layer, followed by 1 neuron hidden layer. Next, the Dropout layer drops 12% of the neurons before the values are passed to 3 more neuron hidden layers. Finally, the output layer has one neuron containing the probability value. Now that we have the optimal hyperparameters and layers with the estimated accuracy of 0.8576, let’s fit it into the training dataset. Eventually, we get an accuracy of 0.8576 for the validation dataset. \n",
    "\n",
    "Now here we are going to fit the training dataset with best hyper-parameters."
   ]
  },
  {
   "cell_type": "code",
   "execution_count": 41,
   "id": "fbceddaa",
   "metadata": {},
   "outputs": [
    {
     "name": "stdout",
     "output_type": "stream",
     "text": [
      "Epoch 1/69\n",
      "9/9 [==============================] - 1s 43ms/step - loss: 0.8148 - accuracy: 0.5759 - val_loss: 0.6199 - val_accuracy: 0.6620\n",
      "Epoch 2/69\n",
      "9/9 [==============================] - 0s 13ms/step - loss: 0.6171 - accuracy: 0.6591 - val_loss: 0.5363 - val_accuracy: 0.7210\n",
      "Epoch 3/69\n",
      "9/9 [==============================] - 0s 14ms/step - loss: 0.5325 - accuracy: 0.7295 - val_loss: 0.4876 - val_accuracy: 0.7890\n",
      "Epoch 4/69\n",
      "9/9 [==============================] - 0s 13ms/step - loss: 0.4981 - accuracy: 0.7585 - val_loss: 0.4605 - val_accuracy: 0.8080\n",
      "Epoch 5/69\n",
      "9/9 [==============================] - 0s 14ms/step - loss: 0.4760 - accuracy: 0.7803 - val_loss: 0.4472 - val_accuracy: 0.8050\n",
      "Epoch 6/69\n",
      "9/9 [==============================] - 0s 13ms/step - loss: 0.4640 - accuracy: 0.7825 - val_loss: 0.4343 - val_accuracy: 0.8270\n",
      "Epoch 7/69\n",
      "9/9 [==============================] - 0s 11ms/step - loss: 0.4535 - accuracy: 0.7941 - val_loss: 0.4275 - val_accuracy: 0.8275\n",
      "Epoch 8/69\n",
      "9/9 [==============================] - 0s 11ms/step - loss: 0.4450 - accuracy: 0.7966 - val_loss: 0.4172 - val_accuracy: 0.8310\n",
      "Epoch 9/69\n",
      "9/9 [==============================] - 0s 11ms/step - loss: 0.4384 - accuracy: 0.8055 - val_loss: 0.4111 - val_accuracy: 0.8240\n",
      "Epoch 10/69\n",
      "9/9 [==============================] - 0s 11ms/step - loss: 0.4375 - accuracy: 0.8064 - val_loss: 0.4069 - val_accuracy: 0.8270\n",
      "Epoch 11/69\n",
      "9/9 [==============================] - 0s 12ms/step - loss: 0.4333 - accuracy: 0.8075 - val_loss: 0.4036 - val_accuracy: 0.8315\n",
      "Epoch 12/69\n",
      "9/9 [==============================] - 0s 11ms/step - loss: 0.4253 - accuracy: 0.8145 - val_loss: 0.4014 - val_accuracy: 0.8370\n",
      "Epoch 13/69\n",
      "9/9 [==============================] - 0s 17ms/step - loss: 0.4228 - accuracy: 0.8154 - val_loss: 0.3945 - val_accuracy: 0.8405\n",
      "Epoch 14/69\n",
      "9/9 [==============================] - 0s 11ms/step - loss: 0.4192 - accuracy: 0.8184 - val_loss: 0.3906 - val_accuracy: 0.8390\n",
      "Epoch 15/69\n",
      "9/9 [==============================] - 0s 13ms/step - loss: 0.4100 - accuracy: 0.8231 - val_loss: 0.3862 - val_accuracy: 0.8405\n",
      "Epoch 16/69\n",
      "9/9 [==============================] - 0s 13ms/step - loss: 0.4106 - accuracy: 0.8259 - val_loss: 0.3833 - val_accuracy: 0.8520\n",
      "Epoch 17/69\n",
      "9/9 [==============================] - 0s 11ms/step - loss: 0.4087 - accuracy: 0.8241 - val_loss: 0.3798 - val_accuracy: 0.8485\n",
      "Epoch 18/69\n",
      "9/9 [==============================] - 0s 11ms/step - loss: 0.4026 - accuracy: 0.8224 - val_loss: 0.3756 - val_accuracy: 0.8475\n",
      "Epoch 19/69\n",
      "9/9 [==============================] - 0s 14ms/step - loss: 0.4011 - accuracy: 0.8291 - val_loss: 0.3734 - val_accuracy: 0.8480\n",
      "Epoch 20/69\n",
      "9/9 [==============================] - 0s 12ms/step - loss: 0.3961 - accuracy: 0.8278 - val_loss: 0.3691 - val_accuracy: 0.8540\n",
      "Epoch 21/69\n",
      "9/9 [==============================] - 0s 13ms/step - loss: 0.3944 - accuracy: 0.8313 - val_loss: 0.3664 - val_accuracy: 0.8495\n",
      "Epoch 22/69\n",
      "9/9 [==============================] - 0s 11ms/step - loss: 0.3893 - accuracy: 0.8338 - val_loss: 0.3618 - val_accuracy: 0.8500\n",
      "Epoch 23/69\n",
      "9/9 [==============================] - 0s 11ms/step - loss: 0.3869 - accuracy: 0.8369 - val_loss: 0.3587 - val_accuracy: 0.8505\n",
      "Epoch 24/69\n",
      "9/9 [==============================] - 0s 11ms/step - loss: 0.3839 - accuracy: 0.8366 - val_loss: 0.3573 - val_accuracy: 0.8535\n",
      "Epoch 25/69\n",
      "9/9 [==============================] - 0s 11ms/step - loss: 0.3837 - accuracy: 0.8389 - val_loss: 0.3542 - val_accuracy: 0.8570\n",
      "Epoch 26/69\n",
      "9/9 [==============================] - 0s 11ms/step - loss: 0.3749 - accuracy: 0.8432 - val_loss: 0.3533 - val_accuracy: 0.8525\n",
      "Epoch 27/69\n",
      "9/9 [==============================] - 0s 13ms/step - loss: 0.3763 - accuracy: 0.8415 - val_loss: 0.3507 - val_accuracy: 0.8585\n",
      "Epoch 28/69\n",
      "9/9 [==============================] - 0s 12ms/step - loss: 0.3718 - accuracy: 0.8445 - val_loss: 0.3516 - val_accuracy: 0.8575\n",
      "Epoch 29/69\n",
      "9/9 [==============================] - 0s 12ms/step - loss: 0.3700 - accuracy: 0.8441 - val_loss: 0.3483 - val_accuracy: 0.8610\n",
      "Epoch 30/69\n",
      "9/9 [==============================] - 0s 12ms/step - loss: 0.3657 - accuracy: 0.8494 - val_loss: 0.3465 - val_accuracy: 0.8565\n",
      "Epoch 31/69\n",
      "9/9 [==============================] - 0s 11ms/step - loss: 0.3677 - accuracy: 0.8471 - val_loss: 0.3458 - val_accuracy: 0.8625\n",
      "Epoch 32/69\n",
      "9/9 [==============================] - 0s 11ms/step - loss: 0.3648 - accuracy: 0.8484 - val_loss: 0.3445 - val_accuracy: 0.8575\n",
      "Epoch 33/69\n",
      "9/9 [==============================] - 0s 11ms/step - loss: 0.3641 - accuracy: 0.8480 - val_loss: 0.3429 - val_accuracy: 0.8610\n",
      "Epoch 34/69\n",
      "9/9 [==============================] - 0s 11ms/step - loss: 0.3599 - accuracy: 0.8537 - val_loss: 0.3423 - val_accuracy: 0.8595\n",
      "Epoch 35/69\n",
      "9/9 [==============================] - 0s 11ms/step - loss: 0.3596 - accuracy: 0.8521 - val_loss: 0.3424 - val_accuracy: 0.8595\n",
      "Epoch 36/69\n",
      "9/9 [==============================] - 0s 11ms/step - loss: 0.3553 - accuracy: 0.8516 - val_loss: 0.3393 - val_accuracy: 0.8620\n",
      "Epoch 37/69\n",
      "9/9 [==============================] - 0s 11ms/step - loss: 0.3588 - accuracy: 0.8503 - val_loss: 0.3389 - val_accuracy: 0.8635\n",
      "Epoch 38/69\n",
      "9/9 [==============================] - 0s 11ms/step - loss: 0.3583 - accuracy: 0.8521 - val_loss: 0.3400 - val_accuracy: 0.8635\n",
      "Epoch 39/69\n",
      "9/9 [==============================] - 0s 11ms/step - loss: 0.3593 - accuracy: 0.8511 - val_loss: 0.3431 - val_accuracy: 0.8545\n",
      "Epoch 40/69\n",
      "9/9 [==============================] - 0s 14ms/step - loss: 0.3570 - accuracy: 0.8509 - val_loss: 0.3407 - val_accuracy: 0.8645\n",
      "Epoch 41/69\n",
      "9/9 [==============================] - 0s 19ms/step - loss: 0.3578 - accuracy: 0.8496 - val_loss: 0.3387 - val_accuracy: 0.8615\n",
      "Epoch 42/69\n",
      "9/9 [==============================] - 0s 13ms/step - loss: 0.3509 - accuracy: 0.8547 - val_loss: 0.3397 - val_accuracy: 0.8605\n",
      "Epoch 43/69\n",
      "9/9 [==============================] - 0s 13ms/step - loss: 0.3535 - accuracy: 0.8553 - val_loss: 0.3368 - val_accuracy: 0.8635\n",
      "Epoch 44/69\n",
      "9/9 [==============================] - 0s 12ms/step - loss: 0.3527 - accuracy: 0.8554 - val_loss: 0.3377 - val_accuracy: 0.8625\n",
      "Epoch 45/69\n",
      "9/9 [==============================] - 0s 13ms/step - loss: 0.3512 - accuracy: 0.8539 - val_loss: 0.3380 - val_accuracy: 0.8610\n",
      "Epoch 46/69\n",
      "9/9 [==============================] - 0s 12ms/step - loss: 0.3509 - accuracy: 0.8580 - val_loss: 0.3413 - val_accuracy: 0.8615\n",
      "Epoch 47/69\n",
      "9/9 [==============================] - 0s 13ms/step - loss: 0.3518 - accuracy: 0.8554 - val_loss: 0.3361 - val_accuracy: 0.8645\n",
      "Epoch 48/69\n",
      "9/9 [==============================] - 0s 15ms/step - loss: 0.3510 - accuracy: 0.8580 - val_loss: 0.3369 - val_accuracy: 0.8650\n",
      "Epoch 49/69\n",
      "9/9 [==============================] - 0s 15ms/step - loss: 0.3499 - accuracy: 0.8568 - val_loss: 0.3380 - val_accuracy: 0.8635\n",
      "Epoch 50/69\n",
      "9/9 [==============================] - 0s 14ms/step - loss: 0.3479 - accuracy: 0.8560 - val_loss: 0.3396 - val_accuracy: 0.8645\n",
      "Epoch 51/69\n",
      "9/9 [==============================] - 0s 12ms/step - loss: 0.3519 - accuracy: 0.8537 - val_loss: 0.3415 - val_accuracy: 0.8590\n",
      "Epoch 52/69\n",
      "9/9 [==============================] - 0s 11ms/step - loss: 0.3448 - accuracy: 0.8597 - val_loss: 0.3360 - val_accuracy: 0.8620\n",
      "Epoch 53/69\n",
      "9/9 [==============================] - 0s 11ms/step - loss: 0.3471 - accuracy: 0.8612 - val_loss: 0.3379 - val_accuracy: 0.8620\n",
      "Epoch 54/69\n",
      "9/9 [==============================] - 0s 13ms/step - loss: 0.3457 - accuracy: 0.8591 - val_loss: 0.3375 - val_accuracy: 0.8600\n",
      "Epoch 55/69\n",
      "9/9 [==============================] - 0s 17ms/step - loss: 0.3432 - accuracy: 0.8595 - val_loss: 0.3372 - val_accuracy: 0.8645\n",
      "Epoch 56/69\n",
      "9/9 [==============================] - 0s 12ms/step - loss: 0.3444 - accuracy: 0.8560 - val_loss: 0.3370 - val_accuracy: 0.8575\n",
      "Epoch 57/69\n",
      "9/9 [==============================] - 0s 12ms/step - loss: 0.3425 - accuracy: 0.8608 - val_loss: 0.3486 - val_accuracy: 0.8490\n",
      "Epoch 58/69\n",
      "9/9 [==============================] - 0s 11ms/step - loss: 0.3483 - accuracy: 0.8577 - val_loss: 0.3375 - val_accuracy: 0.8620\n",
      "Epoch 59/69\n"
     ]
    },
    {
     "name": "stdout",
     "output_type": "stream",
     "text": [
      "9/9 [==============================] - 0s 11ms/step - loss: 0.3438 - accuracy: 0.8576 - val_loss: 0.3357 - val_accuracy: 0.8620\n",
      "Epoch 60/69\n",
      "9/9 [==============================] - 0s 11ms/step - loss: 0.3441 - accuracy: 0.8581 - val_loss: 0.3353 - val_accuracy: 0.8635\n",
      "Epoch 61/69\n",
      "9/9 [==============================] - 0s 10ms/step - loss: 0.3432 - accuracy: 0.8579 - val_loss: 0.3356 - val_accuracy: 0.8635\n",
      "Epoch 62/69\n",
      "9/9 [==============================] - 0s 11ms/step - loss: 0.3426 - accuracy: 0.8586 - val_loss: 0.3376 - val_accuracy: 0.8650\n",
      "Epoch 63/69\n",
      "9/9 [==============================] - 0s 11ms/step - loss: 0.3458 - accuracy: 0.8587 - val_loss: 0.3369 - val_accuracy: 0.8630\n",
      "Epoch 64/69\n",
      "9/9 [==============================] - 0s 12ms/step - loss: 0.3426 - accuracy: 0.8586 - val_loss: 0.3387 - val_accuracy: 0.8625\n",
      "Epoch 65/69\n",
      "9/9 [==============================] - 0s 12ms/step - loss: 0.3460 - accuracy: 0.8558 - val_loss: 0.3371 - val_accuracy: 0.8660\n",
      "Epoch 66/69\n",
      "9/9 [==============================] - 0s 12ms/step - loss: 0.3430 - accuracy: 0.8597 - val_loss: 0.3362 - val_accuracy: 0.8585\n",
      "Epoch 67/69\n",
      "9/9 [==============================] - 0s 13ms/step - loss: 0.3429 - accuracy: 0.8562 - val_loss: 0.3360 - val_accuracy: 0.8645\n",
      "Epoch 68/69\n",
      "9/9 [==============================] - 0s 12ms/step - loss: 0.3416 - accuracy: 0.8609 - val_loss: 0.3367 - val_accuracy: 0.8580\n",
      "Epoch 69/69\n",
      "9/9 [==============================] - 0s 14ms/step - loss: 0.3402 - accuracy: 0.8611 - val_loss: 0.3388 - val_accuracy: 0.8595\n"
     ]
    },
    {
     "data": {
      "text/plain": [
       "<keras.callbacks.History at 0x2c2a0ea35e0>"
      ]
     },
     "execution_count": 41,
     "metadata": {},
     "output_type": "execute_result"
    }
   ],
   "source": [
    "# Fitting Neural Network\n",
    "def nn_cl_fun():\n",
    "    nn = Sequential()\n",
    "    nn.add(Dense(params_nn_['neurons'], input_dim=11, activation=params_nn_['activation']))\n",
    "    if params_nn_['normalization'] > 0.5:\n",
    "        nn.add(BatchNormalization())\n",
    "        for i in range(params_nn_['layers1']):\n",
    "            nn.add(Dense(params_nn_['neurons'], activation=params_nn_['activation']))\n",
    "            if params_nn_['dropout'] > 0.5:\n",
    "                nn.add(Dropout(params_nn_['dropout_rate'], seed=123))\n",
    "                for i in range(params_nn_['layers2']):\n",
    "                    nn.add(Dense(params_nn_['neurons'], activation=params_nn_['activation']))\n",
    "                    nn.add(Dense(1, activation='sigmoid'))\n",
    "                    nn.compile(loss='binary_crossentropy', optimizer=params_nn_['optimizer'], metrics=['accuracy'])\n",
    "                    return nn\n",
    "es = EarlyStopping(monitor='accuracy', mode='max', verbose=0, patience=20)\n",
    "nn = KerasClassifier(build_fn=nn_cl_fun, epochs=params_nn_['epochs'], batch_size=params_nn_['batch_size'],\n",
    "                         verbose=0)\n",
    "nn.fit(X_train, y_train, validation_data=(X_test, y_test), verbose=1)"
   ]
  },
  {
   "cell_type": "markdown",
   "id": "0ed5ac01",
   "metadata": {},
   "source": [
    "<b> From the above, Artificial Neural Network (ANN) with best parameters, we got an accuracy of 86.11%. From the above we conclude that, we have got a good model on train and test data sets with this model.\n",
    "\n",
    "<b> As we can see that the accuracy of Artificial Neural Network (ANN) with best parameters is higher than the Artificial Neural Network (ANN) with default parameters. "
   ]
  }
 ],
 "metadata": {
  "kernelspec": {
   "display_name": "Python 3 (ipykernel)",
   "language": "python",
   "name": "python3"
  },
  "language_info": {
   "codemirror_mode": {
    "name": "ipython",
    "version": 3
   },
   "file_extension": ".py",
   "mimetype": "text/x-python",
   "name": "python",
   "nbconvert_exporter": "python",
   "pygments_lexer": "ipython3",
   "version": "3.9.13"
  }
 },
 "nbformat": 4,
 "nbformat_minor": 5
}
