{
 "cells": [
  {
   "cell_type": "markdown",
   "id": "a9dd57c8",
   "metadata": {},
   "source": [
    "# <p style='text-align: center;'> Descriptive Statistics using Numpy </p>"
   ]
  },
  {
   "cell_type": "markdown",
   "id": "40221342",
   "metadata": {},
   "source": [
    "- On the object of ndarray, we are going to perform Statistical Operations.\n",
    "\n",
    "\n",
    "- we can perform on the entire matrix and we can also perform on column-wise (axis=0) & Row-wise (axis=1).\n"
   ]
  },
  {
   "cell_type": "markdown",
   "id": "c6bea827",
   "metadata": {},
   "source": [
    "## sum() : -\n",
    "- This function is used to compute the sum of all elements, the sum of each row, and the sum of each column of a given array.\n",
    "\n",
    "\n",
    "- There is the following syntax of numpy.sum() function :\n",
    "\n",
    "\n",
    "- <b> numpy.sum(arr, axis=None, dtype=None)          \n",
    "            \n",
    "            \n",
    "- Where, \n",
    "- i) arr : This is the source array whose elements we want to sum.\n",
    "\n",
    "\n",
    "- ii) axis (optional) : This parameter defines the axis along which a sum is performed. The default axis is None,column-wise          (axis=0) & Row-wise (axis=1).\n",
    "\n",
    "\n",
    "- iii) dtype (optional) : This parameter defines the type of the accumulator and the returned array in which the elements are \n",
    "summed. By default, the dtype of arr is used unless arr has an integer dtype of less precision than                            the default platform integer.  "
   ]
  },
  {
   "cell_type": "code",
   "execution_count": 2,
   "id": "fc21ad8a",
   "metadata": {},
   "outputs": [
    {
     "data": {
      "text/plain": [
       "1460"
      ]
     },
     "execution_count": 2,
     "metadata": {},
     "output_type": "execute_result"
    }
   ],
   "source": [
    "# importe numpy with alias name 'np'.\n",
    "import numpy as np\n",
    "\n",
    "# create an array 'x' using np.array() function.\n",
    "x = np.array([154, 139, 154, 192, 180, 140, 154, 155, 192])\n",
    "\n",
    "#  Calculate the sum\n",
    "# Print the result\n",
    "np.sum(x)    # It will print the sum of all the elements of the array."
   ]
  },
  {
   "cell_type": "markdown",
   "id": "830ff59b",
   "metadata": {},
   "source": [
    "<b> In the above example the sum of all the elements of the array (X) is 1460"
   ]
  },
  {
   "cell_type": "markdown",
   "id": "5f6c5f5d",
   "metadata": {},
   "source": [
    "## mean() : -\n",
    "- This is used for calculating mean of the total matrix elements.\n",
    "\n",
    "\n",
    "- The numpy.mean() function is used to compute the arithmetic mean along the specified axis.\n",
    "\n",
    "\n",
    "- The sum of elements, along with an axis divided by the number of elements, is known as arithmetic mean. \n",
    "\n",
    "\n",
    "- There is the following syntax of numpy.mean() function :\n",
    "\n",
    "\n",
    "- <b> numpy.mean(arr, axis=None, dtype=None)\n",
    "    \n",
    "    \n",
    "- Where, \n",
    "- i) arr : This is the source array whose elements whose mean is desired.\n",
    "\n",
    "\n",
    "- ii) axis (optional) : This parameter defines the axis along which the means are computed. By default, the mean is computed of the flattened array, column-wise (axis=0) & Row-wise (axis=1).\n",
    "\n",
    "\n",
    "- iii) dtype (optional) : This parameter is used to define the data-type used in computing the mean."
   ]
  },
  {
   "cell_type": "code",
   "execution_count": 5,
   "id": "59132210",
   "metadata": {},
   "outputs": [
    {
     "data": {
      "text/plain": [
       "162.22222222222223"
      ]
     },
     "execution_count": 5,
     "metadata": {},
     "output_type": "execute_result"
    }
   ],
   "source": [
    "# Option - 1\n",
    "# importe numpy with alias name 'np'.\n",
    "import numpy as np\n",
    "\n",
    "# create an array 'x' using np.array() function.\n",
    "x = np.array([154, 139, 154, 192, 180, 140, 154, 155, 192])\n",
    "\n",
    "# Calculate the mean\n",
    "# Print the result\n",
    "np.mean(x)    # It will print the mean value of the array."
   ]
  },
  {
   "cell_type": "code",
   "execution_count": 4,
   "id": "482a5437",
   "metadata": {},
   "outputs": [
    {
     "data": {
      "text/plain": [
       "162.22222222222223"
      ]
     },
     "execution_count": 4,
     "metadata": {},
     "output_type": "execute_result"
    }
   ],
   "source": [
    "# Option - 2\n",
    "# importe numpy with alias name 'np'.\n",
    "import numpy as np\n",
    "\n",
    "# create an array 'x' using np.array() function.\n",
    "x = np.array([154, 139, 154, 192, 180, 140, 154, 155, 192])\n",
    "\n",
    "# Calculate the mean\n",
    "# The sum of elements, along with an axis divided by the number of elements.\n",
    "# Print the result\n",
    "np.sum(x)/len(x)    # It will print the mean value of the array."
   ]
  },
  {
   "cell_type": "markdown",
   "id": "e7455d81",
   "metadata": {},
   "source": [
    "<b> In the above example the mean of all the elements of the array (X) is 162.22"
   ]
  },
  {
   "cell_type": "markdown",
   "id": "a675a08d",
   "metadata": {},
   "source": [
    "## median() : -\n",
    "- This is used for calculating / obtaining median of entire matrix elements.\n",
    "\n",
    "- Median is nothing but sorting the given data in ascending order and select middle element.\n",
    "\n",
    "- If the number sorted elements are odd then center or middle element becomes median.\n",
    "\n",
    "- If the number sorted elements are even then select center or middle of two elements, add them and divided by 2 and that \n",
    "  result becomes median.\n",
    "\n",
    "\n",
    "- There is the following syntax of numpy.median() function :\n",
    "\n",
    "\n",
    "- <b> numpy.median(arr, axis=None, dtype=None)\n",
    "    \n",
    "    \n",
    "- Where, \n",
    "- i) arr : This is the source array whose elements whose median is desired.\n",
    "\n",
    "\n",
    "- ii) axis (optional) : This parameter defines the axis along which the median are computed. By default, the median is computed of the flattened array, column-wise (axis=0) & Row-wise (axis=1).\n",
    "\n",
    "\n",
    "- iii) dtype (optional) : This parameter is used to define the data-type used in computing the median."
   ]
  },
  {
   "cell_type": "code",
   "execution_count": 6,
   "id": "04ad867e",
   "metadata": {},
   "outputs": [
    {
     "data": {
      "text/plain": [
       "154.0"
      ]
     },
     "execution_count": 6,
     "metadata": {},
     "output_type": "execute_result"
    }
   ],
   "source": [
    "# importe numpy with alias name 'np'.\n",
    "import numpy as np\n",
    "\n",
    "# create an array 'x' using np.array() function.\n",
    "x = np.array([154, 139, 154, 192, 180, 140, 154, 155, 192])\n",
    "\n",
    "# Calculate the median\n",
    "# Print the result\n",
    "np.median(x)    # It will print the median value of the array."
   ]
  },
  {
   "cell_type": "markdown",
   "id": "53ac6a3d",
   "metadata": {},
   "source": [
    "<b> In the above example the median of all the elements of the array (X) is 154."
   ]
  },
  {
   "cell_type": "markdown",
   "id": "fee03a93",
   "metadata": {},
   "source": [
    "## mode() : -\n",
    "- The mode can be defined as the number that occurs most often. In other words, a number that appears most often in a set. A \n",
    "  number that has the highest frequency (repetition of a number) among the numbers, is called mode.\n",
    "  \n",
    "  \n",
    "- If there is no repeated number in the list or observations, there is no mode for the list.\n",
    "\n",
    "\n",
    "- There is the following syntax of numpy.mode() function :\n",
    "\n",
    "\n",
    "- <b> numpy.mode(arr, axis=None, dtype=None)\n",
    "    \n",
    "    \n",
    "- Where, \n",
    "- i) arr : This is the source array whose elements whose mode is desired.\n",
    "\n",
    "\n",
    "- ii) axis (optional) : This parameter defines the axis along which the mode are computed. By default, the mode is computed of the flattened array, column-wise (axis=0) & Row-wise (axis=1).\n",
    "\n",
    "\n",
    "- iii) dtype (optional) : This parameter is used to define the data-type used in computing the mode."
   ]
  },
  {
   "cell_type": "code",
   "execution_count": 10,
   "id": "133e4d1d",
   "metadata": {},
   "outputs": [
    {
     "name": "stderr",
     "output_type": "stream",
     "text": [
      "C:\\Users\\Administrator\\AppData\\Local\\Temp\\ipykernel_7568\\2107045519.py:12: FutureWarning: Unlike other reduction functions (e.g. `skew`, `kurtosis`), the default behavior of `mode` typically preserves the axis it acts along. In SciPy 1.11.0, this behavior will change: the default value of `keepdims` will become False, the `axis` over which the statistic is taken will be eliminated, and the value None will no longer be accepted. Set `keepdims` to True or False to avoid this warning.\n",
      "  mode(x)    # It will print the mode value of the array.\n"
     ]
    },
    {
     "data": {
      "text/plain": [
       "ModeResult(mode=array([154]), count=array([3]))"
      ]
     },
     "execution_count": 10,
     "metadata": {},
     "output_type": "execute_result"
    }
   ],
   "source": [
    "# importe numpy with alias name 'np'.\n",
    "import numpy as np\n",
    "\n",
    "# import the mode from scipy.stats\n",
    "from scipy.stats import mode\n",
    "\n",
    "# create an array 'x' using np.array() function.\n",
    "x = np.array([154, 139, 154, 192, 180, 140, 154, 155, 192])\n",
    "\n",
    "# Calculate the mode\n",
    "# Print the result\n",
    "mode(x)    # It will print the mode value of the array."
   ]
  },
  {
   "cell_type": "markdown",
   "id": "42f1e89e",
   "metadata": {},
   "source": [
    "<b> In the above example the mode of the array (X) is 154 and it occurs 3 times. In numpy module mode function is not available. So we are using scipy.stats module for importing mode function."
   ]
  },
  {
   "cell_type": "markdown",
   "id": "a0426dc1",
   "metadata": {},
   "source": [
    "## min() : -\n",
    "- The min() function is used to get the smallest element from the collection.\n",
    "\n",
    "\n",
    "- There is the following syntax of numpy.min() function :\n",
    "\n",
    "\n",
    "- <b> numpy.min(arr, axis=None)\n",
    "    \n",
    "    \n",
    "- Where, \n",
    "- i) arr : This is the source array whose elements whose smallest element is desired.\n",
    "\n",
    "\n",
    "- ii) axis (optional) : This parameter defines the axis along which the smallest element is computed. By default, the min is computed of the flattened array, column-wise (axis=0) & Row-wise (axis=1)."
   ]
  },
  {
   "cell_type": "code",
   "execution_count": 11,
   "id": "8120c362",
   "metadata": {},
   "outputs": [
    {
     "data": {
      "text/plain": [
       "139"
      ]
     },
     "execution_count": 11,
     "metadata": {},
     "output_type": "execute_result"
    }
   ],
   "source": [
    "# importe numpy with alias name 'np'.\n",
    "import numpy as np\n",
    "\n",
    "# create an array 'x' using np.array() function.\n",
    "x = np.array([154, 139, 154, 192, 180, 140, 154, 155, 192])\n",
    "\n",
    "# Calculate the minimum value / elements.\n",
    "# Print the result\n",
    "np.min(x)    # It will print the minimum value of the array."
   ]
  },
  {
   "cell_type": "markdown",
   "id": "ceca0dd7",
   "metadata": {},
   "source": [
    "<b> In the above example the minimum value of the array (X) is 139."
   ]
  },
  {
   "cell_type": "code",
   "execution_count": 12,
   "id": "8505f33e",
   "metadata": {},
   "outputs": [
    {
     "data": {
      "text/plain": [
       "1"
      ]
     },
     "execution_count": 12,
     "metadata": {},
     "output_type": "execute_result"
    }
   ],
   "source": [
    "# index of the minimum element / value.\n",
    "np.argmin(x)     # It will print the index of the minimum element / value."
   ]
  },
  {
   "cell_type": "markdown",
   "id": "0096a7ce",
   "metadata": {},
   "source": [
    "## max() : -\n",
    "- The max() function is used to get the largest element from the collection.\n",
    "\n",
    "\n",
    "- There is the following syntax of numpy.max() function :\n",
    "\n",
    "\n",
    "- <b> numpy.max(arr, axis=None)\n",
    "    \n",
    "    \n",
    "- Where, \n",
    "- i) arr : This is the source array whose elements whose largest element is desired.\n",
    "\n",
    "\n",
    "- ii) axis (optional) : This parameter defines the axis along which the largest element is computed. By default, the max is computed of the flattened array, column-wise (axis=0) & Row-wise (axis=1)."
   ]
  },
  {
   "cell_type": "code",
   "execution_count": 13,
   "id": "cd60f08e",
   "metadata": {},
   "outputs": [
    {
     "data": {
      "text/plain": [
       "192"
      ]
     },
     "execution_count": 13,
     "metadata": {},
     "output_type": "execute_result"
    }
   ],
   "source": [
    "# importe numpy with alias name 'np'.\n",
    "import numpy as np\n",
    "\n",
    "# create an array 'x' using np.array() function.\n",
    "x = np.array([154, 139, 154, 192, 180, 140, 154, 155, 192])\n",
    "\n",
    "# Calculate the maximum value / elements.\n",
    "# Print the result\n",
    "np.max(x)    # It will print the maximum value of the array."
   ]
  },
  {
   "cell_type": "markdown",
   "id": "39872d2a",
   "metadata": {},
   "source": [
    "<b> In the above example the maximum value of the array (X) is 192."
   ]
  },
  {
   "cell_type": "markdown",
   "id": "d8cfcad7",
   "metadata": {},
   "source": [
    "## Range : -\n",
    "- Calculating the difference between largest element (max) to smallest element (min).\n"
   ]
  },
  {
   "cell_type": "code",
   "execution_count": 17,
   "id": "18fb5663",
   "metadata": {},
   "outputs": [
    {
     "data": {
      "text/plain": [
       "53"
      ]
     },
     "execution_count": 17,
     "metadata": {},
     "output_type": "execute_result"
    }
   ],
   "source": [
    "# importe numpy with alias name 'np'.\n",
    "import numpy as np\n",
    "\n",
    "# create an array 'x' using np.array() function.\n",
    "x = np.array([154, 139, 154, 192, 180, 140, 154, 155, 192])\n",
    "\n",
    "# Calculate the range.\n",
    "# Print the result\n",
    "np.max(x)-np.min(x)"
   ]
  },
  {
   "cell_type": "markdown",
   "id": "06c8d5e0",
   "metadata": {},
   "source": [
    "## Mean Absolute Deviation [abs()]: -\n",
    "- The python abs() function is used to return absolute value of a number. It takes only one argument, a number whose absolute \n",
    "  value is to be returned.\n",
    "  \n",
    "  \n",
    "- There is the following syntax of abs() function :\n",
    "\n",
    "\n",
    "- <b> abs(arr)\n",
    "    \n",
    "    \n",
    "- Where, \n",
    "- i) arr : This is the source array whose elements whose absolute value of a number is desired.\n"
   ]
  },
  {
   "cell_type": "code",
   "execution_count": 25,
   "id": "ae4aebfe",
   "metadata": {},
   "outputs": [
    {
     "data": {
      "text/plain": [
       "array([8., 4., 3., 4., 5.])"
      ]
     },
     "execution_count": 25,
     "metadata": {},
     "output_type": "execute_result"
    }
   ],
   "source": [
    "# importe numpy with alias name 'np'.\n",
    "import numpy as np\n",
    "\n",
    "# create an array 'x' using np.array() function.\n",
    "x = np.array([5, 9, 16, 17, 18])\n",
    "\n",
    "# Calculate the deviation.\n",
    "deviation = x - np.mean(x)\n",
    "\n",
    "# Calculate the absolute deviation.\n",
    "abs_deviation = abs(deviation)\n",
    "\n",
    "# Print the absolute deviation result\n",
    "abs_deviation "
   ]
  },
  {
   "cell_type": "markdown",
   "id": "ad739764",
   "metadata": {},
   "source": [
    "## Variance or Mean Square Deviation (var()): -\n",
    "- Calculating the arithmetic variance of the array elements along with the specified axis or multiple axes.\n",
    "\n",
    "\n",
    "- By default numpy calculate the population variance only. \n",
    "\n",
    "\n",
    "- There is the following syntax of numpy.var() function :\n",
    "\n",
    "\n",
    "- <b> numpy.var(arr, axis=None)\n",
    "    \n",
    "    \n",
    "- Where, \n",
    "- i) arr : This is the source array whose elements whose variance of the array elements are desired.\n",
    "\n",
    "\n",
    "- ii) axis (optional) : This parameter defines the axis along which the variance of the array elements are computed. By default, the variance of the array elements are computed of the flattened array, column-wise (axis=0) & Row-wise (axis=1)."
   ]
  },
  {
   "cell_type": "code",
   "execution_count": 28,
   "id": "b1967243",
   "metadata": {},
   "outputs": [
    {
     "data": {
      "text/plain": [
       "26.0"
      ]
     },
     "execution_count": 28,
     "metadata": {},
     "output_type": "execute_result"
    }
   ],
   "source": [
    "#Option - 1\n",
    "# importe numpy with alias name 'np'.\n",
    "import numpy as np\n",
    "\n",
    "# create an array 'x' using np.array() function.\n",
    "x = np.array([5, 9, 16, 17, 18])\n",
    "\n",
    "# Calculate the Variance / Mean Square Deviation by using var()\n",
    "np.var(x)    # It will print the population variance"
   ]
  },
  {
   "cell_type": "code",
   "execution_count": 30,
   "id": "34e5c6a1",
   "metadata": {},
   "outputs": [
    {
     "data": {
      "text/plain": [
       "26.0"
      ]
     },
     "execution_count": 30,
     "metadata": {},
     "output_type": "execute_result"
    }
   ],
   "source": [
    "#Option - 2\n",
    "# importe numpy with alias name 'np'.\n",
    "import numpy as np\n",
    "\n",
    "# create an array 'x' using np.array() function.\n",
    "x = np.array([5, 9, 16, 17, 18])\n",
    "\n",
    "# Calculate the deviation.\n",
    "deviation = x - np.mean(x)\n",
    "\n",
    "# Calculate the square deviation.\n",
    "square_deviation = deviation * deviation\n",
    "\n",
    "# Calculate the Variance / Mean Square Deviation\n",
    "# Print the Mean Square Deviation result\n",
    "np.mean(square_deviation)   # It will print the population variance\n"
   ]
  },
  {
   "cell_type": "markdown",
   "id": "8c9d1ed2",
   "metadata": {},
   "source": [
    "- <b> In the above examples we get population variance for the given data set. If we want to calculate the sample variance, we need to calculate as follows :"
   ]
  },
  {
   "cell_type": "code",
   "execution_count": 34,
   "id": "fcdfbba2",
   "metadata": {},
   "outputs": [
    {
     "data": {
      "text/plain": [
       "32.5"
      ]
     },
     "execution_count": 34,
     "metadata": {},
     "output_type": "execute_result"
    }
   ],
   "source": [
    "# importe numpy with alias name 'np'.\n",
    "import numpy as np\n",
    "\n",
    "# create an array 'x' using np.array() function.\n",
    "x = np.array([5, 9, 16, 17, 18])\n",
    "\n",
    "# Calculate the sample Variance / Mean Square Deviation \n",
    "sample_variance = np.var(x) * len(x)/(len(x)-1) \n",
    "\n",
    "# Print the sample Variance / Mean Square Deviation  result\n",
    "sample_variance   # It will print the Sample variance"
   ]
  },
  {
   "cell_type": "markdown",
   "id": "074c08e2",
   "metadata": {},
   "source": [
    "## Standard Deviation (std()) : -\n",
    "- This function returns the standard deviation of the array elements.\n",
    "\n",
    "\n",
    "- The square root of the average square deviation (computed from the mean), is known as the standard deviation.\n",
    "\n",
    "\n",
    "- By default numpy calculate the population standard deviation only.\n",
    "\n",
    "\n",
    "- There is the following syntax of numpy.mode() function :\n",
    "\n",
    "\n",
    "- <b> numpy.std(arr, axis=None, dtype=None)\n",
    "    \n",
    "    \n",
    "- Where, \n",
    "- i) arr : This parameter defines the source array whose elements standard deviation is calculated.\n",
    "\n",
    "\n",
    "- ii) axis (optional) : It is the axis along which the standard deviation is calculated. The standard deviation of the flattened array is computed by default, column-wise (axis=0) & Row-wise (axis=1).\n",
    "\n",
    "\n",
    "- iii) dtype (optional) : This parameter defines the data type, which is used in computing the standard deviation. By default, the data type is float64 for integer type arrays, and, for float types array, it will be the same as the array type."
   ]
  },
  {
   "cell_type": "code",
   "execution_count": 37,
   "id": "6a497ccc",
   "metadata": {},
   "outputs": [
    {
     "data": {
      "text/plain": [
       "5.0990195135927845"
      ]
     },
     "execution_count": 37,
     "metadata": {},
     "output_type": "execute_result"
    }
   ],
   "source": [
    "#Option - 1\n",
    "# importe numpy with alias name 'np'.\n",
    "import numpy as np\n",
    "\n",
    "# create an array 'x' using np.array() function.\n",
    "x = np.array([5, 9, 16, 17, 18])\n",
    "\n",
    "# Calculate the Variance by using var() and store it in var object.\n",
    "var = np.var(x)    \n",
    "\n",
    "# Calculate the population standard deviation without using std()\n",
    "# Applying square root to the \"var\" object\n",
    "std_deviation = np.sqrt(var)\n",
    "\n",
    "# Print the population standard deviation result\n",
    "std_deviation   # It will print the population standard deviation result"
   ]
  },
  {
   "cell_type": "code",
   "execution_count": 38,
   "id": "24017e2a",
   "metadata": {},
   "outputs": [
    {
     "data": {
      "text/plain": [
       "5.0990195135927845"
      ]
     },
     "execution_count": 38,
     "metadata": {},
     "output_type": "execute_result"
    }
   ],
   "source": [
    "#Option - 1\n",
    "# importe numpy with alias name 'np'.\n",
    "import numpy as np\n",
    "\n",
    "# create an array 'x' using np.array() function.\n",
    "x = np.array([5, 9, 16, 17, 18])\n",
    "\n",
    "# Calculate the Variance by using var() and store it in var object.\n",
    "var = np.var(x)    \n",
    "\n",
    "# Calculate the population standard deviation by using std()\n",
    "# Print the population standard deviation result\n",
    "np.std(x)\n"
   ]
  },
  {
   "cell_type": "markdown",
   "id": "6623ae30",
   "metadata": {},
   "source": [
    "- <b> In the above examples we get population standard deviation for the given data set. If we want to calculate the sample standard deviation, we need to calculate as follows :"
   ]
  },
  {
   "cell_type": "code",
   "execution_count": 42,
   "id": "cbd20149",
   "metadata": {},
   "outputs": [
    {
     "data": {
      "text/plain": [
       "5.70087712549569"
      ]
     },
     "execution_count": 42,
     "metadata": {},
     "output_type": "execute_result"
    }
   ],
   "source": [
    "# importe numpy with alias name 'np'.\n",
    "import numpy as np\n",
    "\n",
    "# create an array 'x' using np.array() function.\n",
    "x = np.array([5, 9, 16, 17, 18])\n",
    "\n",
    "# Calculate the sample Variance without var() and store in \"sample_variance\" object\n",
    "sample_variance = np.var(x) * len(x)/(len(x)-1) \n",
    "\n",
    "# Calculate the sample standard deviation without using std()\n",
    "# Applying the square root to the \"sample_variance\" object\n",
    "sample_std = np.sqrt(sample_variance)\n",
    "\n",
    "# Print the sample standard deviation result\n",
    "sample_std"
   ]
  },
  {
   "cell_type": "markdown",
   "id": "41937621",
   "metadata": {},
   "source": [
    "## Percentile() : -\n",
    "- percentile()function used to compute the nth percentile of the given data (array elements) along the specified axis. \n",
    "\n",
    "\n",
    "- There is the following syntax of numpy.mode() function :\n",
    "\n",
    "\n",
    "- <b> numpy.percentile(arr, n, axis=None) \n",
    "    \n",
    "    \n",
    "- Where, \n",
    "- i) arr :input array. \n",
    "    \n",
    "    \n",
    "- ii) n : percentile value. \n",
    "    \n",
    "    \n",
    "- iii) axis : axis along which we want to calculate the percentile value. Otherwise, it will consider arr to be flattened(works on all the axis). axis = 0 means along the column and axis = 1 means working along the row. "
   ]
  },
  {
   "cell_type": "code",
   "execution_count": 44,
   "id": "c955a5da",
   "metadata": {},
   "outputs": [
    {
     "name": "stdout",
     "output_type": "stream",
     "text": [
      "Contents of 'a' array :  [20  2  7  1 34]\n",
      "50th percentile of a :  7.0\n",
      "25th percentile of a :  2.0\n",
      "75th percentile of a :  20.0\n"
     ]
    }
   ],
   "source": [
    "# importe numpy with alias name 'np'.\n",
    "import numpy as np\n",
    "\n",
    "# create an array 'a' using np.array() function.\n",
    "a = np.array([20, 2, 7, 1, 34])\n",
    "\n",
    "# Print the Contents of \"a\" array on console.\n",
    "print(\"Contents of 'a' array : \", a)\n",
    "\n",
    "# Calculate the 50th percentile and print the result on console.\n",
    "print(\"50th percentile of a : \", np.percentile(a, 50))\n",
    "\n",
    "# Calculate the 25th percentile and print the result on console.\n",
    "print(\"25th percentile of a : \", np.percentile(a, 25))\n",
    "\n",
    "# Calculate the 75th percentile and print the result on console.\n",
    "print(\"75th percentile of a : \", np.percentile(a, 75))"
   ]
  }
 ],
 "metadata": {
  "kernelspec": {
   "display_name": "Python 3 (ipykernel)",
   "language": "python",
   "name": "python3"
  },
  "language_info": {
   "codemirror_mode": {
    "name": "ipython",
    "version": 3
   },
   "file_extension": ".py",
   "mimetype": "text/x-python",
   "name": "python",
   "nbconvert_exporter": "python",
   "pygments_lexer": "ipython3",
   "version": "3.9.13"
  }
 },
 "nbformat": 4,
 "nbformat_minor": 5
}
