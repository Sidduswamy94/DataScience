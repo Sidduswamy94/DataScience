{
 "cells": [
  {
   "cell_type": "markdown",
   "id": "c1ac4b9e",
   "metadata": {},
   "source": [
    "# <p style='text-align: center;'> Populations and Samples </p>"
   ]
  },
  {
   "cell_type": "markdown",
   "id": "147875c7",
   "metadata": {},
   "source": [
    "# Population :\n",
    "- Population refers to the entire group of individuals about whom you wish to draw conclusions.\n",
    "\n",
    "\n",
    "- In statistics, population is the entire set of items from which you draw data for a statistical study. It can be a group of \n",
    "  individuals, a set of items, etc. It makes up the data pool for a study.\n",
    "  \n",
    "  \n",
    "- An example of a population would be the entire student body at a school. It would contain all the students who study in that \n",
    "  school at the time of data collection. Depending on the problem statement, data from each of these students is collected. An \n",
    "  example is the students who speak Hindi among the students of a school.\n",
    "  \n",
    "  \n",
    "- For the above situation, it is easy to collect data. The population is small and willing to provide data and can be contacted. The data collected will be complete and reliable.\n",
    "\n",
    "\n",
    "- If you had to collect the same data from a larger population, say the entire country of India, it would be impossible to draw \n",
    "  reliable conclusions because of geographical and accessibility constraints, not to mention time and resource constraints. A \n",
    "  lot of data would be missing or might be unreliable. Furthermore, due to accessibility issues, marginalized tribes or \n",
    "  villages might not provide data at all, making the data biased towards certain regions or groups.\n",
    "  \n",
    "  \n",
    "- Due to above reason we are going with sample data over large set of data.\n",
    "  \n",
    "  \n",
    "# Sample :\n",
    "- The sample refers to the group of people from which you will be collecting data. \n",
    "\n",
    "\n",
    "- A sample is defined as a smaller and more manageable representation of a larger group. A subset of a larger population that \n",
    "  contains characteristics of that population.\n",
    "  \n",
    "  \n",
    "- A sample is used in statistical testing when the population size is too large for all members or observations to be included \n",
    "  in the test.\n",
    "  \n",
    "  \n",
    "#### Examples : - \n",
    "\n",
    "\n",
    "- 1000 voters selected at random for interview.\n",
    "\n",
    "\n",
    "- A few parts selected for destructive testing.\n",
    "\n",
    "\n",
    "### Why Sample data used over Population data :\n",
    "- Samples are used when the population is too large to collect data.\n",
    "\n",
    "\n",
    "- Sample are used when the data collected is not reliable.\n",
    "\n",
    "\n",
    "- Less time consuming than a census.\n",
    "\n",
    "\n",
    "- Less costly to administer than a census.\n",
    "\n",
    "\n",
    "- It is possible to obtain statistical results of a sufficiently high precesion based on samples.\n",
    "\n",
    "\n",
    "- If accessing the population is impossible, sampling is the only option.\n"
   ]
  }
 ],
 "metadata": {
  "kernelspec": {
   "display_name": "Python 3 (ipykernel)",
   "language": "python",
   "name": "python3"
  },
  "language_info": {
   "codemirror_mode": {
    "name": "ipython",
    "version": 3
   },
   "file_extension": ".py",
   "mimetype": "text/x-python",
   "name": "python",
   "nbconvert_exporter": "python",
   "pygments_lexer": "ipython3",
   "version": "3.9.13"
  }
 },
 "nbformat": 4,
 "nbformat_minor": 5
}
