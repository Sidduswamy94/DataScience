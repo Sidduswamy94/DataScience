{
 "cells": [
  {
   "cell_type": "markdown",
   "id": "19f3629b",
   "metadata": {},
   "source": [
    "# <p style='text-align: center;'> Descriptive Statistics using Pandas </p>"
   ]
  },
  {
   "cell_type": "markdown",
   "id": "bdd73fa2",
   "metadata": {},
   "source": [
    "<b> Performoing Descriptive Statistics operations using Pandas :\n",
    "    \n",
    "    \n",
    "- Here we are using \"tips.csv\" file for Statistics operations."
   ]
  },
  {
   "cell_type": "code",
   "execution_count": 2,
   "id": "3dbabdd7",
   "metadata": {},
   "outputs": [
    {
     "data": {
      "text/html": [
       "<div>\n",
       "<style scoped>\n",
       "    .dataframe tbody tr th:only-of-type {\n",
       "        vertical-align: middle;\n",
       "    }\n",
       "\n",
       "    .dataframe tbody tr th {\n",
       "        vertical-align: top;\n",
       "    }\n",
       "\n",
       "    .dataframe thead th {\n",
       "        text-align: right;\n",
       "    }\n",
       "</style>\n",
       "<table border=\"1\" class=\"dataframe\">\n",
       "  <thead>\n",
       "    <tr style=\"text-align: right;\">\n",
       "      <th></th>\n",
       "      <th>total_bill</th>\n",
       "      <th>tip</th>\n",
       "      <th>sex</th>\n",
       "      <th>smoker</th>\n",
       "      <th>day</th>\n",
       "      <th>time</th>\n",
       "      <th>size</th>\n",
       "    </tr>\n",
       "  </thead>\n",
       "  <tbody>\n",
       "    <tr>\n",
       "      <th>0</th>\n",
       "      <td>16.99</td>\n",
       "      <td>1.01</td>\n",
       "      <td>Female</td>\n",
       "      <td>No</td>\n",
       "      <td>Sun</td>\n",
       "      <td>Dinner</td>\n",
       "      <td>2</td>\n",
       "    </tr>\n",
       "    <tr>\n",
       "      <th>1</th>\n",
       "      <td>10.34</td>\n",
       "      <td>1.66</td>\n",
       "      <td>Male</td>\n",
       "      <td>No</td>\n",
       "      <td>Sun</td>\n",
       "      <td>Dinner</td>\n",
       "      <td>3</td>\n",
       "    </tr>\n",
       "    <tr>\n",
       "      <th>2</th>\n",
       "      <td>21.01</td>\n",
       "      <td>3.50</td>\n",
       "      <td>Male</td>\n",
       "      <td>No</td>\n",
       "      <td>Sun</td>\n",
       "      <td>Dinner</td>\n",
       "      <td>3</td>\n",
       "    </tr>\n",
       "    <tr>\n",
       "      <th>3</th>\n",
       "      <td>23.68</td>\n",
       "      <td>3.31</td>\n",
       "      <td>Male</td>\n",
       "      <td>No</td>\n",
       "      <td>Sun</td>\n",
       "      <td>Dinner</td>\n",
       "      <td>2</td>\n",
       "    </tr>\n",
       "    <tr>\n",
       "      <th>4</th>\n",
       "      <td>24.59</td>\n",
       "      <td>3.61</td>\n",
       "      <td>Female</td>\n",
       "      <td>No</td>\n",
       "      <td>Sun</td>\n",
       "      <td>Dinner</td>\n",
       "      <td>4</td>\n",
       "    </tr>\n",
       "  </tbody>\n",
       "</table>\n",
       "</div>"
      ],
      "text/plain": [
       "   total_bill   tip     sex smoker  day    time  size\n",
       "0       16.99  1.01  Female     No  Sun  Dinner     2\n",
       "1       10.34  1.66    Male     No  Sun  Dinner     3\n",
       "2       21.01  3.50    Male     No  Sun  Dinner     3\n",
       "3       23.68  3.31    Male     No  Sun  Dinner     2\n",
       "4       24.59  3.61  Female     No  Sun  Dinner     4"
      ]
     },
     "execution_count": 2,
     "metadata": {},
     "output_type": "execute_result"
    }
   ],
   "source": [
    "# importe pandas with alias name 'pd'.\n",
    "import pandas as pd\n",
    "\n",
    "# Load the \"tips.csv\" file.\n",
    "df = pd.read_csv(\"tips.csv\")\n",
    "\n",
    "# print the top 5 records of csv file,\n",
    "df.head()"
   ]
  },
  {
   "cell_type": "markdown",
   "id": "e4b748e7",
   "metadata": {},
   "source": [
    "## df.info() : -\n",
    "- The info() method prints information about the DataFrame.\n",
    "\n",
    "\n",
    "- The information contains the number of columns, column labels, column data types, memory usage, range index, and the number of cells in each column (non-null values).\n",
    "\n",
    "\n",
    "- Note: the info() method actually prints the info. You do not use the print() method to print the info."
   ]
  },
  {
   "cell_type": "code",
   "execution_count": 8,
   "id": "4cc0d3ee",
   "metadata": {},
   "outputs": [
    {
     "name": "stdout",
     "output_type": "stream",
     "text": [
      "<class 'pandas.core.frame.DataFrame'>\n",
      "RangeIndex: 244 entries, 0 to 243\n",
      "Data columns (total 7 columns):\n",
      " #   Column      Non-Null Count  Dtype  \n",
      "---  ------      --------------  -----  \n",
      " 0   total_bill  244 non-null    float64\n",
      " 1   tip         244 non-null    float64\n",
      " 2   sex         244 non-null    object \n",
      " 3   smoker      244 non-null    object \n",
      " 4   day         244 non-null    object \n",
      " 5   time        244 non-null    object \n",
      " 6   size        244 non-null    int64  \n",
      "dtypes: float64(2), int64(1), object(4)\n",
      "memory usage: 13.5+ KB\n"
     ]
    }
   ],
   "source": [
    "# print the information of df dataframe.\n",
    "df.info()"
   ]
  },
  {
   "cell_type": "markdown",
   "id": "519228be",
   "metadata": {},
   "source": [
    "- <b> In the above example, the information contains the number of columns, column labels, column data types, memory usage, range index, and the number of cells in each column (non-null values)."
   ]
  },
  {
   "cell_type": "markdown",
   "id": "a216f955",
   "metadata": {},
   "source": [
    "## sum() : -\n",
    "- The sum() method adds all values in each column and returns the sum for each column.\n",
    "\n",
    "\n",
    "- By specifying the column axis (axis='columns'), the sum() method searches column-wise and returns the sum of each row."
   ]
  },
  {
   "cell_type": "code",
   "execution_count": 14,
   "id": "d5230d23",
   "metadata": {},
   "outputs": [
    {
     "data": {
      "text/plain": [
       "4827.77"
      ]
     },
     "execution_count": 14,
     "metadata": {},
     "output_type": "execute_result"
    }
   ],
   "source": [
    "# Calculating the sum() on single column\n",
    "df[\"total_bill\"].sum()"
   ]
  },
  {
   "cell_type": "markdown",
   "id": "c9f03ee3",
   "metadata": {},
   "source": [
    "- <b> In the above example the sum of the single column as \"total_bill\" is 4827.77"
   ]
  },
  {
   "cell_type": "code",
   "execution_count": 16,
   "id": "a1a9220b",
   "metadata": {},
   "outputs": [
    {
     "data": {
      "text/plain": [
       "total_bill    4827.77\n",
       "tip            731.58\n",
       "dtype: float64"
      ]
     },
     "execution_count": 16,
     "metadata": {},
     "output_type": "execute_result"
    }
   ],
   "source": [
    "# Calculating the sum() on multiple column\n",
    "df[[\"total_bill\",\"tip\"]].sum()"
   ]
  },
  {
   "cell_type": "markdown",
   "id": "ae87bec9",
   "metadata": {},
   "source": [
    "- <b> In the above example the sum of the multiple columns as \"total_bill\" is 4827.77 and \"tip\" is 731.58."
   ]
  },
  {
   "cell_type": "markdown",
   "id": "4bc5e88a",
   "metadata": {},
   "source": [
    "## mean() : -\n",
    "- It is measure of average of all value in a sample set."
   ]
  },
  {
   "cell_type": "code",
   "execution_count": 17,
   "id": "4b900102",
   "metadata": {},
   "outputs": [
    {
     "data": {
      "text/plain": [
       "19.785942622950824"
      ]
     },
     "execution_count": 17,
     "metadata": {},
     "output_type": "execute_result"
    }
   ],
   "source": [
    "# Calculating the mean() of the \"total_bill\" column.\n",
    "df[\"total_bill\"].mean()"
   ]
  },
  {
   "cell_type": "markdown",
   "id": "56ccccff",
   "metadata": {},
   "source": [
    "- <b> In the above example the mean() of the \"total_bill\" column is 19.785"
   ]
  },
  {
   "cell_type": "markdown",
   "id": "44cf6a0b",
   "metadata": {},
   "source": [
    "## median() : -\n",
    "- Median refers to the data value that is positioned in the middle of as ordered data set.\n",
    "\n",
    "\n",
    "- In these, data set is ordered from lowest to highest value and then finds exact middle."
   ]
  },
  {
   "cell_type": "code",
   "execution_count": 18,
   "id": "e93190e4",
   "metadata": {},
   "outputs": [
    {
     "data": {
      "text/plain": [
       "17.795"
      ]
     },
     "execution_count": 18,
     "metadata": {},
     "output_type": "execute_result"
    }
   ],
   "source": [
    "# Calculating the median() of the \"total_bill\" column.\n",
    "df[\"total_bill\"].median()"
   ]
  },
  {
   "cell_type": "markdown",
   "id": "d33b2f36",
   "metadata": {},
   "source": [
    "- <b> In the above example the median() of the \"total_bill\" column is 17.795"
   ]
  },
  {
   "cell_type": "markdown",
   "id": "99fffe5f",
   "metadata": {},
   "source": [
    "## mode() : -\n",
    "- Mode refers to the data value that is most frequently / recurrentelly observed."
   ]
  },
  {
   "cell_type": "code",
   "execution_count": 20,
   "id": "6538a13b",
   "metadata": {},
   "outputs": [
    {
     "data": {
      "text/plain": [
       "0    Male\n",
       "Name: sex, dtype: object"
      ]
     },
     "execution_count": 20,
     "metadata": {},
     "output_type": "execute_result"
    }
   ],
   "source": [
    "# Calculating the mode() of the \"sex\" column.\n",
    "df[\"sex\"].mode()"
   ]
  },
  {
   "cell_type": "markdown",
   "id": "33ee17ba",
   "metadata": {},
   "source": [
    "- <b> In the above example the mode() of the \"sex\" column is \"Male\"."
   ]
  },
  {
   "cell_type": "markdown",
   "id": "e51eedb6",
   "metadata": {},
   "source": [
    "## min() : -\n",
    "- The min() method returns a Series with the minimum value of each column.\n",
    "\n",
    "\n",
    "- By specifying the column axis (axis='columns'), the max() method searches column-wise and returns the minimum value for each \n",
    "row."
   ]
  },
  {
   "cell_type": "code",
   "execution_count": 21,
   "id": "43d12c00",
   "metadata": {},
   "outputs": [
    {
     "data": {
      "text/plain": [
       "3.07"
      ]
     },
     "execution_count": 21,
     "metadata": {},
     "output_type": "execute_result"
    }
   ],
   "source": [
    "# Calculating the min() of the \"total_bill\" column.\n",
    "df[\"total_bill\"].min()"
   ]
  },
  {
   "cell_type": "markdown",
   "id": "c1570e3c",
   "metadata": {},
   "source": [
    "- <b> In the above example the min() of the \"total_bill\" column is 3.07."
   ]
  },
  {
   "cell_type": "markdown",
   "id": "655a8464",
   "metadata": {},
   "source": [
    "## max() : -\n",
    "- The max() method returns a Series with the maximum value of each column.\n",
    "\n",
    "\n",
    "- By specifying the column axis (axis='columns'), the max() method searches column-wise and returns the maximum value for each row."
   ]
  },
  {
   "cell_type": "code",
   "execution_count": 22,
   "id": "d458f823",
   "metadata": {},
   "outputs": [
    {
     "data": {
      "text/plain": [
       "50.81"
      ]
     },
     "execution_count": 22,
     "metadata": {},
     "output_type": "execute_result"
    }
   ],
   "source": [
    "# Calculating the max() of the \"total_bill\" column.\n",
    "df[\"total_bill\"].max()"
   ]
  },
  {
   "cell_type": "markdown",
   "id": "3a47a7a7",
   "metadata": {},
   "source": [
    "- <b> In the above example the max() of the \"total_bill\" column is 50.81."
   ]
  },
  {
   "cell_type": "markdown",
   "id": "3c1528ae",
   "metadata": {},
   "source": [
    "## Range : -\n",
    "- The range returns a difference between the maximum value and the minimum value of each column."
   ]
  },
  {
   "cell_type": "code",
   "execution_count": 23,
   "id": "5b22cde4",
   "metadata": {},
   "outputs": [
    {
     "data": {
      "text/plain": [
       "47.74"
      ]
     },
     "execution_count": 23,
     "metadata": {},
     "output_type": "execute_result"
    }
   ],
   "source": [
    "# Calculating the range of the \"total_bill\" column.\n",
    "df[\"total_bill\"].max() - df[\"total_bill\"].min()"
   ]
  },
  {
   "cell_type": "markdown",
   "id": "529de84d",
   "metadata": {},
   "source": [
    "- <b> In the above example the range of the \"total_bill\" column is 47.74."
   ]
  },
  {
   "cell_type": "markdown",
   "id": "b8f3607a",
   "metadata": {},
   "source": [
    "## variance or var() : -\n",
    "- The var() method calculates the standard deviation for each column.\n",
    "\n",
    "\n",
    "- By specifying the column axis (axis='columns'), the var() method searches column-wise and returns the standard deviation for each row."
   ]
  },
  {
   "cell_type": "code",
   "execution_count": 24,
   "id": "7fc57853",
   "metadata": {},
   "outputs": [
    {
     "data": {
      "text/plain": [
       "79.25293861397826"
      ]
     },
     "execution_count": 24,
     "metadata": {},
     "output_type": "execute_result"
    }
   ],
   "source": [
    "# Calculating the var() of the \"total_bill\" column.\n",
    "df[\"total_bill\"].var()"
   ]
  },
  {
   "cell_type": "markdown",
   "id": "9ef2f59e",
   "metadata": {},
   "source": [
    "- <b> In the above example the var() of the \"total_bill\" column is 79.2529.\n",
    "    \n",
    "    \n",
    "- <b> By default pandas calculate the sample variance only. If we want the population variance, we need to calculate as follows :"
   ]
  },
  {
   "cell_type": "code",
   "execution_count": 25,
   "id": "7f78b517",
   "metadata": {},
   "outputs": [
    {
     "data": {
      "text/plain": [
       "71.32764475258043"
      ]
     },
     "execution_count": 25,
     "metadata": {},
     "output_type": "execute_result"
    }
   ],
   "source": [
    "# Calculating the population var() of the \"total_bill\" column.\n",
    "df[\"total_bill\"].var() * (len(\"total_bill\")-1)/len(\"total_bill\")"
   ]
  },
  {
   "cell_type": "markdown",
   "id": "32c6ef20",
   "metadata": {},
   "source": [
    "- <b> In the above example the population var() of the \"total_bill\" column is 71.327."
   ]
  },
  {
   "cell_type": "markdown",
   "id": "8ebea542",
   "metadata": {},
   "source": [
    "## Standard deviation or std() : -\n",
    "- Pandas dataframe.std() function return sample standard deviation over requested axis.\n",
    "\n",
    "\n",
    "- By default the standard deviations are normalized by N-1. It is a measure that is used to quantify the amount of variation or dispersion of a set of data values."
   ]
  },
  {
   "cell_type": "code",
   "execution_count": 32,
   "id": "b04cf683",
   "metadata": {},
   "outputs": [
    {
     "data": {
      "text/plain": [
       "8.902411954856856"
      ]
     },
     "execution_count": 32,
     "metadata": {},
     "output_type": "execute_result"
    }
   ],
   "source": [
    "# Calculating the std() of the \"total_bill\" column.\n",
    "df[\"total_bill\"].std()"
   ]
  },
  {
   "cell_type": "markdown",
   "id": "30096627",
   "metadata": {},
   "source": [
    "- <b> In the above example the std() of the \"total_bill\" column is 8.9024.\n",
    "\n",
    "\n",
    "- <b> By default pandas calculate the sample Standard deviation or std() only. If we want the population Standard deviation or std(), we need to calculate as follows :"
   ]
  },
  {
   "cell_type": "code",
   "execution_count": 45,
   "id": "350d2f4a",
   "metadata": {},
   "outputs": [
    {
     "data": {
      "text/plain": [
       "8.445569533937922"
      ]
     },
     "execution_count": 45,
     "metadata": {},
     "output_type": "execute_result"
    }
   ],
   "source": [
    "# import the math module for calculating sqrt.\n",
    "import math \n",
    "\n",
    "# Calculating the population var() of the \"total_bill\" column.\n",
    "var = df[\"total_bill\"].var() * (len(\"total_bill\")-1)/len(\"total_bill\")\n",
    "\n",
    "# Calculate the population standard deviation without using std()\n",
    "# Applying the square root to the \"var\" object\n",
    "population_std = math.sqrt(var)\n",
    "\n",
    "# Print the population standard deviation result\n",
    "population_std"
   ]
  },
  {
   "cell_type": "markdown",
   "id": "3657a33c",
   "metadata": {},
   "source": [
    "- <b> In the above example the population std() of the \"total_bill\" column is 8.4455."
   ]
  },
  {
   "cell_type": "markdown",
   "id": "cb578242",
   "metadata": {},
   "source": [
    "## percentile or quantile() : -\n",
    "- The quantile() method calculates the quantile of the values in a given axis. Default axis is row.\n",
    "\n",
    "\n",
    "- By specifying the column axis (axis='columns'), the quantile() method calculates the quantile column-wise and returns the mean value for each row."
   ]
  },
  {
   "cell_type": "code",
   "execution_count": 46,
   "id": "2779bf95",
   "metadata": {},
   "outputs": [
    {
     "data": {
      "text/plain": [
       "13.3475"
      ]
     },
     "execution_count": 46,
     "metadata": {},
     "output_type": "execute_result"
    }
   ],
   "source": [
    "# Calculating the 25th percentile or (Q1) of the \"total_bill\" column.\n",
    "df[\"total_bill\"].quantile(0.25)"
   ]
  },
  {
   "cell_type": "markdown",
   "id": "c97db7d5",
   "metadata": {},
   "source": [
    "- <b> In the above example the 25th percentile or (Q1) of the \"total_bill\" column is 13.3475."
   ]
  },
  {
   "cell_type": "code",
   "execution_count": 47,
   "id": "7c44b1ad",
   "metadata": {},
   "outputs": [
    {
     "data": {
      "text/plain": [
       "17.795"
      ]
     },
     "execution_count": 47,
     "metadata": {},
     "output_type": "execute_result"
    }
   ],
   "source": [
    "# Calculating the 50th percentile or (Q2) or median of the \"total_bill\" column.\n",
    "df[\"total_bill\"].quantile(0.50)"
   ]
  },
  {
   "cell_type": "markdown",
   "id": "7f321bc8",
   "metadata": {},
   "source": [
    "- <b> In the above example the 50th percentile or (Q1) or median of the \"total_bill\" column is 17.795."
   ]
  },
  {
   "cell_type": "code",
   "execution_count": 48,
   "id": "88fba7d4",
   "metadata": {},
   "outputs": [
    {
     "data": {
      "text/plain": [
       "24.127499999999998"
      ]
     },
     "execution_count": 48,
     "metadata": {},
     "output_type": "execute_result"
    }
   ],
   "source": [
    "# Calculating the 75th percentile or (Q3) of the \"total_bill\" column.\n",
    "df[\"total_bill\"].quantile(0.75)"
   ]
  },
  {
   "cell_type": "markdown",
   "id": "f8460dd4",
   "metadata": {},
   "source": [
    "- <b> In the above example the 75th percentile or (Q3) of the \"total_bill\" column is 24.1274."
   ]
  },
  {
   "cell_type": "markdown",
   "id": "ad3bada6",
   "metadata": {},
   "source": [
    "## interquartile range (IQR) : -\n",
    "- The interquartile range is a number that indicates the spread of the middle half or the middle 50% of the data. It is the difference between the third quartile (Q3) and the first quartile (Q1).\n",
    "\n",
    "\n",
    "- The IQR can help to determine potential outliers."
   ]
  },
  {
   "cell_type": "code",
   "execution_count": 49,
   "id": "e8863cb9",
   "metadata": {},
   "outputs": [
    {
     "data": {
      "text/plain": [
       "10.779999999999998"
      ]
     },
     "execution_count": 49,
     "metadata": {},
     "output_type": "execute_result"
    }
   ],
   "source": [
    "# Calculating the interquartile range (IQR) of the \"total_bill\" column.\n",
    "# IQR = Q3 - Q1\n",
    "df[\"total_bill\"].quantile(0.75) - df[\"total_bill\"].quantile(0.25)"
   ]
  },
  {
   "cell_type": "markdown",
   "id": "41925448",
   "metadata": {},
   "source": [
    "- <b> In the above example the interquartile range (IQR) of the \"total_bill\" column is 10.779."
   ]
  },
  {
   "cell_type": "markdown",
   "id": "66a3aa5a",
   "metadata": {},
   "source": [
    "## skewness or skew() : -\n",
    "- The skew() method calculates the skew for each column.\n",
    "\n",
    "\n",
    "- By specifying the column axis (axis='columns'), the skew() method searches column-wise and returns the skew of each row."
   ]
  },
  {
   "cell_type": "code",
   "execution_count": 50,
   "id": "4891d514",
   "metadata": {},
   "outputs": [
    {
     "data": {
      "text/plain": [
       "1.1332130376158205"
      ]
     },
     "execution_count": 50,
     "metadata": {},
     "output_type": "execute_result"
    }
   ],
   "source": [
    "# Calculating the skewness or skew() of the \"total_bill\" column.\n",
    "df[\"total_bill\"].skew()"
   ]
  },
  {
   "cell_type": "markdown",
   "id": "d4f2d8bf",
   "metadata": {},
   "source": [
    "- <b> If skewness=0, then it is called perfect normal distribution.\n",
    "\n",
    "\n",
    "- <b> If skewness values lies between -1 to +1, then it is called normal distribution.\n",
    "\n",
    "\n",
    "- <b> If skewness < -1, then it is left skewed.\n",
    "\n",
    "\n",
    "- <b> If skewness > +1, then it is right skewed."
   ]
  },
  {
   "cell_type": "markdown",
   "id": "ba57f85a",
   "metadata": {},
   "source": [
    "- <b> In the above example the \"total_bill\" column skewness is greater than 1, So it is right skewed."
   ]
  },
  {
   "cell_type": "markdown",
   "id": "8e8e08ed",
   "metadata": {},
   "source": [
    "## kurtosis or kurt() : -\n",
    "- Kurtosis is a measure of the tailedness (peakedness) of a distribution. Tailedness is how often outliers occur.\n",
    "\n",
    "\n",
    "- There are 3 types in Kurtosis, they are :\n",
    "     1) leptokurtic (high & thin) : Distributions with high kurtosis (fat tails) are leptokurtic.\n",
    "\n",
    "\n",
    "     2) mesokurtic (normal in shape) : Distributions with medium kurtosis (medium tails) are mesokurtic.\n",
    "\n",
    "\n",
    "     3) platykurtic (flat & spread out) : Distributions with low kurtosis (thin tails) are platykurtic.\n",
    "     \n",
    "     \n",
    "- Kurtosis can take several values :\n",
    "\n",
    "    1) Positive excess kurtosis – when excess kurtosis, given by (kurtosis – 3), is positive, then the distribution has a sharp peak and is called a leptokurtic distribution.\n",
    "\n",
    "\n",
    "    2) Negative excess kurtosis – when excess kurtosis, given by (kurtosis – 3), is negative, then the distribution has a flat  peak and is called a platykurtic distribution.\n",
    "\n",
    "\n",
    "    3) Zero excess kurtosis – when excess kurtosis, given by (kurtosis – 3), is zero, then the distribution follows a normal   distribution and is also called a mesokurtic distribution."
   ]
  },
  {
   "cell_type": "code",
   "execution_count": 53,
   "id": "cf2784da",
   "metadata": {},
   "outputs": [
    {
     "data": {
      "text/plain": [
       "1.2184840156638854"
      ]
     },
     "execution_count": 53,
     "metadata": {},
     "output_type": "execute_result"
    }
   ],
   "source": [
    "# Calculating the kurtosis or kurt() of the \"total_bill\" column.\n",
    "df[\"total_bill\"].kurt()"
   ]
  },
  {
   "cell_type": "markdown",
   "id": "100211e6",
   "metadata": {},
   "source": [
    "- <b> In the above example the \"total_bill\" column kurtosis or kurt() is positive, then the distribution has a sharp peak and is called a leptokurtic distribution. So it is leptokurtic distribution."
   ]
  },
  {
   "cell_type": "markdown",
   "id": "3c5503df",
   "metadata": {},
   "source": [
    "## covariance or cov() : -\n",
    "- The cov() function is used to compute pairwise covariance of columns, excluding NA/null values.\n",
    "\n",
    "\n",
    "- Compute the pairwise covariance among the series of a DataFrame. The returned data frame is the covariance matrix of the columns of the DataFrame."
   ]
  },
  {
   "cell_type": "code",
   "execution_count": 3,
   "id": "2daf333b",
   "metadata": {},
   "outputs": [
    {
     "data": {
      "text/html": [
       "<div>\n",
       "<style scoped>\n",
       "    .dataframe tbody tr th:only-of-type {\n",
       "        vertical-align: middle;\n",
       "    }\n",
       "\n",
       "    .dataframe tbody tr th {\n",
       "        vertical-align: top;\n",
       "    }\n",
       "\n",
       "    .dataframe thead th {\n",
       "        text-align: right;\n",
       "    }\n",
       "</style>\n",
       "<table border=\"1\" class=\"dataframe\">\n",
       "  <thead>\n",
       "    <tr style=\"text-align: right;\">\n",
       "      <th></th>\n",
       "      <th>total_bill</th>\n",
       "      <th>tip</th>\n",
       "    </tr>\n",
       "  </thead>\n",
       "  <tbody>\n",
       "    <tr>\n",
       "      <th>total_bill</th>\n",
       "      <td>79.252939</td>\n",
       "      <td>8.323502</td>\n",
       "    </tr>\n",
       "    <tr>\n",
       "      <th>tip</th>\n",
       "      <td>8.323502</td>\n",
       "      <td>1.914455</td>\n",
       "    </tr>\n",
       "  </tbody>\n",
       "</table>\n",
       "</div>"
      ],
      "text/plain": [
       "            total_bill       tip\n",
       "total_bill   79.252939  8.323502\n",
       "tip           8.323502  1.914455"
      ]
     },
     "execution_count": 3,
     "metadata": {},
     "output_type": "execute_result"
    }
   ],
   "source": [
    "# Calculating the covariance or cov() of the \"total_bill\" and \"tip\" columns.\n",
    "df[[\"total_bill\",\"tip\"]].cov()"
   ]
  },
  {
   "cell_type": "markdown",
   "id": "3469a70e",
   "metadata": {},
   "source": [
    "- <b> The above example matrix shows the covariance or cov() of the \"total_bill\" and \"tip\" columns."
   ]
  },
  {
   "cell_type": "markdown",
   "id": "3f82b220",
   "metadata": {},
   "source": [
    "## correlation or corr() : -\n",
    "- The corr() method finds the correlation of each column in a DataFrame.\n",
    "\n",
    "\n",
    "- Compute the pairwise correlation among the series of a DataFrame. The returned data frame is the correlation matrix of the columns of the DataFrame."
   ]
  },
  {
   "cell_type": "code",
   "execution_count": 4,
   "id": "65edb829",
   "metadata": {},
   "outputs": [
    {
     "data": {
      "text/html": [
       "<div>\n",
       "<style scoped>\n",
       "    .dataframe tbody tr th:only-of-type {\n",
       "        vertical-align: middle;\n",
       "    }\n",
       "\n",
       "    .dataframe tbody tr th {\n",
       "        vertical-align: top;\n",
       "    }\n",
       "\n",
       "    .dataframe thead th {\n",
       "        text-align: right;\n",
       "    }\n",
       "</style>\n",
       "<table border=\"1\" class=\"dataframe\">\n",
       "  <thead>\n",
       "    <tr style=\"text-align: right;\">\n",
       "      <th></th>\n",
       "      <th>total_bill</th>\n",
       "      <th>tip</th>\n",
       "    </tr>\n",
       "  </thead>\n",
       "  <tbody>\n",
       "    <tr>\n",
       "      <th>total_bill</th>\n",
       "      <td>1.000000</td>\n",
       "      <td>0.675734</td>\n",
       "    </tr>\n",
       "    <tr>\n",
       "      <th>tip</th>\n",
       "      <td>0.675734</td>\n",
       "      <td>1.000000</td>\n",
       "    </tr>\n",
       "  </tbody>\n",
       "</table>\n",
       "</div>"
      ],
      "text/plain": [
       "            total_bill       tip\n",
       "total_bill    1.000000  0.675734\n",
       "tip           0.675734  1.000000"
      ]
     },
     "execution_count": 4,
     "metadata": {},
     "output_type": "execute_result"
    }
   ],
   "source": [
    "# Calculating the correlation or corr() of the \"total_bill\" and \"tip\" columns.\n",
    "df[[\"total_bill\",\"tip\"]].corr()"
   ]
  },
  {
   "cell_type": "markdown",
   "id": "2fa9d982",
   "metadata": {},
   "source": [
    "- <b> The above example matrix shows the correlation or corr() of the \"total_bill\" and \"tip\" columns."
   ]
  },
  {
   "cell_type": "markdown",
   "id": "f4684871",
   "metadata": {},
   "source": [
    "## describe or df.describe() : -\n",
    "- The describe() method returns description of the data in the DataFrame.\n",
    "\n",
    "\n",
    "- If the DataFrame contains numerical data, the description contains these information for each column :\n",
    "\n",
    "\n",
    "            1) count - The number of not-empty values.\n",
    "            2) mean  - The average (mean) value.\n",
    "            3) std   - The standard deviation.\n",
    "            4) min   - The minimum value.\n",
    "            5) 25%   - The 25% percentile*.\n",
    "            6) 50%   - The 50% percentile*.\n",
    "            7) 75%   - The 75% percentile*.\n",
    "            8) max   - The maximum value."
   ]
  },
  {
   "cell_type": "code",
   "execution_count": 5,
   "id": "18b95a48",
   "metadata": {},
   "outputs": [
    {
     "data": {
      "text/html": [
       "<div>\n",
       "<style scoped>\n",
       "    .dataframe tbody tr th:only-of-type {\n",
       "        vertical-align: middle;\n",
       "    }\n",
       "\n",
       "    .dataframe tbody tr th {\n",
       "        vertical-align: top;\n",
       "    }\n",
       "\n",
       "    .dataframe thead th {\n",
       "        text-align: right;\n",
       "    }\n",
       "</style>\n",
       "<table border=\"1\" class=\"dataframe\">\n",
       "  <thead>\n",
       "    <tr style=\"text-align: right;\">\n",
       "      <th></th>\n",
       "      <th>total_bill</th>\n",
       "      <th>tip</th>\n",
       "      <th>size</th>\n",
       "    </tr>\n",
       "  </thead>\n",
       "  <tbody>\n",
       "    <tr>\n",
       "      <th>count</th>\n",
       "      <td>244.000000</td>\n",
       "      <td>244.000000</td>\n",
       "      <td>244.000000</td>\n",
       "    </tr>\n",
       "    <tr>\n",
       "      <th>mean</th>\n",
       "      <td>19.785943</td>\n",
       "      <td>2.998279</td>\n",
       "      <td>2.569672</td>\n",
       "    </tr>\n",
       "    <tr>\n",
       "      <th>std</th>\n",
       "      <td>8.902412</td>\n",
       "      <td>1.383638</td>\n",
       "      <td>0.951100</td>\n",
       "    </tr>\n",
       "    <tr>\n",
       "      <th>min</th>\n",
       "      <td>3.070000</td>\n",
       "      <td>1.000000</td>\n",
       "      <td>1.000000</td>\n",
       "    </tr>\n",
       "    <tr>\n",
       "      <th>25%</th>\n",
       "      <td>13.347500</td>\n",
       "      <td>2.000000</td>\n",
       "      <td>2.000000</td>\n",
       "    </tr>\n",
       "    <tr>\n",
       "      <th>50%</th>\n",
       "      <td>17.795000</td>\n",
       "      <td>2.900000</td>\n",
       "      <td>2.000000</td>\n",
       "    </tr>\n",
       "    <tr>\n",
       "      <th>75%</th>\n",
       "      <td>24.127500</td>\n",
       "      <td>3.562500</td>\n",
       "      <td>3.000000</td>\n",
       "    </tr>\n",
       "    <tr>\n",
       "      <th>max</th>\n",
       "      <td>50.810000</td>\n",
       "      <td>10.000000</td>\n",
       "      <td>6.000000</td>\n",
       "    </tr>\n",
       "  </tbody>\n",
       "</table>\n",
       "</div>"
      ],
      "text/plain": [
       "       total_bill         tip        size\n",
       "count  244.000000  244.000000  244.000000\n",
       "mean    19.785943    2.998279    2.569672\n",
       "std      8.902412    1.383638    0.951100\n",
       "min      3.070000    1.000000    1.000000\n",
       "25%     13.347500    2.000000    2.000000\n",
       "50%     17.795000    2.900000    2.000000\n",
       "75%     24.127500    3.562500    3.000000\n",
       "max     50.810000   10.000000    6.000000"
      ]
     },
     "execution_count": 5,
     "metadata": {},
     "output_type": "execute_result"
    }
   ],
   "source": [
    "# Apply the describe() on df dataframe.\n",
    "df.describe()"
   ]
  },
  {
   "cell_type": "markdown",
   "id": "35bb521b",
   "metadata": {},
   "source": [
    "- <b> In the above example \"total_bill\" & \"tip\" columns are continous variables and \"size\" column is discrete count variable, remaining variables are discrete Categorical data. So descibe() function by default returns continous & discrete count variables only. "
   ]
  },
  {
   "cell_type": "markdown",
   "id": "b91d08b0",
   "metadata": {},
   "source": [
    "- <b> We can apply describe() function on discrete Categorical variables, it returns count, unique, top (mode), freq and remaining information as NaN.\n",
    "    \n",
    "    \n",
    "- <b> To apply describe() function on discrete Categorical variables, we must pass \"include='all'\"."
   ]
  },
  {
   "cell_type": "code",
   "execution_count": 6,
   "id": "401a26e4",
   "metadata": {},
   "outputs": [
    {
     "data": {
      "text/html": [
       "<div>\n",
       "<style scoped>\n",
       "    .dataframe tbody tr th:only-of-type {\n",
       "        vertical-align: middle;\n",
       "    }\n",
       "\n",
       "    .dataframe tbody tr th {\n",
       "        vertical-align: top;\n",
       "    }\n",
       "\n",
       "    .dataframe thead th {\n",
       "        text-align: right;\n",
       "    }\n",
       "</style>\n",
       "<table border=\"1\" class=\"dataframe\">\n",
       "  <thead>\n",
       "    <tr style=\"text-align: right;\">\n",
       "      <th></th>\n",
       "      <th>total_bill</th>\n",
       "      <th>tip</th>\n",
       "      <th>sex</th>\n",
       "      <th>smoker</th>\n",
       "      <th>day</th>\n",
       "      <th>time</th>\n",
       "      <th>size</th>\n",
       "    </tr>\n",
       "  </thead>\n",
       "  <tbody>\n",
       "    <tr>\n",
       "      <th>count</th>\n",
       "      <td>244.000000</td>\n",
       "      <td>244.000000</td>\n",
       "      <td>244</td>\n",
       "      <td>244</td>\n",
       "      <td>244</td>\n",
       "      <td>244</td>\n",
       "      <td>244.000000</td>\n",
       "    </tr>\n",
       "    <tr>\n",
       "      <th>unique</th>\n",
       "      <td>NaN</td>\n",
       "      <td>NaN</td>\n",
       "      <td>2</td>\n",
       "      <td>2</td>\n",
       "      <td>4</td>\n",
       "      <td>2</td>\n",
       "      <td>NaN</td>\n",
       "    </tr>\n",
       "    <tr>\n",
       "      <th>top</th>\n",
       "      <td>NaN</td>\n",
       "      <td>NaN</td>\n",
       "      <td>Male</td>\n",
       "      <td>No</td>\n",
       "      <td>Sat</td>\n",
       "      <td>Dinner</td>\n",
       "      <td>NaN</td>\n",
       "    </tr>\n",
       "    <tr>\n",
       "      <th>freq</th>\n",
       "      <td>NaN</td>\n",
       "      <td>NaN</td>\n",
       "      <td>157</td>\n",
       "      <td>151</td>\n",
       "      <td>87</td>\n",
       "      <td>176</td>\n",
       "      <td>NaN</td>\n",
       "    </tr>\n",
       "    <tr>\n",
       "      <th>mean</th>\n",
       "      <td>19.785943</td>\n",
       "      <td>2.998279</td>\n",
       "      <td>NaN</td>\n",
       "      <td>NaN</td>\n",
       "      <td>NaN</td>\n",
       "      <td>NaN</td>\n",
       "      <td>2.569672</td>\n",
       "    </tr>\n",
       "    <tr>\n",
       "      <th>std</th>\n",
       "      <td>8.902412</td>\n",
       "      <td>1.383638</td>\n",
       "      <td>NaN</td>\n",
       "      <td>NaN</td>\n",
       "      <td>NaN</td>\n",
       "      <td>NaN</td>\n",
       "      <td>0.951100</td>\n",
       "    </tr>\n",
       "    <tr>\n",
       "      <th>min</th>\n",
       "      <td>3.070000</td>\n",
       "      <td>1.000000</td>\n",
       "      <td>NaN</td>\n",
       "      <td>NaN</td>\n",
       "      <td>NaN</td>\n",
       "      <td>NaN</td>\n",
       "      <td>1.000000</td>\n",
       "    </tr>\n",
       "    <tr>\n",
       "      <th>25%</th>\n",
       "      <td>13.347500</td>\n",
       "      <td>2.000000</td>\n",
       "      <td>NaN</td>\n",
       "      <td>NaN</td>\n",
       "      <td>NaN</td>\n",
       "      <td>NaN</td>\n",
       "      <td>2.000000</td>\n",
       "    </tr>\n",
       "    <tr>\n",
       "      <th>50%</th>\n",
       "      <td>17.795000</td>\n",
       "      <td>2.900000</td>\n",
       "      <td>NaN</td>\n",
       "      <td>NaN</td>\n",
       "      <td>NaN</td>\n",
       "      <td>NaN</td>\n",
       "      <td>2.000000</td>\n",
       "    </tr>\n",
       "    <tr>\n",
       "      <th>75%</th>\n",
       "      <td>24.127500</td>\n",
       "      <td>3.562500</td>\n",
       "      <td>NaN</td>\n",
       "      <td>NaN</td>\n",
       "      <td>NaN</td>\n",
       "      <td>NaN</td>\n",
       "      <td>3.000000</td>\n",
       "    </tr>\n",
       "    <tr>\n",
       "      <th>max</th>\n",
       "      <td>50.810000</td>\n",
       "      <td>10.000000</td>\n",
       "      <td>NaN</td>\n",
       "      <td>NaN</td>\n",
       "      <td>NaN</td>\n",
       "      <td>NaN</td>\n",
       "      <td>6.000000</td>\n",
       "    </tr>\n",
       "  </tbody>\n",
       "</table>\n",
       "</div>"
      ],
      "text/plain": [
       "        total_bill         tip   sex smoker  day    time        size\n",
       "count   244.000000  244.000000   244    244  244     244  244.000000\n",
       "unique         NaN         NaN     2      2    4       2         NaN\n",
       "top            NaN         NaN  Male     No  Sat  Dinner         NaN\n",
       "freq           NaN         NaN   157    151   87     176         NaN\n",
       "mean     19.785943    2.998279   NaN    NaN  NaN     NaN    2.569672\n",
       "std       8.902412    1.383638   NaN    NaN  NaN     NaN    0.951100\n",
       "min       3.070000    1.000000   NaN    NaN  NaN     NaN    1.000000\n",
       "25%      13.347500    2.000000   NaN    NaN  NaN     NaN    2.000000\n",
       "50%      17.795000    2.900000   NaN    NaN  NaN     NaN    2.000000\n",
       "75%      24.127500    3.562500   NaN    NaN  NaN     NaN    3.000000\n",
       "max      50.810000   10.000000   NaN    NaN  NaN     NaN    6.000000"
      ]
     },
     "execution_count": 6,
     "metadata": {},
     "output_type": "execute_result"
    }
   ],
   "source": [
    "# Apply the describe() on df dataframe with \"include='all'\".\n",
    "df.describe(include = \"all\")"
   ]
  },
  {
   "cell_type": "markdown",
   "id": "43d71369",
   "metadata": {},
   "source": [
    "- <b> In the above example, we can see that the describe() function on discrete Categorical variables, it returns count, unique, top (mode), freq and remaining information as NaN."
   ]
  }
 ],
 "metadata": {
  "kernelspec": {
   "display_name": "Python 3 (ipykernel)",
   "language": "python",
   "name": "python3"
  },
  "language_info": {
   "codemirror_mode": {
    "name": "ipython",
    "version": 3
   },
   "file_extension": ".py",
   "mimetype": "text/x-python",
   "name": "python",
   "nbconvert_exporter": "python",
   "pygments_lexer": "ipython3",
   "version": "3.9.13"
  }
 },
 "nbformat": 4,
 "nbformat_minor": 5
}
