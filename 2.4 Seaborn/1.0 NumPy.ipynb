{
 "cells": [
  {
   "cell_type": "markdown",
   "id": "1e231b85",
   "metadata": {},
   "source": [
    "# <p style='text-align: center;'> Numpy </p>"
   ]
  },
  {
   "cell_type": "markdown",
   "id": "3a486f6a",
   "metadata": {},
   "source": [
    "-------------------------------------\n",
    "## Introduction to Numpy :\n",
    "-------------------------------------\n",
    "- Numpy stands for Numerical Python.\n",
    "\n",
    "\n",
    "- Numpy is one of the pre-defined third party module / Library and Numpy module is not a pre-defined module in Python \n",
    "  Language.\n",
    "\n",
    "\n",
    "- In Python we have the lists that serves the purpose of arrays, but thay are slow to process.\n",
    "\n",
    "\n",
    "- Numpy is incrediable library to perform mathematical and statistical operations due to it's fast and memory efficient \n",
    "  as it is optimized to work with latest CPU architectures.\n",
    "  \n",
    "  \n",
    "- Numpy aims to provide an array object that is up to 50x than traditional python lists. So processess can access and  \n",
    "  manipulate them very efficiently.\n",
    "  \n",
    "  \n",
    "- Syntax for installing any module: \n",
    "\n",
    "\n",
    "                pip install module-name\n",
    "                \n",
    "                \n",
    "- Syntax for installing numpy module:               \n",
    "                \n",
    "                \n",
    "                pip install numpy\n",
    "                \n",
    "                \n",
    "- To use numpy as part of our program, we must import numpy module.\n",
    "\n",
    "\n",
    "- A Numpy module is a collection of Variables, Functions and Classes.\n"
   ]
  },
  {
   "cell_type": "markdown",
   "id": "0a2d0d5e",
   "metadata": {},
   "source": [
    "-------------------------------------\n",
    "## History of Numpy :\n",
    "-------------------------------------\n",
    "- Numpy was developed by studying existing module called \"Numeric Library\"(origin for development of numpy module).\n",
    "\n",
    "\n",
    "- The Numeric Library was developed by JIM HUNGUNIAN.\n",
    "\n",
    "\n",
    "- The Numeric Library was not able to solve complex maths calculations.\n",
    "\n",
    "\n",
    "- Numpy module developed by TRAVIS OLIPHANT for solving complex maths calculations.\n",
    "\n",
    "\n",
    "- Numpy Module developed in the year 2005.\n",
    "\n",
    "\n",
    "- Numpy Module developed in C and PYTHON languages.\n"
   ]
  },
  {
   "cell_type": "markdown",
   "id": "bcb8ae13",
   "metadata": {},
   "source": [
    "-------------------------------------\n",
    "## <p style='text-align: center;'> Python Traditional List VS Numpy Module </p>\n",
    "-------------------------------------\n",
    "\n",
    "### Similarities of python Traditional List VS Numpy Module :\n",
    "- An object of list used to store multiple values of same type or different type and both types (unique + duplicates) in \n",
    "  single object.\n",
    "  \n",
    "  \n",
    "- In Numpy Programming, the data is organized in the object of \"ndarray\", which is one of the pre-defined class in numpy \n",
    "  module. Hence an object of ndarray can store same type or different type and both types (unique + duplicates) in single \n",
    "  object.\n",
    "\n",
    "\n",
    "- The objects of ndarray and list are mutable (changes can be takes place).\n"
   ]
  },
  {
   "cell_type": "markdown",
   "id": "4a2cf3a0",
   "metadata": {},
   "source": [
    "### Differences between Python Traditional List and ndarray object of Numpy Module :\n",
    " 1. An object of list contains both homogeneous and heterogeneous values where as an object of ndarray of numpy can store  \n",
    " only similar type of values (even we store different values, internally they are treated as similar type by treating all \n",
    " values of type \"object\")."
   ]
  },
  {
   "cell_type": "code",
   "execution_count": 1,
   "id": "1027bd78",
   "metadata": {},
   "outputs": [
    {
     "name": "stdout",
     "output_type": "stream",
     "text": [
      "[10, 'Ram', 23.34, (3+4j), True] <class 'list'>\n"
     ]
    }
   ],
   "source": [
    "# In Python Traditional List.\n",
    "\n",
    "# User Given list.\n",
    "l1 = [10,\"Ram\",23.34,3+4j,True]\n",
    "\n",
    "# print the list and its type.\n",
    "print(l1,type(l1))"
   ]
  },
  {
   "cell_type": "code",
   "execution_count": 10,
   "id": "57c8258d",
   "metadata": {},
   "outputs": [
    {
     "name": "stdout",
     "output_type": "stream",
     "text": [
      "['10' 'Ram' '23.34' '(3+4j)' 'True'] <class 'numpy.ndarray'>\n"
     ]
    }
   ],
   "source": [
    "# In ndarray object of Numpy Module.\n",
    "\n",
    "# User Given list.\n",
    "l1 = [10,\"Ram\",23.34,3+4j,True]\n",
    "\n",
    "# importing the numpy module.\n",
    "import numpy as np\n",
    "\n",
    "# storing list into numpy in object \"a\".\n",
    "a=np.array(l1)\n",
    "\n",
    "# print the ndarray object of Numpy Module and its type.\n",
    "print(a,type(a))"
   ]
  },
  {
   "cell_type": "markdown",
   "id": "4e5623d2",
   "metadata": {},
   "source": [
    "- Here heterogeneous values are there in list, it will takes heterogeneous data and print it. But in Numpy it will take \n",
    "  heterogeneous data print the data in \"str\" format as shown in above example in <class 'numpy.ndarray'>. Because an object \n",
    "  of ndarray of numpy can store only similar type of values (even we store different values, internally they are treated as \n",
    "  similar type by treating all values of type \"object\"). \n",
    "    "
   ]
  },
  {
   "cell_type": "markdown",
   "id": "e3ecdf0b",
   "metadata": {},
   "source": [
    "2. On the object of list, we can't perform Vector Operations. whereas on the object of ndarray, we can perform Vector based \n",
    "  operations."
   ]
  },
  {
   "cell_type": "code",
   "execution_count": 11,
   "id": "c1f7f830",
   "metadata": {},
   "outputs": [
    {
     "ename": "TypeError",
     "evalue": "can only concatenate list (not \"int\") to list",
     "output_type": "error",
     "traceback": [
      "\u001b[1;31m---------------------------------------------------------------------------\u001b[0m",
      "\u001b[1;31mTypeError\u001b[0m                                 Traceback (most recent call last)",
      "\u001b[1;32m~\\AppData\\Local\\Temp\\ipykernel_8740\\2538583853.py\u001b[0m in \u001b[0;36m<module>\u001b[1;34m\u001b[0m\n\u001b[0;32m      5\u001b[0m \u001b[1;33m\u001b[0m\u001b[0m\n\u001b[0;32m      6\u001b[0m \u001b[1;31m# I want to add \"1\" to each elements within the list\".\u001b[0m\u001b[1;33m\u001b[0m\u001b[1;33m\u001b[0m\u001b[0m\n\u001b[1;32m----> 7\u001b[1;33m \u001b[0ml2\u001b[0m \u001b[1;33m=\u001b[0m \u001b[0ml2\u001b[0m \u001b[1;33m+\u001b[0m \u001b[1;36m1\u001b[0m\u001b[1;33m\u001b[0m\u001b[1;33m\u001b[0m\u001b[0m\n\u001b[0m\u001b[0;32m      8\u001b[0m \u001b[1;33m\u001b[0m\u001b[0m\n\u001b[0;32m      9\u001b[0m \u001b[1;31m# Its showing an TypeError in Python Traditional List.\u001b[0m\u001b[1;33m\u001b[0m\u001b[1;33m\u001b[0m\u001b[0m\n",
      "\u001b[1;31mTypeError\u001b[0m: can only concatenate list (not \"int\") to list"
     ]
    }
   ],
   "source": [
    "# Vector based operations in Python Traditional List.\n",
    "\n",
    "# User Given list.\n",
    "l2 = [10,20,30]\n",
    "\n",
    "# I want to add \"1\" to each elements within the list\".\n",
    "l2 = l2 + 1\n",
    "\n",
    "# Its showing an TypeError in Python Traditional List."
   ]
  },
  {
   "cell_type": "code",
   "execution_count": 19,
   "id": "103b860f",
   "metadata": {},
   "outputs": [
    {
     "name": "stdout",
     "output_type": "stream",
     "text": [
      "[11 21 31] <class 'numpy.ndarray'>\n"
     ]
    }
   ],
   "source": [
    "# Vector based operations in ndarray object of Numpy Module.\n",
    "\n",
    "# User Given list.\n",
    "l2 = [10,20,30]\n",
    "\n",
    "# importing the numpy module.\n",
    "import numpy as np\n",
    "\n",
    "# storing list into numpy in object \"b\".\n",
    "b=np.array(l2)\n",
    "\n",
    "# I want to add \"1\" to each elements.\n",
    "b = b + 1\n",
    "\n",
    "# print the ndarray object of Numpy Module and its type.\n",
    "print(b,type(b))"
   ]
  },
  {
   "cell_type": "markdown",
   "id": "95150813",
   "metadata": {},
   "source": [
    "3. In large sampling of data, List based applications takes more memory space where ndarray object takes less memory space."
   ]
  },
  {
   "cell_type": "code",
   "execution_count": 20,
   "id": "ce619cb9",
   "metadata": {},
   "outputs": [
    {
     "data": {
      "text/plain": [
       "216"
      ]
     },
     "execution_count": 20,
     "metadata": {},
     "output_type": "execute_result"
    }
   ],
   "source": [
    "# Getting memory size information in list.\n",
    "\n",
    "# User Given list.\n",
    "l3 = [10,20,30,40,50,60,70,80,90,100,11,23,45,67,78,89,99,90,9,78,]\n",
    "\n",
    "# importing the \"sys\" module.\n",
    "import sys\n",
    "\n",
    "# put the object in \"sys.getsizeof()\" it will gives the size.\n",
    "sys.getsizeof(l3)\n"
   ]
  },
  {
   "cell_type": "code",
   "execution_count": 21,
   "id": "077faa10",
   "metadata": {},
   "outputs": [
    {
     "data": {
      "text/plain": [
       "184"
      ]
     },
     "execution_count": 21,
     "metadata": {},
     "output_type": "execute_result"
    }
   ],
   "source": [
    "# Getting memory size information in ndarray object of Numpy Module.\n",
    "\n",
    "# User Given list.\n",
    "l3 = [10,20,30,40,50,60,70,80,90,100,11,23,45,67,78,89,99,90,9,78,]\n",
    "\n",
    "# importing the \"sys\" and \"numpy\" module.\n",
    "import sys\n",
    "import numpy as np\n",
    "\n",
    "# storing list into numpy in object \"c\".\n",
    "c=np.array(l3)\n",
    "\n",
    "# put the object in \"sys.getsizeof()\" it will gives the size.\n",
    "sys.getsizeof(c)\n"
   ]
  },
  {
   "cell_type": "markdown",
   "id": "87045b58",
   "metadata": {},
   "source": [
    "4. List based applications are not efficient bcoz list object values take more time to extract or retrieve (they are \n",
    "  available at different Address) where as numpy based applications are efficient bcoz of ndarray object values takes \n",
    "  less time to extract or retrieve (they are available at same Address / clustered)."
   ]
  },
  {
   "cell_type": "code",
   "execution_count": 23,
   "id": "b1864fd1",
   "metadata": {},
   "outputs": [
    {
     "name": "stdout",
     "output_type": "stream",
     "text": [
      "10--->2040013875792\n",
      "20--->2040013876112\n",
      "30--->2040013876432\n",
      "40--->2040013876752\n",
      "50--->2040013877072\n",
      "60--->2040014065872\n",
      "70--->2040014066192\n",
      "80--->2040014066512\n"
     ]
    }
   ],
   "source": [
    "# Getting each elements memory address in list.\n",
    "\n",
    "# User Given list.\n",
    "l4 = [10,20,30,40,50,60,70,80]\n",
    "\n",
    "# Using for loop to get each elements memory address.\n",
    "for val in l4:\n",
    "    \n",
    "    # print the each elements and its memory address. \n",
    "    print(\"{}--->{}\".format(val,id(val)))\n"
   ]
  },
  {
   "cell_type": "code",
   "execution_count": 24,
   "id": "fce53163",
   "metadata": {},
   "outputs": [
    {
     "name": "stdout",
     "output_type": "stream",
     "text": [
      "10--->2040103496816\n",
      "20--->2040099152560\n",
      "30--->2040099152976\n",
      "40--->2040099152560\n",
      "50--->2040099152976\n",
      "60--->2040099152560\n",
      "70--->2040099152976\n",
      "80--->2040099152560\n"
     ]
    }
   ],
   "source": [
    "# Getting each elements memory address in ndarray object of Numpy Module.\n",
    "\n",
    "# User Given list.\n",
    "l4 = [10,20,30,40,50,60,70,80]\n",
    "\n",
    "# importing the \"numpy\" module.\n",
    "import numpy as np\n",
    "\n",
    "# storing list into numpy in object \"d\".\n",
    "d=np.array(l4)\n",
    "\n",
    "# Using for loop to get each elements memory address.\n",
    "for val in d:\n",
    "    \n",
    "    # print the each elements and its memory address. \n",
    "    print(\"{}--->{}\".format(val,id(val)))\n"
   ]
  },
  {
   "cell_type": "markdown",
   "id": "5a918b25",
   "metadata": {},
   "source": [
    "5. List object can't perform complex mathematical operations whereas an object of ndarray can perform complex \n",
    "  mathematical operations."
   ]
  },
  {
   "cell_type": "code",
   "execution_count": 25,
   "id": "b18dccbf",
   "metadata": {},
   "outputs": [
    {
     "data": {
      "text/plain": [
       "array([[ 65,  86],\n",
       "       [135, 178]])"
      ]
     },
     "execution_count": 25,
     "metadata": {},
     "output_type": "execute_result"
    }
   ],
   "source": [
    "# matrix multiplication by numpy.\n",
    "\n",
    "# Creating \"a\" and \"b\" array object.\n",
    "a=np.array([[1,2],[3,4]])\n",
    "b=np.array([[5,6],[30,40]])\n",
    "\n",
    "# Calculating matrix multiplication.\n",
    "np.matmul(a,b)"
   ]
  },
  {
   "cell_type": "markdown",
   "id": "5062822a",
   "metadata": {},
   "source": [
    "- Here we are able to perform matrix multiplication in ndarray object of Numpy Module, but in Python Traditional List\n",
    "  we are unable to perform matrix multiplication."
   ]
  },
  {
   "cell_type": "markdown",
   "id": "4e6e7b58",
   "metadata": {},
   "source": [
    "-------------------------------------\n",
    "## Need of Numpy :\n",
    "-------------------------------------\n",
    "- With the revolution of data science, data analysis libraries like Numpy, SciPy, Scikit, Pandas, etc. have seen a lot of \n",
    "  growth. With a much easier syntax than other programming languages, python is the first choice language for the data \n",
    "  scientist.\n",
    "  \n",
    "  \n",
    "- Numpy provides a convenient and efficient way to handle the vast amount of data. Numpy is also very convenient with Matrix \n",
    "  Operations and data reshaping. Numpy is fast which makes it reasonable to work with a large set of data.\n"
   ]
  },
  {
   "cell_type": "markdown",
   "id": "008d22c4",
   "metadata": {},
   "source": [
    "-------------------------------------\n",
    "## The advantages of Numpy Programming are :\n",
    "-------------------------------------\n",
    "- With Numpy Programming, we can deal with Arrays such 1-D, 2-D and Multi-Dimensional Arrays.\n",
    "\n",
    "\n",
    "\n",
    "- Numpy maintains minimal memory for large sets of data.\n",
    "\n",
    "\n",
    "- Numpy provides Fast in Performing Operations bcoz internally its data is available at same address.\n",
    "\n",
    "\n",
    "- Numpy performs array-oriented computing.\n",
    "\n",
    "\n",
    "- It efficiently implements the multidimensional arrays.\n",
    "\n",
    "\n",
    "- It performs scientific computations.\n",
    "\n",
    "\n",
    "- It is capable of performing reshaping the data stored in multidimensional arrays.\n",
    "\n",
    "\n",
    "- Numpy provides Many in-built functions for Various Complex Mathematical Operations such as statistical, financial, \n",
    "  trigonometric Operations etc.\n"
   ]
  }
 ],
 "metadata": {
  "kernelspec": {
   "display_name": "Python 3 (ipykernel)",
   "language": "python",
   "name": "python3"
  },
  "language_info": {
   "codemirror_mode": {
    "name": "ipython",
    "version": 3
   },
   "file_extension": ".py",
   "mimetype": "text/x-python",
   "name": "python",
   "nbconvert_exporter": "python",
   "pygments_lexer": "ipython3",
   "version": "3.9.13"
  }
 },
 "nbformat": 4,
 "nbformat_minor": 5
}
