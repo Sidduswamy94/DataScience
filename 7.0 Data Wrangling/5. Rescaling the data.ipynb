{
 "cells": [
  {
   "cell_type": "markdown",
   "id": "75266568",
   "metadata": {},
   "source": [
    "## Rescaling the Data by using 'inverse_transform' class.\n",
    "<b> In this article we are going apply the 'StandardScaler' on DataFrame and I want to return to get back the original data from StandardScaler.\n",
    "    \n",
    "<b> In this article, we want to know is there a way to change the scaled value into the original shape, not the value of normalized one."
   ]
  },
  {
   "cell_type": "code",
   "execution_count": 6,
   "id": "2664007c",
   "metadata": {},
   "outputs": [],
   "source": [
    "# import the pandas\n",
    "import pandas as pd\n",
    "\n",
    "# load StandardScaler\n",
    "from sklearn.preprocessing import StandardScaler\n",
    "\n",
    "# ignre the warnings\n",
    "import warnings\n",
    "warnings.simplefilter(\"ignore\")"
   ]
  },
  {
   "cell_type": "code",
   "execution_count": 16,
   "id": "4b98b687",
   "metadata": {},
   "outputs": [
    {
     "name": "stdout",
     "output_type": "stream",
     "text": [
      "----------------------------\n",
      "This is the scaled array\n",
      "----------------------------\n",
      "[[-1.34164079]\n",
      " [-0.4472136 ]\n",
      " [ 0.4472136 ]\n",
      " [ 1.34164079]]\n",
      "----------------------------\n",
      "This is the inversed array\n",
      "----------------------------\n",
      "[[100.]\n",
      " [200.]\n",
      " [300.]\n",
      " [400.]]\n"
     ]
    }
   ],
   "source": [
    "# create fake y_train dataframe\n",
    "y_train = pd.DataFrame ([100,200,300,400], columns =['y_train'])\n",
    "scalery = StandardScaler().fit(y_train)\n",
    "\n",
    "# transform the y_test data\n",
    "y_test = pd.DataFrame ([100,200,300,400], columns =['y_test'])\n",
    "y_test = scalery.transform(y_test)\n",
    "\n",
    "# print transformed y_test\n",
    "print(\"----------------------------\")\n",
    "print(\"This is the scaled array\")\n",
    "print(\"----------------------------\")\n",
    "print(y_test)\n",
    "\n",
    "# inverse the y_test data back to 1,2,3,4\n",
    "y_new = pd.DataFrame (y_test, columns =['y_new'])\n",
    "y_new_inverse = scalery.inverse_transform(y_new)\n",
    "\n",
    "# print inversed to original y_test\n",
    "print(\"----------------------------\")\n",
    "print(\"This is the inversed array\")\n",
    "print(\"----------------------------\")\n",
    "print(y_new_inverse)"
   ]
  },
  {
   "cell_type": "markdown",
   "id": "1492151f",
   "metadata": {},
   "source": [
    "<b> In the above, first we have imported the 'pandas', 'StandardScaler' and 'warnings'. After that we have created a 'y_train' DataFrame, and applyied the 'StandardScaler' on 'y_train' DataFrame. Then similarly created a 'y_test' DataFrame, and transform the 'y_test' data. After transforming Rescale the those transformed 'y_test' Data by using 'inverse_transform' class."
   ]
  }
 ],
 "metadata": {
  "kernelspec": {
   "display_name": "Python 3 (ipykernel)",
   "language": "python",
   "name": "python3"
  },
  "language_info": {
   "codemirror_mode": {
    "name": "ipython",
    "version": 3
   },
   "file_extension": ".py",
   "mimetype": "text/x-python",
   "name": "python",
   "nbconvert_exporter": "python",
   "pygments_lexer": "ipython3",
   "version": "3.9.13"
  }
 },
 "nbformat": 4,
 "nbformat_minor": 5
}
