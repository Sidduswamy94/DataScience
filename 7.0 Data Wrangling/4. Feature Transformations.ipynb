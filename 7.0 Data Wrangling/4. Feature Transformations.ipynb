{
 "cells": [
  {
   "cell_type": "markdown",
   "id": "7c4faaa1",
   "metadata": {},
   "source": [
    "# <p style='text-align: center;'> Feature Transformations / Preprocessing </p>"
   ]
  },
  {
   "cell_type": "markdown",
   "id": "1896da4a",
   "metadata": {},
   "source": [
    "## Feature Transformation :\n",
    "- Feature transformation is a mathematical transformation in which we apply a mathematical formula to a particular column (feature) and transform the values, which are useful for our further analysis. \n",
    "\n",
    "\n",
    "- It is a technique by which we can boost our model performance. \n",
    "\n",
    "\n",
    "- It is also known as Feature Engineering, which creates new features from existing features that may help improve the model performance.\n",
    "  \n",
    "  \n",
    "## Reasons for using transformations :\n",
    "- Convenience: A transformed scale may be as natural as the original scale and more convenient for a specific purpose (e.g. \n",
    "  percentages rather than original data, sines rather than degrees). One important example is standardization.\n",
    "\n",
    "\n",
    "- Reducing skewness: A transformation may be used to reduce skewness. A distribution that is symmetric or nearly so is often   \n",
    "  easier to handle and interpret than a skewed distribution. To reduce right skewness, take roots or logarithms or reciprocals \n",
    "  (roots are weakest). This is the commonest problem in practice. To reduce left skewness, take squares or cubes or higher \n",
    "  powers.\n",
    "\n",
    "\n",
    "- Equal spreads: A transformation may be used to produce approximately equal spreads, despite marked variations in level, which \n",
    "  again makes data easier to handle and interpret.\n",
    "\n",
    "\n",
    "- Linear relationships: When looking at relationships between variables, it is often far easier to think about patterns that \n",
    "  are approximately linear than about patterns that are highly curved.\n",
    "\n",
    "\n",
    "- Additive relationships: Relationships are often easier to analyse when additive rather than multiplicative.\n"
   ]
  },
  {
   "cell_type": "markdown",
   "id": "7dcc98e9",
   "metadata": {},
   "source": [
    "<b> Here we are going to load \"sks.csv\" data-set to perform transformation operations."
   ]
  },
  {
   "cell_type": "code",
   "execution_count": 2,
   "id": "9ef6b796",
   "metadata": {},
   "outputs": [
    {
     "data": {
      "text/html": [
       "<div>\n",
       "<style scoped>\n",
       "    .dataframe tbody tr th:only-of-type {\n",
       "        vertical-align: middle;\n",
       "    }\n",
       "\n",
       "    .dataframe tbody tr th {\n",
       "        vertical-align: top;\n",
       "    }\n",
       "\n",
       "    .dataframe thead th {\n",
       "        text-align: right;\n",
       "    }\n",
       "</style>\n",
       "<table border=\"1\" class=\"dataframe\">\n",
       "  <thead>\n",
       "    <tr style=\"text-align: right;\">\n",
       "      <th></th>\n",
       "      <th>Income</th>\n",
       "      <th>Age</th>\n",
       "      <th>Department</th>\n",
       "    </tr>\n",
       "  </thead>\n",
       "  <tbody>\n",
       "    <tr>\n",
       "      <th>0</th>\n",
       "      <td>15000</td>\n",
       "      <td>25</td>\n",
       "      <td>HR</td>\n",
       "    </tr>\n",
       "    <tr>\n",
       "      <th>1</th>\n",
       "      <td>1800</td>\n",
       "      <td>18</td>\n",
       "      <td>Legal</td>\n",
       "    </tr>\n",
       "    <tr>\n",
       "      <th>2</th>\n",
       "      <td>120000</td>\n",
       "      <td>42</td>\n",
       "      <td>Marketing</td>\n",
       "    </tr>\n",
       "    <tr>\n",
       "      <th>3</th>\n",
       "      <td>10000</td>\n",
       "      <td>51</td>\n",
       "      <td>Management</td>\n",
       "    </tr>\n",
       "  </tbody>\n",
       "</table>\n",
       "</div>"
      ],
      "text/plain": [
       "   Income  Age  Department\n",
       "0   15000   25          HR\n",
       "1    1800   18       Legal\n",
       "2  120000   42   Marketing\n",
       "3   10000   51  Management"
      ]
     },
     "execution_count": 2,
     "metadata": {},
     "output_type": "execute_result"
    }
   ],
   "source": [
    "# Importing the necessary libraries.\n",
    "import pandas as pd\n",
    "import numpy as np\n",
    "\n",
    "# Load the \"sks.csv\" dataset.\n",
    "df = pd.read_csv(\"sks.csv\")\n",
    "\n",
    "# print the dataset.\n",
    "df"
   ]
  },
  {
   "cell_type": "markdown",
   "id": "f2e26510",
   "metadata": {},
   "source": [
    "## Logarithmic Transformation :\n",
    "- The Logarithmic Transformation is used to convert a skewed distribution to a normal distribution/less-skewed distribution.\n",
    "\n",
    "\n",
    "- Logarithmic Transformation is mainy used to convert the right skewed distribution to a normal distribution/less-skewed \n",
    "  distribution.\n",
    "  \n",
    "  \n",
    "- The log of each value is taken in feature, a nice way to deal with large numbers (Log of 1,000,000 is only 6). Thus, it reduces the impact of both high and low values in features."
   ]
  },
  {
   "cell_type": "code",
   "execution_count": 3,
   "id": "ef95b922",
   "metadata": {},
   "outputs": [
    {
     "data": {
      "text/plain": [
       "1.9426145704858286"
      ]
     },
     "execution_count": 3,
     "metadata": {},
     "output_type": "execute_result"
    }
   ],
   "source": [
    "# checking the skewness of the \"Income\" variable from \"df\" DataFrame.\n",
    "df[\"Income\"].skew()"
   ]
  },
  {
   "cell_type": "markdown",
   "id": "0e5a58c4",
   "metadata": {},
   "source": [
    "- It is a right skewed, so we are going to convert a right skewed distribution to a normal distribution/less-skewed \n",
    "  distribution by using Logarithmic Transformation."
   ]
  },
  {
   "cell_type": "code",
   "execution_count": 15,
   "id": "d4535438",
   "metadata": {},
   "outputs": [
    {
     "data": {
      "text/plain": [
       "0.3099392840650014"
      ]
     },
     "execution_count": 15,
     "metadata": {},
     "output_type": "execute_result"
    }
   ],
   "source": [
    "# Aplly logirithmic on each value of \"Income\" variable.\n",
    "# And store it in to the new variable as \"log_sks\".\n",
    "df[\"log_sks\"] = np.log(df[\"Income\"])\n",
    "\n",
    "# checking the skewness of th \"log_sks\" variable from \"df\" DataFrame.\n",
    "df[\"log_sks\"].skew()"
   ]
  },
  {
   "cell_type": "markdown",
   "id": "17208667",
   "metadata": {},
   "source": [
    "- Now we can see that, it's converted to normal distribution."
   ]
  },
  {
   "cell_type": "markdown",
   "id": "f54381f9",
   "metadata": {},
   "source": [
    "- Note : if our data has negative values or values ranging from 0 to 1, we cannot apply log transform directly – since the log of negative numbers and numbers between 0 and 1 is undefined, we would get error or NaN values in our data. In such cases, we can add a number to these values to make them all greater than 1. "
   ]
  },
  {
   "cell_type": "markdown",
   "id": "c44f8251",
   "metadata": {},
   "source": [
    "## Square Root Transformation :\n",
    "- The Square Root Transformation is used to convert a skewed distribution to a normal distribution/less-skewed distribution.\n",
    "\n",
    "\n",
    "- Square Root Transformation is mainy used to convert the right skewed distribution to a normal distribution/less-skewed distribution.\n",
    "\n",
    "\n",
    "- Square Root Transformation can be used for reducing the skewness of right-skewed data.\n",
    "\n",
    "\n",
    "- Square Root transformation is defined only for positive numbers and this transformation is weaker than Log Transformation.\n",
    "\n"
   ]
  },
  {
   "cell_type": "markdown",
   "id": "dd288354",
   "metadata": {},
   "source": [
    "<b> Here we are using same \"sks.csv\" data-set to perform transformation operations."
   ]
  },
  {
   "cell_type": "code",
   "execution_count": 17,
   "id": "040de214",
   "metadata": {},
   "outputs": [
    {
     "data": {
      "text/plain": [
       "1.9426145704858286"
      ]
     },
     "execution_count": 17,
     "metadata": {},
     "output_type": "execute_result"
    }
   ],
   "source": [
    "# checking the skewness of the \"Income\" variable from \"df\" DataFrame.\n",
    "df[\"Income\"].skew()"
   ]
  },
  {
   "cell_type": "markdown",
   "id": "96379c6e",
   "metadata": {},
   "source": [
    "- It is a right skewed, so we are going to convert a right skewed distribution to a normal distribution/less-skewed distribution by using Root Transformation."
   ]
  },
  {
   "cell_type": "code",
   "execution_count": 36,
   "id": "c2b28729",
   "metadata": {},
   "outputs": [
    {
     "data": {
      "text/plain": [
       "0.3281471105495321"
      ]
     },
     "execution_count": 36,
     "metadata": {},
     "output_type": "execute_result"
    }
   ],
   "source": [
    "# apply Root Transformation on \"Income\" variable.\n",
    "# And store it in to the new variable as \"sqr_sks\".\n",
    "df[\"sqr_sks\"] = df[\"Income\"]**(1/200)\n",
    "\n",
    "# checking the skewness of th \"sqr_sks\" variable from \"df\" DataFrame.\n",
    "df[\"sqr_sks\"].skew()"
   ]
  },
  {
   "cell_type": "markdown",
   "id": "dfe331db",
   "metadata": {},
   "source": [
    "- Now we can see that, it's converted to normal distribution.\n",
    "\n",
    "\n",
    "- This is a lengthy process to convert the normal distribution/less-skewed distribution as compare to Logarithmic Transformation."
   ]
  },
  {
   "cell_type": "markdown",
   "id": "61fa66ab",
   "metadata": {},
   "source": [
    "## Reciprocal Transformation :\n",
    "- The reciprocal transformation is defined as the transformation of x to 1/x.\n",
    "\n",
    "\n",
    "- Reciprocal Transformation is mainy used to convert the right skewed distribution to a normal distribution/less-skewed distribution.\n",
    "\n",
    "\n",
    "- The transformation has a dramatic effect on the shape of the distribution, reversing the order of values with the same sign. The transformation can only be used for non-zero values.\n",
    "\n",
    "\n",
    "- A negative reciprocal transformation is almost identical, except that x maps to -1/x and preserves the order of variables."
   ]
  },
  {
   "cell_type": "markdown",
   "id": "43e43fb5",
   "metadata": {},
   "source": [
    "<b> Here we are using same \"df\" DataFrame for Reciprocal transformation operations."
   ]
  },
  {
   "cell_type": "code",
   "execution_count": 3,
   "id": "a2866522",
   "metadata": {},
   "outputs": [
    {
     "data": {
      "text/plain": [
       "1.9426145704858286"
      ]
     },
     "execution_count": 3,
     "metadata": {},
     "output_type": "execute_result"
    }
   ],
   "source": [
    "# checking the skewness of the \"Income\" variable from \"df\" DataFrame.\n",
    "df[\"Income\"].skew()"
   ]
  },
  {
   "cell_type": "markdown",
   "id": "d9070270",
   "metadata": {},
   "source": [
    "- It is a right skewed, so we are going to convert a right skewed distribution to a normal distribution/less-skewed distribution by using Reciprocal Transformation."
   ]
  },
  {
   "cell_type": "code",
   "execution_count": 4,
   "id": "19b63e85",
   "metadata": {},
   "outputs": [
    {
     "data": {
      "text/plain": [
       "1.862821602439993"
      ]
     },
     "execution_count": 4,
     "metadata": {},
     "output_type": "execute_result"
    }
   ],
   "source": [
    "# apply Reciprocal Transformation on \"Income\" variable.\n",
    "# And store it in to the new variable as \"rec_sks\".\n",
    "df[\"rec_sks\"]=1/(df[\"Income\"])\n",
    "\n",
    "# checking the skewness of th \"rec_sks\" variable from \"df\" DataFrame.\n",
    "df[\"rec_sks\"].skew()"
   ]
  },
  {
   "cell_type": "markdown",
   "id": "2649e82c",
   "metadata": {},
   "source": [
    "- Now still right skewed. Reciprocal Transformation is not suitable to this dataset."
   ]
  },
  {
   "cell_type": "markdown",
   "id": "56358df1",
   "metadata": {},
   "source": [
    "## Square Transformation :\n",
    "- The Square Transformation is used to convert a skewed distribution to a normal distribution/less-skewed distribution.\n",
    "\n",
    "\n",
    "- Square Transformation is mainy used to convert the left skewed distribution to a normal distribution/less-skewed istribution.\n",
    "\n",
    "\n",
    "- Square Transformation can be used for reducing the skewness of left-skewed data."
   ]
  },
  {
   "cell_type": "markdown",
   "id": "a5b6bfd1",
   "metadata": {},
   "source": [
    "<b> Here we are going to create our own data-set with one column as \"x\" variable, dataframe name as \"df1\"."
   ]
  },
  {
   "cell_type": "code",
   "execution_count": 12,
   "id": "e11a6102",
   "metadata": {},
   "outputs": [
    {
     "data": {
      "text/html": [
       "<div>\n",
       "<style scoped>\n",
       "    .dataframe tbody tr th:only-of-type {\n",
       "        vertical-align: middle;\n",
       "    }\n",
       "\n",
       "    .dataframe tbody tr th {\n",
       "        vertical-align: top;\n",
       "    }\n",
       "\n",
       "    .dataframe thead th {\n",
       "        text-align: right;\n",
       "    }\n",
       "</style>\n",
       "<table border=\"1\" class=\"dataframe\">\n",
       "  <thead>\n",
       "    <tr style=\"text-align: right;\">\n",
       "      <th></th>\n",
       "      <th>x</th>\n",
       "    </tr>\n",
       "  </thead>\n",
       "  <tbody>\n",
       "    <tr>\n",
       "      <th>0</th>\n",
       "      <td>120</td>\n",
       "    </tr>\n",
       "    <tr>\n",
       "      <th>1</th>\n",
       "      <td>100</td>\n",
       "    </tr>\n",
       "    <tr>\n",
       "      <th>2</th>\n",
       "      <td>80</td>\n",
       "    </tr>\n",
       "    <tr>\n",
       "      <th>3</th>\n",
       "      <td>100</td>\n",
       "    </tr>\n",
       "    <tr>\n",
       "      <th>4</th>\n",
       "      <td>10</td>\n",
       "    </tr>\n",
       "  </tbody>\n",
       "</table>\n",
       "</div>"
      ],
      "text/plain": [
       "     x\n",
       "0  120\n",
       "1  100\n",
       "2   80\n",
       "3  100\n",
       "4   10"
      ]
     },
     "execution_count": 12,
     "metadata": {},
     "output_type": "execute_result"
    }
   ],
   "source": [
    "# Importing the necessary libraries.\n",
    "import pandas as pd\n",
    "\n",
    "# Create DataFrame.\n",
    "df1=pd.DataFrame({\"x\":[120,100,80,100,10]})\n",
    "\n",
    "# print the DataFrame.\n",
    "df1"
   ]
  },
  {
   "cell_type": "code",
   "execution_count": 71,
   "id": "13088003",
   "metadata": {},
   "outputs": [
    {
     "data": {
      "text/plain": [
       "-1.645977036097245"
      ]
     },
     "execution_count": 71,
     "metadata": {},
     "output_type": "execute_result"
    }
   ],
   "source": [
    "# checking the skewness of th \"x\" variable from \"df1\" DataFrame.\n",
    "df1[\"x\"].skew()"
   ]
  },
  {
   "cell_type": "markdown",
   "id": "f5de37c1",
   "metadata": {},
   "source": [
    "- It is a left skewed, so we are going to convert a left skewed distribution to a normal distribution/less-skewed distribution by using Square Transformation."
   ]
  },
  {
   "cell_type": "code",
   "execution_count": 63,
   "id": "1d639d8d",
   "metadata": {},
   "outputs": [
    {
     "data": {
      "text/plain": [
       "0.06588432141496725"
      ]
     },
     "execution_count": 63,
     "metadata": {},
     "output_type": "execute_result"
    }
   ],
   "source": [
    "# apply Square Transformation on \"x\" variable.\n",
    "# And store it in to the new variable as \"x_square\".\n",
    "df1[\"x_square\"] = df1[\"x\"]**(3)\n",
    "\n",
    "# checking the skewness of th \"sqr_sks\" variable from \"df\" DataFrame.\n",
    "df1[\"x_square\"].skew()"
   ]
  },
  {
   "cell_type": "markdown",
   "id": "7de99dce",
   "metadata": {},
   "source": [
    "- Now we can see that, it's converted to normal distribution."
   ]
  },
  {
   "cell_type": "markdown",
   "id": "c301ff7f",
   "metadata": {},
   "source": [
    "## Box-Cox Transformation :\n",
    "- A box-cox transformation is a commonly used method for transforming a non-normally distributed dataset into a more normally distributed one.\n",
    "\n",
    "\n",
    "- This is included in the concept of power transformations.\n",
    "\n",
    "\n",
    "- Data must be positive. If the data contains zero or negative values Box-Cox transformation is not suitable for this.\n",
    "\n",
    "\n",
    "- The Box-Cox Transformation is defined as :\n",
    "\n",
    "        (Y**λ - 1)/λ\n",
    "        \n",
    "        \n",
    "- Where,\n",
    "        - Y is the response variable.\n",
    "        - λ is the transformation parameter.\n",
    "\n",
    "\n",
    "\n",
    "- λ varies from -5 to 5 in the transformation, all values of λ are considered and the optimal value for a given variable is selected.\n"
   ]
  },
  {
   "cell_type": "markdown",
   "id": "613791e4",
   "metadata": {},
   "source": [
    "<b> Here we are using same \"sks.csv\" data-set,i.e. \"df\" DataFrame to perform Box-Cox transformation operations."
   ]
  },
  {
   "cell_type": "code",
   "execution_count": 6,
   "id": "0b622302",
   "metadata": {},
   "outputs": [
    {
     "data": {
      "text/plain": [
       "1.9426145704858286"
      ]
     },
     "execution_count": 6,
     "metadata": {},
     "output_type": "execute_result"
    }
   ],
   "source": [
    "# checking the skewness of the \"Income\" variable from \"df\" DataFrame.\n",
    "df[\"Income\"].skew()"
   ]
  },
  {
   "cell_type": "markdown",
   "id": "90108b71",
   "metadata": {},
   "source": [
    "- It is a right skewed, so we are going to convert a right skewed distribution to a normal distribution/less-skewed distribution by using Box-Cox transformation."
   ]
  },
  {
   "cell_type": "markdown",
   "id": "b477dd69",
   "metadata": {},
   "source": [
    "- We can perform a box-cox transformation in Python by using the scipy.stats.boxcox() function. "
   ]
  },
  {
   "cell_type": "code",
   "execution_count": 10,
   "id": "fd3604be",
   "metadata": {},
   "outputs": [
    {
     "name": "stdout",
     "output_type": "stream",
     "text": [
      "λ = -0.06750036465839077\n"
     ]
    },
    {
     "data": {
      "text/plain": [
       "0.060932187578592846"
      ]
     },
     "execution_count": 10,
     "metadata": {},
     "output_type": "execute_result"
    }
   ],
   "source": [
    "# Importing the necessary libraries.\n",
    "import pandas as pd\n",
    "from scipy.stats import boxcox \n",
    "\n",
    "# Apply boxcox transformation on \"Income\" variable.\n",
    "# And store it in to the new variable as \"Income_boxcox\".\n",
    "df[\"Income_boxcox\"], param = boxcox(df.Income)\n",
    "\n",
    "# print the Lambda value.\n",
    "print(\"λ =\",param)\n",
    "\n",
    "# checking the skewness of th \"Income_boxcox\" variable from \"df\" DataFrame.\n",
    "df[\"Income_boxcox\"].skew()"
   ]
  },
  {
   "cell_type": "markdown",
   "id": "4bc75aca",
   "metadata": {},
   "source": [
    "- In the above example, we can see that it's converted to normal distribution.\n",
    "\n",
    "\n",
    "- Here we have applyied boxcox transformation on \"Income\" variable, it find's some value for λ such that the transformed data is as close to normally distributed as possible between -5 to +5 and returns the optimal value of lambda that produces a more normal distribution.\n",
    "\n",
    "\n",
    "- In the above example, the optimal value of lambda is -0.0675, this lambda value transformed the data is close to normally distribution. So now the skeweness is 0.0609"
   ]
  }
 ],
 "metadata": {
  "kernelspec": {
   "display_name": "Python 3 (ipykernel)",
   "language": "python",
   "name": "python3"
  },
  "language_info": {
   "codemirror_mode": {
    "name": "ipython",
    "version": 3
   },
   "file_extension": ".py",
   "mimetype": "text/x-python",
   "name": "python",
   "nbconvert_exporter": "python",
   "pygments_lexer": "ipython3",
   "version": "3.9.13"
  }
 },
 "nbformat": 4,
 "nbformat_minor": 5
}
