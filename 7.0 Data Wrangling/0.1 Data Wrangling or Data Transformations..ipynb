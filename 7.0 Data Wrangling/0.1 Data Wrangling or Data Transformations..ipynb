{
 "cells": [
  {
   "cell_type": "markdown",
   "id": "d09152cf",
   "metadata": {},
   "source": [
    "# <p style='text-align: center;'> Data Wrangling or Data Transformations </p>"
   ]
  },
  {
   "cell_type": "markdown",
   "id": "cb241cac",
   "metadata": {},
   "source": [
    "- Data Wrangling is the process of gathering, collecting, and transforming Raw data into another format for better \n",
    "  understanding, decision-making, accessing, and analysis in less time. \n",
    "  \n",
    "  \n",
    "- Data Wrangling is also known as Data Munging.\n",
    "\n",
    "\n",
    "- Data Wrangling helps to improve Data Usability by converting data into a format that is compatible with the end system.\n",
    "\n",
    "\n",
    "- There are 4 Data Wrangling Techniques are there, they are :\n",
    "\n",
    "            1. Feature Encodning.\n",
    "            2. Discretization.\n",
    "            3. Feature Scaling.\n",
    "            4. Feature Transformation.\n",
    "    \n",
    "   "
   ]
  }
 ],
 "metadata": {
  "kernelspec": {
   "display_name": "Python 3 (ipykernel)",
   "language": "python",
   "name": "python3"
  },
  "language_info": {
   "codemirror_mode": {
    "name": "ipython",
    "version": 3
   },
   "file_extension": ".py",
   "mimetype": "text/x-python",
   "name": "python",
   "nbconvert_exporter": "python",
   "pygments_lexer": "ipython3",
   "version": "3.9.13"
  }
 },
 "nbformat": 4,
 "nbformat_minor": 5
}
