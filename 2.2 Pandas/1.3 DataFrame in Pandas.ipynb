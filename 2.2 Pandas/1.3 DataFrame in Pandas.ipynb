{
 "cells": [
  {
   "cell_type": "markdown",
   "id": "a578d716",
   "metadata": {},
   "source": [
    "# <p style='text-align: center;'> DataFrame in Pandas </p>"
   ]
  },
  {
   "cell_type": "markdown",
   "id": "4cdb236a",
   "metadata": {},
   "source": [
    "- A DataFrame is 2-Dimensional Data Structure to organize the data.\n",
    "\n",
    "\n",
    "\n",
    "- In Other-words a DataFrame Organizes the data in the Tabular Format, which is nothing but a Collection of Rows and Columns.\n",
    "\n",
    "\n",
    "\n",
    "- The Columns of DataFrame can be Different Data Types or Same Type.\n",
    "\n",
    "\n",
    "\n",
    "- The Size of DataFrame can be mutable.\n"
   ]
  },
  {
   "cell_type": "markdown",
   "id": "4b63df9b",
   "metadata": {},
   "source": [
    "-------------------------------------------------\n",
    "### Number of approaches to create DataFrame :\n",
    "-------------------------------------------------\n",
    "- To create an object of DataFrame, we use pre-defined DataFrame() which is present in pandas Module and returns an \n",
    "  object of DataFrame class.\n",
    "\n",
    "    \n",
    "- We have 5 Ways to create an object of DataFrame. They are\n",
    "\n",
    "        a) By using list (Nested list) \n",
    "        b) By using dict\n",
    "        c) By using Series\n",
    "        d) By using ndarray of numpy\n",
    "       \n",
    "-------------------------------------------------\n",
    "### Syntax for creating an object of DataFrame in pandas :\n",
    "-------------------------------------------------\n",
    "- <b> Syntax: - varname=pandas.DataFrame(object,index,columns,dtype)\n",
    "    \n",
    "    \n",
    "- Here 'varname' is an object of <class,'pandas.core.dataframe.DataFrame'>\n",
    "\n",
    "    \n",
    "- 'pandas.DataFrame()' is a pre-defined function present in pandas module and it is used to create an object of DataFrame \n",
    "  for storing Data sets.\n",
    "\n",
    "    \n",
    "    \n",
    "- 'object' represents list (or) tuple (or) dict (or) Series (or) ndarray (or) CSV file.\n",
    "\n",
    "- 'index' represents Row index and whose default indexing starts from 0,1,...n-1 where 'n' represents number of values in \n",
    "  DataFrame object.\n",
    "\n",
    "    \n",
    "    \n",
    "- 'columns' represents Column index whose default indexing starts from 0,1..n-1 where n number of columns.\n",
    "\n",
    "    \n",
    "    \n",
    "- 'dtype' represents data type of values of Column Value.\n"
   ]
  },
  {
   "cell_type": "markdown",
   "id": "fd2eaead",
   "metadata": {},
   "source": [
    "------------------------------------------------------------------------------------------------\n",
    "### a) Creating an object DataFrame by Using list (Nested list)  :\n",
    "------------------------------------------------------------------------------------------------"
   ]
  },
  {
   "cell_type": "code",
   "execution_count": 1,
   "id": "989b038d",
   "metadata": {},
   "outputs": [
    {
     "name": "stdout",
     "output_type": "stream",
     "text": [
      "Containts of list object(lst):\n",
      "[10, 20, 30, 40]\n",
      "--------------------------------------------------\n",
      "Containts of DataFrame object(x):\n",
      "    0\n",
      "0  10\n",
      "1  20\n",
      "2  30\n",
      "3  40 <class 'pandas.core.frame.DataFrame'>\n"
     ]
    }
   ],
   "source": [
    "# WAPP to Create a DataFrame object from list object.\n",
    "\n",
    "# importing pandas as alias_name pd\n",
    "import pandas as pd\n",
    "\n",
    "# create a list object. \n",
    "lst=[10,20,30,40]\n",
    "\n",
    "# print the list object on console.\n",
    "print(\"Containts of list object(lst):\")\n",
    "print(lst)\n",
    "print(\"-\"*50)\n",
    "\n",
    "# create an object of DataFrame.\n",
    "# pass the list object into the DataFrame object.\n",
    "x=pd.DataFrame(lst)\n",
    "\n",
    "# print the DataFrame object and its type on console.\n",
    "print(\"Containts of DataFrame object(x):\")\n",
    "print (x,type(x))"
   ]
  },
  {
   "cell_type": "code",
   "execution_count": 2,
   "id": "d5886a5b",
   "metadata": {},
   "outputs": [
    {
     "name": "stdout",
     "output_type": "stream",
     "text": [
      "Shape of DataFrame object(x):\n"
     ]
    },
    {
     "data": {
      "text/plain": [
       "(4, 1)"
      ]
     },
     "execution_count": 2,
     "metadata": {},
     "output_type": "execute_result"
    }
   ],
   "source": [
    "# print the shape of the DataFrame object (x)\n",
    "print(\"Shape of DataFrame object(x):\")\n",
    "x.shape    # it's 4-rows and 1-column."
   ]
  },
  {
   "cell_type": "code",
   "execution_count": 3,
   "id": "fa401b84",
   "metadata": {},
   "outputs": [
    {
     "name": "stdout",
     "output_type": "stream",
     "text": [
      "Containts of Nested list object(l1):\n",
      "[[10, 20, 30, 40], ['RS', 'JS', 'MCK', 'TRV']]\n",
      "--------------------------------------------------\n",
      "Containts of DataFrame object(y):\n",
      "    0   1    2    3\n",
      "0  10  20   30   40\n",
      "1  RS  JS  MCK  TRV <class 'pandas.core.frame.DataFrame'>\n"
     ]
    }
   ],
   "source": [
    "# WAPP to Create a DataFrame object from Nested list object.\n",
    "\n",
    "# importing pandas as alias_name pd\n",
    "import pandas as pd\n",
    "\n",
    "# create a Nested list object. \n",
    "l1=[[10,20,30,40], [\"RS\",\"JS\",\"MCK\",\"TRV\"]]\n",
    "\n",
    "# print the Nested list object on console.\n",
    "print(\"Containts of Nested list object(l1):\")\n",
    "print(l1)\n",
    "print(\"-\"*50)\n",
    "\n",
    "# create an object of DataFrame.\n",
    "# pass the Nested list object into the DataFrame object.\n",
    "y=pd.DataFrame(l1)\n",
    "\n",
    "# print the DataFrame object and its type on console.\n",
    "print(\"Containts of DataFrame object(y):\")\n",
    "print (y,type(y))"
   ]
  },
  {
   "cell_type": "markdown",
   "id": "af76b480",
   "metadata": {},
   "source": [
    "- <b> In the above examples by default it will returns Row index numbers and column index numbers.\n",
    "\n",
    "\n",
    "- <b> We can define Programmer-defined Indexes (our own Row index numbers and column index numbers)."
   ]
  },
  {
   "cell_type": "code",
   "execution_count": 5,
   "id": "86c6c451",
   "metadata": {},
   "outputs": [
    {
     "name": "stdout",
     "output_type": "stream",
     "text": [
      "Containts of Nested list object(l2):\n",
      "[[10, 'RS'], [20, 'JG'], [30, 'MCK'], [40, 'TRA']]\n",
      "--------------------------------------------------\n",
      "Containts of DataFrame object(z):\n",
      "   Rno Name\n",
      "1   10   RS\n",
      "2   20   JG\n",
      "3   30  MCK\n",
      "4   40  TRA <class 'pandas.core.frame.DataFrame'>\n"
     ]
    }
   ],
   "source": [
    "# WAPP to Create a DataFrame object from Nested list object with Programmer-defined Indexes.\n",
    "\n",
    "# importing pandas as alias_name pd\n",
    "import pandas as pd\n",
    "\n",
    "# create a Nested list object. \n",
    "l2=[[10,'RS'],[20,'JG'],[30,'MCK'],[40,'TRA']]\n",
    "\n",
    "# print the Nested list object on console.\n",
    "print(\"Containts of Nested list object(l2):\")\n",
    "print(l2)\n",
    "print(\"-\"*50)\n",
    "\n",
    "# create an object of DataFrame.\n",
    "# pass the Nested list object into the DataFrame object.\n",
    "# pass the Row indexes as index=[1,2,3,4] and Column indexes as columns=['Rno','Name']\n",
    "z=pd.DataFrame(l2,index=[1,2,3,4],columns=['Rno','Name'])\n",
    "\n",
    "# print the DataFrame object and its type on console.\n",
    "print(\"Containts of DataFrame object(z):\")\n",
    "print (z,type(z))"
   ]
  },
  {
   "cell_type": "markdown",
   "id": "dee2a90f",
   "metadata": {},
   "source": [
    "--------------------------------------------------------------------\n",
    "### b) Creating an object DataFrame by Using dict object :\n",
    "----------------------------------------------------------------------\n",
    "- When we create an object of DataFrame by using Dict, all the keys are taken as Column Names and Values of Value are taken \n",
    "  as Data.\n"
   ]
  },
  {
   "cell_type": "code",
   "execution_count": 9,
   "id": "e55694a0",
   "metadata": {},
   "outputs": [
    {
     "name": "stdout",
     "output_type": "stream",
     "text": [
      "Containts of dict object(d):\n",
      "{'Names': ['Rossum', 'Gosling', 'Ritche', 'McKinney'], 'Subjects': ['Python', 'Java', 'C', 'Pandas']}\n",
      "--------------------------------------------------\n",
      "Containts of DataFrame object(c):\n",
      "      Names Subjects\n",
      "0    Rossum   Python\n",
      "1   Gosling     Java\n",
      "2    Ritche        C\n",
      "3  McKinney   Pandas <class 'pandas.core.frame.DataFrame'>\n"
     ]
    }
   ],
   "source": [
    "# WAPP to Create a DataFrame object from dict object.\n",
    "\n",
    "# importing pandas as alias_name pd\n",
    "import pandas as pd\n",
    "\n",
    "# create a dict object. \n",
    "d={\"Names\":[\"Rossum\",\"Gosling\",\"Ritche\",\"McKinney\"],\"Subjects\":[\"Python\",\"Java\",\"C\",\"Pandas\"]}\n",
    "\n",
    "# print the dict object on console.\n",
    "print(\"Containts of dict object(d):\")\n",
    "print(d)\n",
    "print(\"-\"*50)\n",
    "\n",
    "# create an object of DataFrame.\n",
    "# pass the dict object into the DataFrame object.\n",
    "c=pd.DataFrame(d)\n",
    "\n",
    "# print the DataFrame object and its type on console.\n",
    "print(\"Containts of DataFrame object(c):\")\n",
    "print (c,type(c))"
   ]
  },
  {
   "cell_type": "markdown",
   "id": "355e99e8",
   "metadata": {},
   "source": [
    "- <b> In the above example by default it will returns Row index numbers.\n",
    "\n",
    "\n",
    "- <b> We can define Programmer-defined Indexes (our own Row index numbers)."
   ]
  },
  {
   "cell_type": "code",
   "execution_count": 10,
   "id": "96046fb4",
   "metadata": {},
   "outputs": [
    {
     "name": "stdout",
     "output_type": "stream",
     "text": [
      "Containts of dict object(d):\n",
      "{'Names': ['Rossum', 'Gosling', 'Ritche', 'McKinney'], 'Subjects': ['Python', 'Java', 'C', 'Pandas']}\n",
      "--------------------------------------------------\n",
      "Containts of DataFrame object(c):\n",
      "      Names Subjects\n",
      "1    Rossum   Python\n",
      "2   Gosling     Java\n",
      "3    Ritche        C\n",
      "4  McKinney   Pandas <class 'pandas.core.frame.DataFrame'>\n"
     ]
    }
   ],
   "source": [
    "# WAPP to Create a DataFrame object from dict object with Programmer-defined Row Indexes.\n",
    "\n",
    "# importing pandas as alias_name pd\n",
    "import pandas as pd\n",
    "\n",
    "# create a dict object. \n",
    "d={\"Names\":[\"Rossum\",\"Gosling\",\"Ritche\",\"McKinney\"],\"Subjects\":[\"Python\",\"Java\",\"C\",\"Pandas\"]}\n",
    "\n",
    "# print the dict object on console.\n",
    "print(\"Containts of dict object(d):\")\n",
    "print(d)\n",
    "print(\"-\"*50)\n",
    "\n",
    "# create an object of DataFrame.\n",
    "# pass the dict object into the DataFrame object.\n",
    "# pass the Row indexes as index=[1,2,3,4].\n",
    "c=pd.DataFrame(d,index=[1,2,3,4])\n",
    "\n",
    "# print the DataFrame object and its type on console.\n",
    "print(\"Containts of DataFrame object(c):\")\n",
    "print (c,type(c))"
   ]
  },
  {
   "cell_type": "markdown",
   "id": "38bac6af",
   "metadata": {},
   "source": [
    "- <b> In the above example we defined our own Row indexes as 1 2 3 and 4.\n"
   ]
  },
  {
   "cell_type": "markdown",
   "id": "58a3e89b",
   "metadata": {},
   "source": [
    "------------------------------------------------------------------------------\n",
    "### c) Creating an object DataFrame by Using Series object :\n",
    "--------------------------------------------------------------------------------"
   ]
  },
  {
   "cell_type": "code",
   "execution_count": 13,
   "id": "e804dc93",
   "metadata": {},
   "outputs": [
    {
     "name": "stdout",
     "output_type": "stream",
     "text": [
      "Containts of list object(l1):\n",
      "[[10, 20, 30, 40], ['RS', 'JS', 'MCK', 'TRV']]\n",
      "--------------------------------------------------\n",
      "Containts of Series object(a):\n",
      "0      [10, 20, 30, 40]\n",
      "1    [RS, JS, MCK, TRV]\n",
      "dtype: object <class 'pandas.core.series.Series'>\n",
      "--------------------------------------------------\n",
      "Containts of DataFrame object(df):\n",
      "                    0\n",
      "0    [10, 20, 30, 40]\n",
      "1  [RS, JS, MCK, TRV] <class 'pandas.core.frame.DataFrame'>\n"
     ]
    }
   ],
   "source": [
    "# WAPP to Create a DataFrame object from Series object.\n",
    "\n",
    "# importing pandas as alias_name pd\n",
    "import pandas as pd\n",
    "\n",
    "# create a Nested list object. \n",
    "l1=[[10,20,30,40], [\"RS\",\"JS\",\"MCK\",\"TRV\"]]\n",
    "\n",
    "# print the Nested list object on console.\n",
    "print(\"Containts of list object(l1):\")\n",
    "print(l1)\n",
    "print(\"-\"*50)\n",
    "\n",
    "# create an object of Series.\n",
    "# pass the Nested list object into the Series object.\n",
    "a=pd.Series(l1)\n",
    "\n",
    "# print the Series object and its type on console.\n",
    "print(\"Containts of Series object(a):\")\n",
    "print (a,type(a))\n",
    "print(\"-\"*50)\n",
    "\n",
    "# create an object of DataFrame.\n",
    "# pass the Series object into the DataFrame object.\n",
    "df=pd.DataFrame(a)\n",
    "\n",
    "# print the DataFrame object and its type on console.\n",
    "print(\"Containts of DataFrame object(df):\")\n",
    "print (df,type(df))"
   ]
  },
  {
   "cell_type": "code",
   "execution_count": 14,
   "id": "9a886717",
   "metadata": {},
   "outputs": [
    {
     "name": "stdout",
     "output_type": "stream",
     "text": [
      "Shape of DataFrame object(df):\n"
     ]
    },
    {
     "data": {
      "text/plain": [
       "(2, 1)"
      ]
     },
     "execution_count": 14,
     "metadata": {},
     "output_type": "execute_result"
    }
   ],
   "source": [
    "# print the shape of the DataFrame object (df)\n",
    "print(\"Shape of DataFrame object(df):\")\n",
    "df.shape    # it's 2-rows and 1-column."
   ]
  },
  {
   "cell_type": "markdown",
   "id": "428307f8",
   "metadata": {},
   "source": [
    "---------------------------------------------------------------------------\n",
    "### d) Creating an object DataFrame by Using ndarray object :\n",
    "--------------------------------------------------------------------------"
   ]
  },
  {
   "cell_type": "code",
   "execution_count": 15,
   "id": "79190640",
   "metadata": {},
   "outputs": [
    {
     "name": "stdout",
     "output_type": "stream",
     "text": [
      "Containts of list object(l3):\n",
      "[[10, 60], [20, 70], [40, 50]]\n",
      "--------------------------------------------------\n",
      "Containts of ndarray object(g):\n",
      "[[10 60]\n",
      " [20 70]\n",
      " [40 50]] <class 'numpy.ndarray'>\n",
      "--------------------------------------------------\n",
      "Containts of DataFrame object(df):\n",
      "    0   1\n",
      "0  10  60\n",
      "1  20  70\n",
      "2  40  50 <class 'pandas.core.frame.DataFrame'>\n"
     ]
    }
   ],
   "source": [
    "# WAPP to Create a DataFrame object from ndarray object.\n",
    "\n",
    "# importing pandas as alias_name pd\n",
    "import pandas as pd\n",
    "\n",
    "# importing numpy as alias_name np\n",
    "import numpy as np\n",
    "\n",
    "# create a Nested list object. \n",
    "l3=[[10,60],[20,70],[40,50]]\n",
    "\n",
    "# print the Nested list object on console.\n",
    "print(\"Containts of list object(l3):\")\n",
    "print(l3)\n",
    "print(\"-\"*50)\n",
    "\n",
    "# create a ndarray object. \n",
    "# pass the Nested list object into the ndarray object.\n",
    "g=np.array(l3)\n",
    "\n",
    "# print the ndarray object and its type on console.\n",
    "print(\"Containts of ndarray object(g):\")\n",
    "print (g,type(g))\n",
    "print(\"-\"*50)\n",
    "\n",
    "# create an object of DataFrame.\n",
    "# pass the ndarray object into the DataFrame object.\n",
    "df=pd.DataFrame(g)\n",
    "\n",
    "# print the DataFrame object and its type on console.\n",
    "print(\"Containts of DataFrame object(df):\")\n",
    "print (df,type(df))"
   ]
  },
  {
   "cell_type": "code",
   "execution_count": 17,
   "id": "0c63071a",
   "metadata": {},
   "outputs": [
    {
     "name": "stdout",
     "output_type": "stream",
     "text": [
      "Containts of list object(l3):\n",
      "[[10, 60], [20, 70], [40, 50]]\n",
      "--------------------------------------------------\n",
      "Containts of ndarray object(g):\n",
      "[[10 60]\n",
      " [20 70]\n",
      " [40 50]] <class 'numpy.ndarray'>\n",
      "--------------------------------------------------\n",
      "Containts of DataFrame object(df):\n",
      "   IntMarks  ExtMarks\n",
      "1        10        60\n",
      "2        20        70\n",
      "3        40        50 <class 'pandas.core.frame.DataFrame'>\n"
     ]
    }
   ],
   "source": [
    "# WAPP to Create a DataFrame object from ndarray object with Programmer-defined Row Indexes.\n",
    "\n",
    "# importing pandas as alias_name pd\n",
    "import pandas as pd\n",
    "\n",
    "# importing numpy as alias_name np\n",
    "import numpy as np\n",
    "\n",
    "# create a Nested list object. \n",
    "l3=[[10,60],[20,70],[40,50]]\n",
    "\n",
    "# print the Nested list object on console.\n",
    "print(\"Containts of list object(l3):\")\n",
    "print(l3)\n",
    "print(\"-\"*50)\n",
    "\n",
    "# create a ndarray object. \n",
    "# pass the Nested list object into the ndarray object.\n",
    "g=np.array(l3)\n",
    "\n",
    "# print the ndarray object and its type on console.\n",
    "print(\"Containts of ndarray object(g):\")\n",
    "print (g,type(g))\n",
    "print(\"-\"*50)\n",
    "\n",
    "# create an object of DataFrame.\n",
    "# pass the ndarray object into the DataFrame object.\n",
    "''' pass the Row indexes as index=[1,2,3] and Column indexes as \n",
    "    columns=[\"IntMarks\",\"ExtMarks\"].'''\n",
    "df=pd.DataFrame(g,index=[1,2,3],columns=[\"IntMarks\",\"ExtMarks\"])\n",
    "\n",
    "# print the DataFrame object and its type on console.\n",
    "print(\"Containts of DataFrame object(df):\")\n",
    "print (df,type(df))"
   ]
  },
  {
   "cell_type": "markdown",
   "id": "21148b9a",
   "metadata": {},
   "source": [
    "- <b> In the above example we defined our own Row indexes as 1 2 and 3 Column indexes as \"IntMarks\",\"ExtMarks\"."
   ]
  }
 ],
 "metadata": {
  "kernelspec": {
   "display_name": "Python 3 (ipykernel)",
   "language": "python",
   "name": "python3"
  },
  "language_info": {
   "codemirror_mode": {
    "name": "ipython",
    "version": 3
   },
   "file_extension": ".py",
   "mimetype": "text/x-python",
   "name": "python",
   "nbconvert_exporter": "python",
   "pygments_lexer": "ipython3",
   "version": "3.9.13"
  }
 },
 "nbformat": 4,
 "nbformat_minor": 5
}
