{
 "cells": [
  {
   "cell_type": "markdown",
   "id": "aee4a597",
   "metadata": {},
   "source": [
    "# <p style='text-align: center;'> Series </p>"
   ]
  },
  {
   "cell_type": "markdown",
   "id": "e9f66fe7",
   "metadata": {},
   "source": [
    "- It is a One-Dimensional Labelled Array Capable of Storing / Holding Homogeneous data of any type (Integer, String, \n",
    "  float, .........Python objects etc).\n",
    "\n",
    "\n",
    "\n",
    "- The Axis Labels are collectively called Index.\n",
    "\n",
    "\n",
    "\n",
    "- Pandas Series is nothing but a column value in excel sheet.\n",
    "\n",
    "\n",
    "\n",
    "- Pandas Series Values are Mutable.\n",
    "\n",
    "\n",
    "\n",
    "- Pandas Series contains Homogeneous Data (Internally even we store different types values, they are treated as object \n",
    "  type).\n"
   ]
  },
  {
   "cell_type": "markdown",
   "id": "eae65a50",
   "metadata": {},
   "source": [
    "----------------------------\n",
    "### Creating a Series :\n",
    "----------------------------"
   ]
  },
  {
   "cell_type": "markdown",
   "id": "61876053",
   "metadata": {},
   "source": [
    "- A Series object can be created by using the following Syntax :\n",
    "    \n",
    "    \n",
    "- <b> Syntax: -    varname=pandas.Series(object, index, dtype)\n",
    "    \n",
    "    \n",
    "- Here varname is an object of <class, pandas.core.series.Series >.\n",
    "\n",
    "\n",
    "- pandas is one of the pre-defined third party module name.\t\n",
    "\n",
    "\n",
    "\n",
    "- Series() is pre-defined Function in pandas module and it is used for creating an object of Series class.\n",
    "    \n",
    "    \n",
    "\n",
    "- 'object' can either int, float, complex, bool, str, bytes, bytearray, range, list, ndarray, dict .... etc (But not set \n",
    "  type bcoz they are un-ordered).\n",
    "\n",
    "    \n",
    "    \n",
    "- 'index' represents the position of values present Series object. The default value of Index starts from 0 to n-1, Here \n",
    "  n represents number of values in Series object. Programmatically we can give our own Index Values.\n",
    "\n",
    "    \n",
    "    \n",
    "- 'dtype' represents data type (Ex:- int32, ,int64, float32, float64...etc).\n",
    "\n"
   ]
  },
  {
   "cell_type": "markdown",
   "id": "f34d6cdc",
   "metadata": {},
   "source": [
    "### Creating a Series object from list : \n",
    "- A list object can be used for creating a Series object."
   ]
  },
  {
   "cell_type": "code",
   "execution_count": 18,
   "id": "e794f8ab",
   "metadata": {},
   "outputs": [
    {
     "name": "stdout",
     "output_type": "stream",
     "text": [
      "Containts of list object(l):\n",
      "[4, 5, 6, 7, 8, 9, 10, 11]\n",
      "--------------------------------------------------\n",
      "Containts of Series object(a):\n",
      "0     4\n",
      "1     5\n",
      "2     6\n",
      "3     7\n",
      "4     8\n",
      "5     9\n",
      "6    10\n",
      "7    11\n",
      "dtype: int64 <class 'pandas.core.series.Series'>\n"
     ]
    }
   ],
   "source": [
    "# WAPP to Create a Series from list object.\n",
    "\n",
    "# importing pandas as alias_name pd\n",
    "import pandas as pd\n",
    "\n",
    "# create a list object. \n",
    "l=[4,5,6,7,8,9,10,11]\n",
    "\n",
    "# print the list object on console.\n",
    "print(\"Containts of list object(l):\")\n",
    "print(l)\n",
    "print(\"-\"*50)\n",
    "\n",
    "# create an object of Series.\n",
    "# pass the list object into the Series object.\n",
    "a=pd.Series(l)\n",
    "\n",
    "# print the Series object and its type on console.\n",
    "print(\"Containts of Series object(a):\")\n",
    "print (a,type(a))"
   ]
  },
  {
   "cell_type": "code",
   "execution_count": 25,
   "id": "4942fe5e",
   "metadata": {},
   "outputs": [
    {
     "name": "stdout",
     "output_type": "stream",
     "text": [
      "Containts of list object(l):\n",
      "[4, 5, 6, 7, 8, 9, 10, 11]\n",
      "--------------------------------------------------\n",
      "Containts of Series object(a):\n",
      "0     4.0\n",
      "1     5.0\n",
      "2     6.0\n",
      "3     7.0\n",
      "4     8.0\n",
      "5     9.0\n",
      "6    10.0\n",
      "7    11.0\n",
      "dtype: float64 <class 'pandas.core.series.Series'>\n"
     ]
    }
   ],
   "source": [
    "# WAPP to Create a Series with list of int elements and display with float elements.\n",
    "\n",
    "# importing pandas as alias_name pd\n",
    "import pandas as pd\n",
    "\n",
    "# create a list.\n",
    "l=[4,5,6,7,8,9,10,11]\n",
    "\n",
    "# print the list object on console.\n",
    "print(\"Containts of list object(l):\")\n",
    "print(l)\n",
    "print(\"-\"*50)\n",
    "\n",
    "# create an object of Series with dtype=float.\n",
    "# pass the list object into the Series object.\n",
    "a=pd.Series(l,dtype=float)   # dtype=float \n",
    "\n",
    "# print the Series object and its type on console.\n",
    "print(\"Containts of Series object(a):\")\n",
    "print (a,type(a))"
   ]
  },
  {
   "cell_type": "code",
   "execution_count": 16,
   "id": "4139ee32",
   "metadata": {},
   "outputs": [
    {
     "name": "stdout",
     "output_type": "stream",
     "text": [
      "Containts of list object(lst):\n",
      "['Rossum', 'Gosling', 'Travis', 'MCKinney']\n",
      "--------------------------------------------------\n",
      "Containts of Series object(b):\n",
      "0      Rossum\n",
      "1     Gosling\n",
      "2      Travis\n",
      "3    MCKinney\n",
      "dtype: object <class 'pandas.core.series.Series'>\n"
     ]
    }
   ],
   "source": [
    "# WAPP to Create a Series with list of str data and display it.\n",
    "\n",
    "# importing pandas as alias_name pd\n",
    "import pandas as pd\n",
    "\n",
    "# create a list with \"Rossum\",\"Gosling\",\"Travis\",\"MCKinney\". \n",
    "lst=[\"Rossum\",\"Gosling\",\"Travis\",\"MCKinney\"]\n",
    "\n",
    "# print the list object on console.\n",
    "print(\"Containts of list object(lst):\")\n",
    "print(lst)\n",
    "print(\"-\"*50)\n",
    "\n",
    "# create an object of Series.\n",
    "# pass the list object into the Series object.\n",
    "b=pd.Series(lst)   \n",
    "\n",
    "# print the Series object and its type on console.\n",
    "print(\"Containts of Series object(b):\")\n",
    "print (b,type(b))"
   ]
  },
  {
   "cell_type": "markdown",
   "id": "dc72769c",
   "metadata": {},
   "source": [
    "- <b> In the above exemples 0 1 2 3 ... are Row index numbers.\n",
    "\n",
    "\n",
    "- <b> Row index numbers generated by default.\n",
    "\n",
    "\n",
    "- <b> We can define Programmer-defined Index (our own Row index numbers)."
   ]
  },
  {
   "cell_type": "markdown",
   "id": "2f943915",
   "metadata": {},
   "source": [
    "### Creating a Series object with Programmer-defined Index :"
   ]
  },
  {
   "cell_type": "code",
   "execution_count": 26,
   "id": "a545e3d5",
   "metadata": {},
   "outputs": [
    {
     "name": "stdout",
     "output_type": "stream",
     "text": [
      "Containts of list object(l1):\n",
      "[10, 'Rossum', 34.56, 'Author']\n",
      "--------------------------------------------------\n",
      "Containts of Series object(s) with Programmer-defined Index.:\n",
      "Stno         10\n",
      "Name     Rossum\n",
      "Marks     34.56\n",
      "Desg     Author\n",
      "dtype: object <class 'pandas.core.series.Series'>\n"
     ]
    }
   ],
   "source": [
    "# WAPP to Create a Series from list object with Programmer-defined Index.\n",
    "\n",
    "# importing pandas as alias_name pd\n",
    "import pandas as pd\n",
    "\n",
    "# create a list. \n",
    "l1=[10,\"Rossum\",34.56,\"Author\"]\n",
    "\n",
    "# print the list object on console.\n",
    "print(\"Containts of list object(l1):\")\n",
    "print(l1)\n",
    "print(\"-\"*50)\n",
    "\n",
    "# create an object of Series with Programmer-defined Index.\n",
    "# pass the list object into the Series object.\n",
    "# pass the Programmer-defined index=[\"Stno\",\"Name\",\"Marks\",\"Desg\"] to Series object.\n",
    "s=pd.Series(l1,index=[\"Stno\",\"Name\",\"Marks\",\"Desg\"])\n",
    "\n",
    "# print the Series object and its type on console.\n",
    "print(\"Containts of Series object(s) with Programmer-defined Index.:\")\n",
    "print (s,type(s))"
   ]
  },
  {
   "cell_type": "markdown",
   "id": "cdcd640a",
   "metadata": {},
   "source": [
    "- In the above example \"Stno\",\"Name\",\"Marks\",\"Desg\" are Programmer-defined Index."
   ]
  },
  {
   "cell_type": "markdown",
   "id": "6f1989c5",
   "metadata": {},
   "source": [
    "### Creating a Series object from dict :\n",
    "- A dict object can be used for creating a Series object.\n",
    "\n",
    "\n",
    "\n",
    "- If we use dict object in Series() then keys can be taken as Indices (Or Indexes) automatically and corresponding values of \n",
    "  dict can be taken as Series data.\n"
   ]
  },
  {
   "cell_type": "code",
   "execution_count": 12,
   "id": "9dba01f5",
   "metadata": {},
   "outputs": [
    {
     "name": "stdout",
     "output_type": "stream",
     "text": [
      "Containts of dict object(d1):\n",
      "{'sub1': 'Python', 'sub2': 'Java', 'sub3': 'Data-Science', 'sub4': 'ML'}\n",
      "--------------------------------------------------\n",
      "Containts of Series object(s):\n",
      "sub1          Python\n",
      "sub2            Java\n",
      "sub3    Data-Science\n",
      "sub4              ML\n",
      "dtype: object <class 'pandas.core.series.Series'>\n"
     ]
    }
   ],
   "source": [
    "# WAPP to Create a Series from dict object.\n",
    "\n",
    "# importing pandas as alias_name pd\n",
    "import pandas as pd\n",
    "\n",
    "# create a dict object. \n",
    "d1={\"sub1\":\"Python\",\"sub2\":\"Java\",\"sub3\":\"Data-Science\",\"sub4\":\"ML\"}\n",
    "\n",
    "# print the dict object on console.\n",
    "print(\"Containts of dict object(d1):\")\n",
    "print(d1)\n",
    "print(\"-\"*50)\n",
    "\n",
    "# create an object of Series.\n",
    "# pass the dict object into the Series object.\n",
    "print(\"Containts of Series object(s):\")\n",
    "s=pd.Series(d1)\n",
    "\n",
    "# print the Series object and its type on console.\n",
    "print (s,type(s))"
   ]
  },
  {
   "cell_type": "markdown",
   "id": "4b936758",
   "metadata": {},
   "source": [
    "- <b> In the above example keys are taken as Indices (Or Indexes) automatically and corresponding values \n",
    "  of dict are taken as Series data."
   ]
  },
  {
   "cell_type": "code",
   "execution_count": 23,
   "id": "4e97333f",
   "metadata": {},
   "outputs": [
    {
     "name": "stdout",
     "output_type": "stream",
     "text": [
      "Containts of dict object(d2):\n",
      "{'RS': 2.3, 'JG': 1.2, 'MCK': 4.5, 'TOLI': 2.4}\n",
      "--------------------------------------------------\n",
      "Containts of Series object(s):\n",
      "RS      2.3\n",
      "JG      1.2\n",
      "MCK     4.5\n",
      "TOLI    2.4\n",
      "dtype: float64 <class 'pandas.core.series.Series'>\n"
     ]
    }
   ],
   "source": [
    "# WAPP to Create a Series from dict object.\n",
    "\n",
    "# importing pandas as alias_name pd\n",
    "import pandas as pd\n",
    "\n",
    "# create a dict object. \n",
    "d2={\"RS\":2.3,\"JG\":1.2,\"MCK\":4.5,\"TOLI\":2.4}\n",
    "\n",
    "# print the dict object on console.\n",
    "print(\"Containts of dict object(d2):\")\n",
    "print(d2)\n",
    "print(\"-\"*50)\n",
    "\n",
    "# create an object of Series.\n",
    "# pass the dict object into the Series object.\n",
    "print(\"Containts of Series object(s):\")\n",
    "s=pd.Series(d2)\n",
    "\n",
    "# print the Series object and its type on console.\n",
    "print (s,type(s))"
   ]
  },
  {
   "cell_type": "code",
   "execution_count": 24,
   "id": "82a6fd8e",
   "metadata": {},
   "outputs": [
    {
     "name": "stdout",
     "output_type": "stream",
     "text": [
      "Shape of Series object(s):\n"
     ]
    },
    {
     "data": {
      "text/plain": [
       "(4,)"
      ]
     },
     "execution_count": 24,
     "metadata": {},
     "output_type": "execute_result"
    }
   ],
   "source": [
    "# print the shape of the Series object (s)\n",
    "print(\"Shape of Series object(s):\")\n",
    "s.shape"
   ]
  },
  {
   "cell_type": "markdown",
   "id": "8b85104d",
   "metadata": {},
   "source": [
    "### Creating a Series object from ndarray :\n",
    "- An ndarray object can be used for creating a Series object."
   ]
  },
  {
   "cell_type": "code",
   "execution_count": 20,
   "id": "a9dc315a",
   "metadata": {},
   "outputs": [
    {
     "name": "stdout",
     "output_type": "stream",
     "text": [
      "Containts of ndarray object(z):\n",
      "['Rossum' 'Gosling' 'Travis' 'MCKinney']\n",
      "--------------------------------------------------\n",
      "Containts of Series object(s):\n",
      "0      Rossum\n",
      "1     Gosling\n",
      "2      Travis\n",
      "3    MCKinney\n",
      "dtype: object <class 'pandas.core.series.Series'>\n"
     ]
    }
   ],
   "source": [
    "# WAPP to Create a Series from ndarray object.\n",
    "\n",
    "# importing pandas as alias_name pd\n",
    "import pandas as pd\n",
    "\n",
    "# importing numpy as alias_name np\n",
    "import numpy as np\n",
    "\n",
    "# create a ndarray object. \n",
    "z=np.array([\"Rossum\",\"Gosling\",\"Travis\",\"MCKinney\"])\n",
    "\n",
    "# print the ndarray object on console.\n",
    "print(\"Containts of ndarray object(z):\")\n",
    "print(z)\n",
    "print(\"-\"*50)\n",
    "\n",
    "# create an object of Series.\n",
    "# pass the ndarray object into the Series object.\n",
    "print(\"Containts of Series object(s):\")\n",
    "s=pd.Series(z)\n",
    "\n",
    "# print the Series object and its type on console.\n",
    "print (s,type(s))"
   ]
  },
  {
   "cell_type": "code",
   "execution_count": 21,
   "id": "f45415d0",
   "metadata": {},
   "outputs": [
    {
     "name": "stdout",
     "output_type": "stream",
     "text": [
      "Shape of Series object(s):\n"
     ]
    },
    {
     "data": {
      "text/plain": [
       "(4,)"
      ]
     },
     "execution_count": 21,
     "metadata": {},
     "output_type": "execute_result"
    }
   ],
   "source": [
    "# print the shape of the Series object (s)\n",
    "print(\"Shape of Series object(s):\")\n",
    "s.shape"
   ]
  }
 ],
 "metadata": {
  "kernelspec": {
   "display_name": "Python 3 (ipykernel)",
   "language": "python",
   "name": "python3"
  },
  "language_info": {
   "codemirror_mode": {
    "name": "ipython",
    "version": 3
   },
   "file_extension": ".py",
   "mimetype": "text/x-python",
   "name": "python",
   "nbconvert_exporter": "python",
   "pygments_lexer": "ipython3",
   "version": "3.9.13"
  }
 },
 "nbformat": 4,
 "nbformat_minor": 5
}
