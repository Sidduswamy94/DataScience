{
 "cells": [
  {
   "cell_type": "markdown",
   "id": "0f56714f",
   "metadata": {},
   "source": [
    "# <p style='text-align: center;'> Pandas </p>"
   ]
  },
  {
   "cell_type": "markdown",
   "id": "a2ddb12a",
   "metadata": {},
   "source": [
    "--------------------------------------\n",
    "### Introduction to Pandas :\n",
    "--------------------------------------"
   ]
  },
  {
   "cell_type": "markdown",
   "id": "9c42078b",
   "metadata": {},
   "source": [
    "- Pandas is an open source Python Library / Module providing high performance and data manipulation and Analysis Tool.\n",
    "\n",
    "\n",
    "- The word PANDAs derived from PANel Data.\n",
    "\n",
    "\n",
    "- The panda’s concept developed by WES MCKinney in the year 2008.\n",
    "\n",
    "\n",
    "- The Traditional Python Programming does not contain any Module for Data Analysis and Now Python Programming uses \n",
    "  Pandas as an analysis tool.\n",
    "    \n",
    "    \n",
    "- Python Pandas can be used in wide range of fields like Finance Services, Statistics, retail, marketing sectors. Etc.\n",
    "\n",
    "\n",
    "- Pandas module developed in C and Python Languages."
   ]
  },
  {
   "cell_type": "markdown",
   "id": "dfd5fc03",
   "metadata": {},
   "source": [
    "------------------------------------\n",
    "### Installation of Pandas :\n",
    "-----------------------------------"
   ]
  },
  {
   "cell_type": "markdown",
   "id": "50c43ecd",
   "metadata": {},
   "source": [
    "- The standard python software / Distribution (CPYTHON) does not contain any module for data analysis and now we are using \n",
    "  third party module called PANDAS and whose module name is pandas.\n",
    "\n",
    "    \n",
    "- Programmatically to use pandas as part of our python program, we must install panda’s module by using pip tool.\n",
    "\n",
    "\n",
    "- <b> Syntax: -    pip install module name\n",
    "    \n",
    "    \n",
    "- Example: -   pip install pandas"
   ]
  },
  {
   "cell_type": "markdown",
   "id": "14610d39",
   "metadata": {},
   "source": [
    "--------------------------------------------------------\n",
    "### Key Features of Pandas:-----> Series and DataFrame  \n",
    "----------------------------------------------------------"
   ]
  },
  {
   "cell_type": "markdown",
   "id": "d97f74ee",
   "metadata": {},
   "source": [
    "- 1) Fast and Efficient DataFrame with default customized indexing.\n",
    "\n",
    "\n",
    "\n",
    "- 2) Tools for loading the data in in-memory data objects (objects of Series, DataFrame Panel).\n",
    "\n",
    "\n",
    "\n",
    "- 3) We can access the data from pandas by using Labeled Based Slicing and indexing.\n",
    "\n",
    "\n",
    "\n",
    "- 4) Columns from in-memory data objects (objects of Series, DataFrame Panel) can be deleted and inserted.\n"
   ]
  },
  {
   "cell_type": "markdown",
   "id": "0169e354",
   "metadata": {},
   "source": [
    "-------------------------------------------------\n",
    "### Data Structures used in Pandas :\n",
    "-------------------------------------------------"
   ]
  },
  {
   "cell_type": "markdown",
   "id": "316ca132",
   "metadata": {},
   "source": [
    "- In Pandas programming, we can store the data in 2 types of Data structures. They are.\n",
    "\n",
    "        a) Series\n",
    "        b) DataFrame\n",
    "\n",
    "\n",
    "- The best of way of thinking of these data structures is that the higher dimensional Data Structure is a container of its \n",
    "  lower dimensional data structure.\n",
    "\n",
    "\n",
    "- Example : -  Series is part of DataFrame.\n"
   ]
  }
 ],
 "metadata": {
  "kernelspec": {
   "display_name": "Python 3 (ipykernel)",
   "language": "python",
   "name": "python3"
  },
  "language_info": {
   "codemirror_mode": {
    "name": "ipython",
    "version": 3
   },
   "file_extension": ".py",
   "mimetype": "text/x-python",
   "name": "python",
   "nbconvert_exporter": "python",
   "pygments_lexer": "ipython3",
   "version": "3.9.13"
  }
 },
 "nbformat": 4,
 "nbformat_minor": 5
}
