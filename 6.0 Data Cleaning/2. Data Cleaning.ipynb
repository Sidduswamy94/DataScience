{
 "cells": [
  {
   "cell_type": "markdown",
   "id": "adf0d4ed",
   "metadata": {},
   "source": [
    "# <p style='text-align: center;'> Data Cleaning </p>"
   ]
  },
  {
   "cell_type": "markdown",
   "id": "35835906",
   "metadata": {},
   "source": [
    "## Data Cleaning :\n",
    "- Data cleaning means fixing bad data in your data set.\n",
    "\n",
    "\n",
    "- Data cleaning is the process of fixing or removing incorrect, corrupted, incorrectly formatted, duplicate, or incomplete data \n",
    "  within a dataset. When combining multiple data sources, there are many opportunities for data to be duplicated or mislabeled.\n",
    "  \n",
    "  \n",
    "- Having clean data will ultimately increase overall productivity and allow for the highest quality information in your \n",
    "  decision-making.\n",
    "  \n",
    "  \n",
    "- Bad data could be:\n",
    "\n",
    "        1. Wrong data.\n",
    "        2. Data in wrong format.\n",
    "        3. Duplicates.\n",
    "        4. Empty cells / Missing values.\n",
    "        5. Outliers.\n",
    "        "
   ]
  },
  {
   "cell_type": "markdown",
   "id": "7b5422a1",
   "metadata": {},
   "source": [
    "## 1. Wrong data :\n",
    "- \"Wrong data\" does not have to be \"empty cells\" or \"wrong format\", it can just be wrong, like if someone registered 500 \n",
    "   instead of 50 years in \"Age\" column.\n",
    "   \n",
    "   \n",
    "- There are 2 options to handle with this wrong data, they are :\n",
    "\n",
    "          Option - 1 : Replace - One way to fix wrong values is to replace them with something else.\n",
    "          Option - 2 : Remove  - Another way of handling wrong data is to remove the rows that contains wrong data."
   ]
  },
  {
   "cell_type": "markdown",
   "id": "c1deff66",
   "metadata": {},
   "source": [
    "<b> Here we are going to create our own data-set with two columns as \"Age\" and \"Gender\" variables, dataframe name as \"df1\"."
   ]
  },
  {
   "cell_type": "code",
   "execution_count": 29,
   "id": "360beff8",
   "metadata": {},
   "outputs": [
    {
     "data": {
      "text/html": [
       "<div>\n",
       "<style scoped>\n",
       "    .dataframe tbody tr th:only-of-type {\n",
       "        vertical-align: middle;\n",
       "    }\n",
       "\n",
       "    .dataframe tbody tr th {\n",
       "        vertical-align: top;\n",
       "    }\n",
       "\n",
       "    .dataframe thead th {\n",
       "        text-align: right;\n",
       "    }\n",
       "</style>\n",
       "<table border=\"1\" class=\"dataframe\">\n",
       "  <thead>\n",
       "    <tr style=\"text-align: right;\">\n",
       "      <th></th>\n",
       "      <th>Age</th>\n",
       "      <th>Gender</th>\n",
       "    </tr>\n",
       "  </thead>\n",
       "  <tbody>\n",
       "    <tr>\n",
       "      <th>0</th>\n",
       "      <td>15</td>\n",
       "      <td>Male</td>\n",
       "    </tr>\n",
       "    <tr>\n",
       "      <th>1</th>\n",
       "      <td>20</td>\n",
       "      <td>Female</td>\n",
       "    </tr>\n",
       "    <tr>\n",
       "      <th>2</th>\n",
       "      <td>18</td>\n",
       "      <td>Female</td>\n",
       "    </tr>\n",
       "    <tr>\n",
       "      <th>3</th>\n",
       "      <td>40</td>\n",
       "      <td>Female</td>\n",
       "    </tr>\n",
       "    <tr>\n",
       "      <th>4</th>\n",
       "      <td>500</td>\n",
       "      <td>Male</td>\n",
       "    </tr>\n",
       "  </tbody>\n",
       "</table>\n",
       "</div>"
      ],
      "text/plain": [
       "   Age  Gender\n",
       "0   15    Male\n",
       "1   20  Female\n",
       "2   18  Female\n",
       "3   40  Female\n",
       "4  500    Male"
      ]
     },
     "execution_count": 29,
     "metadata": {},
     "output_type": "execute_result"
    }
   ],
   "source": [
    "# import numpy as np\n",
    "import numpy as np\n",
    "\n",
    "# import pandas as pd\n",
    "import pandas as pd\n",
    "\n",
    "# Create the \"df1\" dataframe with two columns as \"Age\" and \"Gender\" variables.\n",
    "df1 = pd.DataFrame({\"Age\":[15, 20, 18, 40, 500], \n",
    "                    \"Gender\":[\"Male\", \"Female\", \"Female\", \"Female\", \"Male\"]})\n",
    "\n",
    "# Print the dataframe.\n",
    "df1"
   ]
  },
  {
   "cell_type": "markdown",
   "id": "a77d8924",
   "metadata": {},
   "source": [
    "- If we take a look at our data set, we can see that in row 5, the Age is 500, but for all the other rows the Age \n",
    "  is between 1 to 100 years. we conclude with the fact that this person did not live 500 years.\n",
    "  \n",
    "  \n",
    "- Sometimes we can spot wrong data by looking at the data set, because we have an expectation of what it should be. But if data \n",
    "  set having more records then we are unable to see manually. Here we need to apply conditions to a perticular columns, to \n",
    "  find the wrong data.\n",
    "  \n",
    "  \n",
    "- Here below we are applying condition to check the Age column data set, whether column having wrong data or not."
   ]
  },
  {
   "cell_type": "code",
   "execution_count": 66,
   "id": "191dbac2",
   "metadata": {},
   "outputs": [
    {
     "name": "stdout",
     "output_type": "stream",
     "text": [
      "Index Name is : 4 and value=500\n"
     ]
    }
   ],
   "source": [
    "# Checking Age column data set, whether column having wrong data or not. \n",
    "\n",
    "# Using for loop to check the wrong data set index number and values.\n",
    "for x in df1.index:\n",
    "    \n",
    "    # Display if Age is less than \"1\" years or greater than \"100\" years.\n",
    "    if df1.loc[x, \"Age\"] < 1 or df1.loc[x, \"Age\"] > 100:\n",
    "        \n",
    "        # print the wrong data set index name and value.\n",
    "        # If Age column doen't contains wrong data set, then it will not print.\n",
    "        print(\"Index Name is : {} and value={}\".format(x, df1.iloc[x][0]))\n"
   ]
  },
  {
   "cell_type": "markdown",
   "id": "66233d88",
   "metadata": {},
   "source": [
    "- In the above example, we can see that in Index=4 and value=500 is contains wrong data. So we conclude with the fact that this \n",
    "  person did not live 500 years.\n",
    "  \n",
    "  \n",
    "- In the above example, we have used index, i.e. index property returns the index information of the DataFrame.\n",
    "  \n",
    "  \n",
    "- There are 2 options to handle with this wrong data, we will go through one by one."
   ]
  },
  {
   "cell_type": "markdown",
   "id": "2842132e",
   "metadata": {},
   "source": [
    "#### Option - 1 : Replace - One way to fix wrong values is to replace them with something else.\n",
    "\n",
    "- In our example, it is most likely a typo, and the value should be \"50\" instead of \"500\", and we could just insert \"50\" in row \n",
    "  5 (Index=4 and value=500)."
   ]
  },
  {
   "cell_type": "code",
   "execution_count": 63,
   "id": "d457ae92",
   "metadata": {},
   "outputs": [
    {
     "data": {
      "text/html": [
       "<div>\n",
       "<style scoped>\n",
       "    .dataframe tbody tr th:only-of-type {\n",
       "        vertical-align: middle;\n",
       "    }\n",
       "\n",
       "    .dataframe tbody tr th {\n",
       "        vertical-align: top;\n",
       "    }\n",
       "\n",
       "    .dataframe thead th {\n",
       "        text-align: right;\n",
       "    }\n",
       "</style>\n",
       "<table border=\"1\" class=\"dataframe\">\n",
       "  <thead>\n",
       "    <tr style=\"text-align: right;\">\n",
       "      <th></th>\n",
       "      <th>Age</th>\n",
       "      <th>Gender</th>\n",
       "    </tr>\n",
       "  </thead>\n",
       "  <tbody>\n",
       "    <tr>\n",
       "      <th>0</th>\n",
       "      <td>15</td>\n",
       "      <td>Male</td>\n",
       "    </tr>\n",
       "    <tr>\n",
       "      <th>1</th>\n",
       "      <td>20</td>\n",
       "      <td>Female</td>\n",
       "    </tr>\n",
       "    <tr>\n",
       "      <th>2</th>\n",
       "      <td>18</td>\n",
       "      <td>Female</td>\n",
       "    </tr>\n",
       "    <tr>\n",
       "      <th>3</th>\n",
       "      <td>40</td>\n",
       "      <td>Female</td>\n",
       "    </tr>\n",
       "    <tr>\n",
       "      <th>4</th>\n",
       "      <td>50</td>\n",
       "      <td>Male</td>\n",
       "    </tr>\n",
       "  </tbody>\n",
       "</table>\n",
       "</div>"
      ],
      "text/plain": [
       "   Age  Gender\n",
       "0   15    Male\n",
       "1   20  Female\n",
       "2   18  Female\n",
       "3   40  Female\n",
       "4   50    Male"
      ]
     },
     "execution_count": 63,
     "metadata": {},
     "output_type": "execute_result"
    }
   ],
   "source": [
    "# Replace \"Age\"=500 to 50 and store it in original dataframe.\n",
    "df1[\"Age\"].replace(500, 50, inplace=True)\n",
    "\n",
    "# Print the dataframe.\n",
    "df1"
   ]
  },
  {
   "cell_type": "markdown",
   "id": "6d76f843",
   "metadata": {},
   "source": [
    "- In the above example, we have repleced wrong data Age=500 to 50 years and store it in original dataframe.\n",
    "\n",
    "\n",
    "- For small data sets you might be able to replace the wrong data one by one, but not for big data sets.\n",
    "\n",
    "\n",
    "- To replace wrong data for larger data sets we need to create some rules."
   ]
  },
  {
   "cell_type": "markdown",
   "id": "c7f40b35",
   "metadata": {},
   "source": [
    "#### Option - 2 : Remove  - Another way of handling wrong data is to remove the rows that contains wrong data.\n",
    "- This way you do not have to find out what to replace them with, and there is a good chance you do not need them to do your \n",
    "  analyses.\n",
    "  "
   ]
  },
  {
   "cell_type": "markdown",
   "id": "c30535cb",
   "metadata": {},
   "source": [
    "<b> Here we are going with \"df1\" dataframe with same wrong data set."
   ]
  },
  {
   "cell_type": "code",
   "execution_count": 64,
   "id": "150c91c8",
   "metadata": {},
   "outputs": [
    {
     "data": {
      "text/html": [
       "<div>\n",
       "<style scoped>\n",
       "    .dataframe tbody tr th:only-of-type {\n",
       "        vertical-align: middle;\n",
       "    }\n",
       "\n",
       "    .dataframe tbody tr th {\n",
       "        vertical-align: top;\n",
       "    }\n",
       "\n",
       "    .dataframe thead th {\n",
       "        text-align: right;\n",
       "    }\n",
       "</style>\n",
       "<table border=\"1\" class=\"dataframe\">\n",
       "  <thead>\n",
       "    <tr style=\"text-align: right;\">\n",
       "      <th></th>\n",
       "      <th>Age</th>\n",
       "      <th>Gender</th>\n",
       "    </tr>\n",
       "  </thead>\n",
       "  <tbody>\n",
       "    <tr>\n",
       "      <th>0</th>\n",
       "      <td>15</td>\n",
       "      <td>Male</td>\n",
       "    </tr>\n",
       "    <tr>\n",
       "      <th>1</th>\n",
       "      <td>20</td>\n",
       "      <td>Female</td>\n",
       "    </tr>\n",
       "    <tr>\n",
       "      <th>2</th>\n",
       "      <td>18</td>\n",
       "      <td>Female</td>\n",
       "    </tr>\n",
       "    <tr>\n",
       "      <th>3</th>\n",
       "      <td>40</td>\n",
       "      <td>Female</td>\n",
       "    </tr>\n",
       "    <tr>\n",
       "      <th>4</th>\n",
       "      <td>500</td>\n",
       "      <td>Male</td>\n",
       "    </tr>\n",
       "  </tbody>\n",
       "</table>\n",
       "</div>"
      ],
      "text/plain": [
       "   Age  Gender\n",
       "0   15    Male\n",
       "1   20  Female\n",
       "2   18  Female\n",
       "3   40  Female\n",
       "4  500    Male"
      ]
     },
     "execution_count": 64,
     "metadata": {},
     "output_type": "execute_result"
    }
   ],
   "source": [
    "# import numpy as np\n",
    "import numpy as np\n",
    "\n",
    "# import pandas as pd\n",
    "import pandas as pd\n",
    "\n",
    "# Create the \"df1\" dataframe with two columns as \"Age\" and \"Gender\" variables.\n",
    "df1 = pd.DataFrame({\"Age\":[15, 20, 18, 40, 500], \n",
    "                    \"Gender\":[\"Male\", \"Female\", \"Female\", \"Female\", \"Male\"]})\n",
    "\n",
    "# Print the dataframe.\n",
    "df1\n"
   ]
  },
  {
   "cell_type": "markdown",
   "id": "67ecac3d",
   "metadata": {},
   "source": [
    "- If we take a look at our data set, we can see that in row 5, the Age is 500, but for all the other rows the Age is between 1 \n",
    "  to 100 years. we conclude with the fact that this person did not live 500 years.\n",
    "  \n",
    "  \n",
    "- So we do not have to find out what to replace them with, so we are going to remove that perticular record from the dataset."
   ]
  },
  {
   "cell_type": "code",
   "execution_count": 69,
   "id": "131d1f61",
   "metadata": {},
   "outputs": [
    {
     "name": "stdout",
     "output_type": "stream",
     "text": [
      "   Age  Gender\n",
      "0   15    Male\n",
      "1   20  Female\n",
      "2   18  Female\n",
      "3   40  Female\n"
     ]
    }
   ],
   "source": [
    "# Delete rows where \"Age\" is less than \"1\" years or greater than \"100\" years.\n",
    "\n",
    "# Using for loop to iterate with each element.\n",
    "for x in df1.index:\n",
    "    \n",
    "    # If Age is less than \"1\" years or greater than \"100\" years.\n",
    "    if df1.loc[x, \"Age\"] < 1 or df1.loc[x, \"Age\"] > 100:\n",
    "        \n",
    "        # Drop the those wrong data's and store it in original dataframe.\n",
    "        df1.drop(x, inplace = True)\n",
    "        \n",
    "# Print the dataframe.       \n",
    "print(df1)"
   ]
  },
  {
   "cell_type": "markdown",
   "id": "c89bef9a",
   "metadata": {},
   "source": [
    "- In the above example, we have removed wrong data which contains Age=500 years and store it in original dataframe.\n",
    "\n",
    "\n",
    "- In real senario's we never recommende to go through with option - 2, because here we are going to remove the wrong data, \n",
    "  so we will loss the data. \n",
    "  \n",
    "  \n",
    "- To handle with wrong data, we will recommended to go through this option-1."
   ]
  },
  {
   "cell_type": "markdown",
   "id": "e24cedcb",
   "metadata": {},
   "source": [
    "## 2. Data in wrong format :\n",
    "- Cells with data of wrong format can make it difficult, or even impossible, to analyze data.\n",
    "\n",
    "\n",
    "- To fix it, we need to convert all cells in the columns into the same format (Datatype).\n",
    "\n",
    "       "
   ]
  },
  {
   "cell_type": "markdown",
   "id": "43a9e874",
   "metadata": {},
   "source": [
    "#### Convert all cells in the columns into the same format (Datatype).\n",
    "- Here we are going to create our own data-set with two columns as \"Age\" and \"Gender\" variables, dataframe name as \"df2\"."
   ]
  },
  {
   "cell_type": "code",
   "execution_count": 77,
   "id": "046200ee",
   "metadata": {},
   "outputs": [
    {
     "data": {
      "text/html": [
       "<div>\n",
       "<style scoped>\n",
       "    .dataframe tbody tr th:only-of-type {\n",
       "        vertical-align: middle;\n",
       "    }\n",
       "\n",
       "    .dataframe tbody tr th {\n",
       "        vertical-align: top;\n",
       "    }\n",
       "\n",
       "    .dataframe thead th {\n",
       "        text-align: right;\n",
       "    }\n",
       "</style>\n",
       "<table border=\"1\" class=\"dataframe\">\n",
       "  <thead>\n",
       "    <tr style=\"text-align: right;\">\n",
       "      <th></th>\n",
       "      <th>Age</th>\n",
       "      <th>Gender</th>\n",
       "    </tr>\n",
       "  </thead>\n",
       "  <tbody>\n",
       "    <tr>\n",
       "      <th>0</th>\n",
       "      <td>15</td>\n",
       "      <td>Male</td>\n",
       "    </tr>\n",
       "    <tr>\n",
       "      <th>1</th>\n",
       "      <td>20</td>\n",
       "      <td>Female</td>\n",
       "    </tr>\n",
       "    <tr>\n",
       "      <th>2</th>\n",
       "      <td>18</td>\n",
       "      <td>Female</td>\n",
       "    </tr>\n",
       "    <tr>\n",
       "      <th>3</th>\n",
       "      <td>40</td>\n",
       "      <td>Female</td>\n",
       "    </tr>\n",
       "    <tr>\n",
       "      <th>4</th>\n",
       "      <td>20</td>\n",
       "      <td>Male</td>\n",
       "    </tr>\n",
       "  </tbody>\n",
       "</table>\n",
       "</div>"
      ],
      "text/plain": [
       "  Age  Gender\n",
       "0  15    Male\n",
       "1  20  Female\n",
       "2  18  Female\n",
       "3  40  Female\n",
       "4  20    Male"
      ]
     },
     "execution_count": 77,
     "metadata": {},
     "output_type": "execute_result"
    }
   ],
   "source": [
    "# import numpy as np\n",
    "import numpy as np\n",
    "\n",
    "# import pandas as pd\n",
    "import pandas as pd\n",
    "\n",
    "# Create the \"df2\" dataframe with two columns as \"Age\" and \"Gender\" variables.\n",
    "df2 = pd.DataFrame({\"Age\":[15, 20, 18, 40, \"20\"], \n",
    "                    \"Gender\":[\"Male\", \"Female\", \"Female\", \"Female\", \"Male\"]})\n",
    "\n",
    "# Print the dataframe.\n",
    "df2"
   ]
  },
  {
   "cell_type": "code",
   "execution_count": 71,
   "id": "f48c87f5",
   "metadata": {},
   "outputs": [
    {
     "name": "stdout",
     "output_type": "stream",
     "text": [
      "<class 'pandas.core.frame.DataFrame'>\n",
      "RangeIndex: 5 entries, 0 to 4\n",
      "Data columns (total 2 columns):\n",
      " #   Column  Non-Null Count  Dtype \n",
      "---  ------  --------------  ----- \n",
      " 0   Age     5 non-null      object\n",
      " 1   Gender  5 non-null      object\n",
      "dtypes: object(2)\n",
      "memory usage: 208.0+ bytes\n"
     ]
    }
   ],
   "source": [
    "# print the information of \"df2\" dataframe by using info().\n",
    "df2.info()"
   ]
  },
  {
   "cell_type": "markdown",
   "id": "19592dee",
   "metadata": {},
   "source": [
    "- In our Data Frame, we have one cell with the wrong format. Check out row 5 , the 'Age' column should be a int that represents \n",
    "  a Age. As per our requirement Age column Dtype should be int, but here its showing object.\n",
    "  \n",
    "  \n",
    "- Let's try to convert all cells in the 'Age' column into int.\n",
    "\n",
    "\n",
    "- Pandas has a astype() method for this :"
   ]
  },
  {
   "cell_type": "code",
   "execution_count": 72,
   "id": "621e6616",
   "metadata": {},
   "outputs": [
    {
     "data": {
      "text/html": [
       "<div>\n",
       "<style scoped>\n",
       "    .dataframe tbody tr th:only-of-type {\n",
       "        vertical-align: middle;\n",
       "    }\n",
       "\n",
       "    .dataframe tbody tr th {\n",
       "        vertical-align: top;\n",
       "    }\n",
       "\n",
       "    .dataframe thead th {\n",
       "        text-align: right;\n",
       "    }\n",
       "</style>\n",
       "<table border=\"1\" class=\"dataframe\">\n",
       "  <thead>\n",
       "    <tr style=\"text-align: right;\">\n",
       "      <th></th>\n",
       "      <th>Age</th>\n",
       "      <th>Gender</th>\n",
       "    </tr>\n",
       "  </thead>\n",
       "  <tbody>\n",
       "    <tr>\n",
       "      <th>0</th>\n",
       "      <td>15</td>\n",
       "      <td>Male</td>\n",
       "    </tr>\n",
       "    <tr>\n",
       "      <th>1</th>\n",
       "      <td>20</td>\n",
       "      <td>Female</td>\n",
       "    </tr>\n",
       "    <tr>\n",
       "      <th>2</th>\n",
       "      <td>18</td>\n",
       "      <td>Female</td>\n",
       "    </tr>\n",
       "    <tr>\n",
       "      <th>3</th>\n",
       "      <td>40</td>\n",
       "      <td>Female</td>\n",
       "    </tr>\n",
       "    <tr>\n",
       "      <th>4</th>\n",
       "      <td>20</td>\n",
       "      <td>Male</td>\n",
       "    </tr>\n",
       "  </tbody>\n",
       "</table>\n",
       "</div>"
      ],
      "text/plain": [
       "   Age  Gender\n",
       "0   15    Male\n",
       "1   20  Female\n",
       "2   18  Female\n",
       "3   40  Female\n",
       "4   20    Male"
      ]
     },
     "execution_count": 72,
     "metadata": {},
     "output_type": "execute_result"
    }
   ],
   "source": [
    "# Convert all cells in the \"Age\" column into the int Dtype by using astype() method.\n",
    "df2[\"Age\"] = df2[\"Age\"].astype(\"int\")\n",
    "\n",
    "# Print the dataframe.\n",
    "df2"
   ]
  },
  {
   "cell_type": "markdown",
   "id": "8a04f36b",
   "metadata": {},
   "source": [
    "- Now once again we are going to check the Dtype of the all columns."
   ]
  },
  {
   "cell_type": "code",
   "execution_count": 73,
   "id": "bcecbdee",
   "metadata": {},
   "outputs": [
    {
     "name": "stdout",
     "output_type": "stream",
     "text": [
      "<class 'pandas.core.frame.DataFrame'>\n",
      "RangeIndex: 5 entries, 0 to 4\n",
      "Data columns (total 2 columns):\n",
      " #   Column  Non-Null Count  Dtype \n",
      "---  ------  --------------  ----- \n",
      " 0   Age     5 non-null      int32 \n",
      " 1   Gender  5 non-null      object\n",
      "dtypes: int32(1), object(1)\n",
      "memory usage: 188.0+ bytes\n"
     ]
    }
   ],
   "source": [
    "# print the information of \"df2\" dataframe by using info().\n",
    "df2.info()"
   ]
  },
  {
   "cell_type": "markdown",
   "id": "6b9910fe",
   "metadata": {},
   "source": [
    "- As you can see from the result, the Age column Dtype has been converted to int32."
   ]
  },
  {
   "cell_type": "markdown",
   "id": "e39a9e0d",
   "metadata": {},
   "source": [
    "## 3. Duplicates :\n",
    "- Duplicate rows are rows that have been registered more than one time.\n",
    "\n",
    "\n",
    "- To fix it, we need to remove the duplicate records."
   ]
  },
  {
   "cell_type": "markdown",
   "id": "65b1b7bb",
   "metadata": {},
   "source": [
    "<b> Here we are going to create our own data-set with two columns as \"Age\" and \"Gender\" variables, dataframe name as \"df3\"."
   ]
  },
  {
   "cell_type": "code",
   "execution_count": 78,
   "id": "0c59f46e",
   "metadata": {},
   "outputs": [
    {
     "data": {
      "text/html": [
       "<div>\n",
       "<style scoped>\n",
       "    .dataframe tbody tr th:only-of-type {\n",
       "        vertical-align: middle;\n",
       "    }\n",
       "\n",
       "    .dataframe tbody tr th {\n",
       "        vertical-align: top;\n",
       "    }\n",
       "\n",
       "    .dataframe thead th {\n",
       "        text-align: right;\n",
       "    }\n",
       "</style>\n",
       "<table border=\"1\" class=\"dataframe\">\n",
       "  <thead>\n",
       "    <tr style=\"text-align: right;\">\n",
       "      <th></th>\n",
       "      <th>Age</th>\n",
       "      <th>Gender</th>\n",
       "    </tr>\n",
       "  </thead>\n",
       "  <tbody>\n",
       "    <tr>\n",
       "      <th>0</th>\n",
       "      <td>15</td>\n",
       "      <td>Male</td>\n",
       "    </tr>\n",
       "    <tr>\n",
       "      <th>1</th>\n",
       "      <td>18</td>\n",
       "      <td>Female</td>\n",
       "    </tr>\n",
       "    <tr>\n",
       "      <th>2</th>\n",
       "      <td>18</td>\n",
       "      <td>Female</td>\n",
       "    </tr>\n",
       "    <tr>\n",
       "      <th>3</th>\n",
       "      <td>40</td>\n",
       "      <td>Female</td>\n",
       "    </tr>\n",
       "    <tr>\n",
       "      <th>4</th>\n",
       "      <td>45</td>\n",
       "      <td>Male</td>\n",
       "    </tr>\n",
       "  </tbody>\n",
       "</table>\n",
       "</div>"
      ],
      "text/plain": [
       "   Age  Gender\n",
       "0   15    Male\n",
       "1   18  Female\n",
       "2   18  Female\n",
       "3   40  Female\n",
       "4   45    Male"
      ]
     },
     "execution_count": 78,
     "metadata": {},
     "output_type": "execute_result"
    }
   ],
   "source": [
    "# import numpy as np\n",
    "import numpy as np\n",
    "\n",
    "# import pandas as pd\n",
    "import pandas as pd\n",
    "\n",
    "# Create the \"df3\" dataframe with two columns as \"Age\" and \"Gender\" variables.\n",
    "df3 = pd.DataFrame({\"Age\":[15, 18, 18, 40, 45], \n",
    "                    \"Gender\":[\"Male\", \"Female\", \"Female\", \"Female\", \"Male\"]})\n",
    "\n",
    "# Print the dataframe.\n",
    "df3"
   ]
  },
  {
   "cell_type": "markdown",
   "id": "74046678",
   "metadata": {},
   "source": [
    "- By taking a look at our \"df3\" data set, we can assume that row 2 and 3 are duplicates.\n",
    "\n",
    "\n",
    "- To discover duplicates, we can use the duplicated() method.\n",
    "\n",
    "\n",
    "- The duplicated() method returns a Boolean values for each row.\n",
    "\n",
    "\n",
    "- Returns True for every row that is a duplicate, othwerwise False"
   ]
  },
  {
   "cell_type": "code",
   "execution_count": 79,
   "id": "ebf757a5",
   "metadata": {},
   "outputs": [
    {
     "data": {
      "text/plain": [
       "0    False\n",
       "1    False\n",
       "2     True\n",
       "3    False\n",
       "4    False\n",
       "dtype: bool"
      ]
     },
     "execution_count": 79,
     "metadata": {},
     "output_type": "execute_result"
    }
   ],
   "source": [
    "# Check the duplicated recoreds.\n",
    "df3.duplicated()"
   ]
  },
  {
   "cell_type": "markdown",
   "id": "803abc58",
   "metadata": {},
   "source": [
    "- In the above example, we can see that row 3 returns True, so here row 3 is duplicate record. We are going to remove the \n",
    "  duplicate records from the \"df3\" dataframe."
   ]
  },
  {
   "cell_type": "code",
   "execution_count": 80,
   "id": "dc3da342",
   "metadata": {},
   "outputs": [
    {
     "data": {
      "text/html": [
       "<div>\n",
       "<style scoped>\n",
       "    .dataframe tbody tr th:only-of-type {\n",
       "        vertical-align: middle;\n",
       "    }\n",
       "\n",
       "    .dataframe tbody tr th {\n",
       "        vertical-align: top;\n",
       "    }\n",
       "\n",
       "    .dataframe thead th {\n",
       "        text-align: right;\n",
       "    }\n",
       "</style>\n",
       "<table border=\"1\" class=\"dataframe\">\n",
       "  <thead>\n",
       "    <tr style=\"text-align: right;\">\n",
       "      <th></th>\n",
       "      <th>Age</th>\n",
       "      <th>Gender</th>\n",
       "    </tr>\n",
       "  </thead>\n",
       "  <tbody>\n",
       "    <tr>\n",
       "      <th>0</th>\n",
       "      <td>15</td>\n",
       "      <td>Male</td>\n",
       "    </tr>\n",
       "    <tr>\n",
       "      <th>1</th>\n",
       "      <td>18</td>\n",
       "      <td>Female</td>\n",
       "    </tr>\n",
       "    <tr>\n",
       "      <th>2</th>\n",
       "      <td>40</td>\n",
       "      <td>Female</td>\n",
       "    </tr>\n",
       "    <tr>\n",
       "      <th>3</th>\n",
       "      <td>45</td>\n",
       "      <td>Male</td>\n",
       "    </tr>\n",
       "  </tbody>\n",
       "</table>\n",
       "</div>"
      ],
      "text/plain": [
       "   Age  Gender\n",
       "0   15    Male\n",
       "1   18  Female\n",
       "2   40  Female\n",
       "3   45    Male"
      ]
     },
     "execution_count": 80,
     "metadata": {},
     "output_type": "execute_result"
    }
   ],
   "source": [
    "# Remove the duplicates from \"df3\" by using drop_duplicates() method.\n",
    "df3.drop_duplicates(inplace=True, ignore_index=True)\n",
    "\n",
    "# Print the dataframe.\n",
    "df3"
   ]
  },
  {
   "cell_type": "markdown",
   "id": "d0346a45",
   "metadata": {},
   "source": [
    "- In the above example, we have removed duplicate recoreds. We have used inplace=True, it will make sure that the method does \n",
    "  not return a new DataFrame, it's stored in the original DataFrame. Ans also we have used ignore_index=True, it will reset the \n",
    "  index numbers. "
   ]
  },
  {
   "cell_type": "markdown",
   "id": "b6304a90",
   "metadata": {},
   "source": [
    "## 4. Empty cells / Missing values :\n",
    "- Empty cells / Missing values can potentially give you a wrong result when you analyze data.\n",
    "\n",
    "\n",
    "- There are 2 options to handle with Empty cells / Missing values, they are :\n",
    "\n",
    "          Option - 1 : Remove Rows.\n",
    "          Option - 2 : Replace Empty Values.\n",
    "          "
   ]
  },
  {
   "cell_type": "markdown",
   "id": "6af54e20",
   "metadata": {},
   "source": [
    "<b> Here we are going to create our own data-set with two columns as \"Age\" and \"Gender\" variables, dataframe name as \"df4\"."
   ]
  },
  {
   "cell_type": "code",
   "execution_count": 81,
   "id": "2b0beaa0",
   "metadata": {},
   "outputs": [
    {
     "data": {
      "text/html": [
       "<div>\n",
       "<style scoped>\n",
       "    .dataframe tbody tr th:only-of-type {\n",
       "        vertical-align: middle;\n",
       "    }\n",
       "\n",
       "    .dataframe tbody tr th {\n",
       "        vertical-align: top;\n",
       "    }\n",
       "\n",
       "    .dataframe thead th {\n",
       "        text-align: right;\n",
       "    }\n",
       "</style>\n",
       "<table border=\"1\" class=\"dataframe\">\n",
       "  <thead>\n",
       "    <tr style=\"text-align: right;\">\n",
       "      <th></th>\n",
       "      <th>Age</th>\n",
       "      <th>Gender</th>\n",
       "    </tr>\n",
       "  </thead>\n",
       "  <tbody>\n",
       "    <tr>\n",
       "      <th>0</th>\n",
       "      <td>15.0</td>\n",
       "      <td>Male</td>\n",
       "    </tr>\n",
       "    <tr>\n",
       "      <th>1</th>\n",
       "      <td>NaN</td>\n",
       "      <td>Female</td>\n",
       "    </tr>\n",
       "    <tr>\n",
       "      <th>2</th>\n",
       "      <td>19.0</td>\n",
       "      <td>Female</td>\n",
       "    </tr>\n",
       "    <tr>\n",
       "      <th>3</th>\n",
       "      <td>46.0</td>\n",
       "      <td>Female</td>\n",
       "    </tr>\n",
       "    <tr>\n",
       "      <th>4</th>\n",
       "      <td>45.0</td>\n",
       "      <td>NaN</td>\n",
       "    </tr>\n",
       "  </tbody>\n",
       "</table>\n",
       "</div>"
      ],
      "text/plain": [
       "    Age  Gender\n",
       "0  15.0    Male\n",
       "1   NaN  Female\n",
       "2  19.0  Female\n",
       "3  46.0  Female\n",
       "4  45.0     NaN"
      ]
     },
     "execution_count": 81,
     "metadata": {},
     "output_type": "execute_result"
    }
   ],
   "source": [
    "# import numpy as np\n",
    "import numpy as np\n",
    "\n",
    "# import pandas as pd\n",
    "import pandas as pd\n",
    "\n",
    "# Create the \"df4\" dataframe with two columns as \"Age\" and \"Gender\" variables.\n",
    "df4 = pd.DataFrame({\"Age\":[15, np.nan, 19, 46, 45], \n",
    "                    \"Gender\":[\"Male\", \"Female\", \"Female\", \"Female\", np.nan]})\n",
    "\n",
    "# Print the dataframe.\n",
    "df4"
   ]
  },
  {
   "cell_type": "code",
   "execution_count": 83,
   "id": "00c4edda",
   "metadata": {},
   "outputs": [
    {
     "data": {
      "text/html": [
       "<div>\n",
       "<style scoped>\n",
       "    .dataframe tbody tr th:only-of-type {\n",
       "        vertical-align: middle;\n",
       "    }\n",
       "\n",
       "    .dataframe tbody tr th {\n",
       "        vertical-align: top;\n",
       "    }\n",
       "\n",
       "    .dataframe thead th {\n",
       "        text-align: right;\n",
       "    }\n",
       "</style>\n",
       "<table border=\"1\" class=\"dataframe\">\n",
       "  <thead>\n",
       "    <tr style=\"text-align: right;\">\n",
       "      <th></th>\n",
       "      <th>Age</th>\n",
       "      <th>Gender</th>\n",
       "    </tr>\n",
       "  </thead>\n",
       "  <tbody>\n",
       "    <tr>\n",
       "      <th>0</th>\n",
       "      <td>False</td>\n",
       "      <td>False</td>\n",
       "    </tr>\n",
       "    <tr>\n",
       "      <th>1</th>\n",
       "      <td>True</td>\n",
       "      <td>False</td>\n",
       "    </tr>\n",
       "    <tr>\n",
       "      <th>2</th>\n",
       "      <td>False</td>\n",
       "      <td>False</td>\n",
       "    </tr>\n",
       "    <tr>\n",
       "      <th>3</th>\n",
       "      <td>False</td>\n",
       "      <td>False</td>\n",
       "    </tr>\n",
       "    <tr>\n",
       "      <th>4</th>\n",
       "      <td>False</td>\n",
       "      <td>True</td>\n",
       "    </tr>\n",
       "  </tbody>\n",
       "</table>\n",
       "</div>"
      ],
      "text/plain": [
       "     Age  Gender\n",
       "0  False   False\n",
       "1   True   False\n",
       "2  False   False\n",
       "3  False   False\n",
       "4  False    True"
      ]
     },
     "execution_count": 83,
     "metadata": {},
     "output_type": "execute_result"
    }
   ],
   "source": [
    "# Check the missing values records.\n",
    "df4.isnull()"
   ]
  },
  {
   "cell_type": "markdown",
   "id": "c2a92d62",
   "metadata": {},
   "source": [
    "- The isnull() method returns a DataFrame object where all the values are replaced with a Boolean value True for NULL values, \n",
    "  and otherwise False.\n",
    "  \n",
    "  \n",
    "- It will give the exact positions where NaN values are present. "
   ]
  },
  {
   "cell_type": "code",
   "execution_count": 84,
   "id": "5d7dda8b",
   "metadata": {},
   "outputs": [
    {
     "data": {
      "text/plain": [
       "Age       1\n",
       "Gender    1\n",
       "dtype: int64"
      ]
     },
     "execution_count": 84,
     "metadata": {},
     "output_type": "execute_result"
    }
   ],
   "source": [
    "# Check the total number of missing values present in the each column.\n",
    "df4.isnull().sum()"
   ]
  },
  {
   "cell_type": "markdown",
   "id": "1f1e87e8",
   "metadata": {},
   "source": [
    "- The isnull().sum() method returns he total number of missing values (count) present in the each column."
   ]
  },
  {
   "cell_type": "code",
   "execution_count": 90,
   "id": "5cc0bd73",
   "metadata": {},
   "outputs": [
    {
     "data": {
      "text/html": [
       "<div>\n",
       "<style scoped>\n",
       "    .dataframe tbody tr th:only-of-type {\n",
       "        vertical-align: middle;\n",
       "    }\n",
       "\n",
       "    .dataframe tbody tr th {\n",
       "        vertical-align: top;\n",
       "    }\n",
       "\n",
       "    .dataframe thead th {\n",
       "        text-align: right;\n",
       "    }\n",
       "</style>\n",
       "<table border=\"1\" class=\"dataframe\">\n",
       "  <thead>\n",
       "    <tr style=\"text-align: right;\">\n",
       "      <th></th>\n",
       "      <th>Number of missing values</th>\n",
       "      <th>Percentage of missing values</th>\n",
       "    </tr>\n",
       "  </thead>\n",
       "  <tbody>\n",
       "    <tr>\n",
       "      <th>Age</th>\n",
       "      <td>1</td>\n",
       "      <td>20.0</td>\n",
       "    </tr>\n",
       "    <tr>\n",
       "      <th>Gender</th>\n",
       "      <td>1</td>\n",
       "      <td>20.0</td>\n",
       "    </tr>\n",
       "  </tbody>\n",
       "</table>\n",
       "</div>"
      ],
      "text/plain": [
       "        Number of missing values  Percentage of missing values\n",
       "Age                            1                          20.0\n",
       "Gender                         1                          20.0"
      ]
     },
     "execution_count": 90,
     "metadata": {},
     "output_type": "execute_result"
    }
   ],
   "source": [
    "# Check the total missing values & there percentage for each variables.\n",
    "\n",
    "# Check the total number of missing values present in the each variables.\n",
    "x = df4.isnull().sum()\n",
    "\n",
    "# Check the percentage of the missing values for each variables.\n",
    "y = (df4.isnull().sum() / len(df4))*100\n",
    "\n",
    "# store the total missing values & there percentage in \"z\".\n",
    "z = {\"Number of missing values\":x, \"Percentage of missing values\":y}\n",
    "\n",
    "# Create a new DataFrame as \"missing\".\n",
    "# Pass the \"z\" object to \"missing\" DataFrame.\n",
    "# Set the column labels.\n",
    "missing = pd.DataFrame(z, columns=[\"Number of missing values\", \"Percentage of missing values\"])\n",
    "\n",
    "# Print the \"missing\" DataFrame.\n",
    "missing"
   ]
  },
  {
   "cell_type": "markdown",
   "id": "a8f04783",
   "metadata": {},
   "source": [
    "- In the above example, we got total missing values & there percentage for each variables."
   ]
  },
  {
   "cell_type": "code",
   "execution_count": 91,
   "id": "74ae7def",
   "metadata": {},
   "outputs": [
    {
     "data": {
      "text/html": [
       "<div>\n",
       "<style scoped>\n",
       "    .dataframe tbody tr th:only-of-type {\n",
       "        vertical-align: middle;\n",
       "    }\n",
       "\n",
       "    .dataframe tbody tr th {\n",
       "        vertical-align: top;\n",
       "    }\n",
       "\n",
       "    .dataframe thead th {\n",
       "        text-align: right;\n",
       "    }\n",
       "</style>\n",
       "<table border=\"1\" class=\"dataframe\">\n",
       "  <thead>\n",
       "    <tr style=\"text-align: right;\">\n",
       "      <th></th>\n",
       "      <th>Number of missing values</th>\n",
       "      <th>Percentage of missing values</th>\n",
       "    </tr>\n",
       "  </thead>\n",
       "  <tbody>\n",
       "    <tr>\n",
       "      <th>Age</th>\n",
       "      <td>1</td>\n",
       "      <td>20.0</td>\n",
       "    </tr>\n",
       "    <tr>\n",
       "      <th>Gender</th>\n",
       "      <td>1</td>\n",
       "      <td>20.0</td>\n",
       "    </tr>\n",
       "  </tbody>\n",
       "</table>\n",
       "</div>"
      ],
      "text/plain": [
       "        Number of missing values  Percentage of missing values\n",
       "Age                            1                          20.0\n",
       "Gender                         1                          20.0"
      ]
     },
     "execution_count": 91,
     "metadata": {},
     "output_type": "execute_result"
    }
   ],
   "source": [
    "# Sort the missing values based on there percentages.\n",
    "missing.sort_values(by=\"Percentage of missing values\", ascending=True)"
   ]
  },
  {
   "cell_type": "markdown",
   "id": "03d8799d",
   "metadata": {},
   "source": [
    "- In the above example, we have sorted in ascending order based on there Percentage of missing values."
   ]
  },
  {
   "cell_type": "markdown",
   "id": "ad59f62e",
   "metadata": {},
   "source": [
    "- We are going to fix the missing values from the \"df4\" DataFrame. There are 2 options to handle with Empty cells / Missing \n",
    "  values.\n",
    "  \n",
    "  \n",
    "- Here we are looking with option - 1."
   ]
  },
  {
   "cell_type": "markdown",
   "id": "4b2ffa33",
   "metadata": {},
   "source": [
    "#### Option - 1 : Remove Rows :\n",
    "- One way to deal with empty cells is to remove rows that contain empty cells.\n"
   ]
  },
  {
   "cell_type": "code",
   "execution_count": 94,
   "id": "4445e613",
   "metadata": {},
   "outputs": [
    {
     "data": {
      "text/html": [
       "<div>\n",
       "<style scoped>\n",
       "    .dataframe tbody tr th:only-of-type {\n",
       "        vertical-align: middle;\n",
       "    }\n",
       "\n",
       "    .dataframe tbody tr th {\n",
       "        vertical-align: top;\n",
       "    }\n",
       "\n",
       "    .dataframe thead th {\n",
       "        text-align: right;\n",
       "    }\n",
       "</style>\n",
       "<table border=\"1\" class=\"dataframe\">\n",
       "  <thead>\n",
       "    <tr style=\"text-align: right;\">\n",
       "      <th></th>\n",
       "      <th>Age</th>\n",
       "      <th>Gender</th>\n",
       "    </tr>\n",
       "  </thead>\n",
       "  <tbody>\n",
       "    <tr>\n",
       "      <th>0</th>\n",
       "      <td>15.0</td>\n",
       "      <td>Male</td>\n",
       "    </tr>\n",
       "    <tr>\n",
       "      <th>2</th>\n",
       "      <td>19.0</td>\n",
       "      <td>Female</td>\n",
       "    </tr>\n",
       "    <tr>\n",
       "      <th>3</th>\n",
       "      <td>46.0</td>\n",
       "      <td>Female</td>\n",
       "    </tr>\n",
       "  </tbody>\n",
       "</table>\n",
       "</div>"
      ],
      "text/plain": [
       "    Age  Gender\n",
       "0  15.0    Male\n",
       "2  19.0  Female\n",
       "3  46.0  Female"
      ]
     },
     "execution_count": 94,
     "metadata": {},
     "output_type": "execute_result"
    }
   ],
   "source": [
    "''' Remove the rows from \"df4\" DataFrame that contains missing values and return \n",
    "    a new Data Frame with no empty cells by usnig dropna() method.'''\n",
    "df5 = df4.dropna()\n",
    "\n",
    "# Print the new DataFrame.\n",
    "df5"
   ]
  },
  {
   "cell_type": "markdown",
   "id": "2eca81e6",
   "metadata": {},
   "source": [
    "- In the above example, we have removed empty / missing records from the \"df4\" DataFrame and returns a new Data Frame as \n",
    "  \"df5\" with no empty cells.\n",
    "  \n",
    "  \n",
    "- If data sets are very big then this is usually OK to removing a few rows will not have a big impact on the result.\n",
    "\n",
    "\n",
    "- If data sets are small then this is usually not OK to removing a few rows will have a big impact on the result. So for empty cells / missing values we will recommende to replace Empty Values."
   ]
  },
  {
   "cell_type": "markdown",
   "id": "79b50f04",
   "metadata": {},
   "source": [
    "#### Option - 2 : Replace Empty Values :\n",
    "- Another way of dealing with empty cells is to insert a new value instead.\n",
    "\n",
    "\n",
    "- This way you do not have to delete entire rows just because of some empty cells.\n",
    "\n",
    "\n",
    "- The fillna() method allows us to replace empty cells with a value.\n",
    "\n",
    "\n",
    "- Replace Empty Values :\n",
    "\n",
    "        - Fill with some specified value.\n",
    "        - Continous Variables - Replace with eithe Mean or Median value.\n",
    "        - Discrete Variables - Replace with Mode value."
   ]
  },
  {
   "cell_type": "markdown",
   "id": "b6bf47bb",
   "metadata": {},
   "source": [
    "<b> Here we are going to create our own data-set with two columns as \"Age\" and \"Gender\" variables, dataframe name as \"df6\"."
   ]
  },
  {
   "cell_type": "code",
   "execution_count": 95,
   "id": "98952873",
   "metadata": {},
   "outputs": [
    {
     "data": {
      "text/html": [
       "<div>\n",
       "<style scoped>\n",
       "    .dataframe tbody tr th:only-of-type {\n",
       "        vertical-align: middle;\n",
       "    }\n",
       "\n",
       "    .dataframe tbody tr th {\n",
       "        vertical-align: top;\n",
       "    }\n",
       "\n",
       "    .dataframe thead th {\n",
       "        text-align: right;\n",
       "    }\n",
       "</style>\n",
       "<table border=\"1\" class=\"dataframe\">\n",
       "  <thead>\n",
       "    <tr style=\"text-align: right;\">\n",
       "      <th></th>\n",
       "      <th>Age</th>\n",
       "      <th>Gender</th>\n",
       "    </tr>\n",
       "  </thead>\n",
       "  <tbody>\n",
       "    <tr>\n",
       "      <th>0</th>\n",
       "      <td>15.0</td>\n",
       "      <td>NaN</td>\n",
       "    </tr>\n",
       "    <tr>\n",
       "      <th>1</th>\n",
       "      <td>NaN</td>\n",
       "      <td>Female</td>\n",
       "    </tr>\n",
       "    <tr>\n",
       "      <th>2</th>\n",
       "      <td>19.0</td>\n",
       "      <td>Female</td>\n",
       "    </tr>\n",
       "    <tr>\n",
       "      <th>3</th>\n",
       "      <td>46.0</td>\n",
       "      <td>Female</td>\n",
       "    </tr>\n",
       "    <tr>\n",
       "      <th>4</th>\n",
       "      <td>45.0</td>\n",
       "      <td>Male</td>\n",
       "    </tr>\n",
       "  </tbody>\n",
       "</table>\n",
       "</div>"
      ],
      "text/plain": [
       "    Age  Gender\n",
       "0  15.0     NaN\n",
       "1   NaN  Female\n",
       "2  19.0  Female\n",
       "3  46.0  Female\n",
       "4  45.0    Male"
      ]
     },
     "execution_count": 95,
     "metadata": {},
     "output_type": "execute_result"
    }
   ],
   "source": [
    "# import numpy as np\n",
    "import numpy as np\n",
    "\n",
    "# import pandas as pd\n",
    "import pandas as pd\n",
    "\n",
    "# Create the \"df6\" dataframe with two columns as \"Age\" and \"Gender\" variables.\n",
    "df6 = pd.DataFrame({\"Age\":[15, np.nan, 19, 46, 45], \n",
    "                    \"Gender\":[np.nan, \"Female\", \"Female\", \"Female\", \"Male\"]})\n",
    "\n",
    "# Print the dataframe.\n",
    "df6"
   ]
  },
  {
   "cell_type": "markdown",
   "id": "2993e9a7",
   "metadata": {},
   "source": [
    "- By taking a look at our DataFrame, we can assume that, in \"Age\" variable row 2 is missing value and in \"Gender\" variable row \n",
    "  1 and 5 are missing values."
   ]
  },
  {
   "cell_type": "code",
   "execution_count": 98,
   "id": "cdaa49bf",
   "metadata": {},
   "outputs": [
    {
     "data": {
      "text/html": [
       "<div>\n",
       "<style scoped>\n",
       "    .dataframe tbody tr th:only-of-type {\n",
       "        vertical-align: middle;\n",
       "    }\n",
       "\n",
       "    .dataframe tbody tr th {\n",
       "        vertical-align: top;\n",
       "    }\n",
       "\n",
       "    .dataframe thead th {\n",
       "        text-align: right;\n",
       "    }\n",
       "</style>\n",
       "<table border=\"1\" class=\"dataframe\">\n",
       "  <thead>\n",
       "    <tr style=\"text-align: right;\">\n",
       "      <th></th>\n",
       "      <th>Age</th>\n",
       "      <th>Gender</th>\n",
       "    </tr>\n",
       "  </thead>\n",
       "  <tbody>\n",
       "    <tr>\n",
       "      <th>0</th>\n",
       "      <td>15.0</td>\n",
       "      <td>NaN</td>\n",
       "    </tr>\n",
       "    <tr>\n",
       "      <th>1</th>\n",
       "      <td>0.0</td>\n",
       "      <td>Female</td>\n",
       "    </tr>\n",
       "    <tr>\n",
       "      <th>2</th>\n",
       "      <td>19.0</td>\n",
       "      <td>Female</td>\n",
       "    </tr>\n",
       "    <tr>\n",
       "      <th>3</th>\n",
       "      <td>46.0</td>\n",
       "      <td>Female</td>\n",
       "    </tr>\n",
       "    <tr>\n",
       "      <th>4</th>\n",
       "      <td>45.0</td>\n",
       "      <td>Male</td>\n",
       "    </tr>\n",
       "  </tbody>\n",
       "</table>\n",
       "</div>"
      ],
      "text/plain": [
       "    Age  Gender\n",
       "0  15.0     NaN\n",
       "1   0.0  Female\n",
       "2  19.0  Female\n",
       "3  46.0  Female\n",
       "4  45.0    Male"
      ]
     },
     "execution_count": 98,
     "metadata": {},
     "output_type": "execute_result"
    }
   ],
   "source": [
    "# Replacing the missing values from \"Age\" variable with value of 0 by using replce().\n",
    "df6[\"Age\"].replace(np.nan, 0, inplace=True)\n",
    "\n",
    "# Print the dataframe.\n",
    "df6"
   ]
  },
  {
   "cell_type": "markdown",
   "id": "56485ed8",
   "metadata": {},
   "source": [
    "- In the above example, we have replaced the missing values from \"Age\" variable with value of 0 by using replace() method."
   ]
  },
  {
   "cell_type": "code",
   "execution_count": 100,
   "id": "609964c6",
   "metadata": {},
   "outputs": [
    {
     "data": {
      "text/html": [
       "<div>\n",
       "<style scoped>\n",
       "    .dataframe tbody tr th:only-of-type {\n",
       "        vertical-align: middle;\n",
       "    }\n",
       "\n",
       "    .dataframe tbody tr th {\n",
       "        vertical-align: top;\n",
       "    }\n",
       "\n",
       "    .dataframe thead th {\n",
       "        text-align: right;\n",
       "    }\n",
       "</style>\n",
       "<table border=\"1\" class=\"dataframe\">\n",
       "  <thead>\n",
       "    <tr style=\"text-align: right;\">\n",
       "      <th></th>\n",
       "      <th>Age</th>\n",
       "      <th>Gender</th>\n",
       "    </tr>\n",
       "  </thead>\n",
       "  <tbody>\n",
       "    <tr>\n",
       "      <th>0</th>\n",
       "      <td>15.0</td>\n",
       "      <td>Female</td>\n",
       "    </tr>\n",
       "    <tr>\n",
       "      <th>1</th>\n",
       "      <td>0.0</td>\n",
       "      <td>Female</td>\n",
       "    </tr>\n",
       "    <tr>\n",
       "      <th>2</th>\n",
       "      <td>19.0</td>\n",
       "      <td>Female</td>\n",
       "    </tr>\n",
       "    <tr>\n",
       "      <th>3</th>\n",
       "      <td>46.0</td>\n",
       "      <td>Female</td>\n",
       "    </tr>\n",
       "    <tr>\n",
       "      <th>4</th>\n",
       "      <td>45.0</td>\n",
       "      <td>Male</td>\n",
       "    </tr>\n",
       "  </tbody>\n",
       "</table>\n",
       "</div>"
      ],
      "text/plain": [
       "    Age  Gender\n",
       "0  15.0  Female\n",
       "1   0.0  Female\n",
       "2  19.0  Female\n",
       "3  46.0  Female\n",
       "4  45.0    Male"
      ]
     },
     "execution_count": 100,
     "metadata": {},
     "output_type": "execute_result"
    }
   ],
   "source": [
    "# Replacing the missing values from \"Gender\" variable with Mode value by using fillna().\n",
    "\n",
    "# Calculate the Mode from \"Gender\" variable and store it in \"x\" object.\n",
    "x = df6[\"Gender\"].mode()[0]\n",
    "\n",
    "# Replace the missing values from \"Gender\" variable with Mode value by using fillna()\n",
    "df6[\"Gender\"].fillna(x, inplace=True)\n",
    "\n",
    "# Print the dataframe.\n",
    "df6"
   ]
  },
  {
   "cell_type": "markdown",
   "id": "a554f2e5",
   "metadata": {},
   "source": [
    "- In the above example, we have replaced the missing values from \"Gender\" variable with Mode value by using fillna() method. Here mode value is \"Female\".\n",
    "\n",
    "\n",
    "- Here we have used mode()[0] : the value that appears first most frequently.\n"
   ]
  },
  {
   "cell_type": "markdown",
   "id": "a21e933f",
   "metadata": {},
   "source": [
    "<b> Here we are going to create our own data-set with two columns as \"Age\" and \"Gender\" variables, dataframe name as \"df7\"."
   ]
  },
  {
   "cell_type": "code",
   "execution_count": 4,
   "id": "f1a35873",
   "metadata": {},
   "outputs": [
    {
     "data": {
      "text/html": [
       "<div>\n",
       "<style scoped>\n",
       "    .dataframe tbody tr th:only-of-type {\n",
       "        vertical-align: middle;\n",
       "    }\n",
       "\n",
       "    .dataframe tbody tr th {\n",
       "        vertical-align: top;\n",
       "    }\n",
       "\n",
       "    .dataframe thead th {\n",
       "        text-align: right;\n",
       "    }\n",
       "</style>\n",
       "<table border=\"1\" class=\"dataframe\">\n",
       "  <thead>\n",
       "    <tr style=\"text-align: right;\">\n",
       "      <th></th>\n",
       "      <th>Age</th>\n",
       "      <th>Gender</th>\n",
       "    </tr>\n",
       "  </thead>\n",
       "  <tbody>\n",
       "    <tr>\n",
       "      <th>0</th>\n",
       "      <td>15.0</td>\n",
       "      <td>Male</td>\n",
       "    </tr>\n",
       "    <tr>\n",
       "      <th>1</th>\n",
       "      <td>NaN</td>\n",
       "      <td>Female</td>\n",
       "    </tr>\n",
       "    <tr>\n",
       "      <th>2</th>\n",
       "      <td>19.0</td>\n",
       "      <td>Female</td>\n",
       "    </tr>\n",
       "    <tr>\n",
       "      <th>3</th>\n",
       "      <td>46.0</td>\n",
       "      <td>Female</td>\n",
       "    </tr>\n",
       "    <tr>\n",
       "      <th>4</th>\n",
       "      <td>45.0</td>\n",
       "      <td>Male</td>\n",
       "    </tr>\n",
       "  </tbody>\n",
       "</table>\n",
       "</div>"
      ],
      "text/plain": [
       "    Age  Gender\n",
       "0  15.0    Male\n",
       "1   NaN  Female\n",
       "2  19.0  Female\n",
       "3  46.0  Female\n",
       "4  45.0    Male"
      ]
     },
     "execution_count": 4,
     "metadata": {},
     "output_type": "execute_result"
    }
   ],
   "source": [
    "# import numpy as np\n",
    "import numpy as np\n",
    "\n",
    "# import pandas as pd\n",
    "import pandas as pd\n",
    "\n",
    "# Create the \"df7\" dataframe with two columns as \"Age\" and \"Gender\" variables.\n",
    "df7 = pd.DataFrame({\"Age\":[15, np.nan, 19, 46, 45], \n",
    "                    \"Gender\":[\"Male\", \"Female\", \"Female\", \"Female\", \"Male\"]})\n",
    "\n",
    "# Print the dataframe.\n",
    "df7"
   ]
  },
  {
   "cell_type": "markdown",
   "id": "42a9caed",
   "metadata": {},
   "source": [
    "- By taking a look at our DataFrame, we can assume that, in \"Age\" variable row 2 is missing value."
   ]
  },
  {
   "cell_type": "code",
   "execution_count": 5,
   "id": "20c41014",
   "metadata": {},
   "outputs": [
    {
     "data": {
      "text/html": [
       "<div>\n",
       "<style scoped>\n",
       "    .dataframe tbody tr th:only-of-type {\n",
       "        vertical-align: middle;\n",
       "    }\n",
       "\n",
       "    .dataframe tbody tr th {\n",
       "        vertical-align: top;\n",
       "    }\n",
       "\n",
       "    .dataframe thead th {\n",
       "        text-align: right;\n",
       "    }\n",
       "</style>\n",
       "<table border=\"1\" class=\"dataframe\">\n",
       "  <thead>\n",
       "    <tr style=\"text-align: right;\">\n",
       "      <th></th>\n",
       "      <th>Age</th>\n",
       "      <th>Gender</th>\n",
       "    </tr>\n",
       "  </thead>\n",
       "  <tbody>\n",
       "    <tr>\n",
       "      <th>0</th>\n",
       "      <td>15.00</td>\n",
       "      <td>Male</td>\n",
       "    </tr>\n",
       "    <tr>\n",
       "      <th>1</th>\n",
       "      <td>31.25</td>\n",
       "      <td>Female</td>\n",
       "    </tr>\n",
       "    <tr>\n",
       "      <th>2</th>\n",
       "      <td>19.00</td>\n",
       "      <td>Female</td>\n",
       "    </tr>\n",
       "    <tr>\n",
       "      <th>3</th>\n",
       "      <td>46.00</td>\n",
       "      <td>Female</td>\n",
       "    </tr>\n",
       "    <tr>\n",
       "      <th>4</th>\n",
       "      <td>45.00</td>\n",
       "      <td>Male</td>\n",
       "    </tr>\n",
       "  </tbody>\n",
       "</table>\n",
       "</div>"
      ],
      "text/plain": [
       "     Age  Gender\n",
       "0  15.00    Male\n",
       "1  31.25  Female\n",
       "2  19.00  Female\n",
       "3  46.00  Female\n",
       "4  45.00    Male"
      ]
     },
     "execution_count": 5,
     "metadata": {},
     "output_type": "execute_result"
    }
   ],
   "source": [
    "# Replacing the missing values from \"Age\" variable with Mean value by using fillna().\n",
    "\n",
    "# Calculate the Mean from \"Age\" variable and store it in \"x\" object.\n",
    "x = df7[\"Age\"].mean()\n",
    "\n",
    "# Replace the missing values from \"Age\" variable with Mean value by using fillna().\n",
    "df7[\"Age\"].fillna(x, inplace=True)\n",
    "\n",
    "# Print the dataframe.\n",
    "df7"
   ]
  },
  {
   "cell_type": "markdown",
   "id": "232b21dd",
   "metadata": {},
   "source": [
    "- In the above example, we have replaced the missing values from \"Age\" variable with Mean value by using fillna() method. Here \n",
    "  mean value is 31.25\n",
    "\n",
    "\n",
    "- Here Mean is the average value (the sum of all values divided by number of values).\n",
    "\n",
    "\n",
    "- If there are no outliers, then only we will go with mean option. Because outliers are heavily effects the mean value.\n",
    "\n",
    "\n",
    "- If there are outliers, then we will go with median option. Because outliers are heavily effects the mean value and lesser \n",
    "  effects to median as compare to mean value."
   ]
  },
  {
   "cell_type": "markdown",
   "id": "31d5d542",
   "metadata": {},
   "source": [
    "<b> Here we are going to create our own data-set with two columns as \"Age\" and \"Gender\" variables, dataframe name as \"df8\"."
   ]
  },
  {
   "cell_type": "code",
   "execution_count": 8,
   "id": "86a05e58",
   "metadata": {},
   "outputs": [
    {
     "data": {
      "text/html": [
       "<div>\n",
       "<style scoped>\n",
       "    .dataframe tbody tr th:only-of-type {\n",
       "        vertical-align: middle;\n",
       "    }\n",
       "\n",
       "    .dataframe tbody tr th {\n",
       "        vertical-align: top;\n",
       "    }\n",
       "\n",
       "    .dataframe thead th {\n",
       "        text-align: right;\n",
       "    }\n",
       "</style>\n",
       "<table border=\"1\" class=\"dataframe\">\n",
       "  <thead>\n",
       "    <tr style=\"text-align: right;\">\n",
       "      <th></th>\n",
       "      <th>Age</th>\n",
       "      <th>Gender</th>\n",
       "    </tr>\n",
       "  </thead>\n",
       "  <tbody>\n",
       "    <tr>\n",
       "      <th>0</th>\n",
       "      <td>15.0</td>\n",
       "      <td>Male</td>\n",
       "    </tr>\n",
       "    <tr>\n",
       "      <th>1</th>\n",
       "      <td>NaN</td>\n",
       "      <td>Female</td>\n",
       "    </tr>\n",
       "    <tr>\n",
       "      <th>2</th>\n",
       "      <td>19.0</td>\n",
       "      <td>Female</td>\n",
       "    </tr>\n",
       "    <tr>\n",
       "      <th>3</th>\n",
       "      <td>46.0</td>\n",
       "      <td>Female</td>\n",
       "    </tr>\n",
       "    <tr>\n",
       "      <th>4</th>\n",
       "      <td>NaN</td>\n",
       "      <td>Male</td>\n",
       "    </tr>\n",
       "  </tbody>\n",
       "</table>\n",
       "</div>"
      ],
      "text/plain": [
       "    Age  Gender\n",
       "0  15.0    Male\n",
       "1   NaN  Female\n",
       "2  19.0  Female\n",
       "3  46.0  Female\n",
       "4   NaN    Male"
      ]
     },
     "execution_count": 8,
     "metadata": {},
     "output_type": "execute_result"
    }
   ],
   "source": [
    "# import numpy as np\n",
    "import numpy as np\n",
    "\n",
    "# import pandas as pd\n",
    "import pandas as pd\n",
    "\n",
    "# Create the \"df8\" dataframe with two columns as \"Age\" and \"Gender\" variables.\n",
    "df8 = pd.DataFrame({\"Age\":[15, np.nan, 19, 46, np.nan], \n",
    "                    \"Gender\":[\"Male\", \"Female\", \"Female\", \"Female\", \"Male\"]})\n",
    "\n",
    "# Print the dataframe.\n",
    "df8"
   ]
  },
  {
   "cell_type": "markdown",
   "id": "95929f88",
   "metadata": {},
   "source": [
    "- By taking a look at our DataFrame, we can assume that, in \"Age\" variable row 2 and 5 are missing values."
   ]
  },
  {
   "cell_type": "code",
   "execution_count": 9,
   "id": "f7e5e592",
   "metadata": {},
   "outputs": [
    {
     "data": {
      "text/html": [
       "<div>\n",
       "<style scoped>\n",
       "    .dataframe tbody tr th:only-of-type {\n",
       "        vertical-align: middle;\n",
       "    }\n",
       "\n",
       "    .dataframe tbody tr th {\n",
       "        vertical-align: top;\n",
       "    }\n",
       "\n",
       "    .dataframe thead th {\n",
       "        text-align: right;\n",
       "    }\n",
       "</style>\n",
       "<table border=\"1\" class=\"dataframe\">\n",
       "  <thead>\n",
       "    <tr style=\"text-align: right;\">\n",
       "      <th></th>\n",
       "      <th>Age</th>\n",
       "      <th>Gender</th>\n",
       "    </tr>\n",
       "  </thead>\n",
       "  <tbody>\n",
       "    <tr>\n",
       "      <th>0</th>\n",
       "      <td>15.0</td>\n",
       "      <td>Male</td>\n",
       "    </tr>\n",
       "    <tr>\n",
       "      <th>1</th>\n",
       "      <td>19.0</td>\n",
       "      <td>Female</td>\n",
       "    </tr>\n",
       "    <tr>\n",
       "      <th>2</th>\n",
       "      <td>19.0</td>\n",
       "      <td>Female</td>\n",
       "    </tr>\n",
       "    <tr>\n",
       "      <th>3</th>\n",
       "      <td>46.0</td>\n",
       "      <td>Female</td>\n",
       "    </tr>\n",
       "    <tr>\n",
       "      <th>4</th>\n",
       "      <td>19.0</td>\n",
       "      <td>Male</td>\n",
       "    </tr>\n",
       "  </tbody>\n",
       "</table>\n",
       "</div>"
      ],
      "text/plain": [
       "    Age  Gender\n",
       "0  15.0    Male\n",
       "1  19.0  Female\n",
       "2  19.0  Female\n",
       "3  46.0  Female\n",
       "4  19.0    Male"
      ]
     },
     "execution_count": 9,
     "metadata": {},
     "output_type": "execute_result"
    }
   ],
   "source": [
    "# Replacing the missing values from \"Age\" variable with Median value by using fillna().\n",
    "\n",
    "# Calculate the Mean from \"Age\" variable and store it in \"x\" object.\n",
    "x = df8[\"Age\"].median()\n",
    "\n",
    "# Replace the missing values from \"Age\" variable with Median value by using fillna().\n",
    "df8[\"Age\"].fillna(x, inplace=True)\n",
    "\n",
    "# Print the dataframe.\n",
    "df8"
   ]
  },
  {
   "cell_type": "markdown",
   "id": "db9f0d3b",
   "metadata": {},
   "source": [
    "- In the above example, we have replaced the missing values from \"Age\" variable with Median value by using fillna() method. \n",
    "  Here median value is 19.0\n",
    "  \n",
    "  \n",
    "- Here Median is the value in the middle, after you have sorted all values ascending."
   ]
  },
  {
   "cell_type": "markdown",
   "id": "3521b5d3",
   "metadata": {},
   "source": [
    "#### We can replace the missing values by using SimpleImputer() by using sklearn library."
   ]
  },
  {
   "cell_type": "markdown",
   "id": "260e2a11",
   "metadata": {},
   "source": [
    "- Now here we are going to create our own data-set with two columns as \"Age\" and \"Gender\" variables, dataframe name as \"df9\"."
   ]
  },
  {
   "cell_type": "code",
   "execution_count": 10,
   "id": "85e3856e",
   "metadata": {},
   "outputs": [
    {
     "data": {
      "text/html": [
       "<div>\n",
       "<style scoped>\n",
       "    .dataframe tbody tr th:only-of-type {\n",
       "        vertical-align: middle;\n",
       "    }\n",
       "\n",
       "    .dataframe tbody tr th {\n",
       "        vertical-align: top;\n",
       "    }\n",
       "\n",
       "    .dataframe thead th {\n",
       "        text-align: right;\n",
       "    }\n",
       "</style>\n",
       "<table border=\"1\" class=\"dataframe\">\n",
       "  <thead>\n",
       "    <tr style=\"text-align: right;\">\n",
       "      <th></th>\n",
       "      <th>Age</th>\n",
       "      <th>Gender</th>\n",
       "    </tr>\n",
       "  </thead>\n",
       "  <tbody>\n",
       "    <tr>\n",
       "      <th>0</th>\n",
       "      <td>15.0</td>\n",
       "      <td>Male</td>\n",
       "    </tr>\n",
       "    <tr>\n",
       "      <th>1</th>\n",
       "      <td>25.0</td>\n",
       "      <td>NaN</td>\n",
       "    </tr>\n",
       "    <tr>\n",
       "      <th>2</th>\n",
       "      <td>NaN</td>\n",
       "      <td>Female</td>\n",
       "    </tr>\n",
       "    <tr>\n",
       "      <th>3</th>\n",
       "      <td>46.0</td>\n",
       "      <td>Female</td>\n",
       "    </tr>\n",
       "    <tr>\n",
       "      <th>4</th>\n",
       "      <td>34.0</td>\n",
       "      <td>Male</td>\n",
       "    </tr>\n",
       "    <tr>\n",
       "      <th>5</th>\n",
       "      <td>26.0</td>\n",
       "      <td>Male</td>\n",
       "    </tr>\n",
       "  </tbody>\n",
       "</table>\n",
       "</div>"
      ],
      "text/plain": [
       "    Age  Gender\n",
       "0  15.0    Male\n",
       "1  25.0     NaN\n",
       "2   NaN  Female\n",
       "3  46.0  Female\n",
       "4  34.0    Male\n",
       "5  26.0    Male"
      ]
     },
     "execution_count": 10,
     "metadata": {},
     "output_type": "execute_result"
    }
   ],
   "source": [
    "# import numpy as np\n",
    "import numpy as np\n",
    "\n",
    "# import pandas as pd\n",
    "import pandas as pd\n",
    "\n",
    "# Create the \"df9\" dataframe with two columns as \"Age\" and \"Gender\" variables.\n",
    "df9 = pd.DataFrame({\"Age\":[15, 25, np.nan, 46, 34, 26], \n",
    "                    \"Gender\":[\"Male\", np.nan, \"Female\", \"Female\", \"Male\", \"Male\"]})\n",
    "\n",
    "# Print the dataframe.\n",
    "df9"
   ]
  },
  {
   "cell_type": "markdown",
   "id": "cd26208b",
   "metadata": {},
   "source": [
    "- By taking a look at our DataFrame, we can assume that, in \"Age\" variable row 3 is missing value and in \"Gender\" variable row \n",
    "  2 is missing value.\n",
    "  \n",
    "  \n",
    "- Now below we are going to fix the these missing values."
   ]
  },
  {
   "cell_type": "code",
   "execution_count": 14,
   "id": "b223aa95",
   "metadata": {},
   "outputs": [
    {
     "data": {
      "text/html": [
       "<div>\n",
       "<style scoped>\n",
       "    .dataframe tbody tr th:only-of-type {\n",
       "        vertical-align: middle;\n",
       "    }\n",
       "\n",
       "    .dataframe tbody tr th {\n",
       "        vertical-align: top;\n",
       "    }\n",
       "\n",
       "    .dataframe thead th {\n",
       "        text-align: right;\n",
       "    }\n",
       "</style>\n",
       "<table border=\"1\" class=\"dataframe\">\n",
       "  <thead>\n",
       "    <tr style=\"text-align: right;\">\n",
       "      <th></th>\n",
       "      <th>Age</th>\n",
       "      <th>Gender</th>\n",
       "    </tr>\n",
       "  </thead>\n",
       "  <tbody>\n",
       "    <tr>\n",
       "      <th>0</th>\n",
       "      <td>15.0</td>\n",
       "      <td>Male</td>\n",
       "    </tr>\n",
       "    <tr>\n",
       "      <th>1</th>\n",
       "      <td>25.0</td>\n",
       "      <td>NaN</td>\n",
       "    </tr>\n",
       "    <tr>\n",
       "      <th>2</th>\n",
       "      <td>29.2</td>\n",
       "      <td>Female</td>\n",
       "    </tr>\n",
       "    <tr>\n",
       "      <th>3</th>\n",
       "      <td>46.0</td>\n",
       "      <td>Female</td>\n",
       "    </tr>\n",
       "    <tr>\n",
       "      <th>4</th>\n",
       "      <td>34.0</td>\n",
       "      <td>Male</td>\n",
       "    </tr>\n",
       "    <tr>\n",
       "      <th>5</th>\n",
       "      <td>26.0</td>\n",
       "      <td>Male</td>\n",
       "    </tr>\n",
       "  </tbody>\n",
       "</table>\n",
       "</div>"
      ],
      "text/plain": [
       "    Age  Gender\n",
       "0  15.0    Male\n",
       "1  25.0     NaN\n",
       "2  29.2  Female\n",
       "3  46.0  Female\n",
       "4  34.0    Male\n",
       "5  26.0    Male"
      ]
     },
     "execution_count": 14,
     "metadata": {},
     "output_type": "execute_result"
    }
   ],
   "source": [
    "# Replacing the missing values from \"Age\" variable with Mean value by using SimpleImputer().\n",
    "\n",
    "# importing SimpleImputer from sklearn.impute library.\n",
    "from sklearn.impute import SimpleImputer\n",
    "\n",
    "# Set the mean formula and store it in \"mean_imputer\" object.\n",
    "mean_imputer = SimpleImputer(strategy=\"mean\")\n",
    "\n",
    "# Replace the missing values from \"Age\" variable with Mean value by using SimpleImputer().\n",
    "# Pass the \"mean_imputer\" object.\n",
    "df9[\"Age\"] = mean_imputer.fit_transform(df9[[\"Age\"]])\n",
    "\n",
    "# Print the dataframe.\n",
    "df9"
   ]
  },
  {
   "cell_type": "markdown",
   "id": "72cc42b2",
   "metadata": {},
   "source": [
    "- In the above example, we have replaced the missing values from \"Age\" variable with Mean value by using SimpleImputer() \n",
    "  method. Here mean value is 29.2\n",
    "\n",
    "\n",
    "- Here Mean is the average value (the sum of all values divided by number of values).\n",
    "\n",
    "\n",
    "- Here SimpleImputer is a class in the sklearn. impute module that can be used to replace missing values in a dataset, using a \n",
    "  variety of input strategies.\n",
    "  \n",
    "  \n",
    "- Here fit_transform() method : The fit(data) method is used to compute the mean and std dev for a given feature to be used \n",
    "  further for scaling. The transform(data) method is used to perform scaling using mean and std dev calculated using the . \n",
    "  fit() method."
   ]
  },
  {
   "cell_type": "code",
   "execution_count": 15,
   "id": "3824c1fc",
   "metadata": {},
   "outputs": [
    {
     "data": {
      "text/html": [
       "<div>\n",
       "<style scoped>\n",
       "    .dataframe tbody tr th:only-of-type {\n",
       "        vertical-align: middle;\n",
       "    }\n",
       "\n",
       "    .dataframe tbody tr th {\n",
       "        vertical-align: top;\n",
       "    }\n",
       "\n",
       "    .dataframe thead th {\n",
       "        text-align: right;\n",
       "    }\n",
       "</style>\n",
       "<table border=\"1\" class=\"dataframe\">\n",
       "  <thead>\n",
       "    <tr style=\"text-align: right;\">\n",
       "      <th></th>\n",
       "      <th>Age</th>\n",
       "      <th>Gender</th>\n",
       "    </tr>\n",
       "  </thead>\n",
       "  <tbody>\n",
       "    <tr>\n",
       "      <th>0</th>\n",
       "      <td>15.0</td>\n",
       "      <td>Male</td>\n",
       "    </tr>\n",
       "    <tr>\n",
       "      <th>1</th>\n",
       "      <td>25.0</td>\n",
       "      <td>Male</td>\n",
       "    </tr>\n",
       "    <tr>\n",
       "      <th>2</th>\n",
       "      <td>29.2</td>\n",
       "      <td>Female</td>\n",
       "    </tr>\n",
       "    <tr>\n",
       "      <th>3</th>\n",
       "      <td>46.0</td>\n",
       "      <td>Female</td>\n",
       "    </tr>\n",
       "    <tr>\n",
       "      <th>4</th>\n",
       "      <td>34.0</td>\n",
       "      <td>Male</td>\n",
       "    </tr>\n",
       "    <tr>\n",
       "      <th>5</th>\n",
       "      <td>26.0</td>\n",
       "      <td>Male</td>\n",
       "    </tr>\n",
       "  </tbody>\n",
       "</table>\n",
       "</div>"
      ],
      "text/plain": [
       "    Age  Gender\n",
       "0  15.0    Male\n",
       "1  25.0    Male\n",
       "2  29.2  Female\n",
       "3  46.0  Female\n",
       "4  34.0    Male\n",
       "5  26.0    Male"
      ]
     },
     "execution_count": 15,
     "metadata": {},
     "output_type": "execute_result"
    }
   ],
   "source": [
    "'''Replacing the missing values from \"Gender\" variable with \n",
    "   most_frequent (mode) value by using SimpleImputer().'''\n",
    "\n",
    "# importing SimpleImputer from sklearn.impute library.\n",
    "from sklearn.impute import SimpleImputer\n",
    "\n",
    "# Set the mode formula and store it in \"mode_imputer\" object.\n",
    "mode_imputer = SimpleImputer(strategy=\"most_frequent\")\n",
    "\n",
    "'''Replace the missing values from \"Gender\" variable with \n",
    "   most_frequent (mode) value by using SimpleImputer().'''\n",
    "# Pass the \"mode_imputer\" object.\n",
    "df9[\"Gender\"] = mode_imputer.fit_transform(df9[[\"Gender\"]])\n",
    "\n",
    "# Print the dataframe.\n",
    "df9"
   ]
  },
  {
   "cell_type": "markdown",
   "id": "876c5f27",
   "metadata": {},
   "source": [
    "- In the above example, we have replaced the missing values from \"Age\" variable with mode value by using SimpleImputer() \n",
    "  method. Here most_frequent (mode) value is \"Male\".\n",
    "  \n",
    "  \n",
    "- Here most_frequent (mode) is the value that appears most frequently.\n",
    "\n",
    "\n",
    "- Here SimpleImputer is a class in the sklearn. impute module that can be used to replace missing values in a dataset, using a \n",
    "  variety of input strategies.\n",
    "  \n",
    "  \n",
    "- Here fit_transform() method : The fit(data) method is used to compute the mean and std dev for a given feature to be used \n",
    "  further for scaling. The transform(data) method is used to perform scaling using mean and std dev calculated using the . \n",
    "  fit() method."
   ]
  },
  {
   "cell_type": "markdown",
   "id": "79a01108",
   "metadata": {},
   "source": [
    "## 5. Outliers :\n",
    "- An outlier is a data point in a data set that is diatance from all other observations, which is significantly different from \n",
    "  the remaining data. \n",
    "  \n",
    "  \n",
    "- A data point thet lies outside the overall distribution of the dataset.\n",
    "\n",
    "\n",
    "<b> What are the impacts of having outliers in a dataset ?\n",
    "1. It causes various problems during our statistical analysis (It amy cause a significant impact on the mean and the standard deviation). Statistics such as the mean and variance are very suspectable to outliers.\n",
    "    \n",
    "    \n",
    "2. In addition, some machine learning models are sensitive to outliers which may decrease their performance. Thus, depending on which algorithm we wish to train, we often remove outliers from our variables.\n",
    "    \n",
    "    \n",
    "<b> Reasons for Outliers ?\n",
    "1. Data Entry Errors (Ex : Entering salary as 1,00,000 instead of 10,000)\n",
    "2. Measurement Errors (Ex : Measuring in meters instead of KM)\n",
    "3. Instrumental Errors.\n",
    "    \n",
    "    \n",
    "<b> Types of Outliers ?\n",
    "1. Univariate Outliers ----> Identifying Outliers for single variable.\n",
    "2. Bivariate Outliers  ----> Identifying Outliers by analyzing 2 variables at a time.\n",
    "    \n",
    "    \n",
    "<b> There are 3 options (3R Technique) to handle with this Outliers, they are :\n",
    "1. Remove (remove the outliers from our dataset).\n",
    "    \n",
    "    \n",
    "2. Replace the outliers :\n",
    "    \n",
    "    - Rectify or Replace ---> (Data Entry Errors) ---> Ask and confirm it from the Data Engineering Team.\n",
    "    - Replace with Upper limit & Lower limit based on the IQR.\n",
    "    \n",
    "    \n",
    "3. Retain (consider for analysis) ---> Treat them seperately."
   ]
  },
  {
   "cell_type": "markdown",
   "id": "85f83a96",
   "metadata": {},
   "source": [
    "<b> Here we are going to create our own data-set with one column as \"marks\" variable, dataframe name as \"df\"."
   ]
  },
  {
   "cell_type": "code",
   "execution_count": 54,
   "id": "415c0e8b",
   "metadata": {},
   "outputs": [
    {
     "data": {
      "text/html": [
       "<div>\n",
       "<style scoped>\n",
       "    .dataframe tbody tr th:only-of-type {\n",
       "        vertical-align: middle;\n",
       "    }\n",
       "\n",
       "    .dataframe tbody tr th {\n",
       "        vertical-align: top;\n",
       "    }\n",
       "\n",
       "    .dataframe thead th {\n",
       "        text-align: right;\n",
       "    }\n",
       "</style>\n",
       "<table border=\"1\" class=\"dataframe\">\n",
       "  <thead>\n",
       "    <tr style=\"text-align: right;\">\n",
       "      <th></th>\n",
       "      <th>marks</th>\n",
       "    </tr>\n",
       "  </thead>\n",
       "  <tbody>\n",
       "    <tr>\n",
       "      <th>0</th>\n",
       "      <td>10</td>\n",
       "    </tr>\n",
       "    <tr>\n",
       "      <th>1</th>\n",
       "      <td>11</td>\n",
       "    </tr>\n",
       "    <tr>\n",
       "      <th>2</th>\n",
       "      <td>12</td>\n",
       "    </tr>\n",
       "    <tr>\n",
       "      <th>3</th>\n",
       "      <td>25</td>\n",
       "    </tr>\n",
       "    <tr>\n",
       "      <th>4</th>\n",
       "      <td>25</td>\n",
       "    </tr>\n",
       "    <tr>\n",
       "      <th>5</th>\n",
       "      <td>27</td>\n",
       "    </tr>\n",
       "    <tr>\n",
       "      <th>6</th>\n",
       "      <td>31</td>\n",
       "    </tr>\n",
       "    <tr>\n",
       "      <th>7</th>\n",
       "      <td>33</td>\n",
       "    </tr>\n",
       "    <tr>\n",
       "      <th>8</th>\n",
       "      <td>34</td>\n",
       "    </tr>\n",
       "    <tr>\n",
       "      <th>9</th>\n",
       "      <td>34</td>\n",
       "    </tr>\n",
       "    <tr>\n",
       "      <th>10</th>\n",
       "      <td>36</td>\n",
       "    </tr>\n",
       "    <tr>\n",
       "      <th>11</th>\n",
       "      <td>36</td>\n",
       "    </tr>\n",
       "    <tr>\n",
       "      <th>12</th>\n",
       "      <td>43</td>\n",
       "    </tr>\n",
       "    <tr>\n",
       "      <th>13</th>\n",
       "      <td>50</td>\n",
       "    </tr>\n",
       "    <tr>\n",
       "      <th>14</th>\n",
       "      <td>59</td>\n",
       "    </tr>\n",
       "  </tbody>\n",
       "</table>\n",
       "</div>"
      ],
      "text/plain": [
       "    marks\n",
       "0      10\n",
       "1      11\n",
       "2      12\n",
       "3      25\n",
       "4      25\n",
       "5      27\n",
       "6      31\n",
       "7      33\n",
       "8      34\n",
       "9      34\n",
       "10     36\n",
       "11     36\n",
       "12     43\n",
       "13     50\n",
       "14     59"
      ]
     },
     "execution_count": 54,
     "metadata": {},
     "output_type": "execute_result"
    }
   ],
   "source": [
    "# import numpy as np\n",
    "import numpy as np\n",
    "\n",
    "# import pandas as pd\n",
    "import pandas as pd\n",
    "\n",
    "# Create the \"df\" dataframe with one variable as \"marks\".\n",
    "df = pd.DataFrame({\"marks\":[10, 11, 12, 25, 25, 27, 31, 33, 34, 34, 36, 36, 43, 50, 59]})\n",
    "\n",
    "# Print the dataframe.\n",
    "df"
   ]
  },
  {
   "cell_type": "markdown",
   "id": "df07c488",
   "metadata": {},
   "source": [
    "- above we have created \"df\" DataFrame with \"marks\" variable.\n",
    "\n",
    "\n",
    "- Now we are going to find the Outliers. There are various ways to find the outliers, they are :\n",
    "\n",
    "        1. Box Plot\n",
    "        2. IQR\n"
   ]
  },
  {
   "cell_type": "markdown",
   "id": "66516a30",
   "metadata": {},
   "source": [
    "<b> 1. Identifying outliers based on Boxplot."
   ]
  },
  {
   "cell_type": "code",
   "execution_count": 23,
   "id": "9e5bc96a",
   "metadata": {},
   "outputs": [
    {
     "data": {
      "image/png": "[encoded data removed]",
      "text/plain": [
       "<Figure size 640x480 with 1 Axes>"
      ]
     },
     "metadata": {},
     "output_type": "display_data"
    }
   ],
   "source": [
    "# WAPP to identify the outliers based on boxplot().\n",
    "\n",
    "# import pandas as pd\n",
    "import pandas as pd\n",
    "\n",
    "# import matplotlib as plt\n",
    "import matplotlib.pyplot as plt\n",
    "\n",
    "# import seaborn as sns\n",
    "import seaborn as sns\n",
    "\n",
    "# Draw Box Plot.\n",
    "sns.boxplot(x=df[\"marks\"])\n",
    "\n",
    "# Print the Box Plot.\n",
    "plt.show()"
   ]
  },
  {
   "cell_type": "markdown",
   "id": "e0c1f510",
   "metadata": {},
   "source": [
    "- In the above graph, can clearly see that values above 53 are acting as the outliers.\n",
    "\n",
    "\n",
    "- Now we are going to find the position (index number) of the outliers from the \"df\" DataFrame."
   ]
  },
  {
   "cell_type": "code",
   "execution_count": 26,
   "id": "fc0f43c5",
   "metadata": {},
   "outputs": [
    {
     "name": "stdout",
     "output_type": "stream",
     "text": [
      "(array([14], dtype=int64),)\n"
     ]
    }
   ],
   "source": [
    "# Position of the Outlier\n",
    "print(np.where(df['marks']>53))"
   ]
  },
  {
   "cell_type": "markdown",
   "id": "81acceea",
   "metadata": {},
   "source": [
    "- In the above example, we can clearly see that Outlier’s Index. Here index_number=14 is a outlier, i.e. marks=45."
   ]
  },
  {
   "cell_type": "markdown",
   "id": "8b305a2b",
   "metadata": {},
   "source": [
    "<b> 1. Identifying outliers based on IQR."
   ]
  },
  {
   "cell_type": "code",
   "execution_count": 39,
   "id": "b3160ce0",
   "metadata": {},
   "outputs": [
    {
     "name": "stdout",
     "output_type": "stream",
     "text": [
      "Q1: 25.0\n",
      "Q3: 36.0\n",
      "IQR: 11.0\n",
      "lower_limit: 8.5\n",
      "upper_limit: 52.5\n"
     ]
    },
    {
     "data": {
      "text/html": [
       "<div>\n",
       "<style scoped>\n",
       "    .dataframe tbody tr th:only-of-type {\n",
       "        vertical-align: middle;\n",
       "    }\n",
       "\n",
       "    .dataframe tbody tr th {\n",
       "        vertical-align: top;\n",
       "    }\n",
       "\n",
       "    .dataframe thead th {\n",
       "        text-align: right;\n",
       "    }\n",
       "</style>\n",
       "<table border=\"1\" class=\"dataframe\">\n",
       "  <thead>\n",
       "    <tr style=\"text-align: right;\">\n",
       "      <th></th>\n",
       "      <th>marks</th>\n",
       "    </tr>\n",
       "  </thead>\n",
       "  <tbody>\n",
       "    <tr>\n",
       "      <th>14</th>\n",
       "      <td>59</td>\n",
       "    </tr>\n",
       "  </tbody>\n",
       "</table>\n",
       "</div>"
      ],
      "text/plain": [
       "    marks\n",
       "14     59"
      ]
     },
     "execution_count": 39,
     "metadata": {},
     "output_type": "execute_result"
    }
   ],
   "source": [
    "# WAPP to identify the outliers based on IQR.\n",
    "\n",
    "# import numpy as np\n",
    "import numpy as np\n",
    "\n",
    "# import pandas as pd\n",
    "import pandas as pd\n",
    "\n",
    "# Calculate Q1 and print it.\n",
    "Q1 = df[\"marks\"].quantile(0.25)\n",
    "print(\"Q1:\",Q1)\n",
    "\n",
    "# Calculate Q3 and print it.\n",
    "Q3 = df[\"marks\"].quantile(0.75)\n",
    "print(\"Q3:\",Q3)\n",
    "\n",
    "# Calculate IQR and print it.\n",
    "IQR = Q3 - Q1\n",
    "print(\"IQR:\",IQR)\n",
    "\n",
    "# Calculate Lower limit of outlier and print it.\n",
    "lower_limit = Q1 - (IQR * 1.5)\n",
    "print(\"lower_limit:\",lower_limit)\n",
    "\n",
    "# Calculate Upper limit of outlier and print it.\n",
    "upper_limit = Q3 + (IQR * 1.5)\n",
    "print(\"upper_limit:\",upper_limit)\n",
    "\n",
    "# Identify the outliers based on IQR and print it.\n",
    "df[(df[\"marks\"] < lower_limit) | (df[\"marks\"] > upper_limit)]\n"
   ]
  },
  {
   "cell_type": "markdown",
   "id": "bb7155b5",
   "metadata": {},
   "source": [
    "- In the above example, we can clearly see that one Outlier is there with index_number=14 and marks=45.\n",
    "\n",
    "\n",
    "- Here Q1=25.0, Q3=36.0, IQR=11.0, lower_limit=8.5 and upper_limit=52.5"
   ]
  },
  {
   "cell_type": "markdown",
   "id": "f62112c6",
   "metadata": {},
   "source": [
    "<b> Handling the Outliers with option -1 : Remove"
   ]
  },
  {
   "cell_type": "code",
   "execution_count": 42,
   "id": "12792c81",
   "metadata": {},
   "outputs": [
    {
     "data": {
      "text/html": [
       "<div>\n",
       "<style scoped>\n",
       "    .dataframe tbody tr th:only-of-type {\n",
       "        vertical-align: middle;\n",
       "    }\n",
       "\n",
       "    .dataframe tbody tr th {\n",
       "        vertical-align: top;\n",
       "    }\n",
       "\n",
       "    .dataframe thead th {\n",
       "        text-align: right;\n",
       "    }\n",
       "</style>\n",
       "<table border=\"1\" class=\"dataframe\">\n",
       "  <thead>\n",
       "    <tr style=\"text-align: right;\">\n",
       "      <th></th>\n",
       "      <th>marks</th>\n",
       "    </tr>\n",
       "  </thead>\n",
       "  <tbody>\n",
       "    <tr>\n",
       "      <th>0</th>\n",
       "      <td>10</td>\n",
       "    </tr>\n",
       "    <tr>\n",
       "      <th>1</th>\n",
       "      <td>11</td>\n",
       "    </tr>\n",
       "    <tr>\n",
       "      <th>2</th>\n",
       "      <td>12</td>\n",
       "    </tr>\n",
       "    <tr>\n",
       "      <th>3</th>\n",
       "      <td>25</td>\n",
       "    </tr>\n",
       "    <tr>\n",
       "      <th>4</th>\n",
       "      <td>25</td>\n",
       "    </tr>\n",
       "    <tr>\n",
       "      <th>5</th>\n",
       "      <td>27</td>\n",
       "    </tr>\n",
       "    <tr>\n",
       "      <th>6</th>\n",
       "      <td>31</td>\n",
       "    </tr>\n",
       "    <tr>\n",
       "      <th>7</th>\n",
       "      <td>33</td>\n",
       "    </tr>\n",
       "    <tr>\n",
       "      <th>8</th>\n",
       "      <td>34</td>\n",
       "    </tr>\n",
       "    <tr>\n",
       "      <th>9</th>\n",
       "      <td>34</td>\n",
       "    </tr>\n",
       "    <tr>\n",
       "      <th>10</th>\n",
       "      <td>36</td>\n",
       "    </tr>\n",
       "    <tr>\n",
       "      <th>11</th>\n",
       "      <td>36</td>\n",
       "    </tr>\n",
       "    <tr>\n",
       "      <th>12</th>\n",
       "      <td>43</td>\n",
       "    </tr>\n",
       "    <tr>\n",
       "      <th>13</th>\n",
       "      <td>50</td>\n",
       "    </tr>\n",
       "  </tbody>\n",
       "</table>\n",
       "</div>"
      ],
      "text/plain": [
       "    marks\n",
       "0      10\n",
       "1      11\n",
       "2      12\n",
       "3      25\n",
       "4      25\n",
       "5      27\n",
       "6      31\n",
       "7      33\n",
       "8      34\n",
       "9      34\n",
       "10     36\n",
       "11     36\n",
       "12     43\n",
       "13     50"
      ]
     },
     "execution_count": 42,
     "metadata": {},
     "output_type": "execute_result"
    }
   ],
   "source": [
    "# Removing the outliers with drop().\n",
    "df.drop(index=14)"
   ]
  },
  {
   "cell_type": "markdown",
   "id": "506bf72c",
   "metadata": {},
   "source": [
    "- The above code can be used to drop a row from the dataset given the row_indexes to be dropped.\n",
    "\n",
    "\n",
    "- In the above example, we can clearly see that Outliers are removed from the DataFrame.\n",
    "\n",
    "\n",
    "- Here we are not going to store these changes in the original or new dataset, its only display purpose. If you want to store \n",
    "  the changes in the original dataset, pass the inplace=True. If you want to store the changes in the new dataset then assign \n",
    "  the new DataFrame name.\n",
    "  "
   ]
  },
  {
   "cell_type": "markdown",
   "id": "21afe863",
   "metadata": {},
   "source": [
    "<b> Handling the Outliers with option -2 : Replace\n",
    "- Here we are replacing the outliers based on confirmation from the data engineer team / based on research / based on \n",
    "  domain expertise.\n",
    "    \n",
    "    \n",
    "- Here we are replacing the outliers by using feature_engine library, we need to install this library, we have already \n",
    "  installed this library in this jupiter notebook."
   ]
  },
  {
   "cell_type": "code",
   "execution_count": 53,
   "id": "fa9c2430",
   "metadata": {},
   "outputs": [
    {
     "data": {
      "text/html": [
       "<div>\n",
       "<style scoped>\n",
       "    .dataframe tbody tr th:only-of-type {\n",
       "        vertical-align: middle;\n",
       "    }\n",
       "\n",
       "    .dataframe tbody tr th {\n",
       "        vertical-align: top;\n",
       "    }\n",
       "\n",
       "    .dataframe thead th {\n",
       "        text-align: right;\n",
       "    }\n",
       "</style>\n",
       "<table border=\"1\" class=\"dataframe\">\n",
       "  <thead>\n",
       "    <tr style=\"text-align: right;\">\n",
       "      <th></th>\n",
       "      <th>marks</th>\n",
       "    </tr>\n",
       "  </thead>\n",
       "  <tbody>\n",
       "    <tr>\n",
       "      <th>0</th>\n",
       "      <td>10</td>\n",
       "    </tr>\n",
       "    <tr>\n",
       "      <th>1</th>\n",
       "      <td>11</td>\n",
       "    </tr>\n",
       "    <tr>\n",
       "      <th>2</th>\n",
       "      <td>12</td>\n",
       "    </tr>\n",
       "    <tr>\n",
       "      <th>3</th>\n",
       "      <td>25</td>\n",
       "    </tr>\n",
       "    <tr>\n",
       "      <th>4</th>\n",
       "      <td>25</td>\n",
       "    </tr>\n",
       "    <tr>\n",
       "      <th>5</th>\n",
       "      <td>27</td>\n",
       "    </tr>\n",
       "    <tr>\n",
       "      <th>6</th>\n",
       "      <td>31</td>\n",
       "    </tr>\n",
       "    <tr>\n",
       "      <th>7</th>\n",
       "      <td>33</td>\n",
       "    </tr>\n",
       "    <tr>\n",
       "      <th>8</th>\n",
       "      <td>34</td>\n",
       "    </tr>\n",
       "    <tr>\n",
       "      <th>9</th>\n",
       "      <td>34</td>\n",
       "    </tr>\n",
       "    <tr>\n",
       "      <th>10</th>\n",
       "      <td>36</td>\n",
       "    </tr>\n",
       "    <tr>\n",
       "      <th>11</th>\n",
       "      <td>36</td>\n",
       "    </tr>\n",
       "    <tr>\n",
       "      <th>12</th>\n",
       "      <td>43</td>\n",
       "    </tr>\n",
       "    <tr>\n",
       "      <th>13</th>\n",
       "      <td>50</td>\n",
       "    </tr>\n",
       "    <tr>\n",
       "      <th>14</th>\n",
       "      <td>52</td>\n",
       "    </tr>\n",
       "  </tbody>\n",
       "</table>\n",
       "</div>"
      ],
      "text/plain": [
       "    marks\n",
       "0      10\n",
       "1      11\n",
       "2      12\n",
       "3      25\n",
       "4      25\n",
       "5      27\n",
       "6      31\n",
       "7      33\n",
       "8      34\n",
       "9      34\n",
       "10     36\n",
       "11     36\n",
       "12     43\n",
       "13     50\n",
       "14     52"
      ]
     },
     "execution_count": 53,
     "metadata": {},
     "output_type": "execute_result"
    }
   ],
   "source": [
    "# WAPP to replace the outliers based on confirmation by using feature_engine library.\n",
    "\n",
    "# import the feature_engine library.\n",
    "from feature_engine.outliers import ArbitraryOutlierCapper\n",
    "\n",
    "# Calling the ArbitraryOutlierCapper and stored as \"capper\" object.\n",
    "# Pass the capping value for the right tail of the distribution.\n",
    "# Pass the capping value for the left tail of the distribution.\n",
    "capper = ArbitraryOutlierCapper(max_capping_dict = {\"marks\":52},\n",
    "                                min_capping_dict = {\"marks\": 8})\n",
    "\n",
    "# Print the DataFrame.\n",
    "capper.fit_transform(df[[\"marks\"]])"
   ]
  },
  {
   "cell_type": "markdown",
   "id": "5ea398f2",
   "metadata": {},
   "source": [
    "- In the above example, we can see that outliers are replaced as upper_limit_outliers replaced with value=52 and \n",
    "  upper_limit_outliers replaced with value=8.\n",
    "  \n",
    "  \n",
    "- Here ArbitraryOutlierCapper() caps the maximum or minimum values of a variable at an arbitrary value indicated by the user.\n",
    "  The user must provide the maximum or minimum values that will be used to cap each variable in a dictionary {feature:capping \n",
    "  value}.\n",
    "  \n",
    "  \n",
    "- Here max_capping_dict is dictionary containing the user specified capping values for the right tail of the distribution of \n",
    "  each variable (maximum values).\n",
    "  \n",
    "  \n",
    "- Here min_capping_dict is dictionary containing user specified capping values for the left tail of the distribution of each \n",
    "  variable (minimum values).\n",
    "  \n",
    "  \n",
    "- Here fit_transform() method : Fit to the data. Then transform it. \n"
   ]
  },
  {
   "cell_type": "markdown",
   "id": "25b3b72a",
   "metadata": {},
   "source": [
    "<b> Handling the Outliers with option -2 : Replace\n",
    "- Here we are replacing the outliers with Upper limit & Lower limit based on the IQR."
   ]
  },
  {
   "cell_type": "code",
   "execution_count": 60,
   "id": "17997ac9",
   "metadata": {},
   "outputs": [
    {
     "data": {
      "text/html": [
       "<div>\n",
       "<style scoped>\n",
       "    .dataframe tbody tr th:only-of-type {\n",
       "        vertical-align: middle;\n",
       "    }\n",
       "\n",
       "    .dataframe tbody tr th {\n",
       "        vertical-align: top;\n",
       "    }\n",
       "\n",
       "    .dataframe thead th {\n",
       "        text-align: right;\n",
       "    }\n",
       "</style>\n",
       "<table border=\"1\" class=\"dataframe\">\n",
       "  <thead>\n",
       "    <tr style=\"text-align: right;\">\n",
       "      <th></th>\n",
       "      <th>marks</th>\n",
       "    </tr>\n",
       "  </thead>\n",
       "  <tbody>\n",
       "    <tr>\n",
       "      <th>0</th>\n",
       "      <td>10.0</td>\n",
       "    </tr>\n",
       "    <tr>\n",
       "      <th>1</th>\n",
       "      <td>11.0</td>\n",
       "    </tr>\n",
       "    <tr>\n",
       "      <th>2</th>\n",
       "      <td>12.0</td>\n",
       "    </tr>\n",
       "    <tr>\n",
       "      <th>3</th>\n",
       "      <td>25.0</td>\n",
       "    </tr>\n",
       "    <tr>\n",
       "      <th>4</th>\n",
       "      <td>25.0</td>\n",
       "    </tr>\n",
       "    <tr>\n",
       "      <th>5</th>\n",
       "      <td>27.0</td>\n",
       "    </tr>\n",
       "    <tr>\n",
       "      <th>6</th>\n",
       "      <td>31.0</td>\n",
       "    </tr>\n",
       "    <tr>\n",
       "      <th>7</th>\n",
       "      <td>33.0</td>\n",
       "    </tr>\n",
       "    <tr>\n",
       "      <th>8</th>\n",
       "      <td>34.0</td>\n",
       "    </tr>\n",
       "    <tr>\n",
       "      <th>9</th>\n",
       "      <td>34.0</td>\n",
       "    </tr>\n",
       "    <tr>\n",
       "      <th>10</th>\n",
       "      <td>36.0</td>\n",
       "    </tr>\n",
       "    <tr>\n",
       "      <th>11</th>\n",
       "      <td>36.0</td>\n",
       "    </tr>\n",
       "    <tr>\n",
       "      <th>12</th>\n",
       "      <td>43.0</td>\n",
       "    </tr>\n",
       "    <tr>\n",
       "      <th>13</th>\n",
       "      <td>50.0</td>\n",
       "    </tr>\n",
       "    <tr>\n",
       "      <th>14</th>\n",
       "      <td>52.5</td>\n",
       "    </tr>\n",
       "  </tbody>\n",
       "</table>\n",
       "</div>"
      ],
      "text/plain": [
       "    marks\n",
       "0    10.0\n",
       "1    11.0\n",
       "2    12.0\n",
       "3    25.0\n",
       "4    25.0\n",
       "5    27.0\n",
       "6    31.0\n",
       "7    33.0\n",
       "8    34.0\n",
       "9    34.0\n",
       "10   36.0\n",
       "11   36.0\n",
       "12   43.0\n",
       "13   50.0\n",
       "14   52.5"
      ]
     },
     "execution_count": 60,
     "metadata": {},
     "output_type": "execute_result"
    }
   ],
   "source": [
    "# WAPP to replace the outliers based on the IQR by using feature_engine library.\n",
    "\n",
    "# import the feature_engine library.\n",
    "from feature_engine.outliers import Winsorizer\n",
    "\n",
    "# Calling the Winsorizer and stored as \"win\" object.\n",
    "# Pass the capping_method=\"iqr\".\n",
    "# Pass tail=\"both\".\n",
    "# Pass fold=1.5\n",
    "win = Winsorizer(capping_method=\"iqr\", tail=\"both\", fold=1.5)\n",
    "\n",
    "# Print the DataFrame.\n",
    "win.fit_transform(df[[\"marks\"]])"
   ]
  },
  {
   "cell_type": "code",
   "execution_count": 61,
   "id": "960bdcef",
   "metadata": {},
   "outputs": [
    {
     "name": "stdout",
     "output_type": "stream",
     "text": [
      "{'marks': 8.5} {'marks': 52.5}\n"
     ]
    }
   ],
   "source": [
    "# Check the right tail and left tail values of the distribution.\n",
    "print(win.left_tail_caps_, win.right_tail_caps_)"
   ]
  },
  {
   "cell_type": "markdown",
   "id": "ab347920",
   "metadata": {},
   "source": [
    "- In the above example, we can see that outliers are replaced as right tail vaues replaced with 52.5 and left tail vaues \n",
    "  replaced with 8.5\n",
    "  \n",
    "  \n",
    "- Here the Winsorizer() caps maximum and / or minimum values of a variable. The Winsorizer() works only with numerical \n",
    "  variables. A list of variables can be indicated. Alternatively, the Winsorizer() will select all numerical variables in the \n",
    "  train set.\n",
    "  \n",
    "  \n",
    "- Here capping_method='iqr' fold is the value to multiply the IQR.\n",
    "\n",
    "\n",
    "- Here tail : Whether to cap outliers on the right, left or both tails of the distribution. Can take ‘left’, ‘right’ or ‘both’.\n",
    "\n",
    "\n",
    "- Here fold : How far out to to place the capping values. The number that will multiply the std or IQR to calculate the capping values.\n",
    "\n",
    "\n",
    "- Here right_tail_caps_ : Dictionary with the maximum values at which variables will be capped.\n",
    "\n",
    "\n",
    "- Here left_tail_caps_ : Dictionary with the minimum values at which variables will be capped.\n",
    "\n"
   ]
  }
 ],
 "metadata": {
  "kernelspec": {
   "display_name": "Python 3 (ipykernel)",
   "language": "python",
   "name": "python3"
  },
  "language_info": {
   "codemirror_mode": {
    "name": "ipython",
    "version": 3
   },
   "file_extension": ".py",
   "mimetype": "text/x-python",
   "name": "python",
   "nbconvert_exporter": "python",
   "pygments_lexer": "ipython3",
   "version": "3.9.13"
  }
 },
 "nbformat": 4,
 "nbformat_minor": 5
}
